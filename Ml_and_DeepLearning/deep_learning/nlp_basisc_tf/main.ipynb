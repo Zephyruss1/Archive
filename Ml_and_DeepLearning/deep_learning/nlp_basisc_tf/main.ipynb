{
 "cells": [
  {
   "cell_type": "code",
   "execution_count": 45,
   "metadata": {},
   "outputs": [
    {
     "name": "stderr",
     "output_type": "stream",
     "text": [
      "[nltk_data] Downloading package wordnet to\n",
      "[nltk_data]     C:\\Users\\ekber\\AppData\\Roaming\\nltk_data...\n",
      "[nltk_data]   Package wordnet is already up-to-date!\n",
      "[nltk_data] Downloading package stopwords to\n",
      "[nltk_data]     C:\\Users\\ekber\\AppData\\Roaming\\nltk_data...\n",
      "[nltk_data]   Package stopwords is already up-to-date!\n",
      "[nltk_data] Downloading package punkt to\n",
      "[nltk_data]     C:\\Users\\ekber\\AppData\\Roaming\\nltk_data...\n",
      "[nltk_data]   Package punkt is already up-to-date!\n"
     ]
    },
    {
     "data": {
      "text/plain": [
       "True"
      ]
     },
     "execution_count": 45,
     "metadata": {},
     "output_type": "execute_result"
    }
   ],
   "source": [
    "import json\n",
    "import numpy as np\n",
    "import tensorflow as tf \n",
    "import string\n",
    "import re\n",
    "from tensorflow.keras.preprocessing.text import Tokenizer\n",
    "from tensorflow.keras.preprocessing.sequence import pad_sequences\n",
    "import warnings\n",
    "import nlpaug.augmenter.word as naw\n",
    "import nltk\n",
    "from nltk.corpus import stopwords\n",
    "from nltk.tokenize import word_tokenize\n",
    "import nlpaug.flow as naf\n",
    "warnings.filterwarnings('ignore')\n",
    "nltk.download('wordnet')\n",
    "nltk.download('stopwords')\n",
    "nltk.download('punkt')"
   ]
  },
  {
   "cell_type": "code",
   "execution_count": 46,
   "metadata": {},
   "outputs": [],
   "source": [
    "vocab_size    = 10000\n",
    "embedding_dim = 16\n",
    "max_length    = 100\n",
    "trunc_type    = 'post'\n",
    "padding_type  = 'post'\n",
    "oov_tok       = '<OOV>'\n",
    "training_size = 20000"
   ]
  },
  {
   "cell_type": "code",
   "execution_count": 47,
   "metadata": {},
   "outputs": [],
   "source": [
    "sentences = []\n",
    "labels    = []\n",
    "\n",
    "with open('Sarcasm_Headlines_Dataset_v2.json', 'r') as f:\n",
    "    for line in f:\n",
    "        item = json.loads(line)\n",
    "        sentences.append(item['headline'])\n",
    "        labels.append(item['is_sarcastic'])"
   ]
  },
  {
   "cell_type": "code",
   "execution_count": 48,
   "metadata": {},
   "outputs": [],
   "source": [
    "stop_words = set(stopwords.words('english'))\n",
    "\n",
    "cleaned_sentences = []\n",
    "for sentence in sentences:\n",
    "\n",
    "    sentence = sentence.lower()\n",
    "\n",
    "    sentence = sentence.translate(str.maketrans('', '', string.punctuation))\n",
    "\n",
    "    word_tokens = word_tokenize(sentence)\n",
    "    filtered_sentence = [word for word in word_tokens if word not in stop_words]\n",
    "\n",
    "    cleaned_sentence = ' '.join(filtered_sentence)\n",
    "    cleaned_sentences.append(cleaned_sentence)"
   ]
  },
  {
   "cell_type": "code",
   "execution_count": 49,
   "metadata": {},
   "outputs": [],
   "source": [
    "training_sentences = cleaned_sentences[0:training_size]\n",
    "testing_sentences  = cleaned_sentences[training_size:]\n",
    "training_labels    = labels[0:training_size]\n",
    "testing_labels     = labels[training_size:]"
   ]
  },
  {
   "cell_type": "code",
   "execution_count": 50,
   "metadata": {},
   "outputs": [],
   "source": [
    "# aug_synonym = naw.SynonymAug(aug_src='wordnet')\n",
    "\n",
    "# aug_swap = naw.RandomWordAug(action='swap')\n",
    "\n",
    "# aug_deletion = naw.RandomWordAug()\n",
    "\n",
    "\n",
    "# aug_contextual = naw.ContextualWordEmbsAug(\n",
    "#     model_path='distilbert-base-uncased', action='insert'\n",
    "# )\n",
    "\n",
    "# aug_pipeline = naf.Sequential([\n",
    "#     aug_synonym,\n",
    "#     # print(\"Executed aug_synonym\"),\n",
    "#     aug_swap,\n",
    "#     # print(\"Executed aug_swap\"),\n",
    "#     aug_deletion,\n",
    "#     # print(\"Executed aug_deletion\"),\n",
    "#     aug_contextual,\n",
    "#     # print(\"Executed aug_contextual\"),\n",
    "# ])\n",
    "# augmented_sentences = aug_pipeline.augment(training_sentences)\n",
    "# print(training_sentences)\n",
    "# print(augmented_sentences)"
   ]
  },
  {
   "cell_type": "markdown",
   "metadata": {},
   "source": [
    "### WORD2VEC"
   ]
  },
  {
   "cell_type": "code",
   "execution_count": 51,
   "metadata": {},
   "outputs": [],
   "source": [
    "tokenizer = Tokenizer(num_words=vocab_size, oov_token=oov_tok)\n",
    "tokenizer.fit_on_texts(training_sentences)\n",
    "\n",
    "word_index = tokenizer.word_index\n",
    "\n",
    "training_sequences = tokenizer.texts_to_sequences(training_sentences)\n",
    "training_padded = pad_sequences(training_sequences, maxlen=max_length, padding=padding_type, truncating=trunc_type)\n",
    "\n",
    "testing_sequences = tokenizer.texts_to_sequences(testing_sentences)\n",
    "testing_padded = pad_sequences(testing_sequences, maxlen=max_length, padding=padding_type, truncating=trunc_type)"
   ]
  },
  {
   "cell_type": "code",
   "execution_count": 52,
   "metadata": {},
   "outputs": [],
   "source": [
    "training_padded = np.array(training_padded)\n",
    "training_labels = np.array(training_labels)\n",
    "testing_padded = np.array(testing_padded)\n",
    "testing_labels = np.array(testing_labels)"
   ]
  },
  {
   "cell_type": "code",
   "execution_count": 53,
   "metadata": {},
   "outputs": [
    {
     "name": "stdout",
     "output_type": "stream",
     "text": [
      "(20000, 100)\n",
      "(20000,)\n"
     ]
    }
   ],
   "source": [
    "print(training_padded.shape)\n",
    "print(training_labels.shape)"
   ]
  },
  {
   "cell_type": "code",
   "execution_count": 54,
   "metadata": {},
   "outputs": [],
   "source": [
    "from tensorflow.keras.callbacks import EarlyStopping, CSVLogger # type: ignore"
   ]
  },
  {
   "cell_type": "code",
   "execution_count": 55,
   "metadata": {},
   "outputs": [],
   "source": [
    "lstm_units=32\n",
    "model = tf.keras.Sequential([\n",
    "    tf.keras.layers.Embedding(vocab_size, embedding_dim, input_length=max_length),\n",
    "    tf.keras.layers.LSTM(lstm_units, return_sequences=True),\n",
    "    tf.keras.layers.GlobalAveragePooling1D(),\n",
    "    tf.keras.layers.Dropout(0.2),\n",
    "    tf.keras.layers.Dense(24, activation='relu'),\n",
    "    tf.keras.layers.Dense(1, activation='sigmoid')\n",
    "])\n",
    "model.compile(loss='binary_crossentropy', optimizer='RMSprop', metrics=['accuracy'])\n",
    "early_stopping = EarlyStopping(monitor='val_loss', patience=10)\n"
   ]
  },
  {
   "cell_type": "code",
   "execution_count": 56,
   "metadata": {},
   "outputs": [
    {
     "name": "stdout",
     "output_type": "stream",
     "text": [
      "Model: \"sequential_2\"\n",
      "_________________________________________________________________\n",
      " Layer (type)                Output Shape              Param #   \n",
      "=================================================================\n",
      " embedding_2 (Embedding)     (None, 100, 16)           160000    \n",
      "                                                                 \n",
      " lstm_2 (LSTM)               (None, 100, 32)           6272      \n",
      "                                                                 \n",
      " global_average_pooling1d_2  (None, 32)                0         \n",
      "  (GlobalAveragePooling1D)                                       \n",
      "                                                                 \n",
      " dropout_2 (Dropout)         (None, 32)                0         \n",
      "                                                                 \n",
      " dense_4 (Dense)             (None, 24)                792       \n",
      "                                                                 \n",
      " dense_5 (Dense)             (None, 1)                 25        \n",
      "                                                                 \n",
      "=================================================================\n",
      "Total params: 167089 (652.69 KB)\n",
      "Trainable params: 167089 (652.69 KB)\n",
      "Non-trainable params: 0 (0.00 Byte)\n",
      "_________________________________________________________________\n"
     ]
    }
   ],
   "source": [
    "model.summary()"
   ]
  },
  {
   "cell_type": "code",
   "execution_count": 57,
   "metadata": {},
   "outputs": [],
   "source": [
    "tf.keras.callbacks.CSVLogger(\n",
    "    filename='Logger.csv', append=True, separator=','\n",
    ")\n",
    "\n",
    "csv_logger = CSVLogger(\"Logger.csv\")"
   ]
  },
  {
   "cell_type": "code",
   "execution_count": 64,
   "metadata": {},
   "outputs": [
    {
     "name": "stdout",
     "output_type": "stream",
     "text": [
      "Epoch 1/30\n",
      "625/625 [==============================] - 17s 27ms/step - loss: 0.6921 - accuracy: 0.5218 - val_loss: 0.6912 - val_accuracy: 0.5249\n",
      "Epoch 2/30\n",
      "625/625 [==============================] - 16s 25ms/step - loss: 0.6750 - accuracy: 0.5640 - val_loss: 0.6410 - val_accuracy: 0.6210\n",
      "Epoch 3/30\n",
      "625/625 [==============================] - 16s 25ms/step - loss: 0.6054 - accuracy: 0.6565 - val_loss: 0.6531 - val_accuracy: 0.5437\n",
      "Epoch 4/30\n",
      "625/625 [==============================] - 16s 25ms/step - loss: 0.4949 - accuracy: 0.7743 - val_loss: 0.4712 - val_accuracy: 0.7849\n",
      "Epoch 5/30\n",
      "625/625 [==============================] - 22s 35ms/step - loss: 0.3971 - accuracy: 0.8288 - val_loss: 0.4801 - val_accuracy: 0.7956\n",
      "Epoch 6/30\n",
      "625/625 [==============================] - 24s 38ms/step - loss: 0.3603 - accuracy: 0.8456 - val_loss: 0.4367 - val_accuracy: 0.7994\n",
      "Epoch 7/30\n",
      "625/625 [==============================] - 24s 39ms/step - loss: 0.3370 - accuracy: 0.8590 - val_loss: 0.4464 - val_accuracy: 0.7914\n",
      "Epoch 8/30\n",
      "625/625 [==============================] - 24s 38ms/step - loss: 0.3197 - accuracy: 0.8652 - val_loss: 0.4290 - val_accuracy: 0.7966\n",
      "Epoch 9/30\n",
      "625/625 [==============================] - 21s 33ms/step - loss: 0.3025 - accuracy: 0.8759 - val_loss: 0.4501 - val_accuracy: 0.8058\n",
      "Epoch 10/30\n",
      "625/625 [==============================] - 19s 31ms/step - loss: 0.2855 - accuracy: 0.8850 - val_loss: 0.4434 - val_accuracy: 0.8033\n",
      "Epoch 11/30\n",
      "625/625 [==============================] - 18s 29ms/step - loss: 0.2747 - accuracy: 0.8902 - val_loss: 0.4628 - val_accuracy: 0.8044\n",
      "Epoch 12/30\n",
      "625/625 [==============================] - 18s 29ms/step - loss: 0.2675 - accuracy: 0.8956 - val_loss: 0.4320 - val_accuracy: 0.8038\n",
      "Epoch 13/30\n",
      "625/625 [==============================] - 21s 33ms/step - loss: 0.2585 - accuracy: 0.8975 - val_loss: 0.4805 - val_accuracy: 0.7974\n",
      "Epoch 14/30\n",
      "625/625 [==============================] - 21s 34ms/step - loss: 0.2509 - accuracy: 0.9023 - val_loss: 0.4656 - val_accuracy: 0.7873\n",
      "Epoch 15/30\n",
      "625/625 [==============================] - 21s 33ms/step - loss: 0.2446 - accuracy: 0.9026 - val_loss: 0.5040 - val_accuracy: 0.7916\n",
      "Epoch 16/30\n",
      "625/625 [==============================] - 20s 32ms/step - loss: 0.2405 - accuracy: 0.9078 - val_loss: 0.4575 - val_accuracy: 0.7968\n",
      "Epoch 17/30\n",
      "625/625 [==============================] - 19s 31ms/step - loss: 0.2339 - accuracy: 0.9075 - val_loss: 0.4632 - val_accuracy: 0.8016\n",
      "Epoch 18/30\n",
      "625/625 [==============================] - 17s 28ms/step - loss: 0.2295 - accuracy: 0.9108 - val_loss: 0.4841 - val_accuracy: 0.8004\n"
     ]
    }
   ],
   "source": [
    "num_epochs = 30\n",
    "history = model.fit(training_padded, training_labels, epochs=num_epochs, validation_data=(testing_padded, testing_labels), callbacks=[early_stopping, csv_logger])"
   ]
  },
  {
   "cell_type": "code",
   "execution_count": 65,
   "metadata": {},
   "outputs": [],
   "source": [
    "with open('Logger.csv', 'a') as f:\n",
    "    f.write('End Of The Trainning\\n')"
   ]
  },
  {
   "cell_type": "code",
   "execution_count": 66,
   "metadata": {},
   "outputs": [],
   "source": [
    "model.save('checkpoint_1.h5')"
   ]
  },
  {
   "cell_type": "code",
   "execution_count": 67,
   "metadata": {},
   "outputs": [],
   "source": [
    "from sklearn.metrics import confusion_matrix, ConfusionMatrixDisplay"
   ]
  },
  {
   "cell_type": "code",
   "execution_count": 68,
   "metadata": {},
   "outputs": [],
   "source": [
    "import matplotlib.pyplot as plt\n",
    "import os"
   ]
  },
  {
   "cell_type": "code",
   "execution_count": 69,
   "metadata": {},
   "outputs": [
    {
     "name": "stdout",
     "output_type": "stream",
     "text": [
      "  7/270 [..............................] - ETA: 2s"
     ]
    },
    {
     "name": "stdout",
     "output_type": "stream",
     "text": [
      "270/270 [==============================] - 3s 9ms/step\n"
     ]
    },
    {
     "data": {
      "image/png": "[encoded data removed]",
      "text/plain": [
       "<Figure size 640x480 with 2 Axes>"
      ]
     },
     "metadata": {},
     "output_type": "display_data"
    }
   ],
   "source": [
    "predictions = model.predict(testing_padded)\n",
    "binary_predictions = [1 if x > 0.5 else 0 for x in predictions]\n",
    "cm = confusion_matrix(testing_labels, binary_predictions)\n",
    "disp = ConfusionMatrixDisplay(confusion_matrix=cm)\n",
    "disp.plot(cmap=plt.cm.Blues)\n",
    "\n",
    "num_iter = 1 \n",
    "f_name = f'file_{num_iter}.png'\n",
    "if os.path.exists(f_name):\n",
    "    num_iter += 1\n",
    "    f_name = f'file_{num_iter}.png'\n",
    "    \n",
    "plt.savefig(f_name)\n",
    "plt.show()"
   ]
  }
 ],
 "metadata": {
  "kernelspec": {
   "display_name": "Python 3",
   "language": "python",
   "name": "python3"
  },
  "language_info": {
   "codemirror_mode": {
    "name": "ipython",
    "version": 3
   },
   "file_extension": ".py",
   "mimetype": "text/x-python",
   "name": "python",
   "nbconvert_exporter": "python",
   "pygments_lexer": "ipython3",
   "version": "3.11.7"
  }
 },
 "nbformat": 4,
 "nbformat_minor": 2
}
