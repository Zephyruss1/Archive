{
 "cells": [
  {
   "cell_type": "code",
   "execution_count": 146,
   "id": "initial_id",
   "metadata": {
    "collapsed": true,
    "ExecuteTime": {
     "end_time": "2024-02-11T19:06:26.683617900Z",
     "start_time": "2024-02-11T19:06:26.208852500Z"
    }
   },
   "outputs": [],
   "source": [
    "import numpy as np\n",
    "import pandas as pd\n",
    "import matplotlib.pyplot as plt\n",
    "import plotly_express as px\n",
    "import seaborn as sns\n",
    "import tensorflow as tf\n",
    "import warnings\n",
    "warnings.filterwarnings('ignore')"
   ]
  },
  {
   "cell_type": "code",
   "outputs": [
    {
     "data": {
      "text/plain": "     user_id user_sex  user_age user_country  rating  \\\n0          0   female        50      Germany     2.5   \n1          1   female        23        Spain     4.0   \n2          2     male        32       France     3.0   \n3          3   female        24       Turkey     4.5   \n4          4   female        40        Spain     5.0   \n..       ...      ...       ...          ...     ...   \n486      486   female        41      Belgium     2.0   \n487      487   female        30       Turkey     4.0   \n488      488   female        33       Greece     4.5   \n489      489     male        28        Spain     4.0   \n490      490   female        34      Austria     5.0   \n\n                                               comment favourite_character  \\\n0    \"The transitions between scenes were awkward, ...       Severus Snape   \n1     \"Severus Snape's role adds an intriguing layer.\"       Severus Snape   \n2    \"The pacing was a bit slow, but the characters...         Ron Weasley   \n3    \"Hagrid's love for magical creatures is heartw...       Rubeus Hagrid   \n4     \"Neville Longbottom's courage is awe-inspiring.\"  Neville Longbottom   \n..                                                 ...                 ...   \n486  \"The soundtrack failed to enhance the emotiona...    Hermione Granger   \n487  \"I enjoyed the soundtrack and the magical feel...    Hermione Granger   \n488  \"Albus Dumbledore's wisdom resonates with the ...    Albus Dumbledore   \n489          \"The characters' growth is heartwarming.\"    Hermione Granger   \n490  \"The film's exploration of themes like friends...    Albus Dumbledore   \n\n           date  \n0    2004-12-27  \n1    2003-11-22  \n2    2005-09-16  \n3    2002-09-17  \n4    2004-10-17  \n..          ...  \n486  2003-05-22  \n487  2005-03-16  \n488  2003-07-03  \n489  2002-11-10  \n490  2002-05-18  \n\n[491 rows x 8 columns]",
      "text/html": "<div>\n<style scoped>\n    .dataframe tbody tr th:only-of-type {\n        vertical-align: middle;\n    }\n\n    .dataframe tbody tr th {\n        vertical-align: top;\n    }\n\n    .dataframe thead th {\n        text-align: right;\n    }\n</style>\n<table border=\"1\" class=\"dataframe\">\n  <thead>\n    <tr style=\"text-align: right;\">\n      <th></th>\n      <th>user_id</th>\n      <th>user_sex</th>\n      <th>user_age</th>\n      <th>user_country</th>\n      <th>rating</th>\n      <th>comment</th>\n      <th>favourite_character</th>\n      <th>date</th>\n    </tr>\n  </thead>\n  <tbody>\n    <tr>\n      <th>0</th>\n      <td>0</td>\n      <td>female</td>\n      <td>50</td>\n      <td>Germany</td>\n      <td>2.5</td>\n      <td>\"The transitions between scenes were awkward, ...</td>\n      <td>Severus Snape</td>\n      <td>2004-12-27</td>\n    </tr>\n    <tr>\n      <th>1</th>\n      <td>1</td>\n      <td>female</td>\n      <td>23</td>\n      <td>Spain</td>\n      <td>4.0</td>\n      <td>\"Severus Snape's role adds an intriguing layer.\"</td>\n      <td>Severus Snape</td>\n      <td>2003-11-22</td>\n    </tr>\n    <tr>\n      <th>2</th>\n      <td>2</td>\n      <td>male</td>\n      <td>32</td>\n      <td>France</td>\n      <td>3.0</td>\n      <td>\"The pacing was a bit slow, but the characters...</td>\n      <td>Ron Weasley</td>\n      <td>2005-09-16</td>\n    </tr>\n    <tr>\n      <th>3</th>\n      <td>3</td>\n      <td>female</td>\n      <td>24</td>\n      <td>Turkey</td>\n      <td>4.5</td>\n      <td>\"Hagrid's love for magical creatures is heartw...</td>\n      <td>Rubeus Hagrid</td>\n      <td>2002-09-17</td>\n    </tr>\n    <tr>\n      <th>4</th>\n      <td>4</td>\n      <td>female</td>\n      <td>40</td>\n      <td>Spain</td>\n      <td>5.0</td>\n      <td>\"Neville Longbottom's courage is awe-inspiring.\"</td>\n      <td>Neville Longbottom</td>\n      <td>2004-10-17</td>\n    </tr>\n    <tr>\n      <th>...</th>\n      <td>...</td>\n      <td>...</td>\n      <td>...</td>\n      <td>...</td>\n      <td>...</td>\n      <td>...</td>\n      <td>...</td>\n      <td>...</td>\n    </tr>\n    <tr>\n      <th>486</th>\n      <td>486</td>\n      <td>female</td>\n      <td>41</td>\n      <td>Belgium</td>\n      <td>2.0</td>\n      <td>\"The soundtrack failed to enhance the emotiona...</td>\n      <td>Hermione Granger</td>\n      <td>2003-05-22</td>\n    </tr>\n    <tr>\n      <th>487</th>\n      <td>487</td>\n      <td>female</td>\n      <td>30</td>\n      <td>Turkey</td>\n      <td>4.0</td>\n      <td>\"I enjoyed the soundtrack and the magical feel...</td>\n      <td>Hermione Granger</td>\n      <td>2005-03-16</td>\n    </tr>\n    <tr>\n      <th>488</th>\n      <td>488</td>\n      <td>female</td>\n      <td>33</td>\n      <td>Greece</td>\n      <td>4.5</td>\n      <td>\"Albus Dumbledore's wisdom resonates with the ...</td>\n      <td>Albus Dumbledore</td>\n      <td>2003-07-03</td>\n    </tr>\n    <tr>\n      <th>489</th>\n      <td>489</td>\n      <td>male</td>\n      <td>28</td>\n      <td>Spain</td>\n      <td>4.0</td>\n      <td>\"The characters' growth is heartwarming.\"</td>\n      <td>Hermione Granger</td>\n      <td>2002-11-10</td>\n    </tr>\n    <tr>\n      <th>490</th>\n      <td>490</td>\n      <td>female</td>\n      <td>34</td>\n      <td>Austria</td>\n      <td>5.0</td>\n      <td>\"The film's exploration of themes like friends...</td>\n      <td>Albus Dumbledore</td>\n      <td>2002-05-18</td>\n    </tr>\n  </tbody>\n</table>\n<p>491 rows × 8 columns</p>\n</div>"
     },
     "execution_count": 147,
     "metadata": {},
     "output_type": "execute_result"
    }
   ],
   "source": [
    "df = pd.read_csv('harry_potter_reviews.csv')\n",
    "df  "
   ],
   "metadata": {
    "collapsed": false,
    "ExecuteTime": {
     "end_time": "2024-02-11T19:06:26.796864Z",
     "start_time": "2024-02-11T19:06:26.680621200Z"
    }
   },
   "id": "87a0598ca035e",
   "execution_count": 147
  },
  {
   "cell_type": "code",
   "outputs": [
    {
     "name": "stdout",
     "output_type": "stream",
     "text": [
      "<class 'pandas.core.frame.DataFrame'>\n",
      "RangeIndex: 491 entries, 0 to 490\n",
      "Data columns (total 8 columns):\n",
      " #   Column               Non-Null Count  Dtype  \n",
      "---  ------               --------------  -----  \n",
      " 0   user_id              491 non-null    int64  \n",
      " 1   user_sex             491 non-null    object \n",
      " 2   user_age             491 non-null    int64  \n",
      " 3   user_country         491 non-null    object \n",
      " 4   rating               491 non-null    float64\n",
      " 5   comment              491 non-null    object \n",
      " 6   favourite_character  491 non-null    object \n",
      " 7   date                 491 non-null    object \n",
      "dtypes: float64(1), int64(2), object(5)\n",
      "memory usage: 30.8+ KB\n"
     ]
    }
   ],
   "source": [
    "df.info()"
   ],
   "metadata": {
    "collapsed": false,
    "ExecuteTime": {
     "end_time": "2024-02-11T19:06:26.863609100Z",
     "start_time": "2024-02-11T19:06:26.755694100Z"
    }
   },
   "id": "965dd15ea2bae53d",
   "execution_count": 148
  },
  {
   "cell_type": "code",
   "outputs": [
    {
     "name": "stdout",
     "output_type": "stream",
     "text": [
      "Duplicated Data:  0\n"
     ]
    },
    {
     "data": {
      "text/plain": "                     Null Count Null Percentage\nuser_id                       0            0.0%\nuser_sex                      0            0.0%\nuser_age                      0            0.0%\nuser_country                  0            0.0%\nrating                        0            0.0%\ncomment                       0            0.0%\nfavourite_character           0            0.0%\ndate                          0            0.0%",
      "text/html": "<div>\n<style scoped>\n    .dataframe tbody tr th:only-of-type {\n        vertical-align: middle;\n    }\n\n    .dataframe tbody tr th {\n        vertical-align: top;\n    }\n\n    .dataframe thead th {\n        text-align: right;\n    }\n</style>\n<table border=\"1\" class=\"dataframe\">\n  <thead>\n    <tr style=\"text-align: right;\">\n      <th></th>\n      <th>Null Count</th>\n      <th>Null Percentage</th>\n    </tr>\n  </thead>\n  <tbody>\n    <tr>\n      <th>user_id</th>\n      <td>0</td>\n      <td>0.0%</td>\n    </tr>\n    <tr>\n      <th>user_sex</th>\n      <td>0</td>\n      <td>0.0%</td>\n    </tr>\n    <tr>\n      <th>user_age</th>\n      <td>0</td>\n      <td>0.0%</td>\n    </tr>\n    <tr>\n      <th>user_country</th>\n      <td>0</td>\n      <td>0.0%</td>\n    </tr>\n    <tr>\n      <th>rating</th>\n      <td>0</td>\n      <td>0.0%</td>\n    </tr>\n    <tr>\n      <th>comment</th>\n      <td>0</td>\n      <td>0.0%</td>\n    </tr>\n    <tr>\n      <th>favourite_character</th>\n      <td>0</td>\n      <td>0.0%</td>\n    </tr>\n    <tr>\n      <th>date</th>\n      <td>0</td>\n      <td>0.0%</td>\n    </tr>\n  </tbody>\n</table>\n</div>"
     },
     "execution_count": 149,
     "metadata": {},
     "output_type": "execute_result"
    }
   ],
   "source": [
    "def show_null_data(data):\n",
    "    null_count = data.isna().sum()\n",
    "    null_percent = data.isna().sum() / len(data)\n",
    "    null_percent = null_percent.apply(lambda x: f\"{x:.1%}\")\n",
    "    print(\"Duplicated Data: \", data.duplicated().sum())\n",
    "    result = pd.concat([null_count, null_percent], axis=1)\n",
    "    result.columns = (['Null Count', 'Null Percentage'])\n",
    "    return result\n",
    "show_null_data(df)"
   ],
   "metadata": {
    "collapsed": false,
    "ExecuteTime": {
     "end_time": "2024-02-11T19:06:27.193298600Z",
     "start_time": "2024-02-11T19:06:26.854086Z"
    }
   },
   "id": "c145a1d87ad4b9de",
   "execution_count": 149
  },
  {
   "cell_type": "code",
   "outputs": [
    {
     "data": {
      "text/plain": "43     \"Severus Snape's complexity adds depth to the ...\n45     \"Hagrid's love for magical creatures is heartw...\n51     \"The pacing dragged, and the visual effects we...\n65     \"Severus Snape's complexity adds depth to the ...\n106    \"The transitions between scenes felt forced, a...\n110    \"Hagrid's love for magical creatures is heartw...\n121    \"The soundtrack failed to capture the magic of...\n133    \"Hermione Granger's intelligence feels exagger...\n137    \"Rubeus Hagrid's love for magical creatures is...\n146    \"Albus Dumbledore's presence feels forced and ...\n155    \"The film's production design lacks attention ...\n165    \"Hagrid's love for magical creatures is heartw...\n181    \"Draco Malfoy's character development is impre...\n233    \"Draco Malfoy's cunning adds a layer of suspen...\n234    \"The visual effects were lackluster, and the p...\n242    \"Draco Malfoy's character lacks depth and comp...\n251    \"The magical world is brought to life with stu...\n258    \"The visual effects were outdated, and the pac...\n261    \"Severus Snape's complexity adds depth to the ...\n279    \"The production design lacks creativity and im...\n290    \"Hagrid's character feels like a caricature ra...\n291       \"Ron Weasley's humor adds a delightful touch.\"\n295    \"Ron Weasley's humor adds a light-hearted touch.\"\n306    \"Severus Snape's role is overshadowed and forg...\n324    \"The character development was lacking, and th...\n326    \"Draco Malfoy's cunning lacks the subtlety nee...\n334    \"Ron Weasley's humor becomes repetitive and st...\n345    \"Draco Malfoy's character lacked nuance, and t...\n346    \"Draco Malfoy's cunning nature added tension t...\n353    \"The film's tone fails to capture the magic of...\n357    \"The magical world feels both familiar and won...\n358    \"The film's production design is a visual feast.\"\n361    \"Neville Longbottom's growth feels rushed and ...\n365    \"Albus Dumbledore's wisdom feels clichéd and u...\n369                \"A must-watch for any fantasy lover.\"\n371    \"The cultural references feel forced and out o...\n378    \"Neville Longbottom's bravery is overshadowed ...\n379    \"The film's tone fails to capture the essence ...\n386    \"Neville Longbottom's growth is a joy to witne...\n401         \"Albus Dumbledore's presence adds gravitas.\"\n402           \"The characters' chemistry is delightful.\"\n405    \"The magical world seemed artificial, and the ...\n407    \"The cultural references add depth and relevan...\n416    \"The magical world feels uninspired and generic.\"\n431    \"The characters' chemistry feels forced and un...\n433    \"The montage sequences were poorly edited, dis...\n437    \"The cultural references feel out of touch and...\n440    \"The cultural references feel forced and out o...\n442    \"Hagrid's love for magical creatures becomes a...\n445    \"The film's tone captures the magic of the wiz...\n449    \"The magical world lacks the depth and complex...\n459    \"Severus Snape's character lacks a clear motive.\"\n465    \"The character interactions felt forced, and t...\n468    \"Draco Malfoy's character adds the perfect amo...\n476    \"Hermione Granger's intelligence shines bright...\n480        \"The magical world feels rich and immersive.\"\n482    \"Neville Longbottom's bravery stole the show f...\nName: comment, dtype: object"
     },
     "execution_count": 150,
     "metadata": {},
     "output_type": "execute_result"
    }
   ],
   "source": [
    "df.comment[df.comment.duplicated()]"
   ],
   "metadata": {
    "collapsed": false,
    "ExecuteTime": {
     "end_time": "2024-02-11T19:06:27.409235700Z",
     "start_time": "2024-02-11T19:06:27.051981200Z"
    }
   },
   "id": "e710d1f9a199e989",
   "execution_count": 150
  },
  {
   "cell_type": "markdown",
   "source": [
    "### Great there is no missing data."
   ],
   "metadata": {
    "collapsed": false
   },
   "id": "991d2f8bea041f1f"
  },
  {
   "cell_type": "code",
   "outputs": [
    {
     "data": {
      "text/plain": "0     2004-12-27\n1     2003-11-22\n2     2005-09-16\n3     2002-09-17\n4     2004-10-17\n         ...    \n486   2003-05-22\n487   2005-03-16\n488   2003-07-03\n489   2002-11-10\n490   2002-05-18\nName: datetime, Length: 491, dtype: datetime64[ns]"
     },
     "execution_count": 151,
     "metadata": {},
     "output_type": "execute_result"
    }
   ],
   "source": [
    "df['datetime'] = pd.to_datetime(df['date'], format='%Y-%m-%d')\n",
    "df['datetime']"
   ],
   "metadata": {
    "collapsed": false,
    "ExecuteTime": {
     "end_time": "2024-02-11T19:06:27.938617700Z",
     "start_time": "2024-02-11T19:06:27.365229500Z"
    }
   },
   "id": "746c3189da72f877",
   "execution_count": 151
  },
  {
   "cell_type": "code",
   "outputs": [],
   "source": [
    "df.set_index(df['datetime'], inplace=True)\n",
    "df.drop(['datetime', 'date'], axis=1, inplace=True)"
   ],
   "metadata": {
    "collapsed": false,
    "ExecuteTime": {
     "end_time": "2024-02-11T19:06:28.129317500Z",
     "start_time": "2024-02-11T19:06:27.943616600Z"
    }
   },
   "id": "41216111621e66b3",
   "execution_count": 152
  },
  {
   "cell_type": "code",
   "outputs": [
    {
     "data": {
      "text/plain": "            user_id user_sex  user_age user_country  rating  \\\ndatetime                                                      \n2004-12-27        0   female        50      Germany     2.5   \n2003-11-22        1   female        23        Spain     4.0   \n2005-09-16        2     male        32       France     3.0   \n2002-09-17        3   female        24       Turkey     4.5   \n2004-10-17        4   female        40        Spain     5.0   \n...             ...      ...       ...          ...     ...   \n2003-05-22      486   female        41      Belgium     2.0   \n2005-03-16      487   female        30       Turkey     4.0   \n2003-07-03      488   female        33       Greece     4.5   \n2002-11-10      489     male        28        Spain     4.0   \n2002-05-18      490   female        34      Austria     5.0   \n\n                                                      comment  \\\ndatetime                                                        \n2004-12-27  \"The transitions between scenes were awkward, ...   \n2003-11-22   \"Severus Snape's role adds an intriguing layer.\"   \n2005-09-16  \"The pacing was a bit slow, but the characters...   \n2002-09-17  \"Hagrid's love for magical creatures is heartw...   \n2004-10-17   \"Neville Longbottom's courage is awe-inspiring.\"   \n...                                                       ...   \n2003-05-22  \"The soundtrack failed to enhance the emotiona...   \n2005-03-16  \"I enjoyed the soundtrack and the magical feel...   \n2003-07-03  \"Albus Dumbledore's wisdom resonates with the ...   \n2002-11-10          \"The characters' growth is heartwarming.\"   \n2002-05-18  \"The film's exploration of themes like friends...   \n\n           favourite_character  \ndatetime                        \n2004-12-27       Severus Snape  \n2003-11-22       Severus Snape  \n2005-09-16         Ron Weasley  \n2002-09-17       Rubeus Hagrid  \n2004-10-17  Neville Longbottom  \n...                        ...  \n2003-05-22    Hermione Granger  \n2005-03-16    Hermione Granger  \n2003-07-03    Albus Dumbledore  \n2002-11-10    Hermione Granger  \n2002-05-18    Albus Dumbledore  \n\n[491 rows x 7 columns]",
      "text/html": "<div>\n<style scoped>\n    .dataframe tbody tr th:only-of-type {\n        vertical-align: middle;\n    }\n\n    .dataframe tbody tr th {\n        vertical-align: top;\n    }\n\n    .dataframe thead th {\n        text-align: right;\n    }\n</style>\n<table border=\"1\" class=\"dataframe\">\n  <thead>\n    <tr style=\"text-align: right;\">\n      <th></th>\n      <th>user_id</th>\n      <th>user_sex</th>\n      <th>user_age</th>\n      <th>user_country</th>\n      <th>rating</th>\n      <th>comment</th>\n      <th>favourite_character</th>\n    </tr>\n    <tr>\n      <th>datetime</th>\n      <th></th>\n      <th></th>\n      <th></th>\n      <th></th>\n      <th></th>\n      <th></th>\n      <th></th>\n    </tr>\n  </thead>\n  <tbody>\n    <tr>\n      <th>2004-12-27</th>\n      <td>0</td>\n      <td>female</td>\n      <td>50</td>\n      <td>Germany</td>\n      <td>2.5</td>\n      <td>\"The transitions between scenes were awkward, ...</td>\n      <td>Severus Snape</td>\n    </tr>\n    <tr>\n      <th>2003-11-22</th>\n      <td>1</td>\n      <td>female</td>\n      <td>23</td>\n      <td>Spain</td>\n      <td>4.0</td>\n      <td>\"Severus Snape's role adds an intriguing layer.\"</td>\n      <td>Severus Snape</td>\n    </tr>\n    <tr>\n      <th>2005-09-16</th>\n      <td>2</td>\n      <td>male</td>\n      <td>32</td>\n      <td>France</td>\n      <td>3.0</td>\n      <td>\"The pacing was a bit slow, but the characters...</td>\n      <td>Ron Weasley</td>\n    </tr>\n    <tr>\n      <th>2002-09-17</th>\n      <td>3</td>\n      <td>female</td>\n      <td>24</td>\n      <td>Turkey</td>\n      <td>4.5</td>\n      <td>\"Hagrid's love for magical creatures is heartw...</td>\n      <td>Rubeus Hagrid</td>\n    </tr>\n    <tr>\n      <th>2004-10-17</th>\n      <td>4</td>\n      <td>female</td>\n      <td>40</td>\n      <td>Spain</td>\n      <td>5.0</td>\n      <td>\"Neville Longbottom's courage is awe-inspiring.\"</td>\n      <td>Neville Longbottom</td>\n    </tr>\n    <tr>\n      <th>...</th>\n      <td>...</td>\n      <td>...</td>\n      <td>...</td>\n      <td>...</td>\n      <td>...</td>\n      <td>...</td>\n      <td>...</td>\n    </tr>\n    <tr>\n      <th>2003-05-22</th>\n      <td>486</td>\n      <td>female</td>\n      <td>41</td>\n      <td>Belgium</td>\n      <td>2.0</td>\n      <td>\"The soundtrack failed to enhance the emotiona...</td>\n      <td>Hermione Granger</td>\n    </tr>\n    <tr>\n      <th>2005-03-16</th>\n      <td>487</td>\n      <td>female</td>\n      <td>30</td>\n      <td>Turkey</td>\n      <td>4.0</td>\n      <td>\"I enjoyed the soundtrack and the magical feel...</td>\n      <td>Hermione Granger</td>\n    </tr>\n    <tr>\n      <th>2003-07-03</th>\n      <td>488</td>\n      <td>female</td>\n      <td>33</td>\n      <td>Greece</td>\n      <td>4.5</td>\n      <td>\"Albus Dumbledore's wisdom resonates with the ...</td>\n      <td>Albus Dumbledore</td>\n    </tr>\n    <tr>\n      <th>2002-11-10</th>\n      <td>489</td>\n      <td>male</td>\n      <td>28</td>\n      <td>Spain</td>\n      <td>4.0</td>\n      <td>\"The characters' growth is heartwarming.\"</td>\n      <td>Hermione Granger</td>\n    </tr>\n    <tr>\n      <th>2002-05-18</th>\n      <td>490</td>\n      <td>female</td>\n      <td>34</td>\n      <td>Austria</td>\n      <td>5.0</td>\n      <td>\"The film's exploration of themes like friends...</td>\n      <td>Albus Dumbledore</td>\n    </tr>\n  </tbody>\n</table>\n<p>491 rows × 7 columns</p>\n</div>"
     },
     "execution_count": 153,
     "metadata": {},
     "output_type": "execute_result"
    }
   ],
   "source": [
    "df"
   ],
   "metadata": {
    "collapsed": false,
    "ExecuteTime": {
     "end_time": "2024-02-11T19:06:28.545132900Z",
     "start_time": "2024-02-11T19:06:28.090344300Z"
    }
   },
   "id": "15996e4027d3a3f8",
   "execution_count": 153
  },
  {
   "cell_type": "code",
   "outputs": [
    {
     "data": {
      "text/plain": "            user_id user_sex  user_age user_country  rating  \\\ndatetime                                                      \n2002-09-17        3   female        24       Turkey     4.5   \n2005-12-02        9   female        46       Turkey     4.5   \n2003-11-25       27   female        50       Turkey     5.0   \n2002-07-13       30   female        47       Turkey     5.0   \n2005-05-30       45     male        35       Turkey     4.0   \n2004-06-26       51   female        25       Turkey     2.0   \n2005-07-10       55    other        26       Turkey     5.0   \n2004-07-11       66     male        19       Turkey     4.5   \n2002-11-10       67     male        52       Turkey     4.5   \n2004-10-25       77     male        33       Turkey     2.5   \n2005-11-14       81     male        23       Turkey     2.0   \n2005-11-01      119     male        23       Turkey     4.5   \n2005-11-12      137     male        44       Turkey     4.5   \n2004-10-21      144   female        20       Turkey     5.0   \n2002-09-17      149   female        18       Turkey     4.5   \n2005-08-02      151     male        33       Turkey     3.0   \n2005-11-10      172   female        33       Turkey     4.0   \n2005-04-15      174   female        27       Turkey     2.5   \n2005-01-10      179   female        39       Turkey     4.0   \n2002-12-21      191    other        30       Turkey     5.0   \n2004-07-05      192     male        41       Turkey     5.0   \n2003-09-10      195   female        44       Turkey     2.0   \n2005-12-24      196    other        26       Turkey     2.5   \n2003-01-03      202    other        27       Turkey     4.0   \n2002-04-24      235     male        34       Turkey     4.5   \n2005-12-22      250     male        45       Turkey     4.0   \n2002-01-20      253     male        26       Turkey     5.0   \n2004-06-22      283   female        58       Turkey     2.0   \n2004-10-10      320     male        53       Turkey     4.5   \n2002-11-10      321     male        32       Turkey     4.5   \n2004-10-17      327    other        17       Turkey     5.0   \n2003-05-04      336     male        45       Turkey     2.5   \n2004-02-21      345     male        28       Turkey     2.0   \n2005-11-13      349   female        33       Turkey     3.5   \n2004-05-06      351   female        40       Turkey     3.0   \n2005-07-29      363     male        25       Turkey     4.0   \n2002-04-24      371   female        29       Turkey     2.5   \n2004-11-23      386     male        38       Turkey     5.0   \n2002-07-31      406     male        40       Turkey     4.5   \n2004-04-29      407     male        56       Turkey     3.5   \n2002-03-27      411   female        43       Turkey     2.5   \n2003-12-18      412     male        30       Turkey     2.0   \n2002-01-05      428     male        39       Turkey     4.5   \n2004-04-25      440    other        14       Turkey     2.5   \n2004-06-03      449     male        14       Turkey     3.0   \n2005-01-05      450     male        16       Turkey     5.0   \n2003-11-22      451   female        43       Turkey     5.0   \n2003-08-21      456     male        28       Turkey     4.5   \n2002-01-27      483   female        30       Turkey     5.0   \n2005-03-16      487   female        30       Turkey     4.0   \n\n                                                      comment  \\\ndatetime                                                        \n2002-09-17  \"Hagrid's love for magical creatures is heartw...   \n2005-12-02   \"Hermione Granger's determination is inspiring.\"   \n2003-11-25  \"The soundtrack is a masterpiece, enhancing th...   \n2002-07-13         \"Spellbinding performances from the cast.\"   \n2005-05-30  \"Hagrid's love for magical creatures is heartw...   \n2004-06-26  \"The pacing dragged, and the visual effects we...   \n2005-07-10            \"The trio's chemistry is heartwarming.\"   \n2004-07-11  \"Draco Malfoy's character development is well-...   \n2002-11-10  \"Albus Dumbledore's philosophical dialogues re...   \n2004-10-25  \"Albus Dumbledore's presence feels forced and ...   \n2005-11-14  \"Hermione Granger's intelligence feels exagger...   \n2005-11-01  \"A captivating journey into the world of wizar...   \n2005-11-12  \"Rubeus Hagrid's love for magical creatures is...   \n2004-10-21      \"Incredible storytelling and cinematography.\"   \n2002-09-17   \"Severus Snape's mysterious aura adds intrigue.\"   \n2005-08-02  \"The magical world didn't feel convincing, and...   \n2005-11-10  \"Neville's bravery steals the spotlight in thi...   \n2005-04-15  \"The magical world lacks the sense of wonder i...   \n2005-01-10  \"The cinematography enhances the magical atmos...   \n2002-12-21       \"Neville Longbottom's bravery is inspiring.\"   \n2004-07-05  \"The soundtrack perfectly complemented the mag...   \n2003-09-10  \"Hagrid's love for magical creatures becomes a...   \n2005-12-24  \"The transitions between scenes were jarring, ...   \n2003-01-03  \"Draco Malfoy's cunning adds a layer of suspen...   \n2002-04-24  \"The pacing was just right, keeping me engaged...   \n2005-12-22  \"Ron's humor adds a delightful touch to the ov...   \n2002-01-20  \"The soundtrack perfectly complements the magi...   \n2004-06-22  \"Draco Malfoy's character lacked nuance, and t...   \n2004-10-10        \"The plot is filled with twists and turns.\"   \n2002-11-10               \"Enjoyed the plot twists and turns.\"   \n2004-10-17  \"Neville Longbottom's transformation is incred...   \n2003-05-04  \"The film's length drags on, losing the audien...   \n2004-02-21  \"Draco Malfoy's character lacked nuance, and t...   \n2005-11-13  \"The film's twists are well-crafted, leaving t...   \n2004-05-06  \"The film's tone fails to capture the essence ...   \n2005-07-29  \"Neville Longbottom's courage and growth are p...   \n2002-04-24  \"The cultural references feel forced and out o...   \n2004-11-23  \"Neville Longbottom's growth is a joy to witne...   \n2002-07-31       \"Neville Longbottom's bravery is admirable.\"   \n2004-04-29  \"The cultural references add depth and relevan...   \n2002-03-27  \"The special effects are subpar and take away ...   \n2003-12-18  \"The adaptation deviates too much from the sou...   \n2002-01-05  \"The setting at Hogwarts feels like a second h...   \n2004-04-25  \"The cultural references feel forced and out o...   \n2004-06-03  \"The magical world lacks the depth and complex...   \n2005-01-05  \"Neville Longbottom's character development is...   \n2003-11-22        \"Neville Longbottom's growth is inspiring.\"   \n2003-08-21  \"The pacing kept me on the edge of my seat thr...   \n2002-01-27  \"The timeless soundtrack captured the essence ...   \n2005-03-16  \"I enjoyed the soundtrack and the magical feel...   \n\n           favourite_character  \ndatetime                        \n2002-09-17       Rubeus Hagrid  \n2005-12-02    Hermione Granger  \n2003-11-25    Hermione Granger  \n2002-07-13    Hermione Granger  \n2005-05-30       Rubeus Hagrid  \n2004-06-26         Ron Weasley  \n2005-07-10    Hermione Granger  \n2004-07-11        Draco Malfoy  \n2002-11-10    Albus Dumbledore  \n2004-10-25    Albus Dumbledore  \n2005-11-14    Hermione Granger  \n2005-11-01        Harry Potter  \n2005-11-12       Rubeus Hagrid  \n2004-10-21    Albus Dumbledore  \n2002-09-17       Severus Snape  \n2005-08-02       Severus Snape  \n2005-11-10  Neville Longbottom  \n2005-04-15       Rubeus Hagrid  \n2005-01-10        Harry Potter  \n2002-12-21  Neville Longbottom  \n2004-07-05    Hermione Granger  \n2003-09-10       Rubeus Hagrid  \n2005-12-24    Albus Dumbledore  \n2003-01-03        Draco Malfoy  \n2002-04-24         Ron Weasley  \n2005-12-22         Ron Weasley  \n2002-01-20    Albus Dumbledore  \n2004-06-22        Draco Malfoy  \n2004-10-10         Ron Weasley  \n2002-11-10         Ron Weasley  \n2004-10-17  Neville Longbottom  \n2003-05-04        Harry Potter  \n2004-02-21        Draco Malfoy  \n2005-11-13    Hermione Granger  \n2004-05-06         Ron Weasley  \n2005-07-29  Neville Longbottom  \n2002-04-24         Ron Weasley  \n2004-11-23  Neville Longbottom  \n2002-07-31  Neville Longbottom  \n2004-04-29         Ron Weasley  \n2002-03-27       Rubeus Hagrid  \n2003-12-18    Hermione Granger  \n2002-01-05       Rubeus Hagrid  \n2004-04-25         Ron Weasley  \n2004-06-03        Harry Potter  \n2005-01-05  Neville Longbottom  \n2003-11-22  Neville Longbottom  \n2003-08-21         Ron Weasley  \n2002-01-27    Hermione Granger  \n2005-03-16    Hermione Granger  ",
      "text/html": "<div>\n<style scoped>\n    .dataframe tbody tr th:only-of-type {\n        vertical-align: middle;\n    }\n\n    .dataframe tbody tr th {\n        vertical-align: top;\n    }\n\n    .dataframe thead th {\n        text-align: right;\n    }\n</style>\n<table border=\"1\" class=\"dataframe\">\n  <thead>\n    <tr style=\"text-align: right;\">\n      <th></th>\n      <th>user_id</th>\n      <th>user_sex</th>\n      <th>user_age</th>\n      <th>user_country</th>\n      <th>rating</th>\n      <th>comment</th>\n      <th>favourite_character</th>\n    </tr>\n    <tr>\n      <th>datetime</th>\n      <th></th>\n      <th></th>\n      <th></th>\n      <th></th>\n      <th></th>\n      <th></th>\n      <th></th>\n    </tr>\n  </thead>\n  <tbody>\n    <tr>\n      <th>2002-09-17</th>\n      <td>3</td>\n      <td>female</td>\n      <td>24</td>\n      <td>Turkey</td>\n      <td>4.5</td>\n      <td>\"Hagrid's love for magical creatures is heartw...</td>\n      <td>Rubeus Hagrid</td>\n    </tr>\n    <tr>\n      <th>2005-12-02</th>\n      <td>9</td>\n      <td>female</td>\n      <td>46</td>\n      <td>Turkey</td>\n      <td>4.5</td>\n      <td>\"Hermione Granger's determination is inspiring.\"</td>\n      <td>Hermione Granger</td>\n    </tr>\n    <tr>\n      <th>2003-11-25</th>\n      <td>27</td>\n      <td>female</td>\n      <td>50</td>\n      <td>Turkey</td>\n      <td>5.0</td>\n      <td>\"The soundtrack is a masterpiece, enhancing th...</td>\n      <td>Hermione Granger</td>\n    </tr>\n    <tr>\n      <th>2002-07-13</th>\n      <td>30</td>\n      <td>female</td>\n      <td>47</td>\n      <td>Turkey</td>\n      <td>5.0</td>\n      <td>\"Spellbinding performances from the cast.\"</td>\n      <td>Hermione Granger</td>\n    </tr>\n    <tr>\n      <th>2005-05-30</th>\n      <td>45</td>\n      <td>male</td>\n      <td>35</td>\n      <td>Turkey</td>\n      <td>4.0</td>\n      <td>\"Hagrid's love for magical creatures is heartw...</td>\n      <td>Rubeus Hagrid</td>\n    </tr>\n    <tr>\n      <th>2004-06-26</th>\n      <td>51</td>\n      <td>female</td>\n      <td>25</td>\n      <td>Turkey</td>\n      <td>2.0</td>\n      <td>\"The pacing dragged, and the visual effects we...</td>\n      <td>Ron Weasley</td>\n    </tr>\n    <tr>\n      <th>2005-07-10</th>\n      <td>55</td>\n      <td>other</td>\n      <td>26</td>\n      <td>Turkey</td>\n      <td>5.0</td>\n      <td>\"The trio's chemistry is heartwarming.\"</td>\n      <td>Hermione Granger</td>\n    </tr>\n    <tr>\n      <th>2004-07-11</th>\n      <td>66</td>\n      <td>male</td>\n      <td>19</td>\n      <td>Turkey</td>\n      <td>4.5</td>\n      <td>\"Draco Malfoy's character development is well-...</td>\n      <td>Draco Malfoy</td>\n    </tr>\n    <tr>\n      <th>2002-11-10</th>\n      <td>67</td>\n      <td>male</td>\n      <td>52</td>\n      <td>Turkey</td>\n      <td>4.5</td>\n      <td>\"Albus Dumbledore's philosophical dialogues re...</td>\n      <td>Albus Dumbledore</td>\n    </tr>\n    <tr>\n      <th>2004-10-25</th>\n      <td>77</td>\n      <td>male</td>\n      <td>33</td>\n      <td>Turkey</td>\n      <td>2.5</td>\n      <td>\"Albus Dumbledore's presence feels forced and ...</td>\n      <td>Albus Dumbledore</td>\n    </tr>\n    <tr>\n      <th>2005-11-14</th>\n      <td>81</td>\n      <td>male</td>\n      <td>23</td>\n      <td>Turkey</td>\n      <td>2.0</td>\n      <td>\"Hermione Granger's intelligence feels exagger...</td>\n      <td>Hermione Granger</td>\n    </tr>\n    <tr>\n      <th>2005-11-01</th>\n      <td>119</td>\n      <td>male</td>\n      <td>23</td>\n      <td>Turkey</td>\n      <td>4.5</td>\n      <td>\"A captivating journey into the world of wizar...</td>\n      <td>Harry Potter</td>\n    </tr>\n    <tr>\n      <th>2005-11-12</th>\n      <td>137</td>\n      <td>male</td>\n      <td>44</td>\n      <td>Turkey</td>\n      <td>4.5</td>\n      <td>\"Rubeus Hagrid's love for magical creatures is...</td>\n      <td>Rubeus Hagrid</td>\n    </tr>\n    <tr>\n      <th>2004-10-21</th>\n      <td>144</td>\n      <td>female</td>\n      <td>20</td>\n      <td>Turkey</td>\n      <td>5.0</td>\n      <td>\"Incredible storytelling and cinematography.\"</td>\n      <td>Albus Dumbledore</td>\n    </tr>\n    <tr>\n      <th>2002-09-17</th>\n      <td>149</td>\n      <td>female</td>\n      <td>18</td>\n      <td>Turkey</td>\n      <td>4.5</td>\n      <td>\"Severus Snape's mysterious aura adds intrigue.\"</td>\n      <td>Severus Snape</td>\n    </tr>\n    <tr>\n      <th>2005-08-02</th>\n      <td>151</td>\n      <td>male</td>\n      <td>33</td>\n      <td>Turkey</td>\n      <td>3.0</td>\n      <td>\"The magical world didn't feel convincing, and...</td>\n      <td>Severus Snape</td>\n    </tr>\n    <tr>\n      <th>2005-11-10</th>\n      <td>172</td>\n      <td>female</td>\n      <td>33</td>\n      <td>Turkey</td>\n      <td>4.0</td>\n      <td>\"Neville's bravery steals the spotlight in thi...</td>\n      <td>Neville Longbottom</td>\n    </tr>\n    <tr>\n      <th>2005-04-15</th>\n      <td>174</td>\n      <td>female</td>\n      <td>27</td>\n      <td>Turkey</td>\n      <td>2.5</td>\n      <td>\"The magical world lacks the sense of wonder i...</td>\n      <td>Rubeus Hagrid</td>\n    </tr>\n    <tr>\n      <th>2005-01-10</th>\n      <td>179</td>\n      <td>female</td>\n      <td>39</td>\n      <td>Turkey</td>\n      <td>4.0</td>\n      <td>\"The cinematography enhances the magical atmos...</td>\n      <td>Harry Potter</td>\n    </tr>\n    <tr>\n      <th>2002-12-21</th>\n      <td>191</td>\n      <td>other</td>\n      <td>30</td>\n      <td>Turkey</td>\n      <td>5.0</td>\n      <td>\"Neville Longbottom's bravery is inspiring.\"</td>\n      <td>Neville Longbottom</td>\n    </tr>\n    <tr>\n      <th>2004-07-05</th>\n      <td>192</td>\n      <td>male</td>\n      <td>41</td>\n      <td>Turkey</td>\n      <td>5.0</td>\n      <td>\"The soundtrack perfectly complemented the mag...</td>\n      <td>Hermione Granger</td>\n    </tr>\n    <tr>\n      <th>2003-09-10</th>\n      <td>195</td>\n      <td>female</td>\n      <td>44</td>\n      <td>Turkey</td>\n      <td>2.0</td>\n      <td>\"Hagrid's love for magical creatures becomes a...</td>\n      <td>Rubeus Hagrid</td>\n    </tr>\n    <tr>\n      <th>2005-12-24</th>\n      <td>196</td>\n      <td>other</td>\n      <td>26</td>\n      <td>Turkey</td>\n      <td>2.5</td>\n      <td>\"The transitions between scenes were jarring, ...</td>\n      <td>Albus Dumbledore</td>\n    </tr>\n    <tr>\n      <th>2003-01-03</th>\n      <td>202</td>\n      <td>other</td>\n      <td>27</td>\n      <td>Turkey</td>\n      <td>4.0</td>\n      <td>\"Draco Malfoy's cunning adds a layer of suspen...</td>\n      <td>Draco Malfoy</td>\n    </tr>\n    <tr>\n      <th>2002-04-24</th>\n      <td>235</td>\n      <td>male</td>\n      <td>34</td>\n      <td>Turkey</td>\n      <td>4.5</td>\n      <td>\"The pacing was just right, keeping me engaged...</td>\n      <td>Ron Weasley</td>\n    </tr>\n    <tr>\n      <th>2005-12-22</th>\n      <td>250</td>\n      <td>male</td>\n      <td>45</td>\n      <td>Turkey</td>\n      <td>4.0</td>\n      <td>\"Ron's humor adds a delightful touch to the ov...</td>\n      <td>Ron Weasley</td>\n    </tr>\n    <tr>\n      <th>2002-01-20</th>\n      <td>253</td>\n      <td>male</td>\n      <td>26</td>\n      <td>Turkey</td>\n      <td>5.0</td>\n      <td>\"The soundtrack perfectly complements the magi...</td>\n      <td>Albus Dumbledore</td>\n    </tr>\n    <tr>\n      <th>2004-06-22</th>\n      <td>283</td>\n      <td>female</td>\n      <td>58</td>\n      <td>Turkey</td>\n      <td>2.0</td>\n      <td>\"Draco Malfoy's character lacked nuance, and t...</td>\n      <td>Draco Malfoy</td>\n    </tr>\n    <tr>\n      <th>2004-10-10</th>\n      <td>320</td>\n      <td>male</td>\n      <td>53</td>\n      <td>Turkey</td>\n      <td>4.5</td>\n      <td>\"The plot is filled with twists and turns.\"</td>\n      <td>Ron Weasley</td>\n    </tr>\n    <tr>\n      <th>2002-11-10</th>\n      <td>321</td>\n      <td>male</td>\n      <td>32</td>\n      <td>Turkey</td>\n      <td>4.5</td>\n      <td>\"Enjoyed the plot twists and turns.\"</td>\n      <td>Ron Weasley</td>\n    </tr>\n    <tr>\n      <th>2004-10-17</th>\n      <td>327</td>\n      <td>other</td>\n      <td>17</td>\n      <td>Turkey</td>\n      <td>5.0</td>\n      <td>\"Neville Longbottom's transformation is incred...</td>\n      <td>Neville Longbottom</td>\n    </tr>\n    <tr>\n      <th>2003-05-04</th>\n      <td>336</td>\n      <td>male</td>\n      <td>45</td>\n      <td>Turkey</td>\n      <td>2.5</td>\n      <td>\"The film's length drags on, losing the audien...</td>\n      <td>Harry Potter</td>\n    </tr>\n    <tr>\n      <th>2004-02-21</th>\n      <td>345</td>\n      <td>male</td>\n      <td>28</td>\n      <td>Turkey</td>\n      <td>2.0</td>\n      <td>\"Draco Malfoy's character lacked nuance, and t...</td>\n      <td>Draco Malfoy</td>\n    </tr>\n    <tr>\n      <th>2005-11-13</th>\n      <td>349</td>\n      <td>female</td>\n      <td>33</td>\n      <td>Turkey</td>\n      <td>3.5</td>\n      <td>\"The film's twists are well-crafted, leaving t...</td>\n      <td>Hermione Granger</td>\n    </tr>\n    <tr>\n      <th>2004-05-06</th>\n      <td>351</td>\n      <td>female</td>\n      <td>40</td>\n      <td>Turkey</td>\n      <td>3.0</td>\n      <td>\"The film's tone fails to capture the essence ...</td>\n      <td>Ron Weasley</td>\n    </tr>\n    <tr>\n      <th>2005-07-29</th>\n      <td>363</td>\n      <td>male</td>\n      <td>25</td>\n      <td>Turkey</td>\n      <td>4.0</td>\n      <td>\"Neville Longbottom's courage and growth are p...</td>\n      <td>Neville Longbottom</td>\n    </tr>\n    <tr>\n      <th>2002-04-24</th>\n      <td>371</td>\n      <td>female</td>\n      <td>29</td>\n      <td>Turkey</td>\n      <td>2.5</td>\n      <td>\"The cultural references feel forced and out o...</td>\n      <td>Ron Weasley</td>\n    </tr>\n    <tr>\n      <th>2004-11-23</th>\n      <td>386</td>\n      <td>male</td>\n      <td>38</td>\n      <td>Turkey</td>\n      <td>5.0</td>\n      <td>\"Neville Longbottom's growth is a joy to witne...</td>\n      <td>Neville Longbottom</td>\n    </tr>\n    <tr>\n      <th>2002-07-31</th>\n      <td>406</td>\n      <td>male</td>\n      <td>40</td>\n      <td>Turkey</td>\n      <td>4.5</td>\n      <td>\"Neville Longbottom's bravery is admirable.\"</td>\n      <td>Neville Longbottom</td>\n    </tr>\n    <tr>\n      <th>2004-04-29</th>\n      <td>407</td>\n      <td>male</td>\n      <td>56</td>\n      <td>Turkey</td>\n      <td>3.5</td>\n      <td>\"The cultural references add depth and relevan...</td>\n      <td>Ron Weasley</td>\n    </tr>\n    <tr>\n      <th>2002-03-27</th>\n      <td>411</td>\n      <td>female</td>\n      <td>43</td>\n      <td>Turkey</td>\n      <td>2.5</td>\n      <td>\"The special effects are subpar and take away ...</td>\n      <td>Rubeus Hagrid</td>\n    </tr>\n    <tr>\n      <th>2003-12-18</th>\n      <td>412</td>\n      <td>male</td>\n      <td>30</td>\n      <td>Turkey</td>\n      <td>2.0</td>\n      <td>\"The adaptation deviates too much from the sou...</td>\n      <td>Hermione Granger</td>\n    </tr>\n    <tr>\n      <th>2002-01-05</th>\n      <td>428</td>\n      <td>male</td>\n      <td>39</td>\n      <td>Turkey</td>\n      <td>4.5</td>\n      <td>\"The setting at Hogwarts feels like a second h...</td>\n      <td>Rubeus Hagrid</td>\n    </tr>\n    <tr>\n      <th>2004-04-25</th>\n      <td>440</td>\n      <td>other</td>\n      <td>14</td>\n      <td>Turkey</td>\n      <td>2.5</td>\n      <td>\"The cultural references feel forced and out o...</td>\n      <td>Ron Weasley</td>\n    </tr>\n    <tr>\n      <th>2004-06-03</th>\n      <td>449</td>\n      <td>male</td>\n      <td>14</td>\n      <td>Turkey</td>\n      <td>3.0</td>\n      <td>\"The magical world lacks the depth and complex...</td>\n      <td>Harry Potter</td>\n    </tr>\n    <tr>\n      <th>2005-01-05</th>\n      <td>450</td>\n      <td>male</td>\n      <td>16</td>\n      <td>Turkey</td>\n      <td>5.0</td>\n      <td>\"Neville Longbottom's character development is...</td>\n      <td>Neville Longbottom</td>\n    </tr>\n    <tr>\n      <th>2003-11-22</th>\n      <td>451</td>\n      <td>female</td>\n      <td>43</td>\n      <td>Turkey</td>\n      <td>5.0</td>\n      <td>\"Neville Longbottom's growth is inspiring.\"</td>\n      <td>Neville Longbottom</td>\n    </tr>\n    <tr>\n      <th>2003-08-21</th>\n      <td>456</td>\n      <td>male</td>\n      <td>28</td>\n      <td>Turkey</td>\n      <td>4.5</td>\n      <td>\"The pacing kept me on the edge of my seat thr...</td>\n      <td>Ron Weasley</td>\n    </tr>\n    <tr>\n      <th>2002-01-27</th>\n      <td>483</td>\n      <td>female</td>\n      <td>30</td>\n      <td>Turkey</td>\n      <td>5.0</td>\n      <td>\"The timeless soundtrack captured the essence ...</td>\n      <td>Hermione Granger</td>\n    </tr>\n    <tr>\n      <th>2005-03-16</th>\n      <td>487</td>\n      <td>female</td>\n      <td>30</td>\n      <td>Turkey</td>\n      <td>4.0</td>\n      <td>\"I enjoyed the soundtrack and the magical feel...</td>\n      <td>Hermione Granger</td>\n    </tr>\n  </tbody>\n</table>\n</div>"
     },
     "execution_count": 154,
     "metadata": {},
     "output_type": "execute_result"
    }
   ],
   "source": [
    "df[df.user_country == 'Turkey']"
   ],
   "metadata": {
    "collapsed": false,
    "ExecuteTime": {
     "end_time": "2024-02-11T19:06:28.623014600Z",
     "start_time": "2024-02-11T19:06:28.547675600Z"
    }
   },
   "id": "c5dfd8cf1c53da25",
   "execution_count": 154
  },
  {
   "cell_type": "markdown",
   "source": [
    "## Data Visualization"
   ],
   "metadata": {
    "collapsed": false
   },
   "id": "b0d8f1c782cc44c0"
  },
  {
   "cell_type": "code",
   "outputs": [
    {
     "data": {
      "application/vnd.plotly.v1+json": {
       "data": [
        {
         "domain": {
          "x": [
           0.0,
           1.0
          ],
          "y": [
           0.0,
           1.0
          ]
         },
         "hole": 0.3,
         "hovertemplate": "user_sex=%{label}<extra></extra>",
         "labels": [
          "female",
          "female",
          "male",
          "female",
          "female",
          "female",
          "male",
          "female",
          "female",
          "female",
          "male",
          "male",
          "male",
          "male",
          "male",
          "female",
          "other",
          "female",
          "female",
          "female",
          "female",
          "female",
          "other",
          "female",
          "male",
          "male",
          "female",
          "female",
          "female",
          "female",
          "female",
          "female",
          "other",
          "male",
          "female",
          "female",
          "female",
          "female",
          "male",
          "female",
          "female",
          "female",
          "male",
          "female",
          "female",
          "male",
          "male",
          "other",
          "other",
          "male",
          "male",
          "female",
          "female",
          "male",
          "male",
          "other",
          "male",
          "other",
          "female",
          "male",
          "female",
          "female",
          "female",
          "other",
          "male",
          "male",
          "male",
          "male",
          "female",
          "female",
          "female",
          "female",
          "male",
          "female",
          "female",
          "other",
          "female",
          "male",
          "female",
          "other",
          "female",
          "male",
          "female",
          "female",
          "female",
          "female",
          "female",
          "female",
          "other",
          "male",
          "male",
          "female",
          "female",
          "female",
          "female",
          "other",
          "male",
          "female",
          "other",
          "male",
          "female",
          "female",
          "male",
          "male",
          "other",
          "female",
          "male",
          "male",
          "female",
          "female",
          "other",
          "female",
          "female",
          "other",
          "female",
          "female",
          "male",
          "female",
          "other",
          "male",
          "other",
          "male",
          "other",
          "male",
          "female",
          "male",
          "female",
          "female",
          "female",
          "female",
          "female",
          "other",
          "male",
          "male",
          "male",
          "female",
          "female",
          "male",
          "male",
          "male",
          "male",
          "female",
          "male",
          "female",
          "female",
          "male",
          "female",
          "female",
          "male",
          "female",
          "male",
          "male",
          "other",
          "female",
          "female",
          "male",
          "male",
          "other",
          "male",
          "female",
          "male",
          "male",
          "female",
          "other",
          "other",
          "male",
          "other",
          "male",
          "female",
          "female",
          "female",
          "female",
          "female",
          "male",
          "female",
          "other",
          "male",
          "female",
          "male",
          "female",
          "male",
          "other",
          "male",
          "other",
          "female",
          "male",
          "female",
          "male",
          "male",
          "male",
          "female",
          "other",
          "male",
          "female",
          "female",
          "female",
          "other",
          "female",
          "other",
          "male",
          "other",
          "female",
          "other",
          "male",
          "male",
          "female",
          "female",
          "male",
          "male",
          "male",
          "female",
          "male",
          "male",
          "male",
          "female",
          "male",
          "female",
          "female",
          "female",
          "other",
          "female",
          "female",
          "other",
          "male",
          "female",
          "female",
          "male",
          "other",
          "female",
          "male",
          "female",
          "female",
          "male",
          "other",
          "other",
          "male",
          "other",
          "female",
          "female",
          "female",
          "female",
          "male",
          "female",
          "other",
          "male",
          "female",
          "female",
          "female",
          "female",
          "male",
          "male",
          "male",
          "female",
          "male",
          "male",
          "female",
          "female",
          "female",
          "male",
          "female",
          "male",
          "female",
          "female",
          "female",
          "male",
          "male",
          "male",
          "female",
          "female",
          "male",
          "male",
          "other",
          "male",
          "female",
          "male",
          "male",
          "other",
          "female",
          "male",
          "female",
          "other",
          "male",
          "male",
          "female",
          "male",
          "female",
          "other",
          "male",
          "female",
          "female",
          "other",
          "female",
          "male",
          "female",
          "female",
          "other",
          "other",
          "male",
          "female",
          "male",
          "female",
          "female",
          "female",
          "other",
          "female",
          "female",
          "other",
          "female",
          "male",
          "female",
          "male",
          "female",
          "female",
          "female",
          "female",
          "male",
          "male",
          "female",
          "male",
          "female",
          "male",
          "male",
          "male",
          "female",
          "male",
          "female",
          "male",
          "other",
          "female",
          "female",
          "female",
          "female",
          "female",
          "female",
          "other",
          "female",
          "male",
          "female",
          "male",
          "other",
          "other",
          "male",
          "male",
          "female",
          "male",
          "male",
          "other",
          "male",
          "female",
          "female",
          "male",
          "female",
          "other",
          "female",
          "male",
          "female",
          "male",
          "female",
          "female",
          "other",
          "male",
          "male",
          "male",
          "male",
          "other",
          "female",
          "female",
          "female",
          "female",
          "male",
          "male",
          "female",
          "female",
          "female",
          "female",
          "male",
          "male",
          "male",
          "other",
          "male",
          "female",
          "male",
          "female",
          "female",
          "male",
          "female",
          "male",
          "female",
          "male",
          "male",
          "female",
          "male",
          "female",
          "female",
          "male",
          "other",
          "male",
          "female",
          "female",
          "male",
          "female",
          "male",
          "male",
          "female",
          "male",
          "female",
          "male",
          "male",
          "male",
          "male",
          "male",
          "female",
          "male",
          "male",
          "female",
          "female",
          "male",
          "female",
          "female",
          "female",
          "other",
          "male",
          "other",
          "female",
          "other",
          "female",
          "male",
          "male",
          "male",
          "female",
          "female",
          "male",
          "female",
          "male",
          "female",
          "female",
          "female",
          "female",
          "female",
          "male",
          "other",
          "female",
          "male",
          "male",
          "female",
          "male",
          "female",
          "female",
          "male",
          "male",
          "male",
          "female",
          "female",
          "male",
          "female",
          "female",
          "male",
          "other",
          "male",
          "female",
          "other",
          "male",
          "female",
          "female",
          "female",
          "female",
          "other",
          "female",
          "other",
          "male",
          "female",
          "male",
          "female",
          "female",
          "other",
          "male",
          "other",
          "female",
          "female",
          "female",
          "male",
          "male",
          "other",
          "female",
          "female",
          "female",
          "female",
          "female",
          "female",
          "male",
          "female"
         ],
         "legendgroup": "",
         "name": "",
         "showlegend": true,
         "type": "pie",
         "textinfo": "percent+value",
         "textposition": "inside",
         "title": {
          "text": "Distribution of Sex reviewed"
         }
        }
       ],
       "layout": {
        "template": {
         "data": {
          "histogram2dcontour": [
           {
            "type": "histogram2dcontour",
            "colorbar": {
             "outlinewidth": 0,
             "ticks": ""
            },
            "colorscale": [
             [
              0.0,
              "#0d0887"
             ],
             [
              0.1111111111111111,
              "#46039f"
             ],
             [
              0.2222222222222222,
              "#7201a8"
             ],
             [
              0.3333333333333333,
              "#9c179e"
             ],
             [
              0.4444444444444444,
              "#bd3786"
             ],
             [
              0.5555555555555556,
              "#d8576b"
             ],
             [
              0.6666666666666666,
              "#ed7953"
             ],
             [
              0.7777777777777778,
              "#fb9f3a"
             ],
             [
              0.8888888888888888,
              "#fdca26"
             ],
             [
              1.0,
              "#f0f921"
             ]
            ]
           }
          ],
          "choropleth": [
           {
            "type": "choropleth",
            "colorbar": {
             "outlinewidth": 0,
             "ticks": ""
            }
           }
          ],
          "histogram2d": [
           {
            "type": "histogram2d",
            "colorbar": {
             "outlinewidth": 0,
             "ticks": ""
            },
            "colorscale": [
             [
              0.0,
              "#0d0887"
             ],
             [
              0.1111111111111111,
              "#46039f"
             ],
             [
              0.2222222222222222,
              "#7201a8"
             ],
             [
              0.3333333333333333,
              "#9c179e"
             ],
             [
              0.4444444444444444,
              "#bd3786"
             ],
             [
              0.5555555555555556,
              "#d8576b"
             ],
             [
              0.6666666666666666,
              "#ed7953"
             ],
             [
              0.7777777777777778,
              "#fb9f3a"
             ],
             [
              0.8888888888888888,
              "#fdca26"
             ],
             [
              1.0,
              "#f0f921"
             ]
            ]
           }
          ],
          "heatmap": [
           {
            "type": "heatmap",
            "colorbar": {
             "outlinewidth": 0,
             "ticks": ""
            },
            "colorscale": [
             [
              0.0,
              "#0d0887"
             ],
             [
              0.1111111111111111,
              "#46039f"
             ],
             [
              0.2222222222222222,
              "#7201a8"
             ],
             [
              0.3333333333333333,
              "#9c179e"
             ],
             [
              0.4444444444444444,
              "#bd3786"
             ],
             [
              0.5555555555555556,
              "#d8576b"
             ],
             [
              0.6666666666666666,
              "#ed7953"
             ],
             [
              0.7777777777777778,
              "#fb9f3a"
             ],
             [
              0.8888888888888888,
              "#fdca26"
             ],
             [
              1.0,
              "#f0f921"
             ]
            ]
           }
          ],
          "heatmapgl": [
           {
            "type": "heatmapgl",
            "colorbar": {
             "outlinewidth": 0,
             "ticks": ""
            },
            "colorscale": [
             [
              0.0,
              "#0d0887"
             ],
             [
              0.1111111111111111,
              "#46039f"
             ],
             [
              0.2222222222222222,
              "#7201a8"
             ],
             [
              0.3333333333333333,
              "#9c179e"
             ],
             [
              0.4444444444444444,
              "#bd3786"
             ],
             [
              0.5555555555555556,
              "#d8576b"
             ],
             [
              0.6666666666666666,
              "#ed7953"
             ],
             [
              0.7777777777777778,
              "#fb9f3a"
             ],
             [
              0.8888888888888888,
              "#fdca26"
             ],
             [
              1.0,
              "#f0f921"
             ]
            ]
           }
          ],
          "contourcarpet": [
           {
            "type": "contourcarpet",
            "colorbar": {
             "outlinewidth": 0,
             "ticks": ""
            }
           }
          ],
          "contour": [
           {
            "type": "contour",
            "colorbar": {
             "outlinewidth": 0,
             "ticks": ""
            },
            "colorscale": [
             [
              0.0,
              "#0d0887"
             ],
             [
              0.1111111111111111,
              "#46039f"
             ],
             [
              0.2222222222222222,
              "#7201a8"
             ],
             [
              0.3333333333333333,
              "#9c179e"
             ],
             [
              0.4444444444444444,
              "#bd3786"
             ],
             [
              0.5555555555555556,
              "#d8576b"
             ],
             [
              0.6666666666666666,
              "#ed7953"
             ],
             [
              0.7777777777777778,
              "#fb9f3a"
             ],
             [
              0.8888888888888888,
              "#fdca26"
             ],
             [
              1.0,
              "#f0f921"
             ]
            ]
           }
          ],
          "surface": [
           {
            "type": "surface",
            "colorbar": {
             "outlinewidth": 0,
             "ticks": ""
            },
            "colorscale": [
             [
              0.0,
              "#0d0887"
             ],
             [
              0.1111111111111111,
              "#46039f"
             ],
             [
              0.2222222222222222,
              "#7201a8"
             ],
             [
              0.3333333333333333,
              "#9c179e"
             ],
             [
              0.4444444444444444,
              "#bd3786"
             ],
             [
              0.5555555555555556,
              "#d8576b"
             ],
             [
              0.6666666666666666,
              "#ed7953"
             ],
             [
              0.7777777777777778,
              "#fb9f3a"
             ],
             [
              0.8888888888888888,
              "#fdca26"
             ],
             [
              1.0,
              "#f0f921"
             ]
            ]
           }
          ],
          "mesh3d": [
           {
            "type": "mesh3d",
            "colorbar": {
             "outlinewidth": 0,
             "ticks": ""
            }
           }
          ],
          "scatter": [
           {
            "marker": {
             "line": {
              "color": "#283442"
             }
            },
            "type": "scatter"
           }
          ],
          "parcoords": [
           {
            "type": "parcoords",
            "line": {
             "colorbar": {
              "outlinewidth": 0,
              "ticks": ""
             }
            }
           }
          ],
          "scatterpolargl": [
           {
            "type": "scatterpolargl",
            "marker": {
             "colorbar": {
              "outlinewidth": 0,
              "ticks": ""
             }
            }
           }
          ],
          "bar": [
           {
            "error_x": {
             "color": "#f2f5fa"
            },
            "error_y": {
             "color": "#f2f5fa"
            },
            "marker": {
             "line": {
              "color": "rgb(17,17,17)",
              "width": 0.5
             },
             "pattern": {
              "fillmode": "overlay",
              "size": 10,
              "solidity": 0.2
             }
            },
            "type": "bar"
           }
          ],
          "scattergeo": [
           {
            "type": "scattergeo",
            "marker": {
             "colorbar": {
              "outlinewidth": 0,
              "ticks": ""
             }
            }
           }
          ],
          "scatterpolar": [
           {
            "type": "scatterpolar",
            "marker": {
             "colorbar": {
              "outlinewidth": 0,
              "ticks": ""
             }
            }
           }
          ],
          "histogram": [
           {
            "marker": {
             "pattern": {
              "fillmode": "overlay",
              "size": 10,
              "solidity": 0.2
             }
            },
            "type": "histogram"
           }
          ],
          "scattergl": [
           {
            "marker": {
             "line": {
              "color": "#283442"
             }
            },
            "type": "scattergl"
           }
          ],
          "scatter3d": [
           {
            "type": "scatter3d",
            "line": {
             "colorbar": {
              "outlinewidth": 0,
              "ticks": ""
             }
            },
            "marker": {
             "colorbar": {
              "outlinewidth": 0,
              "ticks": ""
             }
            }
           }
          ],
          "scattermapbox": [
           {
            "type": "scattermapbox",
            "marker": {
             "colorbar": {
              "outlinewidth": 0,
              "ticks": ""
             }
            }
           }
          ],
          "scatterternary": [
           {
            "type": "scatterternary",
            "marker": {
             "colorbar": {
              "outlinewidth": 0,
              "ticks": ""
             }
            }
           }
          ],
          "scattercarpet": [
           {
            "type": "scattercarpet",
            "marker": {
             "colorbar": {
              "outlinewidth": 0,
              "ticks": ""
             }
            }
           }
          ],
          "carpet": [
           {
            "aaxis": {
             "endlinecolor": "#A2B1C6",
             "gridcolor": "#506784",
             "linecolor": "#506784",
             "minorgridcolor": "#506784",
             "startlinecolor": "#A2B1C6"
            },
            "baxis": {
             "endlinecolor": "#A2B1C6",
             "gridcolor": "#506784",
             "linecolor": "#506784",
             "minorgridcolor": "#506784",
             "startlinecolor": "#A2B1C6"
            },
            "type": "carpet"
           }
          ],
          "table": [
           {
            "cells": {
             "fill": {
              "color": "#506784"
             },
             "line": {
              "color": "rgb(17,17,17)"
             }
            },
            "header": {
             "fill": {
              "color": "#2a3f5f"
             },
             "line": {
              "color": "rgb(17,17,17)"
             }
            },
            "type": "table"
           }
          ],
          "barpolar": [
           {
            "marker": {
             "line": {
              "color": "rgb(17,17,17)",
              "width": 0.5
             },
             "pattern": {
              "fillmode": "overlay",
              "size": 10,
              "solidity": 0.2
             }
            },
            "type": "barpolar"
           }
          ],
          "pie": [
           {
            "automargin": true,
            "type": "pie"
           }
          ]
         },
         "layout": {
          "autotypenumbers": "strict",
          "colorway": [
           "#636efa",
           "#EF553B",
           "#00cc96",
           "#ab63fa",
           "#FFA15A",
           "#19d3f3",
           "#FF6692",
           "#B6E880",
           "#FF97FF",
           "#FECB52"
          ],
          "font": {
           "color": "#f2f5fa"
          },
          "hovermode": "closest",
          "hoverlabel": {
           "align": "left"
          },
          "paper_bgcolor": "rgb(17,17,17)",
          "plot_bgcolor": "rgb(17,17,17)",
          "polar": {
           "bgcolor": "rgb(17,17,17)",
           "angularaxis": {
            "gridcolor": "#506784",
            "linecolor": "#506784",
            "ticks": ""
           },
           "radialaxis": {
            "gridcolor": "#506784",
            "linecolor": "#506784",
            "ticks": ""
           }
          },
          "ternary": {
           "bgcolor": "rgb(17,17,17)",
           "aaxis": {
            "gridcolor": "#506784",
            "linecolor": "#506784",
            "ticks": ""
           },
           "baxis": {
            "gridcolor": "#506784",
            "linecolor": "#506784",
            "ticks": ""
           },
           "caxis": {
            "gridcolor": "#506784",
            "linecolor": "#506784",
            "ticks": ""
           }
          },
          "coloraxis": {
           "colorbar": {
            "outlinewidth": 0,
            "ticks": ""
           }
          },
          "colorscale": {
           "sequential": [
            [
             0.0,
             "#0d0887"
            ],
            [
             0.1111111111111111,
             "#46039f"
            ],
            [
             0.2222222222222222,
             "#7201a8"
            ],
            [
             0.3333333333333333,
             "#9c179e"
            ],
            [
             0.4444444444444444,
             "#bd3786"
            ],
            [
             0.5555555555555556,
             "#d8576b"
            ],
            [
             0.6666666666666666,
             "#ed7953"
            ],
            [
             0.7777777777777778,
             "#fb9f3a"
            ],
            [
             0.8888888888888888,
             "#fdca26"
            ],
            [
             1.0,
             "#f0f921"
            ]
           ],
           "sequentialminus": [
            [
             0.0,
             "#0d0887"
            ],
            [
             0.1111111111111111,
             "#46039f"
            ],
            [
             0.2222222222222222,
             "#7201a8"
            ],
            [
             0.3333333333333333,
             "#9c179e"
            ],
            [
             0.4444444444444444,
             "#bd3786"
            ],
            [
             0.5555555555555556,
             "#d8576b"
            ],
            [
             0.6666666666666666,
             "#ed7953"
            ],
            [
             0.7777777777777778,
             "#fb9f3a"
            ],
            [
             0.8888888888888888,
             "#fdca26"
            ],
            [
             1.0,
             "#f0f921"
            ]
           ],
           "diverging": [
            [
             0,
             "#8e0152"
            ],
            [
             0.1,
             "#c51b7d"
            ],
            [
             0.2,
             "#de77ae"
            ],
            [
             0.3,
             "#f1b6da"
            ],
            [
             0.4,
             "#fde0ef"
            ],
            [
             0.5,
             "#f7f7f7"
            ],
            [
             0.6,
             "#e6f5d0"
            ],
            [
             0.7,
             "#b8e186"
            ],
            [
             0.8,
             "#7fbc41"
            ],
            [
             0.9,
             "#4d9221"
            ],
            [
             1,
             "#276419"
            ]
           ]
          },
          "xaxis": {
           "gridcolor": "#283442",
           "linecolor": "#506784",
           "ticks": "",
           "title": {
            "standoff": 15
           },
           "zerolinecolor": "#283442",
           "automargin": true,
           "zerolinewidth": 2
          },
          "yaxis": {
           "gridcolor": "#283442",
           "linecolor": "#506784",
           "ticks": "",
           "title": {
            "standoff": 15
           },
           "zerolinecolor": "#283442",
           "automargin": true,
           "zerolinewidth": 2
          },
          "scene": {
           "xaxis": {
            "backgroundcolor": "rgb(17,17,17)",
            "gridcolor": "#506784",
            "linecolor": "#506784",
            "showbackground": true,
            "ticks": "",
            "zerolinecolor": "#C8D4E3",
            "gridwidth": 2
           },
           "yaxis": {
            "backgroundcolor": "rgb(17,17,17)",
            "gridcolor": "#506784",
            "linecolor": "#506784",
            "showbackground": true,
            "ticks": "",
            "zerolinecolor": "#C8D4E3",
            "gridwidth": 2
           },
           "zaxis": {
            "backgroundcolor": "rgb(17,17,17)",
            "gridcolor": "#506784",
            "linecolor": "#506784",
            "showbackground": true,
            "ticks": "",
            "zerolinecolor": "#C8D4E3",
            "gridwidth": 2
           }
          },
          "shapedefaults": {
           "line": {
            "color": "#f2f5fa"
           }
          },
          "annotationdefaults": {
           "arrowcolor": "#f2f5fa",
           "arrowhead": 0,
           "arrowwidth": 1
          },
          "geo": {
           "bgcolor": "rgb(17,17,17)",
           "landcolor": "rgb(17,17,17)",
           "subunitcolor": "#506784",
           "showland": true,
           "showlakes": true,
           "lakecolor": "rgb(17,17,17)"
          },
          "title": {
           "x": 0.05
          },
          "updatemenudefaults": {
           "bgcolor": "#506784",
           "borderwidth": 0
          },
          "sliderdefaults": {
           "bgcolor": "#C8D4E3",
           "borderwidth": 1,
           "bordercolor": "rgb(17,17,17)",
           "tickwidth": 0
          },
          "mapbox": {
           "style": "dark"
          }
         }
        },
        "legend": {
         "tracegroupgap": 0
        },
        "margin": {
         "t": 60
        }
       },
       "config": {
        "plotlyServerURL": "https://plot.ly"
       }
      },
      "text/html": "<div>                            <div id=\"8a8f4ea9-a273-493d-88c6-a390a5ceeab5\" class=\"plotly-graph-div\" style=\"height:525px; width:100%;\"></div>            <script type=\"text/javascript\">                require([\"plotly\"], function(Plotly) {                    window.PLOTLYENV=window.PLOTLYENV || {};                                    if (document.getElementById(\"8a8f4ea9-a273-493d-88c6-a390a5ceeab5\")) {                    Plotly.newPlot(                        \"8a8f4ea9-a273-493d-88c6-a390a5ceeab5\",                        [{\"domain\":{\"x\":[0.0,1.0],\"y\":[0.0,1.0]},\"hole\":0.3,\"hovertemplate\":\"user_sex=%{label}\\u003cextra\\u003e\\u003c\\u002fextra\\u003e\",\"labels\":[\"female\",\"female\",\"male\",\"female\",\"female\",\"female\",\"male\",\"female\",\"female\",\"female\",\"male\",\"male\",\"male\",\"male\",\"male\",\"female\",\"other\",\"female\",\"female\",\"female\",\"female\",\"female\",\"other\",\"female\",\"male\",\"male\",\"female\",\"female\",\"female\",\"female\",\"female\",\"female\",\"other\",\"male\",\"female\",\"female\",\"female\",\"female\",\"male\",\"female\",\"female\",\"female\",\"male\",\"female\",\"female\",\"male\",\"male\",\"other\",\"other\",\"male\",\"male\",\"female\",\"female\",\"male\",\"male\",\"other\",\"male\",\"other\",\"female\",\"male\",\"female\",\"female\",\"female\",\"other\",\"male\",\"male\",\"male\",\"male\",\"female\",\"female\",\"female\",\"female\",\"male\",\"female\",\"female\",\"other\",\"female\",\"male\",\"female\",\"other\",\"female\",\"male\",\"female\",\"female\",\"female\",\"female\",\"female\",\"female\",\"other\",\"male\",\"male\",\"female\",\"female\",\"female\",\"female\",\"other\",\"male\",\"female\",\"other\",\"male\",\"female\",\"female\",\"male\",\"male\",\"other\",\"female\",\"male\",\"male\",\"female\",\"female\",\"other\",\"female\",\"female\",\"other\",\"female\",\"female\",\"male\",\"female\",\"other\",\"male\",\"other\",\"male\",\"other\",\"male\",\"female\",\"male\",\"female\",\"female\",\"female\",\"female\",\"female\",\"other\",\"male\",\"male\",\"male\",\"female\",\"female\",\"male\",\"male\",\"male\",\"male\",\"female\",\"male\",\"female\",\"female\",\"male\",\"female\",\"female\",\"male\",\"female\",\"male\",\"male\",\"other\",\"female\",\"female\",\"male\",\"male\",\"other\",\"male\",\"female\",\"male\",\"male\",\"female\",\"other\",\"other\",\"male\",\"other\",\"male\",\"female\",\"female\",\"female\",\"female\",\"female\",\"male\",\"female\",\"other\",\"male\",\"female\",\"male\",\"female\",\"male\",\"other\",\"male\",\"other\",\"female\",\"male\",\"female\",\"male\",\"male\",\"male\",\"female\",\"other\",\"male\",\"female\",\"female\",\"female\",\"other\",\"female\",\"other\",\"male\",\"other\",\"female\",\"other\",\"male\",\"male\",\"female\",\"female\",\"male\",\"male\",\"male\",\"female\",\"male\",\"male\",\"male\",\"female\",\"male\",\"female\",\"female\",\"female\",\"other\",\"female\",\"female\",\"other\",\"male\",\"female\",\"female\",\"male\",\"other\",\"female\",\"male\",\"female\",\"female\",\"male\",\"other\",\"other\",\"male\",\"other\",\"female\",\"female\",\"female\",\"female\",\"male\",\"female\",\"other\",\"male\",\"female\",\"female\",\"female\",\"female\",\"male\",\"male\",\"male\",\"female\",\"male\",\"male\",\"female\",\"female\",\"female\",\"male\",\"female\",\"male\",\"female\",\"female\",\"female\",\"male\",\"male\",\"male\",\"female\",\"female\",\"male\",\"male\",\"other\",\"male\",\"female\",\"male\",\"male\",\"other\",\"female\",\"male\",\"female\",\"other\",\"male\",\"male\",\"female\",\"male\",\"female\",\"other\",\"male\",\"female\",\"female\",\"other\",\"female\",\"male\",\"female\",\"female\",\"other\",\"other\",\"male\",\"female\",\"male\",\"female\",\"female\",\"female\",\"other\",\"female\",\"female\",\"other\",\"female\",\"male\",\"female\",\"male\",\"female\",\"female\",\"female\",\"female\",\"male\",\"male\",\"female\",\"male\",\"female\",\"male\",\"male\",\"male\",\"female\",\"male\",\"female\",\"male\",\"other\",\"female\",\"female\",\"female\",\"female\",\"female\",\"female\",\"other\",\"female\",\"male\",\"female\",\"male\",\"other\",\"other\",\"male\",\"male\",\"female\",\"male\",\"male\",\"other\",\"male\",\"female\",\"female\",\"male\",\"female\",\"other\",\"female\",\"male\",\"female\",\"male\",\"female\",\"female\",\"other\",\"male\",\"male\",\"male\",\"male\",\"other\",\"female\",\"female\",\"female\",\"female\",\"male\",\"male\",\"female\",\"female\",\"female\",\"female\",\"male\",\"male\",\"male\",\"other\",\"male\",\"female\",\"male\",\"female\",\"female\",\"male\",\"female\",\"male\",\"female\",\"male\",\"male\",\"female\",\"male\",\"female\",\"female\",\"male\",\"other\",\"male\",\"female\",\"female\",\"male\",\"female\",\"male\",\"male\",\"female\",\"male\",\"female\",\"male\",\"male\",\"male\",\"male\",\"male\",\"female\",\"male\",\"male\",\"female\",\"female\",\"male\",\"female\",\"female\",\"female\",\"other\",\"male\",\"other\",\"female\",\"other\",\"female\",\"male\",\"male\",\"male\",\"female\",\"female\",\"male\",\"female\",\"male\",\"female\",\"female\",\"female\",\"female\",\"female\",\"male\",\"other\",\"female\",\"male\",\"male\",\"female\",\"male\",\"female\",\"female\",\"male\",\"male\",\"male\",\"female\",\"female\",\"male\",\"female\",\"female\",\"male\",\"other\",\"male\",\"female\",\"other\",\"male\",\"female\",\"female\",\"female\",\"female\",\"other\",\"female\",\"other\",\"male\",\"female\",\"male\",\"female\",\"female\",\"other\",\"male\",\"other\",\"female\",\"female\",\"female\",\"male\",\"male\",\"other\",\"female\",\"female\",\"female\",\"female\",\"female\",\"female\",\"male\",\"female\"],\"legendgroup\":\"\",\"name\":\"\",\"showlegend\":true,\"type\":\"pie\",\"textinfo\":\"percent+value\",\"textposition\":\"inside\",\"title\":{\"text\":\"Distribution of Sex reviewed\"}}],                        {\"template\":{\"data\":{\"histogram2dcontour\":[{\"type\":\"histogram2dcontour\",\"colorbar\":{\"outlinewidth\":0,\"ticks\":\"\"},\"colorscale\":[[0.0,\"#0d0887\"],[0.1111111111111111,\"#46039f\"],[0.2222222222222222,\"#7201a8\"],[0.3333333333333333,\"#9c179e\"],[0.4444444444444444,\"#bd3786\"],[0.5555555555555556,\"#d8576b\"],[0.6666666666666666,\"#ed7953\"],[0.7777777777777778,\"#fb9f3a\"],[0.8888888888888888,\"#fdca26\"],[1.0,\"#f0f921\"]]}],\"choropleth\":[{\"type\":\"choropleth\",\"colorbar\":{\"outlinewidth\":0,\"ticks\":\"\"}}],\"histogram2d\":[{\"type\":\"histogram2d\",\"colorbar\":{\"outlinewidth\":0,\"ticks\":\"\"},\"colorscale\":[[0.0,\"#0d0887\"],[0.1111111111111111,\"#46039f\"],[0.2222222222222222,\"#7201a8\"],[0.3333333333333333,\"#9c179e\"],[0.4444444444444444,\"#bd3786\"],[0.5555555555555556,\"#d8576b\"],[0.6666666666666666,\"#ed7953\"],[0.7777777777777778,\"#fb9f3a\"],[0.8888888888888888,\"#fdca26\"],[1.0,\"#f0f921\"]]}],\"heatmap\":[{\"type\":\"heatmap\",\"colorbar\":{\"outlinewidth\":0,\"ticks\":\"\"},\"colorscale\":[[0.0,\"#0d0887\"],[0.1111111111111111,\"#46039f\"],[0.2222222222222222,\"#7201a8\"],[0.3333333333333333,\"#9c179e\"],[0.4444444444444444,\"#bd3786\"],[0.5555555555555556,\"#d8576b\"],[0.6666666666666666,\"#ed7953\"],[0.7777777777777778,\"#fb9f3a\"],[0.8888888888888888,\"#fdca26\"],[1.0,\"#f0f921\"]]}],\"heatmapgl\":[{\"type\":\"heatmapgl\",\"colorbar\":{\"outlinewidth\":0,\"ticks\":\"\"},\"colorscale\":[[0.0,\"#0d0887\"],[0.1111111111111111,\"#46039f\"],[0.2222222222222222,\"#7201a8\"],[0.3333333333333333,\"#9c179e\"],[0.4444444444444444,\"#bd3786\"],[0.5555555555555556,\"#d8576b\"],[0.6666666666666666,\"#ed7953\"],[0.7777777777777778,\"#fb9f3a\"],[0.8888888888888888,\"#fdca26\"],[1.0,\"#f0f921\"]]}],\"contourcarpet\":[{\"type\":\"contourcarpet\",\"colorbar\":{\"outlinewidth\":0,\"ticks\":\"\"}}],\"contour\":[{\"type\":\"contour\",\"colorbar\":{\"outlinewidth\":0,\"ticks\":\"\"},\"colorscale\":[[0.0,\"#0d0887\"],[0.1111111111111111,\"#46039f\"],[0.2222222222222222,\"#7201a8\"],[0.3333333333333333,\"#9c179e\"],[0.4444444444444444,\"#bd3786\"],[0.5555555555555556,\"#d8576b\"],[0.6666666666666666,\"#ed7953\"],[0.7777777777777778,\"#fb9f3a\"],[0.8888888888888888,\"#fdca26\"],[1.0,\"#f0f921\"]]}],\"surface\":[{\"type\":\"surface\",\"colorbar\":{\"outlinewidth\":0,\"ticks\":\"\"},\"colorscale\":[[0.0,\"#0d0887\"],[0.1111111111111111,\"#46039f\"],[0.2222222222222222,\"#7201a8\"],[0.3333333333333333,\"#9c179e\"],[0.4444444444444444,\"#bd3786\"],[0.5555555555555556,\"#d8576b\"],[0.6666666666666666,\"#ed7953\"],[0.7777777777777778,\"#fb9f3a\"],[0.8888888888888888,\"#fdca26\"],[1.0,\"#f0f921\"]]}],\"mesh3d\":[{\"type\":\"mesh3d\",\"colorbar\":{\"outlinewidth\":0,\"ticks\":\"\"}}],\"scatter\":[{\"marker\":{\"line\":{\"color\":\"#283442\"}},\"type\":\"scatter\"}],\"parcoords\":[{\"type\":\"parcoords\",\"line\":{\"colorbar\":{\"outlinewidth\":0,\"ticks\":\"\"}}}],\"scatterpolargl\":[{\"type\":\"scatterpolargl\",\"marker\":{\"colorbar\":{\"outlinewidth\":0,\"ticks\":\"\"}}}],\"bar\":[{\"error_x\":{\"color\":\"#f2f5fa\"},\"error_y\":{\"color\":\"#f2f5fa\"},\"marker\":{\"line\":{\"color\":\"rgb(17,17,17)\",\"width\":0.5},\"pattern\":{\"fillmode\":\"overlay\",\"size\":10,\"solidity\":0.2}},\"type\":\"bar\"}],\"scattergeo\":[{\"type\":\"scattergeo\",\"marker\":{\"colorbar\":{\"outlinewidth\":0,\"ticks\":\"\"}}}],\"scatterpolar\":[{\"type\":\"scatterpolar\",\"marker\":{\"colorbar\":{\"outlinewidth\":0,\"ticks\":\"\"}}}],\"histogram\":[{\"marker\":{\"pattern\":{\"fillmode\":\"overlay\",\"size\":10,\"solidity\":0.2}},\"type\":\"histogram\"}],\"scattergl\":[{\"marker\":{\"line\":{\"color\":\"#283442\"}},\"type\":\"scattergl\"}],\"scatter3d\":[{\"type\":\"scatter3d\",\"line\":{\"colorbar\":{\"outlinewidth\":0,\"ticks\":\"\"}},\"marker\":{\"colorbar\":{\"outlinewidth\":0,\"ticks\":\"\"}}}],\"scattermapbox\":[{\"type\":\"scattermapbox\",\"marker\":{\"colorbar\":{\"outlinewidth\":0,\"ticks\":\"\"}}}],\"scatterternary\":[{\"type\":\"scatterternary\",\"marker\":{\"colorbar\":{\"outlinewidth\":0,\"ticks\":\"\"}}}],\"scattercarpet\":[{\"type\":\"scattercarpet\",\"marker\":{\"colorbar\":{\"outlinewidth\":0,\"ticks\":\"\"}}}],\"carpet\":[{\"aaxis\":{\"endlinecolor\":\"#A2B1C6\",\"gridcolor\":\"#506784\",\"linecolor\":\"#506784\",\"minorgridcolor\":\"#506784\",\"startlinecolor\":\"#A2B1C6\"},\"baxis\":{\"endlinecolor\":\"#A2B1C6\",\"gridcolor\":\"#506784\",\"linecolor\":\"#506784\",\"minorgridcolor\":\"#506784\",\"startlinecolor\":\"#A2B1C6\"},\"type\":\"carpet\"}],\"table\":[{\"cells\":{\"fill\":{\"color\":\"#506784\"},\"line\":{\"color\":\"rgb(17,17,17)\"}},\"header\":{\"fill\":{\"color\":\"#2a3f5f\"},\"line\":{\"color\":\"rgb(17,17,17)\"}},\"type\":\"table\"}],\"barpolar\":[{\"marker\":{\"line\":{\"color\":\"rgb(17,17,17)\",\"width\":0.5},\"pattern\":{\"fillmode\":\"overlay\",\"size\":10,\"solidity\":0.2}},\"type\":\"barpolar\"}],\"pie\":[{\"automargin\":true,\"type\":\"pie\"}]},\"layout\":{\"autotypenumbers\":\"strict\",\"colorway\":[\"#636efa\",\"#EF553B\",\"#00cc96\",\"#ab63fa\",\"#FFA15A\",\"#19d3f3\",\"#FF6692\",\"#B6E880\",\"#FF97FF\",\"#FECB52\"],\"font\":{\"color\":\"#f2f5fa\"},\"hovermode\":\"closest\",\"hoverlabel\":{\"align\":\"left\"},\"paper_bgcolor\":\"rgb(17,17,17)\",\"plot_bgcolor\":\"rgb(17,17,17)\",\"polar\":{\"bgcolor\":\"rgb(17,17,17)\",\"angularaxis\":{\"gridcolor\":\"#506784\",\"linecolor\":\"#506784\",\"ticks\":\"\"},\"radialaxis\":{\"gridcolor\":\"#506784\",\"linecolor\":\"#506784\",\"ticks\":\"\"}},\"ternary\":{\"bgcolor\":\"rgb(17,17,17)\",\"aaxis\":{\"gridcolor\":\"#506784\",\"linecolor\":\"#506784\",\"ticks\":\"\"},\"baxis\":{\"gridcolor\":\"#506784\",\"linecolor\":\"#506784\",\"ticks\":\"\"},\"caxis\":{\"gridcolor\":\"#506784\",\"linecolor\":\"#506784\",\"ticks\":\"\"}},\"coloraxis\":{\"colorbar\":{\"outlinewidth\":0,\"ticks\":\"\"}},\"colorscale\":{\"sequential\":[[0.0,\"#0d0887\"],[0.1111111111111111,\"#46039f\"],[0.2222222222222222,\"#7201a8\"],[0.3333333333333333,\"#9c179e\"],[0.4444444444444444,\"#bd3786\"],[0.5555555555555556,\"#d8576b\"],[0.6666666666666666,\"#ed7953\"],[0.7777777777777778,\"#fb9f3a\"],[0.8888888888888888,\"#fdca26\"],[1.0,\"#f0f921\"]],\"sequentialminus\":[[0.0,\"#0d0887\"],[0.1111111111111111,\"#46039f\"],[0.2222222222222222,\"#7201a8\"],[0.3333333333333333,\"#9c179e\"],[0.4444444444444444,\"#bd3786\"],[0.5555555555555556,\"#d8576b\"],[0.6666666666666666,\"#ed7953\"],[0.7777777777777778,\"#fb9f3a\"],[0.8888888888888888,\"#fdca26\"],[1.0,\"#f0f921\"]],\"diverging\":[[0,\"#8e0152\"],[0.1,\"#c51b7d\"],[0.2,\"#de77ae\"],[0.3,\"#f1b6da\"],[0.4,\"#fde0ef\"],[0.5,\"#f7f7f7\"],[0.6,\"#e6f5d0\"],[0.7,\"#b8e186\"],[0.8,\"#7fbc41\"],[0.9,\"#4d9221\"],[1,\"#276419\"]]},\"xaxis\":{\"gridcolor\":\"#283442\",\"linecolor\":\"#506784\",\"ticks\":\"\",\"title\":{\"standoff\":15},\"zerolinecolor\":\"#283442\",\"automargin\":true,\"zerolinewidth\":2},\"yaxis\":{\"gridcolor\":\"#283442\",\"linecolor\":\"#506784\",\"ticks\":\"\",\"title\":{\"standoff\":15},\"zerolinecolor\":\"#283442\",\"automargin\":true,\"zerolinewidth\":2},\"scene\":{\"xaxis\":{\"backgroundcolor\":\"rgb(17,17,17)\",\"gridcolor\":\"#506784\",\"linecolor\":\"#506784\",\"showbackground\":true,\"ticks\":\"\",\"zerolinecolor\":\"#C8D4E3\",\"gridwidth\":2},\"yaxis\":{\"backgroundcolor\":\"rgb(17,17,17)\",\"gridcolor\":\"#506784\",\"linecolor\":\"#506784\",\"showbackground\":true,\"ticks\":\"\",\"zerolinecolor\":\"#C8D4E3\",\"gridwidth\":2},\"zaxis\":{\"backgroundcolor\":\"rgb(17,17,17)\",\"gridcolor\":\"#506784\",\"linecolor\":\"#506784\",\"showbackground\":true,\"ticks\":\"\",\"zerolinecolor\":\"#C8D4E3\",\"gridwidth\":2}},\"shapedefaults\":{\"line\":{\"color\":\"#f2f5fa\"}},\"annotationdefaults\":{\"arrowcolor\":\"#f2f5fa\",\"arrowhead\":0,\"arrowwidth\":1},\"geo\":{\"bgcolor\":\"rgb(17,17,17)\",\"landcolor\":\"rgb(17,17,17)\",\"subunitcolor\":\"#506784\",\"showland\":true,\"showlakes\":true,\"lakecolor\":\"rgb(17,17,17)\"},\"title\":{\"x\":0.05},\"updatemenudefaults\":{\"bgcolor\":\"#506784\",\"borderwidth\":0},\"sliderdefaults\":{\"bgcolor\":\"#C8D4E3\",\"borderwidth\":1,\"bordercolor\":\"rgb(17,17,17)\",\"tickwidth\":0},\"mapbox\":{\"style\":\"dark\"}}},\"legend\":{\"tracegroupgap\":0},\"margin\":{\"t\":60}},                        {\"responsive\": true}                    ).then(function(){\n                            \nvar gd = document.getElementById('8a8f4ea9-a273-493d-88c6-a390a5ceeab5');\nvar x = new MutationObserver(function (mutations, observer) {{\n        var display = window.getComputedStyle(gd).display;\n        if (!display || display === 'none') {{\n            console.log([gd, 'removed!']);\n            Plotly.purge(gd);\n            observer.disconnect();\n        }}\n}});\n\n// Listen for the removal of the full notebook cells\nvar notebookContainer = gd.closest('#notebook-container');\nif (notebookContainer) {{\n    x.observe(notebookContainer, {childList: true});\n}}\n\n// Listen for the clearing of the current output cell\nvar outputEl = gd.closest('.output');\nif (outputEl) {{\n    x.observe(outputEl, {childList: true});\n}}\n\n                        })                };                });            </script>        </div>"
     },
     "metadata": {},
     "output_type": "display_data"
    }
   ],
   "source": [
    "fig = px.pie(df, names='user_sex', hole=0.3, template='plotly_dark')\n",
    "fig.update_traces(textposition='inside', textinfo='percent+value', title='Distribution of Sex reviewed')\n",
    "fig.show()"
   ],
   "metadata": {
    "collapsed": false,
    "ExecuteTime": {
     "end_time": "2024-02-11T19:06:28.850541900Z",
     "start_time": "2024-02-11T19:06:28.609472900Z"
    }
   },
   "id": "78153cd45c078083",
   "execution_count": 155
  },
  {
   "cell_type": "code",
   "outputs": [
    {
     "data": {
      "application/vnd.plotly.v1+json": {
       "data": [
        {
         "alignmentgroup": "True",
         "bingroup": "x",
         "histfunc": "sum",
         "hovertemplate": "user_sex=%{x}<br>user_age=50<br>sum of user_age=%{y}<extra></extra>",
         "legendgroup": "female, 50",
         "marker": {
          "color": "#636efa",
          "pattern": {
           "shape": ""
          }
         },
         "name": "female, 50",
         "offsetgroup": "female, 50",
         "orientation": "v",
         "showlegend": true,
         "x": [
          "female",
          "female",
          "female",
          "female",
          "female",
          "female"
         ],
         "xaxis": "x",
         "y": [
          50,
          50,
          50,
          50,
          50,
          50
         ],
         "yaxis": "y",
         "type": "histogram"
        },
        {
         "alignmentgroup": "True",
         "bingroup": "x",
         "histfunc": "sum",
         "hovertemplate": "user_sex=%{x}<br>user_age=23<br>sum of user_age=%{y}<extra></extra>",
         "legendgroup": "female, 23",
         "marker": {
          "color": "#636efa",
          "pattern": {
           "shape": "/"
          }
         },
         "name": "female, 23",
         "offsetgroup": "female, 23",
         "orientation": "v",
         "showlegend": true,
         "x": [
          "female",
          "female"
         ],
         "xaxis": "x",
         "y": [
          23,
          23
         ],
         "yaxis": "y",
         "type": "histogram"
        },
        {
         "alignmentgroup": "True",
         "bingroup": "x",
         "histfunc": "sum",
         "hovertemplate": "user_sex=%{x}<br>user_age=32<br>sum of user_age=%{y}<extra></extra>",
         "legendgroup": "female, 32",
         "marker": {
          "color": "#636efa",
          "pattern": {
           "shape": "\\"
          }
         },
         "name": "female, 32",
         "offsetgroup": "female, 32",
         "orientation": "v",
         "showlegend": true,
         "x": [
          "female",
          "female",
          "female",
          "female",
          "female",
          "female"
         ],
         "xaxis": "x",
         "y": [
          32,
          32,
          32,
          32,
          32,
          32
         ],
         "yaxis": "y",
         "type": "histogram"
        },
        {
         "alignmentgroup": "True",
         "bingroup": "x",
         "histfunc": "sum",
         "hovertemplate": "user_sex=%{x}<br>user_age=24<br>sum of user_age=%{y}<extra></extra>",
         "legendgroup": "female, 24",
         "marker": {
          "color": "#636efa",
          "pattern": {
           "shape": "x"
          }
         },
         "name": "female, 24",
         "offsetgroup": "female, 24",
         "orientation": "v",
         "showlegend": true,
         "x": [
          "female",
          "female",
          "female",
          "female",
          "female",
          "female",
          "female"
         ],
         "xaxis": "x",
         "y": [
          24,
          24,
          24,
          24,
          24,
          24,
          24
         ],
         "yaxis": "y",
         "type": "histogram"
        },
        {
         "alignmentgroup": "True",
         "bingroup": "x",
         "histfunc": "sum",
         "hovertemplate": "user_sex=%{x}<br>user_age=40<br>sum of user_age=%{y}<extra></extra>",
         "legendgroup": "female, 40",
         "marker": {
          "color": "#636efa",
          "pattern": {
           "shape": "+"
          }
         },
         "name": "female, 40",
         "offsetgroup": "female, 40",
         "orientation": "v",
         "showlegend": true,
         "x": [
          "female",
          "female",
          "female",
          "female",
          "female",
          "female",
          "female",
          "female",
          "female"
         ],
         "xaxis": "x",
         "y": [
          40,
          40,
          40,
          40,
          40,
          40,
          40,
          40,
          40
         ],
         "yaxis": "y",
         "type": "histogram"
        },
        {
         "alignmentgroup": "True",
         "bingroup": "x",
         "histfunc": "sum",
         "hovertemplate": "user_sex=%{x}<br>user_age=16<br>sum of user_age=%{y}<extra></extra>",
         "legendgroup": "female, 16",
         "marker": {
          "color": "#636efa",
          "pattern": {
           "shape": "."
          }
         },
         "name": "female, 16",
         "offsetgroup": "female, 16",
         "orientation": "v",
         "showlegend": true,
         "x": [
          "female",
          "female",
          "female"
         ],
         "xaxis": "x",
         "y": [
          16,
          16,
          16
         ],
         "yaxis": "y",
         "type": "histogram"
        },
        {
         "alignmentgroup": "True",
         "bingroup": "x",
         "histfunc": "sum",
         "hovertemplate": "user_sex=%{x}<br>user_age=26<br>sum of user_age=%{y}<extra></extra>",
         "legendgroup": "female, 26",
         "marker": {
          "color": "#636efa",
          "pattern": {
           "shape": ""
          }
         },
         "name": "female, 26",
         "offsetgroup": "female, 26",
         "orientation": "v",
         "showlegend": true,
         "x": [
          "female",
          "female",
          "female",
          "female",
          "female",
          "female"
         ],
         "xaxis": "x",
         "y": [
          26,
          26,
          26,
          26,
          26,
          26
         ],
         "yaxis": "y",
         "type": "histogram"
        },
        {
         "alignmentgroup": "True",
         "bingroup": "x",
         "histfunc": "sum",
         "hovertemplate": "user_sex=%{x}<br>user_age=28<br>sum of user_age=%{y}<extra></extra>",
         "legendgroup": "female, 28",
         "marker": {
          "color": "#636efa",
          "pattern": {
           "shape": "/"
          }
         },
         "name": "female, 28",
         "offsetgroup": "female, 28",
         "orientation": "v",
         "showlegend": true,
         "x": [
          "female",
          "female",
          "female",
          "female",
          "female",
          "female",
          "female"
         ],
         "xaxis": "x",
         "y": [
          28,
          28,
          28,
          28,
          28,
          28,
          28
         ],
         "yaxis": "y",
         "type": "histogram"
        },
        {
         "alignmentgroup": "True",
         "bingroup": "x",
         "histfunc": "sum",
         "hovertemplate": "user_sex=%{x}<br>user_age=52<br>sum of user_age=%{y}<extra></extra>",
         "legendgroup": "female, 52",
         "marker": {
          "color": "#636efa",
          "pattern": {
           "shape": "\\"
          }
         },
         "name": "female, 52",
         "offsetgroup": "female, 52",
         "orientation": "v",
         "showlegend": true,
         "x": [
          "female",
          "female",
          "female",
          "female",
          "female"
         ],
         "xaxis": "x",
         "y": [
          52,
          52,
          52,
          52,
          52
         ],
         "yaxis": "y",
         "type": "histogram"
        },
        {
         "alignmentgroup": "True",
         "bingroup": "x",
         "histfunc": "sum",
         "hovertemplate": "user_sex=%{x}<br>user_age=46<br>sum of user_age=%{y}<extra></extra>",
         "legendgroup": "female, 46",
         "marker": {
          "color": "#636efa",
          "pattern": {
           "shape": "x"
          }
         },
         "name": "female, 46",
         "offsetgroup": "female, 46",
         "orientation": "v",
         "showlegend": true,
         "x": [
          "female",
          "female",
          "female",
          "female",
          "female",
          "female"
         ],
         "xaxis": "x",
         "y": [
          46,
          46,
          46,
          46,
          46,
          46
         ],
         "yaxis": "y",
         "type": "histogram"
        },
        {
         "alignmentgroup": "True",
         "bingroup": "x",
         "histfunc": "sum",
         "hovertemplate": "user_sex=%{x}<br>user_age=34<br>sum of user_age=%{y}<extra></extra>",
         "legendgroup": "female, 34",
         "marker": {
          "color": "#636efa",
          "pattern": {
           "shape": "+"
          }
         },
         "name": "female, 34",
         "offsetgroup": "female, 34",
         "orientation": "v",
         "showlegend": true,
         "x": [
          "female",
          "female",
          "female",
          "female",
          "female",
          "female",
          "female",
          "female",
          "female",
          "female"
         ],
         "xaxis": "x",
         "y": [
          34,
          34,
          34,
          34,
          34,
          34,
          34,
          34,
          34,
          34
         ],
         "yaxis": "y",
         "type": "histogram"
        },
        {
         "alignmentgroup": "True",
         "bingroup": "x",
         "histfunc": "sum",
         "hovertemplate": "user_sex=%{x}<br>user_age=51<br>sum of user_age=%{y}<extra></extra>",
         "legendgroup": "female, 51",
         "marker": {
          "color": "#636efa",
          "pattern": {
           "shape": "."
          }
         },
         "name": "female, 51",
         "offsetgroup": "female, 51",
         "orientation": "v",
         "showlegend": true,
         "x": [
          "female",
          "female"
         ],
         "xaxis": "x",
         "y": [
          51,
          51
         ],
         "yaxis": "y",
         "type": "histogram"
        },
        {
         "alignmentgroup": "True",
         "bingroup": "x",
         "histfunc": "sum",
         "hovertemplate": "user_sex=%{x}<br>user_age=38<br>sum of user_age=%{y}<extra></extra>",
         "legendgroup": "female, 38",
         "marker": {
          "color": "#636efa",
          "pattern": {
           "shape": ""
          }
         },
         "name": "female, 38",
         "offsetgroup": "female, 38",
         "orientation": "v",
         "showlegend": true,
         "x": [
          "female",
          "female",
          "female",
          "female",
          "female"
         ],
         "xaxis": "x",
         "y": [
          38,
          38,
          38,
          38,
          38
         ],
         "yaxis": "y",
         "type": "histogram"
        },
        {
         "alignmentgroup": "True",
         "bingroup": "x",
         "histfunc": "sum",
         "hovertemplate": "user_sex=%{x}<br>user_age=47<br>sum of user_age=%{y}<extra></extra>",
         "legendgroup": "female, 47",
         "marker": {
          "color": "#636efa",
          "pattern": {
           "shape": "/"
          }
         },
         "name": "female, 47",
         "offsetgroup": "female, 47",
         "orientation": "v",
         "showlegend": true,
         "x": [
          "female",
          "female",
          "female",
          "female",
          "female"
         ],
         "xaxis": "x",
         "y": [
          47,
          47,
          47,
          47,
          47
         ],
         "yaxis": "y",
         "type": "histogram"
        },
        {
         "alignmentgroup": "True",
         "bingroup": "x",
         "histfunc": "sum",
         "hovertemplate": "user_sex=%{x}<br>user_age=39<br>sum of user_age=%{y}<extra></extra>",
         "legendgroup": "female, 39",
         "marker": {
          "color": "#636efa",
          "pattern": {
           "shape": "\\"
          }
         },
         "name": "female, 39",
         "offsetgroup": "female, 39",
         "orientation": "v",
         "showlegend": true,
         "x": [
          "female",
          "female",
          "female",
          "female",
          "female",
          "female",
          "female"
         ],
         "xaxis": "x",
         "y": [
          39,
          39,
          39,
          39,
          39,
          39,
          39
         ],
         "yaxis": "y",
         "type": "histogram"
        },
        {
         "alignmentgroup": "True",
         "bingroup": "x",
         "histfunc": "sum",
         "hovertemplate": "user_sex=%{x}<br>user_age=20<br>sum of user_age=%{y}<extra></extra>",
         "legendgroup": "female, 20",
         "marker": {
          "color": "#636efa",
          "pattern": {
           "shape": "x"
          }
         },
         "name": "female, 20",
         "offsetgroup": "female, 20",
         "orientation": "v",
         "showlegend": true,
         "x": [
          "female",
          "female",
          "female"
         ],
         "xaxis": "x",
         "y": [
          20,
          20,
          20
         ],
         "yaxis": "y",
         "type": "histogram"
        },
        {
         "alignmentgroup": "True",
         "bingroup": "x",
         "histfunc": "sum",
         "hovertemplate": "user_sex=%{x}<br>user_age=31<br>sum of user_age=%{y}<extra></extra>",
         "legendgroup": "female, 31",
         "marker": {
          "color": "#636efa",
          "pattern": {
           "shape": "+"
          }
         },
         "name": "female, 31",
         "offsetgroup": "female, 31",
         "orientation": "v",
         "showlegend": true,
         "x": [
          "female",
          "female",
          "female",
          "female",
          "female",
          "female",
          "female",
          "female",
          "female",
          "female",
          "female",
          "female"
         ],
         "xaxis": "x",
         "y": [
          31,
          31,
          31,
          31,
          31,
          31,
          31,
          31,
          31,
          31,
          31,
          31
         ],
         "yaxis": "y",
         "type": "histogram"
        },
        {
         "alignmentgroup": "True",
         "bingroup": "x",
         "histfunc": "sum",
         "hovertemplate": "user_sex=%{x}<br>user_age=22<br>sum of user_age=%{y}<extra></extra>",
         "legendgroup": "female, 22",
         "marker": {
          "color": "#636efa",
          "pattern": {
           "shape": "."
          }
         },
         "name": "female, 22",
         "offsetgroup": "female, 22",
         "orientation": "v",
         "showlegend": true,
         "x": [
          "female",
          "female",
          "female",
          "female"
         ],
         "xaxis": "x",
         "y": [
          22,
          22,
          22,
          22
         ],
         "yaxis": "y",
         "type": "histogram"
        },
        {
         "alignmentgroup": "True",
         "bingroup": "x",
         "histfunc": "sum",
         "hovertemplate": "user_sex=%{x}<br>user_age=57<br>sum of user_age=%{y}<extra></extra>",
         "legendgroup": "female, 57",
         "marker": {
          "color": "#636efa",
          "pattern": {
           "shape": ""
          }
         },
         "name": "female, 57",
         "offsetgroup": "female, 57",
         "orientation": "v",
         "showlegend": true,
         "x": [
          "female",
          "female",
          "female"
         ],
         "xaxis": "x",
         "y": [
          57,
          57,
          57
         ],
         "yaxis": "y",
         "type": "histogram"
        },
        {
         "alignmentgroup": "True",
         "bingroup": "x",
         "histfunc": "sum",
         "hovertemplate": "user_sex=%{x}<br>user_age=30<br>sum of user_age=%{y}<extra></extra>",
         "legendgroup": "female, 30",
         "marker": {
          "color": "#636efa",
          "pattern": {
           "shape": "/"
          }
         },
         "name": "female, 30",
         "offsetgroup": "female, 30",
         "orientation": "v",
         "showlegend": true,
         "x": [
          "female",
          "female",
          "female",
          "female",
          "female",
          "female",
          "female",
          "female",
          "female"
         ],
         "xaxis": "x",
         "y": [
          30,
          30,
          30,
          30,
          30,
          30,
          30,
          30,
          30
         ],
         "yaxis": "y",
         "type": "histogram"
        },
        {
         "alignmentgroup": "True",
         "bingroup": "x",
         "histfunc": "sum",
         "hovertemplate": "user_sex=%{x}<br>user_age=33<br>sum of user_age=%{y}<extra></extra>",
         "legendgroup": "female, 33",
         "marker": {
          "color": "#636efa",
          "pattern": {
           "shape": "\\"
          }
         },
         "name": "female, 33",
         "offsetgroup": "female, 33",
         "orientation": "v",
         "showlegend": true,
         "x": [
          "female",
          "female",
          "female",
          "female",
          "female",
          "female",
          "female",
          "female",
          "female",
          "female",
          "female",
          "female"
         ],
         "xaxis": "x",
         "y": [
          33,
          33,
          33,
          33,
          33,
          33,
          33,
          33,
          33,
          33,
          33,
          33
         ],
         "yaxis": "y",
         "type": "histogram"
        },
        {
         "alignmentgroup": "True",
         "bingroup": "x",
         "histfunc": "sum",
         "hovertemplate": "user_sex=%{x}<br>user_age=48<br>sum of user_age=%{y}<extra></extra>",
         "legendgroup": "female, 48",
         "marker": {
          "color": "#636efa",
          "pattern": {
           "shape": "x"
          }
         },
         "name": "female, 48",
         "offsetgroup": "female, 48",
         "orientation": "v",
         "showlegend": true,
         "x": [
          "female",
          "female",
          "female"
         ],
         "xaxis": "x",
         "y": [
          48,
          48,
          48
         ],
         "yaxis": "y",
         "type": "histogram"
        },
        {
         "alignmentgroup": "True",
         "bingroup": "x",
         "histfunc": "sum",
         "hovertemplate": "user_sex=%{x}<br>user_age=35<br>sum of user_age=%{y}<extra></extra>",
         "legendgroup": "female, 35",
         "marker": {
          "color": "#636efa",
          "pattern": {
           "shape": "+"
          }
         },
         "name": "female, 35",
         "offsetgroup": "female, 35",
         "orientation": "v",
         "showlegend": true,
         "x": [
          "female",
          "female",
          "female",
          "female",
          "female",
          "female"
         ],
         "xaxis": "x",
         "y": [
          35,
          35,
          35,
          35,
          35,
          35
         ],
         "yaxis": "y",
         "type": "histogram"
        },
        {
         "alignmentgroup": "True",
         "bingroup": "x",
         "histfunc": "sum",
         "hovertemplate": "user_sex=%{x}<br>user_age=29<br>sum of user_age=%{y}<extra></extra>",
         "legendgroup": "female, 29",
         "marker": {
          "color": "#636efa",
          "pattern": {
           "shape": "."
          }
         },
         "name": "female, 29",
         "offsetgroup": "female, 29",
         "orientation": "v",
         "showlegend": true,
         "x": [
          "female",
          "female",
          "female",
          "female",
          "female",
          "female",
          "female",
          "female",
          "female"
         ],
         "xaxis": "x",
         "y": [
          29,
          29,
          29,
          29,
          29,
          29,
          29,
          29,
          29
         ],
         "yaxis": "y",
         "type": "histogram"
        },
        {
         "alignmentgroup": "True",
         "bingroup": "x",
         "histfunc": "sum",
         "hovertemplate": "user_sex=%{x}<br>user_age=44<br>sum of user_age=%{y}<extra></extra>",
         "legendgroup": "female, 44",
         "marker": {
          "color": "#636efa",
          "pattern": {
           "shape": ""
          }
         },
         "name": "female, 44",
         "offsetgroup": "female, 44",
         "orientation": "v",
         "showlegend": true,
         "x": [
          "female",
          "female",
          "female",
          "female",
          "female",
          "female",
          "female"
         ],
         "xaxis": "x",
         "y": [
          44,
          44,
          44,
          44,
          44,
          44,
          44
         ],
         "yaxis": "y",
         "type": "histogram"
        },
        {
         "alignmentgroup": "True",
         "bingroup": "x",
         "histfunc": "sum",
         "hovertemplate": "user_sex=%{x}<br>user_age=36<br>sum of user_age=%{y}<extra></extra>",
         "legendgroup": "female, 36",
         "marker": {
          "color": "#636efa",
          "pattern": {
           "shape": "/"
          }
         },
         "name": "female, 36",
         "offsetgroup": "female, 36",
         "orientation": "v",
         "showlegend": true,
         "x": [
          "female",
          "female",
          "female",
          "female",
          "female",
          "female",
          "female",
          "female",
          "female",
          "female",
          "female"
         ],
         "xaxis": "x",
         "y": [
          36,
          36,
          36,
          36,
          36,
          36,
          36,
          36,
          36,
          36,
          36
         ],
         "yaxis": "y",
         "type": "histogram"
        },
        {
         "alignmentgroup": "True",
         "bingroup": "x",
         "histfunc": "sum",
         "hovertemplate": "user_sex=%{x}<br>user_age=45<br>sum of user_age=%{y}<extra></extra>",
         "legendgroup": "female, 45",
         "marker": {
          "color": "#636efa",
          "pattern": {
           "shape": "\\"
          }
         },
         "name": "female, 45",
         "offsetgroup": "female, 45",
         "orientation": "v",
         "showlegend": true,
         "x": [
          "female",
          "female",
          "female",
          "female",
          "female",
          "female"
         ],
         "xaxis": "x",
         "y": [
          45,
          45,
          45,
          45,
          45,
          45
         ],
         "yaxis": "y",
         "type": "histogram"
        },
        {
         "alignmentgroup": "True",
         "bingroup": "x",
         "histfunc": "sum",
         "hovertemplate": "user_sex=%{x}<br>user_age=25<br>sum of user_age=%{y}<extra></extra>",
         "legendgroup": "female, 25",
         "marker": {
          "color": "#636efa",
          "pattern": {
           "shape": "x"
          }
         },
         "name": "female, 25",
         "offsetgroup": "female, 25",
         "orientation": "v",
         "showlegend": true,
         "x": [
          "female",
          "female",
          "female",
          "female",
          "female",
          "female"
         ],
         "xaxis": "x",
         "y": [
          25,
          25,
          25,
          25,
          25,
          25
         ],
         "yaxis": "y",
         "type": "histogram"
        },
        {
         "alignmentgroup": "True",
         "bingroup": "x",
         "histfunc": "sum",
         "hovertemplate": "user_sex=%{x}<br>user_age=53<br>sum of user_age=%{y}<extra></extra>",
         "legendgroup": "female, 53",
         "marker": {
          "color": "#636efa",
          "pattern": {
           "shape": "+"
          }
         },
         "name": "female, 53",
         "offsetgroup": "female, 53",
         "orientation": "v",
         "showlegend": true,
         "x": [
          "female",
          "female",
          "female",
          "female"
         ],
         "xaxis": "x",
         "y": [
          53,
          53,
          53,
          53
         ],
         "yaxis": "y",
         "type": "histogram"
        },
        {
         "alignmentgroup": "True",
         "bingroup": "x",
         "histfunc": "sum",
         "hovertemplate": "user_sex=%{x}<br>user_age=19<br>sum of user_age=%{y}<extra></extra>",
         "legendgroup": "female, 19",
         "marker": {
          "color": "#636efa",
          "pattern": {
           "shape": "."
          }
         },
         "name": "female, 19",
         "offsetgroup": "female, 19",
         "orientation": "v",
         "showlegend": true,
         "x": [
          "female",
          "female",
          "female"
         ],
         "xaxis": "x",
         "y": [
          19,
          19,
          19
         ],
         "yaxis": "y",
         "type": "histogram"
        },
        {
         "alignmentgroup": "True",
         "bingroup": "x",
         "histfunc": "sum",
         "hovertemplate": "user_sex=%{x}<br>user_age=41<br>sum of user_age=%{y}<extra></extra>",
         "legendgroup": "female, 41",
         "marker": {
          "color": "#636efa",
          "pattern": {
           "shape": ""
          }
         },
         "name": "female, 41",
         "offsetgroup": "female, 41",
         "orientation": "v",
         "showlegend": true,
         "x": [
          "female",
          "female",
          "female",
          "female",
          "female",
          "female",
          "female",
          "female",
          "female",
          "female",
          "female"
         ],
         "xaxis": "x",
         "y": [
          41,
          41,
          41,
          41,
          41,
          41,
          41,
          41,
          41,
          41,
          41
         ],
         "yaxis": "y",
         "type": "histogram"
        },
        {
         "alignmentgroup": "True",
         "bingroup": "x",
         "histfunc": "sum",
         "hovertemplate": "user_sex=%{x}<br>user_age=60<br>sum of user_age=%{y}<extra></extra>",
         "legendgroup": "female, 60",
         "marker": {
          "color": "#636efa",
          "pattern": {
           "shape": "/"
          }
         },
         "name": "female, 60",
         "offsetgroup": "female, 60",
         "orientation": "v",
         "showlegend": true,
         "x": [
          "female",
          "female"
         ],
         "xaxis": "x",
         "y": [
          60,
          60
         ],
         "yaxis": "y",
         "type": "histogram"
        },
        {
         "alignmentgroup": "True",
         "bingroup": "x",
         "histfunc": "sum",
         "hovertemplate": "user_sex=%{x}<br>user_age=10<br>sum of user_age=%{y}<extra></extra>",
         "legendgroup": "female, 10",
         "marker": {
          "color": "#636efa",
          "pattern": {
           "shape": "\\"
          }
         },
         "name": "female, 10",
         "offsetgroup": "female, 10",
         "orientation": "v",
         "showlegend": true,
         "x": [
          "female"
         ],
         "xaxis": "x",
         "y": [
          10
         ],
         "yaxis": "y",
         "type": "histogram"
        },
        {
         "alignmentgroup": "True",
         "bingroup": "x",
         "histfunc": "sum",
         "hovertemplate": "user_sex=%{x}<br>user_age=11<br>sum of user_age=%{y}<extra></extra>",
         "legendgroup": "female, 11",
         "marker": {
          "color": "#636efa",
          "pattern": {
           "shape": "x"
          }
         },
         "name": "female, 11",
         "offsetgroup": "female, 11",
         "orientation": "v",
         "showlegend": true,
         "x": [
          "female"
         ],
         "xaxis": "x",
         "y": [
          11
         ],
         "yaxis": "y",
         "type": "histogram"
        },
        {
         "alignmentgroup": "True",
         "bingroup": "x",
         "histfunc": "sum",
         "hovertemplate": "user_sex=%{x}<br>user_age=56<br>sum of user_age=%{y}<extra></extra>",
         "legendgroup": "female, 56",
         "marker": {
          "color": "#636efa",
          "pattern": {
           "shape": "+"
          }
         },
         "name": "female, 56",
         "offsetgroup": "female, 56",
         "orientation": "v",
         "showlegend": true,
         "x": [
          "female",
          "female"
         ],
         "xaxis": "x",
         "y": [
          56,
          56
         ],
         "yaxis": "y",
         "type": "histogram"
        },
        {
         "alignmentgroup": "True",
         "bingroup": "x",
         "histfunc": "sum",
         "hovertemplate": "user_sex=%{x}<br>user_age=18<br>sum of user_age=%{y}<extra></extra>",
         "legendgroup": "female, 18",
         "marker": {
          "color": "#636efa",
          "pattern": {
           "shape": "."
          }
         },
         "name": "female, 18",
         "offsetgroup": "female, 18",
         "orientation": "v",
         "showlegend": true,
         "x": [
          "female",
          "female"
         ],
         "xaxis": "x",
         "y": [
          18,
          18
         ],
         "yaxis": "y",
         "type": "histogram"
        },
        {
         "alignmentgroup": "True",
         "bingroup": "x",
         "histfunc": "sum",
         "hovertemplate": "user_sex=%{x}<br>user_age=12<br>sum of user_age=%{y}<extra></extra>",
         "legendgroup": "female, 12",
         "marker": {
          "color": "#636efa",
          "pattern": {
           "shape": ""
          }
         },
         "name": "female, 12",
         "offsetgroup": "female, 12",
         "orientation": "v",
         "showlegend": true,
         "x": [
          "female"
         ],
         "xaxis": "x",
         "y": [
          12
         ],
         "yaxis": "y",
         "type": "histogram"
        },
        {
         "alignmentgroup": "True",
         "bingroup": "x",
         "histfunc": "sum",
         "hovertemplate": "user_sex=%{x}<br>user_age=13<br>sum of user_age=%{y}<extra></extra>",
         "legendgroup": "female, 13",
         "marker": {
          "color": "#636efa",
          "pattern": {
           "shape": "/"
          }
         },
         "name": "female, 13",
         "offsetgroup": "female, 13",
         "orientation": "v",
         "showlegend": true,
         "x": [
          "female",
          "female"
         ],
         "xaxis": "x",
         "y": [
          13,
          13
         ],
         "yaxis": "y",
         "type": "histogram"
        },
        {
         "alignmentgroup": "True",
         "bingroup": "x",
         "histfunc": "sum",
         "hovertemplate": "user_sex=%{x}<br>user_age=42<br>sum of user_age=%{y}<extra></extra>",
         "legendgroup": "female, 42",
         "marker": {
          "color": "#636efa",
          "pattern": {
           "shape": "\\"
          }
         },
         "name": "female, 42",
         "offsetgroup": "female, 42",
         "orientation": "v",
         "showlegend": true,
         "x": [
          "female",
          "female",
          "female"
         ],
         "xaxis": "x",
         "y": [
          42,
          42,
          42
         ],
         "yaxis": "y",
         "type": "histogram"
        },
        {
         "alignmentgroup": "True",
         "bingroup": "x",
         "histfunc": "sum",
         "hovertemplate": "user_sex=%{x}<br>user_age=43<br>sum of user_age=%{y}<extra></extra>",
         "legendgroup": "female, 43",
         "marker": {
          "color": "#636efa",
          "pattern": {
           "shape": "x"
          }
         },
         "name": "female, 43",
         "offsetgroup": "female, 43",
         "orientation": "v",
         "showlegend": true,
         "x": [
          "female",
          "female",
          "female",
          "female",
          "female"
         ],
         "xaxis": "x",
         "y": [
          43,
          43,
          43,
          43,
          43
         ],
         "yaxis": "y",
         "type": "histogram"
        },
        {
         "alignmentgroup": "True",
         "bingroup": "x",
         "histfunc": "sum",
         "hovertemplate": "user_sex=%{x}<br>user_age=37<br>sum of user_age=%{y}<extra></extra>",
         "legendgroup": "female, 37",
         "marker": {
          "color": "#636efa",
          "pattern": {
           "shape": "+"
          }
         },
         "name": "female, 37",
         "offsetgroup": "female, 37",
         "orientation": "v",
         "showlegend": true,
         "x": [
          "female",
          "female",
          "female",
          "female",
          "female",
          "female",
          "female",
          "female"
         ],
         "xaxis": "x",
         "y": [
          37,
          37,
          37,
          37,
          37,
          37,
          37,
          37
         ],
         "yaxis": "y",
         "type": "histogram"
        },
        {
         "alignmentgroup": "True",
         "bingroup": "x",
         "histfunc": "sum",
         "hovertemplate": "user_sex=%{x}<br>user_age=15<br>sum of user_age=%{y}<extra></extra>",
         "legendgroup": "female, 15",
         "marker": {
          "color": "#636efa",
          "pattern": {
           "shape": "."
          }
         },
         "name": "female, 15",
         "offsetgroup": "female, 15",
         "orientation": "v",
         "showlegend": true,
         "x": [
          "female"
         ],
         "xaxis": "x",
         "y": [
          15
         ],
         "yaxis": "y",
         "type": "histogram"
        },
        {
         "alignmentgroup": "True",
         "bingroup": "x",
         "histfunc": "sum",
         "hovertemplate": "user_sex=%{x}<br>user_age=17<br>sum of user_age=%{y}<extra></extra>",
         "legendgroup": "female, 17",
         "marker": {
          "color": "#636efa",
          "pattern": {
           "shape": "/"
          }
         },
         "name": "female, 17",
         "offsetgroup": "female, 17",
         "orientation": "v",
         "showlegend": true,
         "x": [
          "female"
         ],
         "xaxis": "x",
         "y": [
          17
         ],
         "yaxis": "y",
         "type": "histogram"
        },
        {
         "alignmentgroup": "True",
         "bingroup": "x",
         "histfunc": "sum",
         "hovertemplate": "user_sex=%{x}<br>user_age=21<br>sum of user_age=%{y}<extra></extra>",
         "legendgroup": "female, 21",
         "marker": {
          "color": "#636efa",
          "pattern": {
           "shape": "\\"
          }
         },
         "name": "female, 21",
         "offsetgroup": "female, 21",
         "orientation": "v",
         "showlegend": true,
         "x": [
          "female",
          "female"
         ],
         "xaxis": "x",
         "y": [
          21,
          21
         ],
         "yaxis": "y",
         "type": "histogram"
        },
        {
         "alignmentgroup": "True",
         "bingroup": "x",
         "histfunc": "sum",
         "hovertemplate": "user_sex=%{x}<br>user_age=14<br>sum of user_age=%{y}<extra></extra>",
         "legendgroup": "female, 14",
         "marker": {
          "color": "#636efa",
          "pattern": {
           "shape": "x"
          }
         },
         "name": "female, 14",
         "offsetgroup": "female, 14",
         "orientation": "v",
         "showlegend": true,
         "x": [
          "female"
         ],
         "xaxis": "x",
         "y": [
          14
         ],
         "yaxis": "y",
         "type": "histogram"
        },
        {
         "alignmentgroup": "True",
         "bingroup": "x",
         "histfunc": "sum",
         "hovertemplate": "user_sex=%{x}<br>user_age=27<br>sum of user_age=%{y}<extra></extra>",
         "legendgroup": "female, 27",
         "marker": {
          "color": "#636efa",
          "pattern": {
           "shape": "+"
          }
         },
         "name": "female, 27",
         "offsetgroup": "female, 27",
         "orientation": "v",
         "showlegend": true,
         "x": [
          "female",
          "female",
          "female",
          "female"
         ],
         "xaxis": "x",
         "y": [
          27,
          27,
          27,
          27
         ],
         "yaxis": "y",
         "type": "histogram"
        },
        {
         "alignmentgroup": "True",
         "bingroup": "x",
         "histfunc": "sum",
         "hovertemplate": "user_sex=%{x}<br>user_age=61<br>sum of user_age=%{y}<extra></extra>",
         "legendgroup": "female, 61",
         "marker": {
          "color": "#636efa",
          "pattern": {
           "shape": ""
          }
         },
         "name": "female, 61",
         "offsetgroup": "female, 61",
         "orientation": "v",
         "showlegend": true,
         "x": [
          "female",
          "female"
         ],
         "xaxis": "x",
         "y": [
          61,
          61
         ],
         "yaxis": "y",
         "type": "histogram"
        },
        {
         "alignmentgroup": "True",
         "bingroup": "x",
         "histfunc": "sum",
         "hovertemplate": "user_sex=%{x}<br>user_age=49<br>sum of user_age=%{y}<extra></extra>",
         "legendgroup": "female, 49",
         "marker": {
          "color": "#636efa",
          "pattern": {
           "shape": "/"
          }
         },
         "name": "female, 49",
         "offsetgroup": "female, 49",
         "orientation": "v",
         "showlegend": true,
         "x": [
          "female"
         ],
         "xaxis": "x",
         "y": [
          49
         ],
         "yaxis": "y",
         "type": "histogram"
        },
        {
         "alignmentgroup": "True",
         "bingroup": "x",
         "histfunc": "sum",
         "hovertemplate": "user_sex=%{x}<br>user_age=8<br>sum of user_age=%{y}<extra></extra>",
         "legendgroup": "female, 8",
         "marker": {
          "color": "#636efa",
          "pattern": {
           "shape": "\\"
          }
         },
         "name": "female, 8",
         "offsetgroup": "female, 8",
         "orientation": "v",
         "showlegend": true,
         "x": [
          "female"
         ],
         "xaxis": "x",
         "y": [
          8
         ],
         "yaxis": "y",
         "type": "histogram"
        },
        {
         "alignmentgroup": "True",
         "bingroup": "x",
         "histfunc": "sum",
         "hovertemplate": "user_sex=%{x}<br>user_age=62<br>sum of user_age=%{y}<extra></extra>",
         "legendgroup": "female, 62",
         "marker": {
          "color": "#636efa",
          "pattern": {
           "shape": "+"
          }
         },
         "name": "female, 62",
         "offsetgroup": "female, 62",
         "orientation": "v",
         "showlegend": true,
         "x": [
          "female"
         ],
         "xaxis": "x",
         "y": [
          62
         ],
         "yaxis": "y",
         "type": "histogram"
        },
        {
         "alignmentgroup": "True",
         "bingroup": "x",
         "histfunc": "sum",
         "hovertemplate": "user_sex=%{x}<br>user_age=54<br>sum of user_age=%{y}<extra></extra>",
         "legendgroup": "female, 54",
         "marker": {
          "color": "#636efa",
          "pattern": {
           "shape": "."
          }
         },
         "name": "female, 54",
         "offsetgroup": "female, 54",
         "orientation": "v",
         "showlegend": true,
         "x": [
          "female",
          "female"
         ],
         "xaxis": "x",
         "y": [
          54,
          54
         ],
         "yaxis": "y",
         "type": "histogram"
        },
        {
         "alignmentgroup": "True",
         "bingroup": "x",
         "histfunc": "sum",
         "hovertemplate": "user_sex=%{x}<br>user_age=58<br>sum of user_age=%{y}<extra></extra>",
         "legendgroup": "female, 58",
         "marker": {
          "color": "#636efa",
          "pattern": {
           "shape": ""
          }
         },
         "name": "female, 58",
         "offsetgroup": "female, 58",
         "orientation": "v",
         "showlegend": true,
         "x": [
          "female"
         ],
         "xaxis": "x",
         "y": [
          58
         ],
         "yaxis": "y",
         "type": "histogram"
        },
        {
         "alignmentgroup": "True",
         "bingroup": "x",
         "histfunc": "sum",
         "hovertemplate": "user_sex=%{x}<br>user_age=50<br>sum of user_age=%{y}<extra></extra>",
         "legendgroup": "male, 50",
         "marker": {
          "color": "#EF553B",
          "pattern": {
           "shape": ""
          }
         },
         "name": "male, 50",
         "offsetgroup": "male, 50",
         "orientation": "v",
         "showlegend": true,
         "x": [
          "male",
          "male",
          "male",
          "male"
         ],
         "xaxis": "x",
         "y": [
          50,
          50,
          50,
          50
         ],
         "yaxis": "y",
         "type": "histogram"
        },
        {
         "alignmentgroup": "True",
         "bingroup": "x",
         "histfunc": "sum",
         "hovertemplate": "user_sex=%{x}<br>user_age=23<br>sum of user_age=%{y}<extra></extra>",
         "legendgroup": "male, 23",
         "marker": {
          "color": "#EF553B",
          "pattern": {
           "shape": "/"
          }
         },
         "name": "male, 23",
         "offsetgroup": "male, 23",
         "orientation": "v",
         "showlegend": true,
         "x": [
          "male",
          "male",
          "male",
          "male",
          "male",
          "male",
          "male",
          "male"
         ],
         "xaxis": "x",
         "y": [
          23,
          23,
          23,
          23,
          23,
          23,
          23,
          23
         ],
         "yaxis": "y",
         "type": "histogram"
        },
        {
         "alignmentgroup": "True",
         "bingroup": "x",
         "histfunc": "sum",
         "hovertemplate": "user_sex=%{x}<br>user_age=32<br>sum of user_age=%{y}<extra></extra>",
         "legendgroup": "male, 32",
         "marker": {
          "color": "#EF553B",
          "pattern": {
           "shape": "\\"
          }
         },
         "name": "male, 32",
         "offsetgroup": "male, 32",
         "orientation": "v",
         "showlegend": true,
         "x": [
          "male",
          "male",
          "male",
          "male",
          "male",
          "male"
         ],
         "xaxis": "x",
         "y": [
          32,
          32,
          32,
          32,
          32,
          32
         ],
         "yaxis": "y",
         "type": "histogram"
        },
        {
         "alignmentgroup": "True",
         "bingroup": "x",
         "histfunc": "sum",
         "hovertemplate": "user_sex=%{x}<br>user_age=24<br>sum of user_age=%{y}<extra></extra>",
         "legendgroup": "male, 24",
         "marker": {
          "color": "#EF553B",
          "pattern": {
           "shape": "x"
          }
         },
         "name": "male, 24",
         "offsetgroup": "male, 24",
         "orientation": "v",
         "showlegend": true,
         "x": [
          "male"
         ],
         "xaxis": "x",
         "y": [
          24
         ],
         "yaxis": "y",
         "type": "histogram"
        },
        {
         "alignmentgroup": "True",
         "bingroup": "x",
         "histfunc": "sum",
         "hovertemplate": "user_sex=%{x}<br>user_age=40<br>sum of user_age=%{y}<extra></extra>",
         "legendgroup": "male, 40",
         "marker": {
          "color": "#EF553B",
          "pattern": {
           "shape": "+"
          }
         },
         "name": "male, 40",
         "offsetgroup": "male, 40",
         "orientation": "v",
         "showlegend": true,
         "x": [
          "male",
          "male",
          "male",
          "male",
          "male"
         ],
         "xaxis": "x",
         "y": [
          40,
          40,
          40,
          40,
          40
         ],
         "yaxis": "y",
         "type": "histogram"
        },
        {
         "alignmentgroup": "True",
         "bingroup": "x",
         "histfunc": "sum",
         "hovertemplate": "user_sex=%{x}<br>user_age=16<br>sum of user_age=%{y}<extra></extra>",
         "legendgroup": "male, 16",
         "marker": {
          "color": "#EF553B",
          "pattern": {
           "shape": "."
          }
         },
         "name": "male, 16",
         "offsetgroup": "male, 16",
         "orientation": "v",
         "showlegend": true,
         "x": [
          "male",
          "male",
          "male"
         ],
         "xaxis": "x",
         "y": [
          16,
          16,
          16
         ],
         "yaxis": "y",
         "type": "histogram"
        },
        {
         "alignmentgroup": "True",
         "bingroup": "x",
         "histfunc": "sum",
         "hovertemplate": "user_sex=%{x}<br>user_age=26<br>sum of user_age=%{y}<extra></extra>",
         "legendgroup": "male, 26",
         "marker": {
          "color": "#EF553B",
          "pattern": {
           "shape": ""
          }
         },
         "name": "male, 26",
         "offsetgroup": "male, 26",
         "orientation": "v",
         "showlegend": true,
         "x": [
          "male",
          "male",
          "male"
         ],
         "xaxis": "x",
         "y": [
          26,
          26,
          26
         ],
         "yaxis": "y",
         "type": "histogram"
        },
        {
         "alignmentgroup": "True",
         "bingroup": "x",
         "histfunc": "sum",
         "hovertemplate": "user_sex=%{x}<br>user_age=28<br>sum of user_age=%{y}<extra></extra>",
         "legendgroup": "male, 28",
         "marker": {
          "color": "#EF553B",
          "pattern": {
           "shape": "/"
          }
         },
         "name": "male, 28",
         "offsetgroup": "male, 28",
         "orientation": "v",
         "showlegend": true,
         "x": [
          "male",
          "male",
          "male",
          "male",
          "male",
          "male"
         ],
         "xaxis": "x",
         "y": [
          28,
          28,
          28,
          28,
          28,
          28
         ],
         "yaxis": "y",
         "type": "histogram"
        },
        {
         "alignmentgroup": "True",
         "bingroup": "x",
         "histfunc": "sum",
         "hovertemplate": "user_sex=%{x}<br>user_age=52<br>sum of user_age=%{y}<extra></extra>",
         "legendgroup": "male, 52",
         "marker": {
          "color": "#EF553B",
          "pattern": {
           "shape": "\\"
          }
         },
         "name": "male, 52",
         "offsetgroup": "male, 52",
         "orientation": "v",
         "showlegend": true,
         "x": [
          "male",
          "male"
         ],
         "xaxis": "x",
         "y": [
          52,
          52
         ],
         "yaxis": "y",
         "type": "histogram"
        },
        {
         "alignmentgroup": "True",
         "bingroup": "x",
         "histfunc": "sum",
         "hovertemplate": "user_sex=%{x}<br>user_age=46<br>sum of user_age=%{y}<extra></extra>",
         "legendgroup": "male, 46",
         "marker": {
          "color": "#EF553B",
          "pattern": {
           "shape": "x"
          }
         },
         "name": "male, 46",
         "offsetgroup": "male, 46",
         "orientation": "v",
         "showlegend": true,
         "x": [
          "male",
          "male",
          "male",
          "male"
         ],
         "xaxis": "x",
         "y": [
          46,
          46,
          46,
          46
         ],
         "yaxis": "y",
         "type": "histogram"
        },
        {
         "alignmentgroup": "True",
         "bingroup": "x",
         "histfunc": "sum",
         "hovertemplate": "user_sex=%{x}<br>user_age=34<br>sum of user_age=%{y}<extra></extra>",
         "legendgroup": "male, 34",
         "marker": {
          "color": "#EF553B",
          "pattern": {
           "shape": "+"
          }
         },
         "name": "male, 34",
         "offsetgroup": "male, 34",
         "orientation": "v",
         "showlegend": true,
         "x": [
          "male",
          "male",
          "male",
          "male",
          "male",
          "male",
          "male",
          "male",
          "male",
          "male",
          "male"
         ],
         "xaxis": "x",
         "y": [
          34,
          34,
          34,
          34,
          34,
          34,
          34,
          34,
          34,
          34,
          34
         ],
         "yaxis": "y",
         "type": "histogram"
        },
        {
         "alignmentgroup": "True",
         "bingroup": "x",
         "histfunc": "sum",
         "hovertemplate": "user_sex=%{x}<br>user_age=51<br>sum of user_age=%{y}<extra></extra>",
         "legendgroup": "male, 51",
         "marker": {
          "color": "#EF553B",
          "pattern": {
           "shape": "."
          }
         },
         "name": "male, 51",
         "offsetgroup": "male, 51",
         "orientation": "v",
         "showlegend": true,
         "x": [
          "male",
          "male",
          "male",
          "male",
          "male",
          "male",
          "male"
         ],
         "xaxis": "x",
         "y": [
          51,
          51,
          51,
          51,
          51,
          51,
          51
         ],
         "yaxis": "y",
         "type": "histogram"
        },
        {
         "alignmentgroup": "True",
         "bingroup": "x",
         "histfunc": "sum",
         "hovertemplate": "user_sex=%{x}<br>user_age=38<br>sum of user_age=%{y}<extra></extra>",
         "legendgroup": "male, 38",
         "marker": {
          "color": "#EF553B",
          "pattern": {
           "shape": ""
          }
         },
         "name": "male, 38",
         "offsetgroup": "male, 38",
         "orientation": "v",
         "showlegend": true,
         "x": [
          "male",
          "male",
          "male",
          "male",
          "male",
          "male",
          "male",
          "male"
         ],
         "xaxis": "x",
         "y": [
          38,
          38,
          38,
          38,
          38,
          38,
          38,
          38
         ],
         "yaxis": "y",
         "type": "histogram"
        },
        {
         "alignmentgroup": "True",
         "bingroup": "x",
         "histfunc": "sum",
         "hovertemplate": "user_sex=%{x}<br>user_age=47<br>sum of user_age=%{y}<extra></extra>",
         "legendgroup": "male, 47",
         "marker": {
          "color": "#EF553B",
          "pattern": {
           "shape": "/"
          }
         },
         "name": "male, 47",
         "offsetgroup": "male, 47",
         "orientation": "v",
         "showlegend": true,
         "x": [
          "male",
          "male"
         ],
         "xaxis": "x",
         "y": [
          47,
          47
         ],
         "yaxis": "y",
         "type": "histogram"
        },
        {
         "alignmentgroup": "True",
         "bingroup": "x",
         "histfunc": "sum",
         "hovertemplate": "user_sex=%{x}<br>user_age=39<br>sum of user_age=%{y}<extra></extra>",
         "legendgroup": "male, 39",
         "marker": {
          "color": "#EF553B",
          "pattern": {
           "shape": "\\"
          }
         },
         "name": "male, 39",
         "offsetgroup": "male, 39",
         "orientation": "v",
         "showlegend": true,
         "x": [
          "male",
          "male"
         ],
         "xaxis": "x",
         "y": [
          39,
          39
         ],
         "yaxis": "y",
         "type": "histogram"
        },
        {
         "alignmentgroup": "True",
         "bingroup": "x",
         "histfunc": "sum",
         "hovertemplate": "user_sex=%{x}<br>user_age=20<br>sum of user_age=%{y}<extra></extra>",
         "legendgroup": "male, 20",
         "marker": {
          "color": "#EF553B",
          "pattern": {
           "shape": "x"
          }
         },
         "name": "male, 20",
         "offsetgroup": "male, 20",
         "orientation": "v",
         "showlegend": true,
         "x": [
          "male",
          "male",
          "male",
          "male"
         ],
         "xaxis": "x",
         "y": [
          20,
          20,
          20,
          20
         ],
         "yaxis": "y",
         "type": "histogram"
        },
        {
         "alignmentgroup": "True",
         "bingroup": "x",
         "histfunc": "sum",
         "hovertemplate": "user_sex=%{x}<br>user_age=31<br>sum of user_age=%{y}<extra></extra>",
         "legendgroup": "male, 31",
         "marker": {
          "color": "#EF553B",
          "pattern": {
           "shape": "+"
          }
         },
         "name": "male, 31",
         "offsetgroup": "male, 31",
         "orientation": "v",
         "showlegend": true,
         "x": [
          "male",
          "male",
          "male",
          "male",
          "male"
         ],
         "xaxis": "x",
         "y": [
          31,
          31,
          31,
          31,
          31
         ],
         "yaxis": "y",
         "type": "histogram"
        },
        {
         "alignmentgroup": "True",
         "bingroup": "x",
         "histfunc": "sum",
         "hovertemplate": "user_sex=%{x}<br>user_age=22<br>sum of user_age=%{y}<extra></extra>",
         "legendgroup": "male, 22",
         "marker": {
          "color": "#EF553B",
          "pattern": {
           "shape": "."
          }
         },
         "name": "male, 22",
         "offsetgroup": "male, 22",
         "orientation": "v",
         "showlegend": true,
         "x": [
          "male"
         ],
         "xaxis": "x",
         "y": [
          22
         ],
         "yaxis": "y",
         "type": "histogram"
        },
        {
         "alignmentgroup": "True",
         "bingroup": "x",
         "histfunc": "sum",
         "hovertemplate": "user_sex=%{x}<br>user_age=30<br>sum of user_age=%{y}<extra></extra>",
         "legendgroup": "male, 30",
         "marker": {
          "color": "#EF553B",
          "pattern": {
           "shape": "/"
          }
         },
         "name": "male, 30",
         "offsetgroup": "male, 30",
         "orientation": "v",
         "showlegend": true,
         "x": [
          "male",
          "male",
          "male",
          "male",
          "male"
         ],
         "xaxis": "x",
         "y": [
          30,
          30,
          30,
          30,
          30
         ],
         "yaxis": "y",
         "type": "histogram"
        },
        {
         "alignmentgroup": "True",
         "bingroup": "x",
         "histfunc": "sum",
         "hovertemplate": "user_sex=%{x}<br>user_age=33<br>sum of user_age=%{y}<extra></extra>",
         "legendgroup": "male, 33",
         "marker": {
          "color": "#EF553B",
          "pattern": {
           "shape": "\\"
          }
         },
         "name": "male, 33",
         "offsetgroup": "male, 33",
         "orientation": "v",
         "showlegend": true,
         "x": [
          "male",
          "male",
          "male",
          "male",
          "male",
          "male",
          "male",
          "male",
          "male",
          "male",
          "male"
         ],
         "xaxis": "x",
         "y": [
          33,
          33,
          33,
          33,
          33,
          33,
          33,
          33,
          33,
          33,
          33
         ],
         "yaxis": "y",
         "type": "histogram"
        },
        {
         "alignmentgroup": "True",
         "bingroup": "x",
         "histfunc": "sum",
         "hovertemplate": "user_sex=%{x}<br>user_age=48<br>sum of user_age=%{y}<extra></extra>",
         "legendgroup": "male, 48",
         "marker": {
          "color": "#EF553B",
          "pattern": {
           "shape": "x"
          }
         },
         "name": "male, 48",
         "offsetgroup": "male, 48",
         "orientation": "v",
         "showlegend": true,
         "x": [
          "male",
          "male",
          "male",
          "male",
          "male",
          "male"
         ],
         "xaxis": "x",
         "y": [
          48,
          48,
          48,
          48,
          48,
          48
         ],
         "yaxis": "y",
         "type": "histogram"
        },
        {
         "alignmentgroup": "True",
         "bingroup": "x",
         "histfunc": "sum",
         "hovertemplate": "user_sex=%{x}<br>user_age=35<br>sum of user_age=%{y}<extra></extra>",
         "legendgroup": "male, 35",
         "marker": {
          "color": "#EF553B",
          "pattern": {
           "shape": "+"
          }
         },
         "name": "male, 35",
         "offsetgroup": "male, 35",
         "orientation": "v",
         "showlegend": true,
         "x": [
          "male",
          "male",
          "male",
          "male",
          "male"
         ],
         "xaxis": "x",
         "y": [
          35,
          35,
          35,
          35,
          35
         ],
         "yaxis": "y",
         "type": "histogram"
        },
        {
         "alignmentgroup": "True",
         "bingroup": "x",
         "histfunc": "sum",
         "hovertemplate": "user_sex=%{x}<br>user_age=29<br>sum of user_age=%{y}<extra></extra>",
         "legendgroup": "male, 29",
         "marker": {
          "color": "#EF553B",
          "pattern": {
           "shape": "."
          }
         },
         "name": "male, 29",
         "offsetgroup": "male, 29",
         "orientation": "v",
         "showlegend": true,
         "x": [
          "male",
          "male"
         ],
         "xaxis": "x",
         "y": [
          29,
          29
         ],
         "yaxis": "y",
         "type": "histogram"
        },
        {
         "alignmentgroup": "True",
         "bingroup": "x",
         "histfunc": "sum",
         "hovertemplate": "user_sex=%{x}<br>user_age=44<br>sum of user_age=%{y}<extra></extra>",
         "legendgroup": "male, 44",
         "marker": {
          "color": "#EF553B",
          "pattern": {
           "shape": ""
          }
         },
         "name": "male, 44",
         "offsetgroup": "male, 44",
         "orientation": "v",
         "showlegend": true,
         "x": [
          "male",
          "male",
          "male",
          "male",
          "male"
         ],
         "xaxis": "x",
         "y": [
          44,
          44,
          44,
          44,
          44
         ],
         "yaxis": "y",
         "type": "histogram"
        },
        {
         "alignmentgroup": "True",
         "bingroup": "x",
         "histfunc": "sum",
         "hovertemplate": "user_sex=%{x}<br>user_age=36<br>sum of user_age=%{y}<extra></extra>",
         "legendgroup": "male, 36",
         "marker": {
          "color": "#EF553B",
          "pattern": {
           "shape": "/"
          }
         },
         "name": "male, 36",
         "offsetgroup": "male, 36",
         "orientation": "v",
         "showlegend": true,
         "x": [
          "male",
          "male",
          "male",
          "male",
          "male"
         ],
         "xaxis": "x",
         "y": [
          36,
          36,
          36,
          36,
          36
         ],
         "yaxis": "y",
         "type": "histogram"
        },
        {
         "alignmentgroup": "True",
         "bingroup": "x",
         "histfunc": "sum",
         "hovertemplate": "user_sex=%{x}<br>user_age=45<br>sum of user_age=%{y}<extra></extra>",
         "legendgroup": "male, 45",
         "marker": {
          "color": "#EF553B",
          "pattern": {
           "shape": "\\"
          }
         },
         "name": "male, 45",
         "offsetgroup": "male, 45",
         "orientation": "v",
         "showlegend": true,
         "x": [
          "male",
          "male",
          "male",
          "male"
         ],
         "xaxis": "x",
         "y": [
          45,
          45,
          45,
          45
         ],
         "yaxis": "y",
         "type": "histogram"
        },
        {
         "alignmentgroup": "True",
         "bingroup": "x",
         "histfunc": "sum",
         "hovertemplate": "user_sex=%{x}<br>user_age=25<br>sum of user_age=%{y}<extra></extra>",
         "legendgroup": "male, 25",
         "marker": {
          "color": "#EF553B",
          "pattern": {
           "shape": "x"
          }
         },
         "name": "male, 25",
         "offsetgroup": "male, 25",
         "orientation": "v",
         "showlegend": true,
         "x": [
          "male",
          "male",
          "male"
         ],
         "xaxis": "x",
         "y": [
          25,
          25,
          25
         ],
         "yaxis": "y",
         "type": "histogram"
        },
        {
         "alignmentgroup": "True",
         "bingroup": "x",
         "histfunc": "sum",
         "hovertemplate": "user_sex=%{x}<br>user_age=53<br>sum of user_age=%{y}<extra></extra>",
         "legendgroup": "male, 53",
         "marker": {
          "color": "#EF553B",
          "pattern": {
           "shape": "+"
          }
         },
         "name": "male, 53",
         "offsetgroup": "male, 53",
         "orientation": "v",
         "showlegend": true,
         "x": [
          "male",
          "male",
          "male"
         ],
         "xaxis": "x",
         "y": [
          53,
          53,
          53
         ],
         "yaxis": "y",
         "type": "histogram"
        },
        {
         "alignmentgroup": "True",
         "bingroup": "x",
         "histfunc": "sum",
         "hovertemplate": "user_sex=%{x}<br>user_age=19<br>sum of user_age=%{y}<extra></extra>",
         "legendgroup": "male, 19",
         "marker": {
          "color": "#EF553B",
          "pattern": {
           "shape": "."
          }
         },
         "name": "male, 19",
         "offsetgroup": "male, 19",
         "orientation": "v",
         "showlegend": true,
         "x": [
          "male",
          "male",
          "male",
          "male"
         ],
         "xaxis": "x",
         "y": [
          19,
          19,
          19,
          19
         ],
         "yaxis": "y",
         "type": "histogram"
        },
        {
         "alignmentgroup": "True",
         "bingroup": "x",
         "histfunc": "sum",
         "hovertemplate": "user_sex=%{x}<br>user_age=41<br>sum of user_age=%{y}<extra></extra>",
         "legendgroup": "male, 41",
         "marker": {
          "color": "#EF553B",
          "pattern": {
           "shape": ""
          }
         },
         "name": "male, 41",
         "offsetgroup": "male, 41",
         "orientation": "v",
         "showlegend": true,
         "x": [
          "male",
          "male",
          "male",
          "male",
          "male",
          "male"
         ],
         "xaxis": "x",
         "y": [
          41,
          41,
          41,
          41,
          41,
          41
         ],
         "yaxis": "y",
         "type": "histogram"
        },
        {
         "alignmentgroup": "True",
         "bingroup": "x",
         "histfunc": "sum",
         "hovertemplate": "user_sex=%{x}<br>user_age=60<br>sum of user_age=%{y}<extra></extra>",
         "legendgroup": "male, 60",
         "marker": {
          "color": "#EF553B",
          "pattern": {
           "shape": "/"
          }
         },
         "name": "male, 60",
         "offsetgroup": "male, 60",
         "orientation": "v",
         "showlegend": true,
         "x": [
          "male",
          "male"
         ],
         "xaxis": "x",
         "y": [
          60,
          60
         ],
         "yaxis": "y",
         "type": "histogram"
        },
        {
         "alignmentgroup": "True",
         "bingroup": "x",
         "histfunc": "sum",
         "hovertemplate": "user_sex=%{x}<br>user_age=56<br>sum of user_age=%{y}<extra></extra>",
         "legendgroup": "male, 56",
         "marker": {
          "color": "#EF553B",
          "pattern": {
           "shape": "+"
          }
         },
         "name": "male, 56",
         "offsetgroup": "male, 56",
         "orientation": "v",
         "showlegend": true,
         "x": [
          "male",
          "male",
          "male"
         ],
         "xaxis": "x",
         "y": [
          56,
          56,
          56
         ],
         "yaxis": "y",
         "type": "histogram"
        },
        {
         "alignmentgroup": "True",
         "bingroup": "x",
         "histfunc": "sum",
         "hovertemplate": "user_sex=%{x}<br>user_age=18<br>sum of user_age=%{y}<extra></extra>",
         "legendgroup": "male, 18",
         "marker": {
          "color": "#EF553B",
          "pattern": {
           "shape": "."
          }
         },
         "name": "male, 18",
         "offsetgroup": "male, 18",
         "orientation": "v",
         "showlegend": true,
         "x": [
          "male",
          "male"
         ],
         "xaxis": "x",
         "y": [
          18,
          18
         ],
         "yaxis": "y",
         "type": "histogram"
        },
        {
         "alignmentgroup": "True",
         "bingroup": "x",
         "histfunc": "sum",
         "hovertemplate": "user_sex=%{x}<br>user_age=12<br>sum of user_age=%{y}<extra></extra>",
         "legendgroup": "male, 12",
         "marker": {
          "color": "#EF553B",
          "pattern": {
           "shape": ""
          }
         },
         "name": "male, 12",
         "offsetgroup": "male, 12",
         "orientation": "v",
         "showlegend": true,
         "x": [
          "male",
          "male",
          "male"
         ],
         "xaxis": "x",
         "y": [
          12,
          12,
          12
         ],
         "yaxis": "y",
         "type": "histogram"
        },
        {
         "alignmentgroup": "True",
         "bingroup": "x",
         "histfunc": "sum",
         "hovertemplate": "user_sex=%{x}<br>user_age=13<br>sum of user_age=%{y}<extra></extra>",
         "legendgroup": "male, 13",
         "marker": {
          "color": "#EF553B",
          "pattern": {
           "shape": "/"
          }
         },
         "name": "male, 13",
         "offsetgroup": "male, 13",
         "orientation": "v",
         "showlegend": true,
         "x": [
          "male",
          "male"
         ],
         "xaxis": "x",
         "y": [
          13,
          13
         ],
         "yaxis": "y",
         "type": "histogram"
        },
        {
         "alignmentgroup": "True",
         "bingroup": "x",
         "histfunc": "sum",
         "hovertemplate": "user_sex=%{x}<br>user_age=42<br>sum of user_age=%{y}<extra></extra>",
         "legendgroup": "male, 42",
         "marker": {
          "color": "#EF553B",
          "pattern": {
           "shape": "\\"
          }
         },
         "name": "male, 42",
         "offsetgroup": "male, 42",
         "orientation": "v",
         "showlegend": true,
         "x": [
          "male",
          "male"
         ],
         "xaxis": "x",
         "y": [
          42,
          42
         ],
         "yaxis": "y",
         "type": "histogram"
        },
        {
         "alignmentgroup": "True",
         "bingroup": "x",
         "histfunc": "sum",
         "hovertemplate": "user_sex=%{x}<br>user_age=43<br>sum of user_age=%{y}<extra></extra>",
         "legendgroup": "male, 43",
         "marker": {
          "color": "#EF553B",
          "pattern": {
           "shape": "x"
          }
         },
         "name": "male, 43",
         "offsetgroup": "male, 43",
         "orientation": "v",
         "showlegend": true,
         "x": [
          "male",
          "male"
         ],
         "xaxis": "x",
         "y": [
          43,
          43
         ],
         "yaxis": "y",
         "type": "histogram"
        },
        {
         "alignmentgroup": "True",
         "bingroup": "x",
         "histfunc": "sum",
         "hovertemplate": "user_sex=%{x}<br>user_age=37<br>sum of user_age=%{y}<extra></extra>",
         "legendgroup": "male, 37",
         "marker": {
          "color": "#EF553B",
          "pattern": {
           "shape": "+"
          }
         },
         "name": "male, 37",
         "offsetgroup": "male, 37",
         "orientation": "v",
         "showlegend": true,
         "x": [
          "male",
          "male",
          "male",
          "male",
          "male"
         ],
         "xaxis": "x",
         "y": [
          37,
          37,
          37,
          37,
          37
         ],
         "yaxis": "y",
         "type": "histogram"
        },
        {
         "alignmentgroup": "True",
         "bingroup": "x",
         "histfunc": "sum",
         "hovertemplate": "user_sex=%{x}<br>user_age=15<br>sum of user_age=%{y}<extra></extra>",
         "legendgroup": "male, 15",
         "marker": {
          "color": "#EF553B",
          "pattern": {
           "shape": "."
          }
         },
         "name": "male, 15",
         "offsetgroup": "male, 15",
         "orientation": "v",
         "showlegend": true,
         "x": [
          "male",
          "male"
         ],
         "xaxis": "x",
         "y": [
          15,
          15
         ],
         "yaxis": "y",
         "type": "histogram"
        },
        {
         "alignmentgroup": "True",
         "bingroup": "x",
         "histfunc": "sum",
         "hovertemplate": "user_sex=%{x}<br>user_age=55<br>sum of user_age=%{y}<extra></extra>",
         "legendgroup": "male, 55",
         "marker": {
          "color": "#EF553B",
          "pattern": {
           "shape": ""
          }
         },
         "name": "male, 55",
         "offsetgroup": "male, 55",
         "orientation": "v",
         "showlegend": true,
         "x": [
          "male"
         ],
         "xaxis": "x",
         "y": [
          55
         ],
         "yaxis": "y",
         "type": "histogram"
        },
        {
         "alignmentgroup": "True",
         "bingroup": "x",
         "histfunc": "sum",
         "hovertemplate": "user_sex=%{x}<br>user_age=17<br>sum of user_age=%{y}<extra></extra>",
         "legendgroup": "male, 17",
         "marker": {
          "color": "#EF553B",
          "pattern": {
           "shape": "/"
          }
         },
         "name": "male, 17",
         "offsetgroup": "male, 17",
         "orientation": "v",
         "showlegend": true,
         "x": [
          "male",
          "male"
         ],
         "xaxis": "x",
         "y": [
          17,
          17
         ],
         "yaxis": "y",
         "type": "histogram"
        },
        {
         "alignmentgroup": "True",
         "bingroup": "x",
         "histfunc": "sum",
         "hovertemplate": "user_sex=%{x}<br>user_age=21<br>sum of user_age=%{y}<extra></extra>",
         "legendgroup": "male, 21",
         "marker": {
          "color": "#EF553B",
          "pattern": {
           "shape": "\\"
          }
         },
         "name": "male, 21",
         "offsetgroup": "male, 21",
         "orientation": "v",
         "showlegend": true,
         "x": [
          "male",
          "male",
          "male"
         ],
         "xaxis": "x",
         "y": [
          21,
          21,
          21
         ],
         "yaxis": "y",
         "type": "histogram"
        },
        {
         "alignmentgroup": "True",
         "bingroup": "x",
         "histfunc": "sum",
         "hovertemplate": "user_sex=%{x}<br>user_age=14<br>sum of user_age=%{y}<extra></extra>",
         "legendgroup": "male, 14",
         "marker": {
          "color": "#EF553B",
          "pattern": {
           "shape": "x"
          }
         },
         "name": "male, 14",
         "offsetgroup": "male, 14",
         "orientation": "v",
         "showlegend": true,
         "x": [
          "male",
          "male",
          "male"
         ],
         "xaxis": "x",
         "y": [
          14,
          14,
          14
         ],
         "yaxis": "y",
         "type": "histogram"
        },
        {
         "alignmentgroup": "True",
         "bingroup": "x",
         "histfunc": "sum",
         "hovertemplate": "user_sex=%{x}<br>user_age=27<br>sum of user_age=%{y}<extra></extra>",
         "legendgroup": "male, 27",
         "marker": {
          "color": "#EF553B",
          "pattern": {
           "shape": "+"
          }
         },
         "name": "male, 27",
         "offsetgroup": "male, 27",
         "orientation": "v",
         "showlegend": true,
         "x": [
          "male",
          "male",
          "male",
          "male",
          "male"
         ],
         "xaxis": "x",
         "y": [
          27,
          27,
          27,
          27,
          27
         ],
         "yaxis": "y",
         "type": "histogram"
        },
        {
         "alignmentgroup": "True",
         "bingroup": "x",
         "histfunc": "sum",
         "hovertemplate": "user_sex=%{x}<br>user_age=64<br>sum of user_age=%{y}<extra></extra>",
         "legendgroup": "male, 64",
         "marker": {
          "color": "#EF553B",
          "pattern": {
           "shape": "."
          }
         },
         "name": "male, 64",
         "offsetgroup": "male, 64",
         "orientation": "v",
         "showlegend": true,
         "x": [
          "male"
         ],
         "xaxis": "x",
         "y": [
          64
         ],
         "yaxis": "y",
         "type": "histogram"
        },
        {
         "alignmentgroup": "True",
         "bingroup": "x",
         "histfunc": "sum",
         "hovertemplate": "user_sex=%{x}<br>user_age=49<br>sum of user_age=%{y}<extra></extra>",
         "legendgroup": "male, 49",
         "marker": {
          "color": "#EF553B",
          "pattern": {
           "shape": "/"
          }
         },
         "name": "male, 49",
         "offsetgroup": "male, 49",
         "orientation": "v",
         "showlegend": true,
         "x": [
          "male",
          "male"
         ],
         "xaxis": "x",
         "y": [
          49,
          49
         ],
         "yaxis": "y",
         "type": "histogram"
        },
        {
         "alignmentgroup": "True",
         "bingroup": "x",
         "histfunc": "sum",
         "hovertemplate": "user_sex=%{x}<br>user_age=54<br>sum of user_age=%{y}<extra></extra>",
         "legendgroup": "male, 54",
         "marker": {
          "color": "#EF553B",
          "pattern": {
           "shape": "."
          }
         },
         "name": "male, 54",
         "offsetgroup": "male, 54",
         "orientation": "v",
         "showlegend": true,
         "x": [
          "male"
         ],
         "xaxis": "x",
         "y": [
          54
         ],
         "yaxis": "y",
         "type": "histogram"
        },
        {
         "alignmentgroup": "True",
         "bingroup": "x",
         "histfunc": "sum",
         "hovertemplate": "user_sex=%{x}<br>user_age=50<br>sum of user_age=%{y}<extra></extra>",
         "legendgroup": "other, 50",
         "marker": {
          "color": "#00cc96",
          "pattern": {
           "shape": ""
          }
         },
         "name": "other, 50",
         "offsetgroup": "other, 50",
         "orientation": "v",
         "showlegend": true,
         "x": [
          "other"
         ],
         "xaxis": "x",
         "y": [
          50
         ],
         "yaxis": "y",
         "type": "histogram"
        },
        {
         "alignmentgroup": "True",
         "bingroup": "x",
         "histfunc": "sum",
         "hovertemplate": "user_sex=%{x}<br>user_age=32<br>sum of user_age=%{y}<extra></extra>",
         "legendgroup": "other, 32",
         "marker": {
          "color": "#00cc96",
          "pattern": {
           "shape": "\\"
          }
         },
         "name": "other, 32",
         "offsetgroup": "other, 32",
         "orientation": "v",
         "showlegend": true,
         "x": [
          "other",
          "other"
         ],
         "xaxis": "x",
         "y": [
          32,
          32
         ],
         "yaxis": "y",
         "type": "histogram"
        },
        {
         "alignmentgroup": "True",
         "bingroup": "x",
         "histfunc": "sum",
         "hovertemplate": "user_sex=%{x}<br>user_age=24<br>sum of user_age=%{y}<extra></extra>",
         "legendgroup": "other, 24",
         "marker": {
          "color": "#00cc96",
          "pattern": {
           "shape": "x"
          }
         },
         "name": "other, 24",
         "offsetgroup": "other, 24",
         "orientation": "v",
         "showlegend": true,
         "x": [
          "other",
          "other"
         ],
         "xaxis": "x",
         "y": [
          24,
          24
         ],
         "yaxis": "y",
         "type": "histogram"
        },
        {
         "alignmentgroup": "True",
         "bingroup": "x",
         "histfunc": "sum",
         "hovertemplate": "user_sex=%{x}<br>user_age=26<br>sum of user_age=%{y}<extra></extra>",
         "legendgroup": "other, 26",
         "marker": {
          "color": "#00cc96",
          "pattern": {
           "shape": ""
          }
         },
         "name": "other, 26",
         "offsetgroup": "other, 26",
         "orientation": "v",
         "showlegend": true,
         "x": [
          "other",
          "other"
         ],
         "xaxis": "x",
         "y": [
          26,
          26
         ],
         "yaxis": "y",
         "type": "histogram"
        },
        {
         "alignmentgroup": "True",
         "bingroup": "x",
         "histfunc": "sum",
         "hovertemplate": "user_sex=%{x}<br>user_age=52<br>sum of user_age=%{y}<extra></extra>",
         "legendgroup": "other, 52",
         "marker": {
          "color": "#00cc96",
          "pattern": {
           "shape": "\\"
          }
         },
         "name": "other, 52",
         "offsetgroup": "other, 52",
         "orientation": "v",
         "showlegend": true,
         "x": [
          "other"
         ],
         "xaxis": "x",
         "y": [
          52
         ],
         "yaxis": "y",
         "type": "histogram"
        },
        {
         "alignmentgroup": "True",
         "bingroup": "x",
         "histfunc": "sum",
         "hovertemplate": "user_sex=%{x}<br>user_age=46<br>sum of user_age=%{y}<extra></extra>",
         "legendgroup": "other, 46",
         "marker": {
          "color": "#00cc96",
          "pattern": {
           "shape": "x"
          }
         },
         "name": "other, 46",
         "offsetgroup": "other, 46",
         "orientation": "v",
         "showlegend": true,
         "x": [
          "other",
          "other",
          "other",
          "other",
          "other"
         ],
         "xaxis": "x",
         "y": [
          46,
          46,
          46,
          46,
          46
         ],
         "yaxis": "y",
         "type": "histogram"
        },
        {
         "alignmentgroup": "True",
         "bingroup": "x",
         "histfunc": "sum",
         "hovertemplate": "user_sex=%{x}<br>user_age=34<br>sum of user_age=%{y}<extra></extra>",
         "legendgroup": "other, 34",
         "marker": {
          "color": "#00cc96",
          "pattern": {
           "shape": "+"
          }
         },
         "name": "other, 34",
         "offsetgroup": "other, 34",
         "orientation": "v",
         "showlegend": true,
         "x": [
          "other"
         ],
         "xaxis": "x",
         "y": [
          34
         ],
         "yaxis": "y",
         "type": "histogram"
        },
        {
         "alignmentgroup": "True",
         "bingroup": "x",
         "histfunc": "sum",
         "hovertemplate": "user_sex=%{x}<br>user_age=51<br>sum of user_age=%{y}<extra></extra>",
         "legendgroup": "other, 51",
         "marker": {
          "color": "#00cc96",
          "pattern": {
           "shape": "."
          }
         },
         "name": "other, 51",
         "offsetgroup": "other, 51",
         "orientation": "v",
         "showlegend": true,
         "x": [
          "other"
         ],
         "xaxis": "x",
         "y": [
          51
         ],
         "yaxis": "y",
         "type": "histogram"
        },
        {
         "alignmentgroup": "True",
         "bingroup": "x",
         "histfunc": "sum",
         "hovertemplate": "user_sex=%{x}<br>user_age=38<br>sum of user_age=%{y}<extra></extra>",
         "legendgroup": "other, 38",
         "marker": {
          "color": "#00cc96",
          "pattern": {
           "shape": ""
          }
         },
         "name": "other, 38",
         "offsetgroup": "other, 38",
         "orientation": "v",
         "showlegend": true,
         "x": [
          "other",
          "other"
         ],
         "xaxis": "x",
         "y": [
          38,
          38
         ],
         "yaxis": "y",
         "type": "histogram"
        },
        {
         "alignmentgroup": "True",
         "bingroup": "x",
         "histfunc": "sum",
         "hovertemplate": "user_sex=%{x}<br>user_age=47<br>sum of user_age=%{y}<extra></extra>",
         "legendgroup": "other, 47",
         "marker": {
          "color": "#00cc96",
          "pattern": {
           "shape": "/"
          }
         },
         "name": "other, 47",
         "offsetgroup": "other, 47",
         "orientation": "v",
         "showlegend": true,
         "x": [
          "other"
         ],
         "xaxis": "x",
         "y": [
          47
         ],
         "yaxis": "y",
         "type": "histogram"
        },
        {
         "alignmentgroup": "True",
         "bingroup": "x",
         "histfunc": "sum",
         "hovertemplate": "user_sex=%{x}<br>user_age=39<br>sum of user_age=%{y}<extra></extra>",
         "legendgroup": "other, 39",
         "marker": {
          "color": "#00cc96",
          "pattern": {
           "shape": "\\"
          }
         },
         "name": "other, 39",
         "offsetgroup": "other, 39",
         "orientation": "v",
         "showlegend": true,
         "x": [
          "other"
         ],
         "xaxis": "x",
         "y": [
          39
         ],
         "yaxis": "y",
         "type": "histogram"
        },
        {
         "alignmentgroup": "True",
         "bingroup": "x",
         "histfunc": "sum",
         "hovertemplate": "user_sex=%{x}<br>user_age=31<br>sum of user_age=%{y}<extra></extra>",
         "legendgroup": "other, 31",
         "marker": {
          "color": "#00cc96",
          "pattern": {
           "shape": "+"
          }
         },
         "name": "other, 31",
         "offsetgroup": "other, 31",
         "orientation": "v",
         "showlegend": true,
         "x": [
          "other",
          "other",
          "other"
         ],
         "xaxis": "x",
         "y": [
          31,
          31,
          31
         ],
         "yaxis": "y",
         "type": "histogram"
        },
        {
         "alignmentgroup": "True",
         "bingroup": "x",
         "histfunc": "sum",
         "hovertemplate": "user_sex=%{x}<br>user_age=30<br>sum of user_age=%{y}<extra></extra>",
         "legendgroup": "other, 30",
         "marker": {
          "color": "#00cc96",
          "pattern": {
           "shape": "/"
          }
         },
         "name": "other, 30",
         "offsetgroup": "other, 30",
         "orientation": "v",
         "showlegend": true,
         "x": [
          "other",
          "other",
          "other"
         ],
         "xaxis": "x",
         "y": [
          30,
          30,
          30
         ],
         "yaxis": "y",
         "type": "histogram"
        },
        {
         "alignmentgroup": "True",
         "bingroup": "x",
         "histfunc": "sum",
         "hovertemplate": "user_sex=%{x}<br>user_age=33<br>sum of user_age=%{y}<extra></extra>",
         "legendgroup": "other, 33",
         "marker": {
          "color": "#00cc96",
          "pattern": {
           "shape": "\\"
          }
         },
         "name": "other, 33",
         "offsetgroup": "other, 33",
         "orientation": "v",
         "showlegend": true,
         "x": [
          "other",
          "other",
          "other",
          "other",
          "other"
         ],
         "xaxis": "x",
         "y": [
          33,
          33,
          33,
          33,
          33
         ],
         "yaxis": "y",
         "type": "histogram"
        },
        {
         "alignmentgroup": "True",
         "bingroup": "x",
         "histfunc": "sum",
         "hovertemplate": "user_sex=%{x}<br>user_age=48<br>sum of user_age=%{y}<extra></extra>",
         "legendgroup": "other, 48",
         "marker": {
          "color": "#00cc96",
          "pattern": {
           "shape": "x"
          }
         },
         "name": "other, 48",
         "offsetgroup": "other, 48",
         "orientation": "v",
         "showlegend": true,
         "x": [
          "other",
          "other"
         ],
         "xaxis": "x",
         "y": [
          48,
          48
         ],
         "yaxis": "y",
         "type": "histogram"
        },
        {
         "alignmentgroup": "True",
         "bingroup": "x",
         "histfunc": "sum",
         "hovertemplate": "user_sex=%{x}<br>user_age=35<br>sum of user_age=%{y}<extra></extra>",
         "legendgroup": "other, 35",
         "marker": {
          "color": "#00cc96",
          "pattern": {
           "shape": "+"
          }
         },
         "name": "other, 35",
         "offsetgroup": "other, 35",
         "orientation": "v",
         "showlegend": true,
         "x": [
          "other",
          "other",
          "other",
          "other",
          "other",
          "other",
          "other"
         ],
         "xaxis": "x",
         "y": [
          35,
          35,
          35,
          35,
          35,
          35,
          35
         ],
         "yaxis": "y",
         "type": "histogram"
        },
        {
         "alignmentgroup": "True",
         "bingroup": "x",
         "histfunc": "sum",
         "hovertemplate": "user_sex=%{x}<br>user_age=29<br>sum of user_age=%{y}<extra></extra>",
         "legendgroup": "other, 29",
         "marker": {
          "color": "#00cc96",
          "pattern": {
           "shape": "."
          }
         },
         "name": "other, 29",
         "offsetgroup": "other, 29",
         "orientation": "v",
         "showlegend": true,
         "x": [
          "other",
          "other",
          "other",
          "other",
          "other",
          "other"
         ],
         "xaxis": "x",
         "y": [
          29,
          29,
          29,
          29,
          29,
          29
         ],
         "yaxis": "y",
         "type": "histogram"
        },
        {
         "alignmentgroup": "True",
         "bingroup": "x",
         "histfunc": "sum",
         "hovertemplate": "user_sex=%{x}<br>user_age=36<br>sum of user_age=%{y}<extra></extra>",
         "legendgroup": "other, 36",
         "marker": {
          "color": "#00cc96",
          "pattern": {
           "shape": "/"
          }
         },
         "name": "other, 36",
         "offsetgroup": "other, 36",
         "orientation": "v",
         "showlegend": true,
         "x": [
          "other"
         ],
         "xaxis": "x",
         "y": [
          36
         ],
         "yaxis": "y",
         "type": "histogram"
        },
        {
         "alignmentgroup": "True",
         "bingroup": "x",
         "histfunc": "sum",
         "hovertemplate": "user_sex=%{x}<br>user_age=25<br>sum of user_age=%{y}<extra></extra>",
         "legendgroup": "other, 25",
         "marker": {
          "color": "#00cc96",
          "pattern": {
           "shape": "x"
          }
         },
         "name": "other, 25",
         "offsetgroup": "other, 25",
         "orientation": "v",
         "showlegend": true,
         "x": [
          "other"
         ],
         "xaxis": "x",
         "y": [
          25
         ],
         "yaxis": "y",
         "type": "histogram"
        },
        {
         "alignmentgroup": "True",
         "bingroup": "x",
         "histfunc": "sum",
         "hovertemplate": "user_sex=%{x}<br>user_age=19<br>sum of user_age=%{y}<extra></extra>",
         "legendgroup": "other, 19",
         "marker": {
          "color": "#00cc96",
          "pattern": {
           "shape": "."
          }
         },
         "name": "other, 19",
         "offsetgroup": "other, 19",
         "orientation": "v",
         "showlegend": true,
         "x": [
          "other"
         ],
         "xaxis": "x",
         "y": [
          19
         ],
         "yaxis": "y",
         "type": "histogram"
        },
        {
         "alignmentgroup": "True",
         "bingroup": "x",
         "histfunc": "sum",
         "hovertemplate": "user_sex=%{x}<br>user_age=41<br>sum of user_age=%{y}<extra></extra>",
         "legendgroup": "other, 41",
         "marker": {
          "color": "#00cc96",
          "pattern": {
           "shape": ""
          }
         },
         "name": "other, 41",
         "offsetgroup": "other, 41",
         "orientation": "v",
         "showlegend": true,
         "x": [
          "other"
         ],
         "xaxis": "x",
         "y": [
          41
         ],
         "yaxis": "y",
         "type": "histogram"
        },
        {
         "alignmentgroup": "True",
         "bingroup": "x",
         "histfunc": "sum",
         "hovertemplate": "user_sex=%{x}<br>user_age=60<br>sum of user_age=%{y}<extra></extra>",
         "legendgroup": "other, 60",
         "marker": {
          "color": "#00cc96",
          "pattern": {
           "shape": "/"
          }
         },
         "name": "other, 60",
         "offsetgroup": "other, 60",
         "orientation": "v",
         "showlegend": true,
         "x": [
          "other"
         ],
         "xaxis": "x",
         "y": [
          60
         ],
         "yaxis": "y",
         "type": "histogram"
        },
        {
         "alignmentgroup": "True",
         "bingroup": "x",
         "histfunc": "sum",
         "hovertemplate": "user_sex=%{x}<br>user_age=10<br>sum of user_age=%{y}<extra></extra>",
         "legendgroup": "other, 10",
         "marker": {
          "color": "#00cc96",
          "pattern": {
           "shape": "\\"
          }
         },
         "name": "other, 10",
         "offsetgroup": "other, 10",
         "orientation": "v",
         "showlegend": true,
         "x": [
          "other"
         ],
         "xaxis": "x",
         "y": [
          10
         ],
         "yaxis": "y",
         "type": "histogram"
        },
        {
         "alignmentgroup": "True",
         "bingroup": "x",
         "histfunc": "sum",
         "hovertemplate": "user_sex=%{x}<br>user_age=56<br>sum of user_age=%{y}<extra></extra>",
         "legendgroup": "other, 56",
         "marker": {
          "color": "#00cc96",
          "pattern": {
           "shape": "+"
          }
         },
         "name": "other, 56",
         "offsetgroup": "other, 56",
         "orientation": "v",
         "showlegend": true,
         "x": [
          "other"
         ],
         "xaxis": "x",
         "y": [
          56
         ],
         "yaxis": "y",
         "type": "histogram"
        },
        {
         "alignmentgroup": "True",
         "bingroup": "x",
         "histfunc": "sum",
         "hovertemplate": "user_sex=%{x}<br>user_age=13<br>sum of user_age=%{y}<extra></extra>",
         "legendgroup": "other, 13",
         "marker": {
          "color": "#00cc96",
          "pattern": {
           "shape": "/"
          }
         },
         "name": "other, 13",
         "offsetgroup": "other, 13",
         "orientation": "v",
         "showlegend": true,
         "x": [
          "other"
         ],
         "xaxis": "x",
         "y": [
          13
         ],
         "yaxis": "y",
         "type": "histogram"
        },
        {
         "alignmentgroup": "True",
         "bingroup": "x",
         "histfunc": "sum",
         "hovertemplate": "user_sex=%{x}<br>user_age=42<br>sum of user_age=%{y}<extra></extra>",
         "legendgroup": "other, 42",
         "marker": {
          "color": "#00cc96",
          "pattern": {
           "shape": "\\"
          }
         },
         "name": "other, 42",
         "offsetgroup": "other, 42",
         "orientation": "v",
         "showlegend": true,
         "x": [
          "other",
          "other",
          "other",
          "other",
          "other"
         ],
         "xaxis": "x",
         "y": [
          42,
          42,
          42,
          42,
          42
         ],
         "yaxis": "y",
         "type": "histogram"
        },
        {
         "alignmentgroup": "True",
         "bingroup": "x",
         "histfunc": "sum",
         "hovertemplate": "user_sex=%{x}<br>user_age=43<br>sum of user_age=%{y}<extra></extra>",
         "legendgroup": "other, 43",
         "marker": {
          "color": "#00cc96",
          "pattern": {
           "shape": "x"
          }
         },
         "name": "other, 43",
         "offsetgroup": "other, 43",
         "orientation": "v",
         "showlegend": true,
         "x": [
          "other",
          "other"
         ],
         "xaxis": "x",
         "y": [
          43,
          43
         ],
         "yaxis": "y",
         "type": "histogram"
        },
        {
         "alignmentgroup": "True",
         "bingroup": "x",
         "histfunc": "sum",
         "hovertemplate": "user_sex=%{x}<br>user_age=37<br>sum of user_age=%{y}<extra></extra>",
         "legendgroup": "other, 37",
         "marker": {
          "color": "#00cc96",
          "pattern": {
           "shape": "+"
          }
         },
         "name": "other, 37",
         "offsetgroup": "other, 37",
         "orientation": "v",
         "showlegend": true,
         "x": [
          "other",
          "other"
         ],
         "xaxis": "x",
         "y": [
          37,
          37
         ],
         "yaxis": "y",
         "type": "histogram"
        },
        {
         "alignmentgroup": "True",
         "bingroup": "x",
         "histfunc": "sum",
         "hovertemplate": "user_sex=%{x}<br>user_age=17<br>sum of user_age=%{y}<extra></extra>",
         "legendgroup": "other, 17",
         "marker": {
          "color": "#00cc96",
          "pattern": {
           "shape": "/"
          }
         },
         "name": "other, 17",
         "offsetgroup": "other, 17",
         "orientation": "v",
         "showlegend": true,
         "x": [
          "other",
          "other"
         ],
         "xaxis": "x",
         "y": [
          17,
          17
         ],
         "yaxis": "y",
         "type": "histogram"
        },
        {
         "alignmentgroup": "True",
         "bingroup": "x",
         "histfunc": "sum",
         "hovertemplate": "user_sex=%{x}<br>user_age=14<br>sum of user_age=%{y}<extra></extra>",
         "legendgroup": "other, 14",
         "marker": {
          "color": "#00cc96",
          "pattern": {
           "shape": "x"
          }
         },
         "name": "other, 14",
         "offsetgroup": "other, 14",
         "orientation": "v",
         "showlegend": true,
         "x": [
          "other"
         ],
         "xaxis": "x",
         "y": [
          14
         ],
         "yaxis": "y",
         "type": "histogram"
        },
        {
         "alignmentgroup": "True",
         "bingroup": "x",
         "histfunc": "sum",
         "hovertemplate": "user_sex=%{x}<br>user_age=27<br>sum of user_age=%{y}<extra></extra>",
         "legendgroup": "other, 27",
         "marker": {
          "color": "#00cc96",
          "pattern": {
           "shape": "+"
          }
         },
         "name": "other, 27",
         "offsetgroup": "other, 27",
         "orientation": "v",
         "showlegend": true,
         "x": [
          "other",
          "other"
         ],
         "xaxis": "x",
         "y": [
          27,
          27
         ],
         "yaxis": "y",
         "type": "histogram"
        },
        {
         "alignmentgroup": "True",
         "bingroup": "x",
         "histfunc": "sum",
         "hovertemplate": "user_sex=%{x}<br>user_age=8<br>sum of user_age=%{y}<extra></extra>",
         "legendgroup": "other, 8",
         "marker": {
          "color": "#00cc96",
          "pattern": {
           "shape": "\\"
          }
         },
         "name": "other, 8",
         "offsetgroup": "other, 8",
         "orientation": "v",
         "showlegend": true,
         "x": [
          "other"
         ],
         "xaxis": "x",
         "y": [
          8
         ],
         "yaxis": "y",
         "type": "histogram"
        },
        {
         "alignmentgroup": "True",
         "bingroup": "x",
         "histfunc": "sum",
         "hovertemplate": "user_sex=%{x}<br>user_age=63<br>sum of user_age=%{y}<extra></extra>",
         "legendgroup": "other, 63",
         "marker": {
          "color": "#00cc96",
          "pattern": {
           "shape": "x"
          }
         },
         "name": "other, 63",
         "offsetgroup": "other, 63",
         "orientation": "v",
         "showlegend": true,
         "x": [
          "other"
         ],
         "xaxis": "x",
         "y": [
          63
         ],
         "yaxis": "y",
         "type": "histogram"
        },
        {
         "alignmentgroup": "True",
         "bingroup": "x",
         "histfunc": "sum",
         "hovertemplate": "user_sex=%{x}<br>user_age=54<br>sum of user_age=%{y}<extra></extra>",
         "legendgroup": "other, 54",
         "marker": {
          "color": "#00cc96",
          "pattern": {
           "shape": "."
          }
         },
         "name": "other, 54",
         "offsetgroup": "other, 54",
         "orientation": "v",
         "showlegend": true,
         "x": [
          "other"
         ],
         "xaxis": "x",
         "y": [
          54
         ],
         "yaxis": "y",
         "type": "histogram"
        }
       ],
       "layout": {
        "template": {
         "data": {
          "histogram2dcontour": [
           {
            "type": "histogram2dcontour",
            "colorbar": {
             "outlinewidth": 0,
             "ticks": ""
            },
            "colorscale": [
             [
              0.0,
              "#0d0887"
             ],
             [
              0.1111111111111111,
              "#46039f"
             ],
             [
              0.2222222222222222,
              "#7201a8"
             ],
             [
              0.3333333333333333,
              "#9c179e"
             ],
             [
              0.4444444444444444,
              "#bd3786"
             ],
             [
              0.5555555555555556,
              "#d8576b"
             ],
             [
              0.6666666666666666,
              "#ed7953"
             ],
             [
              0.7777777777777778,
              "#fb9f3a"
             ],
             [
              0.8888888888888888,
              "#fdca26"
             ],
             [
              1.0,
              "#f0f921"
             ]
            ]
           }
          ],
          "choropleth": [
           {
            "type": "choropleth",
            "colorbar": {
             "outlinewidth": 0,
             "ticks": ""
            }
           }
          ],
          "histogram2d": [
           {
            "type": "histogram2d",
            "colorbar": {
             "outlinewidth": 0,
             "ticks": ""
            },
            "colorscale": [
             [
              0.0,
              "#0d0887"
             ],
             [
              0.1111111111111111,
              "#46039f"
             ],
             [
              0.2222222222222222,
              "#7201a8"
             ],
             [
              0.3333333333333333,
              "#9c179e"
             ],
             [
              0.4444444444444444,
              "#bd3786"
             ],
             [
              0.5555555555555556,
              "#d8576b"
             ],
             [
              0.6666666666666666,
              "#ed7953"
             ],
             [
              0.7777777777777778,
              "#fb9f3a"
             ],
             [
              0.8888888888888888,
              "#fdca26"
             ],
             [
              1.0,
              "#f0f921"
             ]
            ]
           }
          ],
          "heatmap": [
           {
            "type": "heatmap",
            "colorbar": {
             "outlinewidth": 0,
             "ticks": ""
            },
            "colorscale": [
             [
              0.0,
              "#0d0887"
             ],
             [
              0.1111111111111111,
              "#46039f"
             ],
             [
              0.2222222222222222,
              "#7201a8"
             ],
             [
              0.3333333333333333,
              "#9c179e"
             ],
             [
              0.4444444444444444,
              "#bd3786"
             ],
             [
              0.5555555555555556,
              "#d8576b"
             ],
             [
              0.6666666666666666,
              "#ed7953"
             ],
             [
              0.7777777777777778,
              "#fb9f3a"
             ],
             [
              0.8888888888888888,
              "#fdca26"
             ],
             [
              1.0,
              "#f0f921"
             ]
            ]
           }
          ],
          "heatmapgl": [
           {
            "type": "heatmapgl",
            "colorbar": {
             "outlinewidth": 0,
             "ticks": ""
            },
            "colorscale": [
             [
              0.0,
              "#0d0887"
             ],
             [
              0.1111111111111111,
              "#46039f"
             ],
             [
              0.2222222222222222,
              "#7201a8"
             ],
             [
              0.3333333333333333,
              "#9c179e"
             ],
             [
              0.4444444444444444,
              "#bd3786"
             ],
             [
              0.5555555555555556,
              "#d8576b"
             ],
             [
              0.6666666666666666,
              "#ed7953"
             ],
             [
              0.7777777777777778,
              "#fb9f3a"
             ],
             [
              0.8888888888888888,
              "#fdca26"
             ],
             [
              1.0,
              "#f0f921"
             ]
            ]
           }
          ],
          "contourcarpet": [
           {
            "type": "contourcarpet",
            "colorbar": {
             "outlinewidth": 0,
             "ticks": ""
            }
           }
          ],
          "contour": [
           {
            "type": "contour",
            "colorbar": {
             "outlinewidth": 0,
             "ticks": ""
            },
            "colorscale": [
             [
              0.0,
              "#0d0887"
             ],
             [
              0.1111111111111111,
              "#46039f"
             ],
             [
              0.2222222222222222,
              "#7201a8"
             ],
             [
              0.3333333333333333,
              "#9c179e"
             ],
             [
              0.4444444444444444,
              "#bd3786"
             ],
             [
              0.5555555555555556,
              "#d8576b"
             ],
             [
              0.6666666666666666,
              "#ed7953"
             ],
             [
              0.7777777777777778,
              "#fb9f3a"
             ],
             [
              0.8888888888888888,
              "#fdca26"
             ],
             [
              1.0,
              "#f0f921"
             ]
            ]
           }
          ],
          "surface": [
           {
            "type": "surface",
            "colorbar": {
             "outlinewidth": 0,
             "ticks": ""
            },
            "colorscale": [
             [
              0.0,
              "#0d0887"
             ],
             [
              0.1111111111111111,
              "#46039f"
             ],
             [
              0.2222222222222222,
              "#7201a8"
             ],
             [
              0.3333333333333333,
              "#9c179e"
             ],
             [
              0.4444444444444444,
              "#bd3786"
             ],
             [
              0.5555555555555556,
              "#d8576b"
             ],
             [
              0.6666666666666666,
              "#ed7953"
             ],
             [
              0.7777777777777778,
              "#fb9f3a"
             ],
             [
              0.8888888888888888,
              "#fdca26"
             ],
             [
              1.0,
              "#f0f921"
             ]
            ]
           }
          ],
          "mesh3d": [
           {
            "type": "mesh3d",
            "colorbar": {
             "outlinewidth": 0,
             "ticks": ""
            }
           }
          ],
          "scatter": [
           {
            "marker": {
             "line": {
              "color": "#283442"
             }
            },
            "type": "scatter"
           }
          ],
          "parcoords": [
           {
            "type": "parcoords",
            "line": {
             "colorbar": {
              "outlinewidth": 0,
              "ticks": ""
             }
            }
           }
          ],
          "scatterpolargl": [
           {
            "type": "scatterpolargl",
            "marker": {
             "colorbar": {
              "outlinewidth": 0,
              "ticks": ""
             }
            }
           }
          ],
          "bar": [
           {
            "error_x": {
             "color": "#f2f5fa"
            },
            "error_y": {
             "color": "#f2f5fa"
            },
            "marker": {
             "line": {
              "color": "rgb(17,17,17)",
              "width": 0.5
             },
             "pattern": {
              "fillmode": "overlay",
              "size": 10,
              "solidity": 0.2
             }
            },
            "type": "bar"
           }
          ],
          "scattergeo": [
           {
            "type": "scattergeo",
            "marker": {
             "colorbar": {
              "outlinewidth": 0,
              "ticks": ""
             }
            }
           }
          ],
          "scatterpolar": [
           {
            "type": "scatterpolar",
            "marker": {
             "colorbar": {
              "outlinewidth": 0,
              "ticks": ""
             }
            }
           }
          ],
          "histogram": [
           {
            "marker": {
             "pattern": {
              "fillmode": "overlay",
              "size": 10,
              "solidity": 0.2
             }
            },
            "type": "histogram"
           }
          ],
          "scattergl": [
           {
            "marker": {
             "line": {
              "color": "#283442"
             }
            },
            "type": "scattergl"
           }
          ],
          "scatter3d": [
           {
            "type": "scatter3d",
            "line": {
             "colorbar": {
              "outlinewidth": 0,
              "ticks": ""
             }
            },
            "marker": {
             "colorbar": {
              "outlinewidth": 0,
              "ticks": ""
             }
            }
           }
          ],
          "scattermapbox": [
           {
            "type": "scattermapbox",
            "marker": {
             "colorbar": {
              "outlinewidth": 0,
              "ticks": ""
             }
            }
           }
          ],
          "scatterternary": [
           {
            "type": "scatterternary",
            "marker": {
             "colorbar": {
              "outlinewidth": 0,
              "ticks": ""
             }
            }
           }
          ],
          "scattercarpet": [
           {
            "type": "scattercarpet",
            "marker": {
             "colorbar": {
              "outlinewidth": 0,
              "ticks": ""
             }
            }
           }
          ],
          "carpet": [
           {
            "aaxis": {
             "endlinecolor": "#A2B1C6",
             "gridcolor": "#506784",
             "linecolor": "#506784",
             "minorgridcolor": "#506784",
             "startlinecolor": "#A2B1C6"
            },
            "baxis": {
             "endlinecolor": "#A2B1C6",
             "gridcolor": "#506784",
             "linecolor": "#506784",
             "minorgridcolor": "#506784",
             "startlinecolor": "#A2B1C6"
            },
            "type": "carpet"
           }
          ],
          "table": [
           {
            "cells": {
             "fill": {
              "color": "#506784"
             },
             "line": {
              "color": "rgb(17,17,17)"
             }
            },
            "header": {
             "fill": {
              "color": "#2a3f5f"
             },
             "line": {
              "color": "rgb(17,17,17)"
             }
            },
            "type": "table"
           }
          ],
          "barpolar": [
           {
            "marker": {
             "line": {
              "color": "rgb(17,17,17)",
              "width": 0.5
             },
             "pattern": {
              "fillmode": "overlay",
              "size": 10,
              "solidity": 0.2
             }
            },
            "type": "barpolar"
           }
          ],
          "pie": [
           {
            "automargin": true,
            "type": "pie"
           }
          ]
         },
         "layout": {
          "autotypenumbers": "strict",
          "colorway": [
           "#636efa",
           "#EF553B",
           "#00cc96",
           "#ab63fa",
           "#FFA15A",
           "#19d3f3",
           "#FF6692",
           "#B6E880",
           "#FF97FF",
           "#FECB52"
          ],
          "font": {
           "color": "#f2f5fa"
          },
          "hovermode": "closest",
          "hoverlabel": {
           "align": "left"
          },
          "paper_bgcolor": "rgb(17,17,17)",
          "plot_bgcolor": "rgb(17,17,17)",
          "polar": {
           "bgcolor": "rgb(17,17,17)",
           "angularaxis": {
            "gridcolor": "#506784",
            "linecolor": "#506784",
            "ticks": ""
           },
           "radialaxis": {
            "gridcolor": "#506784",
            "linecolor": "#506784",
            "ticks": ""
           }
          },
          "ternary": {
           "bgcolor": "rgb(17,17,17)",
           "aaxis": {
            "gridcolor": "#506784",
            "linecolor": "#506784",
            "ticks": ""
           },
           "baxis": {
            "gridcolor": "#506784",
            "linecolor": "#506784",
            "ticks": ""
           },
           "caxis": {
            "gridcolor": "#506784",
            "linecolor": "#506784",
            "ticks": ""
           }
          },
          "coloraxis": {
           "colorbar": {
            "outlinewidth": 0,
            "ticks": ""
           }
          },
          "colorscale": {
           "sequential": [
            [
             0.0,
             "#0d0887"
            ],
            [
             0.1111111111111111,
             "#46039f"
            ],
            [
             0.2222222222222222,
             "#7201a8"
            ],
            [
             0.3333333333333333,
             "#9c179e"
            ],
            [
             0.4444444444444444,
             "#bd3786"
            ],
            [
             0.5555555555555556,
             "#d8576b"
            ],
            [
             0.6666666666666666,
             "#ed7953"
            ],
            [
             0.7777777777777778,
             "#fb9f3a"
            ],
            [
             0.8888888888888888,
             "#fdca26"
            ],
            [
             1.0,
             "#f0f921"
            ]
           ],
           "sequentialminus": [
            [
             0.0,
             "#0d0887"
            ],
            [
             0.1111111111111111,
             "#46039f"
            ],
            [
             0.2222222222222222,
             "#7201a8"
            ],
            [
             0.3333333333333333,
             "#9c179e"
            ],
            [
             0.4444444444444444,
             "#bd3786"
            ],
            [
             0.5555555555555556,
             "#d8576b"
            ],
            [
             0.6666666666666666,
             "#ed7953"
            ],
            [
             0.7777777777777778,
             "#fb9f3a"
            ],
            [
             0.8888888888888888,
             "#fdca26"
            ],
            [
             1.0,
             "#f0f921"
            ]
           ],
           "diverging": [
            [
             0,
             "#8e0152"
            ],
            [
             0.1,
             "#c51b7d"
            ],
            [
             0.2,
             "#de77ae"
            ],
            [
             0.3,
             "#f1b6da"
            ],
            [
             0.4,
             "#fde0ef"
            ],
            [
             0.5,
             "#f7f7f7"
            ],
            [
             0.6,
             "#e6f5d0"
            ],
            [
             0.7,
             "#b8e186"
            ],
            [
             0.8,
             "#7fbc41"
            ],
            [
             0.9,
             "#4d9221"
            ],
            [
             1,
             "#276419"
            ]
           ]
          },
          "xaxis": {
           "gridcolor": "#283442",
           "linecolor": "#506784",
           "ticks": "",
           "title": {
            "standoff": 15
           },
           "zerolinecolor": "#283442",
           "automargin": true,
           "zerolinewidth": 2
          },
          "yaxis": {
           "gridcolor": "#283442",
           "linecolor": "#506784",
           "ticks": "",
           "title": {
            "standoff": 15
           },
           "zerolinecolor": "#283442",
           "automargin": true,
           "zerolinewidth": 2
          },
          "scene": {
           "xaxis": {
            "backgroundcolor": "rgb(17,17,17)",
            "gridcolor": "#506784",
            "linecolor": "#506784",
            "showbackground": true,
            "ticks": "",
            "zerolinecolor": "#C8D4E3",
            "gridwidth": 2
           },
           "yaxis": {
            "backgroundcolor": "rgb(17,17,17)",
            "gridcolor": "#506784",
            "linecolor": "#506784",
            "showbackground": true,
            "ticks": "",
            "zerolinecolor": "#C8D4E3",
            "gridwidth": 2
           },
           "zaxis": {
            "backgroundcolor": "rgb(17,17,17)",
            "gridcolor": "#506784",
            "linecolor": "#506784",
            "showbackground": true,
            "ticks": "",
            "zerolinecolor": "#C8D4E3",
            "gridwidth": 2
           }
          },
          "shapedefaults": {
           "line": {
            "color": "#f2f5fa"
           }
          },
          "annotationdefaults": {
           "arrowcolor": "#f2f5fa",
           "arrowhead": 0,
           "arrowwidth": 1
          },
          "geo": {
           "bgcolor": "rgb(17,17,17)",
           "landcolor": "rgb(17,17,17)",
           "subunitcolor": "#506784",
           "showland": true,
           "showlakes": true,
           "lakecolor": "rgb(17,17,17)"
          },
          "title": {
           "x": 0.05
          },
          "updatemenudefaults": {
           "bgcolor": "#506784",
           "borderwidth": 0
          },
          "sliderdefaults": {
           "bgcolor": "#C8D4E3",
           "borderwidth": 1,
           "bordercolor": "rgb(17,17,17)",
           "tickwidth": 0
          },
          "mapbox": {
           "style": "dark"
          }
         }
        },
        "xaxis": {
         "anchor": "y",
         "domain": [
          0.0,
          1.0
         ],
         "title": {
          "text": "user_sex"
         },
         "categoryorder": "array",
         "categoryarray": [
          "female",
          "male",
          "other"
         ]
        },
        "yaxis": {
         "anchor": "x",
         "domain": [
          0.0,
          1.0
         ],
         "title": {
          "text": "sum of user_age"
         },
         "categoryorder": "array",
         "categoryarray": [
          58,
          54,
          62,
          63,
          8,
          49,
          61,
          64,
          27,
          14,
          21,
          17,
          55,
          15,
          37,
          43,
          42,
          13,
          12,
          18,
          56,
          11,
          10,
          60,
          41,
          19,
          53,
          25,
          45,
          36,
          44,
          29,
          35,
          48,
          33,
          30,
          57,
          22,
          31,
          20,
          39,
          47,
          38,
          51,
          34,
          46,
          52,
          28,
          26,
          16,
          40,
          24,
          32,
          23,
          50
         ]
        },
        "legend": {
         "title": {
          "text": "user_sex, user_age"
         },
         "tracegroupgap": 0
        },
        "title": {
         "text": "Distribution of Age by Sex"
        },
        "barmode": "relative"
       },
       "config": {
        "plotlyServerURL": "https://plot.ly"
       }
      },
      "text/html": "<div>                            <div id=\"d2e4ffa1-0126-486f-bce7-ae1b9fd51d0a\" class=\"plotly-graph-div\" style=\"height:525px; width:100%;\"></div>            <script type=\"text/javascript\">                require([\"plotly\"], function(Plotly) {                    window.PLOTLYENV=window.PLOTLYENV || {};                                    if (document.getElementById(\"d2e4ffa1-0126-486f-bce7-ae1b9fd51d0a\")) {                    Plotly.newPlot(                        \"d2e4ffa1-0126-486f-bce7-ae1b9fd51d0a\",                        [{\"alignmentgroup\":\"True\",\"bingroup\":\"x\",\"histfunc\":\"sum\",\"hovertemplate\":\"user_sex=%{x}\\u003cbr\\u003euser_age=50\\u003cbr\\u003esum of user_age=%{y}\\u003cextra\\u003e\\u003c\\u002fextra\\u003e\",\"legendgroup\":\"female, 50\",\"marker\":{\"color\":\"#636efa\",\"pattern\":{\"shape\":\"\"}},\"name\":\"female, 50\",\"offsetgroup\":\"female, 50\",\"orientation\":\"v\",\"showlegend\":true,\"x\":[\"female\",\"female\",\"female\",\"female\",\"female\",\"female\"],\"xaxis\":\"x\",\"y\":[50,50,50,50,50,50],\"yaxis\":\"y\",\"type\":\"histogram\"},{\"alignmentgroup\":\"True\",\"bingroup\":\"x\",\"histfunc\":\"sum\",\"hovertemplate\":\"user_sex=%{x}\\u003cbr\\u003euser_age=23\\u003cbr\\u003esum of user_age=%{y}\\u003cextra\\u003e\\u003c\\u002fextra\\u003e\",\"legendgroup\":\"female, 23\",\"marker\":{\"color\":\"#636efa\",\"pattern\":{\"shape\":\"\\u002f\"}},\"name\":\"female, 23\",\"offsetgroup\":\"female, 23\",\"orientation\":\"v\",\"showlegend\":true,\"x\":[\"female\",\"female\"],\"xaxis\":\"x\",\"y\":[23,23],\"yaxis\":\"y\",\"type\":\"histogram\"},{\"alignmentgroup\":\"True\",\"bingroup\":\"x\",\"histfunc\":\"sum\",\"hovertemplate\":\"user_sex=%{x}\\u003cbr\\u003euser_age=32\\u003cbr\\u003esum of user_age=%{y}\\u003cextra\\u003e\\u003c\\u002fextra\\u003e\",\"legendgroup\":\"female, 32\",\"marker\":{\"color\":\"#636efa\",\"pattern\":{\"shape\":\"\\\\\"}},\"name\":\"female, 32\",\"offsetgroup\":\"female, 32\",\"orientation\":\"v\",\"showlegend\":true,\"x\":[\"female\",\"female\",\"female\",\"female\",\"female\",\"female\"],\"xaxis\":\"x\",\"y\":[32,32,32,32,32,32],\"yaxis\":\"y\",\"type\":\"histogram\"},{\"alignmentgroup\":\"True\",\"bingroup\":\"x\",\"histfunc\":\"sum\",\"hovertemplate\":\"user_sex=%{x}\\u003cbr\\u003euser_age=24\\u003cbr\\u003esum of user_age=%{y}\\u003cextra\\u003e\\u003c\\u002fextra\\u003e\",\"legendgroup\":\"female, 24\",\"marker\":{\"color\":\"#636efa\",\"pattern\":{\"shape\":\"x\"}},\"name\":\"female, 24\",\"offsetgroup\":\"female, 24\",\"orientation\":\"v\",\"showlegend\":true,\"x\":[\"female\",\"female\",\"female\",\"female\",\"female\",\"female\",\"female\"],\"xaxis\":\"x\",\"y\":[24,24,24,24,24,24,24],\"yaxis\":\"y\",\"type\":\"histogram\"},{\"alignmentgroup\":\"True\",\"bingroup\":\"x\",\"histfunc\":\"sum\",\"hovertemplate\":\"user_sex=%{x}\\u003cbr\\u003euser_age=40\\u003cbr\\u003esum of user_age=%{y}\\u003cextra\\u003e\\u003c\\u002fextra\\u003e\",\"legendgroup\":\"female, 40\",\"marker\":{\"color\":\"#636efa\",\"pattern\":{\"shape\":\"+\"}},\"name\":\"female, 40\",\"offsetgroup\":\"female, 40\",\"orientation\":\"v\",\"showlegend\":true,\"x\":[\"female\",\"female\",\"female\",\"female\",\"female\",\"female\",\"female\",\"female\",\"female\"],\"xaxis\":\"x\",\"y\":[40,40,40,40,40,40,40,40,40],\"yaxis\":\"y\",\"type\":\"histogram\"},{\"alignmentgroup\":\"True\",\"bingroup\":\"x\",\"histfunc\":\"sum\",\"hovertemplate\":\"user_sex=%{x}\\u003cbr\\u003euser_age=16\\u003cbr\\u003esum of user_age=%{y}\\u003cextra\\u003e\\u003c\\u002fextra\\u003e\",\"legendgroup\":\"female, 16\",\"marker\":{\"color\":\"#636efa\",\"pattern\":{\"shape\":\".\"}},\"name\":\"female, 16\",\"offsetgroup\":\"female, 16\",\"orientation\":\"v\",\"showlegend\":true,\"x\":[\"female\",\"female\",\"female\"],\"xaxis\":\"x\",\"y\":[16,16,16],\"yaxis\":\"y\",\"type\":\"histogram\"},{\"alignmentgroup\":\"True\",\"bingroup\":\"x\",\"histfunc\":\"sum\",\"hovertemplate\":\"user_sex=%{x}\\u003cbr\\u003euser_age=26\\u003cbr\\u003esum of user_age=%{y}\\u003cextra\\u003e\\u003c\\u002fextra\\u003e\",\"legendgroup\":\"female, 26\",\"marker\":{\"color\":\"#636efa\",\"pattern\":{\"shape\":\"\"}},\"name\":\"female, 26\",\"offsetgroup\":\"female, 26\",\"orientation\":\"v\",\"showlegend\":true,\"x\":[\"female\",\"female\",\"female\",\"female\",\"female\",\"female\"],\"xaxis\":\"x\",\"y\":[26,26,26,26,26,26],\"yaxis\":\"y\",\"type\":\"histogram\"},{\"alignmentgroup\":\"True\",\"bingroup\":\"x\",\"histfunc\":\"sum\",\"hovertemplate\":\"user_sex=%{x}\\u003cbr\\u003euser_age=28\\u003cbr\\u003esum of user_age=%{y}\\u003cextra\\u003e\\u003c\\u002fextra\\u003e\",\"legendgroup\":\"female, 28\",\"marker\":{\"color\":\"#636efa\",\"pattern\":{\"shape\":\"\\u002f\"}},\"name\":\"female, 28\",\"offsetgroup\":\"female, 28\",\"orientation\":\"v\",\"showlegend\":true,\"x\":[\"female\",\"female\",\"female\",\"female\",\"female\",\"female\",\"female\"],\"xaxis\":\"x\",\"y\":[28,28,28,28,28,28,28],\"yaxis\":\"y\",\"type\":\"histogram\"},{\"alignmentgroup\":\"True\",\"bingroup\":\"x\",\"histfunc\":\"sum\",\"hovertemplate\":\"user_sex=%{x}\\u003cbr\\u003euser_age=52\\u003cbr\\u003esum of user_age=%{y}\\u003cextra\\u003e\\u003c\\u002fextra\\u003e\",\"legendgroup\":\"female, 52\",\"marker\":{\"color\":\"#636efa\",\"pattern\":{\"shape\":\"\\\\\"}},\"name\":\"female, 52\",\"offsetgroup\":\"female, 52\",\"orientation\":\"v\",\"showlegend\":true,\"x\":[\"female\",\"female\",\"female\",\"female\",\"female\"],\"xaxis\":\"x\",\"y\":[52,52,52,52,52],\"yaxis\":\"y\",\"type\":\"histogram\"},{\"alignmentgroup\":\"True\",\"bingroup\":\"x\",\"histfunc\":\"sum\",\"hovertemplate\":\"user_sex=%{x}\\u003cbr\\u003euser_age=46\\u003cbr\\u003esum of user_age=%{y}\\u003cextra\\u003e\\u003c\\u002fextra\\u003e\",\"legendgroup\":\"female, 46\",\"marker\":{\"color\":\"#636efa\",\"pattern\":{\"shape\":\"x\"}},\"name\":\"female, 46\",\"offsetgroup\":\"female, 46\",\"orientation\":\"v\",\"showlegend\":true,\"x\":[\"female\",\"female\",\"female\",\"female\",\"female\",\"female\"],\"xaxis\":\"x\",\"y\":[46,46,46,46,46,46],\"yaxis\":\"y\",\"type\":\"histogram\"},{\"alignmentgroup\":\"True\",\"bingroup\":\"x\",\"histfunc\":\"sum\",\"hovertemplate\":\"user_sex=%{x}\\u003cbr\\u003euser_age=34\\u003cbr\\u003esum of user_age=%{y}\\u003cextra\\u003e\\u003c\\u002fextra\\u003e\",\"legendgroup\":\"female, 34\",\"marker\":{\"color\":\"#636efa\",\"pattern\":{\"shape\":\"+\"}},\"name\":\"female, 34\",\"offsetgroup\":\"female, 34\",\"orientation\":\"v\",\"showlegend\":true,\"x\":[\"female\",\"female\",\"female\",\"female\",\"female\",\"female\",\"female\",\"female\",\"female\",\"female\"],\"xaxis\":\"x\",\"y\":[34,34,34,34,34,34,34,34,34,34],\"yaxis\":\"y\",\"type\":\"histogram\"},{\"alignmentgroup\":\"True\",\"bingroup\":\"x\",\"histfunc\":\"sum\",\"hovertemplate\":\"user_sex=%{x}\\u003cbr\\u003euser_age=51\\u003cbr\\u003esum of user_age=%{y}\\u003cextra\\u003e\\u003c\\u002fextra\\u003e\",\"legendgroup\":\"female, 51\",\"marker\":{\"color\":\"#636efa\",\"pattern\":{\"shape\":\".\"}},\"name\":\"female, 51\",\"offsetgroup\":\"female, 51\",\"orientation\":\"v\",\"showlegend\":true,\"x\":[\"female\",\"female\"],\"xaxis\":\"x\",\"y\":[51,51],\"yaxis\":\"y\",\"type\":\"histogram\"},{\"alignmentgroup\":\"True\",\"bingroup\":\"x\",\"histfunc\":\"sum\",\"hovertemplate\":\"user_sex=%{x}\\u003cbr\\u003euser_age=38\\u003cbr\\u003esum of user_age=%{y}\\u003cextra\\u003e\\u003c\\u002fextra\\u003e\",\"legendgroup\":\"female, 38\",\"marker\":{\"color\":\"#636efa\",\"pattern\":{\"shape\":\"\"}},\"name\":\"female, 38\",\"offsetgroup\":\"female, 38\",\"orientation\":\"v\",\"showlegend\":true,\"x\":[\"female\",\"female\",\"female\",\"female\",\"female\"],\"xaxis\":\"x\",\"y\":[38,38,38,38,38],\"yaxis\":\"y\",\"type\":\"histogram\"},{\"alignmentgroup\":\"True\",\"bingroup\":\"x\",\"histfunc\":\"sum\",\"hovertemplate\":\"user_sex=%{x}\\u003cbr\\u003euser_age=47\\u003cbr\\u003esum of user_age=%{y}\\u003cextra\\u003e\\u003c\\u002fextra\\u003e\",\"legendgroup\":\"female, 47\",\"marker\":{\"color\":\"#636efa\",\"pattern\":{\"shape\":\"\\u002f\"}},\"name\":\"female, 47\",\"offsetgroup\":\"female, 47\",\"orientation\":\"v\",\"showlegend\":true,\"x\":[\"female\",\"female\",\"female\",\"female\",\"female\"],\"xaxis\":\"x\",\"y\":[47,47,47,47,47],\"yaxis\":\"y\",\"type\":\"histogram\"},{\"alignmentgroup\":\"True\",\"bingroup\":\"x\",\"histfunc\":\"sum\",\"hovertemplate\":\"user_sex=%{x}\\u003cbr\\u003euser_age=39\\u003cbr\\u003esum of user_age=%{y}\\u003cextra\\u003e\\u003c\\u002fextra\\u003e\",\"legendgroup\":\"female, 39\",\"marker\":{\"color\":\"#636efa\",\"pattern\":{\"shape\":\"\\\\\"}},\"name\":\"female, 39\",\"offsetgroup\":\"female, 39\",\"orientation\":\"v\",\"showlegend\":true,\"x\":[\"female\",\"female\",\"female\",\"female\",\"female\",\"female\",\"female\"],\"xaxis\":\"x\",\"y\":[39,39,39,39,39,39,39],\"yaxis\":\"y\",\"type\":\"histogram\"},{\"alignmentgroup\":\"True\",\"bingroup\":\"x\",\"histfunc\":\"sum\",\"hovertemplate\":\"user_sex=%{x}\\u003cbr\\u003euser_age=20\\u003cbr\\u003esum of user_age=%{y}\\u003cextra\\u003e\\u003c\\u002fextra\\u003e\",\"legendgroup\":\"female, 20\",\"marker\":{\"color\":\"#636efa\",\"pattern\":{\"shape\":\"x\"}},\"name\":\"female, 20\",\"offsetgroup\":\"female, 20\",\"orientation\":\"v\",\"showlegend\":true,\"x\":[\"female\",\"female\",\"female\"],\"xaxis\":\"x\",\"y\":[20,20,20],\"yaxis\":\"y\",\"type\":\"histogram\"},{\"alignmentgroup\":\"True\",\"bingroup\":\"x\",\"histfunc\":\"sum\",\"hovertemplate\":\"user_sex=%{x}\\u003cbr\\u003euser_age=31\\u003cbr\\u003esum of user_age=%{y}\\u003cextra\\u003e\\u003c\\u002fextra\\u003e\",\"legendgroup\":\"female, 31\",\"marker\":{\"color\":\"#636efa\",\"pattern\":{\"shape\":\"+\"}},\"name\":\"female, 31\",\"offsetgroup\":\"female, 31\",\"orientation\":\"v\",\"showlegend\":true,\"x\":[\"female\",\"female\",\"female\",\"female\",\"female\",\"female\",\"female\",\"female\",\"female\",\"female\",\"female\",\"female\"],\"xaxis\":\"x\",\"y\":[31,31,31,31,31,31,31,31,31,31,31,31],\"yaxis\":\"y\",\"type\":\"histogram\"},{\"alignmentgroup\":\"True\",\"bingroup\":\"x\",\"histfunc\":\"sum\",\"hovertemplate\":\"user_sex=%{x}\\u003cbr\\u003euser_age=22\\u003cbr\\u003esum of user_age=%{y}\\u003cextra\\u003e\\u003c\\u002fextra\\u003e\",\"legendgroup\":\"female, 22\",\"marker\":{\"color\":\"#636efa\",\"pattern\":{\"shape\":\".\"}},\"name\":\"female, 22\",\"offsetgroup\":\"female, 22\",\"orientation\":\"v\",\"showlegend\":true,\"x\":[\"female\",\"female\",\"female\",\"female\"],\"xaxis\":\"x\",\"y\":[22,22,22,22],\"yaxis\":\"y\",\"type\":\"histogram\"},{\"alignmentgroup\":\"True\",\"bingroup\":\"x\",\"histfunc\":\"sum\",\"hovertemplate\":\"user_sex=%{x}\\u003cbr\\u003euser_age=57\\u003cbr\\u003esum of user_age=%{y}\\u003cextra\\u003e\\u003c\\u002fextra\\u003e\",\"legendgroup\":\"female, 57\",\"marker\":{\"color\":\"#636efa\",\"pattern\":{\"shape\":\"\"}},\"name\":\"female, 57\",\"offsetgroup\":\"female, 57\",\"orientation\":\"v\",\"showlegend\":true,\"x\":[\"female\",\"female\",\"female\"],\"xaxis\":\"x\",\"y\":[57,57,57],\"yaxis\":\"y\",\"type\":\"histogram\"},{\"alignmentgroup\":\"True\",\"bingroup\":\"x\",\"histfunc\":\"sum\",\"hovertemplate\":\"user_sex=%{x}\\u003cbr\\u003euser_age=30\\u003cbr\\u003esum of user_age=%{y}\\u003cextra\\u003e\\u003c\\u002fextra\\u003e\",\"legendgroup\":\"female, 30\",\"marker\":{\"color\":\"#636efa\",\"pattern\":{\"shape\":\"\\u002f\"}},\"name\":\"female, 30\",\"offsetgroup\":\"female, 30\",\"orientation\":\"v\",\"showlegend\":true,\"x\":[\"female\",\"female\",\"female\",\"female\",\"female\",\"female\",\"female\",\"female\",\"female\"],\"xaxis\":\"x\",\"y\":[30,30,30,30,30,30,30,30,30],\"yaxis\":\"y\",\"type\":\"histogram\"},{\"alignmentgroup\":\"True\",\"bingroup\":\"x\",\"histfunc\":\"sum\",\"hovertemplate\":\"user_sex=%{x}\\u003cbr\\u003euser_age=33\\u003cbr\\u003esum of user_age=%{y}\\u003cextra\\u003e\\u003c\\u002fextra\\u003e\",\"legendgroup\":\"female, 33\",\"marker\":{\"color\":\"#636efa\",\"pattern\":{\"shape\":\"\\\\\"}},\"name\":\"female, 33\",\"offsetgroup\":\"female, 33\",\"orientation\":\"v\",\"showlegend\":true,\"x\":[\"female\",\"female\",\"female\",\"female\",\"female\",\"female\",\"female\",\"female\",\"female\",\"female\",\"female\",\"female\"],\"xaxis\":\"x\",\"y\":[33,33,33,33,33,33,33,33,33,33,33,33],\"yaxis\":\"y\",\"type\":\"histogram\"},{\"alignmentgroup\":\"True\",\"bingroup\":\"x\",\"histfunc\":\"sum\",\"hovertemplate\":\"user_sex=%{x}\\u003cbr\\u003euser_age=48\\u003cbr\\u003esum of user_age=%{y}\\u003cextra\\u003e\\u003c\\u002fextra\\u003e\",\"legendgroup\":\"female, 48\",\"marker\":{\"color\":\"#636efa\",\"pattern\":{\"shape\":\"x\"}},\"name\":\"female, 48\",\"offsetgroup\":\"female, 48\",\"orientation\":\"v\",\"showlegend\":true,\"x\":[\"female\",\"female\",\"female\"],\"xaxis\":\"x\",\"y\":[48,48,48],\"yaxis\":\"y\",\"type\":\"histogram\"},{\"alignmentgroup\":\"True\",\"bingroup\":\"x\",\"histfunc\":\"sum\",\"hovertemplate\":\"user_sex=%{x}\\u003cbr\\u003euser_age=35\\u003cbr\\u003esum of user_age=%{y}\\u003cextra\\u003e\\u003c\\u002fextra\\u003e\",\"legendgroup\":\"female, 35\",\"marker\":{\"color\":\"#636efa\",\"pattern\":{\"shape\":\"+\"}},\"name\":\"female, 35\",\"offsetgroup\":\"female, 35\",\"orientation\":\"v\",\"showlegend\":true,\"x\":[\"female\",\"female\",\"female\",\"female\",\"female\",\"female\"],\"xaxis\":\"x\",\"y\":[35,35,35,35,35,35],\"yaxis\":\"y\",\"type\":\"histogram\"},{\"alignmentgroup\":\"True\",\"bingroup\":\"x\",\"histfunc\":\"sum\",\"hovertemplate\":\"user_sex=%{x}\\u003cbr\\u003euser_age=29\\u003cbr\\u003esum of user_age=%{y}\\u003cextra\\u003e\\u003c\\u002fextra\\u003e\",\"legendgroup\":\"female, 29\",\"marker\":{\"color\":\"#636efa\",\"pattern\":{\"shape\":\".\"}},\"name\":\"female, 29\",\"offsetgroup\":\"female, 29\",\"orientation\":\"v\",\"showlegend\":true,\"x\":[\"female\",\"female\",\"female\",\"female\",\"female\",\"female\",\"female\",\"female\",\"female\"],\"xaxis\":\"x\",\"y\":[29,29,29,29,29,29,29,29,29],\"yaxis\":\"y\",\"type\":\"histogram\"},{\"alignmentgroup\":\"True\",\"bingroup\":\"x\",\"histfunc\":\"sum\",\"hovertemplate\":\"user_sex=%{x}\\u003cbr\\u003euser_age=44\\u003cbr\\u003esum of user_age=%{y}\\u003cextra\\u003e\\u003c\\u002fextra\\u003e\",\"legendgroup\":\"female, 44\",\"marker\":{\"color\":\"#636efa\",\"pattern\":{\"shape\":\"\"}},\"name\":\"female, 44\",\"offsetgroup\":\"female, 44\",\"orientation\":\"v\",\"showlegend\":true,\"x\":[\"female\",\"female\",\"female\",\"female\",\"female\",\"female\",\"female\"],\"xaxis\":\"x\",\"y\":[44,44,44,44,44,44,44],\"yaxis\":\"y\",\"type\":\"histogram\"},{\"alignmentgroup\":\"True\",\"bingroup\":\"x\",\"histfunc\":\"sum\",\"hovertemplate\":\"user_sex=%{x}\\u003cbr\\u003euser_age=36\\u003cbr\\u003esum of user_age=%{y}\\u003cextra\\u003e\\u003c\\u002fextra\\u003e\",\"legendgroup\":\"female, 36\",\"marker\":{\"color\":\"#636efa\",\"pattern\":{\"shape\":\"\\u002f\"}},\"name\":\"female, 36\",\"offsetgroup\":\"female, 36\",\"orientation\":\"v\",\"showlegend\":true,\"x\":[\"female\",\"female\",\"female\",\"female\",\"female\",\"female\",\"female\",\"female\",\"female\",\"female\",\"female\"],\"xaxis\":\"x\",\"y\":[36,36,36,36,36,36,36,36,36,36,36],\"yaxis\":\"y\",\"type\":\"histogram\"},{\"alignmentgroup\":\"True\",\"bingroup\":\"x\",\"histfunc\":\"sum\",\"hovertemplate\":\"user_sex=%{x}\\u003cbr\\u003euser_age=45\\u003cbr\\u003esum of user_age=%{y}\\u003cextra\\u003e\\u003c\\u002fextra\\u003e\",\"legendgroup\":\"female, 45\",\"marker\":{\"color\":\"#636efa\",\"pattern\":{\"shape\":\"\\\\\"}},\"name\":\"female, 45\",\"offsetgroup\":\"female, 45\",\"orientation\":\"v\",\"showlegend\":true,\"x\":[\"female\",\"female\",\"female\",\"female\",\"female\",\"female\"],\"xaxis\":\"x\",\"y\":[45,45,45,45,45,45],\"yaxis\":\"y\",\"type\":\"histogram\"},{\"alignmentgroup\":\"True\",\"bingroup\":\"x\",\"histfunc\":\"sum\",\"hovertemplate\":\"user_sex=%{x}\\u003cbr\\u003euser_age=25\\u003cbr\\u003esum of user_age=%{y}\\u003cextra\\u003e\\u003c\\u002fextra\\u003e\",\"legendgroup\":\"female, 25\",\"marker\":{\"color\":\"#636efa\",\"pattern\":{\"shape\":\"x\"}},\"name\":\"female, 25\",\"offsetgroup\":\"female, 25\",\"orientation\":\"v\",\"showlegend\":true,\"x\":[\"female\",\"female\",\"female\",\"female\",\"female\",\"female\"],\"xaxis\":\"x\",\"y\":[25,25,25,25,25,25],\"yaxis\":\"y\",\"type\":\"histogram\"},{\"alignmentgroup\":\"True\",\"bingroup\":\"x\",\"histfunc\":\"sum\",\"hovertemplate\":\"user_sex=%{x}\\u003cbr\\u003euser_age=53\\u003cbr\\u003esum of user_age=%{y}\\u003cextra\\u003e\\u003c\\u002fextra\\u003e\",\"legendgroup\":\"female, 53\",\"marker\":{\"color\":\"#636efa\",\"pattern\":{\"shape\":\"+\"}},\"name\":\"female, 53\",\"offsetgroup\":\"female, 53\",\"orientation\":\"v\",\"showlegend\":true,\"x\":[\"female\",\"female\",\"female\",\"female\"],\"xaxis\":\"x\",\"y\":[53,53,53,53],\"yaxis\":\"y\",\"type\":\"histogram\"},{\"alignmentgroup\":\"True\",\"bingroup\":\"x\",\"histfunc\":\"sum\",\"hovertemplate\":\"user_sex=%{x}\\u003cbr\\u003euser_age=19\\u003cbr\\u003esum of user_age=%{y}\\u003cextra\\u003e\\u003c\\u002fextra\\u003e\",\"legendgroup\":\"female, 19\",\"marker\":{\"color\":\"#636efa\",\"pattern\":{\"shape\":\".\"}},\"name\":\"female, 19\",\"offsetgroup\":\"female, 19\",\"orientation\":\"v\",\"showlegend\":true,\"x\":[\"female\",\"female\",\"female\"],\"xaxis\":\"x\",\"y\":[19,19,19],\"yaxis\":\"y\",\"type\":\"histogram\"},{\"alignmentgroup\":\"True\",\"bingroup\":\"x\",\"histfunc\":\"sum\",\"hovertemplate\":\"user_sex=%{x}\\u003cbr\\u003euser_age=41\\u003cbr\\u003esum of user_age=%{y}\\u003cextra\\u003e\\u003c\\u002fextra\\u003e\",\"legendgroup\":\"female, 41\",\"marker\":{\"color\":\"#636efa\",\"pattern\":{\"shape\":\"\"}},\"name\":\"female, 41\",\"offsetgroup\":\"female, 41\",\"orientation\":\"v\",\"showlegend\":true,\"x\":[\"female\",\"female\",\"female\",\"female\",\"female\",\"female\",\"female\",\"female\",\"female\",\"female\",\"female\"],\"xaxis\":\"x\",\"y\":[41,41,41,41,41,41,41,41,41,41,41],\"yaxis\":\"y\",\"type\":\"histogram\"},{\"alignmentgroup\":\"True\",\"bingroup\":\"x\",\"histfunc\":\"sum\",\"hovertemplate\":\"user_sex=%{x}\\u003cbr\\u003euser_age=60\\u003cbr\\u003esum of user_age=%{y}\\u003cextra\\u003e\\u003c\\u002fextra\\u003e\",\"legendgroup\":\"female, 60\",\"marker\":{\"color\":\"#636efa\",\"pattern\":{\"shape\":\"\\u002f\"}},\"name\":\"female, 60\",\"offsetgroup\":\"female, 60\",\"orientation\":\"v\",\"showlegend\":true,\"x\":[\"female\",\"female\"],\"xaxis\":\"x\",\"y\":[60,60],\"yaxis\":\"y\",\"type\":\"histogram\"},{\"alignmentgroup\":\"True\",\"bingroup\":\"x\",\"histfunc\":\"sum\",\"hovertemplate\":\"user_sex=%{x}\\u003cbr\\u003euser_age=10\\u003cbr\\u003esum of user_age=%{y}\\u003cextra\\u003e\\u003c\\u002fextra\\u003e\",\"legendgroup\":\"female, 10\",\"marker\":{\"color\":\"#636efa\",\"pattern\":{\"shape\":\"\\\\\"}},\"name\":\"female, 10\",\"offsetgroup\":\"female, 10\",\"orientation\":\"v\",\"showlegend\":true,\"x\":[\"female\"],\"xaxis\":\"x\",\"y\":[10],\"yaxis\":\"y\",\"type\":\"histogram\"},{\"alignmentgroup\":\"True\",\"bingroup\":\"x\",\"histfunc\":\"sum\",\"hovertemplate\":\"user_sex=%{x}\\u003cbr\\u003euser_age=11\\u003cbr\\u003esum of user_age=%{y}\\u003cextra\\u003e\\u003c\\u002fextra\\u003e\",\"legendgroup\":\"female, 11\",\"marker\":{\"color\":\"#636efa\",\"pattern\":{\"shape\":\"x\"}},\"name\":\"female, 11\",\"offsetgroup\":\"female, 11\",\"orientation\":\"v\",\"showlegend\":true,\"x\":[\"female\"],\"xaxis\":\"x\",\"y\":[11],\"yaxis\":\"y\",\"type\":\"histogram\"},{\"alignmentgroup\":\"True\",\"bingroup\":\"x\",\"histfunc\":\"sum\",\"hovertemplate\":\"user_sex=%{x}\\u003cbr\\u003euser_age=56\\u003cbr\\u003esum of user_age=%{y}\\u003cextra\\u003e\\u003c\\u002fextra\\u003e\",\"legendgroup\":\"female, 56\",\"marker\":{\"color\":\"#636efa\",\"pattern\":{\"shape\":\"+\"}},\"name\":\"female, 56\",\"offsetgroup\":\"female, 56\",\"orientation\":\"v\",\"showlegend\":true,\"x\":[\"female\",\"female\"],\"xaxis\":\"x\",\"y\":[56,56],\"yaxis\":\"y\",\"type\":\"histogram\"},{\"alignmentgroup\":\"True\",\"bingroup\":\"x\",\"histfunc\":\"sum\",\"hovertemplate\":\"user_sex=%{x}\\u003cbr\\u003euser_age=18\\u003cbr\\u003esum of user_age=%{y}\\u003cextra\\u003e\\u003c\\u002fextra\\u003e\",\"legendgroup\":\"female, 18\",\"marker\":{\"color\":\"#636efa\",\"pattern\":{\"shape\":\".\"}},\"name\":\"female, 18\",\"offsetgroup\":\"female, 18\",\"orientation\":\"v\",\"showlegend\":true,\"x\":[\"female\",\"female\"],\"xaxis\":\"x\",\"y\":[18,18],\"yaxis\":\"y\",\"type\":\"histogram\"},{\"alignmentgroup\":\"True\",\"bingroup\":\"x\",\"histfunc\":\"sum\",\"hovertemplate\":\"user_sex=%{x}\\u003cbr\\u003euser_age=12\\u003cbr\\u003esum of user_age=%{y}\\u003cextra\\u003e\\u003c\\u002fextra\\u003e\",\"legendgroup\":\"female, 12\",\"marker\":{\"color\":\"#636efa\",\"pattern\":{\"shape\":\"\"}},\"name\":\"female, 12\",\"offsetgroup\":\"female, 12\",\"orientation\":\"v\",\"showlegend\":true,\"x\":[\"female\"],\"xaxis\":\"x\",\"y\":[12],\"yaxis\":\"y\",\"type\":\"histogram\"},{\"alignmentgroup\":\"True\",\"bingroup\":\"x\",\"histfunc\":\"sum\",\"hovertemplate\":\"user_sex=%{x}\\u003cbr\\u003euser_age=13\\u003cbr\\u003esum of user_age=%{y}\\u003cextra\\u003e\\u003c\\u002fextra\\u003e\",\"legendgroup\":\"female, 13\",\"marker\":{\"color\":\"#636efa\",\"pattern\":{\"shape\":\"\\u002f\"}},\"name\":\"female, 13\",\"offsetgroup\":\"female, 13\",\"orientation\":\"v\",\"showlegend\":true,\"x\":[\"female\",\"female\"],\"xaxis\":\"x\",\"y\":[13,13],\"yaxis\":\"y\",\"type\":\"histogram\"},{\"alignmentgroup\":\"True\",\"bingroup\":\"x\",\"histfunc\":\"sum\",\"hovertemplate\":\"user_sex=%{x}\\u003cbr\\u003euser_age=42\\u003cbr\\u003esum of user_age=%{y}\\u003cextra\\u003e\\u003c\\u002fextra\\u003e\",\"legendgroup\":\"female, 42\",\"marker\":{\"color\":\"#636efa\",\"pattern\":{\"shape\":\"\\\\\"}},\"name\":\"female, 42\",\"offsetgroup\":\"female, 42\",\"orientation\":\"v\",\"showlegend\":true,\"x\":[\"female\",\"female\",\"female\"],\"xaxis\":\"x\",\"y\":[42,42,42],\"yaxis\":\"y\",\"type\":\"histogram\"},{\"alignmentgroup\":\"True\",\"bingroup\":\"x\",\"histfunc\":\"sum\",\"hovertemplate\":\"user_sex=%{x}\\u003cbr\\u003euser_age=43\\u003cbr\\u003esum of user_age=%{y}\\u003cextra\\u003e\\u003c\\u002fextra\\u003e\",\"legendgroup\":\"female, 43\",\"marker\":{\"color\":\"#636efa\",\"pattern\":{\"shape\":\"x\"}},\"name\":\"female, 43\",\"offsetgroup\":\"female, 43\",\"orientation\":\"v\",\"showlegend\":true,\"x\":[\"female\",\"female\",\"female\",\"female\",\"female\"],\"xaxis\":\"x\",\"y\":[43,43,43,43,43],\"yaxis\":\"y\",\"type\":\"histogram\"},{\"alignmentgroup\":\"True\",\"bingroup\":\"x\",\"histfunc\":\"sum\",\"hovertemplate\":\"user_sex=%{x}\\u003cbr\\u003euser_age=37\\u003cbr\\u003esum of user_age=%{y}\\u003cextra\\u003e\\u003c\\u002fextra\\u003e\",\"legendgroup\":\"female, 37\",\"marker\":{\"color\":\"#636efa\",\"pattern\":{\"shape\":\"+\"}},\"name\":\"female, 37\",\"offsetgroup\":\"female, 37\",\"orientation\":\"v\",\"showlegend\":true,\"x\":[\"female\",\"female\",\"female\",\"female\",\"female\",\"female\",\"female\",\"female\"],\"xaxis\":\"x\",\"y\":[37,37,37,37,37,37,37,37],\"yaxis\":\"y\",\"type\":\"histogram\"},{\"alignmentgroup\":\"True\",\"bingroup\":\"x\",\"histfunc\":\"sum\",\"hovertemplate\":\"user_sex=%{x}\\u003cbr\\u003euser_age=15\\u003cbr\\u003esum of user_age=%{y}\\u003cextra\\u003e\\u003c\\u002fextra\\u003e\",\"legendgroup\":\"female, 15\",\"marker\":{\"color\":\"#636efa\",\"pattern\":{\"shape\":\".\"}},\"name\":\"female, 15\",\"offsetgroup\":\"female, 15\",\"orientation\":\"v\",\"showlegend\":true,\"x\":[\"female\"],\"xaxis\":\"x\",\"y\":[15],\"yaxis\":\"y\",\"type\":\"histogram\"},{\"alignmentgroup\":\"True\",\"bingroup\":\"x\",\"histfunc\":\"sum\",\"hovertemplate\":\"user_sex=%{x}\\u003cbr\\u003euser_age=17\\u003cbr\\u003esum of user_age=%{y}\\u003cextra\\u003e\\u003c\\u002fextra\\u003e\",\"legendgroup\":\"female, 17\",\"marker\":{\"color\":\"#636efa\",\"pattern\":{\"shape\":\"\\u002f\"}},\"name\":\"female, 17\",\"offsetgroup\":\"female, 17\",\"orientation\":\"v\",\"showlegend\":true,\"x\":[\"female\"],\"xaxis\":\"x\",\"y\":[17],\"yaxis\":\"y\",\"type\":\"histogram\"},{\"alignmentgroup\":\"True\",\"bingroup\":\"x\",\"histfunc\":\"sum\",\"hovertemplate\":\"user_sex=%{x}\\u003cbr\\u003euser_age=21\\u003cbr\\u003esum of user_age=%{y}\\u003cextra\\u003e\\u003c\\u002fextra\\u003e\",\"legendgroup\":\"female, 21\",\"marker\":{\"color\":\"#636efa\",\"pattern\":{\"shape\":\"\\\\\"}},\"name\":\"female, 21\",\"offsetgroup\":\"female, 21\",\"orientation\":\"v\",\"showlegend\":true,\"x\":[\"female\",\"female\"],\"xaxis\":\"x\",\"y\":[21,21],\"yaxis\":\"y\",\"type\":\"histogram\"},{\"alignmentgroup\":\"True\",\"bingroup\":\"x\",\"histfunc\":\"sum\",\"hovertemplate\":\"user_sex=%{x}\\u003cbr\\u003euser_age=14\\u003cbr\\u003esum of user_age=%{y}\\u003cextra\\u003e\\u003c\\u002fextra\\u003e\",\"legendgroup\":\"female, 14\",\"marker\":{\"color\":\"#636efa\",\"pattern\":{\"shape\":\"x\"}},\"name\":\"female, 14\",\"offsetgroup\":\"female, 14\",\"orientation\":\"v\",\"showlegend\":true,\"x\":[\"female\"],\"xaxis\":\"x\",\"y\":[14],\"yaxis\":\"y\",\"type\":\"histogram\"},{\"alignmentgroup\":\"True\",\"bingroup\":\"x\",\"histfunc\":\"sum\",\"hovertemplate\":\"user_sex=%{x}\\u003cbr\\u003euser_age=27\\u003cbr\\u003esum of user_age=%{y}\\u003cextra\\u003e\\u003c\\u002fextra\\u003e\",\"legendgroup\":\"female, 27\",\"marker\":{\"color\":\"#636efa\",\"pattern\":{\"shape\":\"+\"}},\"name\":\"female, 27\",\"offsetgroup\":\"female, 27\",\"orientation\":\"v\",\"showlegend\":true,\"x\":[\"female\",\"female\",\"female\",\"female\"],\"xaxis\":\"x\",\"y\":[27,27,27,27],\"yaxis\":\"y\",\"type\":\"histogram\"},{\"alignmentgroup\":\"True\",\"bingroup\":\"x\",\"histfunc\":\"sum\",\"hovertemplate\":\"user_sex=%{x}\\u003cbr\\u003euser_age=61\\u003cbr\\u003esum of user_age=%{y}\\u003cextra\\u003e\\u003c\\u002fextra\\u003e\",\"legendgroup\":\"female, 61\",\"marker\":{\"color\":\"#636efa\",\"pattern\":{\"shape\":\"\"}},\"name\":\"female, 61\",\"offsetgroup\":\"female, 61\",\"orientation\":\"v\",\"showlegend\":true,\"x\":[\"female\",\"female\"],\"xaxis\":\"x\",\"y\":[61,61],\"yaxis\":\"y\",\"type\":\"histogram\"},{\"alignmentgroup\":\"True\",\"bingroup\":\"x\",\"histfunc\":\"sum\",\"hovertemplate\":\"user_sex=%{x}\\u003cbr\\u003euser_age=49\\u003cbr\\u003esum of user_age=%{y}\\u003cextra\\u003e\\u003c\\u002fextra\\u003e\",\"legendgroup\":\"female, 49\",\"marker\":{\"color\":\"#636efa\",\"pattern\":{\"shape\":\"\\u002f\"}},\"name\":\"female, 49\",\"offsetgroup\":\"female, 49\",\"orientation\":\"v\",\"showlegend\":true,\"x\":[\"female\"],\"xaxis\":\"x\",\"y\":[49],\"yaxis\":\"y\",\"type\":\"histogram\"},{\"alignmentgroup\":\"True\",\"bingroup\":\"x\",\"histfunc\":\"sum\",\"hovertemplate\":\"user_sex=%{x}\\u003cbr\\u003euser_age=8\\u003cbr\\u003esum of user_age=%{y}\\u003cextra\\u003e\\u003c\\u002fextra\\u003e\",\"legendgroup\":\"female, 8\",\"marker\":{\"color\":\"#636efa\",\"pattern\":{\"shape\":\"\\\\\"}},\"name\":\"female, 8\",\"offsetgroup\":\"female, 8\",\"orientation\":\"v\",\"showlegend\":true,\"x\":[\"female\"],\"xaxis\":\"x\",\"y\":[8],\"yaxis\":\"y\",\"type\":\"histogram\"},{\"alignmentgroup\":\"True\",\"bingroup\":\"x\",\"histfunc\":\"sum\",\"hovertemplate\":\"user_sex=%{x}\\u003cbr\\u003euser_age=62\\u003cbr\\u003esum of user_age=%{y}\\u003cextra\\u003e\\u003c\\u002fextra\\u003e\",\"legendgroup\":\"female, 62\",\"marker\":{\"color\":\"#636efa\",\"pattern\":{\"shape\":\"+\"}},\"name\":\"female, 62\",\"offsetgroup\":\"female, 62\",\"orientation\":\"v\",\"showlegend\":true,\"x\":[\"female\"],\"xaxis\":\"x\",\"y\":[62],\"yaxis\":\"y\",\"type\":\"histogram\"},{\"alignmentgroup\":\"True\",\"bingroup\":\"x\",\"histfunc\":\"sum\",\"hovertemplate\":\"user_sex=%{x}\\u003cbr\\u003euser_age=54\\u003cbr\\u003esum of user_age=%{y}\\u003cextra\\u003e\\u003c\\u002fextra\\u003e\",\"legendgroup\":\"female, 54\",\"marker\":{\"color\":\"#636efa\",\"pattern\":{\"shape\":\".\"}},\"name\":\"female, 54\",\"offsetgroup\":\"female, 54\",\"orientation\":\"v\",\"showlegend\":true,\"x\":[\"female\",\"female\"],\"xaxis\":\"x\",\"y\":[54,54],\"yaxis\":\"y\",\"type\":\"histogram\"},{\"alignmentgroup\":\"True\",\"bingroup\":\"x\",\"histfunc\":\"sum\",\"hovertemplate\":\"user_sex=%{x}\\u003cbr\\u003euser_age=58\\u003cbr\\u003esum of user_age=%{y}\\u003cextra\\u003e\\u003c\\u002fextra\\u003e\",\"legendgroup\":\"female, 58\",\"marker\":{\"color\":\"#636efa\",\"pattern\":{\"shape\":\"\"}},\"name\":\"female, 58\",\"offsetgroup\":\"female, 58\",\"orientation\":\"v\",\"showlegend\":true,\"x\":[\"female\"],\"xaxis\":\"x\",\"y\":[58],\"yaxis\":\"y\",\"type\":\"histogram\"},{\"alignmentgroup\":\"True\",\"bingroup\":\"x\",\"histfunc\":\"sum\",\"hovertemplate\":\"user_sex=%{x}\\u003cbr\\u003euser_age=50\\u003cbr\\u003esum of user_age=%{y}\\u003cextra\\u003e\\u003c\\u002fextra\\u003e\",\"legendgroup\":\"male, 50\",\"marker\":{\"color\":\"#EF553B\",\"pattern\":{\"shape\":\"\"}},\"name\":\"male, 50\",\"offsetgroup\":\"male, 50\",\"orientation\":\"v\",\"showlegend\":true,\"x\":[\"male\",\"male\",\"male\",\"male\"],\"xaxis\":\"x\",\"y\":[50,50,50,50],\"yaxis\":\"y\",\"type\":\"histogram\"},{\"alignmentgroup\":\"True\",\"bingroup\":\"x\",\"histfunc\":\"sum\",\"hovertemplate\":\"user_sex=%{x}\\u003cbr\\u003euser_age=23\\u003cbr\\u003esum of user_age=%{y}\\u003cextra\\u003e\\u003c\\u002fextra\\u003e\",\"legendgroup\":\"male, 23\",\"marker\":{\"color\":\"#EF553B\",\"pattern\":{\"shape\":\"\\u002f\"}},\"name\":\"male, 23\",\"offsetgroup\":\"male, 23\",\"orientation\":\"v\",\"showlegend\":true,\"x\":[\"male\",\"male\",\"male\",\"male\",\"male\",\"male\",\"male\",\"male\"],\"xaxis\":\"x\",\"y\":[23,23,23,23,23,23,23,23],\"yaxis\":\"y\",\"type\":\"histogram\"},{\"alignmentgroup\":\"True\",\"bingroup\":\"x\",\"histfunc\":\"sum\",\"hovertemplate\":\"user_sex=%{x}\\u003cbr\\u003euser_age=32\\u003cbr\\u003esum of user_age=%{y}\\u003cextra\\u003e\\u003c\\u002fextra\\u003e\",\"legendgroup\":\"male, 32\",\"marker\":{\"color\":\"#EF553B\",\"pattern\":{\"shape\":\"\\\\\"}},\"name\":\"male, 32\",\"offsetgroup\":\"male, 32\",\"orientation\":\"v\",\"showlegend\":true,\"x\":[\"male\",\"male\",\"male\",\"male\",\"male\",\"male\"],\"xaxis\":\"x\",\"y\":[32,32,32,32,32,32],\"yaxis\":\"y\",\"type\":\"histogram\"},{\"alignmentgroup\":\"True\",\"bingroup\":\"x\",\"histfunc\":\"sum\",\"hovertemplate\":\"user_sex=%{x}\\u003cbr\\u003euser_age=24\\u003cbr\\u003esum of user_age=%{y}\\u003cextra\\u003e\\u003c\\u002fextra\\u003e\",\"legendgroup\":\"male, 24\",\"marker\":{\"color\":\"#EF553B\",\"pattern\":{\"shape\":\"x\"}},\"name\":\"male, 24\",\"offsetgroup\":\"male, 24\",\"orientation\":\"v\",\"showlegend\":true,\"x\":[\"male\"],\"xaxis\":\"x\",\"y\":[24],\"yaxis\":\"y\",\"type\":\"histogram\"},{\"alignmentgroup\":\"True\",\"bingroup\":\"x\",\"histfunc\":\"sum\",\"hovertemplate\":\"user_sex=%{x}\\u003cbr\\u003euser_age=40\\u003cbr\\u003esum of user_age=%{y}\\u003cextra\\u003e\\u003c\\u002fextra\\u003e\",\"legendgroup\":\"male, 40\",\"marker\":{\"color\":\"#EF553B\",\"pattern\":{\"shape\":\"+\"}},\"name\":\"male, 40\",\"offsetgroup\":\"male, 40\",\"orientation\":\"v\",\"showlegend\":true,\"x\":[\"male\",\"male\",\"male\",\"male\",\"male\"],\"xaxis\":\"x\",\"y\":[40,40,40,40,40],\"yaxis\":\"y\",\"type\":\"histogram\"},{\"alignmentgroup\":\"True\",\"bingroup\":\"x\",\"histfunc\":\"sum\",\"hovertemplate\":\"user_sex=%{x}\\u003cbr\\u003euser_age=16\\u003cbr\\u003esum of user_age=%{y}\\u003cextra\\u003e\\u003c\\u002fextra\\u003e\",\"legendgroup\":\"male, 16\",\"marker\":{\"color\":\"#EF553B\",\"pattern\":{\"shape\":\".\"}},\"name\":\"male, 16\",\"offsetgroup\":\"male, 16\",\"orientation\":\"v\",\"showlegend\":true,\"x\":[\"male\",\"male\",\"male\"],\"xaxis\":\"x\",\"y\":[16,16,16],\"yaxis\":\"y\",\"type\":\"histogram\"},{\"alignmentgroup\":\"True\",\"bingroup\":\"x\",\"histfunc\":\"sum\",\"hovertemplate\":\"user_sex=%{x}\\u003cbr\\u003euser_age=26\\u003cbr\\u003esum of user_age=%{y}\\u003cextra\\u003e\\u003c\\u002fextra\\u003e\",\"legendgroup\":\"male, 26\",\"marker\":{\"color\":\"#EF553B\",\"pattern\":{\"shape\":\"\"}},\"name\":\"male, 26\",\"offsetgroup\":\"male, 26\",\"orientation\":\"v\",\"showlegend\":true,\"x\":[\"male\",\"male\",\"male\"],\"xaxis\":\"x\",\"y\":[26,26,26],\"yaxis\":\"y\",\"type\":\"histogram\"},{\"alignmentgroup\":\"True\",\"bingroup\":\"x\",\"histfunc\":\"sum\",\"hovertemplate\":\"user_sex=%{x}\\u003cbr\\u003euser_age=28\\u003cbr\\u003esum of user_age=%{y}\\u003cextra\\u003e\\u003c\\u002fextra\\u003e\",\"legendgroup\":\"male, 28\",\"marker\":{\"color\":\"#EF553B\",\"pattern\":{\"shape\":\"\\u002f\"}},\"name\":\"male, 28\",\"offsetgroup\":\"male, 28\",\"orientation\":\"v\",\"showlegend\":true,\"x\":[\"male\",\"male\",\"male\",\"male\",\"male\",\"male\"],\"xaxis\":\"x\",\"y\":[28,28,28,28,28,28],\"yaxis\":\"y\",\"type\":\"histogram\"},{\"alignmentgroup\":\"True\",\"bingroup\":\"x\",\"histfunc\":\"sum\",\"hovertemplate\":\"user_sex=%{x}\\u003cbr\\u003euser_age=52\\u003cbr\\u003esum of user_age=%{y}\\u003cextra\\u003e\\u003c\\u002fextra\\u003e\",\"legendgroup\":\"male, 52\",\"marker\":{\"color\":\"#EF553B\",\"pattern\":{\"shape\":\"\\\\\"}},\"name\":\"male, 52\",\"offsetgroup\":\"male, 52\",\"orientation\":\"v\",\"showlegend\":true,\"x\":[\"male\",\"male\"],\"xaxis\":\"x\",\"y\":[52,52],\"yaxis\":\"y\",\"type\":\"histogram\"},{\"alignmentgroup\":\"True\",\"bingroup\":\"x\",\"histfunc\":\"sum\",\"hovertemplate\":\"user_sex=%{x}\\u003cbr\\u003euser_age=46\\u003cbr\\u003esum of user_age=%{y}\\u003cextra\\u003e\\u003c\\u002fextra\\u003e\",\"legendgroup\":\"male, 46\",\"marker\":{\"color\":\"#EF553B\",\"pattern\":{\"shape\":\"x\"}},\"name\":\"male, 46\",\"offsetgroup\":\"male, 46\",\"orientation\":\"v\",\"showlegend\":true,\"x\":[\"male\",\"male\",\"male\",\"male\"],\"xaxis\":\"x\",\"y\":[46,46,46,46],\"yaxis\":\"y\",\"type\":\"histogram\"},{\"alignmentgroup\":\"True\",\"bingroup\":\"x\",\"histfunc\":\"sum\",\"hovertemplate\":\"user_sex=%{x}\\u003cbr\\u003euser_age=34\\u003cbr\\u003esum of user_age=%{y}\\u003cextra\\u003e\\u003c\\u002fextra\\u003e\",\"legendgroup\":\"male, 34\",\"marker\":{\"color\":\"#EF553B\",\"pattern\":{\"shape\":\"+\"}},\"name\":\"male, 34\",\"offsetgroup\":\"male, 34\",\"orientation\":\"v\",\"showlegend\":true,\"x\":[\"male\",\"male\",\"male\",\"male\",\"male\",\"male\",\"male\",\"male\",\"male\",\"male\",\"male\"],\"xaxis\":\"x\",\"y\":[34,34,34,34,34,34,34,34,34,34,34],\"yaxis\":\"y\",\"type\":\"histogram\"},{\"alignmentgroup\":\"True\",\"bingroup\":\"x\",\"histfunc\":\"sum\",\"hovertemplate\":\"user_sex=%{x}\\u003cbr\\u003euser_age=51\\u003cbr\\u003esum of user_age=%{y}\\u003cextra\\u003e\\u003c\\u002fextra\\u003e\",\"legendgroup\":\"male, 51\",\"marker\":{\"color\":\"#EF553B\",\"pattern\":{\"shape\":\".\"}},\"name\":\"male, 51\",\"offsetgroup\":\"male, 51\",\"orientation\":\"v\",\"showlegend\":true,\"x\":[\"male\",\"male\",\"male\",\"male\",\"male\",\"male\",\"male\"],\"xaxis\":\"x\",\"y\":[51,51,51,51,51,51,51],\"yaxis\":\"y\",\"type\":\"histogram\"},{\"alignmentgroup\":\"True\",\"bingroup\":\"x\",\"histfunc\":\"sum\",\"hovertemplate\":\"user_sex=%{x}\\u003cbr\\u003euser_age=38\\u003cbr\\u003esum of user_age=%{y}\\u003cextra\\u003e\\u003c\\u002fextra\\u003e\",\"legendgroup\":\"male, 38\",\"marker\":{\"color\":\"#EF553B\",\"pattern\":{\"shape\":\"\"}},\"name\":\"male, 38\",\"offsetgroup\":\"male, 38\",\"orientation\":\"v\",\"showlegend\":true,\"x\":[\"male\",\"male\",\"male\",\"male\",\"male\",\"male\",\"male\",\"male\"],\"xaxis\":\"x\",\"y\":[38,38,38,38,38,38,38,38],\"yaxis\":\"y\",\"type\":\"histogram\"},{\"alignmentgroup\":\"True\",\"bingroup\":\"x\",\"histfunc\":\"sum\",\"hovertemplate\":\"user_sex=%{x}\\u003cbr\\u003euser_age=47\\u003cbr\\u003esum of user_age=%{y}\\u003cextra\\u003e\\u003c\\u002fextra\\u003e\",\"legendgroup\":\"male, 47\",\"marker\":{\"color\":\"#EF553B\",\"pattern\":{\"shape\":\"\\u002f\"}},\"name\":\"male, 47\",\"offsetgroup\":\"male, 47\",\"orientation\":\"v\",\"showlegend\":true,\"x\":[\"male\",\"male\"],\"xaxis\":\"x\",\"y\":[47,47],\"yaxis\":\"y\",\"type\":\"histogram\"},{\"alignmentgroup\":\"True\",\"bingroup\":\"x\",\"histfunc\":\"sum\",\"hovertemplate\":\"user_sex=%{x}\\u003cbr\\u003euser_age=39\\u003cbr\\u003esum of user_age=%{y}\\u003cextra\\u003e\\u003c\\u002fextra\\u003e\",\"legendgroup\":\"male, 39\",\"marker\":{\"color\":\"#EF553B\",\"pattern\":{\"shape\":\"\\\\\"}},\"name\":\"male, 39\",\"offsetgroup\":\"male, 39\",\"orientation\":\"v\",\"showlegend\":true,\"x\":[\"male\",\"male\"],\"xaxis\":\"x\",\"y\":[39,39],\"yaxis\":\"y\",\"type\":\"histogram\"},{\"alignmentgroup\":\"True\",\"bingroup\":\"x\",\"histfunc\":\"sum\",\"hovertemplate\":\"user_sex=%{x}\\u003cbr\\u003euser_age=20\\u003cbr\\u003esum of user_age=%{y}\\u003cextra\\u003e\\u003c\\u002fextra\\u003e\",\"legendgroup\":\"male, 20\",\"marker\":{\"color\":\"#EF553B\",\"pattern\":{\"shape\":\"x\"}},\"name\":\"male, 20\",\"offsetgroup\":\"male, 20\",\"orientation\":\"v\",\"showlegend\":true,\"x\":[\"male\",\"male\",\"male\",\"male\"],\"xaxis\":\"x\",\"y\":[20,20,20,20],\"yaxis\":\"y\",\"type\":\"histogram\"},{\"alignmentgroup\":\"True\",\"bingroup\":\"x\",\"histfunc\":\"sum\",\"hovertemplate\":\"user_sex=%{x}\\u003cbr\\u003euser_age=31\\u003cbr\\u003esum of user_age=%{y}\\u003cextra\\u003e\\u003c\\u002fextra\\u003e\",\"legendgroup\":\"male, 31\",\"marker\":{\"color\":\"#EF553B\",\"pattern\":{\"shape\":\"+\"}},\"name\":\"male, 31\",\"offsetgroup\":\"male, 31\",\"orientation\":\"v\",\"showlegend\":true,\"x\":[\"male\",\"male\",\"male\",\"male\",\"male\"],\"xaxis\":\"x\",\"y\":[31,31,31,31,31],\"yaxis\":\"y\",\"type\":\"histogram\"},{\"alignmentgroup\":\"True\",\"bingroup\":\"x\",\"histfunc\":\"sum\",\"hovertemplate\":\"user_sex=%{x}\\u003cbr\\u003euser_age=22\\u003cbr\\u003esum of user_age=%{y}\\u003cextra\\u003e\\u003c\\u002fextra\\u003e\",\"legendgroup\":\"male, 22\",\"marker\":{\"color\":\"#EF553B\",\"pattern\":{\"shape\":\".\"}},\"name\":\"male, 22\",\"offsetgroup\":\"male, 22\",\"orientation\":\"v\",\"showlegend\":true,\"x\":[\"male\"],\"xaxis\":\"x\",\"y\":[22],\"yaxis\":\"y\",\"type\":\"histogram\"},{\"alignmentgroup\":\"True\",\"bingroup\":\"x\",\"histfunc\":\"sum\",\"hovertemplate\":\"user_sex=%{x}\\u003cbr\\u003euser_age=30\\u003cbr\\u003esum of user_age=%{y}\\u003cextra\\u003e\\u003c\\u002fextra\\u003e\",\"legendgroup\":\"male, 30\",\"marker\":{\"color\":\"#EF553B\",\"pattern\":{\"shape\":\"\\u002f\"}},\"name\":\"male, 30\",\"offsetgroup\":\"male, 30\",\"orientation\":\"v\",\"showlegend\":true,\"x\":[\"male\",\"male\",\"male\",\"male\",\"male\"],\"xaxis\":\"x\",\"y\":[30,30,30,30,30],\"yaxis\":\"y\",\"type\":\"histogram\"},{\"alignmentgroup\":\"True\",\"bingroup\":\"x\",\"histfunc\":\"sum\",\"hovertemplate\":\"user_sex=%{x}\\u003cbr\\u003euser_age=33\\u003cbr\\u003esum of user_age=%{y}\\u003cextra\\u003e\\u003c\\u002fextra\\u003e\",\"legendgroup\":\"male, 33\",\"marker\":{\"color\":\"#EF553B\",\"pattern\":{\"shape\":\"\\\\\"}},\"name\":\"male, 33\",\"offsetgroup\":\"male, 33\",\"orientation\":\"v\",\"showlegend\":true,\"x\":[\"male\",\"male\",\"male\",\"male\",\"male\",\"male\",\"male\",\"male\",\"male\",\"male\",\"male\"],\"xaxis\":\"x\",\"y\":[33,33,33,33,33,33,33,33,33,33,33],\"yaxis\":\"y\",\"type\":\"histogram\"},{\"alignmentgroup\":\"True\",\"bingroup\":\"x\",\"histfunc\":\"sum\",\"hovertemplate\":\"user_sex=%{x}\\u003cbr\\u003euser_age=48\\u003cbr\\u003esum of user_age=%{y}\\u003cextra\\u003e\\u003c\\u002fextra\\u003e\",\"legendgroup\":\"male, 48\",\"marker\":{\"color\":\"#EF553B\",\"pattern\":{\"shape\":\"x\"}},\"name\":\"male, 48\",\"offsetgroup\":\"male, 48\",\"orientation\":\"v\",\"showlegend\":true,\"x\":[\"male\",\"male\",\"male\",\"male\",\"male\",\"male\"],\"xaxis\":\"x\",\"y\":[48,48,48,48,48,48],\"yaxis\":\"y\",\"type\":\"histogram\"},{\"alignmentgroup\":\"True\",\"bingroup\":\"x\",\"histfunc\":\"sum\",\"hovertemplate\":\"user_sex=%{x}\\u003cbr\\u003euser_age=35\\u003cbr\\u003esum of user_age=%{y}\\u003cextra\\u003e\\u003c\\u002fextra\\u003e\",\"legendgroup\":\"male, 35\",\"marker\":{\"color\":\"#EF553B\",\"pattern\":{\"shape\":\"+\"}},\"name\":\"male, 35\",\"offsetgroup\":\"male, 35\",\"orientation\":\"v\",\"showlegend\":true,\"x\":[\"male\",\"male\",\"male\",\"male\",\"male\"],\"xaxis\":\"x\",\"y\":[35,35,35,35,35],\"yaxis\":\"y\",\"type\":\"histogram\"},{\"alignmentgroup\":\"True\",\"bingroup\":\"x\",\"histfunc\":\"sum\",\"hovertemplate\":\"user_sex=%{x}\\u003cbr\\u003euser_age=29\\u003cbr\\u003esum of user_age=%{y}\\u003cextra\\u003e\\u003c\\u002fextra\\u003e\",\"legendgroup\":\"male, 29\",\"marker\":{\"color\":\"#EF553B\",\"pattern\":{\"shape\":\".\"}},\"name\":\"male, 29\",\"offsetgroup\":\"male, 29\",\"orientation\":\"v\",\"showlegend\":true,\"x\":[\"male\",\"male\"],\"xaxis\":\"x\",\"y\":[29,29],\"yaxis\":\"y\",\"type\":\"histogram\"},{\"alignmentgroup\":\"True\",\"bingroup\":\"x\",\"histfunc\":\"sum\",\"hovertemplate\":\"user_sex=%{x}\\u003cbr\\u003euser_age=44\\u003cbr\\u003esum of user_age=%{y}\\u003cextra\\u003e\\u003c\\u002fextra\\u003e\",\"legendgroup\":\"male, 44\",\"marker\":{\"color\":\"#EF553B\",\"pattern\":{\"shape\":\"\"}},\"name\":\"male, 44\",\"offsetgroup\":\"male, 44\",\"orientation\":\"v\",\"showlegend\":true,\"x\":[\"male\",\"male\",\"male\",\"male\",\"male\"],\"xaxis\":\"x\",\"y\":[44,44,44,44,44],\"yaxis\":\"y\",\"type\":\"histogram\"},{\"alignmentgroup\":\"True\",\"bingroup\":\"x\",\"histfunc\":\"sum\",\"hovertemplate\":\"user_sex=%{x}\\u003cbr\\u003euser_age=36\\u003cbr\\u003esum of user_age=%{y}\\u003cextra\\u003e\\u003c\\u002fextra\\u003e\",\"legendgroup\":\"male, 36\",\"marker\":{\"color\":\"#EF553B\",\"pattern\":{\"shape\":\"\\u002f\"}},\"name\":\"male, 36\",\"offsetgroup\":\"male, 36\",\"orientation\":\"v\",\"showlegend\":true,\"x\":[\"male\",\"male\",\"male\",\"male\",\"male\"],\"xaxis\":\"x\",\"y\":[36,36,36,36,36],\"yaxis\":\"y\",\"type\":\"histogram\"},{\"alignmentgroup\":\"True\",\"bingroup\":\"x\",\"histfunc\":\"sum\",\"hovertemplate\":\"user_sex=%{x}\\u003cbr\\u003euser_age=45\\u003cbr\\u003esum of user_age=%{y}\\u003cextra\\u003e\\u003c\\u002fextra\\u003e\",\"legendgroup\":\"male, 45\",\"marker\":{\"color\":\"#EF553B\",\"pattern\":{\"shape\":\"\\\\\"}},\"name\":\"male, 45\",\"offsetgroup\":\"male, 45\",\"orientation\":\"v\",\"showlegend\":true,\"x\":[\"male\",\"male\",\"male\",\"male\"],\"xaxis\":\"x\",\"y\":[45,45,45,45],\"yaxis\":\"y\",\"type\":\"histogram\"},{\"alignmentgroup\":\"True\",\"bingroup\":\"x\",\"histfunc\":\"sum\",\"hovertemplate\":\"user_sex=%{x}\\u003cbr\\u003euser_age=25\\u003cbr\\u003esum of user_age=%{y}\\u003cextra\\u003e\\u003c\\u002fextra\\u003e\",\"legendgroup\":\"male, 25\",\"marker\":{\"color\":\"#EF553B\",\"pattern\":{\"shape\":\"x\"}},\"name\":\"male, 25\",\"offsetgroup\":\"male, 25\",\"orientation\":\"v\",\"showlegend\":true,\"x\":[\"male\",\"male\",\"male\"],\"xaxis\":\"x\",\"y\":[25,25,25],\"yaxis\":\"y\",\"type\":\"histogram\"},{\"alignmentgroup\":\"True\",\"bingroup\":\"x\",\"histfunc\":\"sum\",\"hovertemplate\":\"user_sex=%{x}\\u003cbr\\u003euser_age=53\\u003cbr\\u003esum of user_age=%{y}\\u003cextra\\u003e\\u003c\\u002fextra\\u003e\",\"legendgroup\":\"male, 53\",\"marker\":{\"color\":\"#EF553B\",\"pattern\":{\"shape\":\"+\"}},\"name\":\"male, 53\",\"offsetgroup\":\"male, 53\",\"orientation\":\"v\",\"showlegend\":true,\"x\":[\"male\",\"male\",\"male\"],\"xaxis\":\"x\",\"y\":[53,53,53],\"yaxis\":\"y\",\"type\":\"histogram\"},{\"alignmentgroup\":\"True\",\"bingroup\":\"x\",\"histfunc\":\"sum\",\"hovertemplate\":\"user_sex=%{x}\\u003cbr\\u003euser_age=19\\u003cbr\\u003esum of user_age=%{y}\\u003cextra\\u003e\\u003c\\u002fextra\\u003e\",\"legendgroup\":\"male, 19\",\"marker\":{\"color\":\"#EF553B\",\"pattern\":{\"shape\":\".\"}},\"name\":\"male, 19\",\"offsetgroup\":\"male, 19\",\"orientation\":\"v\",\"showlegend\":true,\"x\":[\"male\",\"male\",\"male\",\"male\"],\"xaxis\":\"x\",\"y\":[19,19,19,19],\"yaxis\":\"y\",\"type\":\"histogram\"},{\"alignmentgroup\":\"True\",\"bingroup\":\"x\",\"histfunc\":\"sum\",\"hovertemplate\":\"user_sex=%{x}\\u003cbr\\u003euser_age=41\\u003cbr\\u003esum of user_age=%{y}\\u003cextra\\u003e\\u003c\\u002fextra\\u003e\",\"legendgroup\":\"male, 41\",\"marker\":{\"color\":\"#EF553B\",\"pattern\":{\"shape\":\"\"}},\"name\":\"male, 41\",\"offsetgroup\":\"male, 41\",\"orientation\":\"v\",\"showlegend\":true,\"x\":[\"male\",\"male\",\"male\",\"male\",\"male\",\"male\"],\"xaxis\":\"x\",\"y\":[41,41,41,41,41,41],\"yaxis\":\"y\",\"type\":\"histogram\"},{\"alignmentgroup\":\"True\",\"bingroup\":\"x\",\"histfunc\":\"sum\",\"hovertemplate\":\"user_sex=%{x}\\u003cbr\\u003euser_age=60\\u003cbr\\u003esum of user_age=%{y}\\u003cextra\\u003e\\u003c\\u002fextra\\u003e\",\"legendgroup\":\"male, 60\",\"marker\":{\"color\":\"#EF553B\",\"pattern\":{\"shape\":\"\\u002f\"}},\"name\":\"male, 60\",\"offsetgroup\":\"male, 60\",\"orientation\":\"v\",\"showlegend\":true,\"x\":[\"male\",\"male\"],\"xaxis\":\"x\",\"y\":[60,60],\"yaxis\":\"y\",\"type\":\"histogram\"},{\"alignmentgroup\":\"True\",\"bingroup\":\"x\",\"histfunc\":\"sum\",\"hovertemplate\":\"user_sex=%{x}\\u003cbr\\u003euser_age=56\\u003cbr\\u003esum of user_age=%{y}\\u003cextra\\u003e\\u003c\\u002fextra\\u003e\",\"legendgroup\":\"male, 56\",\"marker\":{\"color\":\"#EF553B\",\"pattern\":{\"shape\":\"+\"}},\"name\":\"male, 56\",\"offsetgroup\":\"male, 56\",\"orientation\":\"v\",\"showlegend\":true,\"x\":[\"male\",\"male\",\"male\"],\"xaxis\":\"x\",\"y\":[56,56,56],\"yaxis\":\"y\",\"type\":\"histogram\"},{\"alignmentgroup\":\"True\",\"bingroup\":\"x\",\"histfunc\":\"sum\",\"hovertemplate\":\"user_sex=%{x}\\u003cbr\\u003euser_age=18\\u003cbr\\u003esum of user_age=%{y}\\u003cextra\\u003e\\u003c\\u002fextra\\u003e\",\"legendgroup\":\"male, 18\",\"marker\":{\"color\":\"#EF553B\",\"pattern\":{\"shape\":\".\"}},\"name\":\"male, 18\",\"offsetgroup\":\"male, 18\",\"orientation\":\"v\",\"showlegend\":true,\"x\":[\"male\",\"male\"],\"xaxis\":\"x\",\"y\":[18,18],\"yaxis\":\"y\",\"type\":\"histogram\"},{\"alignmentgroup\":\"True\",\"bingroup\":\"x\",\"histfunc\":\"sum\",\"hovertemplate\":\"user_sex=%{x}\\u003cbr\\u003euser_age=12\\u003cbr\\u003esum of user_age=%{y}\\u003cextra\\u003e\\u003c\\u002fextra\\u003e\",\"legendgroup\":\"male, 12\",\"marker\":{\"color\":\"#EF553B\",\"pattern\":{\"shape\":\"\"}},\"name\":\"male, 12\",\"offsetgroup\":\"male, 12\",\"orientation\":\"v\",\"showlegend\":true,\"x\":[\"male\",\"male\",\"male\"],\"xaxis\":\"x\",\"y\":[12,12,12],\"yaxis\":\"y\",\"type\":\"histogram\"},{\"alignmentgroup\":\"True\",\"bingroup\":\"x\",\"histfunc\":\"sum\",\"hovertemplate\":\"user_sex=%{x}\\u003cbr\\u003euser_age=13\\u003cbr\\u003esum of user_age=%{y}\\u003cextra\\u003e\\u003c\\u002fextra\\u003e\",\"legendgroup\":\"male, 13\",\"marker\":{\"color\":\"#EF553B\",\"pattern\":{\"shape\":\"\\u002f\"}},\"name\":\"male, 13\",\"offsetgroup\":\"male, 13\",\"orientation\":\"v\",\"showlegend\":true,\"x\":[\"male\",\"male\"],\"xaxis\":\"x\",\"y\":[13,13],\"yaxis\":\"y\",\"type\":\"histogram\"},{\"alignmentgroup\":\"True\",\"bingroup\":\"x\",\"histfunc\":\"sum\",\"hovertemplate\":\"user_sex=%{x}\\u003cbr\\u003euser_age=42\\u003cbr\\u003esum of user_age=%{y}\\u003cextra\\u003e\\u003c\\u002fextra\\u003e\",\"legendgroup\":\"male, 42\",\"marker\":{\"color\":\"#EF553B\",\"pattern\":{\"shape\":\"\\\\\"}},\"name\":\"male, 42\",\"offsetgroup\":\"male, 42\",\"orientation\":\"v\",\"showlegend\":true,\"x\":[\"male\",\"male\"],\"xaxis\":\"x\",\"y\":[42,42],\"yaxis\":\"y\",\"type\":\"histogram\"},{\"alignmentgroup\":\"True\",\"bingroup\":\"x\",\"histfunc\":\"sum\",\"hovertemplate\":\"user_sex=%{x}\\u003cbr\\u003euser_age=43\\u003cbr\\u003esum of user_age=%{y}\\u003cextra\\u003e\\u003c\\u002fextra\\u003e\",\"legendgroup\":\"male, 43\",\"marker\":{\"color\":\"#EF553B\",\"pattern\":{\"shape\":\"x\"}},\"name\":\"male, 43\",\"offsetgroup\":\"male, 43\",\"orientation\":\"v\",\"showlegend\":true,\"x\":[\"male\",\"male\"],\"xaxis\":\"x\",\"y\":[43,43],\"yaxis\":\"y\",\"type\":\"histogram\"},{\"alignmentgroup\":\"True\",\"bingroup\":\"x\",\"histfunc\":\"sum\",\"hovertemplate\":\"user_sex=%{x}\\u003cbr\\u003euser_age=37\\u003cbr\\u003esum of user_age=%{y}\\u003cextra\\u003e\\u003c\\u002fextra\\u003e\",\"legendgroup\":\"male, 37\",\"marker\":{\"color\":\"#EF553B\",\"pattern\":{\"shape\":\"+\"}},\"name\":\"male, 37\",\"offsetgroup\":\"male, 37\",\"orientation\":\"v\",\"showlegend\":true,\"x\":[\"male\",\"male\",\"male\",\"male\",\"male\"],\"xaxis\":\"x\",\"y\":[37,37,37,37,37],\"yaxis\":\"y\",\"type\":\"histogram\"},{\"alignmentgroup\":\"True\",\"bingroup\":\"x\",\"histfunc\":\"sum\",\"hovertemplate\":\"user_sex=%{x}\\u003cbr\\u003euser_age=15\\u003cbr\\u003esum of user_age=%{y}\\u003cextra\\u003e\\u003c\\u002fextra\\u003e\",\"legendgroup\":\"male, 15\",\"marker\":{\"color\":\"#EF553B\",\"pattern\":{\"shape\":\".\"}},\"name\":\"male, 15\",\"offsetgroup\":\"male, 15\",\"orientation\":\"v\",\"showlegend\":true,\"x\":[\"male\",\"male\"],\"xaxis\":\"x\",\"y\":[15,15],\"yaxis\":\"y\",\"type\":\"histogram\"},{\"alignmentgroup\":\"True\",\"bingroup\":\"x\",\"histfunc\":\"sum\",\"hovertemplate\":\"user_sex=%{x}\\u003cbr\\u003euser_age=55\\u003cbr\\u003esum of user_age=%{y}\\u003cextra\\u003e\\u003c\\u002fextra\\u003e\",\"legendgroup\":\"male, 55\",\"marker\":{\"color\":\"#EF553B\",\"pattern\":{\"shape\":\"\"}},\"name\":\"male, 55\",\"offsetgroup\":\"male, 55\",\"orientation\":\"v\",\"showlegend\":true,\"x\":[\"male\"],\"xaxis\":\"x\",\"y\":[55],\"yaxis\":\"y\",\"type\":\"histogram\"},{\"alignmentgroup\":\"True\",\"bingroup\":\"x\",\"histfunc\":\"sum\",\"hovertemplate\":\"user_sex=%{x}\\u003cbr\\u003euser_age=17\\u003cbr\\u003esum of user_age=%{y}\\u003cextra\\u003e\\u003c\\u002fextra\\u003e\",\"legendgroup\":\"male, 17\",\"marker\":{\"color\":\"#EF553B\",\"pattern\":{\"shape\":\"\\u002f\"}},\"name\":\"male, 17\",\"offsetgroup\":\"male, 17\",\"orientation\":\"v\",\"showlegend\":true,\"x\":[\"male\",\"male\"],\"xaxis\":\"x\",\"y\":[17,17],\"yaxis\":\"y\",\"type\":\"histogram\"},{\"alignmentgroup\":\"True\",\"bingroup\":\"x\",\"histfunc\":\"sum\",\"hovertemplate\":\"user_sex=%{x}\\u003cbr\\u003euser_age=21\\u003cbr\\u003esum of user_age=%{y}\\u003cextra\\u003e\\u003c\\u002fextra\\u003e\",\"legendgroup\":\"male, 21\",\"marker\":{\"color\":\"#EF553B\",\"pattern\":{\"shape\":\"\\\\\"}},\"name\":\"male, 21\",\"offsetgroup\":\"male, 21\",\"orientation\":\"v\",\"showlegend\":true,\"x\":[\"male\",\"male\",\"male\"],\"xaxis\":\"x\",\"y\":[21,21,21],\"yaxis\":\"y\",\"type\":\"histogram\"},{\"alignmentgroup\":\"True\",\"bingroup\":\"x\",\"histfunc\":\"sum\",\"hovertemplate\":\"user_sex=%{x}\\u003cbr\\u003euser_age=14\\u003cbr\\u003esum of user_age=%{y}\\u003cextra\\u003e\\u003c\\u002fextra\\u003e\",\"legendgroup\":\"male, 14\",\"marker\":{\"color\":\"#EF553B\",\"pattern\":{\"shape\":\"x\"}},\"name\":\"male, 14\",\"offsetgroup\":\"male, 14\",\"orientation\":\"v\",\"showlegend\":true,\"x\":[\"male\",\"male\",\"male\"],\"xaxis\":\"x\",\"y\":[14,14,14],\"yaxis\":\"y\",\"type\":\"histogram\"},{\"alignmentgroup\":\"True\",\"bingroup\":\"x\",\"histfunc\":\"sum\",\"hovertemplate\":\"user_sex=%{x}\\u003cbr\\u003euser_age=27\\u003cbr\\u003esum of user_age=%{y}\\u003cextra\\u003e\\u003c\\u002fextra\\u003e\",\"legendgroup\":\"male, 27\",\"marker\":{\"color\":\"#EF553B\",\"pattern\":{\"shape\":\"+\"}},\"name\":\"male, 27\",\"offsetgroup\":\"male, 27\",\"orientation\":\"v\",\"showlegend\":true,\"x\":[\"male\",\"male\",\"male\",\"male\",\"male\"],\"xaxis\":\"x\",\"y\":[27,27,27,27,27],\"yaxis\":\"y\",\"type\":\"histogram\"},{\"alignmentgroup\":\"True\",\"bingroup\":\"x\",\"histfunc\":\"sum\",\"hovertemplate\":\"user_sex=%{x}\\u003cbr\\u003euser_age=64\\u003cbr\\u003esum of user_age=%{y}\\u003cextra\\u003e\\u003c\\u002fextra\\u003e\",\"legendgroup\":\"male, 64\",\"marker\":{\"color\":\"#EF553B\",\"pattern\":{\"shape\":\".\"}},\"name\":\"male, 64\",\"offsetgroup\":\"male, 64\",\"orientation\":\"v\",\"showlegend\":true,\"x\":[\"male\"],\"xaxis\":\"x\",\"y\":[64],\"yaxis\":\"y\",\"type\":\"histogram\"},{\"alignmentgroup\":\"True\",\"bingroup\":\"x\",\"histfunc\":\"sum\",\"hovertemplate\":\"user_sex=%{x}\\u003cbr\\u003euser_age=49\\u003cbr\\u003esum of user_age=%{y}\\u003cextra\\u003e\\u003c\\u002fextra\\u003e\",\"legendgroup\":\"male, 49\",\"marker\":{\"color\":\"#EF553B\",\"pattern\":{\"shape\":\"\\u002f\"}},\"name\":\"male, 49\",\"offsetgroup\":\"male, 49\",\"orientation\":\"v\",\"showlegend\":true,\"x\":[\"male\",\"male\"],\"xaxis\":\"x\",\"y\":[49,49],\"yaxis\":\"y\",\"type\":\"histogram\"},{\"alignmentgroup\":\"True\",\"bingroup\":\"x\",\"histfunc\":\"sum\",\"hovertemplate\":\"user_sex=%{x}\\u003cbr\\u003euser_age=54\\u003cbr\\u003esum of user_age=%{y}\\u003cextra\\u003e\\u003c\\u002fextra\\u003e\",\"legendgroup\":\"male, 54\",\"marker\":{\"color\":\"#EF553B\",\"pattern\":{\"shape\":\".\"}},\"name\":\"male, 54\",\"offsetgroup\":\"male, 54\",\"orientation\":\"v\",\"showlegend\":true,\"x\":[\"male\"],\"xaxis\":\"x\",\"y\":[54],\"yaxis\":\"y\",\"type\":\"histogram\"},{\"alignmentgroup\":\"True\",\"bingroup\":\"x\",\"histfunc\":\"sum\",\"hovertemplate\":\"user_sex=%{x}\\u003cbr\\u003euser_age=50\\u003cbr\\u003esum of user_age=%{y}\\u003cextra\\u003e\\u003c\\u002fextra\\u003e\",\"legendgroup\":\"other, 50\",\"marker\":{\"color\":\"#00cc96\",\"pattern\":{\"shape\":\"\"}},\"name\":\"other, 50\",\"offsetgroup\":\"other, 50\",\"orientation\":\"v\",\"showlegend\":true,\"x\":[\"other\"],\"xaxis\":\"x\",\"y\":[50],\"yaxis\":\"y\",\"type\":\"histogram\"},{\"alignmentgroup\":\"True\",\"bingroup\":\"x\",\"histfunc\":\"sum\",\"hovertemplate\":\"user_sex=%{x}\\u003cbr\\u003euser_age=32\\u003cbr\\u003esum of user_age=%{y}\\u003cextra\\u003e\\u003c\\u002fextra\\u003e\",\"legendgroup\":\"other, 32\",\"marker\":{\"color\":\"#00cc96\",\"pattern\":{\"shape\":\"\\\\\"}},\"name\":\"other, 32\",\"offsetgroup\":\"other, 32\",\"orientation\":\"v\",\"showlegend\":true,\"x\":[\"other\",\"other\"],\"xaxis\":\"x\",\"y\":[32,32],\"yaxis\":\"y\",\"type\":\"histogram\"},{\"alignmentgroup\":\"True\",\"bingroup\":\"x\",\"histfunc\":\"sum\",\"hovertemplate\":\"user_sex=%{x}\\u003cbr\\u003euser_age=24\\u003cbr\\u003esum of user_age=%{y}\\u003cextra\\u003e\\u003c\\u002fextra\\u003e\",\"legendgroup\":\"other, 24\",\"marker\":{\"color\":\"#00cc96\",\"pattern\":{\"shape\":\"x\"}},\"name\":\"other, 24\",\"offsetgroup\":\"other, 24\",\"orientation\":\"v\",\"showlegend\":true,\"x\":[\"other\",\"other\"],\"xaxis\":\"x\",\"y\":[24,24],\"yaxis\":\"y\",\"type\":\"histogram\"},{\"alignmentgroup\":\"True\",\"bingroup\":\"x\",\"histfunc\":\"sum\",\"hovertemplate\":\"user_sex=%{x}\\u003cbr\\u003euser_age=26\\u003cbr\\u003esum of user_age=%{y}\\u003cextra\\u003e\\u003c\\u002fextra\\u003e\",\"legendgroup\":\"other, 26\",\"marker\":{\"color\":\"#00cc96\",\"pattern\":{\"shape\":\"\"}},\"name\":\"other, 26\",\"offsetgroup\":\"other, 26\",\"orientation\":\"v\",\"showlegend\":true,\"x\":[\"other\",\"other\"],\"xaxis\":\"x\",\"y\":[26,26],\"yaxis\":\"y\",\"type\":\"histogram\"},{\"alignmentgroup\":\"True\",\"bingroup\":\"x\",\"histfunc\":\"sum\",\"hovertemplate\":\"user_sex=%{x}\\u003cbr\\u003euser_age=52\\u003cbr\\u003esum of user_age=%{y}\\u003cextra\\u003e\\u003c\\u002fextra\\u003e\",\"legendgroup\":\"other, 52\",\"marker\":{\"color\":\"#00cc96\",\"pattern\":{\"shape\":\"\\\\\"}},\"name\":\"other, 52\",\"offsetgroup\":\"other, 52\",\"orientation\":\"v\",\"showlegend\":true,\"x\":[\"other\"],\"xaxis\":\"x\",\"y\":[52],\"yaxis\":\"y\",\"type\":\"histogram\"},{\"alignmentgroup\":\"True\",\"bingroup\":\"x\",\"histfunc\":\"sum\",\"hovertemplate\":\"user_sex=%{x}\\u003cbr\\u003euser_age=46\\u003cbr\\u003esum of user_age=%{y}\\u003cextra\\u003e\\u003c\\u002fextra\\u003e\",\"legendgroup\":\"other, 46\",\"marker\":{\"color\":\"#00cc96\",\"pattern\":{\"shape\":\"x\"}},\"name\":\"other, 46\",\"offsetgroup\":\"other, 46\",\"orientation\":\"v\",\"showlegend\":true,\"x\":[\"other\",\"other\",\"other\",\"other\",\"other\"],\"xaxis\":\"x\",\"y\":[46,46,46,46,46],\"yaxis\":\"y\",\"type\":\"histogram\"},{\"alignmentgroup\":\"True\",\"bingroup\":\"x\",\"histfunc\":\"sum\",\"hovertemplate\":\"user_sex=%{x}\\u003cbr\\u003euser_age=34\\u003cbr\\u003esum of user_age=%{y}\\u003cextra\\u003e\\u003c\\u002fextra\\u003e\",\"legendgroup\":\"other, 34\",\"marker\":{\"color\":\"#00cc96\",\"pattern\":{\"shape\":\"+\"}},\"name\":\"other, 34\",\"offsetgroup\":\"other, 34\",\"orientation\":\"v\",\"showlegend\":true,\"x\":[\"other\"],\"xaxis\":\"x\",\"y\":[34],\"yaxis\":\"y\",\"type\":\"histogram\"},{\"alignmentgroup\":\"True\",\"bingroup\":\"x\",\"histfunc\":\"sum\",\"hovertemplate\":\"user_sex=%{x}\\u003cbr\\u003euser_age=51\\u003cbr\\u003esum of user_age=%{y}\\u003cextra\\u003e\\u003c\\u002fextra\\u003e\",\"legendgroup\":\"other, 51\",\"marker\":{\"color\":\"#00cc96\",\"pattern\":{\"shape\":\".\"}},\"name\":\"other, 51\",\"offsetgroup\":\"other, 51\",\"orientation\":\"v\",\"showlegend\":true,\"x\":[\"other\"],\"xaxis\":\"x\",\"y\":[51],\"yaxis\":\"y\",\"type\":\"histogram\"},{\"alignmentgroup\":\"True\",\"bingroup\":\"x\",\"histfunc\":\"sum\",\"hovertemplate\":\"user_sex=%{x}\\u003cbr\\u003euser_age=38\\u003cbr\\u003esum of user_age=%{y}\\u003cextra\\u003e\\u003c\\u002fextra\\u003e\",\"legendgroup\":\"other, 38\",\"marker\":{\"color\":\"#00cc96\",\"pattern\":{\"shape\":\"\"}},\"name\":\"other, 38\",\"offsetgroup\":\"other, 38\",\"orientation\":\"v\",\"showlegend\":true,\"x\":[\"other\",\"other\"],\"xaxis\":\"x\",\"y\":[38,38],\"yaxis\":\"y\",\"type\":\"histogram\"},{\"alignmentgroup\":\"True\",\"bingroup\":\"x\",\"histfunc\":\"sum\",\"hovertemplate\":\"user_sex=%{x}\\u003cbr\\u003euser_age=47\\u003cbr\\u003esum of user_age=%{y}\\u003cextra\\u003e\\u003c\\u002fextra\\u003e\",\"legendgroup\":\"other, 47\",\"marker\":{\"color\":\"#00cc96\",\"pattern\":{\"shape\":\"\\u002f\"}},\"name\":\"other, 47\",\"offsetgroup\":\"other, 47\",\"orientation\":\"v\",\"showlegend\":true,\"x\":[\"other\"],\"xaxis\":\"x\",\"y\":[47],\"yaxis\":\"y\",\"type\":\"histogram\"},{\"alignmentgroup\":\"True\",\"bingroup\":\"x\",\"histfunc\":\"sum\",\"hovertemplate\":\"user_sex=%{x}\\u003cbr\\u003euser_age=39\\u003cbr\\u003esum of user_age=%{y}\\u003cextra\\u003e\\u003c\\u002fextra\\u003e\",\"legendgroup\":\"other, 39\",\"marker\":{\"color\":\"#00cc96\",\"pattern\":{\"shape\":\"\\\\\"}},\"name\":\"other, 39\",\"offsetgroup\":\"other, 39\",\"orientation\":\"v\",\"showlegend\":true,\"x\":[\"other\"],\"xaxis\":\"x\",\"y\":[39],\"yaxis\":\"y\",\"type\":\"histogram\"},{\"alignmentgroup\":\"True\",\"bingroup\":\"x\",\"histfunc\":\"sum\",\"hovertemplate\":\"user_sex=%{x}\\u003cbr\\u003euser_age=31\\u003cbr\\u003esum of user_age=%{y}\\u003cextra\\u003e\\u003c\\u002fextra\\u003e\",\"legendgroup\":\"other, 31\",\"marker\":{\"color\":\"#00cc96\",\"pattern\":{\"shape\":\"+\"}},\"name\":\"other, 31\",\"offsetgroup\":\"other, 31\",\"orientation\":\"v\",\"showlegend\":true,\"x\":[\"other\",\"other\",\"other\"],\"xaxis\":\"x\",\"y\":[31,31,31],\"yaxis\":\"y\",\"type\":\"histogram\"},{\"alignmentgroup\":\"True\",\"bingroup\":\"x\",\"histfunc\":\"sum\",\"hovertemplate\":\"user_sex=%{x}\\u003cbr\\u003euser_age=30\\u003cbr\\u003esum of user_age=%{y}\\u003cextra\\u003e\\u003c\\u002fextra\\u003e\",\"legendgroup\":\"other, 30\",\"marker\":{\"color\":\"#00cc96\",\"pattern\":{\"shape\":\"\\u002f\"}},\"name\":\"other, 30\",\"offsetgroup\":\"other, 30\",\"orientation\":\"v\",\"showlegend\":true,\"x\":[\"other\",\"other\",\"other\"],\"xaxis\":\"x\",\"y\":[30,30,30],\"yaxis\":\"y\",\"type\":\"histogram\"},{\"alignmentgroup\":\"True\",\"bingroup\":\"x\",\"histfunc\":\"sum\",\"hovertemplate\":\"user_sex=%{x}\\u003cbr\\u003euser_age=33\\u003cbr\\u003esum of user_age=%{y}\\u003cextra\\u003e\\u003c\\u002fextra\\u003e\",\"legendgroup\":\"other, 33\",\"marker\":{\"color\":\"#00cc96\",\"pattern\":{\"shape\":\"\\\\\"}},\"name\":\"other, 33\",\"offsetgroup\":\"other, 33\",\"orientation\":\"v\",\"showlegend\":true,\"x\":[\"other\",\"other\",\"other\",\"other\",\"other\"],\"xaxis\":\"x\",\"y\":[33,33,33,33,33],\"yaxis\":\"y\",\"type\":\"histogram\"},{\"alignmentgroup\":\"True\",\"bingroup\":\"x\",\"histfunc\":\"sum\",\"hovertemplate\":\"user_sex=%{x}\\u003cbr\\u003euser_age=48\\u003cbr\\u003esum of user_age=%{y}\\u003cextra\\u003e\\u003c\\u002fextra\\u003e\",\"legendgroup\":\"other, 48\",\"marker\":{\"color\":\"#00cc96\",\"pattern\":{\"shape\":\"x\"}},\"name\":\"other, 48\",\"offsetgroup\":\"other, 48\",\"orientation\":\"v\",\"showlegend\":true,\"x\":[\"other\",\"other\"],\"xaxis\":\"x\",\"y\":[48,48],\"yaxis\":\"y\",\"type\":\"histogram\"},{\"alignmentgroup\":\"True\",\"bingroup\":\"x\",\"histfunc\":\"sum\",\"hovertemplate\":\"user_sex=%{x}\\u003cbr\\u003euser_age=35\\u003cbr\\u003esum of user_age=%{y}\\u003cextra\\u003e\\u003c\\u002fextra\\u003e\",\"legendgroup\":\"other, 35\",\"marker\":{\"color\":\"#00cc96\",\"pattern\":{\"shape\":\"+\"}},\"name\":\"other, 35\",\"offsetgroup\":\"other, 35\",\"orientation\":\"v\",\"showlegend\":true,\"x\":[\"other\",\"other\",\"other\",\"other\",\"other\",\"other\",\"other\"],\"xaxis\":\"x\",\"y\":[35,35,35,35,35,35,35],\"yaxis\":\"y\",\"type\":\"histogram\"},{\"alignmentgroup\":\"True\",\"bingroup\":\"x\",\"histfunc\":\"sum\",\"hovertemplate\":\"user_sex=%{x}\\u003cbr\\u003euser_age=29\\u003cbr\\u003esum of user_age=%{y}\\u003cextra\\u003e\\u003c\\u002fextra\\u003e\",\"legendgroup\":\"other, 29\",\"marker\":{\"color\":\"#00cc96\",\"pattern\":{\"shape\":\".\"}},\"name\":\"other, 29\",\"offsetgroup\":\"other, 29\",\"orientation\":\"v\",\"showlegend\":true,\"x\":[\"other\",\"other\",\"other\",\"other\",\"other\",\"other\"],\"xaxis\":\"x\",\"y\":[29,29,29,29,29,29],\"yaxis\":\"y\",\"type\":\"histogram\"},{\"alignmentgroup\":\"True\",\"bingroup\":\"x\",\"histfunc\":\"sum\",\"hovertemplate\":\"user_sex=%{x}\\u003cbr\\u003euser_age=36\\u003cbr\\u003esum of user_age=%{y}\\u003cextra\\u003e\\u003c\\u002fextra\\u003e\",\"legendgroup\":\"other, 36\",\"marker\":{\"color\":\"#00cc96\",\"pattern\":{\"shape\":\"\\u002f\"}},\"name\":\"other, 36\",\"offsetgroup\":\"other, 36\",\"orientation\":\"v\",\"showlegend\":true,\"x\":[\"other\"],\"xaxis\":\"x\",\"y\":[36],\"yaxis\":\"y\",\"type\":\"histogram\"},{\"alignmentgroup\":\"True\",\"bingroup\":\"x\",\"histfunc\":\"sum\",\"hovertemplate\":\"user_sex=%{x}\\u003cbr\\u003euser_age=25\\u003cbr\\u003esum of user_age=%{y}\\u003cextra\\u003e\\u003c\\u002fextra\\u003e\",\"legendgroup\":\"other, 25\",\"marker\":{\"color\":\"#00cc96\",\"pattern\":{\"shape\":\"x\"}},\"name\":\"other, 25\",\"offsetgroup\":\"other, 25\",\"orientation\":\"v\",\"showlegend\":true,\"x\":[\"other\"],\"xaxis\":\"x\",\"y\":[25],\"yaxis\":\"y\",\"type\":\"histogram\"},{\"alignmentgroup\":\"True\",\"bingroup\":\"x\",\"histfunc\":\"sum\",\"hovertemplate\":\"user_sex=%{x}\\u003cbr\\u003euser_age=19\\u003cbr\\u003esum of user_age=%{y}\\u003cextra\\u003e\\u003c\\u002fextra\\u003e\",\"legendgroup\":\"other, 19\",\"marker\":{\"color\":\"#00cc96\",\"pattern\":{\"shape\":\".\"}},\"name\":\"other, 19\",\"offsetgroup\":\"other, 19\",\"orientation\":\"v\",\"showlegend\":true,\"x\":[\"other\"],\"xaxis\":\"x\",\"y\":[19],\"yaxis\":\"y\",\"type\":\"histogram\"},{\"alignmentgroup\":\"True\",\"bingroup\":\"x\",\"histfunc\":\"sum\",\"hovertemplate\":\"user_sex=%{x}\\u003cbr\\u003euser_age=41\\u003cbr\\u003esum of user_age=%{y}\\u003cextra\\u003e\\u003c\\u002fextra\\u003e\",\"legendgroup\":\"other, 41\",\"marker\":{\"color\":\"#00cc96\",\"pattern\":{\"shape\":\"\"}},\"name\":\"other, 41\",\"offsetgroup\":\"other, 41\",\"orientation\":\"v\",\"showlegend\":true,\"x\":[\"other\"],\"xaxis\":\"x\",\"y\":[41],\"yaxis\":\"y\",\"type\":\"histogram\"},{\"alignmentgroup\":\"True\",\"bingroup\":\"x\",\"histfunc\":\"sum\",\"hovertemplate\":\"user_sex=%{x}\\u003cbr\\u003euser_age=60\\u003cbr\\u003esum of user_age=%{y}\\u003cextra\\u003e\\u003c\\u002fextra\\u003e\",\"legendgroup\":\"other, 60\",\"marker\":{\"color\":\"#00cc96\",\"pattern\":{\"shape\":\"\\u002f\"}},\"name\":\"other, 60\",\"offsetgroup\":\"other, 60\",\"orientation\":\"v\",\"showlegend\":true,\"x\":[\"other\"],\"xaxis\":\"x\",\"y\":[60],\"yaxis\":\"y\",\"type\":\"histogram\"},{\"alignmentgroup\":\"True\",\"bingroup\":\"x\",\"histfunc\":\"sum\",\"hovertemplate\":\"user_sex=%{x}\\u003cbr\\u003euser_age=10\\u003cbr\\u003esum of user_age=%{y}\\u003cextra\\u003e\\u003c\\u002fextra\\u003e\",\"legendgroup\":\"other, 10\",\"marker\":{\"color\":\"#00cc96\",\"pattern\":{\"shape\":\"\\\\\"}},\"name\":\"other, 10\",\"offsetgroup\":\"other, 10\",\"orientation\":\"v\",\"showlegend\":true,\"x\":[\"other\"],\"xaxis\":\"x\",\"y\":[10],\"yaxis\":\"y\",\"type\":\"histogram\"},{\"alignmentgroup\":\"True\",\"bingroup\":\"x\",\"histfunc\":\"sum\",\"hovertemplate\":\"user_sex=%{x}\\u003cbr\\u003euser_age=56\\u003cbr\\u003esum of user_age=%{y}\\u003cextra\\u003e\\u003c\\u002fextra\\u003e\",\"legendgroup\":\"other, 56\",\"marker\":{\"color\":\"#00cc96\",\"pattern\":{\"shape\":\"+\"}},\"name\":\"other, 56\",\"offsetgroup\":\"other, 56\",\"orientation\":\"v\",\"showlegend\":true,\"x\":[\"other\"],\"xaxis\":\"x\",\"y\":[56],\"yaxis\":\"y\",\"type\":\"histogram\"},{\"alignmentgroup\":\"True\",\"bingroup\":\"x\",\"histfunc\":\"sum\",\"hovertemplate\":\"user_sex=%{x}\\u003cbr\\u003euser_age=13\\u003cbr\\u003esum of user_age=%{y}\\u003cextra\\u003e\\u003c\\u002fextra\\u003e\",\"legendgroup\":\"other, 13\",\"marker\":{\"color\":\"#00cc96\",\"pattern\":{\"shape\":\"\\u002f\"}},\"name\":\"other, 13\",\"offsetgroup\":\"other, 13\",\"orientation\":\"v\",\"showlegend\":true,\"x\":[\"other\"],\"xaxis\":\"x\",\"y\":[13],\"yaxis\":\"y\",\"type\":\"histogram\"},{\"alignmentgroup\":\"True\",\"bingroup\":\"x\",\"histfunc\":\"sum\",\"hovertemplate\":\"user_sex=%{x}\\u003cbr\\u003euser_age=42\\u003cbr\\u003esum of user_age=%{y}\\u003cextra\\u003e\\u003c\\u002fextra\\u003e\",\"legendgroup\":\"other, 42\",\"marker\":{\"color\":\"#00cc96\",\"pattern\":{\"shape\":\"\\\\\"}},\"name\":\"other, 42\",\"offsetgroup\":\"other, 42\",\"orientation\":\"v\",\"showlegend\":true,\"x\":[\"other\",\"other\",\"other\",\"other\",\"other\"],\"xaxis\":\"x\",\"y\":[42,42,42,42,42],\"yaxis\":\"y\",\"type\":\"histogram\"},{\"alignmentgroup\":\"True\",\"bingroup\":\"x\",\"histfunc\":\"sum\",\"hovertemplate\":\"user_sex=%{x}\\u003cbr\\u003euser_age=43\\u003cbr\\u003esum of user_age=%{y}\\u003cextra\\u003e\\u003c\\u002fextra\\u003e\",\"legendgroup\":\"other, 43\",\"marker\":{\"color\":\"#00cc96\",\"pattern\":{\"shape\":\"x\"}},\"name\":\"other, 43\",\"offsetgroup\":\"other, 43\",\"orientation\":\"v\",\"showlegend\":true,\"x\":[\"other\",\"other\"],\"xaxis\":\"x\",\"y\":[43,43],\"yaxis\":\"y\",\"type\":\"histogram\"},{\"alignmentgroup\":\"True\",\"bingroup\":\"x\",\"histfunc\":\"sum\",\"hovertemplate\":\"user_sex=%{x}\\u003cbr\\u003euser_age=37\\u003cbr\\u003esum of user_age=%{y}\\u003cextra\\u003e\\u003c\\u002fextra\\u003e\",\"legendgroup\":\"other, 37\",\"marker\":{\"color\":\"#00cc96\",\"pattern\":{\"shape\":\"+\"}},\"name\":\"other, 37\",\"offsetgroup\":\"other, 37\",\"orientation\":\"v\",\"showlegend\":true,\"x\":[\"other\",\"other\"],\"xaxis\":\"x\",\"y\":[37,37],\"yaxis\":\"y\",\"type\":\"histogram\"},{\"alignmentgroup\":\"True\",\"bingroup\":\"x\",\"histfunc\":\"sum\",\"hovertemplate\":\"user_sex=%{x}\\u003cbr\\u003euser_age=17\\u003cbr\\u003esum of user_age=%{y}\\u003cextra\\u003e\\u003c\\u002fextra\\u003e\",\"legendgroup\":\"other, 17\",\"marker\":{\"color\":\"#00cc96\",\"pattern\":{\"shape\":\"\\u002f\"}},\"name\":\"other, 17\",\"offsetgroup\":\"other, 17\",\"orientation\":\"v\",\"showlegend\":true,\"x\":[\"other\",\"other\"],\"xaxis\":\"x\",\"y\":[17,17],\"yaxis\":\"y\",\"type\":\"histogram\"},{\"alignmentgroup\":\"True\",\"bingroup\":\"x\",\"histfunc\":\"sum\",\"hovertemplate\":\"user_sex=%{x}\\u003cbr\\u003euser_age=14\\u003cbr\\u003esum of user_age=%{y}\\u003cextra\\u003e\\u003c\\u002fextra\\u003e\",\"legendgroup\":\"other, 14\",\"marker\":{\"color\":\"#00cc96\",\"pattern\":{\"shape\":\"x\"}},\"name\":\"other, 14\",\"offsetgroup\":\"other, 14\",\"orientation\":\"v\",\"showlegend\":true,\"x\":[\"other\"],\"xaxis\":\"x\",\"y\":[14],\"yaxis\":\"y\",\"type\":\"histogram\"},{\"alignmentgroup\":\"True\",\"bingroup\":\"x\",\"histfunc\":\"sum\",\"hovertemplate\":\"user_sex=%{x}\\u003cbr\\u003euser_age=27\\u003cbr\\u003esum of user_age=%{y}\\u003cextra\\u003e\\u003c\\u002fextra\\u003e\",\"legendgroup\":\"other, 27\",\"marker\":{\"color\":\"#00cc96\",\"pattern\":{\"shape\":\"+\"}},\"name\":\"other, 27\",\"offsetgroup\":\"other, 27\",\"orientation\":\"v\",\"showlegend\":true,\"x\":[\"other\",\"other\"],\"xaxis\":\"x\",\"y\":[27,27],\"yaxis\":\"y\",\"type\":\"histogram\"},{\"alignmentgroup\":\"True\",\"bingroup\":\"x\",\"histfunc\":\"sum\",\"hovertemplate\":\"user_sex=%{x}\\u003cbr\\u003euser_age=8\\u003cbr\\u003esum of user_age=%{y}\\u003cextra\\u003e\\u003c\\u002fextra\\u003e\",\"legendgroup\":\"other, 8\",\"marker\":{\"color\":\"#00cc96\",\"pattern\":{\"shape\":\"\\\\\"}},\"name\":\"other, 8\",\"offsetgroup\":\"other, 8\",\"orientation\":\"v\",\"showlegend\":true,\"x\":[\"other\"],\"xaxis\":\"x\",\"y\":[8],\"yaxis\":\"y\",\"type\":\"histogram\"},{\"alignmentgroup\":\"True\",\"bingroup\":\"x\",\"histfunc\":\"sum\",\"hovertemplate\":\"user_sex=%{x}\\u003cbr\\u003euser_age=63\\u003cbr\\u003esum of user_age=%{y}\\u003cextra\\u003e\\u003c\\u002fextra\\u003e\",\"legendgroup\":\"other, 63\",\"marker\":{\"color\":\"#00cc96\",\"pattern\":{\"shape\":\"x\"}},\"name\":\"other, 63\",\"offsetgroup\":\"other, 63\",\"orientation\":\"v\",\"showlegend\":true,\"x\":[\"other\"],\"xaxis\":\"x\",\"y\":[63],\"yaxis\":\"y\",\"type\":\"histogram\"},{\"alignmentgroup\":\"True\",\"bingroup\":\"x\",\"histfunc\":\"sum\",\"hovertemplate\":\"user_sex=%{x}\\u003cbr\\u003euser_age=54\\u003cbr\\u003esum of user_age=%{y}\\u003cextra\\u003e\\u003c\\u002fextra\\u003e\",\"legendgroup\":\"other, 54\",\"marker\":{\"color\":\"#00cc96\",\"pattern\":{\"shape\":\".\"}},\"name\":\"other, 54\",\"offsetgroup\":\"other, 54\",\"orientation\":\"v\",\"showlegend\":true,\"x\":[\"other\"],\"xaxis\":\"x\",\"y\":[54],\"yaxis\":\"y\",\"type\":\"histogram\"}],                        {\"template\":{\"data\":{\"histogram2dcontour\":[{\"type\":\"histogram2dcontour\",\"colorbar\":{\"outlinewidth\":0,\"ticks\":\"\"},\"colorscale\":[[0.0,\"#0d0887\"],[0.1111111111111111,\"#46039f\"],[0.2222222222222222,\"#7201a8\"],[0.3333333333333333,\"#9c179e\"],[0.4444444444444444,\"#bd3786\"],[0.5555555555555556,\"#d8576b\"],[0.6666666666666666,\"#ed7953\"],[0.7777777777777778,\"#fb9f3a\"],[0.8888888888888888,\"#fdca26\"],[1.0,\"#f0f921\"]]}],\"choropleth\":[{\"type\":\"choropleth\",\"colorbar\":{\"outlinewidth\":0,\"ticks\":\"\"}}],\"histogram2d\":[{\"type\":\"histogram2d\",\"colorbar\":{\"outlinewidth\":0,\"ticks\":\"\"},\"colorscale\":[[0.0,\"#0d0887\"],[0.1111111111111111,\"#46039f\"],[0.2222222222222222,\"#7201a8\"],[0.3333333333333333,\"#9c179e\"],[0.4444444444444444,\"#bd3786\"],[0.5555555555555556,\"#d8576b\"],[0.6666666666666666,\"#ed7953\"],[0.7777777777777778,\"#fb9f3a\"],[0.8888888888888888,\"#fdca26\"],[1.0,\"#f0f921\"]]}],\"heatmap\":[{\"type\":\"heatmap\",\"colorbar\":{\"outlinewidth\":0,\"ticks\":\"\"},\"colorscale\":[[0.0,\"#0d0887\"],[0.1111111111111111,\"#46039f\"],[0.2222222222222222,\"#7201a8\"],[0.3333333333333333,\"#9c179e\"],[0.4444444444444444,\"#bd3786\"],[0.5555555555555556,\"#d8576b\"],[0.6666666666666666,\"#ed7953\"],[0.7777777777777778,\"#fb9f3a\"],[0.8888888888888888,\"#fdca26\"],[1.0,\"#f0f921\"]]}],\"heatmapgl\":[{\"type\":\"heatmapgl\",\"colorbar\":{\"outlinewidth\":0,\"ticks\":\"\"},\"colorscale\":[[0.0,\"#0d0887\"],[0.1111111111111111,\"#46039f\"],[0.2222222222222222,\"#7201a8\"],[0.3333333333333333,\"#9c179e\"],[0.4444444444444444,\"#bd3786\"],[0.5555555555555556,\"#d8576b\"],[0.6666666666666666,\"#ed7953\"],[0.7777777777777778,\"#fb9f3a\"],[0.8888888888888888,\"#fdca26\"],[1.0,\"#f0f921\"]]}],\"contourcarpet\":[{\"type\":\"contourcarpet\",\"colorbar\":{\"outlinewidth\":0,\"ticks\":\"\"}}],\"contour\":[{\"type\":\"contour\",\"colorbar\":{\"outlinewidth\":0,\"ticks\":\"\"},\"colorscale\":[[0.0,\"#0d0887\"],[0.1111111111111111,\"#46039f\"],[0.2222222222222222,\"#7201a8\"],[0.3333333333333333,\"#9c179e\"],[0.4444444444444444,\"#bd3786\"],[0.5555555555555556,\"#d8576b\"],[0.6666666666666666,\"#ed7953\"],[0.7777777777777778,\"#fb9f3a\"],[0.8888888888888888,\"#fdca26\"],[1.0,\"#f0f921\"]]}],\"surface\":[{\"type\":\"surface\",\"colorbar\":{\"outlinewidth\":0,\"ticks\":\"\"},\"colorscale\":[[0.0,\"#0d0887\"],[0.1111111111111111,\"#46039f\"],[0.2222222222222222,\"#7201a8\"],[0.3333333333333333,\"#9c179e\"],[0.4444444444444444,\"#bd3786\"],[0.5555555555555556,\"#d8576b\"],[0.6666666666666666,\"#ed7953\"],[0.7777777777777778,\"#fb9f3a\"],[0.8888888888888888,\"#fdca26\"],[1.0,\"#f0f921\"]]}],\"mesh3d\":[{\"type\":\"mesh3d\",\"colorbar\":{\"outlinewidth\":0,\"ticks\":\"\"}}],\"scatter\":[{\"marker\":{\"line\":{\"color\":\"#283442\"}},\"type\":\"scatter\"}],\"parcoords\":[{\"type\":\"parcoords\",\"line\":{\"colorbar\":{\"outlinewidth\":0,\"ticks\":\"\"}}}],\"scatterpolargl\":[{\"type\":\"scatterpolargl\",\"marker\":{\"colorbar\":{\"outlinewidth\":0,\"ticks\":\"\"}}}],\"bar\":[{\"error_x\":{\"color\":\"#f2f5fa\"},\"error_y\":{\"color\":\"#f2f5fa\"},\"marker\":{\"line\":{\"color\":\"rgb(17,17,17)\",\"width\":0.5},\"pattern\":{\"fillmode\":\"overlay\",\"size\":10,\"solidity\":0.2}},\"type\":\"bar\"}],\"scattergeo\":[{\"type\":\"scattergeo\",\"marker\":{\"colorbar\":{\"outlinewidth\":0,\"ticks\":\"\"}}}],\"scatterpolar\":[{\"type\":\"scatterpolar\",\"marker\":{\"colorbar\":{\"outlinewidth\":0,\"ticks\":\"\"}}}],\"histogram\":[{\"marker\":{\"pattern\":{\"fillmode\":\"overlay\",\"size\":10,\"solidity\":0.2}},\"type\":\"histogram\"}],\"scattergl\":[{\"marker\":{\"line\":{\"color\":\"#283442\"}},\"type\":\"scattergl\"}],\"scatter3d\":[{\"type\":\"scatter3d\",\"line\":{\"colorbar\":{\"outlinewidth\":0,\"ticks\":\"\"}},\"marker\":{\"colorbar\":{\"outlinewidth\":0,\"ticks\":\"\"}}}],\"scattermapbox\":[{\"type\":\"scattermapbox\",\"marker\":{\"colorbar\":{\"outlinewidth\":0,\"ticks\":\"\"}}}],\"scatterternary\":[{\"type\":\"scatterternary\",\"marker\":{\"colorbar\":{\"outlinewidth\":0,\"ticks\":\"\"}}}],\"scattercarpet\":[{\"type\":\"scattercarpet\",\"marker\":{\"colorbar\":{\"outlinewidth\":0,\"ticks\":\"\"}}}],\"carpet\":[{\"aaxis\":{\"endlinecolor\":\"#A2B1C6\",\"gridcolor\":\"#506784\",\"linecolor\":\"#506784\",\"minorgridcolor\":\"#506784\",\"startlinecolor\":\"#A2B1C6\"},\"baxis\":{\"endlinecolor\":\"#A2B1C6\",\"gridcolor\":\"#506784\",\"linecolor\":\"#506784\",\"minorgridcolor\":\"#506784\",\"startlinecolor\":\"#A2B1C6\"},\"type\":\"carpet\"}],\"table\":[{\"cells\":{\"fill\":{\"color\":\"#506784\"},\"line\":{\"color\":\"rgb(17,17,17)\"}},\"header\":{\"fill\":{\"color\":\"#2a3f5f\"},\"line\":{\"color\":\"rgb(17,17,17)\"}},\"type\":\"table\"}],\"barpolar\":[{\"marker\":{\"line\":{\"color\":\"rgb(17,17,17)\",\"width\":0.5},\"pattern\":{\"fillmode\":\"overlay\",\"size\":10,\"solidity\":0.2}},\"type\":\"barpolar\"}],\"pie\":[{\"automargin\":true,\"type\":\"pie\"}]},\"layout\":{\"autotypenumbers\":\"strict\",\"colorway\":[\"#636efa\",\"#EF553B\",\"#00cc96\",\"#ab63fa\",\"#FFA15A\",\"#19d3f3\",\"#FF6692\",\"#B6E880\",\"#FF97FF\",\"#FECB52\"],\"font\":{\"color\":\"#f2f5fa\"},\"hovermode\":\"closest\",\"hoverlabel\":{\"align\":\"left\"},\"paper_bgcolor\":\"rgb(17,17,17)\",\"plot_bgcolor\":\"rgb(17,17,17)\",\"polar\":{\"bgcolor\":\"rgb(17,17,17)\",\"angularaxis\":{\"gridcolor\":\"#506784\",\"linecolor\":\"#506784\",\"ticks\":\"\"},\"radialaxis\":{\"gridcolor\":\"#506784\",\"linecolor\":\"#506784\",\"ticks\":\"\"}},\"ternary\":{\"bgcolor\":\"rgb(17,17,17)\",\"aaxis\":{\"gridcolor\":\"#506784\",\"linecolor\":\"#506784\",\"ticks\":\"\"},\"baxis\":{\"gridcolor\":\"#506784\",\"linecolor\":\"#506784\",\"ticks\":\"\"},\"caxis\":{\"gridcolor\":\"#506784\",\"linecolor\":\"#506784\",\"ticks\":\"\"}},\"coloraxis\":{\"colorbar\":{\"outlinewidth\":0,\"ticks\":\"\"}},\"colorscale\":{\"sequential\":[[0.0,\"#0d0887\"],[0.1111111111111111,\"#46039f\"],[0.2222222222222222,\"#7201a8\"],[0.3333333333333333,\"#9c179e\"],[0.4444444444444444,\"#bd3786\"],[0.5555555555555556,\"#d8576b\"],[0.6666666666666666,\"#ed7953\"],[0.7777777777777778,\"#fb9f3a\"],[0.8888888888888888,\"#fdca26\"],[1.0,\"#f0f921\"]],\"sequentialminus\":[[0.0,\"#0d0887\"],[0.1111111111111111,\"#46039f\"],[0.2222222222222222,\"#7201a8\"],[0.3333333333333333,\"#9c179e\"],[0.4444444444444444,\"#bd3786\"],[0.5555555555555556,\"#d8576b\"],[0.6666666666666666,\"#ed7953\"],[0.7777777777777778,\"#fb9f3a\"],[0.8888888888888888,\"#fdca26\"],[1.0,\"#f0f921\"]],\"diverging\":[[0,\"#8e0152\"],[0.1,\"#c51b7d\"],[0.2,\"#de77ae\"],[0.3,\"#f1b6da\"],[0.4,\"#fde0ef\"],[0.5,\"#f7f7f7\"],[0.6,\"#e6f5d0\"],[0.7,\"#b8e186\"],[0.8,\"#7fbc41\"],[0.9,\"#4d9221\"],[1,\"#276419\"]]},\"xaxis\":{\"gridcolor\":\"#283442\",\"linecolor\":\"#506784\",\"ticks\":\"\",\"title\":{\"standoff\":15},\"zerolinecolor\":\"#283442\",\"automargin\":true,\"zerolinewidth\":2},\"yaxis\":{\"gridcolor\":\"#283442\",\"linecolor\":\"#506784\",\"ticks\":\"\",\"title\":{\"standoff\":15},\"zerolinecolor\":\"#283442\",\"automargin\":true,\"zerolinewidth\":2},\"scene\":{\"xaxis\":{\"backgroundcolor\":\"rgb(17,17,17)\",\"gridcolor\":\"#506784\",\"linecolor\":\"#506784\",\"showbackground\":true,\"ticks\":\"\",\"zerolinecolor\":\"#C8D4E3\",\"gridwidth\":2},\"yaxis\":{\"backgroundcolor\":\"rgb(17,17,17)\",\"gridcolor\":\"#506784\",\"linecolor\":\"#506784\",\"showbackground\":true,\"ticks\":\"\",\"zerolinecolor\":\"#C8D4E3\",\"gridwidth\":2},\"zaxis\":{\"backgroundcolor\":\"rgb(17,17,17)\",\"gridcolor\":\"#506784\",\"linecolor\":\"#506784\",\"showbackground\":true,\"ticks\":\"\",\"zerolinecolor\":\"#C8D4E3\",\"gridwidth\":2}},\"shapedefaults\":{\"line\":{\"color\":\"#f2f5fa\"}},\"annotationdefaults\":{\"arrowcolor\":\"#f2f5fa\",\"arrowhead\":0,\"arrowwidth\":1},\"geo\":{\"bgcolor\":\"rgb(17,17,17)\",\"landcolor\":\"rgb(17,17,17)\",\"subunitcolor\":\"#506784\",\"showland\":true,\"showlakes\":true,\"lakecolor\":\"rgb(17,17,17)\"},\"title\":{\"x\":0.05},\"updatemenudefaults\":{\"bgcolor\":\"#506784\",\"borderwidth\":0},\"sliderdefaults\":{\"bgcolor\":\"#C8D4E3\",\"borderwidth\":1,\"bordercolor\":\"rgb(17,17,17)\",\"tickwidth\":0},\"mapbox\":{\"style\":\"dark\"}}},\"xaxis\":{\"anchor\":\"y\",\"domain\":[0.0,1.0],\"title\":{\"text\":\"user_sex\"},\"categoryorder\":\"array\",\"categoryarray\":[\"female\",\"male\",\"other\"]},\"yaxis\":{\"anchor\":\"x\",\"domain\":[0.0,1.0],\"title\":{\"text\":\"sum of user_age\"},\"categoryorder\":\"array\",\"categoryarray\":[58,54,62,63,8,49,61,64,27,14,21,17,55,15,37,43,42,13,12,18,56,11,10,60,41,19,53,25,45,36,44,29,35,48,33,30,57,22,31,20,39,47,38,51,34,46,52,28,26,16,40,24,32,23,50]},\"legend\":{\"title\":{\"text\":\"user_sex, user_age\"},\"tracegroupgap\":0},\"title\":{\"text\":\"Distribution of Age by Sex\"},\"barmode\":\"relative\"},                        {\"responsive\": true}                    ).then(function(){\n                            \nvar gd = document.getElementById('d2e4ffa1-0126-486f-bce7-ae1b9fd51d0a');\nvar x = new MutationObserver(function (mutations, observer) {{\n        var display = window.getComputedStyle(gd).display;\n        if (!display || display === 'none') {{\n            console.log([gd, 'removed!']);\n            Plotly.purge(gd);\n            observer.disconnect();\n        }}\n}});\n\n// Listen for the removal of the full notebook cells\nvar notebookContainer = gd.closest('#notebook-container');\nif (notebookContainer) {{\n    x.observe(notebookContainer, {childList: true});\n}}\n\n// Listen for the clearing of the current output cell\nvar outputEl = gd.closest('.output');\nif (outputEl) {{\n    x.observe(outputEl, {childList: true});\n}}\n\n                        })                };                });            </script>        </div>"
     },
     "metadata": {},
     "output_type": "display_data"
    }
   ],
   "source": [
    "fig = px.histogram(df, x='user_sex', y='user_age', pattern_shape='user_age', color='user_sex', template='plotly_dark', title='Distribution of Age by Sex')\n",
    "fig.show()"
   ],
   "metadata": {
    "collapsed": false,
    "ExecuteTime": {
     "end_time": "2024-02-11T19:06:29.376661200Z",
     "start_time": "2024-02-11T19:06:28.946391700Z"
    }
   },
   "id": "a1785a57fda1ae68",
   "execution_count": 156
  },
  {
   "cell_type": "code",
   "outputs": [
    {
     "data": {
      "application/vnd.plotly.v1+json": {
       "data": [
        {
         "alignmentgroup": "True",
         "bingroup": "x",
         "histfunc": "sum",
         "hovertemplate": "rating=2.5<br>user_sex=female<br>user_age=%{x}<br>sum of rating=%{y}<extra></extra>",
         "legendgroup": "2.5, female",
         "marker": {
          "color": "#636efa",
          "pattern": {
           "shape": ""
          }
         },
         "name": "2.5, female",
         "offsetgroup": "2.5, female",
         "orientation": "v",
         "showlegend": true,
         "x": [
          50,
          28,
          26,
          33,
          47,
          53,
          13,
          44,
          27,
          31,
          41,
          23,
          36,
          43,
          37,
          29,
          43,
          35
         ],
         "xaxis": "x",
         "y": [
          2.5,
          2.5,
          2.5,
          2.5,
          2.5,
          2.5,
          2.5,
          2.5,
          2.5,
          2.5,
          2.5,
          2.5,
          2.5,
          2.5,
          2.5,
          2.5,
          2.5,
          2.5
         ],
         "yaxis": "y",
         "type": "histogram"
        },
        {
         "alignmentgroup": "True",
         "boxpoints": "all",
         "fillcolor": "rgba(255,255,255,0)",
         "hoveron": "points",
         "hovertemplate": "rating=2.5<br>user_sex=female<br>user_age=%{x}<extra></extra>",
         "jitter": 0,
         "legendgroup": "2.5, female",
         "line": {
          "color": "rgba(255,255,255,0)"
         },
         "marker": {
          "color": "#636efa",
          "symbol": "line-ns-open"
         },
         "name": "2.5, female",
         "offsetgroup": "2.5, female",
         "showlegend": false,
         "x": [
          50,
          28,
          26,
          33,
          47,
          53,
          13,
          44,
          27,
          31,
          41,
          23,
          36,
          43,
          37,
          29,
          43,
          35
         ],
         "xaxis": "x2",
         "yaxis": "y2",
         "type": "box"
        },
        {
         "alignmentgroup": "True",
         "bingroup": "x",
         "histfunc": "sum",
         "hovertemplate": "rating=2.5<br>user_sex=male<br>user_age=%{x}<br>sum of rating=%{y}<extra></extra>",
         "legendgroup": "2.5, male",
         "marker": {
          "color": "#636efa",
          "pattern": {
           "shape": "/"
          }
         },
         "name": "2.5, male",
         "offsetgroup": "2.5, male",
         "orientation": "v",
         "showlegend": true,
         "x": [
          33,
          34,
          42,
          37,
          23,
          37,
          45,
          36,
          12,
          21,
          50,
          60,
          34,
          33,
          30
         ],
         "xaxis": "x",
         "y": [
          2.5,
          2.5,
          2.5,
          2.5,
          2.5,
          2.5,
          2.5,
          2.5,
          2.5,
          2.5,
          2.5,
          2.5,
          2.5,
          2.5,
          2.5
         ],
         "yaxis": "y",
         "type": "histogram"
        },
        {
         "alignmentgroup": "True",
         "boxpoints": "all",
         "fillcolor": "rgba(255,255,255,0)",
         "hoveron": "points",
         "hovertemplate": "rating=2.5<br>user_sex=male<br>user_age=%{x}<extra></extra>",
         "jitter": 0,
         "legendgroup": "2.5, male",
         "line": {
          "color": "rgba(255,255,255,0)"
         },
         "marker": {
          "color": "#636efa",
          "symbol": "line-ns-open"
         },
         "name": "2.5, male",
         "offsetgroup": "2.5, male",
         "showlegend": false,
         "x": [
          33,
          34,
          42,
          37,
          23,
          37,
          45,
          36,
          12,
          21,
          50,
          60,
          34,
          33,
          30
         ],
         "xaxis": "x2",
         "yaxis": "y2",
         "type": "box"
        },
        {
         "alignmentgroup": "True",
         "bingroup": "x",
         "histfunc": "sum",
         "hovertemplate": "rating=2.5<br>user_sex=other<br>user_age=%{x}<br>sum of rating=%{y}<extra></extra>",
         "legendgroup": "2.5, other",
         "marker": {
          "color": "#636efa",
          "pattern": {
           "shape": "\\"
          }
         },
         "name": "2.5, other",
         "offsetgroup": "2.5, other",
         "orientation": "v",
         "showlegend": true,
         "x": [
          29,
          26,
          31,
          39,
          8,
          42,
          14,
          31
         ],
         "xaxis": "x",
         "y": [
          2.5,
          2.5,
          2.5,
          2.5,
          2.5,
          2.5,
          2.5,
          2.5
         ],
         "yaxis": "y",
         "type": "histogram"
        },
        {
         "alignmentgroup": "True",
         "boxpoints": "all",
         "fillcolor": "rgba(255,255,255,0)",
         "hoveron": "points",
         "hovertemplate": "rating=2.5<br>user_sex=other<br>user_age=%{x}<extra></extra>",
         "jitter": 0,
         "legendgroup": "2.5, other",
         "line": {
          "color": "rgba(255,255,255,0)"
         },
         "marker": {
          "color": "#636efa",
          "symbol": "line-ns-open"
         },
         "name": "2.5, other",
         "offsetgroup": "2.5, other",
         "showlegend": false,
         "x": [
          29,
          26,
          31,
          39,
          8,
          42,
          14,
          31
         ],
         "xaxis": "x2",
         "yaxis": "y2",
         "type": "box"
        },
        {
         "alignmentgroup": "True",
         "bingroup": "x",
         "histfunc": "sum",
         "hovertemplate": "rating=4.0<br>user_sex=female<br>user_age=%{x}<br>sum of rating=%{y}<extra></extra>",
         "legendgroup": "4.0, female",
         "marker": {
          "color": "#EF553B",
          "pattern": {
           "shape": ""
          }
         },
         "name": "4.0, female",
         "offsetgroup": "4.0, female",
         "orientation": "v",
         "showlegend": true,
         "x": [
          23,
          52,
          20,
          30,
          35,
          25,
          30,
          34,
          41,
          60,
          26,
          32,
          33,
          22,
          29,
          33,
          37,
          33,
          39,
          39,
          8,
          41,
          42,
          42,
          39,
          26,
          62,
          25,
          46,
          43,
          29,
          44,
          28,
          36,
          31,
          46,
          28,
          52,
          33,
          50,
          39,
          29,
          28,
          61,
          13,
          32,
          30
         ],
         "xaxis": "x",
         "y": [
          4.0,
          4.0,
          4.0,
          4.0,
          4.0,
          4.0,
          4.0,
          4.0,
          4.0,
          4.0,
          4.0,
          4.0,
          4.0,
          4.0,
          4.0,
          4.0,
          4.0,
          4.0,
          4.0,
          4.0,
          4.0,
          4.0,
          4.0,
          4.0,
          4.0,
          4.0,
          4.0,
          4.0,
          4.0,
          4.0,
          4.0,
          4.0,
          4.0,
          4.0,
          4.0,
          4.0,
          4.0,
          4.0,
          4.0,
          4.0,
          4.0,
          4.0,
          4.0,
          4.0,
          4.0,
          4.0,
          4.0
         ],
         "yaxis": "y",
         "type": "histogram"
        },
        {
         "alignmentgroup": "True",
         "boxpoints": "all",
         "fillcolor": "rgba(255,255,255,0)",
         "hoveron": "points",
         "hovertemplate": "rating=4.0<br>user_sex=female<br>user_age=%{x}<extra></extra>",
         "jitter": 0,
         "legendgroup": "4.0, female",
         "line": {
          "color": "rgba(255,255,255,0)"
         },
         "marker": {
          "color": "#EF553B",
          "symbol": "line-ns-open"
         },
         "name": "4.0, female",
         "offsetgroup": "4.0, female",
         "showlegend": false,
         "x": [
          23,
          52,
          20,
          30,
          35,
          25,
          30,
          34,
          41,
          60,
          26,
          32,
          33,
          22,
          29,
          33,
          37,
          33,
          39,
          39,
          8,
          41,
          42,
          42,
          39,
          26,
          62,
          25,
          46,
          43,
          29,
          44,
          28,
          36,
          31,
          46,
          28,
          52,
          33,
          50,
          39,
          29,
          28,
          61,
          13,
          32,
          30
         ],
         "xaxis": "x2",
         "yaxis": "y2",
         "type": "box"
        },
        {
         "alignmentgroup": "True",
         "bingroup": "x",
         "histfunc": "sum",
         "hovertemplate": "rating=4.0<br>user_sex=male<br>user_age=%{x}<br>sum of rating=%{y}<extra></extra>",
         "legendgroup": "4.0, male",
         "marker": {
          "color": "#EF553B",
          "pattern": {
           "shape": "/"
          }
         },
         "name": "4.0, male",
         "offsetgroup": "4.0, male",
         "orientation": "v",
         "showlegend": true,
         "x": [
          26,
          34,
          35,
          19,
          50,
          48,
          48,
          34,
          19,
          26,
          32,
          38,
          31,
          35,
          49,
          45,
          51,
          24,
          16,
          27,
          42,
          18,
          40,
          35,
          33,
          25,
          31,
          27,
          37,
          32,
          44,
          46,
          22,
          28
         ],
         "xaxis": "x",
         "y": [
          4.0,
          4.0,
          4.0,
          4.0,
          4.0,
          4.0,
          4.0,
          4.0,
          4.0,
          4.0,
          4.0,
          4.0,
          4.0,
          4.0,
          4.0,
          4.0,
          4.0,
          4.0,
          4.0,
          4.0,
          4.0,
          4.0,
          4.0,
          4.0,
          4.0,
          4.0,
          4.0,
          4.0,
          4.0,
          4.0,
          4.0,
          4.0,
          4.0,
          4.0
         ],
         "yaxis": "y",
         "type": "histogram"
        },
        {
         "alignmentgroup": "True",
         "boxpoints": "all",
         "fillcolor": "rgba(255,255,255,0)",
         "hoveron": "points",
         "hovertemplate": "rating=4.0<br>user_sex=male<br>user_age=%{x}<extra></extra>",
         "jitter": 0,
         "legendgroup": "4.0, male",
         "line": {
          "color": "rgba(255,255,255,0)"
         },
         "marker": {
          "color": "#EF553B",
          "symbol": "line-ns-open"
         },
         "name": "4.0, male",
         "offsetgroup": "4.0, male",
         "showlegend": false,
         "x": [
          26,
          34,
          35,
          19,
          50,
          48,
          48,
          34,
          19,
          26,
          32,
          38,
          31,
          35,
          49,
          45,
          51,
          24,
          16,
          27,
          42,
          18,
          40,
          35,
          33,
          25,
          31,
          27,
          37,
          32,
          44,
          46,
          22,
          28
         ],
         "xaxis": "x2",
         "yaxis": "y2",
         "type": "box"
        },
        {
         "alignmentgroup": "True",
         "bingroup": "x",
         "histfunc": "sum",
         "hovertemplate": "rating=4.0<br>user_sex=other<br>user_age=%{x}<br>sum of rating=%{y}<extra></extra>",
         "legendgroup": "4.0, other",
         "marker": {
          "color": "#EF553B",
          "pattern": {
           "shape": "\\"
          }
         },
         "name": "4.0, other",
         "offsetgroup": "4.0, other",
         "orientation": "v",
         "showlegend": true,
         "x": [
          33,
          60,
          29,
          27,
          35,
          63,
          42,
          13,
          30,
          54
         ],
         "xaxis": "x",
         "y": [
          4.0,
          4.0,
          4.0,
          4.0,
          4.0,
          4.0,
          4.0,
          4.0,
          4.0,
          4.0
         ],
         "yaxis": "y",
         "type": "histogram"
        },
        {
         "alignmentgroup": "True",
         "boxpoints": "all",
         "fillcolor": "rgba(255,255,255,0)",
         "hoveron": "points",
         "hovertemplate": "rating=4.0<br>user_sex=other<br>user_age=%{x}<extra></extra>",
         "jitter": 0,
         "legendgroup": "4.0, other",
         "line": {
          "color": "rgba(255,255,255,0)"
         },
         "marker": {
          "color": "#EF553B",
          "symbol": "line-ns-open"
         },
         "name": "4.0, other",
         "offsetgroup": "4.0, other",
         "showlegend": false,
         "x": [
          33,
          60,
          29,
          27,
          35,
          63,
          42,
          13,
          30,
          54
         ],
         "xaxis": "x2",
         "yaxis": "y2",
         "type": "box"
        },
        {
         "alignmentgroup": "True",
         "bingroup": "x",
         "histfunc": "sum",
         "hovertemplate": "rating=3.0<br>user_sex=female<br>user_age=%{x}<br>sum of rating=%{y}<extra></extra>",
         "legendgroup": "3.0, female",
         "marker": {
          "color": "#00cc96",
          "pattern": {
           "shape": ""
          }
         },
         "name": "3.0, female",
         "offsetgroup": "3.0, female",
         "orientation": "v",
         "showlegend": true,
         "x": [
          44,
          11,
          56,
          18,
          30,
          16,
          28,
          51,
          32,
          24,
          40,
          53,
          24,
          46,
          35,
          37
         ],
         "xaxis": "x",
         "y": [
          3.0,
          3.0,
          3.0,
          3.0,
          3.0,
          3.0,
          3.0,
          3.0,
          3.0,
          3.0,
          3.0,
          3.0,
          3.0,
          3.0,
          3.0,
          3.0
         ],
         "yaxis": "y",
         "type": "histogram"
        },
        {
         "alignmentgroup": "True",
         "boxpoints": "all",
         "fillcolor": "rgba(255,255,255,0)",
         "hoveron": "points",
         "hovertemplate": "rating=3.0<br>user_sex=female<br>user_age=%{x}<extra></extra>",
         "jitter": 0,
         "legendgroup": "3.0, female",
         "line": {
          "color": "rgba(255,255,255,0)"
         },
         "marker": {
          "color": "#00cc96",
          "symbol": "line-ns-open"
         },
         "name": "3.0, female",
         "offsetgroup": "3.0, female",
         "showlegend": false,
         "x": [
          44,
          11,
          56,
          18,
          30,
          16,
          28,
          51,
          32,
          24,
          40,
          53,
          24,
          46,
          35,
          37
         ],
         "xaxis": "x2",
         "yaxis": "y2",
         "type": "box"
        },
        {
         "alignmentgroup": "True",
         "bingroup": "x",
         "histfunc": "sum",
         "hovertemplate": "rating=3.0<br>user_sex=male<br>user_age=%{x}<br>sum of rating=%{y}<extra></extra>",
         "legendgroup": "3.0, male",
         "marker": {
          "color": "#00cc96",
          "pattern": {
           "shape": "/"
          }
         },
         "name": "3.0, male",
         "offsetgroup": "3.0, male",
         "orientation": "v",
         "showlegend": true,
         "x": [
          32,
          38,
          44,
          43,
          35,
          33,
          20,
          14,
          31,
          56,
          38,
          48,
          23,
          56,
          28,
          37,
          14,
          51
         ],
         "xaxis": "x",
         "y": [
          3.0,
          3.0,
          3.0,
          3.0,
          3.0,
          3.0,
          3.0,
          3.0,
          3.0,
          3.0,
          3.0,
          3.0,
          3.0,
          3.0,
          3.0,
          3.0,
          3.0,
          3.0
         ],
         "yaxis": "y",
         "type": "histogram"
        },
        {
         "alignmentgroup": "True",
         "boxpoints": "all",
         "fillcolor": "rgba(255,255,255,0)",
         "hoveron": "points",
         "hovertemplate": "rating=3.0<br>user_sex=male<br>user_age=%{x}<extra></extra>",
         "jitter": 0,
         "legendgroup": "3.0, male",
         "line": {
          "color": "rgba(255,255,255,0)"
         },
         "marker": {
          "color": "#00cc96",
          "symbol": "line-ns-open"
         },
         "name": "3.0, male",
         "offsetgroup": "3.0, male",
         "showlegend": false,
         "x": [
          32,
          38,
          44,
          43,
          35,
          33,
          20,
          14,
          31,
          56,
          38,
          48,
          23,
          56,
          28,
          37,
          14,
          51
         ],
         "xaxis": "x2",
         "yaxis": "y2",
         "type": "box"
        },
        {
         "alignmentgroup": "True",
         "bingroup": "x",
         "histfunc": "sum",
         "hovertemplate": "rating=3.0<br>user_sex=other<br>user_age=%{x}<br>sum of rating=%{y}<extra></extra>",
         "legendgroup": "3.0, other",
         "marker": {
          "color": "#00cc96",
          "pattern": {
           "shape": "\\"
          }
         },
         "name": "3.0, other",
         "offsetgroup": "3.0, other",
         "orientation": "v",
         "showlegend": true,
         "x": [
          38,
          24,
          35,
          35
         ],
         "xaxis": "x",
         "y": [
          3.0,
          3.0,
          3.0,
          3.0
         ],
         "yaxis": "y",
         "type": "histogram"
        },
        {
         "alignmentgroup": "True",
         "boxpoints": "all",
         "fillcolor": "rgba(255,255,255,0)",
         "hoveron": "points",
         "hovertemplate": "rating=3.0<br>user_sex=other<br>user_age=%{x}<extra></extra>",
         "jitter": 0,
         "legendgroup": "3.0, other",
         "line": {
          "color": "rgba(255,255,255,0)"
         },
         "marker": {
          "color": "#00cc96",
          "symbol": "line-ns-open"
         },
         "name": "3.0, other",
         "offsetgroup": "3.0, other",
         "showlegend": false,
         "x": [
          38,
          24,
          35,
          35
         ],
         "xaxis": "x2",
         "yaxis": "y2",
         "type": "box"
        },
        {
         "alignmentgroup": "True",
         "bingroup": "x",
         "histfunc": "sum",
         "hovertemplate": "rating=4.5<br>user_sex=female<br>user_age=%{x}<br>sum of rating=%{y}<extra></extra>",
         "legendgroup": "4.5, female",
         "marker": {
          "color": "#ab63fa",
          "pattern": {
           "shape": ""
          }
         },
         "name": "4.5, female",
         "offsetgroup": "4.5, female",
         "orientation": "v",
         "showlegend": true,
         "x": [
          24,
          46,
          36,
          45,
          26,
          40,
          16,
          50,
          39,
          36,
          46,
          38,
          45,
          34,
          32,
          15,
          17,
          40,
          40,
          47,
          18,
          19,
          33,
          42,
          30,
          52,
          34,
          41,
          20,
          45,
          21,
          33,
          28,
          56,
          30,
          35,
          35,
          12,
          48,
          40,
          52,
          54,
          50,
          29,
          21,
          34,
          14,
          38,
          24,
          29,
          33,
          37,
          44,
          31,
          24,
          45,
          36,
          43,
          31,
          37,
          41,
          25,
          30,
          40,
          28,
          41,
          29,
          31,
          49,
          51,
          24,
          41,
          39,
          37,
          33
         ],
         "xaxis": "x",
         "y": [
          4.5,
          4.5,
          4.5,
          4.5,
          4.5,
          4.5,
          4.5,
          4.5,
          4.5,
          4.5,
          4.5,
          4.5,
          4.5,
          4.5,
          4.5,
          4.5,
          4.5,
          4.5,
          4.5,
          4.5,
          4.5,
          4.5,
          4.5,
          4.5,
          4.5,
          4.5,
          4.5,
          4.5,
          4.5,
          4.5,
          4.5,
          4.5,
          4.5,
          4.5,
          4.5,
          4.5,
          4.5,
          4.5,
          4.5,
          4.5,
          4.5,
          4.5,
          4.5,
          4.5,
          4.5,
          4.5,
          4.5,
          4.5,
          4.5,
          4.5,
          4.5,
          4.5,
          4.5,
          4.5,
          4.5,
          4.5,
          4.5,
          4.5,
          4.5,
          4.5,
          4.5,
          4.5,
          4.5,
          4.5,
          4.5,
          4.5,
          4.5,
          4.5,
          4.5,
          4.5,
          4.5,
          4.5,
          4.5,
          4.5,
          4.5
         ],
         "yaxis": "y",
         "type": "histogram"
        },
        {
         "alignmentgroup": "True",
         "boxpoints": "all",
         "fillcolor": "rgba(255,255,255,0)",
         "hoveron": "points",
         "hovertemplate": "rating=4.5<br>user_sex=female<br>user_age=%{x}<extra></extra>",
         "jitter": 0,
         "legendgroup": "4.5, female",
         "line": {
          "color": "rgba(255,255,255,0)"
         },
         "marker": {
          "color": "#ab63fa",
          "symbol": "line-ns-open"
         },
         "name": "4.5, female",
         "offsetgroup": "4.5, female",
         "showlegend": false,
         "x": [
          24,
          46,
          36,
          45,
          26,
          40,
          16,
          50,
          39,
          36,
          46,
          38,
          45,
          34,
          32,
          15,
          17,
          40,
          40,
          47,
          18,
          19,
          33,
          42,
          30,
          52,
          34,
          41,
          20,
          45,
          21,
          33,
          28,
          56,
          30,
          35,
          35,
          12,
          48,
          40,
          52,
          54,
          50,
          29,
          21,
          34,
          14,
          38,
          24,
          29,
          33,
          37,
          44,
          31,
          24,
          45,
          36,
          43,
          31,
          37,
          41,
          25,
          30,
          40,
          28,
          41,
          29,
          31,
          49,
          51,
          24,
          41,
          39,
          37,
          33
         ],
         "xaxis": "x2",
         "yaxis": "y2",
         "type": "box"
        },
        {
         "alignmentgroup": "True",
         "bingroup": "x",
         "histfunc": "sum",
         "hovertemplate": "rating=4.5<br>user_sex=male<br>user_age=%{x}<br>sum of rating=%{y}<extra></extra>",
         "legendgroup": "4.5, male",
         "marker": {
          "color": "#ab63fa",
          "pattern": {
           "shape": "/"
          }
         },
         "name": "4.5, male",
         "offsetgroup": "4.5, male",
         "orientation": "v",
         "showlegend": true,
         "x": [
          39,
          34,
          46,
          33,
          33,
          19,
          52,
          40,
          33,
          23,
          32,
          20,
          44,
          15,
          17,
          43,
          34,
          51,
          53,
          50,
          33,
          37,
          64,
          31,
          31,
          36,
          49,
          41,
          51,
          34,
          32,
          30,
          40,
          41,
          60,
          27,
          27,
          23,
          53,
          32,
          38,
          36,
          34,
          17,
          44,
          20,
          38,
          48,
          38,
          51,
          40,
          16,
          30,
          39,
          28,
          23
         ],
         "xaxis": "x",
         "y": [
          4.5,
          4.5,
          4.5,
          4.5,
          4.5,
          4.5,
          4.5,
          4.5,
          4.5,
          4.5,
          4.5,
          4.5,
          4.5,
          4.5,
          4.5,
          4.5,
          4.5,
          4.5,
          4.5,
          4.5,
          4.5,
          4.5,
          4.5,
          4.5,
          4.5,
          4.5,
          4.5,
          4.5,
          4.5,
          4.5,
          4.5,
          4.5,
          4.5,
          4.5,
          4.5,
          4.5,
          4.5,
          4.5,
          4.5,
          4.5,
          4.5,
          4.5,
          4.5,
          4.5,
          4.5,
          4.5,
          4.5,
          4.5,
          4.5,
          4.5,
          4.5,
          4.5,
          4.5,
          4.5,
          4.5,
          4.5
         ],
         "yaxis": "y",
         "type": "histogram"
        },
        {
         "alignmentgroup": "True",
         "boxpoints": "all",
         "fillcolor": "rgba(255,255,255,0)",
         "hoveron": "points",
         "hovertemplate": "rating=4.5<br>user_sex=male<br>user_age=%{x}<extra></extra>",
         "jitter": 0,
         "legendgroup": "4.5, male",
         "line": {
          "color": "rgba(255,255,255,0)"
         },
         "marker": {
          "color": "#ab63fa",
          "symbol": "line-ns-open"
         },
         "name": "4.5, male",
         "offsetgroup": "4.5, male",
         "showlegend": false,
         "x": [
          39,
          34,
          46,
          33,
          33,
          19,
          52,
          40,
          33,
          23,
          32,
          20,
          44,
          15,
          17,
          43,
          34,
          51,
          53,
          50,
          33,
          37,
          64,
          31,
          31,
          36,
          49,
          41,
          51,
          34,
          32,
          30,
          40,
          41,
          60,
          27,
          27,
          23,
          53,
          32,
          38,
          36,
          34,
          17,
          44,
          20,
          38,
          48,
          38,
          51,
          40,
          16,
          30,
          39,
          28,
          23
         ],
         "xaxis": "x2",
         "yaxis": "y2",
         "type": "box"
        },
        {
         "alignmentgroup": "True",
         "bingroup": "x",
         "histfunc": "sum",
         "hovertemplate": "rating=4.5<br>user_sex=other<br>user_age=%{x}<br>sum of rating=%{y}<extra></extra>",
         "legendgroup": "4.5, other",
         "marker": {
          "color": "#ab63fa",
          "pattern": {
           "shape": "\\"
          }
         },
         "name": "4.5, other",
         "offsetgroup": "4.5, other",
         "orientation": "v",
         "showlegend": true,
         "x": [
          46,
          46,
          32,
          10,
          25,
          56,
          36,
          35,
          33,
          46,
          34,
          35,
          48,
          24,
          37,
          27,
          33,
          17,
          51,
          35
         ],
         "xaxis": "x",
         "y": [
          4.5,
          4.5,
          4.5,
          4.5,
          4.5,
          4.5,
          4.5,
          4.5,
          4.5,
          4.5,
          4.5,
          4.5,
          4.5,
          4.5,
          4.5,
          4.5,
          4.5,
          4.5,
          4.5,
          4.5
         ],
         "yaxis": "y",
         "type": "histogram"
        },
        {
         "alignmentgroup": "True",
         "boxpoints": "all",
         "fillcolor": "rgba(255,255,255,0)",
         "hoveron": "points",
         "hovertemplate": "rating=4.5<br>user_sex=other<br>user_age=%{x}<extra></extra>",
         "jitter": 0,
         "legendgroup": "4.5, other",
         "line": {
          "color": "rgba(255,255,255,0)"
         },
         "marker": {
          "color": "#ab63fa",
          "symbol": "line-ns-open"
         },
         "name": "4.5, other",
         "offsetgroup": "4.5, other",
         "showlegend": false,
         "x": [
          46,
          46,
          32,
          10,
          25,
          56,
          36,
          35,
          33,
          46,
          34,
          35,
          48,
          24,
          37,
          27,
          33,
          17,
          51,
          35
         ],
         "xaxis": "x2",
         "yaxis": "y2",
         "type": "box"
        },
        {
         "alignmentgroup": "True",
         "bingroup": "x",
         "histfunc": "sum",
         "hovertemplate": "rating=5.0<br>user_sex=female<br>user_age=%{x}<br>sum of rating=%{y}<extra></extra>",
         "legendgroup": "5.0, female",
         "marker": {
          "color": "#FFA15A",
          "pattern": {
           "shape": ""
          }
         },
         "name": "5.0, female",
         "offsetgroup": "5.0, female",
         "orientation": "v",
         "showlegend": true,
         "x": [
          40,
          16,
          57,
          52,
          48,
          50,
          22,
          47,
          31,
          44,
          38,
          31,
          34,
          31,
          40,
          26,
          47,
          35,
          34,
          46,
          20,
          40,
          45,
          61,
          60,
          36,
          36,
          24,
          37,
          57,
          10,
          27,
          38,
          41,
          31,
          41,
          26,
          33,
          22,
          25,
          34,
          27,
          50,
          32,
          37,
          34,
          31,
          43,
          29,
          36,
          36,
          30,
          34
         ],
         "xaxis": "x",
         "y": [
          5.0,
          5.0,
          5.0,
          5.0,
          5.0,
          5.0,
          5.0,
          5.0,
          5.0,
          5.0,
          5.0,
          5.0,
          5.0,
          5.0,
          5.0,
          5.0,
          5.0,
          5.0,
          5.0,
          5.0,
          5.0,
          5.0,
          5.0,
          5.0,
          5.0,
          5.0,
          5.0,
          5.0,
          5.0,
          5.0,
          5.0,
          5.0,
          5.0,
          5.0,
          5.0,
          5.0,
          5.0,
          5.0,
          5.0,
          5.0,
          5.0,
          5.0,
          5.0,
          5.0,
          5.0,
          5.0,
          5.0,
          5.0,
          5.0,
          5.0,
          5.0,
          5.0,
          5.0
         ],
         "yaxis": "y",
         "type": "histogram"
        },
        {
         "alignmentgroup": "True",
         "boxpoints": "all",
         "fillcolor": "rgba(255,255,255,0)",
         "hoveron": "points",
         "hovertemplate": "rating=5.0<br>user_sex=female<br>user_age=%{x}<extra></extra>",
         "jitter": 0,
         "legendgroup": "5.0, female",
         "line": {
          "color": "rgba(255,255,255,0)"
         },
         "marker": {
          "color": "#FFA15A",
          "symbol": "line-ns-open"
         },
         "name": "5.0, female",
         "offsetgroup": "5.0, female",
         "showlegend": false,
         "x": [
          40,
          16,
          57,
          52,
          48,
          50,
          22,
          47,
          31,
          44,
          38,
          31,
          34,
          31,
          40,
          26,
          47,
          35,
          34,
          46,
          20,
          40,
          45,
          61,
          60,
          36,
          36,
          24,
          37,
          57,
          10,
          27,
          38,
          41,
          31,
          41,
          26,
          33,
          22,
          25,
          34,
          27,
          50,
          32,
          37,
          34,
          31,
          43,
          29,
          36,
          36,
          30,
          34
         ],
         "xaxis": "x2",
         "yaxis": "y2",
         "type": "box"
        },
        {
         "alignmentgroup": "True",
         "bingroup": "x",
         "histfunc": "sum",
         "hovertemplate": "rating=5.0<br>user_sex=male<br>user_age=%{x}<br>sum of rating=%{y}<extra></extra>",
         "legendgroup": "5.0, male",
         "marker": {
          "color": "#FFA15A",
          "pattern": {
           "shape": "/"
          }
         },
         "name": "5.0, male",
         "offsetgroup": "5.0, male",
         "orientation": "v",
         "showlegend": true,
         "x": [
          51,
          47,
          53,
          45,
          35,
          34,
          12,
          13,
          44,
          25,
          20,
          46,
          41,
          41,
          36,
          38,
          33,
          15,
          26,
          45,
          28,
          46,
          41,
          18,
          23,
          29,
          21,
          38,
          50,
          25,
          33,
          16,
          23,
          51
         ],
         "xaxis": "x",
         "y": [
          5.0,
          5.0,
          5.0,
          5.0,
          5.0,
          5.0,
          5.0,
          5.0,
          5.0,
          5.0,
          5.0,
          5.0,
          5.0,
          5.0,
          5.0,
          5.0,
          5.0,
          5.0,
          5.0,
          5.0,
          5.0,
          5.0,
          5.0,
          5.0,
          5.0,
          5.0,
          5.0,
          5.0,
          5.0,
          5.0,
          5.0,
          5.0,
          5.0,
          5.0
         ],
         "yaxis": "y",
         "type": "histogram"
        },
        {
         "alignmentgroup": "True",
         "boxpoints": "all",
         "fillcolor": "rgba(255,255,255,0)",
         "hoveron": "points",
         "hovertemplate": "rating=5.0<br>user_sex=male<br>user_age=%{x}<extra></extra>",
         "jitter": 0,
         "legendgroup": "5.0, male",
         "line": {
          "color": "rgba(255,255,255,0)"
         },
         "marker": {
          "color": "#FFA15A",
          "symbol": "line-ns-open"
         },
         "name": "5.0, male",
         "offsetgroup": "5.0, male",
         "showlegend": false,
         "x": [
          51,
          47,
          53,
          45,
          35,
          34,
          12,
          13,
          44,
          25,
          20,
          46,
          41,
          41,
          36,
          38,
          33,
          15,
          26,
          45,
          28,
          46,
          41,
          18,
          23,
          29,
          21,
          38,
          50,
          25,
          33,
          16,
          23,
          51
         ],
         "xaxis": "x2",
         "yaxis": "y2",
         "type": "box"
        },
        {
         "alignmentgroup": "True",
         "bingroup": "x",
         "histfunc": "sum",
         "hovertemplate": "rating=5.0<br>user_sex=other<br>user_age=%{x}<br>sum of rating=%{y}<extra></extra>",
         "legendgroup": "5.0, other",
         "marker": {
          "color": "#FFA15A",
          "pattern": {
           "shape": "\\"
          }
         },
         "name": "5.0, other",
         "offsetgroup": "5.0, other",
         "orientation": "v",
         "showlegend": true,
         "x": [
          31,
          19,
          26,
          35,
          30,
          37,
          43,
          43,
          30,
          41,
          42,
          17,
          46,
          29,
          48,
          50,
          42,
          46
         ],
         "xaxis": "x",
         "y": [
          5.0,
          5.0,
          5.0,
          5.0,
          5.0,
          5.0,
          5.0,
          5.0,
          5.0,
          5.0,
          5.0,
          5.0,
          5.0,
          5.0,
          5.0,
          5.0,
          5.0,
          5.0
         ],
         "yaxis": "y",
         "type": "histogram"
        },
        {
         "alignmentgroup": "True",
         "boxpoints": "all",
         "fillcolor": "rgba(255,255,255,0)",
         "hoveron": "points",
         "hovertemplate": "rating=5.0<br>user_sex=other<br>user_age=%{x}<extra></extra>",
         "jitter": 0,
         "legendgroup": "5.0, other",
         "line": {
          "color": "rgba(255,255,255,0)"
         },
         "marker": {
          "color": "#FFA15A",
          "symbol": "line-ns-open"
         },
         "name": "5.0, other",
         "offsetgroup": "5.0, other",
         "showlegend": false,
         "x": [
          31,
          19,
          26,
          35,
          30,
          37,
          43,
          43,
          30,
          41,
          42,
          17,
          46,
          29,
          48,
          50,
          42,
          46
         ],
         "xaxis": "x2",
         "yaxis": "y2",
         "type": "box"
        },
        {
         "alignmentgroup": "True",
         "bingroup": "x",
         "histfunc": "sum",
         "hovertemplate": "rating=3.5<br>user_sex=female<br>user_age=%{x}<br>sum of rating=%{y}<extra></extra>",
         "legendgroup": "3.5, female",
         "marker": {
          "color": "#19d3f3",
          "pattern": {
           "shape": ""
          }
         },
         "name": "3.5, female",
         "offsetgroup": "3.5, female",
         "orientation": "v",
         "showlegend": true,
         "x": [
          22,
          48,
          47,
          38,
          36,
          34,
          44,
          33,
          31,
          36,
          57,
          39,
          54
         ],
         "xaxis": "x",
         "y": [
          3.5,
          3.5,
          3.5,
          3.5,
          3.5,
          3.5,
          3.5,
          3.5,
          3.5,
          3.5,
          3.5,
          3.5,
          3.5
         ],
         "yaxis": "y",
         "type": "histogram"
        },
        {
         "alignmentgroup": "True",
         "boxpoints": "all",
         "fillcolor": "rgba(255,255,255,0)",
         "hoveron": "points",
         "hovertemplate": "rating=3.5<br>user_sex=female<br>user_age=%{x}<extra></extra>",
         "jitter": 0,
         "legendgroup": "3.5, female",
         "line": {
          "color": "rgba(255,255,255,0)"
         },
         "marker": {
          "color": "#19d3f3",
          "symbol": "line-ns-open"
         },
         "name": "3.5, female",
         "offsetgroup": "3.5, female",
         "showlegend": false,
         "x": [
          22,
          48,
          47,
          38,
          36,
          34,
          44,
          33,
          31,
          36,
          57,
          39,
          54
         ],
         "xaxis": "x2",
         "yaxis": "y2",
         "type": "box"
        },
        {
         "alignmentgroup": "True",
         "bingroup": "x",
         "histfunc": "sum",
         "hovertemplate": "rating=3.5<br>user_sex=male<br>user_age=%{x}<br>sum of rating=%{y}<extra></extra>",
         "legendgroup": "3.5, male",
         "marker": {
          "color": "#19d3f3",
          "pattern": {
           "shape": "/"
          }
         },
         "name": "3.5, male",
         "offsetgroup": "3.5, male",
         "orientation": "v",
         "showlegend": true,
         "x": [
          40,
          48,
          34,
          27,
          13,
          29,
          52,
          12,
          54,
          56,
          36
         ],
         "xaxis": "x",
         "y": [
          3.5,
          3.5,
          3.5,
          3.5,
          3.5,
          3.5,
          3.5,
          3.5,
          3.5,
          3.5,
          3.5
         ],
         "yaxis": "y",
         "type": "histogram"
        },
        {
         "alignmentgroup": "True",
         "boxpoints": "all",
         "fillcolor": "rgba(255,255,255,0)",
         "hoveron": "points",
         "hovertemplate": "rating=3.5<br>user_sex=male<br>user_age=%{x}<extra></extra>",
         "jitter": 0,
         "legendgroup": "3.5, male",
         "line": {
          "color": "rgba(255,255,255,0)"
         },
         "marker": {
          "color": "#19d3f3",
          "symbol": "line-ns-open"
         },
         "name": "3.5, male",
         "offsetgroup": "3.5, male",
         "showlegend": false,
         "x": [
          40,
          48,
          34,
          27,
          13,
          29,
          52,
          12,
          54,
          56,
          36
         ],
         "xaxis": "x2",
         "yaxis": "y2",
         "type": "box"
        },
        {
         "alignmentgroup": "True",
         "bingroup": "x",
         "histfunc": "sum",
         "hovertemplate": "rating=3.5<br>user_sex=other<br>user_age=%{x}<br>sum of rating=%{y}<extra></extra>",
         "legendgroup": "3.5, other",
         "marker": {
          "color": "#19d3f3",
          "pattern": {
           "shape": "\\"
          }
         },
         "name": "3.5, other",
         "offsetgroup": "3.5, other",
         "orientation": "v",
         "showlegend": true,
         "x": [
          29,
          29,
          33
         ],
         "xaxis": "x",
         "y": [
          3.5,
          3.5,
          3.5
         ],
         "yaxis": "y",
         "type": "histogram"
        },
        {
         "alignmentgroup": "True",
         "boxpoints": "all",
         "fillcolor": "rgba(255,255,255,0)",
         "hoveron": "points",
         "hovertemplate": "rating=3.5<br>user_sex=other<br>user_age=%{x}<extra></extra>",
         "jitter": 0,
         "legendgroup": "3.5, other",
         "line": {
          "color": "rgba(255,255,255,0)"
         },
         "marker": {
          "color": "#19d3f3",
          "symbol": "line-ns-open"
         },
         "name": "3.5, other",
         "offsetgroup": "3.5, other",
         "showlegend": false,
         "x": [
          29,
          29,
          33
         ],
         "xaxis": "x2",
         "yaxis": "y2",
         "type": "box"
        },
        {
         "alignmentgroup": "True",
         "bingroup": "x",
         "histfunc": "sum",
         "hovertemplate": "rating=2.0<br>user_sex=female<br>user_age=%{x}<br>sum of rating=%{y}<extra></extra>",
         "legendgroup": "2.0, female",
         "marker": {
          "color": "#FF6692",
          "pattern": {
           "shape": ""
          }
         },
         "name": "2.0, female",
         "offsetgroup": "2.0, female",
         "orientation": "v",
         "showlegend": true,
         "x": [
          30,
          33,
          25,
          53,
          19,
          45,
          41,
          29,
          44,
          27,
          58,
          31,
          53,
          25,
          19,
          32,
          41
         ],
         "xaxis": "x",
         "y": [
          2.0,
          2.0,
          2.0,
          2.0,
          2.0,
          2.0,
          2.0,
          2.0,
          2.0,
          2.0,
          2.0,
          2.0,
          2.0,
          2.0,
          2.0,
          2.0,
          2.0
         ],
         "yaxis": "y",
         "type": "histogram"
        },
        {
         "alignmentgroup": "True",
         "boxpoints": "all",
         "fillcolor": "rgba(255,255,255,0)",
         "hoveron": "points",
         "hovertemplate": "rating=2.0<br>user_sex=female<br>user_age=%{x}<extra></extra>",
         "jitter": 0,
         "legendgroup": "2.0, female",
         "line": {
          "color": "rgba(255,255,255,0)"
         },
         "marker": {
          "color": "#FF6692",
          "symbol": "line-ns-open"
         },
         "name": "2.0, female",
         "offsetgroup": "2.0, female",
         "showlegend": false,
         "x": [
          30,
          33,
          25,
          53,
          19,
          45,
          41,
          29,
          44,
          27,
          58,
          31,
          53,
          25,
          19,
          32,
          41
         ],
         "xaxis": "x2",
         "yaxis": "y2",
         "type": "box"
        },
        {
         "alignmentgroup": "True",
         "bingroup": "x",
         "histfunc": "sum",
         "hovertemplate": "rating=2.0<br>user_sex=male<br>user_age=%{x}<br>sum of rating=%{y}<extra></extra>",
         "legendgroup": "2.0, male",
         "marker": {
          "color": "#FF6692",
          "pattern": {
           "shape": "/"
          }
         },
         "name": "2.0, male",
         "offsetgroup": "2.0, male",
         "orientation": "v",
         "showlegend": true,
         "x": [
          23,
          55,
          21,
          28,
          48,
          34,
          30,
          41,
          14,
          28,
          30,
          19
         ],
         "xaxis": "x",
         "y": [
          2.0,
          2.0,
          2.0,
          2.0,
          2.0,
          2.0,
          2.0,
          2.0,
          2.0,
          2.0,
          2.0,
          2.0
         ],
         "yaxis": "y",
         "type": "histogram"
        },
        {
         "alignmentgroup": "True",
         "boxpoints": "all",
         "fillcolor": "rgba(255,255,255,0)",
         "hoveron": "points",
         "hovertemplate": "rating=2.0<br>user_sex=male<br>user_age=%{x}<extra></extra>",
         "jitter": 0,
         "legendgroup": "2.0, male",
         "line": {
          "color": "rgba(255,255,255,0)"
         },
         "marker": {
          "color": "#FF6692",
          "symbol": "line-ns-open"
         },
         "name": "2.0, male",
         "offsetgroup": "2.0, male",
         "showlegend": false,
         "x": [
          23,
          55,
          21,
          28,
          48,
          34,
          30,
          41,
          14,
          28,
          30,
          19
         ],
         "xaxis": "x2",
         "yaxis": "y2",
         "type": "box"
        },
        {
         "alignmentgroup": "True",
         "bingroup": "x",
         "histfunc": "sum",
         "hovertemplate": "rating=2.0<br>user_sex=other<br>user_age=%{x}<br>sum of rating=%{y}<extra></extra>",
         "legendgroup": "2.0, other",
         "marker": {
          "color": "#FF6692",
          "pattern": {
           "shape": "\\"
          }
         },
         "name": "2.0, other",
         "offsetgroup": "2.0, other",
         "orientation": "v",
         "showlegend": true,
         "x": [
          52,
          42,
          33,
          38,
          32,
          29
         ],
         "xaxis": "x",
         "y": [
          2.0,
          2.0,
          2.0,
          2.0,
          2.0,
          2.0
         ],
         "yaxis": "y",
         "type": "histogram"
        },
        {
         "alignmentgroup": "True",
         "boxpoints": "all",
         "fillcolor": "rgba(255,255,255,0)",
         "hoveron": "points",
         "hovertemplate": "rating=2.0<br>user_sex=other<br>user_age=%{x}<extra></extra>",
         "jitter": 0,
         "legendgroup": "2.0, other",
         "line": {
          "color": "rgba(255,255,255,0)"
         },
         "marker": {
          "color": "#FF6692",
          "symbol": "line-ns-open"
         },
         "name": "2.0, other",
         "offsetgroup": "2.0, other",
         "showlegend": false,
         "x": [
          52,
          42,
          33,
          38,
          32,
          29
         ],
         "xaxis": "x2",
         "yaxis": "y2",
         "type": "box"
        },
        {
         "alignmentgroup": "True",
         "bingroup": "x",
         "histfunc": "sum",
         "hovertemplate": "rating=1.5<br>user_sex=male<br>user_age=%{x}<br>sum of rating=%{y}<extra></extra>",
         "legendgroup": "1.5, male",
         "marker": {
          "color": "#B6E880",
          "pattern": {
           "shape": "/"
          }
         },
         "name": "1.5, male",
         "offsetgroup": "1.5, male",
         "orientation": "v",
         "showlegend": true,
         "x": [
          47,
          33
         ],
         "xaxis": "x",
         "y": [
          1.5,
          1.5
         ],
         "yaxis": "y",
         "type": "histogram"
        },
        {
         "alignmentgroup": "True",
         "boxpoints": "all",
         "fillcolor": "rgba(255,255,255,0)",
         "hoveron": "points",
         "hovertemplate": "rating=1.5<br>user_sex=male<br>user_age=%{x}<extra></extra>",
         "jitter": 0,
         "legendgroup": "1.5, male",
         "line": {
          "color": "rgba(255,255,255,0)"
         },
         "marker": {
          "color": "#B6E880",
          "symbol": "line-ns-open"
         },
         "name": "1.5, male",
         "offsetgroup": "1.5, male",
         "showlegend": false,
         "x": [
          47,
          33
         ],
         "xaxis": "x2",
         "yaxis": "y2",
         "type": "box"
        },
        {
         "alignmentgroup": "True",
         "bingroup": "x",
         "histfunc": "sum",
         "hovertemplate": "rating=1.5<br>user_sex=other<br>user_age=%{x}<br>sum of rating=%{y}<extra></extra>",
         "legendgroup": "1.5, other",
         "marker": {
          "color": "#B6E880",
          "pattern": {
           "shape": "\\"
          }
         },
         "name": "1.5, other",
         "offsetgroup": "1.5, other",
         "orientation": "v",
         "showlegend": true,
         "x": [
          47
         ],
         "xaxis": "x",
         "y": [
          1.5
         ],
         "yaxis": "y",
         "type": "histogram"
        },
        {
         "alignmentgroup": "True",
         "boxpoints": "all",
         "fillcolor": "rgba(255,255,255,0)",
         "hoveron": "points",
         "hovertemplate": "rating=1.5<br>user_sex=other<br>user_age=%{x}<extra></extra>",
         "jitter": 0,
         "legendgroup": "1.5, other",
         "line": {
          "color": "rgba(255,255,255,0)"
         },
         "marker": {
          "color": "#B6E880",
          "symbol": "line-ns-open"
         },
         "name": "1.5, other",
         "offsetgroup": "1.5, other",
         "showlegend": false,
         "x": [
          47
         ],
         "xaxis": "x2",
         "yaxis": "y2",
         "type": "box"
        }
       ],
       "layout": {
        "template": {
         "data": {
          "histogram2dcontour": [
           {
            "type": "histogram2dcontour",
            "colorbar": {
             "outlinewidth": 0,
             "ticks": ""
            },
            "colorscale": [
             [
              0.0,
              "#0d0887"
             ],
             [
              0.1111111111111111,
              "#46039f"
             ],
             [
              0.2222222222222222,
              "#7201a8"
             ],
             [
              0.3333333333333333,
              "#9c179e"
             ],
             [
              0.4444444444444444,
              "#bd3786"
             ],
             [
              0.5555555555555556,
              "#d8576b"
             ],
             [
              0.6666666666666666,
              "#ed7953"
             ],
             [
              0.7777777777777778,
              "#fb9f3a"
             ],
             [
              0.8888888888888888,
              "#fdca26"
             ],
             [
              1.0,
              "#f0f921"
             ]
            ]
           }
          ],
          "choropleth": [
           {
            "type": "choropleth",
            "colorbar": {
             "outlinewidth": 0,
             "ticks": ""
            }
           }
          ],
          "histogram2d": [
           {
            "type": "histogram2d",
            "colorbar": {
             "outlinewidth": 0,
             "ticks": ""
            },
            "colorscale": [
             [
              0.0,
              "#0d0887"
             ],
             [
              0.1111111111111111,
              "#46039f"
             ],
             [
              0.2222222222222222,
              "#7201a8"
             ],
             [
              0.3333333333333333,
              "#9c179e"
             ],
             [
              0.4444444444444444,
              "#bd3786"
             ],
             [
              0.5555555555555556,
              "#d8576b"
             ],
             [
              0.6666666666666666,
              "#ed7953"
             ],
             [
              0.7777777777777778,
              "#fb9f3a"
             ],
             [
              0.8888888888888888,
              "#fdca26"
             ],
             [
              1.0,
              "#f0f921"
             ]
            ]
           }
          ],
          "heatmap": [
           {
            "type": "heatmap",
            "colorbar": {
             "outlinewidth": 0,
             "ticks": ""
            },
            "colorscale": [
             [
              0.0,
              "#0d0887"
             ],
             [
              0.1111111111111111,
              "#46039f"
             ],
             [
              0.2222222222222222,
              "#7201a8"
             ],
             [
              0.3333333333333333,
              "#9c179e"
             ],
             [
              0.4444444444444444,
              "#bd3786"
             ],
             [
              0.5555555555555556,
              "#d8576b"
             ],
             [
              0.6666666666666666,
              "#ed7953"
             ],
             [
              0.7777777777777778,
              "#fb9f3a"
             ],
             [
              0.8888888888888888,
              "#fdca26"
             ],
             [
              1.0,
              "#f0f921"
             ]
            ]
           }
          ],
          "heatmapgl": [
           {
            "type": "heatmapgl",
            "colorbar": {
             "outlinewidth": 0,
             "ticks": ""
            },
            "colorscale": [
             [
              0.0,
              "#0d0887"
             ],
             [
              0.1111111111111111,
              "#46039f"
             ],
             [
              0.2222222222222222,
              "#7201a8"
             ],
             [
              0.3333333333333333,
              "#9c179e"
             ],
             [
              0.4444444444444444,
              "#bd3786"
             ],
             [
              0.5555555555555556,
              "#d8576b"
             ],
             [
              0.6666666666666666,
              "#ed7953"
             ],
             [
              0.7777777777777778,
              "#fb9f3a"
             ],
             [
              0.8888888888888888,
              "#fdca26"
             ],
             [
              1.0,
              "#f0f921"
             ]
            ]
           }
          ],
          "contourcarpet": [
           {
            "type": "contourcarpet",
            "colorbar": {
             "outlinewidth": 0,
             "ticks": ""
            }
           }
          ],
          "contour": [
           {
            "type": "contour",
            "colorbar": {
             "outlinewidth": 0,
             "ticks": ""
            },
            "colorscale": [
             [
              0.0,
              "#0d0887"
             ],
             [
              0.1111111111111111,
              "#46039f"
             ],
             [
              0.2222222222222222,
              "#7201a8"
             ],
             [
              0.3333333333333333,
              "#9c179e"
             ],
             [
              0.4444444444444444,
              "#bd3786"
             ],
             [
              0.5555555555555556,
              "#d8576b"
             ],
             [
              0.6666666666666666,
              "#ed7953"
             ],
             [
              0.7777777777777778,
              "#fb9f3a"
             ],
             [
              0.8888888888888888,
              "#fdca26"
             ],
             [
              1.0,
              "#f0f921"
             ]
            ]
           }
          ],
          "surface": [
           {
            "type": "surface",
            "colorbar": {
             "outlinewidth": 0,
             "ticks": ""
            },
            "colorscale": [
             [
              0.0,
              "#0d0887"
             ],
             [
              0.1111111111111111,
              "#46039f"
             ],
             [
              0.2222222222222222,
              "#7201a8"
             ],
             [
              0.3333333333333333,
              "#9c179e"
             ],
             [
              0.4444444444444444,
              "#bd3786"
             ],
             [
              0.5555555555555556,
              "#d8576b"
             ],
             [
              0.6666666666666666,
              "#ed7953"
             ],
             [
              0.7777777777777778,
              "#fb9f3a"
             ],
             [
              0.8888888888888888,
              "#fdca26"
             ],
             [
              1.0,
              "#f0f921"
             ]
            ]
           }
          ],
          "mesh3d": [
           {
            "type": "mesh3d",
            "colorbar": {
             "outlinewidth": 0,
             "ticks": ""
            }
           }
          ],
          "scatter": [
           {
            "marker": {
             "line": {
              "color": "#283442"
             }
            },
            "type": "scatter"
           }
          ],
          "parcoords": [
           {
            "type": "parcoords",
            "line": {
             "colorbar": {
              "outlinewidth": 0,
              "ticks": ""
             }
            }
           }
          ],
          "scatterpolargl": [
           {
            "type": "scatterpolargl",
            "marker": {
             "colorbar": {
              "outlinewidth": 0,
              "ticks": ""
             }
            }
           }
          ],
          "bar": [
           {
            "error_x": {
             "color": "#f2f5fa"
            },
            "error_y": {
             "color": "#f2f5fa"
            },
            "marker": {
             "line": {
              "color": "rgb(17,17,17)",
              "width": 0.5
             },
             "pattern": {
              "fillmode": "overlay",
              "size": 10,
              "solidity": 0.2
             }
            },
            "type": "bar"
           }
          ],
          "scattergeo": [
           {
            "type": "scattergeo",
            "marker": {
             "colorbar": {
              "outlinewidth": 0,
              "ticks": ""
             }
            }
           }
          ],
          "scatterpolar": [
           {
            "type": "scatterpolar",
            "marker": {
             "colorbar": {
              "outlinewidth": 0,
              "ticks": ""
             }
            }
           }
          ],
          "histogram": [
           {
            "marker": {
             "pattern": {
              "fillmode": "overlay",
              "size": 10,
              "solidity": 0.2
             }
            },
            "type": "histogram"
           }
          ],
          "scattergl": [
           {
            "marker": {
             "line": {
              "color": "#283442"
             }
            },
            "type": "scattergl"
           }
          ],
          "scatter3d": [
           {
            "type": "scatter3d",
            "line": {
             "colorbar": {
              "outlinewidth": 0,
              "ticks": ""
             }
            },
            "marker": {
             "colorbar": {
              "outlinewidth": 0,
              "ticks": ""
             }
            }
           }
          ],
          "scattermapbox": [
           {
            "type": "scattermapbox",
            "marker": {
             "colorbar": {
              "outlinewidth": 0,
              "ticks": ""
             }
            }
           }
          ],
          "scatterternary": [
           {
            "type": "scatterternary",
            "marker": {
             "colorbar": {
              "outlinewidth": 0,
              "ticks": ""
             }
            }
           }
          ],
          "scattercarpet": [
           {
            "type": "scattercarpet",
            "marker": {
             "colorbar": {
              "outlinewidth": 0,
              "ticks": ""
             }
            }
           }
          ],
          "carpet": [
           {
            "aaxis": {
             "endlinecolor": "#A2B1C6",
             "gridcolor": "#506784",
             "linecolor": "#506784",
             "minorgridcolor": "#506784",
             "startlinecolor": "#A2B1C6"
            },
            "baxis": {
             "endlinecolor": "#A2B1C6",
             "gridcolor": "#506784",
             "linecolor": "#506784",
             "minorgridcolor": "#506784",
             "startlinecolor": "#A2B1C6"
            },
            "type": "carpet"
           }
          ],
          "table": [
           {
            "cells": {
             "fill": {
              "color": "#506784"
             },
             "line": {
              "color": "rgb(17,17,17)"
             }
            },
            "header": {
             "fill": {
              "color": "#2a3f5f"
             },
             "line": {
              "color": "rgb(17,17,17)"
             }
            },
            "type": "table"
           }
          ],
          "barpolar": [
           {
            "marker": {
             "line": {
              "color": "rgb(17,17,17)",
              "width": 0.5
             },
             "pattern": {
              "fillmode": "overlay",
              "size": 10,
              "solidity": 0.2
             }
            },
            "type": "barpolar"
           }
          ],
          "pie": [
           {
            "automargin": true,
            "type": "pie"
           }
          ]
         },
         "layout": {
          "autotypenumbers": "strict",
          "colorway": [
           "#636efa",
           "#EF553B",
           "#00cc96",
           "#ab63fa",
           "#FFA15A",
           "#19d3f3",
           "#FF6692",
           "#B6E880",
           "#FF97FF",
           "#FECB52"
          ],
          "font": {
           "color": "#f2f5fa"
          },
          "hovermode": "closest",
          "hoverlabel": {
           "align": "left"
          },
          "paper_bgcolor": "rgb(17,17,17)",
          "plot_bgcolor": "rgb(17,17,17)",
          "polar": {
           "bgcolor": "rgb(17,17,17)",
           "angularaxis": {
            "gridcolor": "#506784",
            "linecolor": "#506784",
            "ticks": ""
           },
           "radialaxis": {
            "gridcolor": "#506784",
            "linecolor": "#506784",
            "ticks": ""
           }
          },
          "ternary": {
           "bgcolor": "rgb(17,17,17)",
           "aaxis": {
            "gridcolor": "#506784",
            "linecolor": "#506784",
            "ticks": ""
           },
           "baxis": {
            "gridcolor": "#506784",
            "linecolor": "#506784",
            "ticks": ""
           },
           "caxis": {
            "gridcolor": "#506784",
            "linecolor": "#506784",
            "ticks": ""
           }
          },
          "coloraxis": {
           "colorbar": {
            "outlinewidth": 0,
            "ticks": ""
           }
          },
          "colorscale": {
           "sequential": [
            [
             0.0,
             "#0d0887"
            ],
            [
             0.1111111111111111,
             "#46039f"
            ],
            [
             0.2222222222222222,
             "#7201a8"
            ],
            [
             0.3333333333333333,
             "#9c179e"
            ],
            [
             0.4444444444444444,
             "#bd3786"
            ],
            [
             0.5555555555555556,
             "#d8576b"
            ],
            [
             0.6666666666666666,
             "#ed7953"
            ],
            [
             0.7777777777777778,
             "#fb9f3a"
            ],
            [
             0.8888888888888888,
             "#fdca26"
            ],
            [
             1.0,
             "#f0f921"
            ]
           ],
           "sequentialminus": [
            [
             0.0,
             "#0d0887"
            ],
            [
             0.1111111111111111,
             "#46039f"
            ],
            [
             0.2222222222222222,
             "#7201a8"
            ],
            [
             0.3333333333333333,
             "#9c179e"
            ],
            [
             0.4444444444444444,
             "#bd3786"
            ],
            [
             0.5555555555555556,
             "#d8576b"
            ],
            [
             0.6666666666666666,
             "#ed7953"
            ],
            [
             0.7777777777777778,
             "#fb9f3a"
            ],
            [
             0.8888888888888888,
             "#fdca26"
            ],
            [
             1.0,
             "#f0f921"
            ]
           ],
           "diverging": [
            [
             0,
             "#8e0152"
            ],
            [
             0.1,
             "#c51b7d"
            ],
            [
             0.2,
             "#de77ae"
            ],
            [
             0.3,
             "#f1b6da"
            ],
            [
             0.4,
             "#fde0ef"
            ],
            [
             0.5,
             "#f7f7f7"
            ],
            [
             0.6,
             "#e6f5d0"
            ],
            [
             0.7,
             "#b8e186"
            ],
            [
             0.8,
             "#7fbc41"
            ],
            [
             0.9,
             "#4d9221"
            ],
            [
             1,
             "#276419"
            ]
           ]
          },
          "xaxis": {
           "gridcolor": "#283442",
           "linecolor": "#506784",
           "ticks": "",
           "title": {
            "standoff": 15
           },
           "zerolinecolor": "#283442",
           "automargin": true,
           "zerolinewidth": 2
          },
          "yaxis": {
           "gridcolor": "#283442",
           "linecolor": "#506784",
           "ticks": "",
           "title": {
            "standoff": 15
           },
           "zerolinecolor": "#283442",
           "automargin": true,
           "zerolinewidth": 2
          },
          "scene": {
           "xaxis": {
            "backgroundcolor": "rgb(17,17,17)",
            "gridcolor": "#506784",
            "linecolor": "#506784",
            "showbackground": true,
            "ticks": "",
            "zerolinecolor": "#C8D4E3",
            "gridwidth": 2
           },
           "yaxis": {
            "backgroundcolor": "rgb(17,17,17)",
            "gridcolor": "#506784",
            "linecolor": "#506784",
            "showbackground": true,
            "ticks": "",
            "zerolinecolor": "#C8D4E3",
            "gridwidth": 2
           },
           "zaxis": {
            "backgroundcolor": "rgb(17,17,17)",
            "gridcolor": "#506784",
            "linecolor": "#506784",
            "showbackground": true,
            "ticks": "",
            "zerolinecolor": "#C8D4E3",
            "gridwidth": 2
           }
          },
          "shapedefaults": {
           "line": {
            "color": "#f2f5fa"
           }
          },
          "annotationdefaults": {
           "arrowcolor": "#f2f5fa",
           "arrowhead": 0,
           "arrowwidth": 1
          },
          "geo": {
           "bgcolor": "rgb(17,17,17)",
           "landcolor": "rgb(17,17,17)",
           "subunitcolor": "#506784",
           "showland": true,
           "showlakes": true,
           "lakecolor": "rgb(17,17,17)"
          },
          "title": {
           "x": 0.05
          },
          "updatemenudefaults": {
           "bgcolor": "#506784",
           "borderwidth": 0
          },
          "sliderdefaults": {
           "bgcolor": "#C8D4E3",
           "borderwidth": 1,
           "bordercolor": "rgb(17,17,17)",
           "tickwidth": 0
          },
          "mapbox": {
           "style": "dark"
          }
         }
        },
        "xaxis": {
         "anchor": "y",
         "domain": [
          0.0,
          1.0
         ],
         "title": {
          "text": "user_age"
         }
        },
        "yaxis": {
         "anchor": "x",
         "domain": [
          0.0,
          0.7326
         ],
         "categoryorder": "array",
         "categoryarray": [
          1.5,
          2.0,
          3.5,
          5.0,
          4.5,
          3.0,
          4.0,
          2.5
         ],
         "title": {
          "text": "sum of rating"
         }
        },
        "xaxis2": {
         "anchor": "y2",
         "domain": [
          0.0,
          1.0
         ],
         "matches": "x",
         "showticklabels": false,
         "showgrid": true
        },
        "yaxis2": {
         "anchor": "x2",
         "domain": [
          0.7426,
          1.0
         ],
         "matches": "y2",
         "categoryorder": "array",
         "categoryarray": [
          1.5,
          2.0,
          3.5,
          5.0,
          4.5,
          3.0,
          4.0,
          2.5
         ],
         "showticklabels": false,
         "showline": false,
         "ticks": "",
         "showgrid": false
        },
        "legend": {
         "title": {
          "text": "rating, user_sex"
         },
         "tracegroupgap": 0
        },
        "title": {
         "text": "Distribution of rating by sex and age"
        },
        "barmode": "relative"
       },
       "config": {
        "plotlyServerURL": "https://plot.ly"
       }
      },
      "text/html": "<div>                            <div id=\"48f40dd9-99b3-4dee-b5fb-17981b006255\" class=\"plotly-graph-div\" style=\"height:525px; width:100%;\"></div>            <script type=\"text/javascript\">                require([\"plotly\"], function(Plotly) {                    window.PLOTLYENV=window.PLOTLYENV || {};                                    if (document.getElementById(\"48f40dd9-99b3-4dee-b5fb-17981b006255\")) {                    Plotly.newPlot(                        \"48f40dd9-99b3-4dee-b5fb-17981b006255\",                        [{\"alignmentgroup\":\"True\",\"bingroup\":\"x\",\"histfunc\":\"sum\",\"hovertemplate\":\"rating=2.5\\u003cbr\\u003euser_sex=female\\u003cbr\\u003euser_age=%{x}\\u003cbr\\u003esum of rating=%{y}\\u003cextra\\u003e\\u003c\\u002fextra\\u003e\",\"legendgroup\":\"2.5, female\",\"marker\":{\"color\":\"#636efa\",\"pattern\":{\"shape\":\"\"}},\"name\":\"2.5, female\",\"offsetgroup\":\"2.5, female\",\"orientation\":\"v\",\"showlegend\":true,\"x\":[50,28,26,33,47,53,13,44,27,31,41,23,36,43,37,29,43,35],\"xaxis\":\"x\",\"y\":[2.5,2.5,2.5,2.5,2.5,2.5,2.5,2.5,2.5,2.5,2.5,2.5,2.5,2.5,2.5,2.5,2.5,2.5],\"yaxis\":\"y\",\"type\":\"histogram\"},{\"alignmentgroup\":\"True\",\"boxpoints\":\"all\",\"fillcolor\":\"rgba(255,255,255,0)\",\"hoveron\":\"points\",\"hovertemplate\":\"rating=2.5\\u003cbr\\u003euser_sex=female\\u003cbr\\u003euser_age=%{x}\\u003cextra\\u003e\\u003c\\u002fextra\\u003e\",\"jitter\":0,\"legendgroup\":\"2.5, female\",\"line\":{\"color\":\"rgba(255,255,255,0)\"},\"marker\":{\"color\":\"#636efa\",\"symbol\":\"line-ns-open\"},\"name\":\"2.5, female\",\"offsetgroup\":\"2.5, female\",\"showlegend\":false,\"x\":[50,28,26,33,47,53,13,44,27,31,41,23,36,43,37,29,43,35],\"xaxis\":\"x2\",\"yaxis\":\"y2\",\"type\":\"box\"},{\"alignmentgroup\":\"True\",\"bingroup\":\"x\",\"histfunc\":\"sum\",\"hovertemplate\":\"rating=2.5\\u003cbr\\u003euser_sex=male\\u003cbr\\u003euser_age=%{x}\\u003cbr\\u003esum of rating=%{y}\\u003cextra\\u003e\\u003c\\u002fextra\\u003e\",\"legendgroup\":\"2.5, male\",\"marker\":{\"color\":\"#636efa\",\"pattern\":{\"shape\":\"\\u002f\"}},\"name\":\"2.5, male\",\"offsetgroup\":\"2.5, male\",\"orientation\":\"v\",\"showlegend\":true,\"x\":[33,34,42,37,23,37,45,36,12,21,50,60,34,33,30],\"xaxis\":\"x\",\"y\":[2.5,2.5,2.5,2.5,2.5,2.5,2.5,2.5,2.5,2.5,2.5,2.5,2.5,2.5,2.5],\"yaxis\":\"y\",\"type\":\"histogram\"},{\"alignmentgroup\":\"True\",\"boxpoints\":\"all\",\"fillcolor\":\"rgba(255,255,255,0)\",\"hoveron\":\"points\",\"hovertemplate\":\"rating=2.5\\u003cbr\\u003euser_sex=male\\u003cbr\\u003euser_age=%{x}\\u003cextra\\u003e\\u003c\\u002fextra\\u003e\",\"jitter\":0,\"legendgroup\":\"2.5, male\",\"line\":{\"color\":\"rgba(255,255,255,0)\"},\"marker\":{\"color\":\"#636efa\",\"symbol\":\"line-ns-open\"},\"name\":\"2.5, male\",\"offsetgroup\":\"2.5, male\",\"showlegend\":false,\"x\":[33,34,42,37,23,37,45,36,12,21,50,60,34,33,30],\"xaxis\":\"x2\",\"yaxis\":\"y2\",\"type\":\"box\"},{\"alignmentgroup\":\"True\",\"bingroup\":\"x\",\"histfunc\":\"sum\",\"hovertemplate\":\"rating=2.5\\u003cbr\\u003euser_sex=other\\u003cbr\\u003euser_age=%{x}\\u003cbr\\u003esum of rating=%{y}\\u003cextra\\u003e\\u003c\\u002fextra\\u003e\",\"legendgroup\":\"2.5, other\",\"marker\":{\"color\":\"#636efa\",\"pattern\":{\"shape\":\"\\\\\"}},\"name\":\"2.5, other\",\"offsetgroup\":\"2.5, other\",\"orientation\":\"v\",\"showlegend\":true,\"x\":[29,26,31,39,8,42,14,31],\"xaxis\":\"x\",\"y\":[2.5,2.5,2.5,2.5,2.5,2.5,2.5,2.5],\"yaxis\":\"y\",\"type\":\"histogram\"},{\"alignmentgroup\":\"True\",\"boxpoints\":\"all\",\"fillcolor\":\"rgba(255,255,255,0)\",\"hoveron\":\"points\",\"hovertemplate\":\"rating=2.5\\u003cbr\\u003euser_sex=other\\u003cbr\\u003euser_age=%{x}\\u003cextra\\u003e\\u003c\\u002fextra\\u003e\",\"jitter\":0,\"legendgroup\":\"2.5, other\",\"line\":{\"color\":\"rgba(255,255,255,0)\"},\"marker\":{\"color\":\"#636efa\",\"symbol\":\"line-ns-open\"},\"name\":\"2.5, other\",\"offsetgroup\":\"2.5, other\",\"showlegend\":false,\"x\":[29,26,31,39,8,42,14,31],\"xaxis\":\"x2\",\"yaxis\":\"y2\",\"type\":\"box\"},{\"alignmentgroup\":\"True\",\"bingroup\":\"x\",\"histfunc\":\"sum\",\"hovertemplate\":\"rating=4.0\\u003cbr\\u003euser_sex=female\\u003cbr\\u003euser_age=%{x}\\u003cbr\\u003esum of rating=%{y}\\u003cextra\\u003e\\u003c\\u002fextra\\u003e\",\"legendgroup\":\"4.0, female\",\"marker\":{\"color\":\"#EF553B\",\"pattern\":{\"shape\":\"\"}},\"name\":\"4.0, female\",\"offsetgroup\":\"4.0, female\",\"orientation\":\"v\",\"showlegend\":true,\"x\":[23,52,20,30,35,25,30,34,41,60,26,32,33,22,29,33,37,33,39,39,8,41,42,42,39,26,62,25,46,43,29,44,28,36,31,46,28,52,33,50,39,29,28,61,13,32,30],\"xaxis\":\"x\",\"y\":[4.0,4.0,4.0,4.0,4.0,4.0,4.0,4.0,4.0,4.0,4.0,4.0,4.0,4.0,4.0,4.0,4.0,4.0,4.0,4.0,4.0,4.0,4.0,4.0,4.0,4.0,4.0,4.0,4.0,4.0,4.0,4.0,4.0,4.0,4.0,4.0,4.0,4.0,4.0,4.0,4.0,4.0,4.0,4.0,4.0,4.0,4.0],\"yaxis\":\"y\",\"type\":\"histogram\"},{\"alignmentgroup\":\"True\",\"boxpoints\":\"all\",\"fillcolor\":\"rgba(255,255,255,0)\",\"hoveron\":\"points\",\"hovertemplate\":\"rating=4.0\\u003cbr\\u003euser_sex=female\\u003cbr\\u003euser_age=%{x}\\u003cextra\\u003e\\u003c\\u002fextra\\u003e\",\"jitter\":0,\"legendgroup\":\"4.0, female\",\"line\":{\"color\":\"rgba(255,255,255,0)\"},\"marker\":{\"color\":\"#EF553B\",\"symbol\":\"line-ns-open\"},\"name\":\"4.0, female\",\"offsetgroup\":\"4.0, female\",\"showlegend\":false,\"x\":[23,52,20,30,35,25,30,34,41,60,26,32,33,22,29,33,37,33,39,39,8,41,42,42,39,26,62,25,46,43,29,44,28,36,31,46,28,52,33,50,39,29,28,61,13,32,30],\"xaxis\":\"x2\",\"yaxis\":\"y2\",\"type\":\"box\"},{\"alignmentgroup\":\"True\",\"bingroup\":\"x\",\"histfunc\":\"sum\",\"hovertemplate\":\"rating=4.0\\u003cbr\\u003euser_sex=male\\u003cbr\\u003euser_age=%{x}\\u003cbr\\u003esum of rating=%{y}\\u003cextra\\u003e\\u003c\\u002fextra\\u003e\",\"legendgroup\":\"4.0, male\",\"marker\":{\"color\":\"#EF553B\",\"pattern\":{\"shape\":\"\\u002f\"}},\"name\":\"4.0, male\",\"offsetgroup\":\"4.0, male\",\"orientation\":\"v\",\"showlegend\":true,\"x\":[26,34,35,19,50,48,48,34,19,26,32,38,31,35,49,45,51,24,16,27,42,18,40,35,33,25,31,27,37,32,44,46,22,28],\"xaxis\":\"x\",\"y\":[4.0,4.0,4.0,4.0,4.0,4.0,4.0,4.0,4.0,4.0,4.0,4.0,4.0,4.0,4.0,4.0,4.0,4.0,4.0,4.0,4.0,4.0,4.0,4.0,4.0,4.0,4.0,4.0,4.0,4.0,4.0,4.0,4.0,4.0],\"yaxis\":\"y\",\"type\":\"histogram\"},{\"alignmentgroup\":\"True\",\"boxpoints\":\"all\",\"fillcolor\":\"rgba(255,255,255,0)\",\"hoveron\":\"points\",\"hovertemplate\":\"rating=4.0\\u003cbr\\u003euser_sex=male\\u003cbr\\u003euser_age=%{x}\\u003cextra\\u003e\\u003c\\u002fextra\\u003e\",\"jitter\":0,\"legendgroup\":\"4.0, male\",\"line\":{\"color\":\"rgba(255,255,255,0)\"},\"marker\":{\"color\":\"#EF553B\",\"symbol\":\"line-ns-open\"},\"name\":\"4.0, male\",\"offsetgroup\":\"4.0, male\",\"showlegend\":false,\"x\":[26,34,35,19,50,48,48,34,19,26,32,38,31,35,49,45,51,24,16,27,42,18,40,35,33,25,31,27,37,32,44,46,22,28],\"xaxis\":\"x2\",\"yaxis\":\"y2\",\"type\":\"box\"},{\"alignmentgroup\":\"True\",\"bingroup\":\"x\",\"histfunc\":\"sum\",\"hovertemplate\":\"rating=4.0\\u003cbr\\u003euser_sex=other\\u003cbr\\u003euser_age=%{x}\\u003cbr\\u003esum of rating=%{y}\\u003cextra\\u003e\\u003c\\u002fextra\\u003e\",\"legendgroup\":\"4.0, other\",\"marker\":{\"color\":\"#EF553B\",\"pattern\":{\"shape\":\"\\\\\"}},\"name\":\"4.0, other\",\"offsetgroup\":\"4.0, other\",\"orientation\":\"v\",\"showlegend\":true,\"x\":[33,60,29,27,35,63,42,13,30,54],\"xaxis\":\"x\",\"y\":[4.0,4.0,4.0,4.0,4.0,4.0,4.0,4.0,4.0,4.0],\"yaxis\":\"y\",\"type\":\"histogram\"},{\"alignmentgroup\":\"True\",\"boxpoints\":\"all\",\"fillcolor\":\"rgba(255,255,255,0)\",\"hoveron\":\"points\",\"hovertemplate\":\"rating=4.0\\u003cbr\\u003euser_sex=other\\u003cbr\\u003euser_age=%{x}\\u003cextra\\u003e\\u003c\\u002fextra\\u003e\",\"jitter\":0,\"legendgroup\":\"4.0, other\",\"line\":{\"color\":\"rgba(255,255,255,0)\"},\"marker\":{\"color\":\"#EF553B\",\"symbol\":\"line-ns-open\"},\"name\":\"4.0, other\",\"offsetgroup\":\"4.0, other\",\"showlegend\":false,\"x\":[33,60,29,27,35,63,42,13,30,54],\"xaxis\":\"x2\",\"yaxis\":\"y2\",\"type\":\"box\"},{\"alignmentgroup\":\"True\",\"bingroup\":\"x\",\"histfunc\":\"sum\",\"hovertemplate\":\"rating=3.0\\u003cbr\\u003euser_sex=female\\u003cbr\\u003euser_age=%{x}\\u003cbr\\u003esum of rating=%{y}\\u003cextra\\u003e\\u003c\\u002fextra\\u003e\",\"legendgroup\":\"3.0, female\",\"marker\":{\"color\":\"#00cc96\",\"pattern\":{\"shape\":\"\"}},\"name\":\"3.0, female\",\"offsetgroup\":\"3.0, female\",\"orientation\":\"v\",\"showlegend\":true,\"x\":[44,11,56,18,30,16,28,51,32,24,40,53,24,46,35,37],\"xaxis\":\"x\",\"y\":[3.0,3.0,3.0,3.0,3.0,3.0,3.0,3.0,3.0,3.0,3.0,3.0,3.0,3.0,3.0,3.0],\"yaxis\":\"y\",\"type\":\"histogram\"},{\"alignmentgroup\":\"True\",\"boxpoints\":\"all\",\"fillcolor\":\"rgba(255,255,255,0)\",\"hoveron\":\"points\",\"hovertemplate\":\"rating=3.0\\u003cbr\\u003euser_sex=female\\u003cbr\\u003euser_age=%{x}\\u003cextra\\u003e\\u003c\\u002fextra\\u003e\",\"jitter\":0,\"legendgroup\":\"3.0, female\",\"line\":{\"color\":\"rgba(255,255,255,0)\"},\"marker\":{\"color\":\"#00cc96\",\"symbol\":\"line-ns-open\"},\"name\":\"3.0, female\",\"offsetgroup\":\"3.0, female\",\"showlegend\":false,\"x\":[44,11,56,18,30,16,28,51,32,24,40,53,24,46,35,37],\"xaxis\":\"x2\",\"yaxis\":\"y2\",\"type\":\"box\"},{\"alignmentgroup\":\"True\",\"bingroup\":\"x\",\"histfunc\":\"sum\",\"hovertemplate\":\"rating=3.0\\u003cbr\\u003euser_sex=male\\u003cbr\\u003euser_age=%{x}\\u003cbr\\u003esum of rating=%{y}\\u003cextra\\u003e\\u003c\\u002fextra\\u003e\",\"legendgroup\":\"3.0, male\",\"marker\":{\"color\":\"#00cc96\",\"pattern\":{\"shape\":\"\\u002f\"}},\"name\":\"3.0, male\",\"offsetgroup\":\"3.0, male\",\"orientation\":\"v\",\"showlegend\":true,\"x\":[32,38,44,43,35,33,20,14,31,56,38,48,23,56,28,37,14,51],\"xaxis\":\"x\",\"y\":[3.0,3.0,3.0,3.0,3.0,3.0,3.0,3.0,3.0,3.0,3.0,3.0,3.0,3.0,3.0,3.0,3.0,3.0],\"yaxis\":\"y\",\"type\":\"histogram\"},{\"alignmentgroup\":\"True\",\"boxpoints\":\"all\",\"fillcolor\":\"rgba(255,255,255,0)\",\"hoveron\":\"points\",\"hovertemplate\":\"rating=3.0\\u003cbr\\u003euser_sex=male\\u003cbr\\u003euser_age=%{x}\\u003cextra\\u003e\\u003c\\u002fextra\\u003e\",\"jitter\":0,\"legendgroup\":\"3.0, male\",\"line\":{\"color\":\"rgba(255,255,255,0)\"},\"marker\":{\"color\":\"#00cc96\",\"symbol\":\"line-ns-open\"},\"name\":\"3.0, male\",\"offsetgroup\":\"3.0, male\",\"showlegend\":false,\"x\":[32,38,44,43,35,33,20,14,31,56,38,48,23,56,28,37,14,51],\"xaxis\":\"x2\",\"yaxis\":\"y2\",\"type\":\"box\"},{\"alignmentgroup\":\"True\",\"bingroup\":\"x\",\"histfunc\":\"sum\",\"hovertemplate\":\"rating=3.0\\u003cbr\\u003euser_sex=other\\u003cbr\\u003euser_age=%{x}\\u003cbr\\u003esum of rating=%{y}\\u003cextra\\u003e\\u003c\\u002fextra\\u003e\",\"legendgroup\":\"3.0, other\",\"marker\":{\"color\":\"#00cc96\",\"pattern\":{\"shape\":\"\\\\\"}},\"name\":\"3.0, other\",\"offsetgroup\":\"3.0, other\",\"orientation\":\"v\",\"showlegend\":true,\"x\":[38,24,35,35],\"xaxis\":\"x\",\"y\":[3.0,3.0,3.0,3.0],\"yaxis\":\"y\",\"type\":\"histogram\"},{\"alignmentgroup\":\"True\",\"boxpoints\":\"all\",\"fillcolor\":\"rgba(255,255,255,0)\",\"hoveron\":\"points\",\"hovertemplate\":\"rating=3.0\\u003cbr\\u003euser_sex=other\\u003cbr\\u003euser_age=%{x}\\u003cextra\\u003e\\u003c\\u002fextra\\u003e\",\"jitter\":0,\"legendgroup\":\"3.0, other\",\"line\":{\"color\":\"rgba(255,255,255,0)\"},\"marker\":{\"color\":\"#00cc96\",\"symbol\":\"line-ns-open\"},\"name\":\"3.0, other\",\"offsetgroup\":\"3.0, other\",\"showlegend\":false,\"x\":[38,24,35,35],\"xaxis\":\"x2\",\"yaxis\":\"y2\",\"type\":\"box\"},{\"alignmentgroup\":\"True\",\"bingroup\":\"x\",\"histfunc\":\"sum\",\"hovertemplate\":\"rating=4.5\\u003cbr\\u003euser_sex=female\\u003cbr\\u003euser_age=%{x}\\u003cbr\\u003esum of rating=%{y}\\u003cextra\\u003e\\u003c\\u002fextra\\u003e\",\"legendgroup\":\"4.5, female\",\"marker\":{\"color\":\"#ab63fa\",\"pattern\":{\"shape\":\"\"}},\"name\":\"4.5, female\",\"offsetgroup\":\"4.5, female\",\"orientation\":\"v\",\"showlegend\":true,\"x\":[24,46,36,45,26,40,16,50,39,36,46,38,45,34,32,15,17,40,40,47,18,19,33,42,30,52,34,41,20,45,21,33,28,56,30,35,35,12,48,40,52,54,50,29,21,34,14,38,24,29,33,37,44,31,24,45,36,43,31,37,41,25,30,40,28,41,29,31,49,51,24,41,39,37,33],\"xaxis\":\"x\",\"y\":[4.5,4.5,4.5,4.5,4.5,4.5,4.5,4.5,4.5,4.5,4.5,4.5,4.5,4.5,4.5,4.5,4.5,4.5,4.5,4.5,4.5,4.5,4.5,4.5,4.5,4.5,4.5,4.5,4.5,4.5,4.5,4.5,4.5,4.5,4.5,4.5,4.5,4.5,4.5,4.5,4.5,4.5,4.5,4.5,4.5,4.5,4.5,4.5,4.5,4.5,4.5,4.5,4.5,4.5,4.5,4.5,4.5,4.5,4.5,4.5,4.5,4.5,4.5,4.5,4.5,4.5,4.5,4.5,4.5,4.5,4.5,4.5,4.5,4.5,4.5],\"yaxis\":\"y\",\"type\":\"histogram\"},{\"alignmentgroup\":\"True\",\"boxpoints\":\"all\",\"fillcolor\":\"rgba(255,255,255,0)\",\"hoveron\":\"points\",\"hovertemplate\":\"rating=4.5\\u003cbr\\u003euser_sex=female\\u003cbr\\u003euser_age=%{x}\\u003cextra\\u003e\\u003c\\u002fextra\\u003e\",\"jitter\":0,\"legendgroup\":\"4.5, female\",\"line\":{\"color\":\"rgba(255,255,255,0)\"},\"marker\":{\"color\":\"#ab63fa\",\"symbol\":\"line-ns-open\"},\"name\":\"4.5, female\",\"offsetgroup\":\"4.5, female\",\"showlegend\":false,\"x\":[24,46,36,45,26,40,16,50,39,36,46,38,45,34,32,15,17,40,40,47,18,19,33,42,30,52,34,41,20,45,21,33,28,56,30,35,35,12,48,40,52,54,50,29,21,34,14,38,24,29,33,37,44,31,24,45,36,43,31,37,41,25,30,40,28,41,29,31,49,51,24,41,39,37,33],\"xaxis\":\"x2\",\"yaxis\":\"y2\",\"type\":\"box\"},{\"alignmentgroup\":\"True\",\"bingroup\":\"x\",\"histfunc\":\"sum\",\"hovertemplate\":\"rating=4.5\\u003cbr\\u003euser_sex=male\\u003cbr\\u003euser_age=%{x}\\u003cbr\\u003esum of rating=%{y}\\u003cextra\\u003e\\u003c\\u002fextra\\u003e\",\"legendgroup\":\"4.5, male\",\"marker\":{\"color\":\"#ab63fa\",\"pattern\":{\"shape\":\"\\u002f\"}},\"name\":\"4.5, male\",\"offsetgroup\":\"4.5, male\",\"orientation\":\"v\",\"showlegend\":true,\"x\":[39,34,46,33,33,19,52,40,33,23,32,20,44,15,17,43,34,51,53,50,33,37,64,31,31,36,49,41,51,34,32,30,40,41,60,27,27,23,53,32,38,36,34,17,44,20,38,48,38,51,40,16,30,39,28,23],\"xaxis\":\"x\",\"y\":[4.5,4.5,4.5,4.5,4.5,4.5,4.5,4.5,4.5,4.5,4.5,4.5,4.5,4.5,4.5,4.5,4.5,4.5,4.5,4.5,4.5,4.5,4.5,4.5,4.5,4.5,4.5,4.5,4.5,4.5,4.5,4.5,4.5,4.5,4.5,4.5,4.5,4.5,4.5,4.5,4.5,4.5,4.5,4.5,4.5,4.5,4.5,4.5,4.5,4.5,4.5,4.5,4.5,4.5,4.5,4.5],\"yaxis\":\"y\",\"type\":\"histogram\"},{\"alignmentgroup\":\"True\",\"boxpoints\":\"all\",\"fillcolor\":\"rgba(255,255,255,0)\",\"hoveron\":\"points\",\"hovertemplate\":\"rating=4.5\\u003cbr\\u003euser_sex=male\\u003cbr\\u003euser_age=%{x}\\u003cextra\\u003e\\u003c\\u002fextra\\u003e\",\"jitter\":0,\"legendgroup\":\"4.5, male\",\"line\":{\"color\":\"rgba(255,255,255,0)\"},\"marker\":{\"color\":\"#ab63fa\",\"symbol\":\"line-ns-open\"},\"name\":\"4.5, male\",\"offsetgroup\":\"4.5, male\",\"showlegend\":false,\"x\":[39,34,46,33,33,19,52,40,33,23,32,20,44,15,17,43,34,51,53,50,33,37,64,31,31,36,49,41,51,34,32,30,40,41,60,27,27,23,53,32,38,36,34,17,44,20,38,48,38,51,40,16,30,39,28,23],\"xaxis\":\"x2\",\"yaxis\":\"y2\",\"type\":\"box\"},{\"alignmentgroup\":\"True\",\"bingroup\":\"x\",\"histfunc\":\"sum\",\"hovertemplate\":\"rating=4.5\\u003cbr\\u003euser_sex=other\\u003cbr\\u003euser_age=%{x}\\u003cbr\\u003esum of rating=%{y}\\u003cextra\\u003e\\u003c\\u002fextra\\u003e\",\"legendgroup\":\"4.5, other\",\"marker\":{\"color\":\"#ab63fa\",\"pattern\":{\"shape\":\"\\\\\"}},\"name\":\"4.5, other\",\"offsetgroup\":\"4.5, other\",\"orientation\":\"v\",\"showlegend\":true,\"x\":[46,46,32,10,25,56,36,35,33,46,34,35,48,24,37,27,33,17,51,35],\"xaxis\":\"x\",\"y\":[4.5,4.5,4.5,4.5,4.5,4.5,4.5,4.5,4.5,4.5,4.5,4.5,4.5,4.5,4.5,4.5,4.5,4.5,4.5,4.5],\"yaxis\":\"y\",\"type\":\"histogram\"},{\"alignmentgroup\":\"True\",\"boxpoints\":\"all\",\"fillcolor\":\"rgba(255,255,255,0)\",\"hoveron\":\"points\",\"hovertemplate\":\"rating=4.5\\u003cbr\\u003euser_sex=other\\u003cbr\\u003euser_age=%{x}\\u003cextra\\u003e\\u003c\\u002fextra\\u003e\",\"jitter\":0,\"legendgroup\":\"4.5, other\",\"line\":{\"color\":\"rgba(255,255,255,0)\"},\"marker\":{\"color\":\"#ab63fa\",\"symbol\":\"line-ns-open\"},\"name\":\"4.5, other\",\"offsetgroup\":\"4.5, other\",\"showlegend\":false,\"x\":[46,46,32,10,25,56,36,35,33,46,34,35,48,24,37,27,33,17,51,35],\"xaxis\":\"x2\",\"yaxis\":\"y2\",\"type\":\"box\"},{\"alignmentgroup\":\"True\",\"bingroup\":\"x\",\"histfunc\":\"sum\",\"hovertemplate\":\"rating=5.0\\u003cbr\\u003euser_sex=female\\u003cbr\\u003euser_age=%{x}\\u003cbr\\u003esum of rating=%{y}\\u003cextra\\u003e\\u003c\\u002fextra\\u003e\",\"legendgroup\":\"5.0, female\",\"marker\":{\"color\":\"#FFA15A\",\"pattern\":{\"shape\":\"\"}},\"name\":\"5.0, female\",\"offsetgroup\":\"5.0, female\",\"orientation\":\"v\",\"showlegend\":true,\"x\":[40,16,57,52,48,50,22,47,31,44,38,31,34,31,40,26,47,35,34,46,20,40,45,61,60,36,36,24,37,57,10,27,38,41,31,41,26,33,22,25,34,27,50,32,37,34,31,43,29,36,36,30,34],\"xaxis\":\"x\",\"y\":[5.0,5.0,5.0,5.0,5.0,5.0,5.0,5.0,5.0,5.0,5.0,5.0,5.0,5.0,5.0,5.0,5.0,5.0,5.0,5.0,5.0,5.0,5.0,5.0,5.0,5.0,5.0,5.0,5.0,5.0,5.0,5.0,5.0,5.0,5.0,5.0,5.0,5.0,5.0,5.0,5.0,5.0,5.0,5.0,5.0,5.0,5.0,5.0,5.0,5.0,5.0,5.0,5.0],\"yaxis\":\"y\",\"type\":\"histogram\"},{\"alignmentgroup\":\"True\",\"boxpoints\":\"all\",\"fillcolor\":\"rgba(255,255,255,0)\",\"hoveron\":\"points\",\"hovertemplate\":\"rating=5.0\\u003cbr\\u003euser_sex=female\\u003cbr\\u003euser_age=%{x}\\u003cextra\\u003e\\u003c\\u002fextra\\u003e\",\"jitter\":0,\"legendgroup\":\"5.0, female\",\"line\":{\"color\":\"rgba(255,255,255,0)\"},\"marker\":{\"color\":\"#FFA15A\",\"symbol\":\"line-ns-open\"},\"name\":\"5.0, female\",\"offsetgroup\":\"5.0, female\",\"showlegend\":false,\"x\":[40,16,57,52,48,50,22,47,31,44,38,31,34,31,40,26,47,35,34,46,20,40,45,61,60,36,36,24,37,57,10,27,38,41,31,41,26,33,22,25,34,27,50,32,37,34,31,43,29,36,36,30,34],\"xaxis\":\"x2\",\"yaxis\":\"y2\",\"type\":\"box\"},{\"alignmentgroup\":\"True\",\"bingroup\":\"x\",\"histfunc\":\"sum\",\"hovertemplate\":\"rating=5.0\\u003cbr\\u003euser_sex=male\\u003cbr\\u003euser_age=%{x}\\u003cbr\\u003esum of rating=%{y}\\u003cextra\\u003e\\u003c\\u002fextra\\u003e\",\"legendgroup\":\"5.0, male\",\"marker\":{\"color\":\"#FFA15A\",\"pattern\":{\"shape\":\"\\u002f\"}},\"name\":\"5.0, male\",\"offsetgroup\":\"5.0, male\",\"orientation\":\"v\",\"showlegend\":true,\"x\":[51,47,53,45,35,34,12,13,44,25,20,46,41,41,36,38,33,15,26,45,28,46,41,18,23,29,21,38,50,25,33,16,23,51],\"xaxis\":\"x\",\"y\":[5.0,5.0,5.0,5.0,5.0,5.0,5.0,5.0,5.0,5.0,5.0,5.0,5.0,5.0,5.0,5.0,5.0,5.0,5.0,5.0,5.0,5.0,5.0,5.0,5.0,5.0,5.0,5.0,5.0,5.0,5.0,5.0,5.0,5.0],\"yaxis\":\"y\",\"type\":\"histogram\"},{\"alignmentgroup\":\"True\",\"boxpoints\":\"all\",\"fillcolor\":\"rgba(255,255,255,0)\",\"hoveron\":\"points\",\"hovertemplate\":\"rating=5.0\\u003cbr\\u003euser_sex=male\\u003cbr\\u003euser_age=%{x}\\u003cextra\\u003e\\u003c\\u002fextra\\u003e\",\"jitter\":0,\"legendgroup\":\"5.0, male\",\"line\":{\"color\":\"rgba(255,255,255,0)\"},\"marker\":{\"color\":\"#FFA15A\",\"symbol\":\"line-ns-open\"},\"name\":\"5.0, male\",\"offsetgroup\":\"5.0, male\",\"showlegend\":false,\"x\":[51,47,53,45,35,34,12,13,44,25,20,46,41,41,36,38,33,15,26,45,28,46,41,18,23,29,21,38,50,25,33,16,23,51],\"xaxis\":\"x2\",\"yaxis\":\"y2\",\"type\":\"box\"},{\"alignmentgroup\":\"True\",\"bingroup\":\"x\",\"histfunc\":\"sum\",\"hovertemplate\":\"rating=5.0\\u003cbr\\u003euser_sex=other\\u003cbr\\u003euser_age=%{x}\\u003cbr\\u003esum of rating=%{y}\\u003cextra\\u003e\\u003c\\u002fextra\\u003e\",\"legendgroup\":\"5.0, other\",\"marker\":{\"color\":\"#FFA15A\",\"pattern\":{\"shape\":\"\\\\\"}},\"name\":\"5.0, other\",\"offsetgroup\":\"5.0, other\",\"orientation\":\"v\",\"showlegend\":true,\"x\":[31,19,26,35,30,37,43,43,30,41,42,17,46,29,48,50,42,46],\"xaxis\":\"x\",\"y\":[5.0,5.0,5.0,5.0,5.0,5.0,5.0,5.0,5.0,5.0,5.0,5.0,5.0,5.0,5.0,5.0,5.0,5.0],\"yaxis\":\"y\",\"type\":\"histogram\"},{\"alignmentgroup\":\"True\",\"boxpoints\":\"all\",\"fillcolor\":\"rgba(255,255,255,0)\",\"hoveron\":\"points\",\"hovertemplate\":\"rating=5.0\\u003cbr\\u003euser_sex=other\\u003cbr\\u003euser_age=%{x}\\u003cextra\\u003e\\u003c\\u002fextra\\u003e\",\"jitter\":0,\"legendgroup\":\"5.0, other\",\"line\":{\"color\":\"rgba(255,255,255,0)\"},\"marker\":{\"color\":\"#FFA15A\",\"symbol\":\"line-ns-open\"},\"name\":\"5.0, other\",\"offsetgroup\":\"5.0, other\",\"showlegend\":false,\"x\":[31,19,26,35,30,37,43,43,30,41,42,17,46,29,48,50,42,46],\"xaxis\":\"x2\",\"yaxis\":\"y2\",\"type\":\"box\"},{\"alignmentgroup\":\"True\",\"bingroup\":\"x\",\"histfunc\":\"sum\",\"hovertemplate\":\"rating=3.5\\u003cbr\\u003euser_sex=female\\u003cbr\\u003euser_age=%{x}\\u003cbr\\u003esum of rating=%{y}\\u003cextra\\u003e\\u003c\\u002fextra\\u003e\",\"legendgroup\":\"3.5, female\",\"marker\":{\"color\":\"#19d3f3\",\"pattern\":{\"shape\":\"\"}},\"name\":\"3.5, female\",\"offsetgroup\":\"3.5, female\",\"orientation\":\"v\",\"showlegend\":true,\"x\":[22,48,47,38,36,34,44,33,31,36,57,39,54],\"xaxis\":\"x\",\"y\":[3.5,3.5,3.5,3.5,3.5,3.5,3.5,3.5,3.5,3.5,3.5,3.5,3.5],\"yaxis\":\"y\",\"type\":\"histogram\"},{\"alignmentgroup\":\"True\",\"boxpoints\":\"all\",\"fillcolor\":\"rgba(255,255,255,0)\",\"hoveron\":\"points\",\"hovertemplate\":\"rating=3.5\\u003cbr\\u003euser_sex=female\\u003cbr\\u003euser_age=%{x}\\u003cextra\\u003e\\u003c\\u002fextra\\u003e\",\"jitter\":0,\"legendgroup\":\"3.5, female\",\"line\":{\"color\":\"rgba(255,255,255,0)\"},\"marker\":{\"color\":\"#19d3f3\",\"symbol\":\"line-ns-open\"},\"name\":\"3.5, female\",\"offsetgroup\":\"3.5, female\",\"showlegend\":false,\"x\":[22,48,47,38,36,34,44,33,31,36,57,39,54],\"xaxis\":\"x2\",\"yaxis\":\"y2\",\"type\":\"box\"},{\"alignmentgroup\":\"True\",\"bingroup\":\"x\",\"histfunc\":\"sum\",\"hovertemplate\":\"rating=3.5\\u003cbr\\u003euser_sex=male\\u003cbr\\u003euser_age=%{x}\\u003cbr\\u003esum of rating=%{y}\\u003cextra\\u003e\\u003c\\u002fextra\\u003e\",\"legendgroup\":\"3.5, male\",\"marker\":{\"color\":\"#19d3f3\",\"pattern\":{\"shape\":\"\\u002f\"}},\"name\":\"3.5, male\",\"offsetgroup\":\"3.5, male\",\"orientation\":\"v\",\"showlegend\":true,\"x\":[40,48,34,27,13,29,52,12,54,56,36],\"xaxis\":\"x\",\"y\":[3.5,3.5,3.5,3.5,3.5,3.5,3.5,3.5,3.5,3.5,3.5],\"yaxis\":\"y\",\"type\":\"histogram\"},{\"alignmentgroup\":\"True\",\"boxpoints\":\"all\",\"fillcolor\":\"rgba(255,255,255,0)\",\"hoveron\":\"points\",\"hovertemplate\":\"rating=3.5\\u003cbr\\u003euser_sex=male\\u003cbr\\u003euser_age=%{x}\\u003cextra\\u003e\\u003c\\u002fextra\\u003e\",\"jitter\":0,\"legendgroup\":\"3.5, male\",\"line\":{\"color\":\"rgba(255,255,255,0)\"},\"marker\":{\"color\":\"#19d3f3\",\"symbol\":\"line-ns-open\"},\"name\":\"3.5, male\",\"offsetgroup\":\"3.5, male\",\"showlegend\":false,\"x\":[40,48,34,27,13,29,52,12,54,56,36],\"xaxis\":\"x2\",\"yaxis\":\"y2\",\"type\":\"box\"},{\"alignmentgroup\":\"True\",\"bingroup\":\"x\",\"histfunc\":\"sum\",\"hovertemplate\":\"rating=3.5\\u003cbr\\u003euser_sex=other\\u003cbr\\u003euser_age=%{x}\\u003cbr\\u003esum of rating=%{y}\\u003cextra\\u003e\\u003c\\u002fextra\\u003e\",\"legendgroup\":\"3.5, other\",\"marker\":{\"color\":\"#19d3f3\",\"pattern\":{\"shape\":\"\\\\\"}},\"name\":\"3.5, other\",\"offsetgroup\":\"3.5, other\",\"orientation\":\"v\",\"showlegend\":true,\"x\":[29,29,33],\"xaxis\":\"x\",\"y\":[3.5,3.5,3.5],\"yaxis\":\"y\",\"type\":\"histogram\"},{\"alignmentgroup\":\"True\",\"boxpoints\":\"all\",\"fillcolor\":\"rgba(255,255,255,0)\",\"hoveron\":\"points\",\"hovertemplate\":\"rating=3.5\\u003cbr\\u003euser_sex=other\\u003cbr\\u003euser_age=%{x}\\u003cextra\\u003e\\u003c\\u002fextra\\u003e\",\"jitter\":0,\"legendgroup\":\"3.5, other\",\"line\":{\"color\":\"rgba(255,255,255,0)\"},\"marker\":{\"color\":\"#19d3f3\",\"symbol\":\"line-ns-open\"},\"name\":\"3.5, other\",\"offsetgroup\":\"3.5, other\",\"showlegend\":false,\"x\":[29,29,33],\"xaxis\":\"x2\",\"yaxis\":\"y2\",\"type\":\"box\"},{\"alignmentgroup\":\"True\",\"bingroup\":\"x\",\"histfunc\":\"sum\",\"hovertemplate\":\"rating=2.0\\u003cbr\\u003euser_sex=female\\u003cbr\\u003euser_age=%{x}\\u003cbr\\u003esum of rating=%{y}\\u003cextra\\u003e\\u003c\\u002fextra\\u003e\",\"legendgroup\":\"2.0, female\",\"marker\":{\"color\":\"#FF6692\",\"pattern\":{\"shape\":\"\"}},\"name\":\"2.0, female\",\"offsetgroup\":\"2.0, female\",\"orientation\":\"v\",\"showlegend\":true,\"x\":[30,33,25,53,19,45,41,29,44,27,58,31,53,25,19,32,41],\"xaxis\":\"x\",\"y\":[2.0,2.0,2.0,2.0,2.0,2.0,2.0,2.0,2.0,2.0,2.0,2.0,2.0,2.0,2.0,2.0,2.0],\"yaxis\":\"y\",\"type\":\"histogram\"},{\"alignmentgroup\":\"True\",\"boxpoints\":\"all\",\"fillcolor\":\"rgba(255,255,255,0)\",\"hoveron\":\"points\",\"hovertemplate\":\"rating=2.0\\u003cbr\\u003euser_sex=female\\u003cbr\\u003euser_age=%{x}\\u003cextra\\u003e\\u003c\\u002fextra\\u003e\",\"jitter\":0,\"legendgroup\":\"2.0, female\",\"line\":{\"color\":\"rgba(255,255,255,0)\"},\"marker\":{\"color\":\"#FF6692\",\"symbol\":\"line-ns-open\"},\"name\":\"2.0, female\",\"offsetgroup\":\"2.0, female\",\"showlegend\":false,\"x\":[30,33,25,53,19,45,41,29,44,27,58,31,53,25,19,32,41],\"xaxis\":\"x2\",\"yaxis\":\"y2\",\"type\":\"box\"},{\"alignmentgroup\":\"True\",\"bingroup\":\"x\",\"histfunc\":\"sum\",\"hovertemplate\":\"rating=2.0\\u003cbr\\u003euser_sex=male\\u003cbr\\u003euser_age=%{x}\\u003cbr\\u003esum of rating=%{y}\\u003cextra\\u003e\\u003c\\u002fextra\\u003e\",\"legendgroup\":\"2.0, male\",\"marker\":{\"color\":\"#FF6692\",\"pattern\":{\"shape\":\"\\u002f\"}},\"name\":\"2.0, male\",\"offsetgroup\":\"2.0, male\",\"orientation\":\"v\",\"showlegend\":true,\"x\":[23,55,21,28,48,34,30,41,14,28,30,19],\"xaxis\":\"x\",\"y\":[2.0,2.0,2.0,2.0,2.0,2.0,2.0,2.0,2.0,2.0,2.0,2.0],\"yaxis\":\"y\",\"type\":\"histogram\"},{\"alignmentgroup\":\"True\",\"boxpoints\":\"all\",\"fillcolor\":\"rgba(255,255,255,0)\",\"hoveron\":\"points\",\"hovertemplate\":\"rating=2.0\\u003cbr\\u003euser_sex=male\\u003cbr\\u003euser_age=%{x}\\u003cextra\\u003e\\u003c\\u002fextra\\u003e\",\"jitter\":0,\"legendgroup\":\"2.0, male\",\"line\":{\"color\":\"rgba(255,255,255,0)\"},\"marker\":{\"color\":\"#FF6692\",\"symbol\":\"line-ns-open\"},\"name\":\"2.0, male\",\"offsetgroup\":\"2.0, male\",\"showlegend\":false,\"x\":[23,55,21,28,48,34,30,41,14,28,30,19],\"xaxis\":\"x2\",\"yaxis\":\"y2\",\"type\":\"box\"},{\"alignmentgroup\":\"True\",\"bingroup\":\"x\",\"histfunc\":\"sum\",\"hovertemplate\":\"rating=2.0\\u003cbr\\u003euser_sex=other\\u003cbr\\u003euser_age=%{x}\\u003cbr\\u003esum of rating=%{y}\\u003cextra\\u003e\\u003c\\u002fextra\\u003e\",\"legendgroup\":\"2.0, other\",\"marker\":{\"color\":\"#FF6692\",\"pattern\":{\"shape\":\"\\\\\"}},\"name\":\"2.0, other\",\"offsetgroup\":\"2.0, other\",\"orientation\":\"v\",\"showlegend\":true,\"x\":[52,42,33,38,32,29],\"xaxis\":\"x\",\"y\":[2.0,2.0,2.0,2.0,2.0,2.0],\"yaxis\":\"y\",\"type\":\"histogram\"},{\"alignmentgroup\":\"True\",\"boxpoints\":\"all\",\"fillcolor\":\"rgba(255,255,255,0)\",\"hoveron\":\"points\",\"hovertemplate\":\"rating=2.0\\u003cbr\\u003euser_sex=other\\u003cbr\\u003euser_age=%{x}\\u003cextra\\u003e\\u003c\\u002fextra\\u003e\",\"jitter\":0,\"legendgroup\":\"2.0, other\",\"line\":{\"color\":\"rgba(255,255,255,0)\"},\"marker\":{\"color\":\"#FF6692\",\"symbol\":\"line-ns-open\"},\"name\":\"2.0, other\",\"offsetgroup\":\"2.0, other\",\"showlegend\":false,\"x\":[52,42,33,38,32,29],\"xaxis\":\"x2\",\"yaxis\":\"y2\",\"type\":\"box\"},{\"alignmentgroup\":\"True\",\"bingroup\":\"x\",\"histfunc\":\"sum\",\"hovertemplate\":\"rating=1.5\\u003cbr\\u003euser_sex=male\\u003cbr\\u003euser_age=%{x}\\u003cbr\\u003esum of rating=%{y}\\u003cextra\\u003e\\u003c\\u002fextra\\u003e\",\"legendgroup\":\"1.5, male\",\"marker\":{\"color\":\"#B6E880\",\"pattern\":{\"shape\":\"\\u002f\"}},\"name\":\"1.5, male\",\"offsetgroup\":\"1.5, male\",\"orientation\":\"v\",\"showlegend\":true,\"x\":[47,33],\"xaxis\":\"x\",\"y\":[1.5,1.5],\"yaxis\":\"y\",\"type\":\"histogram\"},{\"alignmentgroup\":\"True\",\"boxpoints\":\"all\",\"fillcolor\":\"rgba(255,255,255,0)\",\"hoveron\":\"points\",\"hovertemplate\":\"rating=1.5\\u003cbr\\u003euser_sex=male\\u003cbr\\u003euser_age=%{x}\\u003cextra\\u003e\\u003c\\u002fextra\\u003e\",\"jitter\":0,\"legendgroup\":\"1.5, male\",\"line\":{\"color\":\"rgba(255,255,255,0)\"},\"marker\":{\"color\":\"#B6E880\",\"symbol\":\"line-ns-open\"},\"name\":\"1.5, male\",\"offsetgroup\":\"1.5, male\",\"showlegend\":false,\"x\":[47,33],\"xaxis\":\"x2\",\"yaxis\":\"y2\",\"type\":\"box\"},{\"alignmentgroup\":\"True\",\"bingroup\":\"x\",\"histfunc\":\"sum\",\"hovertemplate\":\"rating=1.5\\u003cbr\\u003euser_sex=other\\u003cbr\\u003euser_age=%{x}\\u003cbr\\u003esum of rating=%{y}\\u003cextra\\u003e\\u003c\\u002fextra\\u003e\",\"legendgroup\":\"1.5, other\",\"marker\":{\"color\":\"#B6E880\",\"pattern\":{\"shape\":\"\\\\\"}},\"name\":\"1.5, other\",\"offsetgroup\":\"1.5, other\",\"orientation\":\"v\",\"showlegend\":true,\"x\":[47],\"xaxis\":\"x\",\"y\":[1.5],\"yaxis\":\"y\",\"type\":\"histogram\"},{\"alignmentgroup\":\"True\",\"boxpoints\":\"all\",\"fillcolor\":\"rgba(255,255,255,0)\",\"hoveron\":\"points\",\"hovertemplate\":\"rating=1.5\\u003cbr\\u003euser_sex=other\\u003cbr\\u003euser_age=%{x}\\u003cextra\\u003e\\u003c\\u002fextra\\u003e\",\"jitter\":0,\"legendgroup\":\"1.5, other\",\"line\":{\"color\":\"rgba(255,255,255,0)\"},\"marker\":{\"color\":\"#B6E880\",\"symbol\":\"line-ns-open\"},\"name\":\"1.5, other\",\"offsetgroup\":\"1.5, other\",\"showlegend\":false,\"x\":[47],\"xaxis\":\"x2\",\"yaxis\":\"y2\",\"type\":\"box\"}],                        {\"template\":{\"data\":{\"histogram2dcontour\":[{\"type\":\"histogram2dcontour\",\"colorbar\":{\"outlinewidth\":0,\"ticks\":\"\"},\"colorscale\":[[0.0,\"#0d0887\"],[0.1111111111111111,\"#46039f\"],[0.2222222222222222,\"#7201a8\"],[0.3333333333333333,\"#9c179e\"],[0.4444444444444444,\"#bd3786\"],[0.5555555555555556,\"#d8576b\"],[0.6666666666666666,\"#ed7953\"],[0.7777777777777778,\"#fb9f3a\"],[0.8888888888888888,\"#fdca26\"],[1.0,\"#f0f921\"]]}],\"choropleth\":[{\"type\":\"choropleth\",\"colorbar\":{\"outlinewidth\":0,\"ticks\":\"\"}}],\"histogram2d\":[{\"type\":\"histogram2d\",\"colorbar\":{\"outlinewidth\":0,\"ticks\":\"\"},\"colorscale\":[[0.0,\"#0d0887\"],[0.1111111111111111,\"#46039f\"],[0.2222222222222222,\"#7201a8\"],[0.3333333333333333,\"#9c179e\"],[0.4444444444444444,\"#bd3786\"],[0.5555555555555556,\"#d8576b\"],[0.6666666666666666,\"#ed7953\"],[0.7777777777777778,\"#fb9f3a\"],[0.8888888888888888,\"#fdca26\"],[1.0,\"#f0f921\"]]}],\"heatmap\":[{\"type\":\"heatmap\",\"colorbar\":{\"outlinewidth\":0,\"ticks\":\"\"},\"colorscale\":[[0.0,\"#0d0887\"],[0.1111111111111111,\"#46039f\"],[0.2222222222222222,\"#7201a8\"],[0.3333333333333333,\"#9c179e\"],[0.4444444444444444,\"#bd3786\"],[0.5555555555555556,\"#d8576b\"],[0.6666666666666666,\"#ed7953\"],[0.7777777777777778,\"#fb9f3a\"],[0.8888888888888888,\"#fdca26\"],[1.0,\"#f0f921\"]]}],\"heatmapgl\":[{\"type\":\"heatmapgl\",\"colorbar\":{\"outlinewidth\":0,\"ticks\":\"\"},\"colorscale\":[[0.0,\"#0d0887\"],[0.1111111111111111,\"#46039f\"],[0.2222222222222222,\"#7201a8\"],[0.3333333333333333,\"#9c179e\"],[0.4444444444444444,\"#bd3786\"],[0.5555555555555556,\"#d8576b\"],[0.6666666666666666,\"#ed7953\"],[0.7777777777777778,\"#fb9f3a\"],[0.8888888888888888,\"#fdca26\"],[1.0,\"#f0f921\"]]}],\"contourcarpet\":[{\"type\":\"contourcarpet\",\"colorbar\":{\"outlinewidth\":0,\"ticks\":\"\"}}],\"contour\":[{\"type\":\"contour\",\"colorbar\":{\"outlinewidth\":0,\"ticks\":\"\"},\"colorscale\":[[0.0,\"#0d0887\"],[0.1111111111111111,\"#46039f\"],[0.2222222222222222,\"#7201a8\"],[0.3333333333333333,\"#9c179e\"],[0.4444444444444444,\"#bd3786\"],[0.5555555555555556,\"#d8576b\"],[0.6666666666666666,\"#ed7953\"],[0.7777777777777778,\"#fb9f3a\"],[0.8888888888888888,\"#fdca26\"],[1.0,\"#f0f921\"]]}],\"surface\":[{\"type\":\"surface\",\"colorbar\":{\"outlinewidth\":0,\"ticks\":\"\"},\"colorscale\":[[0.0,\"#0d0887\"],[0.1111111111111111,\"#46039f\"],[0.2222222222222222,\"#7201a8\"],[0.3333333333333333,\"#9c179e\"],[0.4444444444444444,\"#bd3786\"],[0.5555555555555556,\"#d8576b\"],[0.6666666666666666,\"#ed7953\"],[0.7777777777777778,\"#fb9f3a\"],[0.8888888888888888,\"#fdca26\"],[1.0,\"#f0f921\"]]}],\"mesh3d\":[{\"type\":\"mesh3d\",\"colorbar\":{\"outlinewidth\":0,\"ticks\":\"\"}}],\"scatter\":[{\"marker\":{\"line\":{\"color\":\"#283442\"}},\"type\":\"scatter\"}],\"parcoords\":[{\"type\":\"parcoords\",\"line\":{\"colorbar\":{\"outlinewidth\":0,\"ticks\":\"\"}}}],\"scatterpolargl\":[{\"type\":\"scatterpolargl\",\"marker\":{\"colorbar\":{\"outlinewidth\":0,\"ticks\":\"\"}}}],\"bar\":[{\"error_x\":{\"color\":\"#f2f5fa\"},\"error_y\":{\"color\":\"#f2f5fa\"},\"marker\":{\"line\":{\"color\":\"rgb(17,17,17)\",\"width\":0.5},\"pattern\":{\"fillmode\":\"overlay\",\"size\":10,\"solidity\":0.2}},\"type\":\"bar\"}],\"scattergeo\":[{\"type\":\"scattergeo\",\"marker\":{\"colorbar\":{\"outlinewidth\":0,\"ticks\":\"\"}}}],\"scatterpolar\":[{\"type\":\"scatterpolar\",\"marker\":{\"colorbar\":{\"outlinewidth\":0,\"ticks\":\"\"}}}],\"histogram\":[{\"marker\":{\"pattern\":{\"fillmode\":\"overlay\",\"size\":10,\"solidity\":0.2}},\"type\":\"histogram\"}],\"scattergl\":[{\"marker\":{\"line\":{\"color\":\"#283442\"}},\"type\":\"scattergl\"}],\"scatter3d\":[{\"type\":\"scatter3d\",\"line\":{\"colorbar\":{\"outlinewidth\":0,\"ticks\":\"\"}},\"marker\":{\"colorbar\":{\"outlinewidth\":0,\"ticks\":\"\"}}}],\"scattermapbox\":[{\"type\":\"scattermapbox\",\"marker\":{\"colorbar\":{\"outlinewidth\":0,\"ticks\":\"\"}}}],\"scatterternary\":[{\"type\":\"scatterternary\",\"marker\":{\"colorbar\":{\"outlinewidth\":0,\"ticks\":\"\"}}}],\"scattercarpet\":[{\"type\":\"scattercarpet\",\"marker\":{\"colorbar\":{\"outlinewidth\":0,\"ticks\":\"\"}}}],\"carpet\":[{\"aaxis\":{\"endlinecolor\":\"#A2B1C6\",\"gridcolor\":\"#506784\",\"linecolor\":\"#506784\",\"minorgridcolor\":\"#506784\",\"startlinecolor\":\"#A2B1C6\"},\"baxis\":{\"endlinecolor\":\"#A2B1C6\",\"gridcolor\":\"#506784\",\"linecolor\":\"#506784\",\"minorgridcolor\":\"#506784\",\"startlinecolor\":\"#A2B1C6\"},\"type\":\"carpet\"}],\"table\":[{\"cells\":{\"fill\":{\"color\":\"#506784\"},\"line\":{\"color\":\"rgb(17,17,17)\"}},\"header\":{\"fill\":{\"color\":\"#2a3f5f\"},\"line\":{\"color\":\"rgb(17,17,17)\"}},\"type\":\"table\"}],\"barpolar\":[{\"marker\":{\"line\":{\"color\":\"rgb(17,17,17)\",\"width\":0.5},\"pattern\":{\"fillmode\":\"overlay\",\"size\":10,\"solidity\":0.2}},\"type\":\"barpolar\"}],\"pie\":[{\"automargin\":true,\"type\":\"pie\"}]},\"layout\":{\"autotypenumbers\":\"strict\",\"colorway\":[\"#636efa\",\"#EF553B\",\"#00cc96\",\"#ab63fa\",\"#FFA15A\",\"#19d3f3\",\"#FF6692\",\"#B6E880\",\"#FF97FF\",\"#FECB52\"],\"font\":{\"color\":\"#f2f5fa\"},\"hovermode\":\"closest\",\"hoverlabel\":{\"align\":\"left\"},\"paper_bgcolor\":\"rgb(17,17,17)\",\"plot_bgcolor\":\"rgb(17,17,17)\",\"polar\":{\"bgcolor\":\"rgb(17,17,17)\",\"angularaxis\":{\"gridcolor\":\"#506784\",\"linecolor\":\"#506784\",\"ticks\":\"\"},\"radialaxis\":{\"gridcolor\":\"#506784\",\"linecolor\":\"#506784\",\"ticks\":\"\"}},\"ternary\":{\"bgcolor\":\"rgb(17,17,17)\",\"aaxis\":{\"gridcolor\":\"#506784\",\"linecolor\":\"#506784\",\"ticks\":\"\"},\"baxis\":{\"gridcolor\":\"#506784\",\"linecolor\":\"#506784\",\"ticks\":\"\"},\"caxis\":{\"gridcolor\":\"#506784\",\"linecolor\":\"#506784\",\"ticks\":\"\"}},\"coloraxis\":{\"colorbar\":{\"outlinewidth\":0,\"ticks\":\"\"}},\"colorscale\":{\"sequential\":[[0.0,\"#0d0887\"],[0.1111111111111111,\"#46039f\"],[0.2222222222222222,\"#7201a8\"],[0.3333333333333333,\"#9c179e\"],[0.4444444444444444,\"#bd3786\"],[0.5555555555555556,\"#d8576b\"],[0.6666666666666666,\"#ed7953\"],[0.7777777777777778,\"#fb9f3a\"],[0.8888888888888888,\"#fdca26\"],[1.0,\"#f0f921\"]],\"sequentialminus\":[[0.0,\"#0d0887\"],[0.1111111111111111,\"#46039f\"],[0.2222222222222222,\"#7201a8\"],[0.3333333333333333,\"#9c179e\"],[0.4444444444444444,\"#bd3786\"],[0.5555555555555556,\"#d8576b\"],[0.6666666666666666,\"#ed7953\"],[0.7777777777777778,\"#fb9f3a\"],[0.8888888888888888,\"#fdca26\"],[1.0,\"#f0f921\"]],\"diverging\":[[0,\"#8e0152\"],[0.1,\"#c51b7d\"],[0.2,\"#de77ae\"],[0.3,\"#f1b6da\"],[0.4,\"#fde0ef\"],[0.5,\"#f7f7f7\"],[0.6,\"#e6f5d0\"],[0.7,\"#b8e186\"],[0.8,\"#7fbc41\"],[0.9,\"#4d9221\"],[1,\"#276419\"]]},\"xaxis\":{\"gridcolor\":\"#283442\",\"linecolor\":\"#506784\",\"ticks\":\"\",\"title\":{\"standoff\":15},\"zerolinecolor\":\"#283442\",\"automargin\":true,\"zerolinewidth\":2},\"yaxis\":{\"gridcolor\":\"#283442\",\"linecolor\":\"#506784\",\"ticks\":\"\",\"title\":{\"standoff\":15},\"zerolinecolor\":\"#283442\",\"automargin\":true,\"zerolinewidth\":2},\"scene\":{\"xaxis\":{\"backgroundcolor\":\"rgb(17,17,17)\",\"gridcolor\":\"#506784\",\"linecolor\":\"#506784\",\"showbackground\":true,\"ticks\":\"\",\"zerolinecolor\":\"#C8D4E3\",\"gridwidth\":2},\"yaxis\":{\"backgroundcolor\":\"rgb(17,17,17)\",\"gridcolor\":\"#506784\",\"linecolor\":\"#506784\",\"showbackground\":true,\"ticks\":\"\",\"zerolinecolor\":\"#C8D4E3\",\"gridwidth\":2},\"zaxis\":{\"backgroundcolor\":\"rgb(17,17,17)\",\"gridcolor\":\"#506784\",\"linecolor\":\"#506784\",\"showbackground\":true,\"ticks\":\"\",\"zerolinecolor\":\"#C8D4E3\",\"gridwidth\":2}},\"shapedefaults\":{\"line\":{\"color\":\"#f2f5fa\"}},\"annotationdefaults\":{\"arrowcolor\":\"#f2f5fa\",\"arrowhead\":0,\"arrowwidth\":1},\"geo\":{\"bgcolor\":\"rgb(17,17,17)\",\"landcolor\":\"rgb(17,17,17)\",\"subunitcolor\":\"#506784\",\"showland\":true,\"showlakes\":true,\"lakecolor\":\"rgb(17,17,17)\"},\"title\":{\"x\":0.05},\"updatemenudefaults\":{\"bgcolor\":\"#506784\",\"borderwidth\":0},\"sliderdefaults\":{\"bgcolor\":\"#C8D4E3\",\"borderwidth\":1,\"bordercolor\":\"rgb(17,17,17)\",\"tickwidth\":0},\"mapbox\":{\"style\":\"dark\"}}},\"xaxis\":{\"anchor\":\"y\",\"domain\":[0.0,1.0],\"title\":{\"text\":\"user_age\"}},\"yaxis\":{\"anchor\":\"x\",\"domain\":[0.0,0.7326],\"categoryorder\":\"array\",\"categoryarray\":[1.5,2.0,3.5,5.0,4.5,3.0,4.0,2.5],\"title\":{\"text\":\"sum of rating\"}},\"xaxis2\":{\"anchor\":\"y2\",\"domain\":[0.0,1.0],\"matches\":\"x\",\"showticklabels\":false,\"showgrid\":true},\"yaxis2\":{\"anchor\":\"x2\",\"domain\":[0.7426,1.0],\"matches\":\"y2\",\"categoryorder\":\"array\",\"categoryarray\":[1.5,2.0,3.5,5.0,4.5,3.0,4.0,2.5],\"showticklabels\":false,\"showline\":false,\"ticks\":\"\",\"showgrid\":false},\"legend\":{\"title\":{\"text\":\"rating, user_sex\"},\"tracegroupgap\":0},\"title\":{\"text\":\"Distribution of rating by sex and age\"},\"barmode\":\"relative\"},                        {\"responsive\": true}                    ).then(function(){\n                            \nvar gd = document.getElementById('48f40dd9-99b3-4dee-b5fb-17981b006255');\nvar x = new MutationObserver(function (mutations, observer) {{\n        var display = window.getComputedStyle(gd).display;\n        if (!display || display === 'none') {{\n            console.log([gd, 'removed!']);\n            Plotly.purge(gd);\n            observer.disconnect();\n        }}\n}});\n\n// Listen for the removal of the full notebook cells\nvar notebookContainer = gd.closest('#notebook-container');\nif (notebookContainer) {{\n    x.observe(notebookContainer, {childList: true});\n}}\n\n// Listen for the clearing of the current output cell\nvar outputEl = gd.closest('.output');\nif (outputEl) {{\n    x.observe(outputEl, {childList: true});\n}}\n\n                        })                };                });            </script>        </div>"
     },
     "metadata": {},
     "output_type": "display_data"
    }
   ],
   "source": [
    "fig = px.histogram(df, x='user_age', y='rating', pattern_shape='user_sex', color='rating', marginal='rug', template='plotly_dark', title='Distribution of rating by sex and age')\n",
    "fig.show()"
   ],
   "metadata": {
    "collapsed": false,
    "ExecuteTime": {
     "end_time": "2024-02-11T19:06:29.556709900Z",
     "start_time": "2024-02-11T19:06:29.280901500Z"
    }
   },
   "id": "966da7e94efc09df",
   "execution_count": 157
  },
  {
   "cell_type": "code",
   "outputs": [
    {
     "data": {
      "application/vnd.plotly.v1+json": {
       "data": [
        {
         "alignmentgroup": "True",
         "hovertemplate": "user_country=Austria<br>user_sex=%{x}<br>count=%{y}<extra></extra>",
         "legendgroup": "Austria",
         "marker": {
          "color": "#636efa",
          "pattern": {
           "shape": ""
          }
         },
         "name": "Austria",
         "offsetgroup": "Austria",
         "orientation": "v",
         "showlegend": true,
         "textposition": "auto",
         "x": [
          "female",
          "male",
          "other"
         ],
         "xaxis": "x",
         "y": [
          9,
          9,
          2
         ],
         "yaxis": "y",
         "type": "bar"
        },
        {
         "alignmentgroup": "True",
         "hovertemplate": "user_country=Belgium<br>user_sex=%{x}<br>count=%{y}<extra></extra>",
         "legendgroup": "Belgium",
         "marker": {
          "color": "#EF553B",
          "pattern": {
           "shape": ""
          }
         },
         "name": "Belgium",
         "offsetgroup": "Belgium",
         "orientation": "v",
         "showlegend": true,
         "textposition": "auto",
         "x": [
          "female",
          "male",
          "other"
         ],
         "xaxis": "x",
         "y": [
          10,
          8,
          5
         ],
         "yaxis": "y",
         "type": "bar"
        },
        {
         "alignmentgroup": "True",
         "hovertemplate": "user_country=Croatia<br>user_sex=%{x}<br>count=%{y}<extra></extra>",
         "legendgroup": "Croatia",
         "marker": {
          "color": "#00cc96",
          "pattern": {
           "shape": ""
          }
         },
         "name": "Croatia",
         "offsetgroup": "Croatia",
         "orientation": "v",
         "showlegend": true,
         "textposition": "auto",
         "x": [
          "female",
          "male",
          "other"
         ],
         "xaxis": "x",
         "y": [
          20,
          16,
          6
         ],
         "yaxis": "y",
         "type": "bar"
        },
        {
         "alignmentgroup": "True",
         "hovertemplate": "user_country=Finland<br>user_sex=%{x}<br>count=%{y}<extra></extra>",
         "legendgroup": "Finland",
         "marker": {
          "color": "#ab63fa",
          "pattern": {
           "shape": ""
          }
         },
         "name": "Finland",
         "offsetgroup": "Finland",
         "orientation": "v",
         "showlegend": true,
         "textposition": "auto",
         "x": [
          "female",
          "male",
          "other"
         ],
         "xaxis": "x",
         "y": [
          32,
          20,
          7
         ],
         "yaxis": "y",
         "type": "bar"
        },
        {
         "alignmentgroup": "True",
         "hovertemplate": "user_country=France<br>user_sex=%{x}<br>count=%{y}<extra></extra>",
         "legendgroup": "France",
         "marker": {
          "color": "#FFA15A",
          "pattern": {
           "shape": ""
          }
         },
         "name": "France",
         "offsetgroup": "France",
         "orientation": "v",
         "showlegend": true,
         "textposition": "auto",
         "x": [
          "female",
          "male",
          "other"
         ],
         "xaxis": "x",
         "y": [
          14,
          7,
          3
         ],
         "yaxis": "y",
         "type": "bar"
        },
        {
         "alignmentgroup": "True",
         "hovertemplate": "user_country=Germany<br>user_sex=%{x}<br>count=%{y}<extra></extra>",
         "legendgroup": "Germany",
         "marker": {
          "color": "#19d3f3",
          "pattern": {
           "shape": ""
          }
         },
         "name": "Germany",
         "offsetgroup": "Germany",
         "orientation": "v",
         "showlegend": true,
         "textposition": "auto",
         "x": [
          "female",
          "male",
          "other"
         ],
         "xaxis": "x",
         "y": [
          25,
          19,
          11
         ],
         "yaxis": "y",
         "type": "bar"
        },
        {
         "alignmentgroup": "True",
         "hovertemplate": "user_country=Greece<br>user_sex=%{x}<br>count=%{y}<extra></extra>",
         "legendgroup": "Greece",
         "marker": {
          "color": "#FF6692",
          "pattern": {
           "shape": ""
          }
         },
         "name": "Greece",
         "offsetgroup": "Greece",
         "orientation": "v",
         "showlegend": true,
         "textposition": "auto",
         "x": [
          "female",
          "male",
          "other"
         ],
         "xaxis": "x",
         "y": [
          19,
          7,
          4
         ],
         "yaxis": "y",
         "type": "bar"
        },
        {
         "alignmentgroup": "True",
         "hovertemplate": "user_country=Netherlands<br>user_sex=%{x}<br>count=%{y}<extra></extra>",
         "legendgroup": "Netherlands",
         "marker": {
          "color": "#B6E880",
          "pattern": {
           "shape": ""
          }
         },
         "name": "Netherlands",
         "offsetgroup": "Netherlands",
         "orientation": "v",
         "showlegend": true,
         "textposition": "auto",
         "x": [
          "female",
          "male",
          "other"
         ],
         "xaxis": "x",
         "y": [
          3,
          1,
          1
         ],
         "yaxis": "y",
         "type": "bar"
        },
        {
         "alignmentgroup": "True",
         "hovertemplate": "user_country=Spain<br>user_sex=%{x}<br>count=%{y}<extra></extra>",
         "legendgroup": "Spain",
         "marker": {
          "color": "#FF97FF",
          "pattern": {
           "shape": ""
          }
         },
         "name": "Spain",
         "offsetgroup": "Spain",
         "orientation": "v",
         "showlegend": true,
         "textposition": "auto",
         "x": [
          "female",
          "male",
          "other"
         ],
         "xaxis": "x",
         "y": [
          33,
          31,
          11
         ],
         "yaxis": "y",
         "type": "bar"
        },
        {
         "alignmentgroup": "True",
         "hovertemplate": "user_country=Sweden<br>user_sex=%{x}<br>count=%{y}<extra></extra>",
         "legendgroup": "Sweden",
         "marker": {
          "color": "#FECB52",
          "pattern": {
           "shape": ""
          }
         },
         "name": "Sweden",
         "offsetgroup": "Sweden",
         "orientation": "v",
         "showlegend": true,
         "textposition": "auto",
         "x": [
          "female",
          "male",
          "other"
         ],
         "xaxis": "x",
         "y": [
          18,
          22,
          7
         ],
         "yaxis": "y",
         "type": "bar"
        },
        {
         "alignmentgroup": "True",
         "hovertemplate": "user_country=Switzerland<br>user_sex=%{x}<br>count=%{y}<extra></extra>",
         "legendgroup": "Switzerland",
         "marker": {
          "color": "#636efa",
          "pattern": {
           "shape": ""
          }
         },
         "name": "Switzerland",
         "offsetgroup": "Switzerland",
         "orientation": "v",
         "showlegend": true,
         "textposition": "auto",
         "x": [
          "female",
          "male",
          "other"
         ],
         "xaxis": "x",
         "y": [
          33,
          16,
          7
         ],
         "yaxis": "y",
         "type": "bar"
        },
        {
         "alignmentgroup": "True",
         "hovertemplate": "user_country=Turkey<br>user_sex=%{x}<br>count=%{y}<extra></extra>",
         "legendgroup": "Turkey",
         "marker": {
          "color": "#EF553B",
          "pattern": {
           "shape": ""
          }
         },
         "name": "Turkey",
         "offsetgroup": "Turkey",
         "orientation": "v",
         "showlegend": true,
         "textposition": "auto",
         "x": [
          "female",
          "male",
          "other"
         ],
         "xaxis": "x",
         "y": [
          19,
          25,
          6
         ],
         "yaxis": "y",
         "type": "bar"
        },
        {
         "alignmentgroup": "True",
         "hovertemplate": "user_country=United Kingdom<br>user_sex=%{x}<br>count=%{y}<extra></extra>",
         "legendgroup": "United Kingdom",
         "marker": {
          "color": "#00cc96",
          "pattern": {
           "shape": ""
          }
         },
         "name": "United Kingdom",
         "offsetgroup": "United Kingdom",
         "orientation": "v",
         "showlegend": true,
         "textposition": "auto",
         "x": [
          "female",
          "male"
         ],
         "xaxis": "x",
         "y": [
          4,
          1
         ],
         "yaxis": "y",
         "type": "bar"
        }
       ],
       "layout": {
        "template": {
         "data": {
          "histogram2dcontour": [
           {
            "type": "histogram2dcontour",
            "colorbar": {
             "outlinewidth": 0,
             "ticks": ""
            },
            "colorscale": [
             [
              0.0,
              "#0d0887"
             ],
             [
              0.1111111111111111,
              "#46039f"
             ],
             [
              0.2222222222222222,
              "#7201a8"
             ],
             [
              0.3333333333333333,
              "#9c179e"
             ],
             [
              0.4444444444444444,
              "#bd3786"
             ],
             [
              0.5555555555555556,
              "#d8576b"
             ],
             [
              0.6666666666666666,
              "#ed7953"
             ],
             [
              0.7777777777777778,
              "#fb9f3a"
             ],
             [
              0.8888888888888888,
              "#fdca26"
             ],
             [
              1.0,
              "#f0f921"
             ]
            ]
           }
          ],
          "choropleth": [
           {
            "type": "choropleth",
            "colorbar": {
             "outlinewidth": 0,
             "ticks": ""
            }
           }
          ],
          "histogram2d": [
           {
            "type": "histogram2d",
            "colorbar": {
             "outlinewidth": 0,
             "ticks": ""
            },
            "colorscale": [
             [
              0.0,
              "#0d0887"
             ],
             [
              0.1111111111111111,
              "#46039f"
             ],
             [
              0.2222222222222222,
              "#7201a8"
             ],
             [
              0.3333333333333333,
              "#9c179e"
             ],
             [
              0.4444444444444444,
              "#bd3786"
             ],
             [
              0.5555555555555556,
              "#d8576b"
             ],
             [
              0.6666666666666666,
              "#ed7953"
             ],
             [
              0.7777777777777778,
              "#fb9f3a"
             ],
             [
              0.8888888888888888,
              "#fdca26"
             ],
             [
              1.0,
              "#f0f921"
             ]
            ]
           }
          ],
          "heatmap": [
           {
            "type": "heatmap",
            "colorbar": {
             "outlinewidth": 0,
             "ticks": ""
            },
            "colorscale": [
             [
              0.0,
              "#0d0887"
             ],
             [
              0.1111111111111111,
              "#46039f"
             ],
             [
              0.2222222222222222,
              "#7201a8"
             ],
             [
              0.3333333333333333,
              "#9c179e"
             ],
             [
              0.4444444444444444,
              "#bd3786"
             ],
             [
              0.5555555555555556,
              "#d8576b"
             ],
             [
              0.6666666666666666,
              "#ed7953"
             ],
             [
              0.7777777777777778,
              "#fb9f3a"
             ],
             [
              0.8888888888888888,
              "#fdca26"
             ],
             [
              1.0,
              "#f0f921"
             ]
            ]
           }
          ],
          "heatmapgl": [
           {
            "type": "heatmapgl",
            "colorbar": {
             "outlinewidth": 0,
             "ticks": ""
            },
            "colorscale": [
             [
              0.0,
              "#0d0887"
             ],
             [
              0.1111111111111111,
              "#46039f"
             ],
             [
              0.2222222222222222,
              "#7201a8"
             ],
             [
              0.3333333333333333,
              "#9c179e"
             ],
             [
              0.4444444444444444,
              "#bd3786"
             ],
             [
              0.5555555555555556,
              "#d8576b"
             ],
             [
              0.6666666666666666,
              "#ed7953"
             ],
             [
              0.7777777777777778,
              "#fb9f3a"
             ],
             [
              0.8888888888888888,
              "#fdca26"
             ],
             [
              1.0,
              "#f0f921"
             ]
            ]
           }
          ],
          "contourcarpet": [
           {
            "type": "contourcarpet",
            "colorbar": {
             "outlinewidth": 0,
             "ticks": ""
            }
           }
          ],
          "contour": [
           {
            "type": "contour",
            "colorbar": {
             "outlinewidth": 0,
             "ticks": ""
            },
            "colorscale": [
             [
              0.0,
              "#0d0887"
             ],
             [
              0.1111111111111111,
              "#46039f"
             ],
             [
              0.2222222222222222,
              "#7201a8"
             ],
             [
              0.3333333333333333,
              "#9c179e"
             ],
             [
              0.4444444444444444,
              "#bd3786"
             ],
             [
              0.5555555555555556,
              "#d8576b"
             ],
             [
              0.6666666666666666,
              "#ed7953"
             ],
             [
              0.7777777777777778,
              "#fb9f3a"
             ],
             [
              0.8888888888888888,
              "#fdca26"
             ],
             [
              1.0,
              "#f0f921"
             ]
            ]
           }
          ],
          "surface": [
           {
            "type": "surface",
            "colorbar": {
             "outlinewidth": 0,
             "ticks": ""
            },
            "colorscale": [
             [
              0.0,
              "#0d0887"
             ],
             [
              0.1111111111111111,
              "#46039f"
             ],
             [
              0.2222222222222222,
              "#7201a8"
             ],
             [
              0.3333333333333333,
              "#9c179e"
             ],
             [
              0.4444444444444444,
              "#bd3786"
             ],
             [
              0.5555555555555556,
              "#d8576b"
             ],
             [
              0.6666666666666666,
              "#ed7953"
             ],
             [
              0.7777777777777778,
              "#fb9f3a"
             ],
             [
              0.8888888888888888,
              "#fdca26"
             ],
             [
              1.0,
              "#f0f921"
             ]
            ]
           }
          ],
          "mesh3d": [
           {
            "type": "mesh3d",
            "colorbar": {
             "outlinewidth": 0,
             "ticks": ""
            }
           }
          ],
          "scatter": [
           {
            "marker": {
             "line": {
              "color": "#283442"
             }
            },
            "type": "scatter"
           }
          ],
          "parcoords": [
           {
            "type": "parcoords",
            "line": {
             "colorbar": {
              "outlinewidth": 0,
              "ticks": ""
             }
            }
           }
          ],
          "scatterpolargl": [
           {
            "type": "scatterpolargl",
            "marker": {
             "colorbar": {
              "outlinewidth": 0,
              "ticks": ""
             }
            }
           }
          ],
          "bar": [
           {
            "error_x": {
             "color": "#f2f5fa"
            },
            "error_y": {
             "color": "#f2f5fa"
            },
            "marker": {
             "line": {
              "color": "rgb(17,17,17)",
              "width": 0.5
             },
             "pattern": {
              "fillmode": "overlay",
              "size": 10,
              "solidity": 0.2
             }
            },
            "type": "bar"
           }
          ],
          "scattergeo": [
           {
            "type": "scattergeo",
            "marker": {
             "colorbar": {
              "outlinewidth": 0,
              "ticks": ""
             }
            }
           }
          ],
          "scatterpolar": [
           {
            "type": "scatterpolar",
            "marker": {
             "colorbar": {
              "outlinewidth": 0,
              "ticks": ""
             }
            }
           }
          ],
          "histogram": [
           {
            "marker": {
             "pattern": {
              "fillmode": "overlay",
              "size": 10,
              "solidity": 0.2
             }
            },
            "type": "histogram"
           }
          ],
          "scattergl": [
           {
            "marker": {
             "line": {
              "color": "#283442"
             }
            },
            "type": "scattergl"
           }
          ],
          "scatter3d": [
           {
            "type": "scatter3d",
            "line": {
             "colorbar": {
              "outlinewidth": 0,
              "ticks": ""
             }
            },
            "marker": {
             "colorbar": {
              "outlinewidth": 0,
              "ticks": ""
             }
            }
           }
          ],
          "scattermapbox": [
           {
            "type": "scattermapbox",
            "marker": {
             "colorbar": {
              "outlinewidth": 0,
              "ticks": ""
             }
            }
           }
          ],
          "scatterternary": [
           {
            "type": "scatterternary",
            "marker": {
             "colorbar": {
              "outlinewidth": 0,
              "ticks": ""
             }
            }
           }
          ],
          "scattercarpet": [
           {
            "type": "scattercarpet",
            "marker": {
             "colorbar": {
              "outlinewidth": 0,
              "ticks": ""
             }
            }
           }
          ],
          "carpet": [
           {
            "aaxis": {
             "endlinecolor": "#A2B1C6",
             "gridcolor": "#506784",
             "linecolor": "#506784",
             "minorgridcolor": "#506784",
             "startlinecolor": "#A2B1C6"
            },
            "baxis": {
             "endlinecolor": "#A2B1C6",
             "gridcolor": "#506784",
             "linecolor": "#506784",
             "minorgridcolor": "#506784",
             "startlinecolor": "#A2B1C6"
            },
            "type": "carpet"
           }
          ],
          "table": [
           {
            "cells": {
             "fill": {
              "color": "#506784"
             },
             "line": {
              "color": "rgb(17,17,17)"
             }
            },
            "header": {
             "fill": {
              "color": "#2a3f5f"
             },
             "line": {
              "color": "rgb(17,17,17)"
             }
            },
            "type": "table"
           }
          ],
          "barpolar": [
           {
            "marker": {
             "line": {
              "color": "rgb(17,17,17)",
              "width": 0.5
             },
             "pattern": {
              "fillmode": "overlay",
              "size": 10,
              "solidity": 0.2
             }
            },
            "type": "barpolar"
           }
          ],
          "pie": [
           {
            "automargin": true,
            "type": "pie"
           }
          ]
         },
         "layout": {
          "autotypenumbers": "strict",
          "colorway": [
           "#636efa",
           "#EF553B",
           "#00cc96",
           "#ab63fa",
           "#FFA15A",
           "#19d3f3",
           "#FF6692",
           "#B6E880",
           "#FF97FF",
           "#FECB52"
          ],
          "font": {
           "color": "#f2f5fa"
          },
          "hovermode": "closest",
          "hoverlabel": {
           "align": "left"
          },
          "paper_bgcolor": "rgb(17,17,17)",
          "plot_bgcolor": "rgb(17,17,17)",
          "polar": {
           "bgcolor": "rgb(17,17,17)",
           "angularaxis": {
            "gridcolor": "#506784",
            "linecolor": "#506784",
            "ticks": ""
           },
           "radialaxis": {
            "gridcolor": "#506784",
            "linecolor": "#506784",
            "ticks": ""
           }
          },
          "ternary": {
           "bgcolor": "rgb(17,17,17)",
           "aaxis": {
            "gridcolor": "#506784",
            "linecolor": "#506784",
            "ticks": ""
           },
           "baxis": {
            "gridcolor": "#506784",
            "linecolor": "#506784",
            "ticks": ""
           },
           "caxis": {
            "gridcolor": "#506784",
            "linecolor": "#506784",
            "ticks": ""
           }
          },
          "coloraxis": {
           "colorbar": {
            "outlinewidth": 0,
            "ticks": ""
           }
          },
          "colorscale": {
           "sequential": [
            [
             0.0,
             "#0d0887"
            ],
            [
             0.1111111111111111,
             "#46039f"
            ],
            [
             0.2222222222222222,
             "#7201a8"
            ],
            [
             0.3333333333333333,
             "#9c179e"
            ],
            [
             0.4444444444444444,
             "#bd3786"
            ],
            [
             0.5555555555555556,
             "#d8576b"
            ],
            [
             0.6666666666666666,
             "#ed7953"
            ],
            [
             0.7777777777777778,
             "#fb9f3a"
            ],
            [
             0.8888888888888888,
             "#fdca26"
            ],
            [
             1.0,
             "#f0f921"
            ]
           ],
           "sequentialminus": [
            [
             0.0,
             "#0d0887"
            ],
            [
             0.1111111111111111,
             "#46039f"
            ],
            [
             0.2222222222222222,
             "#7201a8"
            ],
            [
             0.3333333333333333,
             "#9c179e"
            ],
            [
             0.4444444444444444,
             "#bd3786"
            ],
            [
             0.5555555555555556,
             "#d8576b"
            ],
            [
             0.6666666666666666,
             "#ed7953"
            ],
            [
             0.7777777777777778,
             "#fb9f3a"
            ],
            [
             0.8888888888888888,
             "#fdca26"
            ],
            [
             1.0,
             "#f0f921"
            ]
           ],
           "diverging": [
            [
             0,
             "#8e0152"
            ],
            [
             0.1,
             "#c51b7d"
            ],
            [
             0.2,
             "#de77ae"
            ],
            [
             0.3,
             "#f1b6da"
            ],
            [
             0.4,
             "#fde0ef"
            ],
            [
             0.5,
             "#f7f7f7"
            ],
            [
             0.6,
             "#e6f5d0"
            ],
            [
             0.7,
             "#b8e186"
            ],
            [
             0.8,
             "#7fbc41"
            ],
            [
             0.9,
             "#4d9221"
            ],
            [
             1,
             "#276419"
            ]
           ]
          },
          "xaxis": {
           "gridcolor": "#283442",
           "linecolor": "#506784",
           "ticks": "",
           "title": {
            "standoff": 15
           },
           "zerolinecolor": "#283442",
           "automargin": true,
           "zerolinewidth": 2
          },
          "yaxis": {
           "gridcolor": "#283442",
           "linecolor": "#506784",
           "ticks": "",
           "title": {
            "standoff": 15
           },
           "zerolinecolor": "#283442",
           "automargin": true,
           "zerolinewidth": 2
          },
          "scene": {
           "xaxis": {
            "backgroundcolor": "rgb(17,17,17)",
            "gridcolor": "#506784",
            "linecolor": "#506784",
            "showbackground": true,
            "ticks": "",
            "zerolinecolor": "#C8D4E3",
            "gridwidth": 2
           },
           "yaxis": {
            "backgroundcolor": "rgb(17,17,17)",
            "gridcolor": "#506784",
            "linecolor": "#506784",
            "showbackground": true,
            "ticks": "",
            "zerolinecolor": "#C8D4E3",
            "gridwidth": 2
           },
           "zaxis": {
            "backgroundcolor": "rgb(17,17,17)",
            "gridcolor": "#506784",
            "linecolor": "#506784",
            "showbackground": true,
            "ticks": "",
            "zerolinecolor": "#C8D4E3",
            "gridwidth": 2
           }
          },
          "shapedefaults": {
           "line": {
            "color": "#f2f5fa"
           }
          },
          "annotationdefaults": {
           "arrowcolor": "#f2f5fa",
           "arrowhead": 0,
           "arrowwidth": 1
          },
          "geo": {
           "bgcolor": "rgb(17,17,17)",
           "landcolor": "rgb(17,17,17)",
           "subunitcolor": "#506784",
           "showland": true,
           "showlakes": true,
           "lakecolor": "rgb(17,17,17)"
          },
          "title": {
           "x": 0.05
          },
          "updatemenudefaults": {
           "bgcolor": "#506784",
           "borderwidth": 0
          },
          "sliderdefaults": {
           "bgcolor": "#C8D4E3",
           "borderwidth": 1,
           "bordercolor": "rgb(17,17,17)",
           "tickwidth": 0
          },
          "mapbox": {
           "style": "dark"
          }
         }
        },
        "xaxis": {
         "anchor": "y",
         "domain": [
          0.0,
          1.0
         ],
         "title": {
          "text": "user_sex"
         }
        },
        "yaxis": {
         "anchor": "x",
         "domain": [
          0.0,
          1.0
         ],
         "title": {
          "text": "count"
         }
        },
        "legend": {
         "title": {
          "text": "user_country"
         },
         "tracegroupgap": 0
        },
        "title": {
         "text": "Distribution of sex by countries"
        },
        "barmode": "relative"
       },
       "config": {
        "plotlyServerURL": "https://plot.ly"
       }
      },
      "text/html": "<div>                            <div id=\"77b05b58-65b7-4d87-8d78-d91e65bf3b56\" class=\"plotly-graph-div\" style=\"height:525px; width:100%;\"></div>            <script type=\"text/javascript\">                require([\"plotly\"], function(Plotly) {                    window.PLOTLYENV=window.PLOTLYENV || {};                                    if (document.getElementById(\"77b05b58-65b7-4d87-8d78-d91e65bf3b56\")) {                    Plotly.newPlot(                        \"77b05b58-65b7-4d87-8d78-d91e65bf3b56\",                        [{\"alignmentgroup\":\"True\",\"hovertemplate\":\"user_country=Austria\\u003cbr\\u003euser_sex=%{x}\\u003cbr\\u003ecount=%{y}\\u003cextra\\u003e\\u003c\\u002fextra\\u003e\",\"legendgroup\":\"Austria\",\"marker\":{\"color\":\"#636efa\",\"pattern\":{\"shape\":\"\"}},\"name\":\"Austria\",\"offsetgroup\":\"Austria\",\"orientation\":\"v\",\"showlegend\":true,\"textposition\":\"auto\",\"x\":[\"female\",\"male\",\"other\"],\"xaxis\":\"x\",\"y\":[9,9,2],\"yaxis\":\"y\",\"type\":\"bar\"},{\"alignmentgroup\":\"True\",\"hovertemplate\":\"user_country=Belgium\\u003cbr\\u003euser_sex=%{x}\\u003cbr\\u003ecount=%{y}\\u003cextra\\u003e\\u003c\\u002fextra\\u003e\",\"legendgroup\":\"Belgium\",\"marker\":{\"color\":\"#EF553B\",\"pattern\":{\"shape\":\"\"}},\"name\":\"Belgium\",\"offsetgroup\":\"Belgium\",\"orientation\":\"v\",\"showlegend\":true,\"textposition\":\"auto\",\"x\":[\"female\",\"male\",\"other\"],\"xaxis\":\"x\",\"y\":[10,8,5],\"yaxis\":\"y\",\"type\":\"bar\"},{\"alignmentgroup\":\"True\",\"hovertemplate\":\"user_country=Croatia\\u003cbr\\u003euser_sex=%{x}\\u003cbr\\u003ecount=%{y}\\u003cextra\\u003e\\u003c\\u002fextra\\u003e\",\"legendgroup\":\"Croatia\",\"marker\":{\"color\":\"#00cc96\",\"pattern\":{\"shape\":\"\"}},\"name\":\"Croatia\",\"offsetgroup\":\"Croatia\",\"orientation\":\"v\",\"showlegend\":true,\"textposition\":\"auto\",\"x\":[\"female\",\"male\",\"other\"],\"xaxis\":\"x\",\"y\":[20,16,6],\"yaxis\":\"y\",\"type\":\"bar\"},{\"alignmentgroup\":\"True\",\"hovertemplate\":\"user_country=Finland\\u003cbr\\u003euser_sex=%{x}\\u003cbr\\u003ecount=%{y}\\u003cextra\\u003e\\u003c\\u002fextra\\u003e\",\"legendgroup\":\"Finland\",\"marker\":{\"color\":\"#ab63fa\",\"pattern\":{\"shape\":\"\"}},\"name\":\"Finland\",\"offsetgroup\":\"Finland\",\"orientation\":\"v\",\"showlegend\":true,\"textposition\":\"auto\",\"x\":[\"female\",\"male\",\"other\"],\"xaxis\":\"x\",\"y\":[32,20,7],\"yaxis\":\"y\",\"type\":\"bar\"},{\"alignmentgroup\":\"True\",\"hovertemplate\":\"user_country=France\\u003cbr\\u003euser_sex=%{x}\\u003cbr\\u003ecount=%{y}\\u003cextra\\u003e\\u003c\\u002fextra\\u003e\",\"legendgroup\":\"France\",\"marker\":{\"color\":\"#FFA15A\",\"pattern\":{\"shape\":\"\"}},\"name\":\"France\",\"offsetgroup\":\"France\",\"orientation\":\"v\",\"showlegend\":true,\"textposition\":\"auto\",\"x\":[\"female\",\"male\",\"other\"],\"xaxis\":\"x\",\"y\":[14,7,3],\"yaxis\":\"y\",\"type\":\"bar\"},{\"alignmentgroup\":\"True\",\"hovertemplate\":\"user_country=Germany\\u003cbr\\u003euser_sex=%{x}\\u003cbr\\u003ecount=%{y}\\u003cextra\\u003e\\u003c\\u002fextra\\u003e\",\"legendgroup\":\"Germany\",\"marker\":{\"color\":\"#19d3f3\",\"pattern\":{\"shape\":\"\"}},\"name\":\"Germany\",\"offsetgroup\":\"Germany\",\"orientation\":\"v\",\"showlegend\":true,\"textposition\":\"auto\",\"x\":[\"female\",\"male\",\"other\"],\"xaxis\":\"x\",\"y\":[25,19,11],\"yaxis\":\"y\",\"type\":\"bar\"},{\"alignmentgroup\":\"True\",\"hovertemplate\":\"user_country=Greece\\u003cbr\\u003euser_sex=%{x}\\u003cbr\\u003ecount=%{y}\\u003cextra\\u003e\\u003c\\u002fextra\\u003e\",\"legendgroup\":\"Greece\",\"marker\":{\"color\":\"#FF6692\",\"pattern\":{\"shape\":\"\"}},\"name\":\"Greece\",\"offsetgroup\":\"Greece\",\"orientation\":\"v\",\"showlegend\":true,\"textposition\":\"auto\",\"x\":[\"female\",\"male\",\"other\"],\"xaxis\":\"x\",\"y\":[19,7,4],\"yaxis\":\"y\",\"type\":\"bar\"},{\"alignmentgroup\":\"True\",\"hovertemplate\":\"user_country=Netherlands\\u003cbr\\u003euser_sex=%{x}\\u003cbr\\u003ecount=%{y}\\u003cextra\\u003e\\u003c\\u002fextra\\u003e\",\"legendgroup\":\"Netherlands\",\"marker\":{\"color\":\"#B6E880\",\"pattern\":{\"shape\":\"\"}},\"name\":\"Netherlands\",\"offsetgroup\":\"Netherlands\",\"orientation\":\"v\",\"showlegend\":true,\"textposition\":\"auto\",\"x\":[\"female\",\"male\",\"other\"],\"xaxis\":\"x\",\"y\":[3,1,1],\"yaxis\":\"y\",\"type\":\"bar\"},{\"alignmentgroup\":\"True\",\"hovertemplate\":\"user_country=Spain\\u003cbr\\u003euser_sex=%{x}\\u003cbr\\u003ecount=%{y}\\u003cextra\\u003e\\u003c\\u002fextra\\u003e\",\"legendgroup\":\"Spain\",\"marker\":{\"color\":\"#FF97FF\",\"pattern\":{\"shape\":\"\"}},\"name\":\"Spain\",\"offsetgroup\":\"Spain\",\"orientation\":\"v\",\"showlegend\":true,\"textposition\":\"auto\",\"x\":[\"female\",\"male\",\"other\"],\"xaxis\":\"x\",\"y\":[33,31,11],\"yaxis\":\"y\",\"type\":\"bar\"},{\"alignmentgroup\":\"True\",\"hovertemplate\":\"user_country=Sweden\\u003cbr\\u003euser_sex=%{x}\\u003cbr\\u003ecount=%{y}\\u003cextra\\u003e\\u003c\\u002fextra\\u003e\",\"legendgroup\":\"Sweden\",\"marker\":{\"color\":\"#FECB52\",\"pattern\":{\"shape\":\"\"}},\"name\":\"Sweden\",\"offsetgroup\":\"Sweden\",\"orientation\":\"v\",\"showlegend\":true,\"textposition\":\"auto\",\"x\":[\"female\",\"male\",\"other\"],\"xaxis\":\"x\",\"y\":[18,22,7],\"yaxis\":\"y\",\"type\":\"bar\"},{\"alignmentgroup\":\"True\",\"hovertemplate\":\"user_country=Switzerland\\u003cbr\\u003euser_sex=%{x}\\u003cbr\\u003ecount=%{y}\\u003cextra\\u003e\\u003c\\u002fextra\\u003e\",\"legendgroup\":\"Switzerland\",\"marker\":{\"color\":\"#636efa\",\"pattern\":{\"shape\":\"\"}},\"name\":\"Switzerland\",\"offsetgroup\":\"Switzerland\",\"orientation\":\"v\",\"showlegend\":true,\"textposition\":\"auto\",\"x\":[\"female\",\"male\",\"other\"],\"xaxis\":\"x\",\"y\":[33,16,7],\"yaxis\":\"y\",\"type\":\"bar\"},{\"alignmentgroup\":\"True\",\"hovertemplate\":\"user_country=Turkey\\u003cbr\\u003euser_sex=%{x}\\u003cbr\\u003ecount=%{y}\\u003cextra\\u003e\\u003c\\u002fextra\\u003e\",\"legendgroup\":\"Turkey\",\"marker\":{\"color\":\"#EF553B\",\"pattern\":{\"shape\":\"\"}},\"name\":\"Turkey\",\"offsetgroup\":\"Turkey\",\"orientation\":\"v\",\"showlegend\":true,\"textposition\":\"auto\",\"x\":[\"female\",\"male\",\"other\"],\"xaxis\":\"x\",\"y\":[19,25,6],\"yaxis\":\"y\",\"type\":\"bar\"},{\"alignmentgroup\":\"True\",\"hovertemplate\":\"user_country=United Kingdom\\u003cbr\\u003euser_sex=%{x}\\u003cbr\\u003ecount=%{y}\\u003cextra\\u003e\\u003c\\u002fextra\\u003e\",\"legendgroup\":\"United Kingdom\",\"marker\":{\"color\":\"#00cc96\",\"pattern\":{\"shape\":\"\"}},\"name\":\"United Kingdom\",\"offsetgroup\":\"United Kingdom\",\"orientation\":\"v\",\"showlegend\":true,\"textposition\":\"auto\",\"x\":[\"female\",\"male\"],\"xaxis\":\"x\",\"y\":[4,1],\"yaxis\":\"y\",\"type\":\"bar\"}],                        {\"template\":{\"data\":{\"histogram2dcontour\":[{\"type\":\"histogram2dcontour\",\"colorbar\":{\"outlinewidth\":0,\"ticks\":\"\"},\"colorscale\":[[0.0,\"#0d0887\"],[0.1111111111111111,\"#46039f\"],[0.2222222222222222,\"#7201a8\"],[0.3333333333333333,\"#9c179e\"],[0.4444444444444444,\"#bd3786\"],[0.5555555555555556,\"#d8576b\"],[0.6666666666666666,\"#ed7953\"],[0.7777777777777778,\"#fb9f3a\"],[0.8888888888888888,\"#fdca26\"],[1.0,\"#f0f921\"]]}],\"choropleth\":[{\"type\":\"choropleth\",\"colorbar\":{\"outlinewidth\":0,\"ticks\":\"\"}}],\"histogram2d\":[{\"type\":\"histogram2d\",\"colorbar\":{\"outlinewidth\":0,\"ticks\":\"\"},\"colorscale\":[[0.0,\"#0d0887\"],[0.1111111111111111,\"#46039f\"],[0.2222222222222222,\"#7201a8\"],[0.3333333333333333,\"#9c179e\"],[0.4444444444444444,\"#bd3786\"],[0.5555555555555556,\"#d8576b\"],[0.6666666666666666,\"#ed7953\"],[0.7777777777777778,\"#fb9f3a\"],[0.8888888888888888,\"#fdca26\"],[1.0,\"#f0f921\"]]}],\"heatmap\":[{\"type\":\"heatmap\",\"colorbar\":{\"outlinewidth\":0,\"ticks\":\"\"},\"colorscale\":[[0.0,\"#0d0887\"],[0.1111111111111111,\"#46039f\"],[0.2222222222222222,\"#7201a8\"],[0.3333333333333333,\"#9c179e\"],[0.4444444444444444,\"#bd3786\"],[0.5555555555555556,\"#d8576b\"],[0.6666666666666666,\"#ed7953\"],[0.7777777777777778,\"#fb9f3a\"],[0.8888888888888888,\"#fdca26\"],[1.0,\"#f0f921\"]]}],\"heatmapgl\":[{\"type\":\"heatmapgl\",\"colorbar\":{\"outlinewidth\":0,\"ticks\":\"\"},\"colorscale\":[[0.0,\"#0d0887\"],[0.1111111111111111,\"#46039f\"],[0.2222222222222222,\"#7201a8\"],[0.3333333333333333,\"#9c179e\"],[0.4444444444444444,\"#bd3786\"],[0.5555555555555556,\"#d8576b\"],[0.6666666666666666,\"#ed7953\"],[0.7777777777777778,\"#fb9f3a\"],[0.8888888888888888,\"#fdca26\"],[1.0,\"#f0f921\"]]}],\"contourcarpet\":[{\"type\":\"contourcarpet\",\"colorbar\":{\"outlinewidth\":0,\"ticks\":\"\"}}],\"contour\":[{\"type\":\"contour\",\"colorbar\":{\"outlinewidth\":0,\"ticks\":\"\"},\"colorscale\":[[0.0,\"#0d0887\"],[0.1111111111111111,\"#46039f\"],[0.2222222222222222,\"#7201a8\"],[0.3333333333333333,\"#9c179e\"],[0.4444444444444444,\"#bd3786\"],[0.5555555555555556,\"#d8576b\"],[0.6666666666666666,\"#ed7953\"],[0.7777777777777778,\"#fb9f3a\"],[0.8888888888888888,\"#fdca26\"],[1.0,\"#f0f921\"]]}],\"surface\":[{\"type\":\"surface\",\"colorbar\":{\"outlinewidth\":0,\"ticks\":\"\"},\"colorscale\":[[0.0,\"#0d0887\"],[0.1111111111111111,\"#46039f\"],[0.2222222222222222,\"#7201a8\"],[0.3333333333333333,\"#9c179e\"],[0.4444444444444444,\"#bd3786\"],[0.5555555555555556,\"#d8576b\"],[0.6666666666666666,\"#ed7953\"],[0.7777777777777778,\"#fb9f3a\"],[0.8888888888888888,\"#fdca26\"],[1.0,\"#f0f921\"]]}],\"mesh3d\":[{\"type\":\"mesh3d\",\"colorbar\":{\"outlinewidth\":0,\"ticks\":\"\"}}],\"scatter\":[{\"marker\":{\"line\":{\"color\":\"#283442\"}},\"type\":\"scatter\"}],\"parcoords\":[{\"type\":\"parcoords\",\"line\":{\"colorbar\":{\"outlinewidth\":0,\"ticks\":\"\"}}}],\"scatterpolargl\":[{\"type\":\"scatterpolargl\",\"marker\":{\"colorbar\":{\"outlinewidth\":0,\"ticks\":\"\"}}}],\"bar\":[{\"error_x\":{\"color\":\"#f2f5fa\"},\"error_y\":{\"color\":\"#f2f5fa\"},\"marker\":{\"line\":{\"color\":\"rgb(17,17,17)\",\"width\":0.5},\"pattern\":{\"fillmode\":\"overlay\",\"size\":10,\"solidity\":0.2}},\"type\":\"bar\"}],\"scattergeo\":[{\"type\":\"scattergeo\",\"marker\":{\"colorbar\":{\"outlinewidth\":0,\"ticks\":\"\"}}}],\"scatterpolar\":[{\"type\":\"scatterpolar\",\"marker\":{\"colorbar\":{\"outlinewidth\":0,\"ticks\":\"\"}}}],\"histogram\":[{\"marker\":{\"pattern\":{\"fillmode\":\"overlay\",\"size\":10,\"solidity\":0.2}},\"type\":\"histogram\"}],\"scattergl\":[{\"marker\":{\"line\":{\"color\":\"#283442\"}},\"type\":\"scattergl\"}],\"scatter3d\":[{\"type\":\"scatter3d\",\"line\":{\"colorbar\":{\"outlinewidth\":0,\"ticks\":\"\"}},\"marker\":{\"colorbar\":{\"outlinewidth\":0,\"ticks\":\"\"}}}],\"scattermapbox\":[{\"type\":\"scattermapbox\",\"marker\":{\"colorbar\":{\"outlinewidth\":0,\"ticks\":\"\"}}}],\"scatterternary\":[{\"type\":\"scatterternary\",\"marker\":{\"colorbar\":{\"outlinewidth\":0,\"ticks\":\"\"}}}],\"scattercarpet\":[{\"type\":\"scattercarpet\",\"marker\":{\"colorbar\":{\"outlinewidth\":0,\"ticks\":\"\"}}}],\"carpet\":[{\"aaxis\":{\"endlinecolor\":\"#A2B1C6\",\"gridcolor\":\"#506784\",\"linecolor\":\"#506784\",\"minorgridcolor\":\"#506784\",\"startlinecolor\":\"#A2B1C6\"},\"baxis\":{\"endlinecolor\":\"#A2B1C6\",\"gridcolor\":\"#506784\",\"linecolor\":\"#506784\",\"minorgridcolor\":\"#506784\",\"startlinecolor\":\"#A2B1C6\"},\"type\":\"carpet\"}],\"table\":[{\"cells\":{\"fill\":{\"color\":\"#506784\"},\"line\":{\"color\":\"rgb(17,17,17)\"}},\"header\":{\"fill\":{\"color\":\"#2a3f5f\"},\"line\":{\"color\":\"rgb(17,17,17)\"}},\"type\":\"table\"}],\"barpolar\":[{\"marker\":{\"line\":{\"color\":\"rgb(17,17,17)\",\"width\":0.5},\"pattern\":{\"fillmode\":\"overlay\",\"size\":10,\"solidity\":0.2}},\"type\":\"barpolar\"}],\"pie\":[{\"automargin\":true,\"type\":\"pie\"}]},\"layout\":{\"autotypenumbers\":\"strict\",\"colorway\":[\"#636efa\",\"#EF553B\",\"#00cc96\",\"#ab63fa\",\"#FFA15A\",\"#19d3f3\",\"#FF6692\",\"#B6E880\",\"#FF97FF\",\"#FECB52\"],\"font\":{\"color\":\"#f2f5fa\"},\"hovermode\":\"closest\",\"hoverlabel\":{\"align\":\"left\"},\"paper_bgcolor\":\"rgb(17,17,17)\",\"plot_bgcolor\":\"rgb(17,17,17)\",\"polar\":{\"bgcolor\":\"rgb(17,17,17)\",\"angularaxis\":{\"gridcolor\":\"#506784\",\"linecolor\":\"#506784\",\"ticks\":\"\"},\"radialaxis\":{\"gridcolor\":\"#506784\",\"linecolor\":\"#506784\",\"ticks\":\"\"}},\"ternary\":{\"bgcolor\":\"rgb(17,17,17)\",\"aaxis\":{\"gridcolor\":\"#506784\",\"linecolor\":\"#506784\",\"ticks\":\"\"},\"baxis\":{\"gridcolor\":\"#506784\",\"linecolor\":\"#506784\",\"ticks\":\"\"},\"caxis\":{\"gridcolor\":\"#506784\",\"linecolor\":\"#506784\",\"ticks\":\"\"}},\"coloraxis\":{\"colorbar\":{\"outlinewidth\":0,\"ticks\":\"\"}},\"colorscale\":{\"sequential\":[[0.0,\"#0d0887\"],[0.1111111111111111,\"#46039f\"],[0.2222222222222222,\"#7201a8\"],[0.3333333333333333,\"#9c179e\"],[0.4444444444444444,\"#bd3786\"],[0.5555555555555556,\"#d8576b\"],[0.6666666666666666,\"#ed7953\"],[0.7777777777777778,\"#fb9f3a\"],[0.8888888888888888,\"#fdca26\"],[1.0,\"#f0f921\"]],\"sequentialminus\":[[0.0,\"#0d0887\"],[0.1111111111111111,\"#46039f\"],[0.2222222222222222,\"#7201a8\"],[0.3333333333333333,\"#9c179e\"],[0.4444444444444444,\"#bd3786\"],[0.5555555555555556,\"#d8576b\"],[0.6666666666666666,\"#ed7953\"],[0.7777777777777778,\"#fb9f3a\"],[0.8888888888888888,\"#fdca26\"],[1.0,\"#f0f921\"]],\"diverging\":[[0,\"#8e0152\"],[0.1,\"#c51b7d\"],[0.2,\"#de77ae\"],[0.3,\"#f1b6da\"],[0.4,\"#fde0ef\"],[0.5,\"#f7f7f7\"],[0.6,\"#e6f5d0\"],[0.7,\"#b8e186\"],[0.8,\"#7fbc41\"],[0.9,\"#4d9221\"],[1,\"#276419\"]]},\"xaxis\":{\"gridcolor\":\"#283442\",\"linecolor\":\"#506784\",\"ticks\":\"\",\"title\":{\"standoff\":15},\"zerolinecolor\":\"#283442\",\"automargin\":true,\"zerolinewidth\":2},\"yaxis\":{\"gridcolor\":\"#283442\",\"linecolor\":\"#506784\",\"ticks\":\"\",\"title\":{\"standoff\":15},\"zerolinecolor\":\"#283442\",\"automargin\":true,\"zerolinewidth\":2},\"scene\":{\"xaxis\":{\"backgroundcolor\":\"rgb(17,17,17)\",\"gridcolor\":\"#506784\",\"linecolor\":\"#506784\",\"showbackground\":true,\"ticks\":\"\",\"zerolinecolor\":\"#C8D4E3\",\"gridwidth\":2},\"yaxis\":{\"backgroundcolor\":\"rgb(17,17,17)\",\"gridcolor\":\"#506784\",\"linecolor\":\"#506784\",\"showbackground\":true,\"ticks\":\"\",\"zerolinecolor\":\"#C8D4E3\",\"gridwidth\":2},\"zaxis\":{\"backgroundcolor\":\"rgb(17,17,17)\",\"gridcolor\":\"#506784\",\"linecolor\":\"#506784\",\"showbackground\":true,\"ticks\":\"\",\"zerolinecolor\":\"#C8D4E3\",\"gridwidth\":2}},\"shapedefaults\":{\"line\":{\"color\":\"#f2f5fa\"}},\"annotationdefaults\":{\"arrowcolor\":\"#f2f5fa\",\"arrowhead\":0,\"arrowwidth\":1},\"geo\":{\"bgcolor\":\"rgb(17,17,17)\",\"landcolor\":\"rgb(17,17,17)\",\"subunitcolor\":\"#506784\",\"showland\":true,\"showlakes\":true,\"lakecolor\":\"rgb(17,17,17)\"},\"title\":{\"x\":0.05},\"updatemenudefaults\":{\"bgcolor\":\"#506784\",\"borderwidth\":0},\"sliderdefaults\":{\"bgcolor\":\"#C8D4E3\",\"borderwidth\":1,\"bordercolor\":\"rgb(17,17,17)\",\"tickwidth\":0},\"mapbox\":{\"style\":\"dark\"}}},\"xaxis\":{\"anchor\":\"y\",\"domain\":[0.0,1.0],\"title\":{\"text\":\"user_sex\"}},\"yaxis\":{\"anchor\":\"x\",\"domain\":[0.0,1.0],\"title\":{\"text\":\"count\"}},\"legend\":{\"title\":{\"text\":\"user_country\"},\"tracegroupgap\":0},\"title\":{\"text\":\"Distribution of sex by countries\"},\"barmode\":\"relative\"},                        {\"responsive\": true}                    ).then(function(){\n                            \nvar gd = document.getElementById('77b05b58-65b7-4d87-8d78-d91e65bf3b56');\nvar x = new MutationObserver(function (mutations, observer) {{\n        var display = window.getComputedStyle(gd).display;\n        if (!display || display === 'none') {{\n            console.log([gd, 'removed!']);\n            Plotly.purge(gd);\n            observer.disconnect();\n        }}\n}});\n\n// Listen for the removal of the full notebook cells\nvar notebookContainer = gd.closest('#notebook-container');\nif (notebookContainer) {{\n    x.observe(notebookContainer, {childList: true});\n}}\n\n// Listen for the clearing of the current output cell\nvar outputEl = gd.closest('.output');\nif (outputEl) {{\n    x.observe(outputEl, {childList: true});\n}}\n\n                        })                };                });            </script>        </div>"
     },
     "metadata": {},
     "output_type": "display_data"
    }
   ],
   "source": [
    "df_grouped = df.groupby(['user_sex', 'user_country']).size().reset_index(name='count')\n",
    "fig = px.bar(df_grouped, x='user_sex', y='count', color='user_country', template='plotly_dark', title='Distribution of sex by countries')\n",
    "fig.show()"
   ],
   "metadata": {
    "collapsed": false,
    "ExecuteTime": {
     "end_time": "2024-02-11T19:06:29.640099500Z",
     "start_time": "2024-02-11T19:06:29.499748900Z"
    }
   },
   "id": "cbe668ef2217a63d",
   "execution_count": 158
  },
  {
   "cell_type": "code",
   "outputs": [
    {
     "data": {
      "application/vnd.plotly.v1+json": {
       "data": [
        {
         "alignmentgroup": "True",
         "bingroup": "x",
         "histfunc": "sum",
         "hovertemplate": "favourite_character=%{x}<br>user_age=50<br>sum of user_age=%{y}<extra></extra>",
         "legendgroup": "Severus Snape, 50",
         "marker": {
          "color": "#636efa",
          "pattern": {
           "shape": ""
          }
         },
         "name": "Severus Snape, 50",
         "offsetgroup": "Severus Snape, 50",
         "orientation": "v",
         "showlegend": true,
         "x": [
          "Severus Snape",
          "Severus Snape",
          "Severus Snape",
          "Severus Snape"
         ],
         "xaxis": "x",
         "y": [
          50,
          50,
          50,
          50
         ],
         "yaxis": "y",
         "type": "histogram"
        },
        {
         "alignmentgroup": "True",
         "bingroup": "x",
         "histfunc": "sum",
         "hovertemplate": "favourite_character=%{x}<br>user_age=23<br>sum of user_age=%{y}<extra></extra>",
         "legendgroup": "Severus Snape, 23",
         "marker": {
          "color": "#636efa",
          "pattern": {
           "shape": "/"
          }
         },
         "name": "Severus Snape, 23",
         "offsetgroup": "Severus Snape, 23",
         "orientation": "v",
         "showlegend": true,
         "x": [
          "Severus Snape"
         ],
         "xaxis": "x",
         "y": [
          23
         ],
         "yaxis": "y",
         "type": "histogram"
        },
        {
         "alignmentgroup": "True",
         "bingroup": "x",
         "histfunc": "sum",
         "hovertemplate": "favourite_character=%{x}<br>user_age=32<br>sum of user_age=%{y}<extra></extra>",
         "legendgroup": "Severus Snape, 32",
         "marker": {
          "color": "#636efa",
          "pattern": {
           "shape": "\\"
          }
         },
         "name": "Severus Snape, 32",
         "offsetgroup": "Severus Snape, 32",
         "orientation": "v",
         "showlegend": true,
         "x": [
          "Severus Snape",
          "Severus Snape",
          "Severus Snape"
         ],
         "xaxis": "x",
         "y": [
          32,
          32,
          32
         ],
         "yaxis": "y",
         "type": "histogram"
        },
        {
         "alignmentgroup": "True",
         "bingroup": "x",
         "histfunc": "sum",
         "hovertemplate": "favourite_character=%{x}<br>user_age=24<br>sum of user_age=%{y}<extra></extra>",
         "legendgroup": "Severus Snape, 24",
         "marker": {
          "color": "#636efa",
          "pattern": {
           "shape": "x"
          }
         },
         "name": "Severus Snape, 24",
         "offsetgroup": "Severus Snape, 24",
         "orientation": "v",
         "showlegend": true,
         "x": [
          "Severus Snape"
         ],
         "xaxis": "x",
         "y": [
          24
         ],
         "yaxis": "y",
         "type": "histogram"
        },
        {
         "alignmentgroup": "True",
         "bingroup": "x",
         "histfunc": "sum",
         "hovertemplate": "favourite_character=%{x}<br>user_age=26<br>sum of user_age=%{y}<extra></extra>",
         "legendgroup": "Severus Snape, 26",
         "marker": {
          "color": "#636efa",
          "pattern": {
           "shape": ""
          }
         },
         "name": "Severus Snape, 26",
         "offsetgroup": "Severus Snape, 26",
         "orientation": "v",
         "showlegend": true,
         "x": [
          "Severus Snape",
          "Severus Snape",
          "Severus Snape"
         ],
         "xaxis": "x",
         "y": [
          26,
          26,
          26
         ],
         "yaxis": "y",
         "type": "histogram"
        },
        {
         "alignmentgroup": "True",
         "bingroup": "x",
         "histfunc": "sum",
         "hovertemplate": "favourite_character=%{x}<br>user_age=28<br>sum of user_age=%{y}<extra></extra>",
         "legendgroup": "Severus Snape, 28",
         "marker": {
          "color": "#636efa",
          "pattern": {
           "shape": "/"
          }
         },
         "name": "Severus Snape, 28",
         "offsetgroup": "Severus Snape, 28",
         "orientation": "v",
         "showlegend": true,
         "x": [
          "Severus Snape"
         ],
         "xaxis": "x",
         "y": [
          28
         ],
         "yaxis": "y",
         "type": "histogram"
        },
        {
         "alignmentgroup": "True",
         "bingroup": "x",
         "histfunc": "sum",
         "hovertemplate": "favourite_character=%{x}<br>user_age=34<br>sum of user_age=%{y}<extra></extra>",
         "legendgroup": "Severus Snape, 34",
         "marker": {
          "color": "#636efa",
          "pattern": {
           "shape": "+"
          }
         },
         "name": "Severus Snape, 34",
         "offsetgroup": "Severus Snape, 34",
         "orientation": "v",
         "showlegend": true,
         "x": [
          "Severus Snape",
          "Severus Snape"
         ],
         "xaxis": "x",
         "y": [
          34,
          34
         ],
         "yaxis": "y",
         "type": "histogram"
        },
        {
         "alignmentgroup": "True",
         "bingroup": "x",
         "histfunc": "sum",
         "hovertemplate": "favourite_character=%{x}<br>user_age=51<br>sum of user_age=%{y}<extra></extra>",
         "legendgroup": "Severus Snape, 51",
         "marker": {
          "color": "#636efa",
          "pattern": {
           "shape": "."
          }
         },
         "name": "Severus Snape, 51",
         "offsetgroup": "Severus Snape, 51",
         "orientation": "v",
         "showlegend": true,
         "x": [
          "Severus Snape"
         ],
         "xaxis": "x",
         "y": [
          51
         ],
         "yaxis": "y",
         "type": "histogram"
        },
        {
         "alignmentgroup": "True",
         "bingroup": "x",
         "histfunc": "sum",
         "hovertemplate": "favourite_character=%{x}<br>user_age=38<br>sum of user_age=%{y}<extra></extra>",
         "legendgroup": "Severus Snape, 38",
         "marker": {
          "color": "#636efa",
          "pattern": {
           "shape": ""
          }
         },
         "name": "Severus Snape, 38",
         "offsetgroup": "Severus Snape, 38",
         "orientation": "v",
         "showlegend": true,
         "x": [
          "Severus Snape"
         ],
         "xaxis": "x",
         "y": [
          38
         ],
         "yaxis": "y",
         "type": "histogram"
        },
        {
         "alignmentgroup": "True",
         "bingroup": "x",
         "histfunc": "sum",
         "hovertemplate": "favourite_character=%{x}<br>user_age=39<br>sum of user_age=%{y}<extra></extra>",
         "legendgroup": "Severus Snape, 39",
         "marker": {
          "color": "#636efa",
          "pattern": {
           "shape": "\\"
          }
         },
         "name": "Severus Snape, 39",
         "offsetgroup": "Severus Snape, 39",
         "orientation": "v",
         "showlegend": true,
         "x": [
          "Severus Snape",
          "Severus Snape"
         ],
         "xaxis": "x",
         "y": [
          39,
          39
         ],
         "yaxis": "y",
         "type": "histogram"
        },
        {
         "alignmentgroup": "True",
         "bingroup": "x",
         "histfunc": "sum",
         "hovertemplate": "favourite_character=%{x}<br>user_age=30<br>sum of user_age=%{y}<extra></extra>",
         "legendgroup": "Severus Snape, 30",
         "marker": {
          "color": "#636efa",
          "pattern": {
           "shape": "/"
          }
         },
         "name": "Severus Snape, 30",
         "offsetgroup": "Severus Snape, 30",
         "orientation": "v",
         "showlegend": true,
         "x": [
          "Severus Snape",
          "Severus Snape"
         ],
         "xaxis": "x",
         "y": [
          30,
          30
         ],
         "yaxis": "y",
         "type": "histogram"
        },
        {
         "alignmentgroup": "True",
         "bingroup": "x",
         "histfunc": "sum",
         "hovertemplate": "favourite_character=%{x}<br>user_age=33<br>sum of user_age=%{y}<extra></extra>",
         "legendgroup": "Severus Snape, 33",
         "marker": {
          "color": "#636efa",
          "pattern": {
           "shape": "\\"
          }
         },
         "name": "Severus Snape, 33",
         "offsetgroup": "Severus Snape, 33",
         "orientation": "v",
         "showlegend": true,
         "x": [
          "Severus Snape",
          "Severus Snape",
          "Severus Snape"
         ],
         "xaxis": "x",
         "y": [
          33,
          33,
          33
         ],
         "yaxis": "y",
         "type": "histogram"
        },
        {
         "alignmentgroup": "True",
         "bingroup": "x",
         "histfunc": "sum",
         "hovertemplate": "favourite_character=%{x}<br>user_age=48<br>sum of user_age=%{y}<extra></extra>",
         "legendgroup": "Severus Snape, 48",
         "marker": {
          "color": "#636efa",
          "pattern": {
           "shape": "x"
          }
         },
         "name": "Severus Snape, 48",
         "offsetgroup": "Severus Snape, 48",
         "orientation": "v",
         "showlegend": true,
         "x": [
          "Severus Snape",
          "Severus Snape",
          "Severus Snape",
          "Severus Snape"
         ],
         "xaxis": "x",
         "y": [
          48,
          48,
          48,
          48
         ],
         "yaxis": "y",
         "type": "histogram"
        },
        {
         "alignmentgroup": "True",
         "bingroup": "x",
         "histfunc": "sum",
         "hovertemplate": "favourite_character=%{x}<br>user_age=35<br>sum of user_age=%{y}<extra></extra>",
         "legendgroup": "Severus Snape, 35",
         "marker": {
          "color": "#636efa",
          "pattern": {
           "shape": "+"
          }
         },
         "name": "Severus Snape, 35",
         "offsetgroup": "Severus Snape, 35",
         "orientation": "v",
         "showlegend": true,
         "x": [
          "Severus Snape",
          "Severus Snape"
         ],
         "xaxis": "x",
         "y": [
          35,
          35
         ],
         "yaxis": "y",
         "type": "histogram"
        },
        {
         "alignmentgroup": "True",
         "bingroup": "x",
         "histfunc": "sum",
         "hovertemplate": "favourite_character=%{x}<br>user_age=29<br>sum of user_age=%{y}<extra></extra>",
         "legendgroup": "Severus Snape, 29",
         "marker": {
          "color": "#636efa",
          "pattern": {
           "shape": "."
          }
         },
         "name": "Severus Snape, 29",
         "offsetgroup": "Severus Snape, 29",
         "orientation": "v",
         "showlegend": true,
         "x": [
          "Severus Snape"
         ],
         "xaxis": "x",
         "y": [
          29
         ],
         "yaxis": "y",
         "type": "histogram"
        },
        {
         "alignmentgroup": "True",
         "bingroup": "x",
         "histfunc": "sum",
         "hovertemplate": "favourite_character=%{x}<br>user_age=44<br>sum of user_age=%{y}<extra></extra>",
         "legendgroup": "Severus Snape, 44",
         "marker": {
          "color": "#636efa",
          "pattern": {
           "shape": ""
          }
         },
         "name": "Severus Snape, 44",
         "offsetgroup": "Severus Snape, 44",
         "orientation": "v",
         "showlegend": true,
         "x": [
          "Severus Snape"
         ],
         "xaxis": "x",
         "y": [
          44
         ],
         "yaxis": "y",
         "type": "histogram"
        },
        {
         "alignmentgroup": "True",
         "bingroup": "x",
         "histfunc": "sum",
         "hovertemplate": "favourite_character=%{x}<br>user_age=36<br>sum of user_age=%{y}<extra></extra>",
         "legendgroup": "Severus Snape, 36",
         "marker": {
          "color": "#636efa",
          "pattern": {
           "shape": "/"
          }
         },
         "name": "Severus Snape, 36",
         "offsetgroup": "Severus Snape, 36",
         "orientation": "v",
         "showlegend": true,
         "x": [
          "Severus Snape",
          "Severus Snape"
         ],
         "xaxis": "x",
         "y": [
          36,
          36
         ],
         "yaxis": "y",
         "type": "histogram"
        },
        {
         "alignmentgroup": "True",
         "bingroup": "x",
         "histfunc": "sum",
         "hovertemplate": "favourite_character=%{x}<br>user_age=25<br>sum of user_age=%{y}<extra></extra>",
         "legendgroup": "Severus Snape, 25",
         "marker": {
          "color": "#636efa",
          "pattern": {
           "shape": "x"
          }
         },
         "name": "Severus Snape, 25",
         "offsetgroup": "Severus Snape, 25",
         "orientation": "v",
         "showlegend": true,
         "x": [
          "Severus Snape"
         ],
         "xaxis": "x",
         "y": [
          25
         ],
         "yaxis": "y",
         "type": "histogram"
        },
        {
         "alignmentgroup": "True",
         "bingroup": "x",
         "histfunc": "sum",
         "hovertemplate": "favourite_character=%{x}<br>user_age=41<br>sum of user_age=%{y}<extra></extra>",
         "legendgroup": "Severus Snape, 41",
         "marker": {
          "color": "#636efa",
          "pattern": {
           "shape": ""
          }
         },
         "name": "Severus Snape, 41",
         "offsetgroup": "Severus Snape, 41",
         "orientation": "v",
         "showlegend": true,
         "x": [
          "Severus Snape",
          "Severus Snape"
         ],
         "xaxis": "x",
         "y": [
          41,
          41
         ],
         "yaxis": "y",
         "type": "histogram"
        },
        {
         "alignmentgroup": "True",
         "bingroup": "x",
         "histfunc": "sum",
         "hovertemplate": "favourite_character=%{x}<br>user_age=18<br>sum of user_age=%{y}<extra></extra>",
         "legendgroup": "Severus Snape, 18",
         "marker": {
          "color": "#636efa",
          "pattern": {
           "shape": "."
          }
         },
         "name": "Severus Snape, 18",
         "offsetgroup": "Severus Snape, 18",
         "orientation": "v",
         "showlegend": true,
         "x": [
          "Severus Snape"
         ],
         "xaxis": "x",
         "y": [
          18
         ],
         "yaxis": "y",
         "type": "histogram"
        },
        {
         "alignmentgroup": "True",
         "bingroup": "x",
         "histfunc": "sum",
         "hovertemplate": "favourite_character=%{x}<br>user_age=42<br>sum of user_age=%{y}<extra></extra>",
         "legendgroup": "Severus Snape, 42",
         "marker": {
          "color": "#636efa",
          "pattern": {
           "shape": "\\"
          }
         },
         "name": "Severus Snape, 42",
         "offsetgroup": "Severus Snape, 42",
         "orientation": "v",
         "showlegend": true,
         "x": [
          "Severus Snape"
         ],
         "xaxis": "x",
         "y": [
          42
         ],
         "yaxis": "y",
         "type": "histogram"
        },
        {
         "alignmentgroup": "True",
         "bingroup": "x",
         "histfunc": "sum",
         "hovertemplate": "favourite_character=%{x}<br>user_age=43<br>sum of user_age=%{y}<extra></extra>",
         "legendgroup": "Severus Snape, 43",
         "marker": {
          "color": "#636efa",
          "pattern": {
           "shape": "x"
          }
         },
         "name": "Severus Snape, 43",
         "offsetgroup": "Severus Snape, 43",
         "orientation": "v",
         "showlegend": true,
         "x": [
          "Severus Snape",
          "Severus Snape"
         ],
         "xaxis": "x",
         "y": [
          43,
          43
         ],
         "yaxis": "y",
         "type": "histogram"
        },
        {
         "alignmentgroup": "True",
         "bingroup": "x",
         "histfunc": "sum",
         "hovertemplate": "favourite_character=%{x}<br>user_age=37<br>sum of user_age=%{y}<extra></extra>",
         "legendgroup": "Severus Snape, 37",
         "marker": {
          "color": "#636efa",
          "pattern": {
           "shape": "+"
          }
         },
         "name": "Severus Snape, 37",
         "offsetgroup": "Severus Snape, 37",
         "orientation": "v",
         "showlegend": true,
         "x": [
          "Severus Snape",
          "Severus Snape"
         ],
         "xaxis": "x",
         "y": [
          37,
          37
         ],
         "yaxis": "y",
         "type": "histogram"
        },
        {
         "alignmentgroup": "True",
         "bingroup": "x",
         "histfunc": "sum",
         "hovertemplate": "favourite_character=%{x}<br>user_age=15<br>sum of user_age=%{y}<extra></extra>",
         "legendgroup": "Severus Snape, 15",
         "marker": {
          "color": "#636efa",
          "pattern": {
           "shape": "."
          }
         },
         "name": "Severus Snape, 15",
         "offsetgroup": "Severus Snape, 15",
         "orientation": "v",
         "showlegend": true,
         "x": [
          "Severus Snape"
         ],
         "xaxis": "x",
         "y": [
          15
         ],
         "yaxis": "y",
         "type": "histogram"
        },
        {
         "alignmentgroup": "True",
         "bingroup": "x",
         "histfunc": "sum",
         "hovertemplate": "favourite_character=%{x}<br>user_age=14<br>sum of user_age=%{y}<extra></extra>",
         "legendgroup": "Severus Snape, 14",
         "marker": {
          "color": "#636efa",
          "pattern": {
           "shape": "x"
          }
         },
         "name": "Severus Snape, 14",
         "offsetgroup": "Severus Snape, 14",
         "orientation": "v",
         "showlegend": true,
         "x": [
          "Severus Snape"
         ],
         "xaxis": "x",
         "y": [
          14
         ],
         "yaxis": "y",
         "type": "histogram"
        },
        {
         "alignmentgroup": "True",
         "bingroup": "x",
         "histfunc": "sum",
         "hovertemplate": "favourite_character=%{x}<br>user_age=27<br>sum of user_age=%{y}<extra></extra>",
         "legendgroup": "Severus Snape, 27",
         "marker": {
          "color": "#636efa",
          "pattern": {
           "shape": "+"
          }
         },
         "name": "Severus Snape, 27",
         "offsetgroup": "Severus Snape, 27",
         "orientation": "v",
         "showlegend": true,
         "x": [
          "Severus Snape",
          "Severus Snape",
          "Severus Snape"
         ],
         "xaxis": "x",
         "y": [
          27,
          27,
          27
         ],
         "yaxis": "y",
         "type": "histogram"
        },
        {
         "alignmentgroup": "True",
         "bingroup": "x",
         "histfunc": "sum",
         "hovertemplate": "favourite_character=%{x}<br>user_age=49<br>sum of user_age=%{y}<extra></extra>",
         "legendgroup": "Severus Snape, 49",
         "marker": {
          "color": "#636efa",
          "pattern": {
           "shape": "/"
          }
         },
         "name": "Severus Snape, 49",
         "offsetgroup": "Severus Snape, 49",
         "orientation": "v",
         "showlegend": true,
         "x": [
          "Severus Snape",
          "Severus Snape"
         ],
         "xaxis": "x",
         "y": [
          49,
          49
         ],
         "yaxis": "y",
         "type": "histogram"
        },
        {
         "alignmentgroup": "True",
         "bingroup": "x",
         "histfunc": "sum",
         "hovertemplate": "favourite_character=%{x}<br>user_age=50<br>sum of user_age=%{y}<extra></extra>",
         "legendgroup": "Ron Weasley, 50",
         "marker": {
          "color": "#EF553B",
          "pattern": {
           "shape": ""
          }
         },
         "name": "Ron Weasley, 50",
         "offsetgroup": "Ron Weasley, 50",
         "orientation": "v",
         "showlegend": true,
         "x": [
          "Ron Weasley",
          "Ron Weasley"
         ],
         "xaxis": "x",
         "y": [
          50,
          50
         ],
         "yaxis": "y",
         "type": "histogram"
        },
        {
         "alignmentgroup": "True",
         "bingroup": "x",
         "histfunc": "sum",
         "hovertemplate": "favourite_character=%{x}<br>user_age=23<br>sum of user_age=%{y}<extra></extra>",
         "legendgroup": "Ron Weasley, 23",
         "marker": {
          "color": "#EF553B",
          "pattern": {
           "shape": "/"
          }
         },
         "name": "Ron Weasley, 23",
         "offsetgroup": "Ron Weasley, 23",
         "orientation": "v",
         "showlegend": true,
         "x": [
          "Ron Weasley",
          "Ron Weasley"
         ],
         "xaxis": "x",
         "y": [
          23,
          23
         ],
         "yaxis": "y",
         "type": "histogram"
        },
        {
         "alignmentgroup": "True",
         "bingroup": "x",
         "histfunc": "sum",
         "hovertemplate": "favourite_character=%{x}<br>user_age=32<br>sum of user_age=%{y}<extra></extra>",
         "legendgroup": "Ron Weasley, 32",
         "marker": {
          "color": "#EF553B",
          "pattern": {
           "shape": "\\"
          }
         },
         "name": "Ron Weasley, 32",
         "offsetgroup": "Ron Weasley, 32",
         "orientation": "v",
         "showlegend": true,
         "x": [
          "Ron Weasley",
          "Ron Weasley",
          "Ron Weasley"
         ],
         "xaxis": "x",
         "y": [
          32,
          32,
          32
         ],
         "yaxis": "y",
         "type": "histogram"
        },
        {
         "alignmentgroup": "True",
         "bingroup": "x",
         "histfunc": "sum",
         "hovertemplate": "favourite_character=%{x}<br>user_age=24<br>sum of user_age=%{y}<extra></extra>",
         "legendgroup": "Ron Weasley, 24",
         "marker": {
          "color": "#EF553B",
          "pattern": {
           "shape": "x"
          }
         },
         "name": "Ron Weasley, 24",
         "offsetgroup": "Ron Weasley, 24",
         "orientation": "v",
         "showlegend": true,
         "x": [
          "Ron Weasley",
          "Ron Weasley",
          "Ron Weasley"
         ],
         "xaxis": "x",
         "y": [
          24,
          24,
          24
         ],
         "yaxis": "y",
         "type": "histogram"
        },
        {
         "alignmentgroup": "True",
         "bingroup": "x",
         "histfunc": "sum",
         "hovertemplate": "favourite_character=%{x}<br>user_age=40<br>sum of user_age=%{y}<extra></extra>",
         "legendgroup": "Ron Weasley, 40",
         "marker": {
          "color": "#EF553B",
          "pattern": {
           "shape": "+"
          }
         },
         "name": "Ron Weasley, 40",
         "offsetgroup": "Ron Weasley, 40",
         "orientation": "v",
         "showlegend": true,
         "x": [
          "Ron Weasley",
          "Ron Weasley",
          "Ron Weasley"
         ],
         "xaxis": "x",
         "y": [
          40,
          40,
          40
         ],
         "yaxis": "y",
         "type": "histogram"
        },
        {
         "alignmentgroup": "True",
         "bingroup": "x",
         "histfunc": "sum",
         "hovertemplate": "favourite_character=%{x}<br>user_age=16<br>sum of user_age=%{y}<extra></extra>",
         "legendgroup": "Ron Weasley, 16",
         "marker": {
          "color": "#EF553B",
          "pattern": {
           "shape": "."
          }
         },
         "name": "Ron Weasley, 16",
         "offsetgroup": "Ron Weasley, 16",
         "orientation": "v",
         "showlegend": true,
         "x": [
          "Ron Weasley"
         ],
         "xaxis": "x",
         "y": [
          16
         ],
         "yaxis": "y",
         "type": "histogram"
        },
        {
         "alignmentgroup": "True",
         "bingroup": "x",
         "histfunc": "sum",
         "hovertemplate": "favourite_character=%{x}<br>user_age=26<br>sum of user_age=%{y}<extra></extra>",
         "legendgroup": "Ron Weasley, 26",
         "marker": {
          "color": "#EF553B",
          "pattern": {
           "shape": ""
          }
         },
         "name": "Ron Weasley, 26",
         "offsetgroup": "Ron Weasley, 26",
         "orientation": "v",
         "showlegend": true,
         "x": [
          "Ron Weasley"
         ],
         "xaxis": "x",
         "y": [
          26
         ],
         "yaxis": "y",
         "type": "histogram"
        },
        {
         "alignmentgroup": "True",
         "bingroup": "x",
         "histfunc": "sum",
         "hovertemplate": "favourite_character=%{x}<br>user_age=28<br>sum of user_age=%{y}<extra></extra>",
         "legendgroup": "Ron Weasley, 28",
         "marker": {
          "color": "#EF553B",
          "pattern": {
           "shape": "/"
          }
         },
         "name": "Ron Weasley, 28",
         "offsetgroup": "Ron Weasley, 28",
         "orientation": "v",
         "showlegend": true,
         "x": [
          "Ron Weasley",
          "Ron Weasley",
          "Ron Weasley"
         ],
         "xaxis": "x",
         "y": [
          28,
          28,
          28
         ],
         "yaxis": "y",
         "type": "histogram"
        },
        {
         "alignmentgroup": "True",
         "bingroup": "x",
         "histfunc": "sum",
         "hovertemplate": "favourite_character=%{x}<br>user_age=52<br>sum of user_age=%{y}<extra></extra>",
         "legendgroup": "Ron Weasley, 52",
         "marker": {
          "color": "#EF553B",
          "pattern": {
           "shape": "\\"
          }
         },
         "name": "Ron Weasley, 52",
         "offsetgroup": "Ron Weasley, 52",
         "orientation": "v",
         "showlegend": true,
         "x": [
          "Ron Weasley",
          "Ron Weasley"
         ],
         "xaxis": "x",
         "y": [
          52,
          52
         ],
         "yaxis": "y",
         "type": "histogram"
        },
        {
         "alignmentgroup": "True",
         "bingroup": "x",
         "histfunc": "sum",
         "hovertemplate": "favourite_character=%{x}<br>user_age=46<br>sum of user_age=%{y}<extra></extra>",
         "legendgroup": "Ron Weasley, 46",
         "marker": {
          "color": "#EF553B",
          "pattern": {
           "shape": "x"
          }
         },
         "name": "Ron Weasley, 46",
         "offsetgroup": "Ron Weasley, 46",
         "orientation": "v",
         "showlegend": true,
         "x": [
          "Ron Weasley"
         ],
         "xaxis": "x",
         "y": [
          46
         ],
         "yaxis": "y",
         "type": "histogram"
        },
        {
         "alignmentgroup": "True",
         "bingroup": "x",
         "histfunc": "sum",
         "hovertemplate": "favourite_character=%{x}<br>user_age=34<br>sum of user_age=%{y}<extra></extra>",
         "legendgroup": "Ron Weasley, 34",
         "marker": {
          "color": "#EF553B",
          "pattern": {
           "shape": "+"
          }
         },
         "name": "Ron Weasley, 34",
         "offsetgroup": "Ron Weasley, 34",
         "orientation": "v",
         "showlegend": true,
         "x": [
          "Ron Weasley",
          "Ron Weasley",
          "Ron Weasley",
          "Ron Weasley"
         ],
         "xaxis": "x",
         "y": [
          34,
          34,
          34,
          34
         ],
         "yaxis": "y",
         "type": "histogram"
        },
        {
         "alignmentgroup": "True",
         "bingroup": "x",
         "histfunc": "sum",
         "hovertemplate": "favourite_character=%{x}<br>user_age=38<br>sum of user_age=%{y}<extra></extra>",
         "legendgroup": "Ron Weasley, 38",
         "marker": {
          "color": "#EF553B",
          "pattern": {
           "shape": ""
          }
         },
         "name": "Ron Weasley, 38",
         "offsetgroup": "Ron Weasley, 38",
         "orientation": "v",
         "showlegend": true,
         "x": [
          "Ron Weasley",
          "Ron Weasley"
         ],
         "xaxis": "x",
         "y": [
          38,
          38
         ],
         "yaxis": "y",
         "type": "histogram"
        },
        {
         "alignmentgroup": "True",
         "bingroup": "x",
         "histfunc": "sum",
         "hovertemplate": "favourite_character=%{x}<br>user_age=47<br>sum of user_age=%{y}<extra></extra>",
         "legendgroup": "Ron Weasley, 47",
         "marker": {
          "color": "#EF553B",
          "pattern": {
           "shape": "/"
          }
         },
         "name": "Ron Weasley, 47",
         "offsetgroup": "Ron Weasley, 47",
         "orientation": "v",
         "showlegend": true,
         "x": [
          "Ron Weasley",
          "Ron Weasley"
         ],
         "xaxis": "x",
         "y": [
          47,
          47
         ],
         "yaxis": "y",
         "type": "histogram"
        },
        {
         "alignmentgroup": "True",
         "bingroup": "x",
         "histfunc": "sum",
         "hovertemplate": "favourite_character=%{x}<br>user_age=31<br>sum of user_age=%{y}<extra></extra>",
         "legendgroup": "Ron Weasley, 31",
         "marker": {
          "color": "#EF553B",
          "pattern": {
           "shape": "+"
          }
         },
         "name": "Ron Weasley, 31",
         "offsetgroup": "Ron Weasley, 31",
         "orientation": "v",
         "showlegend": true,
         "x": [
          "Ron Weasley",
          "Ron Weasley"
         ],
         "xaxis": "x",
         "y": [
          31,
          31
         ],
         "yaxis": "y",
         "type": "histogram"
        },
        {
         "alignmentgroup": "True",
         "bingroup": "x",
         "histfunc": "sum",
         "hovertemplate": "favourite_character=%{x}<br>user_age=22<br>sum of user_age=%{y}<extra></extra>",
         "legendgroup": "Ron Weasley, 22",
         "marker": {
          "color": "#EF553B",
          "pattern": {
           "shape": "."
          }
         },
         "name": "Ron Weasley, 22",
         "offsetgroup": "Ron Weasley, 22",
         "orientation": "v",
         "showlegend": true,
         "x": [
          "Ron Weasley"
         ],
         "xaxis": "x",
         "y": [
          22
         ],
         "yaxis": "y",
         "type": "histogram"
        },
        {
         "alignmentgroup": "True",
         "bingroup": "x",
         "histfunc": "sum",
         "hovertemplate": "favourite_character=%{x}<br>user_age=57<br>sum of user_age=%{y}<extra></extra>",
         "legendgroup": "Ron Weasley, 57",
         "marker": {
          "color": "#EF553B",
          "pattern": {
           "shape": ""
          }
         },
         "name": "Ron Weasley, 57",
         "offsetgroup": "Ron Weasley, 57",
         "orientation": "v",
         "showlegend": true,
         "x": [
          "Ron Weasley"
         ],
         "xaxis": "x",
         "y": [
          57
         ],
         "yaxis": "y",
         "type": "histogram"
        },
        {
         "alignmentgroup": "True",
         "bingroup": "x",
         "histfunc": "sum",
         "hovertemplate": "favourite_character=%{x}<br>user_age=30<br>sum of user_age=%{y}<extra></extra>",
         "legendgroup": "Ron Weasley, 30",
         "marker": {
          "color": "#EF553B",
          "pattern": {
           "shape": "/"
          }
         },
         "name": "Ron Weasley, 30",
         "offsetgroup": "Ron Weasley, 30",
         "orientation": "v",
         "showlegend": true,
         "x": [
          "Ron Weasley",
          "Ron Weasley",
          "Ron Weasley"
         ],
         "xaxis": "x",
         "y": [
          30,
          30,
          30
         ],
         "yaxis": "y",
         "type": "histogram"
        },
        {
         "alignmentgroup": "True",
         "bingroup": "x",
         "histfunc": "sum",
         "hovertemplate": "favourite_character=%{x}<br>user_age=33<br>sum of user_age=%{y}<extra></extra>",
         "legendgroup": "Ron Weasley, 33",
         "marker": {
          "color": "#EF553B",
          "pattern": {
           "shape": "\\"
          }
         },
         "name": "Ron Weasley, 33",
         "offsetgroup": "Ron Weasley, 33",
         "orientation": "v",
         "showlegend": true,
         "x": [
          "Ron Weasley",
          "Ron Weasley",
          "Ron Weasley",
          "Ron Weasley"
         ],
         "xaxis": "x",
         "y": [
          33,
          33,
          33,
          33
         ],
         "yaxis": "y",
         "type": "histogram"
        },
        {
         "alignmentgroup": "True",
         "bingroup": "x",
         "histfunc": "sum",
         "hovertemplate": "favourite_character=%{x}<br>user_age=35<br>sum of user_age=%{y}<extra></extra>",
         "legendgroup": "Ron Weasley, 35",
         "marker": {
          "color": "#EF553B",
          "pattern": {
           "shape": "+"
          }
         },
         "name": "Ron Weasley, 35",
         "offsetgroup": "Ron Weasley, 35",
         "orientation": "v",
         "showlegend": true,
         "x": [
          "Ron Weasley"
         ],
         "xaxis": "x",
         "y": [
          35
         ],
         "yaxis": "y",
         "type": "histogram"
        },
        {
         "alignmentgroup": "True",
         "bingroup": "x",
         "histfunc": "sum",
         "hovertemplate": "favourite_character=%{x}<br>user_age=29<br>sum of user_age=%{y}<extra></extra>",
         "legendgroup": "Ron Weasley, 29",
         "marker": {
          "color": "#EF553B",
          "pattern": {
           "shape": "."
          }
         },
         "name": "Ron Weasley, 29",
         "offsetgroup": "Ron Weasley, 29",
         "orientation": "v",
         "showlegend": true,
         "x": [
          "Ron Weasley",
          "Ron Weasley",
          "Ron Weasley",
          "Ron Weasley"
         ],
         "xaxis": "x",
         "y": [
          29,
          29,
          29,
          29
         ],
         "yaxis": "y",
         "type": "histogram"
        },
        {
         "alignmentgroup": "True",
         "bingroup": "x",
         "histfunc": "sum",
         "hovertemplate": "favourite_character=%{x}<br>user_age=44<br>sum of user_age=%{y}<extra></extra>",
         "legendgroup": "Ron Weasley, 44",
         "marker": {
          "color": "#EF553B",
          "pattern": {
           "shape": ""
          }
         },
         "name": "Ron Weasley, 44",
         "offsetgroup": "Ron Weasley, 44",
         "orientation": "v",
         "showlegend": true,
         "x": [
          "Ron Weasley"
         ],
         "xaxis": "x",
         "y": [
          44
         ],
         "yaxis": "y",
         "type": "histogram"
        },
        {
         "alignmentgroup": "True",
         "bingroup": "x",
         "histfunc": "sum",
         "hovertemplate": "favourite_character=%{x}<br>user_age=36<br>sum of user_age=%{y}<extra></extra>",
         "legendgroup": "Ron Weasley, 36",
         "marker": {
          "color": "#EF553B",
          "pattern": {
           "shape": "/"
          }
         },
         "name": "Ron Weasley, 36",
         "offsetgroup": "Ron Weasley, 36",
         "orientation": "v",
         "showlegend": true,
         "x": [
          "Ron Weasley",
          "Ron Weasley",
          "Ron Weasley"
         ],
         "xaxis": "x",
         "y": [
          36,
          36,
          36
         ],
         "yaxis": "y",
         "type": "histogram"
        },
        {
         "alignmentgroup": "True",
         "bingroup": "x",
         "histfunc": "sum",
         "hovertemplate": "favourite_character=%{x}<br>user_age=45<br>sum of user_age=%{y}<extra></extra>",
         "legendgroup": "Ron Weasley, 45",
         "marker": {
          "color": "#EF553B",
          "pattern": {
           "shape": "\\"
          }
         },
         "name": "Ron Weasley, 45",
         "offsetgroup": "Ron Weasley, 45",
         "orientation": "v",
         "showlegend": true,
         "x": [
          "Ron Weasley",
          "Ron Weasley"
         ],
         "xaxis": "x",
         "y": [
          45,
          45
         ],
         "yaxis": "y",
         "type": "histogram"
        },
        {
         "alignmentgroup": "True",
         "bingroup": "x",
         "histfunc": "sum",
         "hovertemplate": "favourite_character=%{x}<br>user_age=25<br>sum of user_age=%{y}<extra></extra>",
         "legendgroup": "Ron Weasley, 25",
         "marker": {
          "color": "#EF553B",
          "pattern": {
           "shape": "x"
          }
         },
         "name": "Ron Weasley, 25",
         "offsetgroup": "Ron Weasley, 25",
         "orientation": "v",
         "showlegend": true,
         "x": [
          "Ron Weasley",
          "Ron Weasley",
          "Ron Weasley"
         ],
         "xaxis": "x",
         "y": [
          25,
          25,
          25
         ],
         "yaxis": "y",
         "type": "histogram"
        },
        {
         "alignmentgroup": "True",
         "bingroup": "x",
         "histfunc": "sum",
         "hovertemplate": "favourite_character=%{x}<br>user_age=53<br>sum of user_age=%{y}<extra></extra>",
         "legendgroup": "Ron Weasley, 53",
         "marker": {
          "color": "#EF553B",
          "pattern": {
           "shape": "+"
          }
         },
         "name": "Ron Weasley, 53",
         "offsetgroup": "Ron Weasley, 53",
         "orientation": "v",
         "showlegend": true,
         "x": [
          "Ron Weasley",
          "Ron Weasley"
         ],
         "xaxis": "x",
         "y": [
          53,
          53
         ],
         "yaxis": "y",
         "type": "histogram"
        },
        {
         "alignmentgroup": "True",
         "bingroup": "x",
         "histfunc": "sum",
         "hovertemplate": "favourite_character=%{x}<br>user_age=19<br>sum of user_age=%{y}<extra></extra>",
         "legendgroup": "Ron Weasley, 19",
         "marker": {
          "color": "#EF553B",
          "pattern": {
           "shape": "."
          }
         },
         "name": "Ron Weasley, 19",
         "offsetgroup": "Ron Weasley, 19",
         "orientation": "v",
         "showlegend": true,
         "x": [
          "Ron Weasley",
          "Ron Weasley"
         ],
         "xaxis": "x",
         "y": [
          19,
          19
         ],
         "yaxis": "y",
         "type": "histogram"
        },
        {
         "alignmentgroup": "True",
         "bingroup": "x",
         "histfunc": "sum",
         "hovertemplate": "favourite_character=%{x}<br>user_age=60<br>sum of user_age=%{y}<extra></extra>",
         "legendgroup": "Ron Weasley, 60",
         "marker": {
          "color": "#EF553B",
          "pattern": {
           "shape": "/"
          }
         },
         "name": "Ron Weasley, 60",
         "offsetgroup": "Ron Weasley, 60",
         "orientation": "v",
         "showlegend": true,
         "x": [
          "Ron Weasley"
         ],
         "xaxis": "x",
         "y": [
          60
         ],
         "yaxis": "y",
         "type": "histogram"
        },
        {
         "alignmentgroup": "True",
         "bingroup": "x",
         "histfunc": "sum",
         "hovertemplate": "favourite_character=%{x}<br>user_age=56<br>sum of user_age=%{y}<extra></extra>",
         "legendgroup": "Ron Weasley, 56",
         "marker": {
          "color": "#EF553B",
          "pattern": {
           "shape": "+"
          }
         },
         "name": "Ron Weasley, 56",
         "offsetgroup": "Ron Weasley, 56",
         "orientation": "v",
         "showlegend": true,
         "x": [
          "Ron Weasley",
          "Ron Weasley",
          "Ron Weasley",
          "Ron Weasley"
         ],
         "xaxis": "x",
         "y": [
          56,
          56,
          56,
          56
         ],
         "yaxis": "y",
         "type": "histogram"
        },
        {
         "alignmentgroup": "True",
         "bingroup": "x",
         "histfunc": "sum",
         "hovertemplate": "favourite_character=%{x}<br>user_age=12<br>sum of user_age=%{y}<extra></extra>",
         "legendgroup": "Ron Weasley, 12",
         "marker": {
          "color": "#EF553B",
          "pattern": {
           "shape": ""
          }
         },
         "name": "Ron Weasley, 12",
         "offsetgroup": "Ron Weasley, 12",
         "orientation": "v",
         "showlegend": true,
         "x": [
          "Ron Weasley"
         ],
         "xaxis": "x",
         "y": [
          12
         ],
         "yaxis": "y",
         "type": "histogram"
        },
        {
         "alignmentgroup": "True",
         "bingroup": "x",
         "histfunc": "sum",
         "hovertemplate": "favourite_character=%{x}<br>user_age=42<br>sum of user_age=%{y}<extra></extra>",
         "legendgroup": "Ron Weasley, 42",
         "marker": {
          "color": "#EF553B",
          "pattern": {
           "shape": "\\"
          }
         },
         "name": "Ron Weasley, 42",
         "offsetgroup": "Ron Weasley, 42",
         "orientation": "v",
         "showlegend": true,
         "x": [
          "Ron Weasley",
          "Ron Weasley",
          "Ron Weasley",
          "Ron Weasley"
         ],
         "xaxis": "x",
         "y": [
          42,
          42,
          42,
          42
         ],
         "yaxis": "y",
         "type": "histogram"
        },
        {
         "alignmentgroup": "True",
         "bingroup": "x",
         "histfunc": "sum",
         "hovertemplate": "favourite_character=%{x}<br>user_age=43<br>sum of user_age=%{y}<extra></extra>",
         "legendgroup": "Ron Weasley, 43",
         "marker": {
          "color": "#EF553B",
          "pattern": {
           "shape": "x"
          }
         },
         "name": "Ron Weasley, 43",
         "offsetgroup": "Ron Weasley, 43",
         "orientation": "v",
         "showlegend": true,
         "x": [
          "Ron Weasley"
         ],
         "xaxis": "x",
         "y": [
          43
         ],
         "yaxis": "y",
         "type": "histogram"
        },
        {
         "alignmentgroup": "True",
         "bingroup": "x",
         "histfunc": "sum",
         "hovertemplate": "favourite_character=%{x}<br>user_age=37<br>sum of user_age=%{y}<extra></extra>",
         "legendgroup": "Ron Weasley, 37",
         "marker": {
          "color": "#EF553B",
          "pattern": {
           "shape": "+"
          }
         },
         "name": "Ron Weasley, 37",
         "offsetgroup": "Ron Weasley, 37",
         "orientation": "v",
         "showlegend": true,
         "x": [
          "Ron Weasley",
          "Ron Weasley",
          "Ron Weasley"
         ],
         "xaxis": "x",
         "y": [
          37,
          37,
          37
         ],
         "yaxis": "y",
         "type": "histogram"
        },
        {
         "alignmentgroup": "True",
         "bingroup": "x",
         "histfunc": "sum",
         "hovertemplate": "favourite_character=%{x}<br>user_age=15<br>sum of user_age=%{y}<extra></extra>",
         "legendgroup": "Ron Weasley, 15",
         "marker": {
          "color": "#EF553B",
          "pattern": {
           "shape": "."
          }
         },
         "name": "Ron Weasley, 15",
         "offsetgroup": "Ron Weasley, 15",
         "orientation": "v",
         "showlegend": true,
         "x": [
          "Ron Weasley"
         ],
         "xaxis": "x",
         "y": [
          15
         ],
         "yaxis": "y",
         "type": "histogram"
        },
        {
         "alignmentgroup": "True",
         "bingroup": "x",
         "histfunc": "sum",
         "hovertemplate": "favourite_character=%{x}<br>user_age=21<br>sum of user_age=%{y}<extra></extra>",
         "legendgroup": "Ron Weasley, 21",
         "marker": {
          "color": "#EF553B",
          "pattern": {
           "shape": "\\"
          }
         },
         "name": "Ron Weasley, 21",
         "offsetgroup": "Ron Weasley, 21",
         "orientation": "v",
         "showlegend": true,
         "x": [
          "Ron Weasley"
         ],
         "xaxis": "x",
         "y": [
          21
         ],
         "yaxis": "y",
         "type": "histogram"
        },
        {
         "alignmentgroup": "True",
         "bingroup": "x",
         "histfunc": "sum",
         "hovertemplate": "favourite_character=%{x}<br>user_age=14<br>sum of user_age=%{y}<extra></extra>",
         "legendgroup": "Ron Weasley, 14",
         "marker": {
          "color": "#EF553B",
          "pattern": {
           "shape": "x"
          }
         },
         "name": "Ron Weasley, 14",
         "offsetgroup": "Ron Weasley, 14",
         "orientation": "v",
         "showlegend": true,
         "x": [
          "Ron Weasley"
         ],
         "xaxis": "x",
         "y": [
          14
         ],
         "yaxis": "y",
         "type": "histogram"
        },
        {
         "alignmentgroup": "True",
         "bingroup": "x",
         "histfunc": "sum",
         "hovertemplate": "favourite_character=%{x}<br>user_age=27<br>sum of user_age=%{y}<extra></extra>",
         "legendgroup": "Ron Weasley, 27",
         "marker": {
          "color": "#EF553B",
          "pattern": {
           "shape": "+"
          }
         },
         "name": "Ron Weasley, 27",
         "offsetgroup": "Ron Weasley, 27",
         "orientation": "v",
         "showlegend": true,
         "x": [
          "Ron Weasley",
          "Ron Weasley"
         ],
         "xaxis": "x",
         "y": [
          27,
          27
         ],
         "yaxis": "y",
         "type": "histogram"
        },
        {
         "alignmentgroup": "True",
         "bingroup": "x",
         "histfunc": "sum",
         "hovertemplate": "favourite_character=%{x}<br>user_age=54<br>sum of user_age=%{y}<extra></extra>",
         "legendgroup": "Ron Weasley, 54",
         "marker": {
          "color": "#EF553B",
          "pattern": {
           "shape": "."
          }
         },
         "name": "Ron Weasley, 54",
         "offsetgroup": "Ron Weasley, 54",
         "orientation": "v",
         "showlegend": true,
         "x": [
          "Ron Weasley",
          "Ron Weasley"
         ],
         "xaxis": "x",
         "y": [
          54,
          54
         ],
         "yaxis": "y",
         "type": "histogram"
        },
        {
         "alignmentgroup": "True",
         "bingroup": "x",
         "histfunc": "sum",
         "hovertemplate": "favourite_character=%{x}<br>user_age=50<br>sum of user_age=%{y}<extra></extra>",
         "legendgroup": "Rubeus Hagrid, 50",
         "marker": {
          "color": "#00cc96",
          "pattern": {
           "shape": ""
          }
         },
         "name": "Rubeus Hagrid, 50",
         "offsetgroup": "Rubeus Hagrid, 50",
         "orientation": "v",
         "showlegend": true,
         "x": [
          "Rubeus Hagrid"
         ],
         "xaxis": "x",
         "y": [
          50
         ],
         "yaxis": "y",
         "type": "histogram"
        },
        {
         "alignmentgroup": "True",
         "bingroup": "x",
         "histfunc": "sum",
         "hovertemplate": "favourite_character=%{x}<br>user_age=23<br>sum of user_age=%{y}<extra></extra>",
         "legendgroup": "Rubeus Hagrid, 23",
         "marker": {
          "color": "#00cc96",
          "pattern": {
           "shape": "/"
          }
         },
         "name": "Rubeus Hagrid, 23",
         "offsetgroup": "Rubeus Hagrid, 23",
         "orientation": "v",
         "showlegend": true,
         "x": [
          "Rubeus Hagrid",
          "Rubeus Hagrid"
         ],
         "xaxis": "x",
         "y": [
          23,
          23
         ],
         "yaxis": "y",
         "type": "histogram"
        },
        {
         "alignmentgroup": "True",
         "bingroup": "x",
         "histfunc": "sum",
         "hovertemplate": "favourite_character=%{x}<br>user_age=32<br>sum of user_age=%{y}<extra></extra>",
         "legendgroup": "Rubeus Hagrid, 32",
         "marker": {
          "color": "#00cc96",
          "pattern": {
           "shape": "\\"
          }
         },
         "name": "Rubeus Hagrid, 32",
         "offsetgroup": "Rubeus Hagrid, 32",
         "orientation": "v",
         "showlegend": true,
         "x": [
          "Rubeus Hagrid",
          "Rubeus Hagrid"
         ],
         "xaxis": "x",
         "y": [
          32,
          32
         ],
         "yaxis": "y",
         "type": "histogram"
        },
        {
         "alignmentgroup": "True",
         "bingroup": "x",
         "histfunc": "sum",
         "hovertemplate": "favourite_character=%{x}<br>user_age=24<br>sum of user_age=%{y}<extra></extra>",
         "legendgroup": "Rubeus Hagrid, 24",
         "marker": {
          "color": "#00cc96",
          "pattern": {
           "shape": "x"
          }
         },
         "name": "Rubeus Hagrid, 24",
         "offsetgroup": "Rubeus Hagrid, 24",
         "orientation": "v",
         "showlegend": true,
         "x": [
          "Rubeus Hagrid"
         ],
         "xaxis": "x",
         "y": [
          24
         ],
         "yaxis": "y",
         "type": "histogram"
        },
        {
         "alignmentgroup": "True",
         "bingroup": "x",
         "histfunc": "sum",
         "hovertemplate": "favourite_character=%{x}<br>user_age=40<br>sum of user_age=%{y}<extra></extra>",
         "legendgroup": "Rubeus Hagrid, 40",
         "marker": {
          "color": "#00cc96",
          "pattern": {
           "shape": "+"
          }
         },
         "name": "Rubeus Hagrid, 40",
         "offsetgroup": "Rubeus Hagrid, 40",
         "orientation": "v",
         "showlegend": true,
         "x": [
          "Rubeus Hagrid",
          "Rubeus Hagrid"
         ],
         "xaxis": "x",
         "y": [
          40,
          40
         ],
         "yaxis": "y",
         "type": "histogram"
        },
        {
         "alignmentgroup": "True",
         "bingroup": "x",
         "histfunc": "sum",
         "hovertemplate": "favourite_character=%{x}<br>user_age=16<br>sum of user_age=%{y}<extra></extra>",
         "legendgroup": "Rubeus Hagrid, 16",
         "marker": {
          "color": "#00cc96",
          "pattern": {
           "shape": "."
          }
         },
         "name": "Rubeus Hagrid, 16",
         "offsetgroup": "Rubeus Hagrid, 16",
         "orientation": "v",
         "showlegend": true,
         "x": [
          "Rubeus Hagrid"
         ],
         "xaxis": "x",
         "y": [
          16
         ],
         "yaxis": "y",
         "type": "histogram"
        },
        {
         "alignmentgroup": "True",
         "bingroup": "x",
         "histfunc": "sum",
         "hovertemplate": "favourite_character=%{x}<br>user_age=26<br>sum of user_age=%{y}<extra></extra>",
         "legendgroup": "Rubeus Hagrid, 26",
         "marker": {
          "color": "#00cc96",
          "pattern": {
           "shape": ""
          }
         },
         "name": "Rubeus Hagrid, 26",
         "offsetgroup": "Rubeus Hagrid, 26",
         "orientation": "v",
         "showlegend": true,
         "x": [
          "Rubeus Hagrid"
         ],
         "xaxis": "x",
         "y": [
          26
         ],
         "yaxis": "y",
         "type": "histogram"
        },
        {
         "alignmentgroup": "True",
         "bingroup": "x",
         "histfunc": "sum",
         "hovertemplate": "favourite_character=%{x}<br>user_age=28<br>sum of user_age=%{y}<extra></extra>",
         "legendgroup": "Rubeus Hagrid, 28",
         "marker": {
          "color": "#00cc96",
          "pattern": {
           "shape": "/"
          }
         },
         "name": "Rubeus Hagrid, 28",
         "offsetgroup": "Rubeus Hagrid, 28",
         "orientation": "v",
         "showlegend": true,
         "x": [
          "Rubeus Hagrid",
          "Rubeus Hagrid"
         ],
         "xaxis": "x",
         "y": [
          28,
          28
         ],
         "yaxis": "y",
         "type": "histogram"
        },
        {
         "alignmentgroup": "True",
         "bingroup": "x",
         "histfunc": "sum",
         "hovertemplate": "favourite_character=%{x}<br>user_age=52<br>sum of user_age=%{y}<extra></extra>",
         "legendgroup": "Rubeus Hagrid, 52",
         "marker": {
          "color": "#00cc96",
          "pattern": {
           "shape": "\\"
          }
         },
         "name": "Rubeus Hagrid, 52",
         "offsetgroup": "Rubeus Hagrid, 52",
         "orientation": "v",
         "showlegend": true,
         "x": [
          "Rubeus Hagrid"
         ],
         "xaxis": "x",
         "y": [
          52
         ],
         "yaxis": "y",
         "type": "histogram"
        },
        {
         "alignmentgroup": "True",
         "bingroup": "x",
         "histfunc": "sum",
         "hovertemplate": "favourite_character=%{x}<br>user_age=34<br>sum of user_age=%{y}<extra></extra>",
         "legendgroup": "Rubeus Hagrid, 34",
         "marker": {
          "color": "#00cc96",
          "pattern": {
           "shape": "+"
          }
         },
         "name": "Rubeus Hagrid, 34",
         "offsetgroup": "Rubeus Hagrid, 34",
         "orientation": "v",
         "showlegend": true,
         "x": [
          "Rubeus Hagrid",
          "Rubeus Hagrid"
         ],
         "xaxis": "x",
         "y": [
          34,
          34
         ],
         "yaxis": "y",
         "type": "histogram"
        },
        {
         "alignmentgroup": "True",
         "bingroup": "x",
         "histfunc": "sum",
         "hovertemplate": "favourite_character=%{x}<br>user_age=51<br>sum of user_age=%{y}<extra></extra>",
         "legendgroup": "Rubeus Hagrid, 51",
         "marker": {
          "color": "#00cc96",
          "pattern": {
           "shape": "."
          }
         },
         "name": "Rubeus Hagrid, 51",
         "offsetgroup": "Rubeus Hagrid, 51",
         "orientation": "v",
         "showlegend": true,
         "x": [
          "Rubeus Hagrid",
          "Rubeus Hagrid"
         ],
         "xaxis": "x",
         "y": [
          51,
          51
         ],
         "yaxis": "y",
         "type": "histogram"
        },
        {
         "alignmentgroup": "True",
         "bingroup": "x",
         "histfunc": "sum",
         "hovertemplate": "favourite_character=%{x}<br>user_age=38<br>sum of user_age=%{y}<extra></extra>",
         "legendgroup": "Rubeus Hagrid, 38",
         "marker": {
          "color": "#00cc96",
          "pattern": {
           "shape": ""
          }
         },
         "name": "Rubeus Hagrid, 38",
         "offsetgroup": "Rubeus Hagrid, 38",
         "orientation": "v",
         "showlegend": true,
         "x": [
          "Rubeus Hagrid",
          "Rubeus Hagrid"
         ],
         "xaxis": "x",
         "y": [
          38,
          38
         ],
         "yaxis": "y",
         "type": "histogram"
        },
        {
         "alignmentgroup": "True",
         "bingroup": "x",
         "histfunc": "sum",
         "hovertemplate": "favourite_character=%{x}<br>user_age=39<br>sum of user_age=%{y}<extra></extra>",
         "legendgroup": "Rubeus Hagrid, 39",
         "marker": {
          "color": "#00cc96",
          "pattern": {
           "shape": "\\"
          }
         },
         "name": "Rubeus Hagrid, 39",
         "offsetgroup": "Rubeus Hagrid, 39",
         "orientation": "v",
         "showlegend": true,
         "x": [
          "Rubeus Hagrid",
          "Rubeus Hagrid",
          "Rubeus Hagrid",
          "Rubeus Hagrid"
         ],
         "xaxis": "x",
         "y": [
          39,
          39,
          39,
          39
         ],
         "yaxis": "y",
         "type": "histogram"
        },
        {
         "alignmentgroup": "True",
         "bingroup": "x",
         "histfunc": "sum",
         "hovertemplate": "favourite_character=%{x}<br>user_age=20<br>sum of user_age=%{y}<extra></extra>",
         "legendgroup": "Rubeus Hagrid, 20",
         "marker": {
          "color": "#00cc96",
          "pattern": {
           "shape": "x"
          }
         },
         "name": "Rubeus Hagrid, 20",
         "offsetgroup": "Rubeus Hagrid, 20",
         "orientation": "v",
         "showlegend": true,
         "x": [
          "Rubeus Hagrid",
          "Rubeus Hagrid",
          "Rubeus Hagrid"
         ],
         "xaxis": "x",
         "y": [
          20,
          20,
          20
         ],
         "yaxis": "y",
         "type": "histogram"
        },
        {
         "alignmentgroup": "True",
         "bingroup": "x",
         "histfunc": "sum",
         "hovertemplate": "favourite_character=%{x}<br>user_age=31<br>sum of user_age=%{y}<extra></extra>",
         "legendgroup": "Rubeus Hagrid, 31",
         "marker": {
          "color": "#00cc96",
          "pattern": {
           "shape": "+"
          }
         },
         "name": "Rubeus Hagrid, 31",
         "offsetgroup": "Rubeus Hagrid, 31",
         "orientation": "v",
         "showlegend": true,
         "x": [
          "Rubeus Hagrid",
          "Rubeus Hagrid"
         ],
         "xaxis": "x",
         "y": [
          31,
          31
         ],
         "yaxis": "y",
         "type": "histogram"
        },
        {
         "alignmentgroup": "True",
         "bingroup": "x",
         "histfunc": "sum",
         "hovertemplate": "favourite_character=%{x}<br>user_age=57<br>sum of user_age=%{y}<extra></extra>",
         "legendgroup": "Rubeus Hagrid, 57",
         "marker": {
          "color": "#00cc96",
          "pattern": {
           "shape": ""
          }
         },
         "name": "Rubeus Hagrid, 57",
         "offsetgroup": "Rubeus Hagrid, 57",
         "orientation": "v",
         "showlegend": true,
         "x": [
          "Rubeus Hagrid"
         ],
         "xaxis": "x",
         "y": [
          57
         ],
         "yaxis": "y",
         "type": "histogram"
        },
        {
         "alignmentgroup": "True",
         "bingroup": "x",
         "histfunc": "sum",
         "hovertemplate": "favourite_character=%{x}<br>user_age=30<br>sum of user_age=%{y}<extra></extra>",
         "legendgroup": "Rubeus Hagrid, 30",
         "marker": {
          "color": "#00cc96",
          "pattern": {
           "shape": "/"
          }
         },
         "name": "Rubeus Hagrid, 30",
         "offsetgroup": "Rubeus Hagrid, 30",
         "orientation": "v",
         "showlegend": true,
         "x": [
          "Rubeus Hagrid",
          "Rubeus Hagrid"
         ],
         "xaxis": "x",
         "y": [
          30,
          30
         ],
         "yaxis": "y",
         "type": "histogram"
        },
        {
         "alignmentgroup": "True",
         "bingroup": "x",
         "histfunc": "sum",
         "hovertemplate": "favourite_character=%{x}<br>user_age=33<br>sum of user_age=%{y}<extra></extra>",
         "legendgroup": "Rubeus Hagrid, 33",
         "marker": {
          "color": "#00cc96",
          "pattern": {
           "shape": "\\"
          }
         },
         "name": "Rubeus Hagrid, 33",
         "offsetgroup": "Rubeus Hagrid, 33",
         "orientation": "v",
         "showlegend": true,
         "x": [
          "Rubeus Hagrid",
          "Rubeus Hagrid",
          "Rubeus Hagrid"
         ],
         "xaxis": "x",
         "y": [
          33,
          33,
          33
         ],
         "yaxis": "y",
         "type": "histogram"
        },
        {
         "alignmentgroup": "True",
         "bingroup": "x",
         "histfunc": "sum",
         "hovertemplate": "favourite_character=%{x}<br>user_age=35<br>sum of user_age=%{y}<extra></extra>",
         "legendgroup": "Rubeus Hagrid, 35",
         "marker": {
          "color": "#00cc96",
          "pattern": {
           "shape": "+"
          }
         },
         "name": "Rubeus Hagrid, 35",
         "offsetgroup": "Rubeus Hagrid, 35",
         "orientation": "v",
         "showlegend": true,
         "x": [
          "Rubeus Hagrid",
          "Rubeus Hagrid"
         ],
         "xaxis": "x",
         "y": [
          35,
          35
         ],
         "yaxis": "y",
         "type": "histogram"
        },
        {
         "alignmentgroup": "True",
         "bingroup": "x",
         "histfunc": "sum",
         "hovertemplate": "favourite_character=%{x}<br>user_age=29<br>sum of user_age=%{y}<extra></extra>",
         "legendgroup": "Rubeus Hagrid, 29",
         "marker": {
          "color": "#00cc96",
          "pattern": {
           "shape": "."
          }
         },
         "name": "Rubeus Hagrid, 29",
         "offsetgroup": "Rubeus Hagrid, 29",
         "orientation": "v",
         "showlegend": true,
         "x": [
          "Rubeus Hagrid",
          "Rubeus Hagrid"
         ],
         "xaxis": "x",
         "y": [
          29,
          29
         ],
         "yaxis": "y",
         "type": "histogram"
        },
        {
         "alignmentgroup": "True",
         "bingroup": "x",
         "histfunc": "sum",
         "hovertemplate": "favourite_character=%{x}<br>user_age=44<br>sum of user_age=%{y}<extra></extra>",
         "legendgroup": "Rubeus Hagrid, 44",
         "marker": {
          "color": "#00cc96",
          "pattern": {
           "shape": ""
          }
         },
         "name": "Rubeus Hagrid, 44",
         "offsetgroup": "Rubeus Hagrid, 44",
         "orientation": "v",
         "showlegend": true,
         "x": [
          "Rubeus Hagrid",
          "Rubeus Hagrid"
         ],
         "xaxis": "x",
         "y": [
          44,
          44
         ],
         "yaxis": "y",
         "type": "histogram"
        },
        {
         "alignmentgroup": "True",
         "bingroup": "x",
         "histfunc": "sum",
         "hovertemplate": "favourite_character=%{x}<br>user_age=36<br>sum of user_age=%{y}<extra></extra>",
         "legendgroup": "Rubeus Hagrid, 36",
         "marker": {
          "color": "#00cc96",
          "pattern": {
           "shape": "/"
          }
         },
         "name": "Rubeus Hagrid, 36",
         "offsetgroup": "Rubeus Hagrid, 36",
         "orientation": "v",
         "showlegend": true,
         "x": [
          "Rubeus Hagrid"
         ],
         "xaxis": "x",
         "y": [
          36
         ],
         "yaxis": "y",
         "type": "histogram"
        },
        {
         "alignmentgroup": "True",
         "bingroup": "x",
         "histfunc": "sum",
         "hovertemplate": "favourite_character=%{x}<br>user_age=45<br>sum of user_age=%{y}<extra></extra>",
         "legendgroup": "Rubeus Hagrid, 45",
         "marker": {
          "color": "#00cc96",
          "pattern": {
           "shape": "\\"
          }
         },
         "name": "Rubeus Hagrid, 45",
         "offsetgroup": "Rubeus Hagrid, 45",
         "orientation": "v",
         "showlegend": true,
         "x": [
          "Rubeus Hagrid"
         ],
         "xaxis": "x",
         "y": [
          45
         ],
         "yaxis": "y",
         "type": "histogram"
        },
        {
         "alignmentgroup": "True",
         "bingroup": "x",
         "histfunc": "sum",
         "hovertemplate": "favourite_character=%{x}<br>user_age=25<br>sum of user_age=%{y}<extra></extra>",
         "legendgroup": "Rubeus Hagrid, 25",
         "marker": {
          "color": "#00cc96",
          "pattern": {
           "shape": "x"
          }
         },
         "name": "Rubeus Hagrid, 25",
         "offsetgroup": "Rubeus Hagrid, 25",
         "orientation": "v",
         "showlegend": true,
         "x": [
          "Rubeus Hagrid"
         ],
         "xaxis": "x",
         "y": [
          25
         ],
         "yaxis": "y",
         "type": "histogram"
        },
        {
         "alignmentgroup": "True",
         "bingroup": "x",
         "histfunc": "sum",
         "hovertemplate": "favourite_character=%{x}<br>user_age=41<br>sum of user_age=%{y}<extra></extra>",
         "legendgroup": "Rubeus Hagrid, 41",
         "marker": {
          "color": "#00cc96",
          "pattern": {
           "shape": ""
          }
         },
         "name": "Rubeus Hagrid, 41",
         "offsetgroup": "Rubeus Hagrid, 41",
         "orientation": "v",
         "showlegend": true,
         "x": [
          "Rubeus Hagrid",
          "Rubeus Hagrid",
          "Rubeus Hagrid",
          "Rubeus Hagrid"
         ],
         "xaxis": "x",
         "y": [
          41,
          41,
          41,
          41
         ],
         "yaxis": "y",
         "type": "histogram"
        },
        {
         "alignmentgroup": "True",
         "bingroup": "x",
         "histfunc": "sum",
         "hovertemplate": "favourite_character=%{x}<br>user_age=18<br>sum of user_age=%{y}<extra></extra>",
         "legendgroup": "Rubeus Hagrid, 18",
         "marker": {
          "color": "#00cc96",
          "pattern": {
           "shape": "."
          }
         },
         "name": "Rubeus Hagrid, 18",
         "offsetgroup": "Rubeus Hagrid, 18",
         "orientation": "v",
         "showlegend": true,
         "x": [
          "Rubeus Hagrid"
         ],
         "xaxis": "x",
         "y": [
          18
         ],
         "yaxis": "y",
         "type": "histogram"
        },
        {
         "alignmentgroup": "True",
         "bingroup": "x",
         "histfunc": "sum",
         "hovertemplate": "favourite_character=%{x}<br>user_age=13<br>sum of user_age=%{y}<extra></extra>",
         "legendgroup": "Rubeus Hagrid, 13",
         "marker": {
          "color": "#00cc96",
          "pattern": {
           "shape": "/"
          }
         },
         "name": "Rubeus Hagrid, 13",
         "offsetgroup": "Rubeus Hagrid, 13",
         "orientation": "v",
         "showlegend": true,
         "x": [
          "Rubeus Hagrid"
         ],
         "xaxis": "x",
         "y": [
          13
         ],
         "yaxis": "y",
         "type": "histogram"
        },
        {
         "alignmentgroup": "True",
         "bingroup": "x",
         "histfunc": "sum",
         "hovertemplate": "favourite_character=%{x}<br>user_age=42<br>sum of user_age=%{y}<extra></extra>",
         "legendgroup": "Rubeus Hagrid, 42",
         "marker": {
          "color": "#00cc96",
          "pattern": {
           "shape": "\\"
          }
         },
         "name": "Rubeus Hagrid, 42",
         "offsetgroup": "Rubeus Hagrid, 42",
         "orientation": "v",
         "showlegend": true,
         "x": [
          "Rubeus Hagrid",
          "Rubeus Hagrid"
         ],
         "xaxis": "x",
         "y": [
          42,
          42
         ],
         "yaxis": "y",
         "type": "histogram"
        },
        {
         "alignmentgroup": "True",
         "bingroup": "x",
         "histfunc": "sum",
         "hovertemplate": "favourite_character=%{x}<br>user_age=43<br>sum of user_age=%{y}<extra></extra>",
         "legendgroup": "Rubeus Hagrid, 43",
         "marker": {
          "color": "#00cc96",
          "pattern": {
           "shape": "x"
          }
         },
         "name": "Rubeus Hagrid, 43",
         "offsetgroup": "Rubeus Hagrid, 43",
         "orientation": "v",
         "showlegend": true,
         "x": [
          "Rubeus Hagrid",
          "Rubeus Hagrid"
         ],
         "xaxis": "x",
         "y": [
          43,
          43
         ],
         "yaxis": "y",
         "type": "histogram"
        },
        {
         "alignmentgroup": "True",
         "bingroup": "x",
         "histfunc": "sum",
         "hovertemplate": "favourite_character=%{x}<br>user_age=37<br>sum of user_age=%{y}<extra></extra>",
         "legendgroup": "Rubeus Hagrid, 37",
         "marker": {
          "color": "#00cc96",
          "pattern": {
           "shape": "+"
          }
         },
         "name": "Rubeus Hagrid, 37",
         "offsetgroup": "Rubeus Hagrid, 37",
         "orientation": "v",
         "showlegend": true,
         "x": [
          "Rubeus Hagrid",
          "Rubeus Hagrid"
         ],
         "xaxis": "x",
         "y": [
          37,
          37
         ],
         "yaxis": "y",
         "type": "histogram"
        },
        {
         "alignmentgroup": "True",
         "bingroup": "x",
         "histfunc": "sum",
         "hovertemplate": "favourite_character=%{x}<br>user_age=17<br>sum of user_age=%{y}<extra></extra>",
         "legendgroup": "Rubeus Hagrid, 17",
         "marker": {
          "color": "#00cc96",
          "pattern": {
           "shape": "/"
          }
         },
         "name": "Rubeus Hagrid, 17",
         "offsetgroup": "Rubeus Hagrid, 17",
         "orientation": "v",
         "showlegend": true,
         "x": [
          "Rubeus Hagrid",
          "Rubeus Hagrid",
          "Rubeus Hagrid"
         ],
         "xaxis": "x",
         "y": [
          17,
          17,
          17
         ],
         "yaxis": "y",
         "type": "histogram"
        },
        {
         "alignmentgroup": "True",
         "bingroup": "x",
         "histfunc": "sum",
         "hovertemplate": "favourite_character=%{x}<br>user_age=27<br>sum of user_age=%{y}<extra></extra>",
         "legendgroup": "Rubeus Hagrid, 27",
         "marker": {
          "color": "#00cc96",
          "pattern": {
           "shape": "+"
          }
         },
         "name": "Rubeus Hagrid, 27",
         "offsetgroup": "Rubeus Hagrid, 27",
         "orientation": "v",
         "showlegend": true,
         "x": [
          "Rubeus Hagrid",
          "Rubeus Hagrid"
         ],
         "xaxis": "x",
         "y": [
          27,
          27
         ],
         "yaxis": "y",
         "type": "histogram"
        },
        {
         "alignmentgroup": "True",
         "bingroup": "x",
         "histfunc": "sum",
         "hovertemplate": "favourite_character=%{x}<br>user_age=61<br>sum of user_age=%{y}<extra></extra>",
         "legendgroup": "Rubeus Hagrid, 61",
         "marker": {
          "color": "#00cc96",
          "pattern": {
           "shape": ""
          }
         },
         "name": "Rubeus Hagrid, 61",
         "offsetgroup": "Rubeus Hagrid, 61",
         "orientation": "v",
         "showlegend": true,
         "x": [
          "Rubeus Hagrid"
         ],
         "xaxis": "x",
         "y": [
          61
         ],
         "yaxis": "y",
         "type": "histogram"
        },
        {
         "alignmentgroup": "True",
         "bingroup": "x",
         "histfunc": "sum",
         "hovertemplate": "favourite_character=%{x}<br>user_age=8<br>sum of user_age=%{y}<extra></extra>",
         "legendgroup": "Rubeus Hagrid, 8",
         "marker": {
          "color": "#00cc96",
          "pattern": {
           "shape": "\\"
          }
         },
         "name": "Rubeus Hagrid, 8",
         "offsetgroup": "Rubeus Hagrid, 8",
         "orientation": "v",
         "showlegend": true,
         "x": [
          "Rubeus Hagrid"
         ],
         "xaxis": "x",
         "y": [
          8
         ],
         "yaxis": "y",
         "type": "histogram"
        },
        {
         "alignmentgroup": "True",
         "bingroup": "x",
         "histfunc": "sum",
         "hovertemplate": "favourite_character=%{x}<br>user_age=62<br>sum of user_age=%{y}<extra></extra>",
         "legendgroup": "Rubeus Hagrid, 62",
         "marker": {
          "color": "#00cc96",
          "pattern": {
           "shape": "+"
          }
         },
         "name": "Rubeus Hagrid, 62",
         "offsetgroup": "Rubeus Hagrid, 62",
         "orientation": "v",
         "showlegend": true,
         "x": [
          "Rubeus Hagrid"
         ],
         "xaxis": "x",
         "y": [
          62
         ],
         "yaxis": "y",
         "type": "histogram"
        },
        {
         "alignmentgroup": "True",
         "bingroup": "x",
         "histfunc": "sum",
         "hovertemplate": "favourite_character=%{x}<br>user_age=24<br>sum of user_age=%{y}<extra></extra>",
         "legendgroup": "Neville Longbottom, 24",
         "marker": {
          "color": "#ab63fa",
          "pattern": {
           "shape": "x"
          }
         },
         "name": "Neville Longbottom, 24",
         "offsetgroup": "Neville Longbottom, 24",
         "orientation": "v",
         "showlegend": true,
         "x": [
          "Neville Longbottom"
         ],
         "xaxis": "x",
         "y": [
          24
         ],
         "yaxis": "y",
         "type": "histogram"
        },
        {
         "alignmentgroup": "True",
         "bingroup": "x",
         "histfunc": "sum",
         "hovertemplate": "favourite_character=%{x}<br>user_age=40<br>sum of user_age=%{y}<extra></extra>",
         "legendgroup": "Neville Longbottom, 40",
         "marker": {
          "color": "#ab63fa",
          "pattern": {
           "shape": "+"
          }
         },
         "name": "Neville Longbottom, 40",
         "offsetgroup": "Neville Longbottom, 40",
         "orientation": "v",
         "showlegend": true,
         "x": [
          "Neville Longbottom",
          "Neville Longbottom"
         ],
         "xaxis": "x",
         "y": [
          40,
          40
         ],
         "yaxis": "y",
         "type": "histogram"
        },
        {
         "alignmentgroup": "True",
         "bingroup": "x",
         "histfunc": "sum",
         "hovertemplate": "favourite_character=%{x}<br>user_age=16<br>sum of user_age=%{y}<extra></extra>",
         "legendgroup": "Neville Longbottom, 16",
         "marker": {
          "color": "#ab63fa",
          "pattern": {
           "shape": "."
          }
         },
         "name": "Neville Longbottom, 16",
         "offsetgroup": "Neville Longbottom, 16",
         "orientation": "v",
         "showlegend": true,
         "x": [
          "Neville Longbottom",
          "Neville Longbottom"
         ],
         "xaxis": "x",
         "y": [
          16,
          16
         ],
         "yaxis": "y",
         "type": "histogram"
        },
        {
         "alignmentgroup": "True",
         "bingroup": "x",
         "histfunc": "sum",
         "hovertemplate": "favourite_character=%{x}<br>user_age=52<br>sum of user_age=%{y}<extra></extra>",
         "legendgroup": "Neville Longbottom, 52",
         "marker": {
          "color": "#ab63fa",
          "pattern": {
           "shape": "\\"
          }
         },
         "name": "Neville Longbottom, 52",
         "offsetgroup": "Neville Longbottom, 52",
         "orientation": "v",
         "showlegend": true,
         "x": [
          "Neville Longbottom"
         ],
         "xaxis": "x",
         "y": [
          52
         ],
         "yaxis": "y",
         "type": "histogram"
        },
        {
         "alignmentgroup": "True",
         "bingroup": "x",
         "histfunc": "sum",
         "hovertemplate": "favourite_character=%{x}<br>user_age=46<br>sum of user_age=%{y}<extra></extra>",
         "legendgroup": "Neville Longbottom, 46",
         "marker": {
          "color": "#ab63fa",
          "pattern": {
           "shape": "x"
          }
         },
         "name": "Neville Longbottom, 46",
         "offsetgroup": "Neville Longbottom, 46",
         "orientation": "v",
         "showlegend": true,
         "x": [
          "Neville Longbottom",
          "Neville Longbottom"
         ],
         "xaxis": "x",
         "y": [
          46,
          46
         ],
         "yaxis": "y",
         "type": "histogram"
        },
        {
         "alignmentgroup": "True",
         "bingroup": "x",
         "histfunc": "sum",
         "hovertemplate": "favourite_character=%{x}<br>user_age=34<br>sum of user_age=%{y}<extra></extra>",
         "legendgroup": "Neville Longbottom, 34",
         "marker": {
          "color": "#ab63fa",
          "pattern": {
           "shape": "+"
          }
         },
         "name": "Neville Longbottom, 34",
         "offsetgroup": "Neville Longbottom, 34",
         "orientation": "v",
         "showlegend": true,
         "x": [
          "Neville Longbottom",
          "Neville Longbottom",
          "Neville Longbottom",
          "Neville Longbottom",
          "Neville Longbottom"
         ],
         "xaxis": "x",
         "y": [
          34,
          34,
          34,
          34,
          34
         ],
         "yaxis": "y",
         "type": "histogram"
        },
        {
         "alignmentgroup": "True",
         "bingroup": "x",
         "histfunc": "sum",
         "hovertemplate": "favourite_character=%{x}<br>user_age=38<br>sum of user_age=%{y}<extra></extra>",
         "legendgroup": "Neville Longbottom, 38",
         "marker": {
          "color": "#ab63fa",
          "pattern": {
           "shape": ""
          }
         },
         "name": "Neville Longbottom, 38",
         "offsetgroup": "Neville Longbottom, 38",
         "orientation": "v",
         "showlegend": true,
         "x": [
          "Neville Longbottom"
         ],
         "xaxis": "x",
         "y": [
          38
         ],
         "yaxis": "y",
         "type": "histogram"
        },
        {
         "alignmentgroup": "True",
         "bingroup": "x",
         "histfunc": "sum",
         "hovertemplate": "favourite_character=%{x}<br>user_age=31<br>sum of user_age=%{y}<extra></extra>",
         "legendgroup": "Neville Longbottom, 31",
         "marker": {
          "color": "#ab63fa",
          "pattern": {
           "shape": "+"
          }
         },
         "name": "Neville Longbottom, 31",
         "offsetgroup": "Neville Longbottom, 31",
         "orientation": "v",
         "showlegend": true,
         "x": [
          "Neville Longbottom",
          "Neville Longbottom"
         ],
         "xaxis": "x",
         "y": [
          31,
          31
         ],
         "yaxis": "y",
         "type": "histogram"
        },
        {
         "alignmentgroup": "True",
         "bingroup": "x",
         "histfunc": "sum",
         "hovertemplate": "favourite_character=%{x}<br>user_age=30<br>sum of user_age=%{y}<extra></extra>",
         "legendgroup": "Neville Longbottom, 30",
         "marker": {
          "color": "#ab63fa",
          "pattern": {
           "shape": "/"
          }
         },
         "name": "Neville Longbottom, 30",
         "offsetgroup": "Neville Longbottom, 30",
         "orientation": "v",
         "showlegend": true,
         "x": [
          "Neville Longbottom"
         ],
         "xaxis": "x",
         "y": [
          30
         ],
         "yaxis": "y",
         "type": "histogram"
        },
        {
         "alignmentgroup": "True",
         "bingroup": "x",
         "histfunc": "sum",
         "hovertemplate": "favourite_character=%{x}<br>user_age=33<br>sum of user_age=%{y}<extra></extra>",
         "legendgroup": "Neville Longbottom, 33",
         "marker": {
          "color": "#ab63fa",
          "pattern": {
           "shape": "\\"
          }
         },
         "name": "Neville Longbottom, 33",
         "offsetgroup": "Neville Longbottom, 33",
         "orientation": "v",
         "showlegend": true,
         "x": [
          "Neville Longbottom",
          "Neville Longbottom",
          "Neville Longbottom"
         ],
         "xaxis": "x",
         "y": [
          33,
          33,
          33
         ],
         "yaxis": "y",
         "type": "histogram"
        },
        {
         "alignmentgroup": "True",
         "bingroup": "x",
         "histfunc": "sum",
         "hovertemplate": "favourite_character=%{x}<br>user_age=48<br>sum of user_age=%{y}<extra></extra>",
         "legendgroup": "Neville Longbottom, 48",
         "marker": {
          "color": "#ab63fa",
          "pattern": {
           "shape": "x"
          }
         },
         "name": "Neville Longbottom, 48",
         "offsetgroup": "Neville Longbottom, 48",
         "orientation": "v",
         "showlegend": true,
         "x": [
          "Neville Longbottom",
          "Neville Longbottom",
          "Neville Longbottom"
         ],
         "xaxis": "x",
         "y": [
          48,
          48,
          48
         ],
         "yaxis": "y",
         "type": "histogram"
        },
        {
         "alignmentgroup": "True",
         "bingroup": "x",
         "histfunc": "sum",
         "hovertemplate": "favourite_character=%{x}<br>user_age=35<br>sum of user_age=%{y}<extra></extra>",
         "legendgroup": "Neville Longbottom, 35",
         "marker": {
          "color": "#ab63fa",
          "pattern": {
           "shape": "+"
          }
         },
         "name": "Neville Longbottom, 35",
         "offsetgroup": "Neville Longbottom, 35",
         "orientation": "v",
         "showlegend": true,
         "x": [
          "Neville Longbottom",
          "Neville Longbottom",
          "Neville Longbottom",
          "Neville Longbottom",
          "Neville Longbottom",
          "Neville Longbottom"
         ],
         "xaxis": "x",
         "y": [
          35,
          35,
          35,
          35,
          35,
          35
         ],
         "yaxis": "y",
         "type": "histogram"
        },
        {
         "alignmentgroup": "True",
         "bingroup": "x",
         "histfunc": "sum",
         "hovertemplate": "favourite_character=%{x}<br>user_age=44<br>sum of user_age=%{y}<extra></extra>",
         "legendgroup": "Neville Longbottom, 44",
         "marker": {
          "color": "#ab63fa",
          "pattern": {
           "shape": ""
          }
         },
         "name": "Neville Longbottom, 44",
         "offsetgroup": "Neville Longbottom, 44",
         "orientation": "v",
         "showlegend": true,
         "x": [
          "Neville Longbottom",
          "Neville Longbottom",
          "Neville Longbottom",
          "Neville Longbottom"
         ],
         "xaxis": "x",
         "y": [
          44,
          44,
          44,
          44
         ],
         "yaxis": "y",
         "type": "histogram"
        },
        {
         "alignmentgroup": "True",
         "bingroup": "x",
         "histfunc": "sum",
         "hovertemplate": "favourite_character=%{x}<br>user_age=36<br>sum of user_age=%{y}<extra></extra>",
         "legendgroup": "Neville Longbottom, 36",
         "marker": {
          "color": "#ab63fa",
          "pattern": {
           "shape": "/"
          }
         },
         "name": "Neville Longbottom, 36",
         "offsetgroup": "Neville Longbottom, 36",
         "orientation": "v",
         "showlegend": true,
         "x": [
          "Neville Longbottom",
          "Neville Longbottom"
         ],
         "xaxis": "x",
         "y": [
          36,
          36
         ],
         "yaxis": "y",
         "type": "histogram"
        },
        {
         "alignmentgroup": "True",
         "bingroup": "x",
         "histfunc": "sum",
         "hovertemplate": "favourite_character=%{x}<br>user_age=45<br>sum of user_age=%{y}<extra></extra>",
         "legendgroup": "Neville Longbottom, 45",
         "marker": {
          "color": "#ab63fa",
          "pattern": {
           "shape": "\\"
          }
         },
         "name": "Neville Longbottom, 45",
         "offsetgroup": "Neville Longbottom, 45",
         "orientation": "v",
         "showlegend": true,
         "x": [
          "Neville Longbottom",
          "Neville Longbottom"
         ],
         "xaxis": "x",
         "y": [
          45,
          45
         ],
         "yaxis": "y",
         "type": "histogram"
        },
        {
         "alignmentgroup": "True",
         "bingroup": "x",
         "histfunc": "sum",
         "hovertemplate": "favourite_character=%{x}<br>user_age=25<br>sum of user_age=%{y}<extra></extra>",
         "legendgroup": "Neville Longbottom, 25",
         "marker": {
          "color": "#ab63fa",
          "pattern": {
           "shape": "x"
          }
         },
         "name": "Neville Longbottom, 25",
         "offsetgroup": "Neville Longbottom, 25",
         "orientation": "v",
         "showlegend": true,
         "x": [
          "Neville Longbottom"
         ],
         "xaxis": "x",
         "y": [
          25
         ],
         "yaxis": "y",
         "type": "histogram"
        },
        {
         "alignmentgroup": "True",
         "bingroup": "x",
         "histfunc": "sum",
         "hovertemplate": "favourite_character=%{x}<br>user_age=19<br>sum of user_age=%{y}<extra></extra>",
         "legendgroup": "Neville Longbottom, 19",
         "marker": {
          "color": "#ab63fa",
          "pattern": {
           "shape": "."
          }
         },
         "name": "Neville Longbottom, 19",
         "offsetgroup": "Neville Longbottom, 19",
         "orientation": "v",
         "showlegend": true,
         "x": [
          "Neville Longbottom"
         ],
         "xaxis": "x",
         "y": [
          19
         ],
         "yaxis": "y",
         "type": "histogram"
        },
        {
         "alignmentgroup": "True",
         "bingroup": "x",
         "histfunc": "sum",
         "hovertemplate": "favourite_character=%{x}<br>user_age=41<br>sum of user_age=%{y}<extra></extra>",
         "legendgroup": "Neville Longbottom, 41",
         "marker": {
          "color": "#ab63fa",
          "pattern": {
           "shape": ""
          }
         },
         "name": "Neville Longbottom, 41",
         "offsetgroup": "Neville Longbottom, 41",
         "orientation": "v",
         "showlegend": true,
         "x": [
          "Neville Longbottom",
          "Neville Longbottom"
         ],
         "xaxis": "x",
         "y": [
          41,
          41
         ],
         "yaxis": "y",
         "type": "histogram"
        },
        {
         "alignmentgroup": "True",
         "bingroup": "x",
         "histfunc": "sum",
         "hovertemplate": "favourite_character=%{x}<br>user_age=60<br>sum of user_age=%{y}<extra></extra>",
         "legendgroup": "Neville Longbottom, 60",
         "marker": {
          "color": "#ab63fa",
          "pattern": {
           "shape": "/"
          }
         },
         "name": "Neville Longbottom, 60",
         "offsetgroup": "Neville Longbottom, 60",
         "orientation": "v",
         "showlegend": true,
         "x": [
          "Neville Longbottom"
         ],
         "xaxis": "x",
         "y": [
          60
         ],
         "yaxis": "y",
         "type": "histogram"
        },
        {
         "alignmentgroup": "True",
         "bingroup": "x",
         "histfunc": "sum",
         "hovertemplate": "favourite_character=%{x}<br>user_age=10<br>sum of user_age=%{y}<extra></extra>",
         "legendgroup": "Neville Longbottom, 10",
         "marker": {
          "color": "#ab63fa",
          "pattern": {
           "shape": "\\"
          }
         },
         "name": "Neville Longbottom, 10",
         "offsetgroup": "Neville Longbottom, 10",
         "orientation": "v",
         "showlegend": true,
         "x": [
          "Neville Longbottom"
         ],
         "xaxis": "x",
         "y": [
          10
         ],
         "yaxis": "y",
         "type": "histogram"
        },
        {
         "alignmentgroup": "True",
         "bingroup": "x",
         "histfunc": "sum",
         "hovertemplate": "favourite_character=%{x}<br>user_age=11<br>sum of user_age=%{y}<extra></extra>",
         "legendgroup": "Neville Longbottom, 11",
         "marker": {
          "color": "#ab63fa",
          "pattern": {
           "shape": "x"
          }
         },
         "name": "Neville Longbottom, 11",
         "offsetgroup": "Neville Longbottom, 11",
         "orientation": "v",
         "showlegend": true,
         "x": [
          "Neville Longbottom"
         ],
         "xaxis": "x",
         "y": [
          11
         ],
         "yaxis": "y",
         "type": "histogram"
        },
        {
         "alignmentgroup": "True",
         "bingroup": "x",
         "histfunc": "sum",
         "hovertemplate": "favourite_character=%{x}<br>user_age=56<br>sum of user_age=%{y}<extra></extra>",
         "legendgroup": "Neville Longbottom, 56",
         "marker": {
          "color": "#ab63fa",
          "pattern": {
           "shape": "+"
          }
         },
         "name": "Neville Longbottom, 56",
         "offsetgroup": "Neville Longbottom, 56",
         "orientation": "v",
         "showlegend": true,
         "x": [
          "Neville Longbottom"
         ],
         "xaxis": "x",
         "y": [
          56
         ],
         "yaxis": "y",
         "type": "histogram"
        },
        {
         "alignmentgroup": "True",
         "bingroup": "x",
         "histfunc": "sum",
         "hovertemplate": "favourite_character=%{x}<br>user_age=43<br>sum of user_age=%{y}<extra></extra>",
         "legendgroup": "Neville Longbottom, 43",
         "marker": {
          "color": "#ab63fa",
          "pattern": {
           "shape": "x"
          }
         },
         "name": "Neville Longbottom, 43",
         "offsetgroup": "Neville Longbottom, 43",
         "orientation": "v",
         "showlegend": true,
         "x": [
          "Neville Longbottom"
         ],
         "xaxis": "x",
         "y": [
          43
         ],
         "yaxis": "y",
         "type": "histogram"
        },
        {
         "alignmentgroup": "True",
         "bingroup": "x",
         "histfunc": "sum",
         "hovertemplate": "favourite_character=%{x}<br>user_age=37<br>sum of user_age=%{y}<extra></extra>",
         "legendgroup": "Neville Longbottom, 37",
         "marker": {
          "color": "#ab63fa",
          "pattern": {
           "shape": "+"
          }
         },
         "name": "Neville Longbottom, 37",
         "offsetgroup": "Neville Longbottom, 37",
         "orientation": "v",
         "showlegend": true,
         "x": [
          "Neville Longbottom",
          "Neville Longbottom"
         ],
         "xaxis": "x",
         "y": [
          37,
          37
         ],
         "yaxis": "y",
         "type": "histogram"
        },
        {
         "alignmentgroup": "True",
         "bingroup": "x",
         "histfunc": "sum",
         "hovertemplate": "favourite_character=%{x}<br>user_age=17<br>sum of user_age=%{y}<extra></extra>",
         "legendgroup": "Neville Longbottom, 17",
         "marker": {
          "color": "#ab63fa",
          "pattern": {
           "shape": "/"
          }
         },
         "name": "Neville Longbottom, 17",
         "offsetgroup": "Neville Longbottom, 17",
         "orientation": "v",
         "showlegend": true,
         "x": [
          "Neville Longbottom"
         ],
         "xaxis": "x",
         "y": [
          17
         ],
         "yaxis": "y",
         "type": "histogram"
        },
        {
         "alignmentgroup": "True",
         "bingroup": "x",
         "histfunc": "sum",
         "hovertemplate": "favourite_character=%{x}<br>user_age=21<br>sum of user_age=%{y}<extra></extra>",
         "legendgroup": "Neville Longbottom, 21",
         "marker": {
          "color": "#ab63fa",
          "pattern": {
           "shape": "\\"
          }
         },
         "name": "Neville Longbottom, 21",
         "offsetgroup": "Neville Longbottom, 21",
         "orientation": "v",
         "showlegend": true,
         "x": [
          "Neville Longbottom"
         ],
         "xaxis": "x",
         "y": [
          21
         ],
         "yaxis": "y",
         "type": "histogram"
        },
        {
         "alignmentgroup": "True",
         "bingroup": "x",
         "histfunc": "sum",
         "hovertemplate": "favourite_character=%{x}<br>user_age=14<br>sum of user_age=%{y}<extra></extra>",
         "legendgroup": "Neville Longbottom, 14",
         "marker": {
          "color": "#ab63fa",
          "pattern": {
           "shape": "x"
          }
         },
         "name": "Neville Longbottom, 14",
         "offsetgroup": "Neville Longbottom, 14",
         "orientation": "v",
         "showlegend": true,
         "x": [
          "Neville Longbottom"
         ],
         "xaxis": "x",
         "y": [
          14
         ],
         "yaxis": "y",
         "type": "histogram"
        },
        {
         "alignmentgroup": "True",
         "bingroup": "x",
         "histfunc": "sum",
         "hovertemplate": "favourite_character=%{x}<br>user_age=27<br>sum of user_age=%{y}<extra></extra>",
         "legendgroup": "Neville Longbottom, 27",
         "marker": {
          "color": "#ab63fa",
          "pattern": {
           "shape": "+"
          }
         },
         "name": "Neville Longbottom, 27",
         "offsetgroup": "Neville Longbottom, 27",
         "orientation": "v",
         "showlegend": true,
         "x": [
          "Neville Longbottom"
         ],
         "xaxis": "x",
         "y": [
          27
         ],
         "yaxis": "y",
         "type": "histogram"
        },
        {
         "alignmentgroup": "True",
         "bingroup": "x",
         "histfunc": "sum",
         "hovertemplate": "favourite_character=%{x}<br>user_age=50<br>sum of user_age=%{y}<extra></extra>",
         "legendgroup": "Albus Dumbledore, 50",
         "marker": {
          "color": "#FFA15A",
          "pattern": {
           "shape": ""
          }
         },
         "name": "Albus Dumbledore, 50",
         "offsetgroup": "Albus Dumbledore, 50",
         "orientation": "v",
         "showlegend": true,
         "x": [
          "Albus Dumbledore",
          "Albus Dumbledore"
         ],
         "xaxis": "x",
         "y": [
          50,
          50
         ],
         "yaxis": "y",
         "type": "histogram"
        },
        {
         "alignmentgroup": "True",
         "bingroup": "x",
         "histfunc": "sum",
         "hovertemplate": "favourite_character=%{x}<br>user_age=40<br>sum of user_age=%{y}<extra></extra>",
         "legendgroup": "Albus Dumbledore, 40",
         "marker": {
          "color": "#FFA15A",
          "pattern": {
           "shape": "+"
          }
         },
         "name": "Albus Dumbledore, 40",
         "offsetgroup": "Albus Dumbledore, 40",
         "orientation": "v",
         "showlegend": true,
         "x": [
          "Albus Dumbledore"
         ],
         "xaxis": "x",
         "y": [
          40
         ],
         "yaxis": "y",
         "type": "histogram"
        },
        {
         "alignmentgroup": "True",
         "bingroup": "x",
         "histfunc": "sum",
         "hovertemplate": "favourite_character=%{x}<br>user_age=26<br>sum of user_age=%{y}<extra></extra>",
         "legendgroup": "Albus Dumbledore, 26",
         "marker": {
          "color": "#FFA15A",
          "pattern": {
           "shape": ""
          }
         },
         "name": "Albus Dumbledore, 26",
         "offsetgroup": "Albus Dumbledore, 26",
         "orientation": "v",
         "showlegend": true,
         "x": [
          "Albus Dumbledore",
          "Albus Dumbledore",
          "Albus Dumbledore"
         ],
         "xaxis": "x",
         "y": [
          26,
          26,
          26
         ],
         "yaxis": "y",
         "type": "histogram"
        },
        {
         "alignmentgroup": "True",
         "bingroup": "x",
         "histfunc": "sum",
         "hovertemplate": "favourite_character=%{x}<br>user_age=28<br>sum of user_age=%{y}<extra></extra>",
         "legendgroup": "Albus Dumbledore, 28",
         "marker": {
          "color": "#FFA15A",
          "pattern": {
           "shape": "/"
          }
         },
         "name": "Albus Dumbledore, 28",
         "offsetgroup": "Albus Dumbledore, 28",
         "orientation": "v",
         "showlegend": true,
         "x": [
          "Albus Dumbledore"
         ],
         "xaxis": "x",
         "y": [
          28
         ],
         "yaxis": "y",
         "type": "histogram"
        },
        {
         "alignmentgroup": "True",
         "bingroup": "x",
         "histfunc": "sum",
         "hovertemplate": "favourite_character=%{x}<br>user_age=52<br>sum of user_age=%{y}<extra></extra>",
         "legendgroup": "Albus Dumbledore, 52",
         "marker": {
          "color": "#FFA15A",
          "pattern": {
           "shape": "\\"
          }
         },
         "name": "Albus Dumbledore, 52",
         "offsetgroup": "Albus Dumbledore, 52",
         "orientation": "v",
         "showlegend": true,
         "x": [
          "Albus Dumbledore"
         ],
         "xaxis": "x",
         "y": [
          52
         ],
         "yaxis": "y",
         "type": "histogram"
        },
        {
         "alignmentgroup": "True",
         "bingroup": "x",
         "histfunc": "sum",
         "hovertemplate": "favourite_character=%{x}<br>user_age=46<br>sum of user_age=%{y}<extra></extra>",
         "legendgroup": "Albus Dumbledore, 46",
         "marker": {
          "color": "#FFA15A",
          "pattern": {
           "shape": "x"
          }
         },
         "name": "Albus Dumbledore, 46",
         "offsetgroup": "Albus Dumbledore, 46",
         "orientation": "v",
         "showlegend": true,
         "x": [
          "Albus Dumbledore",
          "Albus Dumbledore"
         ],
         "xaxis": "x",
         "y": [
          46,
          46
         ],
         "yaxis": "y",
         "type": "histogram"
        },
        {
         "alignmentgroup": "True",
         "bingroup": "x",
         "histfunc": "sum",
         "hovertemplate": "favourite_character=%{x}<br>user_age=34<br>sum of user_age=%{y}<extra></extra>",
         "legendgroup": "Albus Dumbledore, 34",
         "marker": {
          "color": "#FFA15A",
          "pattern": {
           "shape": "+"
          }
         },
         "name": "Albus Dumbledore, 34",
         "offsetgroup": "Albus Dumbledore, 34",
         "orientation": "v",
         "showlegend": true,
         "x": [
          "Albus Dumbledore",
          "Albus Dumbledore",
          "Albus Dumbledore",
          "Albus Dumbledore"
         ],
         "xaxis": "x",
         "y": [
          34,
          34,
          34,
          34
         ],
         "yaxis": "y",
         "type": "histogram"
        },
        {
         "alignmentgroup": "True",
         "bingroup": "x",
         "histfunc": "sum",
         "hovertemplate": "favourite_character=%{x}<br>user_age=51<br>sum of user_age=%{y}<extra></extra>",
         "legendgroup": "Albus Dumbledore, 51",
         "marker": {
          "color": "#FFA15A",
          "pattern": {
           "shape": "."
          }
         },
         "name": "Albus Dumbledore, 51",
         "offsetgroup": "Albus Dumbledore, 51",
         "orientation": "v",
         "showlegend": true,
         "x": [
          "Albus Dumbledore",
          "Albus Dumbledore"
         ],
         "xaxis": "x",
         "y": [
          51,
          51
         ],
         "yaxis": "y",
         "type": "histogram"
        },
        {
         "alignmentgroup": "True",
         "bingroup": "x",
         "histfunc": "sum",
         "hovertemplate": "favourite_character=%{x}<br>user_age=38<br>sum of user_age=%{y}<extra></extra>",
         "legendgroup": "Albus Dumbledore, 38",
         "marker": {
          "color": "#FFA15A",
          "pattern": {
           "shape": ""
          }
         },
         "name": "Albus Dumbledore, 38",
         "offsetgroup": "Albus Dumbledore, 38",
         "orientation": "v",
         "showlegend": true,
         "x": [
          "Albus Dumbledore",
          "Albus Dumbledore"
         ],
         "xaxis": "x",
         "y": [
          38,
          38
         ],
         "yaxis": "y",
         "type": "histogram"
        },
        {
         "alignmentgroup": "True",
         "bingroup": "x",
         "histfunc": "sum",
         "hovertemplate": "favourite_character=%{x}<br>user_age=20<br>sum of user_age=%{y}<extra></extra>",
         "legendgroup": "Albus Dumbledore, 20",
         "marker": {
          "color": "#FFA15A",
          "pattern": {
           "shape": "x"
          }
         },
         "name": "Albus Dumbledore, 20",
         "offsetgroup": "Albus Dumbledore, 20",
         "orientation": "v",
         "showlegend": true,
         "x": [
          "Albus Dumbledore"
         ],
         "xaxis": "x",
         "y": [
          20
         ],
         "yaxis": "y",
         "type": "histogram"
        },
        {
         "alignmentgroup": "True",
         "bingroup": "x",
         "histfunc": "sum",
         "hovertemplate": "favourite_character=%{x}<br>user_age=31<br>sum of user_age=%{y}<extra></extra>",
         "legendgroup": "Albus Dumbledore, 31",
         "marker": {
          "color": "#FFA15A",
          "pattern": {
           "shape": "+"
          }
         },
         "name": "Albus Dumbledore, 31",
         "offsetgroup": "Albus Dumbledore, 31",
         "orientation": "v",
         "showlegend": true,
         "x": [
          "Albus Dumbledore",
          "Albus Dumbledore",
          "Albus Dumbledore",
          "Albus Dumbledore",
          "Albus Dumbledore"
         ],
         "xaxis": "x",
         "y": [
          31,
          31,
          31,
          31,
          31
         ],
         "yaxis": "y",
         "type": "histogram"
        },
        {
         "alignmentgroup": "True",
         "bingroup": "x",
         "histfunc": "sum",
         "hovertemplate": "favourite_character=%{x}<br>user_age=57<br>sum of user_age=%{y}<extra></extra>",
         "legendgroup": "Albus Dumbledore, 57",
         "marker": {
          "color": "#FFA15A",
          "pattern": {
           "shape": ""
          }
         },
         "name": "Albus Dumbledore, 57",
         "offsetgroup": "Albus Dumbledore, 57",
         "orientation": "v",
         "showlegend": true,
         "x": [
          "Albus Dumbledore"
         ],
         "xaxis": "x",
         "y": [
          57
         ],
         "yaxis": "y",
         "type": "histogram"
        },
        {
         "alignmentgroup": "True",
         "bingroup": "x",
         "histfunc": "sum",
         "hovertemplate": "favourite_character=%{x}<br>user_age=33<br>sum of user_age=%{y}<extra></extra>",
         "legendgroup": "Albus Dumbledore, 33",
         "marker": {
          "color": "#FFA15A",
          "pattern": {
           "shape": "\\"
          }
         },
         "name": "Albus Dumbledore, 33",
         "offsetgroup": "Albus Dumbledore, 33",
         "orientation": "v",
         "showlegend": true,
         "x": [
          "Albus Dumbledore",
          "Albus Dumbledore",
          "Albus Dumbledore",
          "Albus Dumbledore"
         ],
         "xaxis": "x",
         "y": [
          33,
          33,
          33,
          33
         ],
         "yaxis": "y",
         "type": "histogram"
        },
        {
         "alignmentgroup": "True",
         "bingroup": "x",
         "histfunc": "sum",
         "hovertemplate": "favourite_character=%{x}<br>user_age=48<br>sum of user_age=%{y}<extra></extra>",
         "legendgroup": "Albus Dumbledore, 48",
         "marker": {
          "color": "#FFA15A",
          "pattern": {
           "shape": "x"
          }
         },
         "name": "Albus Dumbledore, 48",
         "offsetgroup": "Albus Dumbledore, 48",
         "orientation": "v",
         "showlegend": true,
         "x": [
          "Albus Dumbledore"
         ],
         "xaxis": "x",
         "y": [
          48
         ],
         "yaxis": "y",
         "type": "histogram"
        },
        {
         "alignmentgroup": "True",
         "bingroup": "x",
         "histfunc": "sum",
         "hovertemplate": "favourite_character=%{x}<br>user_age=35<br>sum of user_age=%{y}<extra></extra>",
         "legendgroup": "Albus Dumbledore, 35",
         "marker": {
          "color": "#FFA15A",
          "pattern": {
           "shape": "+"
          }
         },
         "name": "Albus Dumbledore, 35",
         "offsetgroup": "Albus Dumbledore, 35",
         "orientation": "v",
         "showlegend": true,
         "x": [
          "Albus Dumbledore"
         ],
         "xaxis": "x",
         "y": [
          35
         ],
         "yaxis": "y",
         "type": "histogram"
        },
        {
         "alignmentgroup": "True",
         "bingroup": "x",
         "histfunc": "sum",
         "hovertemplate": "favourite_character=%{x}<br>user_age=29<br>sum of user_age=%{y}<extra></extra>",
         "legendgroup": "Albus Dumbledore, 29",
         "marker": {
          "color": "#FFA15A",
          "pattern": {
           "shape": "."
          }
         },
         "name": "Albus Dumbledore, 29",
         "offsetgroup": "Albus Dumbledore, 29",
         "orientation": "v",
         "showlegend": true,
         "x": [
          "Albus Dumbledore",
          "Albus Dumbledore"
         ],
         "xaxis": "x",
         "y": [
          29,
          29
         ],
         "yaxis": "y",
         "type": "histogram"
        },
        {
         "alignmentgroup": "True",
         "bingroup": "x",
         "histfunc": "sum",
         "hovertemplate": "favourite_character=%{x}<br>user_age=36<br>sum of user_age=%{y}<extra></extra>",
         "legendgroup": "Albus Dumbledore, 36",
         "marker": {
          "color": "#FFA15A",
          "pattern": {
           "shape": "/"
          }
         },
         "name": "Albus Dumbledore, 36",
         "offsetgroup": "Albus Dumbledore, 36",
         "orientation": "v",
         "showlegend": true,
         "x": [
          "Albus Dumbledore",
          "Albus Dumbledore",
          "Albus Dumbledore"
         ],
         "xaxis": "x",
         "y": [
          36,
          36,
          36
         ],
         "yaxis": "y",
         "type": "histogram"
        },
        {
         "alignmentgroup": "True",
         "bingroup": "x",
         "histfunc": "sum",
         "hovertemplate": "favourite_character=%{x}<br>user_age=45<br>sum of user_age=%{y}<extra></extra>",
         "legendgroup": "Albus Dumbledore, 45",
         "marker": {
          "color": "#FFA15A",
          "pattern": {
           "shape": "\\"
          }
         },
         "name": "Albus Dumbledore, 45",
         "offsetgroup": "Albus Dumbledore, 45",
         "orientation": "v",
         "showlegend": true,
         "x": [
          "Albus Dumbledore"
         ],
         "xaxis": "x",
         "y": [
          45
         ],
         "yaxis": "y",
         "type": "histogram"
        },
        {
         "alignmentgroup": "True",
         "bingroup": "x",
         "histfunc": "sum",
         "hovertemplate": "favourite_character=%{x}<br>user_age=53<br>sum of user_age=%{y}<extra></extra>",
         "legendgroup": "Albus Dumbledore, 53",
         "marker": {
          "color": "#FFA15A",
          "pattern": {
           "shape": "+"
          }
         },
         "name": "Albus Dumbledore, 53",
         "offsetgroup": "Albus Dumbledore, 53",
         "orientation": "v",
         "showlegend": true,
         "x": [
          "Albus Dumbledore",
          "Albus Dumbledore"
         ],
         "xaxis": "x",
         "y": [
          53,
          53
         ],
         "yaxis": "y",
         "type": "histogram"
        },
        {
         "alignmentgroup": "True",
         "bingroup": "x",
         "histfunc": "sum",
         "hovertemplate": "favourite_character=%{x}<br>user_age=41<br>sum of user_age=%{y}<extra></extra>",
         "legendgroup": "Albus Dumbledore, 41",
         "marker": {
          "color": "#FFA15A",
          "pattern": {
           "shape": ""
          }
         },
         "name": "Albus Dumbledore, 41",
         "offsetgroup": "Albus Dumbledore, 41",
         "orientation": "v",
         "showlegend": true,
         "x": [
          "Albus Dumbledore",
          "Albus Dumbledore",
          "Albus Dumbledore"
         ],
         "xaxis": "x",
         "y": [
          41,
          41,
          41
         ],
         "yaxis": "y",
         "type": "histogram"
        },
        {
         "alignmentgroup": "True",
         "bingroup": "x",
         "histfunc": "sum",
         "hovertemplate": "favourite_character=%{x}<br>user_age=13<br>sum of user_age=%{y}<extra></extra>",
         "legendgroup": "Albus Dumbledore, 13",
         "marker": {
          "color": "#FFA15A",
          "pattern": {
           "shape": "/"
          }
         },
         "name": "Albus Dumbledore, 13",
         "offsetgroup": "Albus Dumbledore, 13",
         "orientation": "v",
         "showlegend": true,
         "x": [
          "Albus Dumbledore",
          "Albus Dumbledore"
         ],
         "xaxis": "x",
         "y": [
          13,
          13
         ],
         "yaxis": "y",
         "type": "histogram"
        },
        {
         "alignmentgroup": "True",
         "bingroup": "x",
         "histfunc": "sum",
         "hovertemplate": "favourite_character=%{x}<br>user_age=43<br>sum of user_age=%{y}<extra></extra>",
         "legendgroup": "Albus Dumbledore, 43",
         "marker": {
          "color": "#FFA15A",
          "pattern": {
           "shape": "x"
          }
         },
         "name": "Albus Dumbledore, 43",
         "offsetgroup": "Albus Dumbledore, 43",
         "orientation": "v",
         "showlegend": true,
         "x": [
          "Albus Dumbledore",
          "Albus Dumbledore"
         ],
         "xaxis": "x",
         "y": [
          43,
          43
         ],
         "yaxis": "y",
         "type": "histogram"
        },
        {
         "alignmentgroup": "True",
         "bingroup": "x",
         "histfunc": "sum",
         "hovertemplate": "favourite_character=%{x}<br>user_age=37<br>sum of user_age=%{y}<extra></extra>",
         "legendgroup": "Albus Dumbledore, 37",
         "marker": {
          "color": "#FFA15A",
          "pattern": {
           "shape": "+"
          }
         },
         "name": "Albus Dumbledore, 37",
         "offsetgroup": "Albus Dumbledore, 37",
         "orientation": "v",
         "showlegend": true,
         "x": [
          "Albus Dumbledore",
          "Albus Dumbledore"
         ],
         "xaxis": "x",
         "y": [
          37,
          37
         ],
         "yaxis": "y",
         "type": "histogram"
        },
        {
         "alignmentgroup": "True",
         "bingroup": "x",
         "histfunc": "sum",
         "hovertemplate": "favourite_character=%{x}<br>user_age=21<br>sum of user_age=%{y}<extra></extra>",
         "legendgroup": "Albus Dumbledore, 21",
         "marker": {
          "color": "#FFA15A",
          "pattern": {
           "shape": "\\"
          }
         },
         "name": "Albus Dumbledore, 21",
         "offsetgroup": "Albus Dumbledore, 21",
         "orientation": "v",
         "showlegend": true,
         "x": [
          "Albus Dumbledore"
         ],
         "xaxis": "x",
         "y": [
          21
         ],
         "yaxis": "y",
         "type": "histogram"
        },
        {
         "alignmentgroup": "True",
         "bingroup": "x",
         "histfunc": "sum",
         "hovertemplate": "favourite_character=%{x}<br>user_age=14<br>sum of user_age=%{y}<extra></extra>",
         "legendgroup": "Albus Dumbledore, 14",
         "marker": {
          "color": "#FFA15A",
          "pattern": {
           "shape": "x"
          }
         },
         "name": "Albus Dumbledore, 14",
         "offsetgroup": "Albus Dumbledore, 14",
         "orientation": "v",
         "showlegend": true,
         "x": [
          "Albus Dumbledore"
         ],
         "xaxis": "x",
         "y": [
          14
         ],
         "yaxis": "y",
         "type": "histogram"
        },
        {
         "alignmentgroup": "True",
         "bingroup": "x",
         "histfunc": "sum",
         "hovertemplate": "favourite_character=%{x}<br>user_age=50<br>sum of user_age=%{y}<extra></extra>",
         "legendgroup": "Hermione Granger, 50",
         "marker": {
          "color": "#19d3f3",
          "pattern": {
           "shape": ""
          }
         },
         "name": "Hermione Granger, 50",
         "offsetgroup": "Hermione Granger, 50",
         "orientation": "v",
         "showlegend": true,
         "x": [
          "Hermione Granger",
          "Hermione Granger"
         ],
         "xaxis": "x",
         "y": [
          50,
          50
         ],
         "yaxis": "y",
         "type": "histogram"
        },
        {
         "alignmentgroup": "True",
         "bingroup": "x",
         "histfunc": "sum",
         "hovertemplate": "favourite_character=%{x}<br>user_age=23<br>sum of user_age=%{y}<extra></extra>",
         "legendgroup": "Hermione Granger, 23",
         "marker": {
          "color": "#19d3f3",
          "pattern": {
           "shape": "/"
          }
         },
         "name": "Hermione Granger, 23",
         "offsetgroup": "Hermione Granger, 23",
         "orientation": "v",
         "showlegend": true,
         "x": [
          "Hermione Granger",
          "Hermione Granger",
          "Hermione Granger",
          "Hermione Granger"
         ],
         "xaxis": "x",
         "y": [
          23,
          23,
          23,
          23
         ],
         "yaxis": "y",
         "type": "histogram"
        },
        {
         "alignmentgroup": "True",
         "bingroup": "x",
         "histfunc": "sum",
         "hovertemplate": "favourite_character=%{x}<br>user_age=24<br>sum of user_age=%{y}<extra></extra>",
         "legendgroup": "Hermione Granger, 24",
         "marker": {
          "color": "#19d3f3",
          "pattern": {
           "shape": "x"
          }
         },
         "name": "Hermione Granger, 24",
         "offsetgroup": "Hermione Granger, 24",
         "orientation": "v",
         "showlegend": true,
         "x": [
          "Hermione Granger"
         ],
         "xaxis": "x",
         "y": [
          24
         ],
         "yaxis": "y",
         "type": "histogram"
        },
        {
         "alignmentgroup": "True",
         "bingroup": "x",
         "histfunc": "sum",
         "hovertemplate": "favourite_character=%{x}<br>user_age=40<br>sum of user_age=%{y}<extra></extra>",
         "legendgroup": "Hermione Granger, 40",
         "marker": {
          "color": "#19d3f3",
          "pattern": {
           "shape": "+"
          }
         },
         "name": "Hermione Granger, 40",
         "offsetgroup": "Hermione Granger, 40",
         "orientation": "v",
         "showlegend": true,
         "x": [
          "Hermione Granger"
         ],
         "xaxis": "x",
         "y": [
          40
         ],
         "yaxis": "y",
         "type": "histogram"
        },
        {
         "alignmentgroup": "True",
         "bingroup": "x",
         "histfunc": "sum",
         "hovertemplate": "favourite_character=%{x}<br>user_age=16<br>sum of user_age=%{y}<extra></extra>",
         "legendgroup": "Hermione Granger, 16",
         "marker": {
          "color": "#19d3f3",
          "pattern": {
           "shape": "."
          }
         },
         "name": "Hermione Granger, 16",
         "offsetgroup": "Hermione Granger, 16",
         "orientation": "v",
         "showlegend": true,
         "x": [
          "Hermione Granger"
         ],
         "xaxis": "x",
         "y": [
          16
         ],
         "yaxis": "y",
         "type": "histogram"
        },
        {
         "alignmentgroup": "True",
         "bingroup": "x",
         "histfunc": "sum",
         "hovertemplate": "favourite_character=%{x}<br>user_age=26<br>sum of user_age=%{y}<extra></extra>",
         "legendgroup": "Hermione Granger, 26",
         "marker": {
          "color": "#19d3f3",
          "pattern": {
           "shape": ""
          }
         },
         "name": "Hermione Granger, 26",
         "offsetgroup": "Hermione Granger, 26",
         "orientation": "v",
         "showlegend": true,
         "x": [
          "Hermione Granger",
          "Hermione Granger",
          "Hermione Granger"
         ],
         "xaxis": "x",
         "y": [
          26,
          26,
          26
         ],
         "yaxis": "y",
         "type": "histogram"
        },
        {
         "alignmentgroup": "True",
         "bingroup": "x",
         "histfunc": "sum",
         "hovertemplate": "favourite_character=%{x}<br>user_age=28<br>sum of user_age=%{y}<extra></extra>",
         "legendgroup": "Hermione Granger, 28",
         "marker": {
          "color": "#19d3f3",
          "pattern": {
           "shape": "/"
          }
         },
         "name": "Hermione Granger, 28",
         "offsetgroup": "Hermione Granger, 28",
         "orientation": "v",
         "showlegend": true,
         "x": [
          "Hermione Granger",
          "Hermione Granger"
         ],
         "xaxis": "x",
         "y": [
          28,
          28
         ],
         "yaxis": "y",
         "type": "histogram"
        },
        {
         "alignmentgroup": "True",
         "bingroup": "x",
         "histfunc": "sum",
         "hovertemplate": "favourite_character=%{x}<br>user_age=52<br>sum of user_age=%{y}<extra></extra>",
         "legendgroup": "Hermione Granger, 52",
         "marker": {
          "color": "#19d3f3",
          "pattern": {
           "shape": "\\"
          }
         },
         "name": "Hermione Granger, 52",
         "offsetgroup": "Hermione Granger, 52",
         "orientation": "v",
         "showlegend": true,
         "x": [
          "Hermione Granger"
         ],
         "xaxis": "x",
         "y": [
          52
         ],
         "yaxis": "y",
         "type": "histogram"
        },
        {
         "alignmentgroup": "True",
         "bingroup": "x",
         "histfunc": "sum",
         "hovertemplate": "favourite_character=%{x}<br>user_age=46<br>sum of user_age=%{y}<extra></extra>",
         "legendgroup": "Hermione Granger, 46",
         "marker": {
          "color": "#19d3f3",
          "pattern": {
           "shape": "x"
          }
         },
         "name": "Hermione Granger, 46",
         "offsetgroup": "Hermione Granger, 46",
         "orientation": "v",
         "showlegend": true,
         "x": [
          "Hermione Granger",
          "Hermione Granger",
          "Hermione Granger",
          "Hermione Granger",
          "Hermione Granger"
         ],
         "xaxis": "x",
         "y": [
          46,
          46,
          46,
          46,
          46
         ],
         "yaxis": "y",
         "type": "histogram"
        },
        {
         "alignmentgroup": "True",
         "bingroup": "x",
         "histfunc": "sum",
         "hovertemplate": "favourite_character=%{x}<br>user_age=34<br>sum of user_age=%{y}<extra></extra>",
         "legendgroup": "Hermione Granger, 34",
         "marker": {
          "color": "#19d3f3",
          "pattern": {
           "shape": "+"
          }
         },
         "name": "Hermione Granger, 34",
         "offsetgroup": "Hermione Granger, 34",
         "orientation": "v",
         "showlegend": true,
         "x": [
          "Hermione Granger",
          "Hermione Granger",
          "Hermione Granger"
         ],
         "xaxis": "x",
         "y": [
          34,
          34,
          34
         ],
         "yaxis": "y",
         "type": "histogram"
        },
        {
         "alignmentgroup": "True",
         "bingroup": "x",
         "histfunc": "sum",
         "hovertemplate": "favourite_character=%{x}<br>user_age=51<br>sum of user_age=%{y}<extra></extra>",
         "legendgroup": "Hermione Granger, 51",
         "marker": {
          "color": "#19d3f3",
          "pattern": {
           "shape": "."
          }
         },
         "name": "Hermione Granger, 51",
         "offsetgroup": "Hermione Granger, 51",
         "orientation": "v",
         "showlegend": true,
         "x": [
          "Hermione Granger",
          "Hermione Granger"
         ],
         "xaxis": "x",
         "y": [
          51,
          51
         ],
         "yaxis": "y",
         "type": "histogram"
        },
        {
         "alignmentgroup": "True",
         "bingroup": "x",
         "histfunc": "sum",
         "hovertemplate": "favourite_character=%{x}<br>user_age=38<br>sum of user_age=%{y}<extra></extra>",
         "legendgroup": "Hermione Granger, 38",
         "marker": {
          "color": "#19d3f3",
          "pattern": {
           "shape": ""
          }
         },
         "name": "Hermione Granger, 38",
         "offsetgroup": "Hermione Granger, 38",
         "orientation": "v",
         "showlegend": true,
         "x": [
          "Hermione Granger",
          "Hermione Granger",
          "Hermione Granger",
          "Hermione Granger"
         ],
         "xaxis": "x",
         "y": [
          38,
          38,
          38,
          38
         ],
         "yaxis": "y",
         "type": "histogram"
        },
        {
         "alignmentgroup": "True",
         "bingroup": "x",
         "histfunc": "sum",
         "hovertemplate": "favourite_character=%{x}<br>user_age=47<br>sum of user_age=%{y}<extra></extra>",
         "legendgroup": "Hermione Granger, 47",
         "marker": {
          "color": "#19d3f3",
          "pattern": {
           "shape": "/"
          }
         },
         "name": "Hermione Granger, 47",
         "offsetgroup": "Hermione Granger, 47",
         "orientation": "v",
         "showlegend": true,
         "x": [
          "Hermione Granger",
          "Hermione Granger"
         ],
         "xaxis": "x",
         "y": [
          47,
          47
         ],
         "yaxis": "y",
         "type": "histogram"
        },
        {
         "alignmentgroup": "True",
         "bingroup": "x",
         "histfunc": "sum",
         "hovertemplate": "favourite_character=%{x}<br>user_age=39<br>sum of user_age=%{y}<extra></extra>",
         "legendgroup": "Hermione Granger, 39",
         "marker": {
          "color": "#19d3f3",
          "pattern": {
           "shape": "\\"
          }
         },
         "name": "Hermione Granger, 39",
         "offsetgroup": "Hermione Granger, 39",
         "orientation": "v",
         "showlegend": true,
         "x": [
          "Hermione Granger"
         ],
         "xaxis": "x",
         "y": [
          39
         ],
         "yaxis": "y",
         "type": "histogram"
        },
        {
         "alignmentgroup": "True",
         "bingroup": "x",
         "histfunc": "sum",
         "hovertemplate": "favourite_character=%{x}<br>user_age=20<br>sum of user_age=%{y}<extra></extra>",
         "legendgroup": "Hermione Granger, 20",
         "marker": {
          "color": "#19d3f3",
          "pattern": {
           "shape": "x"
          }
         },
         "name": "Hermione Granger, 20",
         "offsetgroup": "Hermione Granger, 20",
         "orientation": "v",
         "showlegend": true,
         "x": [
          "Hermione Granger"
         ],
         "xaxis": "x",
         "y": [
          20
         ],
         "yaxis": "y",
         "type": "histogram"
        },
        {
         "alignmentgroup": "True",
         "bingroup": "x",
         "histfunc": "sum",
         "hovertemplate": "favourite_character=%{x}<br>user_age=31<br>sum of user_age=%{y}<extra></extra>",
         "legendgroup": "Hermione Granger, 31",
         "marker": {
          "color": "#19d3f3",
          "pattern": {
           "shape": "+"
          }
         },
         "name": "Hermione Granger, 31",
         "offsetgroup": "Hermione Granger, 31",
         "orientation": "v",
         "showlegend": true,
         "x": [
          "Hermione Granger",
          "Hermione Granger",
          "Hermione Granger",
          "Hermione Granger"
         ],
         "xaxis": "x",
         "y": [
          31,
          31,
          31,
          31
         ],
         "yaxis": "y",
         "type": "histogram"
        },
        {
         "alignmentgroup": "True",
         "bingroup": "x",
         "histfunc": "sum",
         "hovertemplate": "favourite_character=%{x}<br>user_age=22<br>sum of user_age=%{y}<extra></extra>",
         "legendgroup": "Hermione Granger, 22",
         "marker": {
          "color": "#19d3f3",
          "pattern": {
           "shape": "."
          }
         },
         "name": "Hermione Granger, 22",
         "offsetgroup": "Hermione Granger, 22",
         "orientation": "v",
         "showlegend": true,
         "x": [
          "Hermione Granger"
         ],
         "xaxis": "x",
         "y": [
          22
         ],
         "yaxis": "y",
         "type": "histogram"
        },
        {
         "alignmentgroup": "True",
         "bingroup": "x",
         "histfunc": "sum",
         "hovertemplate": "favourite_character=%{x}<br>user_age=30<br>sum of user_age=%{y}<extra></extra>",
         "legendgroup": "Hermione Granger, 30",
         "marker": {
          "color": "#19d3f3",
          "pattern": {
           "shape": "/"
          }
         },
         "name": "Hermione Granger, 30",
         "offsetgroup": "Hermione Granger, 30",
         "orientation": "v",
         "showlegend": true,
         "x": [
          "Hermione Granger",
          "Hermione Granger",
          "Hermione Granger",
          "Hermione Granger",
          "Hermione Granger"
         ],
         "xaxis": "x",
         "y": [
          30,
          30,
          30,
          30,
          30
         ],
         "yaxis": "y",
         "type": "histogram"
        },
        {
         "alignmentgroup": "True",
         "bingroup": "x",
         "histfunc": "sum",
         "hovertemplate": "favourite_character=%{x}<br>user_age=33<br>sum of user_age=%{y}<extra></extra>",
         "legendgroup": "Hermione Granger, 33",
         "marker": {
          "color": "#19d3f3",
          "pattern": {
           "shape": "\\"
          }
         },
         "name": "Hermione Granger, 33",
         "offsetgroup": "Hermione Granger, 33",
         "orientation": "v",
         "showlegend": true,
         "x": [
          "Hermione Granger",
          "Hermione Granger",
          "Hermione Granger"
         ],
         "xaxis": "x",
         "y": [
          33,
          33,
          33
         ],
         "yaxis": "y",
         "type": "histogram"
        },
        {
         "alignmentgroup": "True",
         "bingroup": "x",
         "histfunc": "sum",
         "hovertemplate": "favourite_character=%{x}<br>user_age=48<br>sum of user_age=%{y}<extra></extra>",
         "legendgroup": "Hermione Granger, 48",
         "marker": {
          "color": "#19d3f3",
          "pattern": {
           "shape": "x"
          }
         },
         "name": "Hermione Granger, 48",
         "offsetgroup": "Hermione Granger, 48",
         "orientation": "v",
         "showlegend": true,
         "x": [
          "Hermione Granger"
         ],
         "xaxis": "x",
         "y": [
          48
         ],
         "yaxis": "y",
         "type": "histogram"
        },
        {
         "alignmentgroup": "True",
         "bingroup": "x",
         "histfunc": "sum",
         "hovertemplate": "favourite_character=%{x}<br>user_age=29<br>sum of user_age=%{y}<extra></extra>",
         "legendgroup": "Hermione Granger, 29",
         "marker": {
          "color": "#19d3f3",
          "pattern": {
           "shape": "."
          }
         },
         "name": "Hermione Granger, 29",
         "offsetgroup": "Hermione Granger, 29",
         "orientation": "v",
         "showlegend": true,
         "x": [
          "Hermione Granger",
          "Hermione Granger",
          "Hermione Granger"
         ],
         "xaxis": "x",
         "y": [
          29,
          29,
          29
         ],
         "yaxis": "y",
         "type": "histogram"
        },
        {
         "alignmentgroup": "True",
         "bingroup": "x",
         "histfunc": "sum",
         "hovertemplate": "favourite_character=%{x}<br>user_age=44<br>sum of user_age=%{y}<extra></extra>",
         "legendgroup": "Hermione Granger, 44",
         "marker": {
          "color": "#19d3f3",
          "pattern": {
           "shape": ""
          }
         },
         "name": "Hermione Granger, 44",
         "offsetgroup": "Hermione Granger, 44",
         "orientation": "v",
         "showlegend": true,
         "x": [
          "Hermione Granger"
         ],
         "xaxis": "x",
         "y": [
          44
         ],
         "yaxis": "y",
         "type": "histogram"
        },
        {
         "alignmentgroup": "True",
         "bingroup": "x",
         "histfunc": "sum",
         "hovertemplate": "favourite_character=%{x}<br>user_age=36<br>sum of user_age=%{y}<extra></extra>",
         "legendgroup": "Hermione Granger, 36",
         "marker": {
          "color": "#19d3f3",
          "pattern": {
           "shape": "/"
          }
         },
         "name": "Hermione Granger, 36",
         "offsetgroup": "Hermione Granger, 36",
         "orientation": "v",
         "showlegend": true,
         "x": [
          "Hermione Granger",
          "Hermione Granger",
          "Hermione Granger"
         ],
         "xaxis": "x",
         "y": [
          36,
          36,
          36
         ],
         "yaxis": "y",
         "type": "histogram"
        },
        {
         "alignmentgroup": "True",
         "bingroup": "x",
         "histfunc": "sum",
         "hovertemplate": "favourite_character=%{x}<br>user_age=45<br>sum of user_age=%{y}<extra></extra>",
         "legendgroup": "Hermione Granger, 45",
         "marker": {
          "color": "#19d3f3",
          "pattern": {
           "shape": "\\"
          }
         },
         "name": "Hermione Granger, 45",
         "offsetgroup": "Hermione Granger, 45",
         "orientation": "v",
         "showlegend": true,
         "x": [
          "Hermione Granger"
         ],
         "xaxis": "x",
         "y": [
          45
         ],
         "yaxis": "y",
         "type": "histogram"
        },
        {
         "alignmentgroup": "True",
         "bingroup": "x",
         "histfunc": "sum",
         "hovertemplate": "favourite_character=%{x}<br>user_age=25<br>sum of user_age=%{y}<extra></extra>",
         "legendgroup": "Hermione Granger, 25",
         "marker": {
          "color": "#19d3f3",
          "pattern": {
           "shape": "x"
          }
         },
         "name": "Hermione Granger, 25",
         "offsetgroup": "Hermione Granger, 25",
         "orientation": "v",
         "showlegend": true,
         "x": [
          "Hermione Granger",
          "Hermione Granger"
         ],
         "xaxis": "x",
         "y": [
          25,
          25
         ],
         "yaxis": "y",
         "type": "histogram"
        },
        {
         "alignmentgroup": "True",
         "bingroup": "x",
         "histfunc": "sum",
         "hovertemplate": "favourite_character=%{x}<br>user_age=53<br>sum of user_age=%{y}<extra></extra>",
         "legendgroup": "Hermione Granger, 53",
         "marker": {
          "color": "#19d3f3",
          "pattern": {
           "shape": "+"
          }
         },
         "name": "Hermione Granger, 53",
         "offsetgroup": "Hermione Granger, 53",
         "orientation": "v",
         "showlegend": true,
         "x": [
          "Hermione Granger"
         ],
         "xaxis": "x",
         "y": [
          53
         ],
         "yaxis": "y",
         "type": "histogram"
        },
        {
         "alignmentgroup": "True",
         "bingroup": "x",
         "histfunc": "sum",
         "hovertemplate": "favourite_character=%{x}<br>user_age=19<br>sum of user_age=%{y}<extra></extra>",
         "legendgroup": "Hermione Granger, 19",
         "marker": {
          "color": "#19d3f3",
          "pattern": {
           "shape": "."
          }
         },
         "name": "Hermione Granger, 19",
         "offsetgroup": "Hermione Granger, 19",
         "orientation": "v",
         "showlegend": true,
         "x": [
          "Hermione Granger",
          "Hermione Granger"
         ],
         "xaxis": "x",
         "y": [
          19,
          19
         ],
         "yaxis": "y",
         "type": "histogram"
        },
        {
         "alignmentgroup": "True",
         "bingroup": "x",
         "histfunc": "sum",
         "hovertemplate": "favourite_character=%{x}<br>user_age=41<br>sum of user_age=%{y}<extra></extra>",
         "legendgroup": "Hermione Granger, 41",
         "marker": {
          "color": "#19d3f3",
          "pattern": {
           "shape": ""
          }
         },
         "name": "Hermione Granger, 41",
         "offsetgroup": "Hermione Granger, 41",
         "orientation": "v",
         "showlegend": true,
         "x": [
          "Hermione Granger",
          "Hermione Granger",
          "Hermione Granger"
         ],
         "xaxis": "x",
         "y": [
          41,
          41,
          41
         ],
         "yaxis": "y",
         "type": "histogram"
        },
        {
         "alignmentgroup": "True",
         "bingroup": "x",
         "histfunc": "sum",
         "hovertemplate": "favourite_character=%{x}<br>user_age=60<br>sum of user_age=%{y}<extra></extra>",
         "legendgroup": "Hermione Granger, 60",
         "marker": {
          "color": "#19d3f3",
          "pattern": {
           "shape": "/"
          }
         },
         "name": "Hermione Granger, 60",
         "offsetgroup": "Hermione Granger, 60",
         "orientation": "v",
         "showlegend": true,
         "x": [
          "Hermione Granger",
          "Hermione Granger"
         ],
         "xaxis": "x",
         "y": [
          60,
          60
         ],
         "yaxis": "y",
         "type": "histogram"
        },
        {
         "alignmentgroup": "True",
         "bingroup": "x",
         "histfunc": "sum",
         "hovertemplate": "favourite_character=%{x}<br>user_age=10<br>sum of user_age=%{y}<extra></extra>",
         "legendgroup": "Hermione Granger, 10",
         "marker": {
          "color": "#19d3f3",
          "pattern": {
           "shape": "\\"
          }
         },
         "name": "Hermione Granger, 10",
         "offsetgroup": "Hermione Granger, 10",
         "orientation": "v",
         "showlegend": true,
         "x": [
          "Hermione Granger"
         ],
         "xaxis": "x",
         "y": [
          10
         ],
         "yaxis": "y",
         "type": "histogram"
        },
        {
         "alignmentgroup": "True",
         "bingroup": "x",
         "histfunc": "sum",
         "hovertemplate": "favourite_character=%{x}<br>user_age=18<br>sum of user_age=%{y}<extra></extra>",
         "legendgroup": "Hermione Granger, 18",
         "marker": {
          "color": "#19d3f3",
          "pattern": {
           "shape": "."
          }
         },
         "name": "Hermione Granger, 18",
         "offsetgroup": "Hermione Granger, 18",
         "orientation": "v",
         "showlegend": true,
         "x": [
          "Hermione Granger"
         ],
         "xaxis": "x",
         "y": [
          18
         ],
         "yaxis": "y",
         "type": "histogram"
        },
        {
         "alignmentgroup": "True",
         "bingroup": "x",
         "histfunc": "sum",
         "hovertemplate": "favourite_character=%{x}<br>user_age=13<br>sum of user_age=%{y}<extra></extra>",
         "legendgroup": "Hermione Granger, 13",
         "marker": {
          "color": "#19d3f3",
          "pattern": {
           "shape": "/"
          }
         },
         "name": "Hermione Granger, 13",
         "offsetgroup": "Hermione Granger, 13",
         "orientation": "v",
         "showlegend": true,
         "x": [
          "Hermione Granger"
         ],
         "xaxis": "x",
         "y": [
          13
         ],
         "yaxis": "y",
         "type": "histogram"
        },
        {
         "alignmentgroup": "True",
         "bingroup": "x",
         "histfunc": "sum",
         "hovertemplate": "favourite_character=%{x}<br>user_age=42<br>sum of user_age=%{y}<extra></extra>",
         "legendgroup": "Hermione Granger, 42",
         "marker": {
          "color": "#19d3f3",
          "pattern": {
           "shape": "\\"
          }
         },
         "name": "Hermione Granger, 42",
         "offsetgroup": "Hermione Granger, 42",
         "orientation": "v",
         "showlegend": true,
         "x": [
          "Hermione Granger",
          "Hermione Granger"
         ],
         "xaxis": "x",
         "y": [
          42,
          42
         ],
         "yaxis": "y",
         "type": "histogram"
        },
        {
         "alignmentgroup": "True",
         "bingroup": "x",
         "histfunc": "sum",
         "hovertemplate": "favourite_character=%{x}<br>user_age=43<br>sum of user_age=%{y}<extra></extra>",
         "legendgroup": "Hermione Granger, 43",
         "marker": {
          "color": "#19d3f3",
          "pattern": {
           "shape": "x"
          }
         },
         "name": "Hermione Granger, 43",
         "offsetgroup": "Hermione Granger, 43",
         "orientation": "v",
         "showlegend": true,
         "x": [
          "Hermione Granger"
         ],
         "xaxis": "x",
         "y": [
          43
         ],
         "yaxis": "y",
         "type": "histogram"
        },
        {
         "alignmentgroup": "True",
         "bingroup": "x",
         "histfunc": "sum",
         "hovertemplate": "favourite_character=%{x}<br>user_age=37<br>sum of user_age=%{y}<extra></extra>",
         "legendgroup": "Hermione Granger, 37",
         "marker": {
          "color": "#19d3f3",
          "pattern": {
           "shape": "+"
          }
         },
         "name": "Hermione Granger, 37",
         "offsetgroup": "Hermione Granger, 37",
         "orientation": "v",
         "showlegend": true,
         "x": [
          "Hermione Granger",
          "Hermione Granger",
          "Hermione Granger"
         ],
         "xaxis": "x",
         "y": [
          37,
          37,
          37
         ],
         "yaxis": "y",
         "type": "histogram"
        },
        {
         "alignmentgroup": "True",
         "bingroup": "x",
         "histfunc": "sum",
         "hovertemplate": "favourite_character=%{x}<br>user_age=55<br>sum of user_age=%{y}<extra></extra>",
         "legendgroup": "Hermione Granger, 55",
         "marker": {
          "color": "#19d3f3",
          "pattern": {
           "shape": ""
          }
         },
         "name": "Hermione Granger, 55",
         "offsetgroup": "Hermione Granger, 55",
         "orientation": "v",
         "showlegend": true,
         "x": [
          "Hermione Granger"
         ],
         "xaxis": "x",
         "y": [
          55
         ],
         "yaxis": "y",
         "type": "histogram"
        },
        {
         "alignmentgroup": "True",
         "bingroup": "x",
         "histfunc": "sum",
         "hovertemplate": "favourite_character=%{x}<br>user_age=21<br>sum of user_age=%{y}<extra></extra>",
         "legendgroup": "Hermione Granger, 21",
         "marker": {
          "color": "#19d3f3",
          "pattern": {
           "shape": "\\"
          }
         },
         "name": "Hermione Granger, 21",
         "offsetgroup": "Hermione Granger, 21",
         "orientation": "v",
         "showlegend": true,
         "x": [
          "Hermione Granger"
         ],
         "xaxis": "x",
         "y": [
          21
         ],
         "yaxis": "y",
         "type": "histogram"
        },
        {
         "alignmentgroup": "True",
         "bingroup": "x",
         "histfunc": "sum",
         "hovertemplate": "favourite_character=%{x}<br>user_age=64<br>sum of user_age=%{y}<extra></extra>",
         "legendgroup": "Hermione Granger, 64",
         "marker": {
          "color": "#19d3f3",
          "pattern": {
           "shape": "."
          }
         },
         "name": "Hermione Granger, 64",
         "offsetgroup": "Hermione Granger, 64",
         "orientation": "v",
         "showlegend": true,
         "x": [
          "Hermione Granger"
         ],
         "xaxis": "x",
         "y": [
          64
         ],
         "yaxis": "y",
         "type": "histogram"
        },
        {
         "alignmentgroup": "True",
         "bingroup": "x",
         "histfunc": "sum",
         "hovertemplate": "favourite_character=%{x}<br>user_age=63<br>sum of user_age=%{y}<extra></extra>",
         "legendgroup": "Hermione Granger, 63",
         "marker": {
          "color": "#19d3f3",
          "pattern": {
           "shape": "x"
          }
         },
         "name": "Hermione Granger, 63",
         "offsetgroup": "Hermione Granger, 63",
         "orientation": "v",
         "showlegend": true,
         "x": [
          "Hermione Granger"
         ],
         "xaxis": "x",
         "y": [
          63
         ],
         "yaxis": "y",
         "type": "histogram"
        },
        {
         "alignmentgroup": "True",
         "bingroup": "x",
         "histfunc": "sum",
         "hovertemplate": "favourite_character=%{x}<br>user_age=23<br>sum of user_age=%{y}<extra></extra>",
         "legendgroup": "Harry Potter, 23",
         "marker": {
          "color": "#FF6692",
          "pattern": {
           "shape": "/"
          }
         },
         "name": "Harry Potter, 23",
         "offsetgroup": "Harry Potter, 23",
         "orientation": "v",
         "showlegend": true,
         "x": [
          "Harry Potter"
         ],
         "xaxis": "x",
         "y": [
          23
         ],
         "yaxis": "y",
         "type": "histogram"
        },
        {
         "alignmentgroup": "True",
         "bingroup": "x",
         "histfunc": "sum",
         "hovertemplate": "favourite_character=%{x}<br>user_age=32<br>sum of user_age=%{y}<extra></extra>",
         "legendgroup": "Harry Potter, 32",
         "marker": {
          "color": "#FF6692",
          "pattern": {
           "shape": "\\"
          }
         },
         "name": "Harry Potter, 32",
         "offsetgroup": "Harry Potter, 32",
         "orientation": "v",
         "showlegend": true,
         "x": [
          "Harry Potter",
          "Harry Potter",
          "Harry Potter"
         ],
         "xaxis": "x",
         "y": [
          32,
          32,
          32
         ],
         "yaxis": "y",
         "type": "histogram"
        },
        {
         "alignmentgroup": "True",
         "bingroup": "x",
         "histfunc": "sum",
         "hovertemplate": "favourite_character=%{x}<br>user_age=24<br>sum of user_age=%{y}<extra></extra>",
         "legendgroup": "Harry Potter, 24",
         "marker": {
          "color": "#FF6692",
          "pattern": {
           "shape": "x"
          }
         },
         "name": "Harry Potter, 24",
         "offsetgroup": "Harry Potter, 24",
         "orientation": "v",
         "showlegend": true,
         "x": [
          "Harry Potter",
          "Harry Potter"
         ],
         "xaxis": "x",
         "y": [
          24,
          24
         ],
         "yaxis": "y",
         "type": "histogram"
        },
        {
         "alignmentgroup": "True",
         "bingroup": "x",
         "histfunc": "sum",
         "hovertemplate": "favourite_character=%{x}<br>user_age=40<br>sum of user_age=%{y}<extra></extra>",
         "legendgroup": "Harry Potter, 40",
         "marker": {
          "color": "#FF6692",
          "pattern": {
           "shape": "+"
          }
         },
         "name": "Harry Potter, 40",
         "offsetgroup": "Harry Potter, 40",
         "orientation": "v",
         "showlegend": true,
         "x": [
          "Harry Potter",
          "Harry Potter",
          "Harry Potter"
         ],
         "xaxis": "x",
         "y": [
          40,
          40,
          40
         ],
         "yaxis": "y",
         "type": "histogram"
        },
        {
         "alignmentgroup": "True",
         "bingroup": "x",
         "histfunc": "sum",
         "hovertemplate": "favourite_character=%{x}<br>user_age=16<br>sum of user_age=%{y}<extra></extra>",
         "legendgroup": "Harry Potter, 16",
         "marker": {
          "color": "#FF6692",
          "pattern": {
           "shape": "."
          }
         },
         "name": "Harry Potter, 16",
         "offsetgroup": "Harry Potter, 16",
         "orientation": "v",
         "showlegend": true,
         "x": [
          "Harry Potter"
         ],
         "xaxis": "x",
         "y": [
          16
         ],
         "yaxis": "y",
         "type": "histogram"
        },
        {
         "alignmentgroup": "True",
         "bingroup": "x",
         "histfunc": "sum",
         "hovertemplate": "favourite_character=%{x}<br>user_age=28<br>sum of user_age=%{y}<extra></extra>",
         "legendgroup": "Harry Potter, 28",
         "marker": {
          "color": "#FF6692",
          "pattern": {
           "shape": "/"
          }
         },
         "name": "Harry Potter, 28",
         "offsetgroup": "Harry Potter, 28",
         "orientation": "v",
         "showlegend": true,
         "x": [
          "Harry Potter",
          "Harry Potter"
         ],
         "xaxis": "x",
         "y": [
          28,
          28
         ],
         "yaxis": "y",
         "type": "histogram"
        },
        {
         "alignmentgroup": "True",
         "bingroup": "x",
         "histfunc": "sum",
         "hovertemplate": "favourite_character=%{x}<br>user_age=52<br>sum of user_age=%{y}<extra></extra>",
         "legendgroup": "Harry Potter, 52",
         "marker": {
          "color": "#FF6692",
          "pattern": {
           "shape": "\\"
          }
         },
         "name": "Harry Potter, 52",
         "offsetgroup": "Harry Potter, 52",
         "orientation": "v",
         "showlegend": true,
         "x": [
          "Harry Potter"
         ],
         "xaxis": "x",
         "y": [
          52
         ],
         "yaxis": "y",
         "type": "histogram"
        },
        {
         "alignmentgroup": "True",
         "bingroup": "x",
         "histfunc": "sum",
         "hovertemplate": "favourite_character=%{x}<br>user_age=46<br>sum of user_age=%{y}<extra></extra>",
         "legendgroup": "Harry Potter, 46",
         "marker": {
          "color": "#FF6692",
          "pattern": {
           "shape": "x"
          }
         },
         "name": "Harry Potter, 46",
         "offsetgroup": "Harry Potter, 46",
         "orientation": "v",
         "showlegend": true,
         "x": [
          "Harry Potter",
          "Harry Potter",
          "Harry Potter",
          "Harry Potter",
          "Harry Potter"
         ],
         "xaxis": "x",
         "y": [
          46,
          46,
          46,
          46,
          46
         ],
         "yaxis": "y",
         "type": "histogram"
        },
        {
         "alignmentgroup": "True",
         "bingroup": "x",
         "histfunc": "sum",
         "hovertemplate": "favourite_character=%{x}<br>user_age=34<br>sum of user_age=%{y}<extra></extra>",
         "legendgroup": "Harry Potter, 34",
         "marker": {
          "color": "#FF6692",
          "pattern": {
           "shape": "+"
          }
         },
         "name": "Harry Potter, 34",
         "offsetgroup": "Harry Potter, 34",
         "orientation": "v",
         "showlegend": true,
         "x": [
          "Harry Potter"
         ],
         "xaxis": "x",
         "y": [
          34
         ],
         "yaxis": "y",
         "type": "histogram"
        },
        {
         "alignmentgroup": "True",
         "bingroup": "x",
         "histfunc": "sum",
         "hovertemplate": "favourite_character=%{x}<br>user_age=51<br>sum of user_age=%{y}<extra></extra>",
         "legendgroup": "Harry Potter, 51",
         "marker": {
          "color": "#FF6692",
          "pattern": {
           "shape": "."
          }
         },
         "name": "Harry Potter, 51",
         "offsetgroup": "Harry Potter, 51",
         "orientation": "v",
         "showlegend": true,
         "x": [
          "Harry Potter",
          "Harry Potter"
         ],
         "xaxis": "x",
         "y": [
          51,
          51
         ],
         "yaxis": "y",
         "type": "histogram"
        },
        {
         "alignmentgroup": "True",
         "bingroup": "x",
         "histfunc": "sum",
         "hovertemplate": "favourite_character=%{x}<br>user_age=38<br>sum of user_age=%{y}<extra></extra>",
         "legendgroup": "Harry Potter, 38",
         "marker": {
          "color": "#FF6692",
          "pattern": {
           "shape": ""
          }
         },
         "name": "Harry Potter, 38",
         "offsetgroup": "Harry Potter, 38",
         "orientation": "v",
         "showlegend": true,
         "x": [
          "Harry Potter",
          "Harry Potter",
          "Harry Potter"
         ],
         "xaxis": "x",
         "y": [
          38,
          38,
          38
         ],
         "yaxis": "y",
         "type": "histogram"
        },
        {
         "alignmentgroup": "True",
         "bingroup": "x",
         "histfunc": "sum",
         "hovertemplate": "favourite_character=%{x}<br>user_age=47<br>sum of user_age=%{y}<extra></extra>",
         "legendgroup": "Harry Potter, 47",
         "marker": {
          "color": "#FF6692",
          "pattern": {
           "shape": "/"
          }
         },
         "name": "Harry Potter, 47",
         "offsetgroup": "Harry Potter, 47",
         "orientation": "v",
         "showlegend": true,
         "x": [
          "Harry Potter"
         ],
         "xaxis": "x",
         "y": [
          47
         ],
         "yaxis": "y",
         "type": "histogram"
        },
        {
         "alignmentgroup": "True",
         "bingroup": "x",
         "histfunc": "sum",
         "hovertemplate": "favourite_character=%{x}<br>user_age=39<br>sum of user_age=%{y}<extra></extra>",
         "legendgroup": "Harry Potter, 39",
         "marker": {
          "color": "#FF6692",
          "pattern": {
           "shape": "\\"
          }
         },
         "name": "Harry Potter, 39",
         "offsetgroup": "Harry Potter, 39",
         "orientation": "v",
         "showlegend": true,
         "x": [
          "Harry Potter",
          "Harry Potter"
         ],
         "xaxis": "x",
         "y": [
          39,
          39
         ],
         "yaxis": "y",
         "type": "histogram"
        },
        {
         "alignmentgroup": "True",
         "bingroup": "x",
         "histfunc": "sum",
         "hovertemplate": "favourite_character=%{x}<br>user_age=20<br>sum of user_age=%{y}<extra></extra>",
         "legendgroup": "Harry Potter, 20",
         "marker": {
          "color": "#FF6692",
          "pattern": {
           "shape": "x"
          }
         },
         "name": "Harry Potter, 20",
         "offsetgroup": "Harry Potter, 20",
         "orientation": "v",
         "showlegend": true,
         "x": [
          "Harry Potter",
          "Harry Potter"
         ],
         "xaxis": "x",
         "y": [
          20,
          20
         ],
         "yaxis": "y",
         "type": "histogram"
        },
        {
         "alignmentgroup": "True",
         "bingroup": "x",
         "histfunc": "sum",
         "hovertemplate": "favourite_character=%{x}<br>user_age=31<br>sum of user_age=%{y}<extra></extra>",
         "legendgroup": "Harry Potter, 31",
         "marker": {
          "color": "#FF6692",
          "pattern": {
           "shape": "+"
          }
         },
         "name": "Harry Potter, 31",
         "offsetgroup": "Harry Potter, 31",
         "orientation": "v",
         "showlegend": true,
         "x": [
          "Harry Potter",
          "Harry Potter",
          "Harry Potter"
         ],
         "xaxis": "x",
         "y": [
          31,
          31,
          31
         ],
         "yaxis": "y",
         "type": "histogram"
        },
        {
         "alignmentgroup": "True",
         "bingroup": "x",
         "histfunc": "sum",
         "hovertemplate": "favourite_character=%{x}<br>user_age=30<br>sum of user_age=%{y}<extra></extra>",
         "legendgroup": "Harry Potter, 30",
         "marker": {
          "color": "#FF6692",
          "pattern": {
           "shape": "/"
          }
         },
         "name": "Harry Potter, 30",
         "offsetgroup": "Harry Potter, 30",
         "orientation": "v",
         "showlegend": true,
         "x": [
          "Harry Potter",
          "Harry Potter",
          "Harry Potter"
         ],
         "xaxis": "x",
         "y": [
          30,
          30,
          30
         ],
         "yaxis": "y",
         "type": "histogram"
        },
        {
         "alignmentgroup": "True",
         "bingroup": "x",
         "histfunc": "sum",
         "hovertemplate": "favourite_character=%{x}<br>user_age=33<br>sum of user_age=%{y}<extra></extra>",
         "legendgroup": "Harry Potter, 33",
         "marker": {
          "color": "#FF6692",
          "pattern": {
           "shape": "\\"
          }
         },
         "name": "Harry Potter, 33",
         "offsetgroup": "Harry Potter, 33",
         "orientation": "v",
         "showlegend": true,
         "x": [
          "Harry Potter",
          "Harry Potter",
          "Harry Potter",
          "Harry Potter",
          "Harry Potter"
         ],
         "xaxis": "x",
         "y": [
          33,
          33,
          33,
          33,
          33
         ],
         "yaxis": "y",
         "type": "histogram"
        },
        {
         "alignmentgroup": "True",
         "bingroup": "x",
         "histfunc": "sum",
         "hovertemplate": "favourite_character=%{x}<br>user_age=48<br>sum of user_age=%{y}<extra></extra>",
         "legendgroup": "Harry Potter, 48",
         "marker": {
          "color": "#FF6692",
          "pattern": {
           "shape": "x"
          }
         },
         "name": "Harry Potter, 48",
         "offsetgroup": "Harry Potter, 48",
         "orientation": "v",
         "showlegend": true,
         "x": [
          "Harry Potter"
         ],
         "xaxis": "x",
         "y": [
          48
         ],
         "yaxis": "y",
         "type": "histogram"
        },
        {
         "alignmentgroup": "True",
         "bingroup": "x",
         "histfunc": "sum",
         "hovertemplate": "favourite_character=%{x}<br>user_age=35<br>sum of user_age=%{y}<extra></extra>",
         "legendgroup": "Harry Potter, 35",
         "marker": {
          "color": "#FF6692",
          "pattern": {
           "shape": "+"
          }
         },
         "name": "Harry Potter, 35",
         "offsetgroup": "Harry Potter, 35",
         "orientation": "v",
         "showlegend": true,
         "x": [
          "Harry Potter",
          "Harry Potter",
          "Harry Potter",
          "Harry Potter",
          "Harry Potter",
          "Harry Potter"
         ],
         "xaxis": "x",
         "y": [
          35,
          35,
          35,
          35,
          35,
          35
         ],
         "yaxis": "y",
         "type": "histogram"
        },
        {
         "alignmentgroup": "True",
         "bingroup": "x",
         "histfunc": "sum",
         "hovertemplate": "favourite_character=%{x}<br>user_age=29<br>sum of user_age=%{y}<extra></extra>",
         "legendgroup": "Harry Potter, 29",
         "marker": {
          "color": "#FF6692",
          "pattern": {
           "shape": "."
          }
         },
         "name": "Harry Potter, 29",
         "offsetgroup": "Harry Potter, 29",
         "orientation": "v",
         "showlegend": true,
         "x": [
          "Harry Potter",
          "Harry Potter",
          "Harry Potter"
         ],
         "xaxis": "x",
         "y": [
          29,
          29,
          29
         ],
         "yaxis": "y",
         "type": "histogram"
        },
        {
         "alignmentgroup": "True",
         "bingroup": "x",
         "histfunc": "sum",
         "hovertemplate": "favourite_character=%{x}<br>user_age=44<br>sum of user_age=%{y}<extra></extra>",
         "legendgroup": "Harry Potter, 44",
         "marker": {
          "color": "#FF6692",
          "pattern": {
           "shape": ""
          }
         },
         "name": "Harry Potter, 44",
         "offsetgroup": "Harry Potter, 44",
         "orientation": "v",
         "showlegend": true,
         "x": [
          "Harry Potter",
          "Harry Potter"
         ],
         "xaxis": "x",
         "y": [
          44,
          44
         ],
         "yaxis": "y",
         "type": "histogram"
        },
        {
         "alignmentgroup": "True",
         "bingroup": "x",
         "histfunc": "sum",
         "hovertemplate": "favourite_character=%{x}<br>user_age=36<br>sum of user_age=%{y}<extra></extra>",
         "legendgroup": "Harry Potter, 36",
         "marker": {
          "color": "#FF6692",
          "pattern": {
           "shape": "/"
          }
         },
         "name": "Harry Potter, 36",
         "offsetgroup": "Harry Potter, 36",
         "orientation": "v",
         "showlegend": true,
         "x": [
          "Harry Potter"
         ],
         "xaxis": "x",
         "y": [
          36
         ],
         "yaxis": "y",
         "type": "histogram"
        },
        {
         "alignmentgroup": "True",
         "bingroup": "x",
         "histfunc": "sum",
         "hovertemplate": "favourite_character=%{x}<br>user_age=45<br>sum of user_age=%{y}<extra></extra>",
         "legendgroup": "Harry Potter, 45",
         "marker": {
          "color": "#FF6692",
          "pattern": {
           "shape": "\\"
          }
         },
         "name": "Harry Potter, 45",
         "offsetgroup": "Harry Potter, 45",
         "orientation": "v",
         "showlegend": true,
         "x": [
          "Harry Potter",
          "Harry Potter",
          "Harry Potter"
         ],
         "xaxis": "x",
         "y": [
          45,
          45,
          45
         ],
         "yaxis": "y",
         "type": "histogram"
        },
        {
         "alignmentgroup": "True",
         "bingroup": "x",
         "histfunc": "sum",
         "hovertemplate": "favourite_character=%{x}<br>user_age=25<br>sum of user_age=%{y}<extra></extra>",
         "legendgroup": "Harry Potter, 25",
         "marker": {
          "color": "#FF6692",
          "pattern": {
           "shape": "x"
          }
         },
         "name": "Harry Potter, 25",
         "offsetgroup": "Harry Potter, 25",
         "orientation": "v",
         "showlegend": true,
         "x": [
          "Harry Potter",
          "Harry Potter"
         ],
         "xaxis": "x",
         "y": [
          25,
          25
         ],
         "yaxis": "y",
         "type": "histogram"
        },
        {
         "alignmentgroup": "True",
         "bingroup": "x",
         "histfunc": "sum",
         "hovertemplate": "favourite_character=%{x}<br>user_age=53<br>sum of user_age=%{y}<extra></extra>",
         "legendgroup": "Harry Potter, 53",
         "marker": {
          "color": "#FF6692",
          "pattern": {
           "shape": "+"
          }
         },
         "name": "Harry Potter, 53",
         "offsetgroup": "Harry Potter, 53",
         "orientation": "v",
         "showlegend": true,
         "x": [
          "Harry Potter"
         ],
         "xaxis": "x",
         "y": [
          53
         ],
         "yaxis": "y",
         "type": "histogram"
        },
        {
         "alignmentgroup": "True",
         "bingroup": "x",
         "histfunc": "sum",
         "hovertemplate": "favourite_character=%{x}<br>user_age=19<br>sum of user_age=%{y}<extra></extra>",
         "legendgroup": "Harry Potter, 19",
         "marker": {
          "color": "#FF6692",
          "pattern": {
           "shape": "."
          }
         },
         "name": "Harry Potter, 19",
         "offsetgroup": "Harry Potter, 19",
         "orientation": "v",
         "showlegend": true,
         "x": [
          "Harry Potter",
          "Harry Potter"
         ],
         "xaxis": "x",
         "y": [
          19,
          19
         ],
         "yaxis": "y",
         "type": "histogram"
        },
        {
         "alignmentgroup": "True",
         "bingroup": "x",
         "histfunc": "sum",
         "hovertemplate": "favourite_character=%{x}<br>user_age=41<br>sum of user_age=%{y}<extra></extra>",
         "legendgroup": "Harry Potter, 41",
         "marker": {
          "color": "#FF6692",
          "pattern": {
           "shape": ""
          }
         },
         "name": "Harry Potter, 41",
         "offsetgroup": "Harry Potter, 41",
         "orientation": "v",
         "showlegend": true,
         "x": [
          "Harry Potter",
          "Harry Potter"
         ],
         "xaxis": "x",
         "y": [
          41,
          41
         ],
         "yaxis": "y",
         "type": "histogram"
        },
        {
         "alignmentgroup": "True",
         "bingroup": "x",
         "histfunc": "sum",
         "hovertemplate": "favourite_character=%{x}<br>user_age=60<br>sum of user_age=%{y}<extra></extra>",
         "legendgroup": "Harry Potter, 60",
         "marker": {
          "color": "#FF6692",
          "pattern": {
           "shape": "/"
          }
         },
         "name": "Harry Potter, 60",
         "offsetgroup": "Harry Potter, 60",
         "orientation": "v",
         "showlegend": true,
         "x": [
          "Harry Potter"
         ],
         "xaxis": "x",
         "y": [
          60
         ],
         "yaxis": "y",
         "type": "histogram"
        },
        {
         "alignmentgroup": "True",
         "bingroup": "x",
         "histfunc": "sum",
         "hovertemplate": "favourite_character=%{x}<br>user_age=56<br>sum of user_age=%{y}<extra></extra>",
         "legendgroup": "Harry Potter, 56",
         "marker": {
          "color": "#FF6692",
          "pattern": {
           "shape": "+"
          }
         },
         "name": "Harry Potter, 56",
         "offsetgroup": "Harry Potter, 56",
         "orientation": "v",
         "showlegend": true,
         "x": [
          "Harry Potter"
         ],
         "xaxis": "x",
         "y": [
          56
         ],
         "yaxis": "y",
         "type": "histogram"
        },
        {
         "alignmentgroup": "True",
         "bingroup": "x",
         "histfunc": "sum",
         "hovertemplate": "favourite_character=%{x}<br>user_age=12<br>sum of user_age=%{y}<extra></extra>",
         "legendgroup": "Harry Potter, 12",
         "marker": {
          "color": "#FF6692",
          "pattern": {
           "shape": ""
          }
         },
         "name": "Harry Potter, 12",
         "offsetgroup": "Harry Potter, 12",
         "orientation": "v",
         "showlegend": true,
         "x": [
          "Harry Potter"
         ],
         "xaxis": "x",
         "y": [
          12
         ],
         "yaxis": "y",
         "type": "histogram"
        },
        {
         "alignmentgroup": "True",
         "bingroup": "x",
         "histfunc": "sum",
         "hovertemplate": "favourite_character=%{x}<br>user_age=13<br>sum of user_age=%{y}<extra></extra>",
         "legendgroup": "Harry Potter, 13",
         "marker": {
          "color": "#FF6692",
          "pattern": {
           "shape": "/"
          }
         },
         "name": "Harry Potter, 13",
         "offsetgroup": "Harry Potter, 13",
         "orientation": "v",
         "showlegend": true,
         "x": [
          "Harry Potter"
         ],
         "xaxis": "x",
         "y": [
          13
         ],
         "yaxis": "y",
         "type": "histogram"
        },
        {
         "alignmentgroup": "True",
         "bingroup": "x",
         "histfunc": "sum",
         "hovertemplate": "favourite_character=%{x}<br>user_age=42<br>sum of user_age=%{y}<extra></extra>",
         "legendgroup": "Harry Potter, 42",
         "marker": {
          "color": "#FF6692",
          "pattern": {
           "shape": "\\"
          }
         },
         "name": "Harry Potter, 42",
         "offsetgroup": "Harry Potter, 42",
         "orientation": "v",
         "showlegend": true,
         "x": [
          "Harry Potter"
         ],
         "xaxis": "x",
         "y": [
          42
         ],
         "yaxis": "y",
         "type": "histogram"
        },
        {
         "alignmentgroup": "True",
         "bingroup": "x",
         "histfunc": "sum",
         "hovertemplate": "favourite_character=%{x}<br>user_age=37<br>sum of user_age=%{y}<extra></extra>",
         "legendgroup": "Harry Potter, 37",
         "marker": {
          "color": "#FF6692",
          "pattern": {
           "shape": "+"
          }
         },
         "name": "Harry Potter, 37",
         "offsetgroup": "Harry Potter, 37",
         "orientation": "v",
         "showlegend": true,
         "x": [
          "Harry Potter"
         ],
         "xaxis": "x",
         "y": [
          37
         ],
         "yaxis": "y",
         "type": "histogram"
        },
        {
         "alignmentgroup": "True",
         "bingroup": "x",
         "histfunc": "sum",
         "hovertemplate": "favourite_character=%{x}<br>user_age=15<br>sum of user_age=%{y}<extra></extra>",
         "legendgroup": "Harry Potter, 15",
         "marker": {
          "color": "#FF6692",
          "pattern": {
           "shape": "."
          }
         },
         "name": "Harry Potter, 15",
         "offsetgroup": "Harry Potter, 15",
         "orientation": "v",
         "showlegend": true,
         "x": [
          "Harry Potter"
         ],
         "xaxis": "x",
         "y": [
          15
         ],
         "yaxis": "y",
         "type": "histogram"
        },
        {
         "alignmentgroup": "True",
         "bingroup": "x",
         "histfunc": "sum",
         "hovertemplate": "favourite_character=%{x}<br>user_age=17<br>sum of user_age=%{y}<extra></extra>",
         "legendgroup": "Harry Potter, 17",
         "marker": {
          "color": "#FF6692",
          "pattern": {
           "shape": "/"
          }
         },
         "name": "Harry Potter, 17",
         "offsetgroup": "Harry Potter, 17",
         "orientation": "v",
         "showlegend": true,
         "x": [
          "Harry Potter"
         ],
         "xaxis": "x",
         "y": [
          17
         ],
         "yaxis": "y",
         "type": "histogram"
        },
        {
         "alignmentgroup": "True",
         "bingroup": "x",
         "histfunc": "sum",
         "hovertemplate": "favourite_character=%{x}<br>user_age=21<br>sum of user_age=%{y}<extra></extra>",
         "legendgroup": "Harry Potter, 21",
         "marker": {
          "color": "#FF6692",
          "pattern": {
           "shape": "\\"
          }
         },
         "name": "Harry Potter, 21",
         "offsetgroup": "Harry Potter, 21",
         "orientation": "v",
         "showlegend": true,
         "x": [
          "Harry Potter"
         ],
         "xaxis": "x",
         "y": [
          21
         ],
         "yaxis": "y",
         "type": "histogram"
        },
        {
         "alignmentgroup": "True",
         "bingroup": "x",
         "histfunc": "sum",
         "hovertemplate": "favourite_character=%{x}<br>user_age=14<br>sum of user_age=%{y}<extra></extra>",
         "legendgroup": "Harry Potter, 14",
         "marker": {
          "color": "#FF6692",
          "pattern": {
           "shape": "x"
          }
         },
         "name": "Harry Potter, 14",
         "offsetgroup": "Harry Potter, 14",
         "orientation": "v",
         "showlegend": true,
         "x": [
          "Harry Potter"
         ],
         "xaxis": "x",
         "y": [
          14
         ],
         "yaxis": "y",
         "type": "histogram"
        },
        {
         "alignmentgroup": "True",
         "bingroup": "x",
         "histfunc": "sum",
         "hovertemplate": "favourite_character=%{x}<br>user_age=32<br>sum of user_age=%{y}<extra></extra>",
         "legendgroup": "Draco Malfoy, 32",
         "marker": {
          "color": "#B6E880",
          "pattern": {
           "shape": "\\"
          }
         },
         "name": "Draco Malfoy, 32",
         "offsetgroup": "Draco Malfoy, 32",
         "orientation": "v",
         "showlegend": true,
         "x": [
          "Draco Malfoy",
          "Draco Malfoy",
          "Draco Malfoy"
         ],
         "xaxis": "x",
         "y": [
          32,
          32,
          32
         ],
         "yaxis": "y",
         "type": "histogram"
        },
        {
         "alignmentgroup": "True",
         "bingroup": "x",
         "histfunc": "sum",
         "hovertemplate": "favourite_character=%{x}<br>user_age=24<br>sum of user_age=%{y}<extra></extra>",
         "legendgroup": "Draco Malfoy, 24",
         "marker": {
          "color": "#B6E880",
          "pattern": {
           "shape": "x"
          }
         },
         "name": "Draco Malfoy, 24",
         "offsetgroup": "Draco Malfoy, 24",
         "orientation": "v",
         "showlegend": true,
         "x": [
          "Draco Malfoy"
         ],
         "xaxis": "x",
         "y": [
          24
         ],
         "yaxis": "y",
         "type": "histogram"
        },
        {
         "alignmentgroup": "True",
         "bingroup": "x",
         "histfunc": "sum",
         "hovertemplate": "favourite_character=%{x}<br>user_age=40<br>sum of user_age=%{y}<extra></extra>",
         "legendgroup": "Draco Malfoy, 40",
         "marker": {
          "color": "#B6E880",
          "pattern": {
           "shape": "+"
          }
         },
         "name": "Draco Malfoy, 40",
         "offsetgroup": "Draco Malfoy, 40",
         "orientation": "v",
         "showlegend": true,
         "x": [
          "Draco Malfoy",
          "Draco Malfoy"
         ],
         "xaxis": "x",
         "y": [
          40,
          40
         ],
         "yaxis": "y",
         "type": "histogram"
        },
        {
         "alignmentgroup": "True",
         "bingroup": "x",
         "histfunc": "sum",
         "hovertemplate": "favourite_character=%{x}<br>user_age=28<br>sum of user_age=%{y}<extra></extra>",
         "legendgroup": "Draco Malfoy, 28",
         "marker": {
          "color": "#B6E880",
          "pattern": {
           "shape": "/"
          }
         },
         "name": "Draco Malfoy, 28",
         "offsetgroup": "Draco Malfoy, 28",
         "orientation": "v",
         "showlegend": true,
         "x": [
          "Draco Malfoy",
          "Draco Malfoy"
         ],
         "xaxis": "x",
         "y": [
          28,
          28
         ],
         "yaxis": "y",
         "type": "histogram"
        },
        {
         "alignmentgroup": "True",
         "bingroup": "x",
         "histfunc": "sum",
         "hovertemplate": "favourite_character=%{x}<br>user_age=52<br>sum of user_age=%{y}<extra></extra>",
         "legendgroup": "Draco Malfoy, 52",
         "marker": {
          "color": "#B6E880",
          "pattern": {
           "shape": "\\"
          }
         },
         "name": "Draco Malfoy, 52",
         "offsetgroup": "Draco Malfoy, 52",
         "orientation": "v",
         "showlegend": true,
         "x": [
          "Draco Malfoy"
         ],
         "xaxis": "x",
         "y": [
          52
         ],
         "yaxis": "y",
         "type": "histogram"
        },
        {
         "alignmentgroup": "True",
         "bingroup": "x",
         "histfunc": "sum",
         "hovertemplate": "favourite_character=%{x}<br>user_age=34<br>sum of user_age=%{y}<extra></extra>",
         "legendgroup": "Draco Malfoy, 34",
         "marker": {
          "color": "#B6E880",
          "pattern": {
           "shape": "+"
          }
         },
         "name": "Draco Malfoy, 34",
         "offsetgroup": "Draco Malfoy, 34",
         "orientation": "v",
         "showlegend": true,
         "x": [
          "Draco Malfoy"
         ],
         "xaxis": "x",
         "y": [
          34
         ],
         "yaxis": "y",
         "type": "histogram"
        },
        {
         "alignmentgroup": "True",
         "bingroup": "x",
         "histfunc": "sum",
         "hovertemplate": "favourite_character=%{x}<br>user_age=51<br>sum of user_age=%{y}<extra></extra>",
         "legendgroup": "Draco Malfoy, 51",
         "marker": {
          "color": "#B6E880",
          "pattern": {
           "shape": "."
          }
         },
         "name": "Draco Malfoy, 51",
         "offsetgroup": "Draco Malfoy, 51",
         "orientation": "v",
         "showlegend": true,
         "x": [
          "Draco Malfoy"
         ],
         "xaxis": "x",
         "y": [
          51
         ],
         "yaxis": "y",
         "type": "histogram"
        },
        {
         "alignmentgroup": "True",
         "bingroup": "x",
         "histfunc": "sum",
         "hovertemplate": "favourite_character=%{x}<br>user_age=47<br>sum of user_age=%{y}<extra></extra>",
         "legendgroup": "Draco Malfoy, 47",
         "marker": {
          "color": "#B6E880",
          "pattern": {
           "shape": "/"
          }
         },
         "name": "Draco Malfoy, 47",
         "offsetgroup": "Draco Malfoy, 47",
         "orientation": "v",
         "showlegend": true,
         "x": [
          "Draco Malfoy",
          "Draco Malfoy",
          "Draco Malfoy"
         ],
         "xaxis": "x",
         "y": [
          47,
          47,
          47
         ],
         "yaxis": "y",
         "type": "histogram"
        },
        {
         "alignmentgroup": "True",
         "bingroup": "x",
         "histfunc": "sum",
         "hovertemplate": "favourite_character=%{x}<br>user_age=39<br>sum of user_age=%{y}<extra></extra>",
         "legendgroup": "Draco Malfoy, 39",
         "marker": {
          "color": "#B6E880",
          "pattern": {
           "shape": "\\"
          }
         },
         "name": "Draco Malfoy, 39",
         "offsetgroup": "Draco Malfoy, 39",
         "orientation": "v",
         "showlegend": true,
         "x": [
          "Draco Malfoy"
         ],
         "xaxis": "x",
         "y": [
          39
         ],
         "yaxis": "y",
         "type": "histogram"
        },
        {
         "alignmentgroup": "True",
         "bingroup": "x",
         "histfunc": "sum",
         "hovertemplate": "favourite_character=%{x}<br>user_age=31<br>sum of user_age=%{y}<extra></extra>",
         "legendgroup": "Draco Malfoy, 31",
         "marker": {
          "color": "#B6E880",
          "pattern": {
           "shape": "+"
          }
         },
         "name": "Draco Malfoy, 31",
         "offsetgroup": "Draco Malfoy, 31",
         "orientation": "v",
         "showlegend": true,
         "x": [
          "Draco Malfoy",
          "Draco Malfoy"
         ],
         "xaxis": "x",
         "y": [
          31,
          31
         ],
         "yaxis": "y",
         "type": "histogram"
        },
        {
         "alignmentgroup": "True",
         "bingroup": "x",
         "histfunc": "sum",
         "hovertemplate": "favourite_character=%{x}<br>user_age=22<br>sum of user_age=%{y}<extra></extra>",
         "legendgroup": "Draco Malfoy, 22",
         "marker": {
          "color": "#B6E880",
          "pattern": {
           "shape": "."
          }
         },
         "name": "Draco Malfoy, 22",
         "offsetgroup": "Draco Malfoy, 22",
         "orientation": "v",
         "showlegend": true,
         "x": [
          "Draco Malfoy",
          "Draco Malfoy",
          "Draco Malfoy"
         ],
         "xaxis": "x",
         "y": [
          22,
          22,
          22
         ],
         "yaxis": "y",
         "type": "histogram"
        },
        {
         "alignmentgroup": "True",
         "bingroup": "x",
         "histfunc": "sum",
         "hovertemplate": "favourite_character=%{x}<br>user_age=30<br>sum of user_age=%{y}<extra></extra>",
         "legendgroup": "Draco Malfoy, 30",
         "marker": {
          "color": "#B6E880",
          "pattern": {
           "shape": "/"
          }
         },
         "name": "Draco Malfoy, 30",
         "offsetgroup": "Draco Malfoy, 30",
         "orientation": "v",
         "showlegend": true,
         "x": [
          "Draco Malfoy"
         ],
         "xaxis": "x",
         "y": [
          30
         ],
         "yaxis": "y",
         "type": "histogram"
        },
        {
         "alignmentgroup": "True",
         "bingroup": "x",
         "histfunc": "sum",
         "hovertemplate": "favourite_character=%{x}<br>user_age=33<br>sum of user_age=%{y}<extra></extra>",
         "legendgroup": "Draco Malfoy, 33",
         "marker": {
          "color": "#B6E880",
          "pattern": {
           "shape": "\\"
          }
         },
         "name": "Draco Malfoy, 33",
         "offsetgroup": "Draco Malfoy, 33",
         "orientation": "v",
         "showlegend": true,
         "x": [
          "Draco Malfoy",
          "Draco Malfoy",
          "Draco Malfoy"
         ],
         "xaxis": "x",
         "y": [
          33,
          33,
          33
         ],
         "yaxis": "y",
         "type": "histogram"
        },
        {
         "alignmentgroup": "True",
         "bingroup": "x",
         "histfunc": "sum",
         "hovertemplate": "favourite_character=%{x}<br>user_age=48<br>sum of user_age=%{y}<extra></extra>",
         "legendgroup": "Draco Malfoy, 48",
         "marker": {
          "color": "#B6E880",
          "pattern": {
           "shape": "x"
          }
         },
         "name": "Draco Malfoy, 48",
         "offsetgroup": "Draco Malfoy, 48",
         "orientation": "v",
         "showlegend": true,
         "x": [
          "Draco Malfoy"
         ],
         "xaxis": "x",
         "y": [
          48
         ],
         "yaxis": "y",
         "type": "histogram"
        },
        {
         "alignmentgroup": "True",
         "bingroup": "x",
         "histfunc": "sum",
         "hovertemplate": "favourite_character=%{x}<br>user_age=29<br>sum of user_age=%{y}<extra></extra>",
         "legendgroup": "Draco Malfoy, 29",
         "marker": {
          "color": "#B6E880",
          "pattern": {
           "shape": "."
          }
         },
         "name": "Draco Malfoy, 29",
         "offsetgroup": "Draco Malfoy, 29",
         "orientation": "v",
         "showlegend": true,
         "x": [
          "Draco Malfoy",
          "Draco Malfoy"
         ],
         "xaxis": "x",
         "y": [
          29,
          29
         ],
         "yaxis": "y",
         "type": "histogram"
        },
        {
         "alignmentgroup": "True",
         "bingroup": "x",
         "histfunc": "sum",
         "hovertemplate": "favourite_character=%{x}<br>user_age=44<br>sum of user_age=%{y}<extra></extra>",
         "legendgroup": "Draco Malfoy, 44",
         "marker": {
          "color": "#B6E880",
          "pattern": {
           "shape": ""
          }
         },
         "name": "Draco Malfoy, 44",
         "offsetgroup": "Draco Malfoy, 44",
         "orientation": "v",
         "showlegend": true,
         "x": [
          "Draco Malfoy"
         ],
         "xaxis": "x",
         "y": [
          44
         ],
         "yaxis": "y",
         "type": "histogram"
        },
        {
         "alignmentgroup": "True",
         "bingroup": "x",
         "histfunc": "sum",
         "hovertemplate": "favourite_character=%{x}<br>user_age=36<br>sum of user_age=%{y}<extra></extra>",
         "legendgroup": "Draco Malfoy, 36",
         "marker": {
          "color": "#B6E880",
          "pattern": {
           "shape": "/"
          }
         },
         "name": "Draco Malfoy, 36",
         "offsetgroup": "Draco Malfoy, 36",
         "orientation": "v",
         "showlegend": true,
         "x": [
          "Draco Malfoy",
          "Draco Malfoy"
         ],
         "xaxis": "x",
         "y": [
          36,
          36
         ],
         "yaxis": "y",
         "type": "histogram"
        },
        {
         "alignmentgroup": "True",
         "bingroup": "x",
         "histfunc": "sum",
         "hovertemplate": "favourite_character=%{x}<br>user_age=53<br>sum of user_age=%{y}<extra></extra>",
         "legendgroup": "Draco Malfoy, 53",
         "marker": {
          "color": "#B6E880",
          "pattern": {
           "shape": "+"
          }
         },
         "name": "Draco Malfoy, 53",
         "offsetgroup": "Draco Malfoy, 53",
         "orientation": "v",
         "showlegend": true,
         "x": [
          "Draco Malfoy"
         ],
         "xaxis": "x",
         "y": [
          53
         ],
         "yaxis": "y",
         "type": "histogram"
        },
        {
         "alignmentgroup": "True",
         "bingroup": "x",
         "histfunc": "sum",
         "hovertemplate": "favourite_character=%{x}<br>user_age=19<br>sum of user_age=%{y}<extra></extra>",
         "legendgroup": "Draco Malfoy, 19",
         "marker": {
          "color": "#B6E880",
          "pattern": {
           "shape": "."
          }
         },
         "name": "Draco Malfoy, 19",
         "offsetgroup": "Draco Malfoy, 19",
         "orientation": "v",
         "showlegend": true,
         "x": [
          "Draco Malfoy"
         ],
         "xaxis": "x",
         "y": [
          19
         ],
         "yaxis": "y",
         "type": "histogram"
        },
        {
         "alignmentgroup": "True",
         "bingroup": "x",
         "histfunc": "sum",
         "hovertemplate": "favourite_character=%{x}<br>user_age=41<br>sum of user_age=%{y}<extra></extra>",
         "legendgroup": "Draco Malfoy, 41",
         "marker": {
          "color": "#B6E880",
          "pattern": {
           "shape": ""
          }
         },
         "name": "Draco Malfoy, 41",
         "offsetgroup": "Draco Malfoy, 41",
         "orientation": "v",
         "showlegend": true,
         "x": [
          "Draco Malfoy",
          "Draco Malfoy"
         ],
         "xaxis": "x",
         "y": [
          41,
          41
         ],
         "yaxis": "y",
         "type": "histogram"
        },
        {
         "alignmentgroup": "True",
         "bingroup": "x",
         "histfunc": "sum",
         "hovertemplate": "favourite_character=%{x}<br>user_age=18<br>sum of user_age=%{y}<extra></extra>",
         "legendgroup": "Draco Malfoy, 18",
         "marker": {
          "color": "#B6E880",
          "pattern": {
           "shape": "."
          }
         },
         "name": "Draco Malfoy, 18",
         "offsetgroup": "Draco Malfoy, 18",
         "orientation": "v",
         "showlegend": true,
         "x": [
          "Draco Malfoy"
         ],
         "xaxis": "x",
         "y": [
          18
         ],
         "yaxis": "y",
         "type": "histogram"
        },
        {
         "alignmentgroup": "True",
         "bingroup": "x",
         "histfunc": "sum",
         "hovertemplate": "favourite_character=%{x}<br>user_age=12<br>sum of user_age=%{y}<extra></extra>",
         "legendgroup": "Draco Malfoy, 12",
         "marker": {
          "color": "#B6E880",
          "pattern": {
           "shape": ""
          }
         },
         "name": "Draco Malfoy, 12",
         "offsetgroup": "Draco Malfoy, 12",
         "orientation": "v",
         "showlegend": true,
         "x": [
          "Draco Malfoy",
          "Draco Malfoy"
         ],
         "xaxis": "x",
         "y": [
          12,
          12
         ],
         "yaxis": "y",
         "type": "histogram"
        },
        {
         "alignmentgroup": "True",
         "bingroup": "x",
         "histfunc": "sum",
         "hovertemplate": "favourite_character=%{x}<br>user_age=27<br>sum of user_age=%{y}<extra></extra>",
         "legendgroup": "Draco Malfoy, 27",
         "marker": {
          "color": "#B6E880",
          "pattern": {
           "shape": "+"
          }
         },
         "name": "Draco Malfoy, 27",
         "offsetgroup": "Draco Malfoy, 27",
         "orientation": "v",
         "showlegend": true,
         "x": [
          "Draco Malfoy",
          "Draco Malfoy",
          "Draco Malfoy"
         ],
         "xaxis": "x",
         "y": [
          27,
          27,
          27
         ],
         "yaxis": "y",
         "type": "histogram"
        },
        {
         "alignmentgroup": "True",
         "bingroup": "x",
         "histfunc": "sum",
         "hovertemplate": "favourite_character=%{x}<br>user_age=61<br>sum of user_age=%{y}<extra></extra>",
         "legendgroup": "Draco Malfoy, 61",
         "marker": {
          "color": "#B6E880",
          "pattern": {
           "shape": ""
          }
         },
         "name": "Draco Malfoy, 61",
         "offsetgroup": "Draco Malfoy, 61",
         "orientation": "v",
         "showlegend": true,
         "x": [
          "Draco Malfoy"
         ],
         "xaxis": "x",
         "y": [
          61
         ],
         "yaxis": "y",
         "type": "histogram"
        },
        {
         "alignmentgroup": "True",
         "bingroup": "x",
         "histfunc": "sum",
         "hovertemplate": "favourite_character=%{x}<br>user_age=49<br>sum of user_age=%{y}<extra></extra>",
         "legendgroup": "Draco Malfoy, 49",
         "marker": {
          "color": "#B6E880",
          "pattern": {
           "shape": "/"
          }
         },
         "name": "Draco Malfoy, 49",
         "offsetgroup": "Draco Malfoy, 49",
         "orientation": "v",
         "showlegend": true,
         "x": [
          "Draco Malfoy"
         ],
         "xaxis": "x",
         "y": [
          49
         ],
         "yaxis": "y",
         "type": "histogram"
        },
        {
         "alignmentgroup": "True",
         "bingroup": "x",
         "histfunc": "sum",
         "hovertemplate": "favourite_character=%{x}<br>user_age=8<br>sum of user_age=%{y}<extra></extra>",
         "legendgroup": "Draco Malfoy, 8",
         "marker": {
          "color": "#B6E880",
          "pattern": {
           "shape": "\\"
          }
         },
         "name": "Draco Malfoy, 8",
         "offsetgroup": "Draco Malfoy, 8",
         "orientation": "v",
         "showlegend": true,
         "x": [
          "Draco Malfoy"
         ],
         "xaxis": "x",
         "y": [
          8
         ],
         "yaxis": "y",
         "type": "histogram"
        },
        {
         "alignmentgroup": "True",
         "bingroup": "x",
         "histfunc": "sum",
         "hovertemplate": "favourite_character=%{x}<br>user_age=54<br>sum of user_age=%{y}<extra></extra>",
         "legendgroup": "Draco Malfoy, 54",
         "marker": {
          "color": "#B6E880",
          "pattern": {
           "shape": "."
          }
         },
         "name": "Draco Malfoy, 54",
         "offsetgroup": "Draco Malfoy, 54",
         "orientation": "v",
         "showlegend": true,
         "x": [
          "Draco Malfoy",
          "Draco Malfoy"
         ],
         "xaxis": "x",
         "y": [
          54,
          54
         ],
         "yaxis": "y",
         "type": "histogram"
        },
        {
         "alignmentgroup": "True",
         "bingroup": "x",
         "histfunc": "sum",
         "hovertemplate": "favourite_character=%{x}<br>user_age=58<br>sum of user_age=%{y}<extra></extra>",
         "legendgroup": "Draco Malfoy, 58",
         "marker": {
          "color": "#B6E880",
          "pattern": {
           "shape": ""
          }
         },
         "name": "Draco Malfoy, 58",
         "offsetgroup": "Draco Malfoy, 58",
         "orientation": "v",
         "showlegend": true,
         "x": [
          "Draco Malfoy"
         ],
         "xaxis": "x",
         "y": [
          58
         ],
         "yaxis": "y",
         "type": "histogram"
        }
       ],
       "layout": {
        "template": {
         "data": {
          "histogram2dcontour": [
           {
            "type": "histogram2dcontour",
            "colorbar": {
             "outlinewidth": 0,
             "ticks": ""
            },
            "colorscale": [
             [
              0.0,
              "#0d0887"
             ],
             [
              0.1111111111111111,
              "#46039f"
             ],
             [
              0.2222222222222222,
              "#7201a8"
             ],
             [
              0.3333333333333333,
              "#9c179e"
             ],
             [
              0.4444444444444444,
              "#bd3786"
             ],
             [
              0.5555555555555556,
              "#d8576b"
             ],
             [
              0.6666666666666666,
              "#ed7953"
             ],
             [
              0.7777777777777778,
              "#fb9f3a"
             ],
             [
              0.8888888888888888,
              "#fdca26"
             ],
             [
              1.0,
              "#f0f921"
             ]
            ]
           }
          ],
          "choropleth": [
           {
            "type": "choropleth",
            "colorbar": {
             "outlinewidth": 0,
             "ticks": ""
            }
           }
          ],
          "histogram2d": [
           {
            "type": "histogram2d",
            "colorbar": {
             "outlinewidth": 0,
             "ticks": ""
            },
            "colorscale": [
             [
              0.0,
              "#0d0887"
             ],
             [
              0.1111111111111111,
              "#46039f"
             ],
             [
              0.2222222222222222,
              "#7201a8"
             ],
             [
              0.3333333333333333,
              "#9c179e"
             ],
             [
              0.4444444444444444,
              "#bd3786"
             ],
             [
              0.5555555555555556,
              "#d8576b"
             ],
             [
              0.6666666666666666,
              "#ed7953"
             ],
             [
              0.7777777777777778,
              "#fb9f3a"
             ],
             [
              0.8888888888888888,
              "#fdca26"
             ],
             [
              1.0,
              "#f0f921"
             ]
            ]
           }
          ],
          "heatmap": [
           {
            "type": "heatmap",
            "colorbar": {
             "outlinewidth": 0,
             "ticks": ""
            },
            "colorscale": [
             [
              0.0,
              "#0d0887"
             ],
             [
              0.1111111111111111,
              "#46039f"
             ],
             [
              0.2222222222222222,
              "#7201a8"
             ],
             [
              0.3333333333333333,
              "#9c179e"
             ],
             [
              0.4444444444444444,
              "#bd3786"
             ],
             [
              0.5555555555555556,
              "#d8576b"
             ],
             [
              0.6666666666666666,
              "#ed7953"
             ],
             [
              0.7777777777777778,
              "#fb9f3a"
             ],
             [
              0.8888888888888888,
              "#fdca26"
             ],
             [
              1.0,
              "#f0f921"
             ]
            ]
           }
          ],
          "heatmapgl": [
           {
            "type": "heatmapgl",
            "colorbar": {
             "outlinewidth": 0,
             "ticks": ""
            },
            "colorscale": [
             [
              0.0,
              "#0d0887"
             ],
             [
              0.1111111111111111,
              "#46039f"
             ],
             [
              0.2222222222222222,
              "#7201a8"
             ],
             [
              0.3333333333333333,
              "#9c179e"
             ],
             [
              0.4444444444444444,
              "#bd3786"
             ],
             [
              0.5555555555555556,
              "#d8576b"
             ],
             [
              0.6666666666666666,
              "#ed7953"
             ],
             [
              0.7777777777777778,
              "#fb9f3a"
             ],
             [
              0.8888888888888888,
              "#fdca26"
             ],
             [
              1.0,
              "#f0f921"
             ]
            ]
           }
          ],
          "contourcarpet": [
           {
            "type": "contourcarpet",
            "colorbar": {
             "outlinewidth": 0,
             "ticks": ""
            }
           }
          ],
          "contour": [
           {
            "type": "contour",
            "colorbar": {
             "outlinewidth": 0,
             "ticks": ""
            },
            "colorscale": [
             [
              0.0,
              "#0d0887"
             ],
             [
              0.1111111111111111,
              "#46039f"
             ],
             [
              0.2222222222222222,
              "#7201a8"
             ],
             [
              0.3333333333333333,
              "#9c179e"
             ],
             [
              0.4444444444444444,
              "#bd3786"
             ],
             [
              0.5555555555555556,
              "#d8576b"
             ],
             [
              0.6666666666666666,
              "#ed7953"
             ],
             [
              0.7777777777777778,
              "#fb9f3a"
             ],
             [
              0.8888888888888888,
              "#fdca26"
             ],
             [
              1.0,
              "#f0f921"
             ]
            ]
           }
          ],
          "surface": [
           {
            "type": "surface",
            "colorbar": {
             "outlinewidth": 0,
             "ticks": ""
            },
            "colorscale": [
             [
              0.0,
              "#0d0887"
             ],
             [
              0.1111111111111111,
              "#46039f"
             ],
             [
              0.2222222222222222,
              "#7201a8"
             ],
             [
              0.3333333333333333,
              "#9c179e"
             ],
             [
              0.4444444444444444,
              "#bd3786"
             ],
             [
              0.5555555555555556,
              "#d8576b"
             ],
             [
              0.6666666666666666,
              "#ed7953"
             ],
             [
              0.7777777777777778,
              "#fb9f3a"
             ],
             [
              0.8888888888888888,
              "#fdca26"
             ],
             [
              1.0,
              "#f0f921"
             ]
            ]
           }
          ],
          "mesh3d": [
           {
            "type": "mesh3d",
            "colorbar": {
             "outlinewidth": 0,
             "ticks": ""
            }
           }
          ],
          "scatter": [
           {
            "marker": {
             "line": {
              "color": "#283442"
             }
            },
            "type": "scatter"
           }
          ],
          "parcoords": [
           {
            "type": "parcoords",
            "line": {
             "colorbar": {
              "outlinewidth": 0,
              "ticks": ""
             }
            }
           }
          ],
          "scatterpolargl": [
           {
            "type": "scatterpolargl",
            "marker": {
             "colorbar": {
              "outlinewidth": 0,
              "ticks": ""
             }
            }
           }
          ],
          "bar": [
           {
            "error_x": {
             "color": "#f2f5fa"
            },
            "error_y": {
             "color": "#f2f5fa"
            },
            "marker": {
             "line": {
              "color": "rgb(17,17,17)",
              "width": 0.5
             },
             "pattern": {
              "fillmode": "overlay",
              "size": 10,
              "solidity": 0.2
             }
            },
            "type": "bar"
           }
          ],
          "scattergeo": [
           {
            "type": "scattergeo",
            "marker": {
             "colorbar": {
              "outlinewidth": 0,
              "ticks": ""
             }
            }
           }
          ],
          "scatterpolar": [
           {
            "type": "scatterpolar",
            "marker": {
             "colorbar": {
              "outlinewidth": 0,
              "ticks": ""
             }
            }
           }
          ],
          "histogram": [
           {
            "marker": {
             "pattern": {
              "fillmode": "overlay",
              "size": 10,
              "solidity": 0.2
             }
            },
            "type": "histogram"
           }
          ],
          "scattergl": [
           {
            "marker": {
             "line": {
              "color": "#283442"
             }
            },
            "type": "scattergl"
           }
          ],
          "scatter3d": [
           {
            "type": "scatter3d",
            "line": {
             "colorbar": {
              "outlinewidth": 0,
              "ticks": ""
             }
            },
            "marker": {
             "colorbar": {
              "outlinewidth": 0,
              "ticks": ""
             }
            }
           }
          ],
          "scattermapbox": [
           {
            "type": "scattermapbox",
            "marker": {
             "colorbar": {
              "outlinewidth": 0,
              "ticks": ""
             }
            }
           }
          ],
          "scatterternary": [
           {
            "type": "scatterternary",
            "marker": {
             "colorbar": {
              "outlinewidth": 0,
              "ticks": ""
             }
            }
           }
          ],
          "scattercarpet": [
           {
            "type": "scattercarpet",
            "marker": {
             "colorbar": {
              "outlinewidth": 0,
              "ticks": ""
             }
            }
           }
          ],
          "carpet": [
           {
            "aaxis": {
             "endlinecolor": "#A2B1C6",
             "gridcolor": "#506784",
             "linecolor": "#506784",
             "minorgridcolor": "#506784",
             "startlinecolor": "#A2B1C6"
            },
            "baxis": {
             "endlinecolor": "#A2B1C6",
             "gridcolor": "#506784",
             "linecolor": "#506784",
             "minorgridcolor": "#506784",
             "startlinecolor": "#A2B1C6"
            },
            "type": "carpet"
           }
          ],
          "table": [
           {
            "cells": {
             "fill": {
              "color": "#506784"
             },
             "line": {
              "color": "rgb(17,17,17)"
             }
            },
            "header": {
             "fill": {
              "color": "#2a3f5f"
             },
             "line": {
              "color": "rgb(17,17,17)"
             }
            },
            "type": "table"
           }
          ],
          "barpolar": [
           {
            "marker": {
             "line": {
              "color": "rgb(17,17,17)",
              "width": 0.5
             },
             "pattern": {
              "fillmode": "overlay",
              "size": 10,
              "solidity": 0.2
             }
            },
            "type": "barpolar"
           }
          ],
          "pie": [
           {
            "automargin": true,
            "type": "pie"
           }
          ]
         },
         "layout": {
          "autotypenumbers": "strict",
          "colorway": [
           "#636efa",
           "#EF553B",
           "#00cc96",
           "#ab63fa",
           "#FFA15A",
           "#19d3f3",
           "#FF6692",
           "#B6E880",
           "#FF97FF",
           "#FECB52"
          ],
          "font": {
           "color": "#f2f5fa"
          },
          "hovermode": "closest",
          "hoverlabel": {
           "align": "left"
          },
          "paper_bgcolor": "rgb(17,17,17)",
          "plot_bgcolor": "rgb(17,17,17)",
          "polar": {
           "bgcolor": "rgb(17,17,17)",
           "angularaxis": {
            "gridcolor": "#506784",
            "linecolor": "#506784",
            "ticks": ""
           },
           "radialaxis": {
            "gridcolor": "#506784",
            "linecolor": "#506784",
            "ticks": ""
           }
          },
          "ternary": {
           "bgcolor": "rgb(17,17,17)",
           "aaxis": {
            "gridcolor": "#506784",
            "linecolor": "#506784",
            "ticks": ""
           },
           "baxis": {
            "gridcolor": "#506784",
            "linecolor": "#506784",
            "ticks": ""
           },
           "caxis": {
            "gridcolor": "#506784",
            "linecolor": "#506784",
            "ticks": ""
           }
          },
          "coloraxis": {
           "colorbar": {
            "outlinewidth": 0,
            "ticks": ""
           }
          },
          "colorscale": {
           "sequential": [
            [
             0.0,
             "#0d0887"
            ],
            [
             0.1111111111111111,
             "#46039f"
            ],
            [
             0.2222222222222222,
             "#7201a8"
            ],
            [
             0.3333333333333333,
             "#9c179e"
            ],
            [
             0.4444444444444444,
             "#bd3786"
            ],
            [
             0.5555555555555556,
             "#d8576b"
            ],
            [
             0.6666666666666666,
             "#ed7953"
            ],
            [
             0.7777777777777778,
             "#fb9f3a"
            ],
            [
             0.8888888888888888,
             "#fdca26"
            ],
            [
             1.0,
             "#f0f921"
            ]
           ],
           "sequentialminus": [
            [
             0.0,
             "#0d0887"
            ],
            [
             0.1111111111111111,
             "#46039f"
            ],
            [
             0.2222222222222222,
             "#7201a8"
            ],
            [
             0.3333333333333333,
             "#9c179e"
            ],
            [
             0.4444444444444444,
             "#bd3786"
            ],
            [
             0.5555555555555556,
             "#d8576b"
            ],
            [
             0.6666666666666666,
             "#ed7953"
            ],
            [
             0.7777777777777778,
             "#fb9f3a"
            ],
            [
             0.8888888888888888,
             "#fdca26"
            ],
            [
             1.0,
             "#f0f921"
            ]
           ],
           "diverging": [
            [
             0,
             "#8e0152"
            ],
            [
             0.1,
             "#c51b7d"
            ],
            [
             0.2,
             "#de77ae"
            ],
            [
             0.3,
             "#f1b6da"
            ],
            [
             0.4,
             "#fde0ef"
            ],
            [
             0.5,
             "#f7f7f7"
            ],
            [
             0.6,
             "#e6f5d0"
            ],
            [
             0.7,
             "#b8e186"
            ],
            [
             0.8,
             "#7fbc41"
            ],
            [
             0.9,
             "#4d9221"
            ],
            [
             1,
             "#276419"
            ]
           ]
          },
          "xaxis": {
           "gridcolor": "#283442",
           "linecolor": "#506784",
           "ticks": "",
           "title": {
            "standoff": 15
           },
           "zerolinecolor": "#283442",
           "automargin": true,
           "zerolinewidth": 2
          },
          "yaxis": {
           "gridcolor": "#283442",
           "linecolor": "#506784",
           "ticks": "",
           "title": {
            "standoff": 15
           },
           "zerolinecolor": "#283442",
           "automargin": true,
           "zerolinewidth": 2
          },
          "scene": {
           "xaxis": {
            "backgroundcolor": "rgb(17,17,17)",
            "gridcolor": "#506784",
            "linecolor": "#506784",
            "showbackground": true,
            "ticks": "",
            "zerolinecolor": "#C8D4E3",
            "gridwidth": 2
           },
           "yaxis": {
            "backgroundcolor": "rgb(17,17,17)",
            "gridcolor": "#506784",
            "linecolor": "#506784",
            "showbackground": true,
            "ticks": "",
            "zerolinecolor": "#C8D4E3",
            "gridwidth": 2
           },
           "zaxis": {
            "backgroundcolor": "rgb(17,17,17)",
            "gridcolor": "#506784",
            "linecolor": "#506784",
            "showbackground": true,
            "ticks": "",
            "zerolinecolor": "#C8D4E3",
            "gridwidth": 2
           }
          },
          "shapedefaults": {
           "line": {
            "color": "#f2f5fa"
           }
          },
          "annotationdefaults": {
           "arrowcolor": "#f2f5fa",
           "arrowhead": 0,
           "arrowwidth": 1
          },
          "geo": {
           "bgcolor": "rgb(17,17,17)",
           "landcolor": "rgb(17,17,17)",
           "subunitcolor": "#506784",
           "showland": true,
           "showlakes": true,
           "lakecolor": "rgb(17,17,17)"
          },
          "title": {
           "x": 0.05
          },
          "updatemenudefaults": {
           "bgcolor": "#506784",
           "borderwidth": 0
          },
          "sliderdefaults": {
           "bgcolor": "#C8D4E3",
           "borderwidth": 1,
           "bordercolor": "rgb(17,17,17)",
           "tickwidth": 0
          },
          "mapbox": {
           "style": "dark"
          }
         }
        },
        "xaxis": {
         "anchor": "y",
         "domain": [
          0.0,
          1.0
         ],
         "title": {
          "text": "favourite_character"
         },
         "categoryorder": "array",
         "categoryarray": [
          "Severus Snape",
          "Ron Weasley",
          "Rubeus Hagrid",
          "Neville Longbottom",
          "Albus Dumbledore",
          "Hermione Granger",
          "Harry Potter",
          "Draco Malfoy"
         ]
        },
        "yaxis": {
         "anchor": "x",
         "domain": [
          0.0,
          1.0
         ],
         "title": {
          "text": "sum of user_age"
         },
         "categoryorder": "array",
         "categoryarray": [
          58,
          54,
          62,
          63,
          8,
          49,
          61,
          64,
          27,
          14,
          21,
          17,
          55,
          15,
          37,
          43,
          42,
          13,
          12,
          18,
          56,
          11,
          10,
          60,
          41,
          19,
          53,
          25,
          45,
          36,
          44,
          29,
          35,
          48,
          33,
          30,
          57,
          22,
          31,
          20,
          39,
          47,
          38,
          51,
          34,
          46,
          52,
          28,
          26,
          16,
          40,
          24,
          32,
          23,
          50
         ]
        },
        "legend": {
         "title": {
          "text": "favourite_character, user_age"
         },
         "tracegroupgap": 0
        },
        "title": {
         "text": "Distribution of favourite_character by age"
        },
        "barmode": "relative"
       },
       "config": {
        "plotlyServerURL": "https://plot.ly"
       }
      },
      "text/html": "<div>                            <div id=\"a56fbfb8-c1fa-456d-9b12-94cb930b3b07\" class=\"plotly-graph-div\" style=\"height:525px; width:100%;\"></div>            <script type=\"text/javascript\">                require([\"plotly\"], function(Plotly) {                    window.PLOTLYENV=window.PLOTLYENV || {};                                    if (document.getElementById(\"a56fbfb8-c1fa-456d-9b12-94cb930b3b07\")) {                    Plotly.newPlot(                        \"a56fbfb8-c1fa-456d-9b12-94cb930b3b07\",                        [{\"alignmentgroup\":\"True\",\"bingroup\":\"x\",\"histfunc\":\"sum\",\"hovertemplate\":\"favourite_character=%{x}\\u003cbr\\u003euser_age=50\\u003cbr\\u003esum of user_age=%{y}\\u003cextra\\u003e\\u003c\\u002fextra\\u003e\",\"legendgroup\":\"Severus Snape, 50\",\"marker\":{\"color\":\"#636efa\",\"pattern\":{\"shape\":\"\"}},\"name\":\"Severus Snape, 50\",\"offsetgroup\":\"Severus Snape, 50\",\"orientation\":\"v\",\"showlegend\":true,\"x\":[\"Severus Snape\",\"Severus Snape\",\"Severus Snape\",\"Severus Snape\"],\"xaxis\":\"x\",\"y\":[50,50,50,50],\"yaxis\":\"y\",\"type\":\"histogram\"},{\"alignmentgroup\":\"True\",\"bingroup\":\"x\",\"histfunc\":\"sum\",\"hovertemplate\":\"favourite_character=%{x}\\u003cbr\\u003euser_age=23\\u003cbr\\u003esum of user_age=%{y}\\u003cextra\\u003e\\u003c\\u002fextra\\u003e\",\"legendgroup\":\"Severus Snape, 23\",\"marker\":{\"color\":\"#636efa\",\"pattern\":{\"shape\":\"\\u002f\"}},\"name\":\"Severus Snape, 23\",\"offsetgroup\":\"Severus Snape, 23\",\"orientation\":\"v\",\"showlegend\":true,\"x\":[\"Severus Snape\"],\"xaxis\":\"x\",\"y\":[23],\"yaxis\":\"y\",\"type\":\"histogram\"},{\"alignmentgroup\":\"True\",\"bingroup\":\"x\",\"histfunc\":\"sum\",\"hovertemplate\":\"favourite_character=%{x}\\u003cbr\\u003euser_age=32\\u003cbr\\u003esum of user_age=%{y}\\u003cextra\\u003e\\u003c\\u002fextra\\u003e\",\"legendgroup\":\"Severus Snape, 32\",\"marker\":{\"color\":\"#636efa\",\"pattern\":{\"shape\":\"\\\\\"}},\"name\":\"Severus Snape, 32\",\"offsetgroup\":\"Severus Snape, 32\",\"orientation\":\"v\",\"showlegend\":true,\"x\":[\"Severus Snape\",\"Severus Snape\",\"Severus Snape\"],\"xaxis\":\"x\",\"y\":[32,32,32],\"yaxis\":\"y\",\"type\":\"histogram\"},{\"alignmentgroup\":\"True\",\"bingroup\":\"x\",\"histfunc\":\"sum\",\"hovertemplate\":\"favourite_character=%{x}\\u003cbr\\u003euser_age=24\\u003cbr\\u003esum of user_age=%{y}\\u003cextra\\u003e\\u003c\\u002fextra\\u003e\",\"legendgroup\":\"Severus Snape, 24\",\"marker\":{\"color\":\"#636efa\",\"pattern\":{\"shape\":\"x\"}},\"name\":\"Severus Snape, 24\",\"offsetgroup\":\"Severus Snape, 24\",\"orientation\":\"v\",\"showlegend\":true,\"x\":[\"Severus Snape\"],\"xaxis\":\"x\",\"y\":[24],\"yaxis\":\"y\",\"type\":\"histogram\"},{\"alignmentgroup\":\"True\",\"bingroup\":\"x\",\"histfunc\":\"sum\",\"hovertemplate\":\"favourite_character=%{x}\\u003cbr\\u003euser_age=26\\u003cbr\\u003esum of user_age=%{y}\\u003cextra\\u003e\\u003c\\u002fextra\\u003e\",\"legendgroup\":\"Severus Snape, 26\",\"marker\":{\"color\":\"#636efa\",\"pattern\":{\"shape\":\"\"}},\"name\":\"Severus Snape, 26\",\"offsetgroup\":\"Severus Snape, 26\",\"orientation\":\"v\",\"showlegend\":true,\"x\":[\"Severus Snape\",\"Severus Snape\",\"Severus Snape\"],\"xaxis\":\"x\",\"y\":[26,26,26],\"yaxis\":\"y\",\"type\":\"histogram\"},{\"alignmentgroup\":\"True\",\"bingroup\":\"x\",\"histfunc\":\"sum\",\"hovertemplate\":\"favourite_character=%{x}\\u003cbr\\u003euser_age=28\\u003cbr\\u003esum of user_age=%{y}\\u003cextra\\u003e\\u003c\\u002fextra\\u003e\",\"legendgroup\":\"Severus Snape, 28\",\"marker\":{\"color\":\"#636efa\",\"pattern\":{\"shape\":\"\\u002f\"}},\"name\":\"Severus Snape, 28\",\"offsetgroup\":\"Severus Snape, 28\",\"orientation\":\"v\",\"showlegend\":true,\"x\":[\"Severus Snape\"],\"xaxis\":\"x\",\"y\":[28],\"yaxis\":\"y\",\"type\":\"histogram\"},{\"alignmentgroup\":\"True\",\"bingroup\":\"x\",\"histfunc\":\"sum\",\"hovertemplate\":\"favourite_character=%{x}\\u003cbr\\u003euser_age=34\\u003cbr\\u003esum of user_age=%{y}\\u003cextra\\u003e\\u003c\\u002fextra\\u003e\",\"legendgroup\":\"Severus Snape, 34\",\"marker\":{\"color\":\"#636efa\",\"pattern\":{\"shape\":\"+\"}},\"name\":\"Severus Snape, 34\",\"offsetgroup\":\"Severus Snape, 34\",\"orientation\":\"v\",\"showlegend\":true,\"x\":[\"Severus Snape\",\"Severus Snape\"],\"xaxis\":\"x\",\"y\":[34,34],\"yaxis\":\"y\",\"type\":\"histogram\"},{\"alignmentgroup\":\"True\",\"bingroup\":\"x\",\"histfunc\":\"sum\",\"hovertemplate\":\"favourite_character=%{x}\\u003cbr\\u003euser_age=51\\u003cbr\\u003esum of user_age=%{y}\\u003cextra\\u003e\\u003c\\u002fextra\\u003e\",\"legendgroup\":\"Severus Snape, 51\",\"marker\":{\"color\":\"#636efa\",\"pattern\":{\"shape\":\".\"}},\"name\":\"Severus Snape, 51\",\"offsetgroup\":\"Severus Snape, 51\",\"orientation\":\"v\",\"showlegend\":true,\"x\":[\"Severus Snape\"],\"xaxis\":\"x\",\"y\":[51],\"yaxis\":\"y\",\"type\":\"histogram\"},{\"alignmentgroup\":\"True\",\"bingroup\":\"x\",\"histfunc\":\"sum\",\"hovertemplate\":\"favourite_character=%{x}\\u003cbr\\u003euser_age=38\\u003cbr\\u003esum of user_age=%{y}\\u003cextra\\u003e\\u003c\\u002fextra\\u003e\",\"legendgroup\":\"Severus Snape, 38\",\"marker\":{\"color\":\"#636efa\",\"pattern\":{\"shape\":\"\"}},\"name\":\"Severus Snape, 38\",\"offsetgroup\":\"Severus Snape, 38\",\"orientation\":\"v\",\"showlegend\":true,\"x\":[\"Severus Snape\"],\"xaxis\":\"x\",\"y\":[38],\"yaxis\":\"y\",\"type\":\"histogram\"},{\"alignmentgroup\":\"True\",\"bingroup\":\"x\",\"histfunc\":\"sum\",\"hovertemplate\":\"favourite_character=%{x}\\u003cbr\\u003euser_age=39\\u003cbr\\u003esum of user_age=%{y}\\u003cextra\\u003e\\u003c\\u002fextra\\u003e\",\"legendgroup\":\"Severus Snape, 39\",\"marker\":{\"color\":\"#636efa\",\"pattern\":{\"shape\":\"\\\\\"}},\"name\":\"Severus Snape, 39\",\"offsetgroup\":\"Severus Snape, 39\",\"orientation\":\"v\",\"showlegend\":true,\"x\":[\"Severus Snape\",\"Severus Snape\"],\"xaxis\":\"x\",\"y\":[39,39],\"yaxis\":\"y\",\"type\":\"histogram\"},{\"alignmentgroup\":\"True\",\"bingroup\":\"x\",\"histfunc\":\"sum\",\"hovertemplate\":\"favourite_character=%{x}\\u003cbr\\u003euser_age=30\\u003cbr\\u003esum of user_age=%{y}\\u003cextra\\u003e\\u003c\\u002fextra\\u003e\",\"legendgroup\":\"Severus Snape, 30\",\"marker\":{\"color\":\"#636efa\",\"pattern\":{\"shape\":\"\\u002f\"}},\"name\":\"Severus Snape, 30\",\"offsetgroup\":\"Severus Snape, 30\",\"orientation\":\"v\",\"showlegend\":true,\"x\":[\"Severus Snape\",\"Severus Snape\"],\"xaxis\":\"x\",\"y\":[30,30],\"yaxis\":\"y\",\"type\":\"histogram\"},{\"alignmentgroup\":\"True\",\"bingroup\":\"x\",\"histfunc\":\"sum\",\"hovertemplate\":\"favourite_character=%{x}\\u003cbr\\u003euser_age=33\\u003cbr\\u003esum of user_age=%{y}\\u003cextra\\u003e\\u003c\\u002fextra\\u003e\",\"legendgroup\":\"Severus Snape, 33\",\"marker\":{\"color\":\"#636efa\",\"pattern\":{\"shape\":\"\\\\\"}},\"name\":\"Severus Snape, 33\",\"offsetgroup\":\"Severus Snape, 33\",\"orientation\":\"v\",\"showlegend\":true,\"x\":[\"Severus Snape\",\"Severus Snape\",\"Severus Snape\"],\"xaxis\":\"x\",\"y\":[33,33,33],\"yaxis\":\"y\",\"type\":\"histogram\"},{\"alignmentgroup\":\"True\",\"bingroup\":\"x\",\"histfunc\":\"sum\",\"hovertemplate\":\"favourite_character=%{x}\\u003cbr\\u003euser_age=48\\u003cbr\\u003esum of user_age=%{y}\\u003cextra\\u003e\\u003c\\u002fextra\\u003e\",\"legendgroup\":\"Severus Snape, 48\",\"marker\":{\"color\":\"#636efa\",\"pattern\":{\"shape\":\"x\"}},\"name\":\"Severus Snape, 48\",\"offsetgroup\":\"Severus Snape, 48\",\"orientation\":\"v\",\"showlegend\":true,\"x\":[\"Severus Snape\",\"Severus Snape\",\"Severus Snape\",\"Severus Snape\"],\"xaxis\":\"x\",\"y\":[48,48,48,48],\"yaxis\":\"y\",\"type\":\"histogram\"},{\"alignmentgroup\":\"True\",\"bingroup\":\"x\",\"histfunc\":\"sum\",\"hovertemplate\":\"favourite_character=%{x}\\u003cbr\\u003euser_age=35\\u003cbr\\u003esum of user_age=%{y}\\u003cextra\\u003e\\u003c\\u002fextra\\u003e\",\"legendgroup\":\"Severus Snape, 35\",\"marker\":{\"color\":\"#636efa\",\"pattern\":{\"shape\":\"+\"}},\"name\":\"Severus Snape, 35\",\"offsetgroup\":\"Severus Snape, 35\",\"orientation\":\"v\",\"showlegend\":true,\"x\":[\"Severus Snape\",\"Severus Snape\"],\"xaxis\":\"x\",\"y\":[35,35],\"yaxis\":\"y\",\"type\":\"histogram\"},{\"alignmentgroup\":\"True\",\"bingroup\":\"x\",\"histfunc\":\"sum\",\"hovertemplate\":\"favourite_character=%{x}\\u003cbr\\u003euser_age=29\\u003cbr\\u003esum of user_age=%{y}\\u003cextra\\u003e\\u003c\\u002fextra\\u003e\",\"legendgroup\":\"Severus Snape, 29\",\"marker\":{\"color\":\"#636efa\",\"pattern\":{\"shape\":\".\"}},\"name\":\"Severus Snape, 29\",\"offsetgroup\":\"Severus Snape, 29\",\"orientation\":\"v\",\"showlegend\":true,\"x\":[\"Severus Snape\"],\"xaxis\":\"x\",\"y\":[29],\"yaxis\":\"y\",\"type\":\"histogram\"},{\"alignmentgroup\":\"True\",\"bingroup\":\"x\",\"histfunc\":\"sum\",\"hovertemplate\":\"favourite_character=%{x}\\u003cbr\\u003euser_age=44\\u003cbr\\u003esum of user_age=%{y}\\u003cextra\\u003e\\u003c\\u002fextra\\u003e\",\"legendgroup\":\"Severus Snape, 44\",\"marker\":{\"color\":\"#636efa\",\"pattern\":{\"shape\":\"\"}},\"name\":\"Severus Snape, 44\",\"offsetgroup\":\"Severus Snape, 44\",\"orientation\":\"v\",\"showlegend\":true,\"x\":[\"Severus Snape\"],\"xaxis\":\"x\",\"y\":[44],\"yaxis\":\"y\",\"type\":\"histogram\"},{\"alignmentgroup\":\"True\",\"bingroup\":\"x\",\"histfunc\":\"sum\",\"hovertemplate\":\"favourite_character=%{x}\\u003cbr\\u003euser_age=36\\u003cbr\\u003esum of user_age=%{y}\\u003cextra\\u003e\\u003c\\u002fextra\\u003e\",\"legendgroup\":\"Severus Snape, 36\",\"marker\":{\"color\":\"#636efa\",\"pattern\":{\"shape\":\"\\u002f\"}},\"name\":\"Severus Snape, 36\",\"offsetgroup\":\"Severus Snape, 36\",\"orientation\":\"v\",\"showlegend\":true,\"x\":[\"Severus Snape\",\"Severus Snape\"],\"xaxis\":\"x\",\"y\":[36,36],\"yaxis\":\"y\",\"type\":\"histogram\"},{\"alignmentgroup\":\"True\",\"bingroup\":\"x\",\"histfunc\":\"sum\",\"hovertemplate\":\"favourite_character=%{x}\\u003cbr\\u003euser_age=25\\u003cbr\\u003esum of user_age=%{y}\\u003cextra\\u003e\\u003c\\u002fextra\\u003e\",\"legendgroup\":\"Severus Snape, 25\",\"marker\":{\"color\":\"#636efa\",\"pattern\":{\"shape\":\"x\"}},\"name\":\"Severus Snape, 25\",\"offsetgroup\":\"Severus Snape, 25\",\"orientation\":\"v\",\"showlegend\":true,\"x\":[\"Severus Snape\"],\"xaxis\":\"x\",\"y\":[25],\"yaxis\":\"y\",\"type\":\"histogram\"},{\"alignmentgroup\":\"True\",\"bingroup\":\"x\",\"histfunc\":\"sum\",\"hovertemplate\":\"favourite_character=%{x}\\u003cbr\\u003euser_age=41\\u003cbr\\u003esum of user_age=%{y}\\u003cextra\\u003e\\u003c\\u002fextra\\u003e\",\"legendgroup\":\"Severus Snape, 41\",\"marker\":{\"color\":\"#636efa\",\"pattern\":{\"shape\":\"\"}},\"name\":\"Severus Snape, 41\",\"offsetgroup\":\"Severus Snape, 41\",\"orientation\":\"v\",\"showlegend\":true,\"x\":[\"Severus Snape\",\"Severus Snape\"],\"xaxis\":\"x\",\"y\":[41,41],\"yaxis\":\"y\",\"type\":\"histogram\"},{\"alignmentgroup\":\"True\",\"bingroup\":\"x\",\"histfunc\":\"sum\",\"hovertemplate\":\"favourite_character=%{x}\\u003cbr\\u003euser_age=18\\u003cbr\\u003esum of user_age=%{y}\\u003cextra\\u003e\\u003c\\u002fextra\\u003e\",\"legendgroup\":\"Severus Snape, 18\",\"marker\":{\"color\":\"#636efa\",\"pattern\":{\"shape\":\".\"}},\"name\":\"Severus Snape, 18\",\"offsetgroup\":\"Severus Snape, 18\",\"orientation\":\"v\",\"showlegend\":true,\"x\":[\"Severus Snape\"],\"xaxis\":\"x\",\"y\":[18],\"yaxis\":\"y\",\"type\":\"histogram\"},{\"alignmentgroup\":\"True\",\"bingroup\":\"x\",\"histfunc\":\"sum\",\"hovertemplate\":\"favourite_character=%{x}\\u003cbr\\u003euser_age=42\\u003cbr\\u003esum of user_age=%{y}\\u003cextra\\u003e\\u003c\\u002fextra\\u003e\",\"legendgroup\":\"Severus Snape, 42\",\"marker\":{\"color\":\"#636efa\",\"pattern\":{\"shape\":\"\\\\\"}},\"name\":\"Severus Snape, 42\",\"offsetgroup\":\"Severus Snape, 42\",\"orientation\":\"v\",\"showlegend\":true,\"x\":[\"Severus Snape\"],\"xaxis\":\"x\",\"y\":[42],\"yaxis\":\"y\",\"type\":\"histogram\"},{\"alignmentgroup\":\"True\",\"bingroup\":\"x\",\"histfunc\":\"sum\",\"hovertemplate\":\"favourite_character=%{x}\\u003cbr\\u003euser_age=43\\u003cbr\\u003esum of user_age=%{y}\\u003cextra\\u003e\\u003c\\u002fextra\\u003e\",\"legendgroup\":\"Severus Snape, 43\",\"marker\":{\"color\":\"#636efa\",\"pattern\":{\"shape\":\"x\"}},\"name\":\"Severus Snape, 43\",\"offsetgroup\":\"Severus Snape, 43\",\"orientation\":\"v\",\"showlegend\":true,\"x\":[\"Severus Snape\",\"Severus Snape\"],\"xaxis\":\"x\",\"y\":[43,43],\"yaxis\":\"y\",\"type\":\"histogram\"},{\"alignmentgroup\":\"True\",\"bingroup\":\"x\",\"histfunc\":\"sum\",\"hovertemplate\":\"favourite_character=%{x}\\u003cbr\\u003euser_age=37\\u003cbr\\u003esum of user_age=%{y}\\u003cextra\\u003e\\u003c\\u002fextra\\u003e\",\"legendgroup\":\"Severus Snape, 37\",\"marker\":{\"color\":\"#636efa\",\"pattern\":{\"shape\":\"+\"}},\"name\":\"Severus Snape, 37\",\"offsetgroup\":\"Severus Snape, 37\",\"orientation\":\"v\",\"showlegend\":true,\"x\":[\"Severus Snape\",\"Severus Snape\"],\"xaxis\":\"x\",\"y\":[37,37],\"yaxis\":\"y\",\"type\":\"histogram\"},{\"alignmentgroup\":\"True\",\"bingroup\":\"x\",\"histfunc\":\"sum\",\"hovertemplate\":\"favourite_character=%{x}\\u003cbr\\u003euser_age=15\\u003cbr\\u003esum of user_age=%{y}\\u003cextra\\u003e\\u003c\\u002fextra\\u003e\",\"legendgroup\":\"Severus Snape, 15\",\"marker\":{\"color\":\"#636efa\",\"pattern\":{\"shape\":\".\"}},\"name\":\"Severus Snape, 15\",\"offsetgroup\":\"Severus Snape, 15\",\"orientation\":\"v\",\"showlegend\":true,\"x\":[\"Severus Snape\"],\"xaxis\":\"x\",\"y\":[15],\"yaxis\":\"y\",\"type\":\"histogram\"},{\"alignmentgroup\":\"True\",\"bingroup\":\"x\",\"histfunc\":\"sum\",\"hovertemplate\":\"favourite_character=%{x}\\u003cbr\\u003euser_age=14\\u003cbr\\u003esum of user_age=%{y}\\u003cextra\\u003e\\u003c\\u002fextra\\u003e\",\"legendgroup\":\"Severus Snape, 14\",\"marker\":{\"color\":\"#636efa\",\"pattern\":{\"shape\":\"x\"}},\"name\":\"Severus Snape, 14\",\"offsetgroup\":\"Severus Snape, 14\",\"orientation\":\"v\",\"showlegend\":true,\"x\":[\"Severus Snape\"],\"xaxis\":\"x\",\"y\":[14],\"yaxis\":\"y\",\"type\":\"histogram\"},{\"alignmentgroup\":\"True\",\"bingroup\":\"x\",\"histfunc\":\"sum\",\"hovertemplate\":\"favourite_character=%{x}\\u003cbr\\u003euser_age=27\\u003cbr\\u003esum of user_age=%{y}\\u003cextra\\u003e\\u003c\\u002fextra\\u003e\",\"legendgroup\":\"Severus Snape, 27\",\"marker\":{\"color\":\"#636efa\",\"pattern\":{\"shape\":\"+\"}},\"name\":\"Severus Snape, 27\",\"offsetgroup\":\"Severus Snape, 27\",\"orientation\":\"v\",\"showlegend\":true,\"x\":[\"Severus Snape\",\"Severus Snape\",\"Severus Snape\"],\"xaxis\":\"x\",\"y\":[27,27,27],\"yaxis\":\"y\",\"type\":\"histogram\"},{\"alignmentgroup\":\"True\",\"bingroup\":\"x\",\"histfunc\":\"sum\",\"hovertemplate\":\"favourite_character=%{x}\\u003cbr\\u003euser_age=49\\u003cbr\\u003esum of user_age=%{y}\\u003cextra\\u003e\\u003c\\u002fextra\\u003e\",\"legendgroup\":\"Severus Snape, 49\",\"marker\":{\"color\":\"#636efa\",\"pattern\":{\"shape\":\"\\u002f\"}},\"name\":\"Severus Snape, 49\",\"offsetgroup\":\"Severus Snape, 49\",\"orientation\":\"v\",\"showlegend\":true,\"x\":[\"Severus Snape\",\"Severus Snape\"],\"xaxis\":\"x\",\"y\":[49,49],\"yaxis\":\"y\",\"type\":\"histogram\"},{\"alignmentgroup\":\"True\",\"bingroup\":\"x\",\"histfunc\":\"sum\",\"hovertemplate\":\"favourite_character=%{x}\\u003cbr\\u003euser_age=50\\u003cbr\\u003esum of user_age=%{y}\\u003cextra\\u003e\\u003c\\u002fextra\\u003e\",\"legendgroup\":\"Ron Weasley, 50\",\"marker\":{\"color\":\"#EF553B\",\"pattern\":{\"shape\":\"\"}},\"name\":\"Ron Weasley, 50\",\"offsetgroup\":\"Ron Weasley, 50\",\"orientation\":\"v\",\"showlegend\":true,\"x\":[\"Ron Weasley\",\"Ron Weasley\"],\"xaxis\":\"x\",\"y\":[50,50],\"yaxis\":\"y\",\"type\":\"histogram\"},{\"alignmentgroup\":\"True\",\"bingroup\":\"x\",\"histfunc\":\"sum\",\"hovertemplate\":\"favourite_character=%{x}\\u003cbr\\u003euser_age=23\\u003cbr\\u003esum of user_age=%{y}\\u003cextra\\u003e\\u003c\\u002fextra\\u003e\",\"legendgroup\":\"Ron Weasley, 23\",\"marker\":{\"color\":\"#EF553B\",\"pattern\":{\"shape\":\"\\u002f\"}},\"name\":\"Ron Weasley, 23\",\"offsetgroup\":\"Ron Weasley, 23\",\"orientation\":\"v\",\"showlegend\":true,\"x\":[\"Ron Weasley\",\"Ron Weasley\"],\"xaxis\":\"x\",\"y\":[23,23],\"yaxis\":\"y\",\"type\":\"histogram\"},{\"alignmentgroup\":\"True\",\"bingroup\":\"x\",\"histfunc\":\"sum\",\"hovertemplate\":\"favourite_character=%{x}\\u003cbr\\u003euser_age=32\\u003cbr\\u003esum of user_age=%{y}\\u003cextra\\u003e\\u003c\\u002fextra\\u003e\",\"legendgroup\":\"Ron Weasley, 32\",\"marker\":{\"color\":\"#EF553B\",\"pattern\":{\"shape\":\"\\\\\"}},\"name\":\"Ron Weasley, 32\",\"offsetgroup\":\"Ron Weasley, 32\",\"orientation\":\"v\",\"showlegend\":true,\"x\":[\"Ron Weasley\",\"Ron Weasley\",\"Ron Weasley\"],\"xaxis\":\"x\",\"y\":[32,32,32],\"yaxis\":\"y\",\"type\":\"histogram\"},{\"alignmentgroup\":\"True\",\"bingroup\":\"x\",\"histfunc\":\"sum\",\"hovertemplate\":\"favourite_character=%{x}\\u003cbr\\u003euser_age=24\\u003cbr\\u003esum of user_age=%{y}\\u003cextra\\u003e\\u003c\\u002fextra\\u003e\",\"legendgroup\":\"Ron Weasley, 24\",\"marker\":{\"color\":\"#EF553B\",\"pattern\":{\"shape\":\"x\"}},\"name\":\"Ron Weasley, 24\",\"offsetgroup\":\"Ron Weasley, 24\",\"orientation\":\"v\",\"showlegend\":true,\"x\":[\"Ron Weasley\",\"Ron Weasley\",\"Ron Weasley\"],\"xaxis\":\"x\",\"y\":[24,24,24],\"yaxis\":\"y\",\"type\":\"histogram\"},{\"alignmentgroup\":\"True\",\"bingroup\":\"x\",\"histfunc\":\"sum\",\"hovertemplate\":\"favourite_character=%{x}\\u003cbr\\u003euser_age=40\\u003cbr\\u003esum of user_age=%{y}\\u003cextra\\u003e\\u003c\\u002fextra\\u003e\",\"legendgroup\":\"Ron Weasley, 40\",\"marker\":{\"color\":\"#EF553B\",\"pattern\":{\"shape\":\"+\"}},\"name\":\"Ron Weasley, 40\",\"offsetgroup\":\"Ron Weasley, 40\",\"orientation\":\"v\",\"showlegend\":true,\"x\":[\"Ron Weasley\",\"Ron Weasley\",\"Ron Weasley\"],\"xaxis\":\"x\",\"y\":[40,40,40],\"yaxis\":\"y\",\"type\":\"histogram\"},{\"alignmentgroup\":\"True\",\"bingroup\":\"x\",\"histfunc\":\"sum\",\"hovertemplate\":\"favourite_character=%{x}\\u003cbr\\u003euser_age=16\\u003cbr\\u003esum of user_age=%{y}\\u003cextra\\u003e\\u003c\\u002fextra\\u003e\",\"legendgroup\":\"Ron Weasley, 16\",\"marker\":{\"color\":\"#EF553B\",\"pattern\":{\"shape\":\".\"}},\"name\":\"Ron Weasley, 16\",\"offsetgroup\":\"Ron Weasley, 16\",\"orientation\":\"v\",\"showlegend\":true,\"x\":[\"Ron Weasley\"],\"xaxis\":\"x\",\"y\":[16],\"yaxis\":\"y\",\"type\":\"histogram\"},{\"alignmentgroup\":\"True\",\"bingroup\":\"x\",\"histfunc\":\"sum\",\"hovertemplate\":\"favourite_character=%{x}\\u003cbr\\u003euser_age=26\\u003cbr\\u003esum of user_age=%{y}\\u003cextra\\u003e\\u003c\\u002fextra\\u003e\",\"legendgroup\":\"Ron Weasley, 26\",\"marker\":{\"color\":\"#EF553B\",\"pattern\":{\"shape\":\"\"}},\"name\":\"Ron Weasley, 26\",\"offsetgroup\":\"Ron Weasley, 26\",\"orientation\":\"v\",\"showlegend\":true,\"x\":[\"Ron Weasley\"],\"xaxis\":\"x\",\"y\":[26],\"yaxis\":\"y\",\"type\":\"histogram\"},{\"alignmentgroup\":\"True\",\"bingroup\":\"x\",\"histfunc\":\"sum\",\"hovertemplate\":\"favourite_character=%{x}\\u003cbr\\u003euser_age=28\\u003cbr\\u003esum of user_age=%{y}\\u003cextra\\u003e\\u003c\\u002fextra\\u003e\",\"legendgroup\":\"Ron Weasley, 28\",\"marker\":{\"color\":\"#EF553B\",\"pattern\":{\"shape\":\"\\u002f\"}},\"name\":\"Ron Weasley, 28\",\"offsetgroup\":\"Ron Weasley, 28\",\"orientation\":\"v\",\"showlegend\":true,\"x\":[\"Ron Weasley\",\"Ron Weasley\",\"Ron Weasley\"],\"xaxis\":\"x\",\"y\":[28,28,28],\"yaxis\":\"y\",\"type\":\"histogram\"},{\"alignmentgroup\":\"True\",\"bingroup\":\"x\",\"histfunc\":\"sum\",\"hovertemplate\":\"favourite_character=%{x}\\u003cbr\\u003euser_age=52\\u003cbr\\u003esum of user_age=%{y}\\u003cextra\\u003e\\u003c\\u002fextra\\u003e\",\"legendgroup\":\"Ron Weasley, 52\",\"marker\":{\"color\":\"#EF553B\",\"pattern\":{\"shape\":\"\\\\\"}},\"name\":\"Ron Weasley, 52\",\"offsetgroup\":\"Ron Weasley, 52\",\"orientation\":\"v\",\"showlegend\":true,\"x\":[\"Ron Weasley\",\"Ron Weasley\"],\"xaxis\":\"x\",\"y\":[52,52],\"yaxis\":\"y\",\"type\":\"histogram\"},{\"alignmentgroup\":\"True\",\"bingroup\":\"x\",\"histfunc\":\"sum\",\"hovertemplate\":\"favourite_character=%{x}\\u003cbr\\u003euser_age=46\\u003cbr\\u003esum of user_age=%{y}\\u003cextra\\u003e\\u003c\\u002fextra\\u003e\",\"legendgroup\":\"Ron Weasley, 46\",\"marker\":{\"color\":\"#EF553B\",\"pattern\":{\"shape\":\"x\"}},\"name\":\"Ron Weasley, 46\",\"offsetgroup\":\"Ron Weasley, 46\",\"orientation\":\"v\",\"showlegend\":true,\"x\":[\"Ron Weasley\"],\"xaxis\":\"x\",\"y\":[46],\"yaxis\":\"y\",\"type\":\"histogram\"},{\"alignmentgroup\":\"True\",\"bingroup\":\"x\",\"histfunc\":\"sum\",\"hovertemplate\":\"favourite_character=%{x}\\u003cbr\\u003euser_age=34\\u003cbr\\u003esum of user_age=%{y}\\u003cextra\\u003e\\u003c\\u002fextra\\u003e\",\"legendgroup\":\"Ron Weasley, 34\",\"marker\":{\"color\":\"#EF553B\",\"pattern\":{\"shape\":\"+\"}},\"name\":\"Ron Weasley, 34\",\"offsetgroup\":\"Ron Weasley, 34\",\"orientation\":\"v\",\"showlegend\":true,\"x\":[\"Ron Weasley\",\"Ron Weasley\",\"Ron Weasley\",\"Ron Weasley\"],\"xaxis\":\"x\",\"y\":[34,34,34,34],\"yaxis\":\"y\",\"type\":\"histogram\"},{\"alignmentgroup\":\"True\",\"bingroup\":\"x\",\"histfunc\":\"sum\",\"hovertemplate\":\"favourite_character=%{x}\\u003cbr\\u003euser_age=38\\u003cbr\\u003esum of user_age=%{y}\\u003cextra\\u003e\\u003c\\u002fextra\\u003e\",\"legendgroup\":\"Ron Weasley, 38\",\"marker\":{\"color\":\"#EF553B\",\"pattern\":{\"shape\":\"\"}},\"name\":\"Ron Weasley, 38\",\"offsetgroup\":\"Ron Weasley, 38\",\"orientation\":\"v\",\"showlegend\":true,\"x\":[\"Ron Weasley\",\"Ron Weasley\"],\"xaxis\":\"x\",\"y\":[38,38],\"yaxis\":\"y\",\"type\":\"histogram\"},{\"alignmentgroup\":\"True\",\"bingroup\":\"x\",\"histfunc\":\"sum\",\"hovertemplate\":\"favourite_character=%{x}\\u003cbr\\u003euser_age=47\\u003cbr\\u003esum of user_age=%{y}\\u003cextra\\u003e\\u003c\\u002fextra\\u003e\",\"legendgroup\":\"Ron Weasley, 47\",\"marker\":{\"color\":\"#EF553B\",\"pattern\":{\"shape\":\"\\u002f\"}},\"name\":\"Ron Weasley, 47\",\"offsetgroup\":\"Ron Weasley, 47\",\"orientation\":\"v\",\"showlegend\":true,\"x\":[\"Ron Weasley\",\"Ron Weasley\"],\"xaxis\":\"x\",\"y\":[47,47],\"yaxis\":\"y\",\"type\":\"histogram\"},{\"alignmentgroup\":\"True\",\"bingroup\":\"x\",\"histfunc\":\"sum\",\"hovertemplate\":\"favourite_character=%{x}\\u003cbr\\u003euser_age=31\\u003cbr\\u003esum of user_age=%{y}\\u003cextra\\u003e\\u003c\\u002fextra\\u003e\",\"legendgroup\":\"Ron Weasley, 31\",\"marker\":{\"color\":\"#EF553B\",\"pattern\":{\"shape\":\"+\"}},\"name\":\"Ron Weasley, 31\",\"offsetgroup\":\"Ron Weasley, 31\",\"orientation\":\"v\",\"showlegend\":true,\"x\":[\"Ron Weasley\",\"Ron Weasley\"],\"xaxis\":\"x\",\"y\":[31,31],\"yaxis\":\"y\",\"type\":\"histogram\"},{\"alignmentgroup\":\"True\",\"bingroup\":\"x\",\"histfunc\":\"sum\",\"hovertemplate\":\"favourite_character=%{x}\\u003cbr\\u003euser_age=22\\u003cbr\\u003esum of user_age=%{y}\\u003cextra\\u003e\\u003c\\u002fextra\\u003e\",\"legendgroup\":\"Ron Weasley, 22\",\"marker\":{\"color\":\"#EF553B\",\"pattern\":{\"shape\":\".\"}},\"name\":\"Ron Weasley, 22\",\"offsetgroup\":\"Ron Weasley, 22\",\"orientation\":\"v\",\"showlegend\":true,\"x\":[\"Ron Weasley\"],\"xaxis\":\"x\",\"y\":[22],\"yaxis\":\"y\",\"type\":\"histogram\"},{\"alignmentgroup\":\"True\",\"bingroup\":\"x\",\"histfunc\":\"sum\",\"hovertemplate\":\"favourite_character=%{x}\\u003cbr\\u003euser_age=57\\u003cbr\\u003esum of user_age=%{y}\\u003cextra\\u003e\\u003c\\u002fextra\\u003e\",\"legendgroup\":\"Ron Weasley, 57\",\"marker\":{\"color\":\"#EF553B\",\"pattern\":{\"shape\":\"\"}},\"name\":\"Ron Weasley, 57\",\"offsetgroup\":\"Ron Weasley, 57\",\"orientation\":\"v\",\"showlegend\":true,\"x\":[\"Ron Weasley\"],\"xaxis\":\"x\",\"y\":[57],\"yaxis\":\"y\",\"type\":\"histogram\"},{\"alignmentgroup\":\"True\",\"bingroup\":\"x\",\"histfunc\":\"sum\",\"hovertemplate\":\"favourite_character=%{x}\\u003cbr\\u003euser_age=30\\u003cbr\\u003esum of user_age=%{y}\\u003cextra\\u003e\\u003c\\u002fextra\\u003e\",\"legendgroup\":\"Ron Weasley, 30\",\"marker\":{\"color\":\"#EF553B\",\"pattern\":{\"shape\":\"\\u002f\"}},\"name\":\"Ron Weasley, 30\",\"offsetgroup\":\"Ron Weasley, 30\",\"orientation\":\"v\",\"showlegend\":true,\"x\":[\"Ron Weasley\",\"Ron Weasley\",\"Ron Weasley\"],\"xaxis\":\"x\",\"y\":[30,30,30],\"yaxis\":\"y\",\"type\":\"histogram\"},{\"alignmentgroup\":\"True\",\"bingroup\":\"x\",\"histfunc\":\"sum\",\"hovertemplate\":\"favourite_character=%{x}\\u003cbr\\u003euser_age=33\\u003cbr\\u003esum of user_age=%{y}\\u003cextra\\u003e\\u003c\\u002fextra\\u003e\",\"legendgroup\":\"Ron Weasley, 33\",\"marker\":{\"color\":\"#EF553B\",\"pattern\":{\"shape\":\"\\\\\"}},\"name\":\"Ron Weasley, 33\",\"offsetgroup\":\"Ron Weasley, 33\",\"orientation\":\"v\",\"showlegend\":true,\"x\":[\"Ron Weasley\",\"Ron Weasley\",\"Ron Weasley\",\"Ron Weasley\"],\"xaxis\":\"x\",\"y\":[33,33,33,33],\"yaxis\":\"y\",\"type\":\"histogram\"},{\"alignmentgroup\":\"True\",\"bingroup\":\"x\",\"histfunc\":\"sum\",\"hovertemplate\":\"favourite_character=%{x}\\u003cbr\\u003euser_age=35\\u003cbr\\u003esum of user_age=%{y}\\u003cextra\\u003e\\u003c\\u002fextra\\u003e\",\"legendgroup\":\"Ron Weasley, 35\",\"marker\":{\"color\":\"#EF553B\",\"pattern\":{\"shape\":\"+\"}},\"name\":\"Ron Weasley, 35\",\"offsetgroup\":\"Ron Weasley, 35\",\"orientation\":\"v\",\"showlegend\":true,\"x\":[\"Ron Weasley\"],\"xaxis\":\"x\",\"y\":[35],\"yaxis\":\"y\",\"type\":\"histogram\"},{\"alignmentgroup\":\"True\",\"bingroup\":\"x\",\"histfunc\":\"sum\",\"hovertemplate\":\"favourite_character=%{x}\\u003cbr\\u003euser_age=29\\u003cbr\\u003esum of user_age=%{y}\\u003cextra\\u003e\\u003c\\u002fextra\\u003e\",\"legendgroup\":\"Ron Weasley, 29\",\"marker\":{\"color\":\"#EF553B\",\"pattern\":{\"shape\":\".\"}},\"name\":\"Ron Weasley, 29\",\"offsetgroup\":\"Ron Weasley, 29\",\"orientation\":\"v\",\"showlegend\":true,\"x\":[\"Ron Weasley\",\"Ron Weasley\",\"Ron Weasley\",\"Ron Weasley\"],\"xaxis\":\"x\",\"y\":[29,29,29,29],\"yaxis\":\"y\",\"type\":\"histogram\"},{\"alignmentgroup\":\"True\",\"bingroup\":\"x\",\"histfunc\":\"sum\",\"hovertemplate\":\"favourite_character=%{x}\\u003cbr\\u003euser_age=44\\u003cbr\\u003esum of user_age=%{y}\\u003cextra\\u003e\\u003c\\u002fextra\\u003e\",\"legendgroup\":\"Ron Weasley, 44\",\"marker\":{\"color\":\"#EF553B\",\"pattern\":{\"shape\":\"\"}},\"name\":\"Ron Weasley, 44\",\"offsetgroup\":\"Ron Weasley, 44\",\"orientation\":\"v\",\"showlegend\":true,\"x\":[\"Ron Weasley\"],\"xaxis\":\"x\",\"y\":[44],\"yaxis\":\"y\",\"type\":\"histogram\"},{\"alignmentgroup\":\"True\",\"bingroup\":\"x\",\"histfunc\":\"sum\",\"hovertemplate\":\"favourite_character=%{x}\\u003cbr\\u003euser_age=36\\u003cbr\\u003esum of user_age=%{y}\\u003cextra\\u003e\\u003c\\u002fextra\\u003e\",\"legendgroup\":\"Ron Weasley, 36\",\"marker\":{\"color\":\"#EF553B\",\"pattern\":{\"shape\":\"\\u002f\"}},\"name\":\"Ron Weasley, 36\",\"offsetgroup\":\"Ron Weasley, 36\",\"orientation\":\"v\",\"showlegend\":true,\"x\":[\"Ron Weasley\",\"Ron Weasley\",\"Ron Weasley\"],\"xaxis\":\"x\",\"y\":[36,36,36],\"yaxis\":\"y\",\"type\":\"histogram\"},{\"alignmentgroup\":\"True\",\"bingroup\":\"x\",\"histfunc\":\"sum\",\"hovertemplate\":\"favourite_character=%{x}\\u003cbr\\u003euser_age=45\\u003cbr\\u003esum of user_age=%{y}\\u003cextra\\u003e\\u003c\\u002fextra\\u003e\",\"legendgroup\":\"Ron Weasley, 45\",\"marker\":{\"color\":\"#EF553B\",\"pattern\":{\"shape\":\"\\\\\"}},\"name\":\"Ron Weasley, 45\",\"offsetgroup\":\"Ron Weasley, 45\",\"orientation\":\"v\",\"showlegend\":true,\"x\":[\"Ron Weasley\",\"Ron Weasley\"],\"xaxis\":\"x\",\"y\":[45,45],\"yaxis\":\"y\",\"type\":\"histogram\"},{\"alignmentgroup\":\"True\",\"bingroup\":\"x\",\"histfunc\":\"sum\",\"hovertemplate\":\"favourite_character=%{x}\\u003cbr\\u003euser_age=25\\u003cbr\\u003esum of user_age=%{y}\\u003cextra\\u003e\\u003c\\u002fextra\\u003e\",\"legendgroup\":\"Ron Weasley, 25\",\"marker\":{\"color\":\"#EF553B\",\"pattern\":{\"shape\":\"x\"}},\"name\":\"Ron Weasley, 25\",\"offsetgroup\":\"Ron Weasley, 25\",\"orientation\":\"v\",\"showlegend\":true,\"x\":[\"Ron Weasley\",\"Ron Weasley\",\"Ron Weasley\"],\"xaxis\":\"x\",\"y\":[25,25,25],\"yaxis\":\"y\",\"type\":\"histogram\"},{\"alignmentgroup\":\"True\",\"bingroup\":\"x\",\"histfunc\":\"sum\",\"hovertemplate\":\"favourite_character=%{x}\\u003cbr\\u003euser_age=53\\u003cbr\\u003esum of user_age=%{y}\\u003cextra\\u003e\\u003c\\u002fextra\\u003e\",\"legendgroup\":\"Ron Weasley, 53\",\"marker\":{\"color\":\"#EF553B\",\"pattern\":{\"shape\":\"+\"}},\"name\":\"Ron Weasley, 53\",\"offsetgroup\":\"Ron Weasley, 53\",\"orientation\":\"v\",\"showlegend\":true,\"x\":[\"Ron Weasley\",\"Ron Weasley\"],\"xaxis\":\"x\",\"y\":[53,53],\"yaxis\":\"y\",\"type\":\"histogram\"},{\"alignmentgroup\":\"True\",\"bingroup\":\"x\",\"histfunc\":\"sum\",\"hovertemplate\":\"favourite_character=%{x}\\u003cbr\\u003euser_age=19\\u003cbr\\u003esum of user_age=%{y}\\u003cextra\\u003e\\u003c\\u002fextra\\u003e\",\"legendgroup\":\"Ron Weasley, 19\",\"marker\":{\"color\":\"#EF553B\",\"pattern\":{\"shape\":\".\"}},\"name\":\"Ron Weasley, 19\",\"offsetgroup\":\"Ron Weasley, 19\",\"orientation\":\"v\",\"showlegend\":true,\"x\":[\"Ron Weasley\",\"Ron Weasley\"],\"xaxis\":\"x\",\"y\":[19,19],\"yaxis\":\"y\",\"type\":\"histogram\"},{\"alignmentgroup\":\"True\",\"bingroup\":\"x\",\"histfunc\":\"sum\",\"hovertemplate\":\"favourite_character=%{x}\\u003cbr\\u003euser_age=60\\u003cbr\\u003esum of user_age=%{y}\\u003cextra\\u003e\\u003c\\u002fextra\\u003e\",\"legendgroup\":\"Ron Weasley, 60\",\"marker\":{\"color\":\"#EF553B\",\"pattern\":{\"shape\":\"\\u002f\"}},\"name\":\"Ron Weasley, 60\",\"offsetgroup\":\"Ron Weasley, 60\",\"orientation\":\"v\",\"showlegend\":true,\"x\":[\"Ron Weasley\"],\"xaxis\":\"x\",\"y\":[60],\"yaxis\":\"y\",\"type\":\"histogram\"},{\"alignmentgroup\":\"True\",\"bingroup\":\"x\",\"histfunc\":\"sum\",\"hovertemplate\":\"favourite_character=%{x}\\u003cbr\\u003euser_age=56\\u003cbr\\u003esum of user_age=%{y}\\u003cextra\\u003e\\u003c\\u002fextra\\u003e\",\"legendgroup\":\"Ron Weasley, 56\",\"marker\":{\"color\":\"#EF553B\",\"pattern\":{\"shape\":\"+\"}},\"name\":\"Ron Weasley, 56\",\"offsetgroup\":\"Ron Weasley, 56\",\"orientation\":\"v\",\"showlegend\":true,\"x\":[\"Ron Weasley\",\"Ron Weasley\",\"Ron Weasley\",\"Ron Weasley\"],\"xaxis\":\"x\",\"y\":[56,56,56,56],\"yaxis\":\"y\",\"type\":\"histogram\"},{\"alignmentgroup\":\"True\",\"bingroup\":\"x\",\"histfunc\":\"sum\",\"hovertemplate\":\"favourite_character=%{x}\\u003cbr\\u003euser_age=12\\u003cbr\\u003esum of user_age=%{y}\\u003cextra\\u003e\\u003c\\u002fextra\\u003e\",\"legendgroup\":\"Ron Weasley, 12\",\"marker\":{\"color\":\"#EF553B\",\"pattern\":{\"shape\":\"\"}},\"name\":\"Ron Weasley, 12\",\"offsetgroup\":\"Ron Weasley, 12\",\"orientation\":\"v\",\"showlegend\":true,\"x\":[\"Ron Weasley\"],\"xaxis\":\"x\",\"y\":[12],\"yaxis\":\"y\",\"type\":\"histogram\"},{\"alignmentgroup\":\"True\",\"bingroup\":\"x\",\"histfunc\":\"sum\",\"hovertemplate\":\"favourite_character=%{x}\\u003cbr\\u003euser_age=42\\u003cbr\\u003esum of user_age=%{y}\\u003cextra\\u003e\\u003c\\u002fextra\\u003e\",\"legendgroup\":\"Ron Weasley, 42\",\"marker\":{\"color\":\"#EF553B\",\"pattern\":{\"shape\":\"\\\\\"}},\"name\":\"Ron Weasley, 42\",\"offsetgroup\":\"Ron Weasley, 42\",\"orientation\":\"v\",\"showlegend\":true,\"x\":[\"Ron Weasley\",\"Ron Weasley\",\"Ron Weasley\",\"Ron Weasley\"],\"xaxis\":\"x\",\"y\":[42,42,42,42],\"yaxis\":\"y\",\"type\":\"histogram\"},{\"alignmentgroup\":\"True\",\"bingroup\":\"x\",\"histfunc\":\"sum\",\"hovertemplate\":\"favourite_character=%{x}\\u003cbr\\u003euser_age=43\\u003cbr\\u003esum of user_age=%{y}\\u003cextra\\u003e\\u003c\\u002fextra\\u003e\",\"legendgroup\":\"Ron Weasley, 43\",\"marker\":{\"color\":\"#EF553B\",\"pattern\":{\"shape\":\"x\"}},\"name\":\"Ron Weasley, 43\",\"offsetgroup\":\"Ron Weasley, 43\",\"orientation\":\"v\",\"showlegend\":true,\"x\":[\"Ron Weasley\"],\"xaxis\":\"x\",\"y\":[43],\"yaxis\":\"y\",\"type\":\"histogram\"},{\"alignmentgroup\":\"True\",\"bingroup\":\"x\",\"histfunc\":\"sum\",\"hovertemplate\":\"favourite_character=%{x}\\u003cbr\\u003euser_age=37\\u003cbr\\u003esum of user_age=%{y}\\u003cextra\\u003e\\u003c\\u002fextra\\u003e\",\"legendgroup\":\"Ron Weasley, 37\",\"marker\":{\"color\":\"#EF553B\",\"pattern\":{\"shape\":\"+\"}},\"name\":\"Ron Weasley, 37\",\"offsetgroup\":\"Ron Weasley, 37\",\"orientation\":\"v\",\"showlegend\":true,\"x\":[\"Ron Weasley\",\"Ron Weasley\",\"Ron Weasley\"],\"xaxis\":\"x\",\"y\":[37,37,37],\"yaxis\":\"y\",\"type\":\"histogram\"},{\"alignmentgroup\":\"True\",\"bingroup\":\"x\",\"histfunc\":\"sum\",\"hovertemplate\":\"favourite_character=%{x}\\u003cbr\\u003euser_age=15\\u003cbr\\u003esum of user_age=%{y}\\u003cextra\\u003e\\u003c\\u002fextra\\u003e\",\"legendgroup\":\"Ron Weasley, 15\",\"marker\":{\"color\":\"#EF553B\",\"pattern\":{\"shape\":\".\"}},\"name\":\"Ron Weasley, 15\",\"offsetgroup\":\"Ron Weasley, 15\",\"orientation\":\"v\",\"showlegend\":true,\"x\":[\"Ron Weasley\"],\"xaxis\":\"x\",\"y\":[15],\"yaxis\":\"y\",\"type\":\"histogram\"},{\"alignmentgroup\":\"True\",\"bingroup\":\"x\",\"histfunc\":\"sum\",\"hovertemplate\":\"favourite_character=%{x}\\u003cbr\\u003euser_age=21\\u003cbr\\u003esum of user_age=%{y}\\u003cextra\\u003e\\u003c\\u002fextra\\u003e\",\"legendgroup\":\"Ron Weasley, 21\",\"marker\":{\"color\":\"#EF553B\",\"pattern\":{\"shape\":\"\\\\\"}},\"name\":\"Ron Weasley, 21\",\"offsetgroup\":\"Ron Weasley, 21\",\"orientation\":\"v\",\"showlegend\":true,\"x\":[\"Ron Weasley\"],\"xaxis\":\"x\",\"y\":[21],\"yaxis\":\"y\",\"type\":\"histogram\"},{\"alignmentgroup\":\"True\",\"bingroup\":\"x\",\"histfunc\":\"sum\",\"hovertemplate\":\"favourite_character=%{x}\\u003cbr\\u003euser_age=14\\u003cbr\\u003esum of user_age=%{y}\\u003cextra\\u003e\\u003c\\u002fextra\\u003e\",\"legendgroup\":\"Ron Weasley, 14\",\"marker\":{\"color\":\"#EF553B\",\"pattern\":{\"shape\":\"x\"}},\"name\":\"Ron Weasley, 14\",\"offsetgroup\":\"Ron Weasley, 14\",\"orientation\":\"v\",\"showlegend\":true,\"x\":[\"Ron Weasley\"],\"xaxis\":\"x\",\"y\":[14],\"yaxis\":\"y\",\"type\":\"histogram\"},{\"alignmentgroup\":\"True\",\"bingroup\":\"x\",\"histfunc\":\"sum\",\"hovertemplate\":\"favourite_character=%{x}\\u003cbr\\u003euser_age=27\\u003cbr\\u003esum of user_age=%{y}\\u003cextra\\u003e\\u003c\\u002fextra\\u003e\",\"legendgroup\":\"Ron Weasley, 27\",\"marker\":{\"color\":\"#EF553B\",\"pattern\":{\"shape\":\"+\"}},\"name\":\"Ron Weasley, 27\",\"offsetgroup\":\"Ron Weasley, 27\",\"orientation\":\"v\",\"showlegend\":true,\"x\":[\"Ron Weasley\",\"Ron Weasley\"],\"xaxis\":\"x\",\"y\":[27,27],\"yaxis\":\"y\",\"type\":\"histogram\"},{\"alignmentgroup\":\"True\",\"bingroup\":\"x\",\"histfunc\":\"sum\",\"hovertemplate\":\"favourite_character=%{x}\\u003cbr\\u003euser_age=54\\u003cbr\\u003esum of user_age=%{y}\\u003cextra\\u003e\\u003c\\u002fextra\\u003e\",\"legendgroup\":\"Ron Weasley, 54\",\"marker\":{\"color\":\"#EF553B\",\"pattern\":{\"shape\":\".\"}},\"name\":\"Ron Weasley, 54\",\"offsetgroup\":\"Ron Weasley, 54\",\"orientation\":\"v\",\"showlegend\":true,\"x\":[\"Ron Weasley\",\"Ron Weasley\"],\"xaxis\":\"x\",\"y\":[54,54],\"yaxis\":\"y\",\"type\":\"histogram\"},{\"alignmentgroup\":\"True\",\"bingroup\":\"x\",\"histfunc\":\"sum\",\"hovertemplate\":\"favourite_character=%{x}\\u003cbr\\u003euser_age=50\\u003cbr\\u003esum of user_age=%{y}\\u003cextra\\u003e\\u003c\\u002fextra\\u003e\",\"legendgroup\":\"Rubeus Hagrid, 50\",\"marker\":{\"color\":\"#00cc96\",\"pattern\":{\"shape\":\"\"}},\"name\":\"Rubeus Hagrid, 50\",\"offsetgroup\":\"Rubeus Hagrid, 50\",\"orientation\":\"v\",\"showlegend\":true,\"x\":[\"Rubeus Hagrid\"],\"xaxis\":\"x\",\"y\":[50],\"yaxis\":\"y\",\"type\":\"histogram\"},{\"alignmentgroup\":\"True\",\"bingroup\":\"x\",\"histfunc\":\"sum\",\"hovertemplate\":\"favourite_character=%{x}\\u003cbr\\u003euser_age=23\\u003cbr\\u003esum of user_age=%{y}\\u003cextra\\u003e\\u003c\\u002fextra\\u003e\",\"legendgroup\":\"Rubeus Hagrid, 23\",\"marker\":{\"color\":\"#00cc96\",\"pattern\":{\"shape\":\"\\u002f\"}},\"name\":\"Rubeus Hagrid, 23\",\"offsetgroup\":\"Rubeus Hagrid, 23\",\"orientation\":\"v\",\"showlegend\":true,\"x\":[\"Rubeus Hagrid\",\"Rubeus Hagrid\"],\"xaxis\":\"x\",\"y\":[23,23],\"yaxis\":\"y\",\"type\":\"histogram\"},{\"alignmentgroup\":\"True\",\"bingroup\":\"x\",\"histfunc\":\"sum\",\"hovertemplate\":\"favourite_character=%{x}\\u003cbr\\u003euser_age=32\\u003cbr\\u003esum of user_age=%{y}\\u003cextra\\u003e\\u003c\\u002fextra\\u003e\",\"legendgroup\":\"Rubeus Hagrid, 32\",\"marker\":{\"color\":\"#00cc96\",\"pattern\":{\"shape\":\"\\\\\"}},\"name\":\"Rubeus Hagrid, 32\",\"offsetgroup\":\"Rubeus Hagrid, 32\",\"orientation\":\"v\",\"showlegend\":true,\"x\":[\"Rubeus Hagrid\",\"Rubeus Hagrid\"],\"xaxis\":\"x\",\"y\":[32,32],\"yaxis\":\"y\",\"type\":\"histogram\"},{\"alignmentgroup\":\"True\",\"bingroup\":\"x\",\"histfunc\":\"sum\",\"hovertemplate\":\"favourite_character=%{x}\\u003cbr\\u003euser_age=24\\u003cbr\\u003esum of user_age=%{y}\\u003cextra\\u003e\\u003c\\u002fextra\\u003e\",\"legendgroup\":\"Rubeus Hagrid, 24\",\"marker\":{\"color\":\"#00cc96\",\"pattern\":{\"shape\":\"x\"}},\"name\":\"Rubeus Hagrid, 24\",\"offsetgroup\":\"Rubeus Hagrid, 24\",\"orientation\":\"v\",\"showlegend\":true,\"x\":[\"Rubeus Hagrid\"],\"xaxis\":\"x\",\"y\":[24],\"yaxis\":\"y\",\"type\":\"histogram\"},{\"alignmentgroup\":\"True\",\"bingroup\":\"x\",\"histfunc\":\"sum\",\"hovertemplate\":\"favourite_character=%{x}\\u003cbr\\u003euser_age=40\\u003cbr\\u003esum of user_age=%{y}\\u003cextra\\u003e\\u003c\\u002fextra\\u003e\",\"legendgroup\":\"Rubeus Hagrid, 40\",\"marker\":{\"color\":\"#00cc96\",\"pattern\":{\"shape\":\"+\"}},\"name\":\"Rubeus Hagrid, 40\",\"offsetgroup\":\"Rubeus Hagrid, 40\",\"orientation\":\"v\",\"showlegend\":true,\"x\":[\"Rubeus Hagrid\",\"Rubeus Hagrid\"],\"xaxis\":\"x\",\"y\":[40,40],\"yaxis\":\"y\",\"type\":\"histogram\"},{\"alignmentgroup\":\"True\",\"bingroup\":\"x\",\"histfunc\":\"sum\",\"hovertemplate\":\"favourite_character=%{x}\\u003cbr\\u003euser_age=16\\u003cbr\\u003esum of user_age=%{y}\\u003cextra\\u003e\\u003c\\u002fextra\\u003e\",\"legendgroup\":\"Rubeus Hagrid, 16\",\"marker\":{\"color\":\"#00cc96\",\"pattern\":{\"shape\":\".\"}},\"name\":\"Rubeus Hagrid, 16\",\"offsetgroup\":\"Rubeus Hagrid, 16\",\"orientation\":\"v\",\"showlegend\":true,\"x\":[\"Rubeus Hagrid\"],\"xaxis\":\"x\",\"y\":[16],\"yaxis\":\"y\",\"type\":\"histogram\"},{\"alignmentgroup\":\"True\",\"bingroup\":\"x\",\"histfunc\":\"sum\",\"hovertemplate\":\"favourite_character=%{x}\\u003cbr\\u003euser_age=26\\u003cbr\\u003esum of user_age=%{y}\\u003cextra\\u003e\\u003c\\u002fextra\\u003e\",\"legendgroup\":\"Rubeus Hagrid, 26\",\"marker\":{\"color\":\"#00cc96\",\"pattern\":{\"shape\":\"\"}},\"name\":\"Rubeus Hagrid, 26\",\"offsetgroup\":\"Rubeus Hagrid, 26\",\"orientation\":\"v\",\"showlegend\":true,\"x\":[\"Rubeus Hagrid\"],\"xaxis\":\"x\",\"y\":[26],\"yaxis\":\"y\",\"type\":\"histogram\"},{\"alignmentgroup\":\"True\",\"bingroup\":\"x\",\"histfunc\":\"sum\",\"hovertemplate\":\"favourite_character=%{x}\\u003cbr\\u003euser_age=28\\u003cbr\\u003esum of user_age=%{y}\\u003cextra\\u003e\\u003c\\u002fextra\\u003e\",\"legendgroup\":\"Rubeus Hagrid, 28\",\"marker\":{\"color\":\"#00cc96\",\"pattern\":{\"shape\":\"\\u002f\"}},\"name\":\"Rubeus Hagrid, 28\",\"offsetgroup\":\"Rubeus Hagrid, 28\",\"orientation\":\"v\",\"showlegend\":true,\"x\":[\"Rubeus Hagrid\",\"Rubeus Hagrid\"],\"xaxis\":\"x\",\"y\":[28,28],\"yaxis\":\"y\",\"type\":\"histogram\"},{\"alignmentgroup\":\"True\",\"bingroup\":\"x\",\"histfunc\":\"sum\",\"hovertemplate\":\"favourite_character=%{x}\\u003cbr\\u003euser_age=52\\u003cbr\\u003esum of user_age=%{y}\\u003cextra\\u003e\\u003c\\u002fextra\\u003e\",\"legendgroup\":\"Rubeus Hagrid, 52\",\"marker\":{\"color\":\"#00cc96\",\"pattern\":{\"shape\":\"\\\\\"}},\"name\":\"Rubeus Hagrid, 52\",\"offsetgroup\":\"Rubeus Hagrid, 52\",\"orientation\":\"v\",\"showlegend\":true,\"x\":[\"Rubeus Hagrid\"],\"xaxis\":\"x\",\"y\":[52],\"yaxis\":\"y\",\"type\":\"histogram\"},{\"alignmentgroup\":\"True\",\"bingroup\":\"x\",\"histfunc\":\"sum\",\"hovertemplate\":\"favourite_character=%{x}\\u003cbr\\u003euser_age=34\\u003cbr\\u003esum of user_age=%{y}\\u003cextra\\u003e\\u003c\\u002fextra\\u003e\",\"legendgroup\":\"Rubeus Hagrid, 34\",\"marker\":{\"color\":\"#00cc96\",\"pattern\":{\"shape\":\"+\"}},\"name\":\"Rubeus Hagrid, 34\",\"offsetgroup\":\"Rubeus Hagrid, 34\",\"orientation\":\"v\",\"showlegend\":true,\"x\":[\"Rubeus Hagrid\",\"Rubeus Hagrid\"],\"xaxis\":\"x\",\"y\":[34,34],\"yaxis\":\"y\",\"type\":\"histogram\"},{\"alignmentgroup\":\"True\",\"bingroup\":\"x\",\"histfunc\":\"sum\",\"hovertemplate\":\"favourite_character=%{x}\\u003cbr\\u003euser_age=51\\u003cbr\\u003esum of user_age=%{y}\\u003cextra\\u003e\\u003c\\u002fextra\\u003e\",\"legendgroup\":\"Rubeus Hagrid, 51\",\"marker\":{\"color\":\"#00cc96\",\"pattern\":{\"shape\":\".\"}},\"name\":\"Rubeus Hagrid, 51\",\"offsetgroup\":\"Rubeus Hagrid, 51\",\"orientation\":\"v\",\"showlegend\":true,\"x\":[\"Rubeus Hagrid\",\"Rubeus Hagrid\"],\"xaxis\":\"x\",\"y\":[51,51],\"yaxis\":\"y\",\"type\":\"histogram\"},{\"alignmentgroup\":\"True\",\"bingroup\":\"x\",\"histfunc\":\"sum\",\"hovertemplate\":\"favourite_character=%{x}\\u003cbr\\u003euser_age=38\\u003cbr\\u003esum of user_age=%{y}\\u003cextra\\u003e\\u003c\\u002fextra\\u003e\",\"legendgroup\":\"Rubeus Hagrid, 38\",\"marker\":{\"color\":\"#00cc96\",\"pattern\":{\"shape\":\"\"}},\"name\":\"Rubeus Hagrid, 38\",\"offsetgroup\":\"Rubeus Hagrid, 38\",\"orientation\":\"v\",\"showlegend\":true,\"x\":[\"Rubeus Hagrid\",\"Rubeus Hagrid\"],\"xaxis\":\"x\",\"y\":[38,38],\"yaxis\":\"y\",\"type\":\"histogram\"},{\"alignmentgroup\":\"True\",\"bingroup\":\"x\",\"histfunc\":\"sum\",\"hovertemplate\":\"favourite_character=%{x}\\u003cbr\\u003euser_age=39\\u003cbr\\u003esum of user_age=%{y}\\u003cextra\\u003e\\u003c\\u002fextra\\u003e\",\"legendgroup\":\"Rubeus Hagrid, 39\",\"marker\":{\"color\":\"#00cc96\",\"pattern\":{\"shape\":\"\\\\\"}},\"name\":\"Rubeus Hagrid, 39\",\"offsetgroup\":\"Rubeus Hagrid, 39\",\"orientation\":\"v\",\"showlegend\":true,\"x\":[\"Rubeus Hagrid\",\"Rubeus Hagrid\",\"Rubeus Hagrid\",\"Rubeus Hagrid\"],\"xaxis\":\"x\",\"y\":[39,39,39,39],\"yaxis\":\"y\",\"type\":\"histogram\"},{\"alignmentgroup\":\"True\",\"bingroup\":\"x\",\"histfunc\":\"sum\",\"hovertemplate\":\"favourite_character=%{x}\\u003cbr\\u003euser_age=20\\u003cbr\\u003esum of user_age=%{y}\\u003cextra\\u003e\\u003c\\u002fextra\\u003e\",\"legendgroup\":\"Rubeus Hagrid, 20\",\"marker\":{\"color\":\"#00cc96\",\"pattern\":{\"shape\":\"x\"}},\"name\":\"Rubeus Hagrid, 20\",\"offsetgroup\":\"Rubeus Hagrid, 20\",\"orientation\":\"v\",\"showlegend\":true,\"x\":[\"Rubeus Hagrid\",\"Rubeus Hagrid\",\"Rubeus Hagrid\"],\"xaxis\":\"x\",\"y\":[20,20,20],\"yaxis\":\"y\",\"type\":\"histogram\"},{\"alignmentgroup\":\"True\",\"bingroup\":\"x\",\"histfunc\":\"sum\",\"hovertemplate\":\"favourite_character=%{x}\\u003cbr\\u003euser_age=31\\u003cbr\\u003esum of user_age=%{y}\\u003cextra\\u003e\\u003c\\u002fextra\\u003e\",\"legendgroup\":\"Rubeus Hagrid, 31\",\"marker\":{\"color\":\"#00cc96\",\"pattern\":{\"shape\":\"+\"}},\"name\":\"Rubeus Hagrid, 31\",\"offsetgroup\":\"Rubeus Hagrid, 31\",\"orientation\":\"v\",\"showlegend\":true,\"x\":[\"Rubeus Hagrid\",\"Rubeus Hagrid\"],\"xaxis\":\"x\",\"y\":[31,31],\"yaxis\":\"y\",\"type\":\"histogram\"},{\"alignmentgroup\":\"True\",\"bingroup\":\"x\",\"histfunc\":\"sum\",\"hovertemplate\":\"favourite_character=%{x}\\u003cbr\\u003euser_age=57\\u003cbr\\u003esum of user_age=%{y}\\u003cextra\\u003e\\u003c\\u002fextra\\u003e\",\"legendgroup\":\"Rubeus Hagrid, 57\",\"marker\":{\"color\":\"#00cc96\",\"pattern\":{\"shape\":\"\"}},\"name\":\"Rubeus Hagrid, 57\",\"offsetgroup\":\"Rubeus Hagrid, 57\",\"orientation\":\"v\",\"showlegend\":true,\"x\":[\"Rubeus Hagrid\"],\"xaxis\":\"x\",\"y\":[57],\"yaxis\":\"y\",\"type\":\"histogram\"},{\"alignmentgroup\":\"True\",\"bingroup\":\"x\",\"histfunc\":\"sum\",\"hovertemplate\":\"favourite_character=%{x}\\u003cbr\\u003euser_age=30\\u003cbr\\u003esum of user_age=%{y}\\u003cextra\\u003e\\u003c\\u002fextra\\u003e\",\"legendgroup\":\"Rubeus Hagrid, 30\",\"marker\":{\"color\":\"#00cc96\",\"pattern\":{\"shape\":\"\\u002f\"}},\"name\":\"Rubeus Hagrid, 30\",\"offsetgroup\":\"Rubeus Hagrid, 30\",\"orientation\":\"v\",\"showlegend\":true,\"x\":[\"Rubeus Hagrid\",\"Rubeus Hagrid\"],\"xaxis\":\"x\",\"y\":[30,30],\"yaxis\":\"y\",\"type\":\"histogram\"},{\"alignmentgroup\":\"True\",\"bingroup\":\"x\",\"histfunc\":\"sum\",\"hovertemplate\":\"favourite_character=%{x}\\u003cbr\\u003euser_age=33\\u003cbr\\u003esum of user_age=%{y}\\u003cextra\\u003e\\u003c\\u002fextra\\u003e\",\"legendgroup\":\"Rubeus Hagrid, 33\",\"marker\":{\"color\":\"#00cc96\",\"pattern\":{\"shape\":\"\\\\\"}},\"name\":\"Rubeus Hagrid, 33\",\"offsetgroup\":\"Rubeus Hagrid, 33\",\"orientation\":\"v\",\"showlegend\":true,\"x\":[\"Rubeus Hagrid\",\"Rubeus Hagrid\",\"Rubeus Hagrid\"],\"xaxis\":\"x\",\"y\":[33,33,33],\"yaxis\":\"y\",\"type\":\"histogram\"},{\"alignmentgroup\":\"True\",\"bingroup\":\"x\",\"histfunc\":\"sum\",\"hovertemplate\":\"favourite_character=%{x}\\u003cbr\\u003euser_age=35\\u003cbr\\u003esum of user_age=%{y}\\u003cextra\\u003e\\u003c\\u002fextra\\u003e\",\"legendgroup\":\"Rubeus Hagrid, 35\",\"marker\":{\"color\":\"#00cc96\",\"pattern\":{\"shape\":\"+\"}},\"name\":\"Rubeus Hagrid, 35\",\"offsetgroup\":\"Rubeus Hagrid, 35\",\"orientation\":\"v\",\"showlegend\":true,\"x\":[\"Rubeus Hagrid\",\"Rubeus Hagrid\"],\"xaxis\":\"x\",\"y\":[35,35],\"yaxis\":\"y\",\"type\":\"histogram\"},{\"alignmentgroup\":\"True\",\"bingroup\":\"x\",\"histfunc\":\"sum\",\"hovertemplate\":\"favourite_character=%{x}\\u003cbr\\u003euser_age=29\\u003cbr\\u003esum of user_age=%{y}\\u003cextra\\u003e\\u003c\\u002fextra\\u003e\",\"legendgroup\":\"Rubeus Hagrid, 29\",\"marker\":{\"color\":\"#00cc96\",\"pattern\":{\"shape\":\".\"}},\"name\":\"Rubeus Hagrid, 29\",\"offsetgroup\":\"Rubeus Hagrid, 29\",\"orientation\":\"v\",\"showlegend\":true,\"x\":[\"Rubeus Hagrid\",\"Rubeus Hagrid\"],\"xaxis\":\"x\",\"y\":[29,29],\"yaxis\":\"y\",\"type\":\"histogram\"},{\"alignmentgroup\":\"True\",\"bingroup\":\"x\",\"histfunc\":\"sum\",\"hovertemplate\":\"favourite_character=%{x}\\u003cbr\\u003euser_age=44\\u003cbr\\u003esum of user_age=%{y}\\u003cextra\\u003e\\u003c\\u002fextra\\u003e\",\"legendgroup\":\"Rubeus Hagrid, 44\",\"marker\":{\"color\":\"#00cc96\",\"pattern\":{\"shape\":\"\"}},\"name\":\"Rubeus Hagrid, 44\",\"offsetgroup\":\"Rubeus Hagrid, 44\",\"orientation\":\"v\",\"showlegend\":true,\"x\":[\"Rubeus Hagrid\",\"Rubeus Hagrid\"],\"xaxis\":\"x\",\"y\":[44,44],\"yaxis\":\"y\",\"type\":\"histogram\"},{\"alignmentgroup\":\"True\",\"bingroup\":\"x\",\"histfunc\":\"sum\",\"hovertemplate\":\"favourite_character=%{x}\\u003cbr\\u003euser_age=36\\u003cbr\\u003esum of user_age=%{y}\\u003cextra\\u003e\\u003c\\u002fextra\\u003e\",\"legendgroup\":\"Rubeus Hagrid, 36\",\"marker\":{\"color\":\"#00cc96\",\"pattern\":{\"shape\":\"\\u002f\"}},\"name\":\"Rubeus Hagrid, 36\",\"offsetgroup\":\"Rubeus Hagrid, 36\",\"orientation\":\"v\",\"showlegend\":true,\"x\":[\"Rubeus Hagrid\"],\"xaxis\":\"x\",\"y\":[36],\"yaxis\":\"y\",\"type\":\"histogram\"},{\"alignmentgroup\":\"True\",\"bingroup\":\"x\",\"histfunc\":\"sum\",\"hovertemplate\":\"favourite_character=%{x}\\u003cbr\\u003euser_age=45\\u003cbr\\u003esum of user_age=%{y}\\u003cextra\\u003e\\u003c\\u002fextra\\u003e\",\"legendgroup\":\"Rubeus Hagrid, 45\",\"marker\":{\"color\":\"#00cc96\",\"pattern\":{\"shape\":\"\\\\\"}},\"name\":\"Rubeus Hagrid, 45\",\"offsetgroup\":\"Rubeus Hagrid, 45\",\"orientation\":\"v\",\"showlegend\":true,\"x\":[\"Rubeus Hagrid\"],\"xaxis\":\"x\",\"y\":[45],\"yaxis\":\"y\",\"type\":\"histogram\"},{\"alignmentgroup\":\"True\",\"bingroup\":\"x\",\"histfunc\":\"sum\",\"hovertemplate\":\"favourite_character=%{x}\\u003cbr\\u003euser_age=25\\u003cbr\\u003esum of user_age=%{y}\\u003cextra\\u003e\\u003c\\u002fextra\\u003e\",\"legendgroup\":\"Rubeus Hagrid, 25\",\"marker\":{\"color\":\"#00cc96\",\"pattern\":{\"shape\":\"x\"}},\"name\":\"Rubeus Hagrid, 25\",\"offsetgroup\":\"Rubeus Hagrid, 25\",\"orientation\":\"v\",\"showlegend\":true,\"x\":[\"Rubeus Hagrid\"],\"xaxis\":\"x\",\"y\":[25],\"yaxis\":\"y\",\"type\":\"histogram\"},{\"alignmentgroup\":\"True\",\"bingroup\":\"x\",\"histfunc\":\"sum\",\"hovertemplate\":\"favourite_character=%{x}\\u003cbr\\u003euser_age=41\\u003cbr\\u003esum of user_age=%{y}\\u003cextra\\u003e\\u003c\\u002fextra\\u003e\",\"legendgroup\":\"Rubeus Hagrid, 41\",\"marker\":{\"color\":\"#00cc96\",\"pattern\":{\"shape\":\"\"}},\"name\":\"Rubeus Hagrid, 41\",\"offsetgroup\":\"Rubeus Hagrid, 41\",\"orientation\":\"v\",\"showlegend\":true,\"x\":[\"Rubeus Hagrid\",\"Rubeus Hagrid\",\"Rubeus Hagrid\",\"Rubeus Hagrid\"],\"xaxis\":\"x\",\"y\":[41,41,41,41],\"yaxis\":\"y\",\"type\":\"histogram\"},{\"alignmentgroup\":\"True\",\"bingroup\":\"x\",\"histfunc\":\"sum\",\"hovertemplate\":\"favourite_character=%{x}\\u003cbr\\u003euser_age=18\\u003cbr\\u003esum of user_age=%{y}\\u003cextra\\u003e\\u003c\\u002fextra\\u003e\",\"legendgroup\":\"Rubeus Hagrid, 18\",\"marker\":{\"color\":\"#00cc96\",\"pattern\":{\"shape\":\".\"}},\"name\":\"Rubeus Hagrid, 18\",\"offsetgroup\":\"Rubeus Hagrid, 18\",\"orientation\":\"v\",\"showlegend\":true,\"x\":[\"Rubeus Hagrid\"],\"xaxis\":\"x\",\"y\":[18],\"yaxis\":\"y\",\"type\":\"histogram\"},{\"alignmentgroup\":\"True\",\"bingroup\":\"x\",\"histfunc\":\"sum\",\"hovertemplate\":\"favourite_character=%{x}\\u003cbr\\u003euser_age=13\\u003cbr\\u003esum of user_age=%{y}\\u003cextra\\u003e\\u003c\\u002fextra\\u003e\",\"legendgroup\":\"Rubeus Hagrid, 13\",\"marker\":{\"color\":\"#00cc96\",\"pattern\":{\"shape\":\"\\u002f\"}},\"name\":\"Rubeus Hagrid, 13\",\"offsetgroup\":\"Rubeus Hagrid, 13\",\"orientation\":\"v\",\"showlegend\":true,\"x\":[\"Rubeus Hagrid\"],\"xaxis\":\"x\",\"y\":[13],\"yaxis\":\"y\",\"type\":\"histogram\"},{\"alignmentgroup\":\"True\",\"bingroup\":\"x\",\"histfunc\":\"sum\",\"hovertemplate\":\"favourite_character=%{x}\\u003cbr\\u003euser_age=42\\u003cbr\\u003esum of user_age=%{y}\\u003cextra\\u003e\\u003c\\u002fextra\\u003e\",\"legendgroup\":\"Rubeus Hagrid, 42\",\"marker\":{\"color\":\"#00cc96\",\"pattern\":{\"shape\":\"\\\\\"}},\"name\":\"Rubeus Hagrid, 42\",\"offsetgroup\":\"Rubeus Hagrid, 42\",\"orientation\":\"v\",\"showlegend\":true,\"x\":[\"Rubeus Hagrid\",\"Rubeus Hagrid\"],\"xaxis\":\"x\",\"y\":[42,42],\"yaxis\":\"y\",\"type\":\"histogram\"},{\"alignmentgroup\":\"True\",\"bingroup\":\"x\",\"histfunc\":\"sum\",\"hovertemplate\":\"favourite_character=%{x}\\u003cbr\\u003euser_age=43\\u003cbr\\u003esum of user_age=%{y}\\u003cextra\\u003e\\u003c\\u002fextra\\u003e\",\"legendgroup\":\"Rubeus Hagrid, 43\",\"marker\":{\"color\":\"#00cc96\",\"pattern\":{\"shape\":\"x\"}},\"name\":\"Rubeus Hagrid, 43\",\"offsetgroup\":\"Rubeus Hagrid, 43\",\"orientation\":\"v\",\"showlegend\":true,\"x\":[\"Rubeus Hagrid\",\"Rubeus Hagrid\"],\"xaxis\":\"x\",\"y\":[43,43],\"yaxis\":\"y\",\"type\":\"histogram\"},{\"alignmentgroup\":\"True\",\"bingroup\":\"x\",\"histfunc\":\"sum\",\"hovertemplate\":\"favourite_character=%{x}\\u003cbr\\u003euser_age=37\\u003cbr\\u003esum of user_age=%{y}\\u003cextra\\u003e\\u003c\\u002fextra\\u003e\",\"legendgroup\":\"Rubeus Hagrid, 37\",\"marker\":{\"color\":\"#00cc96\",\"pattern\":{\"shape\":\"+\"}},\"name\":\"Rubeus Hagrid, 37\",\"offsetgroup\":\"Rubeus Hagrid, 37\",\"orientation\":\"v\",\"showlegend\":true,\"x\":[\"Rubeus Hagrid\",\"Rubeus Hagrid\"],\"xaxis\":\"x\",\"y\":[37,37],\"yaxis\":\"y\",\"type\":\"histogram\"},{\"alignmentgroup\":\"True\",\"bingroup\":\"x\",\"histfunc\":\"sum\",\"hovertemplate\":\"favourite_character=%{x}\\u003cbr\\u003euser_age=17\\u003cbr\\u003esum of user_age=%{y}\\u003cextra\\u003e\\u003c\\u002fextra\\u003e\",\"legendgroup\":\"Rubeus Hagrid, 17\",\"marker\":{\"color\":\"#00cc96\",\"pattern\":{\"shape\":\"\\u002f\"}},\"name\":\"Rubeus Hagrid, 17\",\"offsetgroup\":\"Rubeus Hagrid, 17\",\"orientation\":\"v\",\"showlegend\":true,\"x\":[\"Rubeus Hagrid\",\"Rubeus Hagrid\",\"Rubeus Hagrid\"],\"xaxis\":\"x\",\"y\":[17,17,17],\"yaxis\":\"y\",\"type\":\"histogram\"},{\"alignmentgroup\":\"True\",\"bingroup\":\"x\",\"histfunc\":\"sum\",\"hovertemplate\":\"favourite_character=%{x}\\u003cbr\\u003euser_age=27\\u003cbr\\u003esum of user_age=%{y}\\u003cextra\\u003e\\u003c\\u002fextra\\u003e\",\"legendgroup\":\"Rubeus Hagrid, 27\",\"marker\":{\"color\":\"#00cc96\",\"pattern\":{\"shape\":\"+\"}},\"name\":\"Rubeus Hagrid, 27\",\"offsetgroup\":\"Rubeus Hagrid, 27\",\"orientation\":\"v\",\"showlegend\":true,\"x\":[\"Rubeus Hagrid\",\"Rubeus Hagrid\"],\"xaxis\":\"x\",\"y\":[27,27],\"yaxis\":\"y\",\"type\":\"histogram\"},{\"alignmentgroup\":\"True\",\"bingroup\":\"x\",\"histfunc\":\"sum\",\"hovertemplate\":\"favourite_character=%{x}\\u003cbr\\u003euser_age=61\\u003cbr\\u003esum of user_age=%{y}\\u003cextra\\u003e\\u003c\\u002fextra\\u003e\",\"legendgroup\":\"Rubeus Hagrid, 61\",\"marker\":{\"color\":\"#00cc96\",\"pattern\":{\"shape\":\"\"}},\"name\":\"Rubeus Hagrid, 61\",\"offsetgroup\":\"Rubeus Hagrid, 61\",\"orientation\":\"v\",\"showlegend\":true,\"x\":[\"Rubeus Hagrid\"],\"xaxis\":\"x\",\"y\":[61],\"yaxis\":\"y\",\"type\":\"histogram\"},{\"alignmentgroup\":\"True\",\"bingroup\":\"x\",\"histfunc\":\"sum\",\"hovertemplate\":\"favourite_character=%{x}\\u003cbr\\u003euser_age=8\\u003cbr\\u003esum of user_age=%{y}\\u003cextra\\u003e\\u003c\\u002fextra\\u003e\",\"legendgroup\":\"Rubeus Hagrid, 8\",\"marker\":{\"color\":\"#00cc96\",\"pattern\":{\"shape\":\"\\\\\"}},\"name\":\"Rubeus Hagrid, 8\",\"offsetgroup\":\"Rubeus Hagrid, 8\",\"orientation\":\"v\",\"showlegend\":true,\"x\":[\"Rubeus Hagrid\"],\"xaxis\":\"x\",\"y\":[8],\"yaxis\":\"y\",\"type\":\"histogram\"},{\"alignmentgroup\":\"True\",\"bingroup\":\"x\",\"histfunc\":\"sum\",\"hovertemplate\":\"favourite_character=%{x}\\u003cbr\\u003euser_age=62\\u003cbr\\u003esum of user_age=%{y}\\u003cextra\\u003e\\u003c\\u002fextra\\u003e\",\"legendgroup\":\"Rubeus Hagrid, 62\",\"marker\":{\"color\":\"#00cc96\",\"pattern\":{\"shape\":\"+\"}},\"name\":\"Rubeus Hagrid, 62\",\"offsetgroup\":\"Rubeus Hagrid, 62\",\"orientation\":\"v\",\"showlegend\":true,\"x\":[\"Rubeus Hagrid\"],\"xaxis\":\"x\",\"y\":[62],\"yaxis\":\"y\",\"type\":\"histogram\"},{\"alignmentgroup\":\"True\",\"bingroup\":\"x\",\"histfunc\":\"sum\",\"hovertemplate\":\"favourite_character=%{x}\\u003cbr\\u003euser_age=24\\u003cbr\\u003esum of user_age=%{y}\\u003cextra\\u003e\\u003c\\u002fextra\\u003e\",\"legendgroup\":\"Neville Longbottom, 24\",\"marker\":{\"color\":\"#ab63fa\",\"pattern\":{\"shape\":\"x\"}},\"name\":\"Neville Longbottom, 24\",\"offsetgroup\":\"Neville Longbottom, 24\",\"orientation\":\"v\",\"showlegend\":true,\"x\":[\"Neville Longbottom\"],\"xaxis\":\"x\",\"y\":[24],\"yaxis\":\"y\",\"type\":\"histogram\"},{\"alignmentgroup\":\"True\",\"bingroup\":\"x\",\"histfunc\":\"sum\",\"hovertemplate\":\"favourite_character=%{x}\\u003cbr\\u003euser_age=40\\u003cbr\\u003esum of user_age=%{y}\\u003cextra\\u003e\\u003c\\u002fextra\\u003e\",\"legendgroup\":\"Neville Longbottom, 40\",\"marker\":{\"color\":\"#ab63fa\",\"pattern\":{\"shape\":\"+\"}},\"name\":\"Neville Longbottom, 40\",\"offsetgroup\":\"Neville Longbottom, 40\",\"orientation\":\"v\",\"showlegend\":true,\"x\":[\"Neville Longbottom\",\"Neville Longbottom\"],\"xaxis\":\"x\",\"y\":[40,40],\"yaxis\":\"y\",\"type\":\"histogram\"},{\"alignmentgroup\":\"True\",\"bingroup\":\"x\",\"histfunc\":\"sum\",\"hovertemplate\":\"favourite_character=%{x}\\u003cbr\\u003euser_age=16\\u003cbr\\u003esum of user_age=%{y}\\u003cextra\\u003e\\u003c\\u002fextra\\u003e\",\"legendgroup\":\"Neville Longbottom, 16\",\"marker\":{\"color\":\"#ab63fa\",\"pattern\":{\"shape\":\".\"}},\"name\":\"Neville Longbottom, 16\",\"offsetgroup\":\"Neville Longbottom, 16\",\"orientation\":\"v\",\"showlegend\":true,\"x\":[\"Neville Longbottom\",\"Neville Longbottom\"],\"xaxis\":\"x\",\"y\":[16,16],\"yaxis\":\"y\",\"type\":\"histogram\"},{\"alignmentgroup\":\"True\",\"bingroup\":\"x\",\"histfunc\":\"sum\",\"hovertemplate\":\"favourite_character=%{x}\\u003cbr\\u003euser_age=52\\u003cbr\\u003esum of user_age=%{y}\\u003cextra\\u003e\\u003c\\u002fextra\\u003e\",\"legendgroup\":\"Neville Longbottom, 52\",\"marker\":{\"color\":\"#ab63fa\",\"pattern\":{\"shape\":\"\\\\\"}},\"name\":\"Neville Longbottom, 52\",\"offsetgroup\":\"Neville Longbottom, 52\",\"orientation\":\"v\",\"showlegend\":true,\"x\":[\"Neville Longbottom\"],\"xaxis\":\"x\",\"y\":[52],\"yaxis\":\"y\",\"type\":\"histogram\"},{\"alignmentgroup\":\"True\",\"bingroup\":\"x\",\"histfunc\":\"sum\",\"hovertemplate\":\"favourite_character=%{x}\\u003cbr\\u003euser_age=46\\u003cbr\\u003esum of user_age=%{y}\\u003cextra\\u003e\\u003c\\u002fextra\\u003e\",\"legendgroup\":\"Neville Longbottom, 46\",\"marker\":{\"color\":\"#ab63fa\",\"pattern\":{\"shape\":\"x\"}},\"name\":\"Neville Longbottom, 46\",\"offsetgroup\":\"Neville Longbottom, 46\",\"orientation\":\"v\",\"showlegend\":true,\"x\":[\"Neville Longbottom\",\"Neville Longbottom\"],\"xaxis\":\"x\",\"y\":[46,46],\"yaxis\":\"y\",\"type\":\"histogram\"},{\"alignmentgroup\":\"True\",\"bingroup\":\"x\",\"histfunc\":\"sum\",\"hovertemplate\":\"favourite_character=%{x}\\u003cbr\\u003euser_age=34\\u003cbr\\u003esum of user_age=%{y}\\u003cextra\\u003e\\u003c\\u002fextra\\u003e\",\"legendgroup\":\"Neville Longbottom, 34\",\"marker\":{\"color\":\"#ab63fa\",\"pattern\":{\"shape\":\"+\"}},\"name\":\"Neville Longbottom, 34\",\"offsetgroup\":\"Neville Longbottom, 34\",\"orientation\":\"v\",\"showlegend\":true,\"x\":[\"Neville Longbottom\",\"Neville Longbottom\",\"Neville Longbottom\",\"Neville Longbottom\",\"Neville Longbottom\"],\"xaxis\":\"x\",\"y\":[34,34,34,34,34],\"yaxis\":\"y\",\"type\":\"histogram\"},{\"alignmentgroup\":\"True\",\"bingroup\":\"x\",\"histfunc\":\"sum\",\"hovertemplate\":\"favourite_character=%{x}\\u003cbr\\u003euser_age=38\\u003cbr\\u003esum of user_age=%{y}\\u003cextra\\u003e\\u003c\\u002fextra\\u003e\",\"legendgroup\":\"Neville Longbottom, 38\",\"marker\":{\"color\":\"#ab63fa\",\"pattern\":{\"shape\":\"\"}},\"name\":\"Neville Longbottom, 38\",\"offsetgroup\":\"Neville Longbottom, 38\",\"orientation\":\"v\",\"showlegend\":true,\"x\":[\"Neville Longbottom\"],\"xaxis\":\"x\",\"y\":[38],\"yaxis\":\"y\",\"type\":\"histogram\"},{\"alignmentgroup\":\"True\",\"bingroup\":\"x\",\"histfunc\":\"sum\",\"hovertemplate\":\"favourite_character=%{x}\\u003cbr\\u003euser_age=31\\u003cbr\\u003esum of user_age=%{y}\\u003cextra\\u003e\\u003c\\u002fextra\\u003e\",\"legendgroup\":\"Neville Longbottom, 31\",\"marker\":{\"color\":\"#ab63fa\",\"pattern\":{\"shape\":\"+\"}},\"name\":\"Neville Longbottom, 31\",\"offsetgroup\":\"Neville Longbottom, 31\",\"orientation\":\"v\",\"showlegend\":true,\"x\":[\"Neville Longbottom\",\"Neville Longbottom\"],\"xaxis\":\"x\",\"y\":[31,31],\"yaxis\":\"y\",\"type\":\"histogram\"},{\"alignmentgroup\":\"True\",\"bingroup\":\"x\",\"histfunc\":\"sum\",\"hovertemplate\":\"favourite_character=%{x}\\u003cbr\\u003euser_age=30\\u003cbr\\u003esum of user_age=%{y}\\u003cextra\\u003e\\u003c\\u002fextra\\u003e\",\"legendgroup\":\"Neville Longbottom, 30\",\"marker\":{\"color\":\"#ab63fa\",\"pattern\":{\"shape\":\"\\u002f\"}},\"name\":\"Neville Longbottom, 30\",\"offsetgroup\":\"Neville Longbottom, 30\",\"orientation\":\"v\",\"showlegend\":true,\"x\":[\"Neville Longbottom\"],\"xaxis\":\"x\",\"y\":[30],\"yaxis\":\"y\",\"type\":\"histogram\"},{\"alignmentgroup\":\"True\",\"bingroup\":\"x\",\"histfunc\":\"sum\",\"hovertemplate\":\"favourite_character=%{x}\\u003cbr\\u003euser_age=33\\u003cbr\\u003esum of user_age=%{y}\\u003cextra\\u003e\\u003c\\u002fextra\\u003e\",\"legendgroup\":\"Neville Longbottom, 33\",\"marker\":{\"color\":\"#ab63fa\",\"pattern\":{\"shape\":\"\\\\\"}},\"name\":\"Neville Longbottom, 33\",\"offsetgroup\":\"Neville Longbottom, 33\",\"orientation\":\"v\",\"showlegend\":true,\"x\":[\"Neville Longbottom\",\"Neville Longbottom\",\"Neville Longbottom\"],\"xaxis\":\"x\",\"y\":[33,33,33],\"yaxis\":\"y\",\"type\":\"histogram\"},{\"alignmentgroup\":\"True\",\"bingroup\":\"x\",\"histfunc\":\"sum\",\"hovertemplate\":\"favourite_character=%{x}\\u003cbr\\u003euser_age=48\\u003cbr\\u003esum of user_age=%{y}\\u003cextra\\u003e\\u003c\\u002fextra\\u003e\",\"legendgroup\":\"Neville Longbottom, 48\",\"marker\":{\"color\":\"#ab63fa\",\"pattern\":{\"shape\":\"x\"}},\"name\":\"Neville Longbottom, 48\",\"offsetgroup\":\"Neville Longbottom, 48\",\"orientation\":\"v\",\"showlegend\":true,\"x\":[\"Neville Longbottom\",\"Neville Longbottom\",\"Neville Longbottom\"],\"xaxis\":\"x\",\"y\":[48,48,48],\"yaxis\":\"y\",\"type\":\"histogram\"},{\"alignmentgroup\":\"True\",\"bingroup\":\"x\",\"histfunc\":\"sum\",\"hovertemplate\":\"favourite_character=%{x}\\u003cbr\\u003euser_age=35\\u003cbr\\u003esum of user_age=%{y}\\u003cextra\\u003e\\u003c\\u002fextra\\u003e\",\"legendgroup\":\"Neville Longbottom, 35\",\"marker\":{\"color\":\"#ab63fa\",\"pattern\":{\"shape\":\"+\"}},\"name\":\"Neville Longbottom, 35\",\"offsetgroup\":\"Neville Longbottom, 35\",\"orientation\":\"v\",\"showlegend\":true,\"x\":[\"Neville Longbottom\",\"Neville Longbottom\",\"Neville Longbottom\",\"Neville Longbottom\",\"Neville Longbottom\",\"Neville Longbottom\"],\"xaxis\":\"x\",\"y\":[35,35,35,35,35,35],\"yaxis\":\"y\",\"type\":\"histogram\"},{\"alignmentgroup\":\"True\",\"bingroup\":\"x\",\"histfunc\":\"sum\",\"hovertemplate\":\"favourite_character=%{x}\\u003cbr\\u003euser_age=44\\u003cbr\\u003esum of user_age=%{y}\\u003cextra\\u003e\\u003c\\u002fextra\\u003e\",\"legendgroup\":\"Neville Longbottom, 44\",\"marker\":{\"color\":\"#ab63fa\",\"pattern\":{\"shape\":\"\"}},\"name\":\"Neville Longbottom, 44\",\"offsetgroup\":\"Neville Longbottom, 44\",\"orientation\":\"v\",\"showlegend\":true,\"x\":[\"Neville Longbottom\",\"Neville Longbottom\",\"Neville Longbottom\",\"Neville Longbottom\"],\"xaxis\":\"x\",\"y\":[44,44,44,44],\"yaxis\":\"y\",\"type\":\"histogram\"},{\"alignmentgroup\":\"True\",\"bingroup\":\"x\",\"histfunc\":\"sum\",\"hovertemplate\":\"favourite_character=%{x}\\u003cbr\\u003euser_age=36\\u003cbr\\u003esum of user_age=%{y}\\u003cextra\\u003e\\u003c\\u002fextra\\u003e\",\"legendgroup\":\"Neville Longbottom, 36\",\"marker\":{\"color\":\"#ab63fa\",\"pattern\":{\"shape\":\"\\u002f\"}},\"name\":\"Neville Longbottom, 36\",\"offsetgroup\":\"Neville Longbottom, 36\",\"orientation\":\"v\",\"showlegend\":true,\"x\":[\"Neville Longbottom\",\"Neville Longbottom\"],\"xaxis\":\"x\",\"y\":[36,36],\"yaxis\":\"y\",\"type\":\"histogram\"},{\"alignmentgroup\":\"True\",\"bingroup\":\"x\",\"histfunc\":\"sum\",\"hovertemplate\":\"favourite_character=%{x}\\u003cbr\\u003euser_age=45\\u003cbr\\u003esum of user_age=%{y}\\u003cextra\\u003e\\u003c\\u002fextra\\u003e\",\"legendgroup\":\"Neville Longbottom, 45\",\"marker\":{\"color\":\"#ab63fa\",\"pattern\":{\"shape\":\"\\\\\"}},\"name\":\"Neville Longbottom, 45\",\"offsetgroup\":\"Neville Longbottom, 45\",\"orientation\":\"v\",\"showlegend\":true,\"x\":[\"Neville Longbottom\",\"Neville Longbottom\"],\"xaxis\":\"x\",\"y\":[45,45],\"yaxis\":\"y\",\"type\":\"histogram\"},{\"alignmentgroup\":\"True\",\"bingroup\":\"x\",\"histfunc\":\"sum\",\"hovertemplate\":\"favourite_character=%{x}\\u003cbr\\u003euser_age=25\\u003cbr\\u003esum of user_age=%{y}\\u003cextra\\u003e\\u003c\\u002fextra\\u003e\",\"legendgroup\":\"Neville Longbottom, 25\",\"marker\":{\"color\":\"#ab63fa\",\"pattern\":{\"shape\":\"x\"}},\"name\":\"Neville Longbottom, 25\",\"offsetgroup\":\"Neville Longbottom, 25\",\"orientation\":\"v\",\"showlegend\":true,\"x\":[\"Neville Longbottom\"],\"xaxis\":\"x\",\"y\":[25],\"yaxis\":\"y\",\"type\":\"histogram\"},{\"alignmentgroup\":\"True\",\"bingroup\":\"x\",\"histfunc\":\"sum\",\"hovertemplate\":\"favourite_character=%{x}\\u003cbr\\u003euser_age=19\\u003cbr\\u003esum of user_age=%{y}\\u003cextra\\u003e\\u003c\\u002fextra\\u003e\",\"legendgroup\":\"Neville Longbottom, 19\",\"marker\":{\"color\":\"#ab63fa\",\"pattern\":{\"shape\":\".\"}},\"name\":\"Neville Longbottom, 19\",\"offsetgroup\":\"Neville Longbottom, 19\",\"orientation\":\"v\",\"showlegend\":true,\"x\":[\"Neville Longbottom\"],\"xaxis\":\"x\",\"y\":[19],\"yaxis\":\"y\",\"type\":\"histogram\"},{\"alignmentgroup\":\"True\",\"bingroup\":\"x\",\"histfunc\":\"sum\",\"hovertemplate\":\"favourite_character=%{x}\\u003cbr\\u003euser_age=41\\u003cbr\\u003esum of user_age=%{y}\\u003cextra\\u003e\\u003c\\u002fextra\\u003e\",\"legendgroup\":\"Neville Longbottom, 41\",\"marker\":{\"color\":\"#ab63fa\",\"pattern\":{\"shape\":\"\"}},\"name\":\"Neville Longbottom, 41\",\"offsetgroup\":\"Neville Longbottom, 41\",\"orientation\":\"v\",\"showlegend\":true,\"x\":[\"Neville Longbottom\",\"Neville Longbottom\"],\"xaxis\":\"x\",\"y\":[41,41],\"yaxis\":\"y\",\"type\":\"histogram\"},{\"alignmentgroup\":\"True\",\"bingroup\":\"x\",\"histfunc\":\"sum\",\"hovertemplate\":\"favourite_character=%{x}\\u003cbr\\u003euser_age=60\\u003cbr\\u003esum of user_age=%{y}\\u003cextra\\u003e\\u003c\\u002fextra\\u003e\",\"legendgroup\":\"Neville Longbottom, 60\",\"marker\":{\"color\":\"#ab63fa\",\"pattern\":{\"shape\":\"\\u002f\"}},\"name\":\"Neville Longbottom, 60\",\"offsetgroup\":\"Neville Longbottom, 60\",\"orientation\":\"v\",\"showlegend\":true,\"x\":[\"Neville Longbottom\"],\"xaxis\":\"x\",\"y\":[60],\"yaxis\":\"y\",\"type\":\"histogram\"},{\"alignmentgroup\":\"True\",\"bingroup\":\"x\",\"histfunc\":\"sum\",\"hovertemplate\":\"favourite_character=%{x}\\u003cbr\\u003euser_age=10\\u003cbr\\u003esum of user_age=%{y}\\u003cextra\\u003e\\u003c\\u002fextra\\u003e\",\"legendgroup\":\"Neville Longbottom, 10\",\"marker\":{\"color\":\"#ab63fa\",\"pattern\":{\"shape\":\"\\\\\"}},\"name\":\"Neville Longbottom, 10\",\"offsetgroup\":\"Neville Longbottom, 10\",\"orientation\":\"v\",\"showlegend\":true,\"x\":[\"Neville Longbottom\"],\"xaxis\":\"x\",\"y\":[10],\"yaxis\":\"y\",\"type\":\"histogram\"},{\"alignmentgroup\":\"True\",\"bingroup\":\"x\",\"histfunc\":\"sum\",\"hovertemplate\":\"favourite_character=%{x}\\u003cbr\\u003euser_age=11\\u003cbr\\u003esum of user_age=%{y}\\u003cextra\\u003e\\u003c\\u002fextra\\u003e\",\"legendgroup\":\"Neville Longbottom, 11\",\"marker\":{\"color\":\"#ab63fa\",\"pattern\":{\"shape\":\"x\"}},\"name\":\"Neville Longbottom, 11\",\"offsetgroup\":\"Neville Longbottom, 11\",\"orientation\":\"v\",\"showlegend\":true,\"x\":[\"Neville Longbottom\"],\"xaxis\":\"x\",\"y\":[11],\"yaxis\":\"y\",\"type\":\"histogram\"},{\"alignmentgroup\":\"True\",\"bingroup\":\"x\",\"histfunc\":\"sum\",\"hovertemplate\":\"favourite_character=%{x}\\u003cbr\\u003euser_age=56\\u003cbr\\u003esum of user_age=%{y}\\u003cextra\\u003e\\u003c\\u002fextra\\u003e\",\"legendgroup\":\"Neville Longbottom, 56\",\"marker\":{\"color\":\"#ab63fa\",\"pattern\":{\"shape\":\"+\"}},\"name\":\"Neville Longbottom, 56\",\"offsetgroup\":\"Neville Longbottom, 56\",\"orientation\":\"v\",\"showlegend\":true,\"x\":[\"Neville Longbottom\"],\"xaxis\":\"x\",\"y\":[56],\"yaxis\":\"y\",\"type\":\"histogram\"},{\"alignmentgroup\":\"True\",\"bingroup\":\"x\",\"histfunc\":\"sum\",\"hovertemplate\":\"favourite_character=%{x}\\u003cbr\\u003euser_age=43\\u003cbr\\u003esum of user_age=%{y}\\u003cextra\\u003e\\u003c\\u002fextra\\u003e\",\"legendgroup\":\"Neville Longbottom, 43\",\"marker\":{\"color\":\"#ab63fa\",\"pattern\":{\"shape\":\"x\"}},\"name\":\"Neville Longbottom, 43\",\"offsetgroup\":\"Neville Longbottom, 43\",\"orientation\":\"v\",\"showlegend\":true,\"x\":[\"Neville Longbottom\"],\"xaxis\":\"x\",\"y\":[43],\"yaxis\":\"y\",\"type\":\"histogram\"},{\"alignmentgroup\":\"True\",\"bingroup\":\"x\",\"histfunc\":\"sum\",\"hovertemplate\":\"favourite_character=%{x}\\u003cbr\\u003euser_age=37\\u003cbr\\u003esum of user_age=%{y}\\u003cextra\\u003e\\u003c\\u002fextra\\u003e\",\"legendgroup\":\"Neville Longbottom, 37\",\"marker\":{\"color\":\"#ab63fa\",\"pattern\":{\"shape\":\"+\"}},\"name\":\"Neville Longbottom, 37\",\"offsetgroup\":\"Neville Longbottom, 37\",\"orientation\":\"v\",\"showlegend\":true,\"x\":[\"Neville Longbottom\",\"Neville Longbottom\"],\"xaxis\":\"x\",\"y\":[37,37],\"yaxis\":\"y\",\"type\":\"histogram\"},{\"alignmentgroup\":\"True\",\"bingroup\":\"x\",\"histfunc\":\"sum\",\"hovertemplate\":\"favourite_character=%{x}\\u003cbr\\u003euser_age=17\\u003cbr\\u003esum of user_age=%{y}\\u003cextra\\u003e\\u003c\\u002fextra\\u003e\",\"legendgroup\":\"Neville Longbottom, 17\",\"marker\":{\"color\":\"#ab63fa\",\"pattern\":{\"shape\":\"\\u002f\"}},\"name\":\"Neville Longbottom, 17\",\"offsetgroup\":\"Neville Longbottom, 17\",\"orientation\":\"v\",\"showlegend\":true,\"x\":[\"Neville Longbottom\"],\"xaxis\":\"x\",\"y\":[17],\"yaxis\":\"y\",\"type\":\"histogram\"},{\"alignmentgroup\":\"True\",\"bingroup\":\"x\",\"histfunc\":\"sum\",\"hovertemplate\":\"favourite_character=%{x}\\u003cbr\\u003euser_age=21\\u003cbr\\u003esum of user_age=%{y}\\u003cextra\\u003e\\u003c\\u002fextra\\u003e\",\"legendgroup\":\"Neville Longbottom, 21\",\"marker\":{\"color\":\"#ab63fa\",\"pattern\":{\"shape\":\"\\\\\"}},\"name\":\"Neville Longbottom, 21\",\"offsetgroup\":\"Neville Longbottom, 21\",\"orientation\":\"v\",\"showlegend\":true,\"x\":[\"Neville Longbottom\"],\"xaxis\":\"x\",\"y\":[21],\"yaxis\":\"y\",\"type\":\"histogram\"},{\"alignmentgroup\":\"True\",\"bingroup\":\"x\",\"histfunc\":\"sum\",\"hovertemplate\":\"favourite_character=%{x}\\u003cbr\\u003euser_age=14\\u003cbr\\u003esum of user_age=%{y}\\u003cextra\\u003e\\u003c\\u002fextra\\u003e\",\"legendgroup\":\"Neville Longbottom, 14\",\"marker\":{\"color\":\"#ab63fa\",\"pattern\":{\"shape\":\"x\"}},\"name\":\"Neville Longbottom, 14\",\"offsetgroup\":\"Neville Longbottom, 14\",\"orientation\":\"v\",\"showlegend\":true,\"x\":[\"Neville Longbottom\"],\"xaxis\":\"x\",\"y\":[14],\"yaxis\":\"y\",\"type\":\"histogram\"},{\"alignmentgroup\":\"True\",\"bingroup\":\"x\",\"histfunc\":\"sum\",\"hovertemplate\":\"favourite_character=%{x}\\u003cbr\\u003euser_age=27\\u003cbr\\u003esum of user_age=%{y}\\u003cextra\\u003e\\u003c\\u002fextra\\u003e\",\"legendgroup\":\"Neville Longbottom, 27\",\"marker\":{\"color\":\"#ab63fa\",\"pattern\":{\"shape\":\"+\"}},\"name\":\"Neville Longbottom, 27\",\"offsetgroup\":\"Neville Longbottom, 27\",\"orientation\":\"v\",\"showlegend\":true,\"x\":[\"Neville Longbottom\"],\"xaxis\":\"x\",\"y\":[27],\"yaxis\":\"y\",\"type\":\"histogram\"},{\"alignmentgroup\":\"True\",\"bingroup\":\"x\",\"histfunc\":\"sum\",\"hovertemplate\":\"favourite_character=%{x}\\u003cbr\\u003euser_age=50\\u003cbr\\u003esum of user_age=%{y}\\u003cextra\\u003e\\u003c\\u002fextra\\u003e\",\"legendgroup\":\"Albus Dumbledore, 50\",\"marker\":{\"color\":\"#FFA15A\",\"pattern\":{\"shape\":\"\"}},\"name\":\"Albus Dumbledore, 50\",\"offsetgroup\":\"Albus Dumbledore, 50\",\"orientation\":\"v\",\"showlegend\":true,\"x\":[\"Albus Dumbledore\",\"Albus Dumbledore\"],\"xaxis\":\"x\",\"y\":[50,50],\"yaxis\":\"y\",\"type\":\"histogram\"},{\"alignmentgroup\":\"True\",\"bingroup\":\"x\",\"histfunc\":\"sum\",\"hovertemplate\":\"favourite_character=%{x}\\u003cbr\\u003euser_age=40\\u003cbr\\u003esum of user_age=%{y}\\u003cextra\\u003e\\u003c\\u002fextra\\u003e\",\"legendgroup\":\"Albus Dumbledore, 40\",\"marker\":{\"color\":\"#FFA15A\",\"pattern\":{\"shape\":\"+\"}},\"name\":\"Albus Dumbledore, 40\",\"offsetgroup\":\"Albus Dumbledore, 40\",\"orientation\":\"v\",\"showlegend\":true,\"x\":[\"Albus Dumbledore\"],\"xaxis\":\"x\",\"y\":[40],\"yaxis\":\"y\",\"type\":\"histogram\"},{\"alignmentgroup\":\"True\",\"bingroup\":\"x\",\"histfunc\":\"sum\",\"hovertemplate\":\"favourite_character=%{x}\\u003cbr\\u003euser_age=26\\u003cbr\\u003esum of user_age=%{y}\\u003cextra\\u003e\\u003c\\u002fextra\\u003e\",\"legendgroup\":\"Albus Dumbledore, 26\",\"marker\":{\"color\":\"#FFA15A\",\"pattern\":{\"shape\":\"\"}},\"name\":\"Albus Dumbledore, 26\",\"offsetgroup\":\"Albus Dumbledore, 26\",\"orientation\":\"v\",\"showlegend\":true,\"x\":[\"Albus Dumbledore\",\"Albus Dumbledore\",\"Albus Dumbledore\"],\"xaxis\":\"x\",\"y\":[26,26,26],\"yaxis\":\"y\",\"type\":\"histogram\"},{\"alignmentgroup\":\"True\",\"bingroup\":\"x\",\"histfunc\":\"sum\",\"hovertemplate\":\"favourite_character=%{x}\\u003cbr\\u003euser_age=28\\u003cbr\\u003esum of user_age=%{y}\\u003cextra\\u003e\\u003c\\u002fextra\\u003e\",\"legendgroup\":\"Albus Dumbledore, 28\",\"marker\":{\"color\":\"#FFA15A\",\"pattern\":{\"shape\":\"\\u002f\"}},\"name\":\"Albus Dumbledore, 28\",\"offsetgroup\":\"Albus Dumbledore, 28\",\"orientation\":\"v\",\"showlegend\":true,\"x\":[\"Albus Dumbledore\"],\"xaxis\":\"x\",\"y\":[28],\"yaxis\":\"y\",\"type\":\"histogram\"},{\"alignmentgroup\":\"True\",\"bingroup\":\"x\",\"histfunc\":\"sum\",\"hovertemplate\":\"favourite_character=%{x}\\u003cbr\\u003euser_age=52\\u003cbr\\u003esum of user_age=%{y}\\u003cextra\\u003e\\u003c\\u002fextra\\u003e\",\"legendgroup\":\"Albus Dumbledore, 52\",\"marker\":{\"color\":\"#FFA15A\",\"pattern\":{\"shape\":\"\\\\\"}},\"name\":\"Albus Dumbledore, 52\",\"offsetgroup\":\"Albus Dumbledore, 52\",\"orientation\":\"v\",\"showlegend\":true,\"x\":[\"Albus Dumbledore\"],\"xaxis\":\"x\",\"y\":[52],\"yaxis\":\"y\",\"type\":\"histogram\"},{\"alignmentgroup\":\"True\",\"bingroup\":\"x\",\"histfunc\":\"sum\",\"hovertemplate\":\"favourite_character=%{x}\\u003cbr\\u003euser_age=46\\u003cbr\\u003esum of user_age=%{y}\\u003cextra\\u003e\\u003c\\u002fextra\\u003e\",\"legendgroup\":\"Albus Dumbledore, 46\",\"marker\":{\"color\":\"#FFA15A\",\"pattern\":{\"shape\":\"x\"}},\"name\":\"Albus Dumbledore, 46\",\"offsetgroup\":\"Albus Dumbledore, 46\",\"orientation\":\"v\",\"showlegend\":true,\"x\":[\"Albus Dumbledore\",\"Albus Dumbledore\"],\"xaxis\":\"x\",\"y\":[46,46],\"yaxis\":\"y\",\"type\":\"histogram\"},{\"alignmentgroup\":\"True\",\"bingroup\":\"x\",\"histfunc\":\"sum\",\"hovertemplate\":\"favourite_character=%{x}\\u003cbr\\u003euser_age=34\\u003cbr\\u003esum of user_age=%{y}\\u003cextra\\u003e\\u003c\\u002fextra\\u003e\",\"legendgroup\":\"Albus Dumbledore, 34\",\"marker\":{\"color\":\"#FFA15A\",\"pattern\":{\"shape\":\"+\"}},\"name\":\"Albus Dumbledore, 34\",\"offsetgroup\":\"Albus Dumbledore, 34\",\"orientation\":\"v\",\"showlegend\":true,\"x\":[\"Albus Dumbledore\",\"Albus Dumbledore\",\"Albus Dumbledore\",\"Albus Dumbledore\"],\"xaxis\":\"x\",\"y\":[34,34,34,34],\"yaxis\":\"y\",\"type\":\"histogram\"},{\"alignmentgroup\":\"True\",\"bingroup\":\"x\",\"histfunc\":\"sum\",\"hovertemplate\":\"favourite_character=%{x}\\u003cbr\\u003euser_age=51\\u003cbr\\u003esum of user_age=%{y}\\u003cextra\\u003e\\u003c\\u002fextra\\u003e\",\"legendgroup\":\"Albus Dumbledore, 51\",\"marker\":{\"color\":\"#FFA15A\",\"pattern\":{\"shape\":\".\"}},\"name\":\"Albus Dumbledore, 51\",\"offsetgroup\":\"Albus Dumbledore, 51\",\"orientation\":\"v\",\"showlegend\":true,\"x\":[\"Albus Dumbledore\",\"Albus Dumbledore\"],\"xaxis\":\"x\",\"y\":[51,51],\"yaxis\":\"y\",\"type\":\"histogram\"},{\"alignmentgroup\":\"True\",\"bingroup\":\"x\",\"histfunc\":\"sum\",\"hovertemplate\":\"favourite_character=%{x}\\u003cbr\\u003euser_age=38\\u003cbr\\u003esum of user_age=%{y}\\u003cextra\\u003e\\u003c\\u002fextra\\u003e\",\"legendgroup\":\"Albus Dumbledore, 38\",\"marker\":{\"color\":\"#FFA15A\",\"pattern\":{\"shape\":\"\"}},\"name\":\"Albus Dumbledore, 38\",\"offsetgroup\":\"Albus Dumbledore, 38\",\"orientation\":\"v\",\"showlegend\":true,\"x\":[\"Albus Dumbledore\",\"Albus Dumbledore\"],\"xaxis\":\"x\",\"y\":[38,38],\"yaxis\":\"y\",\"type\":\"histogram\"},{\"alignmentgroup\":\"True\",\"bingroup\":\"x\",\"histfunc\":\"sum\",\"hovertemplate\":\"favourite_character=%{x}\\u003cbr\\u003euser_age=20\\u003cbr\\u003esum of user_age=%{y}\\u003cextra\\u003e\\u003c\\u002fextra\\u003e\",\"legendgroup\":\"Albus Dumbledore, 20\",\"marker\":{\"color\":\"#FFA15A\",\"pattern\":{\"shape\":\"x\"}},\"name\":\"Albus Dumbledore, 20\",\"offsetgroup\":\"Albus Dumbledore, 20\",\"orientation\":\"v\",\"showlegend\":true,\"x\":[\"Albus Dumbledore\"],\"xaxis\":\"x\",\"y\":[20],\"yaxis\":\"y\",\"type\":\"histogram\"},{\"alignmentgroup\":\"True\",\"bingroup\":\"x\",\"histfunc\":\"sum\",\"hovertemplate\":\"favourite_character=%{x}\\u003cbr\\u003euser_age=31\\u003cbr\\u003esum of user_age=%{y}\\u003cextra\\u003e\\u003c\\u002fextra\\u003e\",\"legendgroup\":\"Albus Dumbledore, 31\",\"marker\":{\"color\":\"#FFA15A\",\"pattern\":{\"shape\":\"+\"}},\"name\":\"Albus Dumbledore, 31\",\"offsetgroup\":\"Albus Dumbledore, 31\",\"orientation\":\"v\",\"showlegend\":true,\"x\":[\"Albus Dumbledore\",\"Albus Dumbledore\",\"Albus Dumbledore\",\"Albus Dumbledore\",\"Albus Dumbledore\"],\"xaxis\":\"x\",\"y\":[31,31,31,31,31],\"yaxis\":\"y\",\"type\":\"histogram\"},{\"alignmentgroup\":\"True\",\"bingroup\":\"x\",\"histfunc\":\"sum\",\"hovertemplate\":\"favourite_character=%{x}\\u003cbr\\u003euser_age=57\\u003cbr\\u003esum of user_age=%{y}\\u003cextra\\u003e\\u003c\\u002fextra\\u003e\",\"legendgroup\":\"Albus Dumbledore, 57\",\"marker\":{\"color\":\"#FFA15A\",\"pattern\":{\"shape\":\"\"}},\"name\":\"Albus Dumbledore, 57\",\"offsetgroup\":\"Albus Dumbledore, 57\",\"orientation\":\"v\",\"showlegend\":true,\"x\":[\"Albus Dumbledore\"],\"xaxis\":\"x\",\"y\":[57],\"yaxis\":\"y\",\"type\":\"histogram\"},{\"alignmentgroup\":\"True\",\"bingroup\":\"x\",\"histfunc\":\"sum\",\"hovertemplate\":\"favourite_character=%{x}\\u003cbr\\u003euser_age=33\\u003cbr\\u003esum of user_age=%{y}\\u003cextra\\u003e\\u003c\\u002fextra\\u003e\",\"legendgroup\":\"Albus Dumbledore, 33\",\"marker\":{\"color\":\"#FFA15A\",\"pattern\":{\"shape\":\"\\\\\"}},\"name\":\"Albus Dumbledore, 33\",\"offsetgroup\":\"Albus Dumbledore, 33\",\"orientation\":\"v\",\"showlegend\":true,\"x\":[\"Albus Dumbledore\",\"Albus Dumbledore\",\"Albus Dumbledore\",\"Albus Dumbledore\"],\"xaxis\":\"x\",\"y\":[33,33,33,33],\"yaxis\":\"y\",\"type\":\"histogram\"},{\"alignmentgroup\":\"True\",\"bingroup\":\"x\",\"histfunc\":\"sum\",\"hovertemplate\":\"favourite_character=%{x}\\u003cbr\\u003euser_age=48\\u003cbr\\u003esum of user_age=%{y}\\u003cextra\\u003e\\u003c\\u002fextra\\u003e\",\"legendgroup\":\"Albus Dumbledore, 48\",\"marker\":{\"color\":\"#FFA15A\",\"pattern\":{\"shape\":\"x\"}},\"name\":\"Albus Dumbledore, 48\",\"offsetgroup\":\"Albus Dumbledore, 48\",\"orientation\":\"v\",\"showlegend\":true,\"x\":[\"Albus Dumbledore\"],\"xaxis\":\"x\",\"y\":[48],\"yaxis\":\"y\",\"type\":\"histogram\"},{\"alignmentgroup\":\"True\",\"bingroup\":\"x\",\"histfunc\":\"sum\",\"hovertemplate\":\"favourite_character=%{x}\\u003cbr\\u003euser_age=35\\u003cbr\\u003esum of user_age=%{y}\\u003cextra\\u003e\\u003c\\u002fextra\\u003e\",\"legendgroup\":\"Albus Dumbledore, 35\",\"marker\":{\"color\":\"#FFA15A\",\"pattern\":{\"shape\":\"+\"}},\"name\":\"Albus Dumbledore, 35\",\"offsetgroup\":\"Albus Dumbledore, 35\",\"orientation\":\"v\",\"showlegend\":true,\"x\":[\"Albus Dumbledore\"],\"xaxis\":\"x\",\"y\":[35],\"yaxis\":\"y\",\"type\":\"histogram\"},{\"alignmentgroup\":\"True\",\"bingroup\":\"x\",\"histfunc\":\"sum\",\"hovertemplate\":\"favourite_character=%{x}\\u003cbr\\u003euser_age=29\\u003cbr\\u003esum of user_age=%{y}\\u003cextra\\u003e\\u003c\\u002fextra\\u003e\",\"legendgroup\":\"Albus Dumbledore, 29\",\"marker\":{\"color\":\"#FFA15A\",\"pattern\":{\"shape\":\".\"}},\"name\":\"Albus Dumbledore, 29\",\"offsetgroup\":\"Albus Dumbledore, 29\",\"orientation\":\"v\",\"showlegend\":true,\"x\":[\"Albus Dumbledore\",\"Albus Dumbledore\"],\"xaxis\":\"x\",\"y\":[29,29],\"yaxis\":\"y\",\"type\":\"histogram\"},{\"alignmentgroup\":\"True\",\"bingroup\":\"x\",\"histfunc\":\"sum\",\"hovertemplate\":\"favourite_character=%{x}\\u003cbr\\u003euser_age=36\\u003cbr\\u003esum of user_age=%{y}\\u003cextra\\u003e\\u003c\\u002fextra\\u003e\",\"legendgroup\":\"Albus Dumbledore, 36\",\"marker\":{\"color\":\"#FFA15A\",\"pattern\":{\"shape\":\"\\u002f\"}},\"name\":\"Albus Dumbledore, 36\",\"offsetgroup\":\"Albus Dumbledore, 36\",\"orientation\":\"v\",\"showlegend\":true,\"x\":[\"Albus Dumbledore\",\"Albus Dumbledore\",\"Albus Dumbledore\"],\"xaxis\":\"x\",\"y\":[36,36,36],\"yaxis\":\"y\",\"type\":\"histogram\"},{\"alignmentgroup\":\"True\",\"bingroup\":\"x\",\"histfunc\":\"sum\",\"hovertemplate\":\"favourite_character=%{x}\\u003cbr\\u003euser_age=45\\u003cbr\\u003esum of user_age=%{y}\\u003cextra\\u003e\\u003c\\u002fextra\\u003e\",\"legendgroup\":\"Albus Dumbledore, 45\",\"marker\":{\"color\":\"#FFA15A\",\"pattern\":{\"shape\":\"\\\\\"}},\"name\":\"Albus Dumbledore, 45\",\"offsetgroup\":\"Albus Dumbledore, 45\",\"orientation\":\"v\",\"showlegend\":true,\"x\":[\"Albus Dumbledore\"],\"xaxis\":\"x\",\"y\":[45],\"yaxis\":\"y\",\"type\":\"histogram\"},{\"alignmentgroup\":\"True\",\"bingroup\":\"x\",\"histfunc\":\"sum\",\"hovertemplate\":\"favourite_character=%{x}\\u003cbr\\u003euser_age=53\\u003cbr\\u003esum of user_age=%{y}\\u003cextra\\u003e\\u003c\\u002fextra\\u003e\",\"legendgroup\":\"Albus Dumbledore, 53\",\"marker\":{\"color\":\"#FFA15A\",\"pattern\":{\"shape\":\"+\"}},\"name\":\"Albus Dumbledore, 53\",\"offsetgroup\":\"Albus Dumbledore, 53\",\"orientation\":\"v\",\"showlegend\":true,\"x\":[\"Albus Dumbledore\",\"Albus Dumbledore\"],\"xaxis\":\"x\",\"y\":[53,53],\"yaxis\":\"y\",\"type\":\"histogram\"},{\"alignmentgroup\":\"True\",\"bingroup\":\"x\",\"histfunc\":\"sum\",\"hovertemplate\":\"favourite_character=%{x}\\u003cbr\\u003euser_age=41\\u003cbr\\u003esum of user_age=%{y}\\u003cextra\\u003e\\u003c\\u002fextra\\u003e\",\"legendgroup\":\"Albus Dumbledore, 41\",\"marker\":{\"color\":\"#FFA15A\",\"pattern\":{\"shape\":\"\"}},\"name\":\"Albus Dumbledore, 41\",\"offsetgroup\":\"Albus Dumbledore, 41\",\"orientation\":\"v\",\"showlegend\":true,\"x\":[\"Albus Dumbledore\",\"Albus Dumbledore\",\"Albus Dumbledore\"],\"xaxis\":\"x\",\"y\":[41,41,41],\"yaxis\":\"y\",\"type\":\"histogram\"},{\"alignmentgroup\":\"True\",\"bingroup\":\"x\",\"histfunc\":\"sum\",\"hovertemplate\":\"favourite_character=%{x}\\u003cbr\\u003euser_age=13\\u003cbr\\u003esum of user_age=%{y}\\u003cextra\\u003e\\u003c\\u002fextra\\u003e\",\"legendgroup\":\"Albus Dumbledore, 13\",\"marker\":{\"color\":\"#FFA15A\",\"pattern\":{\"shape\":\"\\u002f\"}},\"name\":\"Albus Dumbledore, 13\",\"offsetgroup\":\"Albus Dumbledore, 13\",\"orientation\":\"v\",\"showlegend\":true,\"x\":[\"Albus Dumbledore\",\"Albus Dumbledore\"],\"xaxis\":\"x\",\"y\":[13,13],\"yaxis\":\"y\",\"type\":\"histogram\"},{\"alignmentgroup\":\"True\",\"bingroup\":\"x\",\"histfunc\":\"sum\",\"hovertemplate\":\"favourite_character=%{x}\\u003cbr\\u003euser_age=43\\u003cbr\\u003esum of user_age=%{y}\\u003cextra\\u003e\\u003c\\u002fextra\\u003e\",\"legendgroup\":\"Albus Dumbledore, 43\",\"marker\":{\"color\":\"#FFA15A\",\"pattern\":{\"shape\":\"x\"}},\"name\":\"Albus Dumbledore, 43\",\"offsetgroup\":\"Albus Dumbledore, 43\",\"orientation\":\"v\",\"showlegend\":true,\"x\":[\"Albus Dumbledore\",\"Albus Dumbledore\"],\"xaxis\":\"x\",\"y\":[43,43],\"yaxis\":\"y\",\"type\":\"histogram\"},{\"alignmentgroup\":\"True\",\"bingroup\":\"x\",\"histfunc\":\"sum\",\"hovertemplate\":\"favourite_character=%{x}\\u003cbr\\u003euser_age=37\\u003cbr\\u003esum of user_age=%{y}\\u003cextra\\u003e\\u003c\\u002fextra\\u003e\",\"legendgroup\":\"Albus Dumbledore, 37\",\"marker\":{\"color\":\"#FFA15A\",\"pattern\":{\"shape\":\"+\"}},\"name\":\"Albus Dumbledore, 37\",\"offsetgroup\":\"Albus Dumbledore, 37\",\"orientation\":\"v\",\"showlegend\":true,\"x\":[\"Albus Dumbledore\",\"Albus Dumbledore\"],\"xaxis\":\"x\",\"y\":[37,37],\"yaxis\":\"y\",\"type\":\"histogram\"},{\"alignmentgroup\":\"True\",\"bingroup\":\"x\",\"histfunc\":\"sum\",\"hovertemplate\":\"favourite_character=%{x}\\u003cbr\\u003euser_age=21\\u003cbr\\u003esum of user_age=%{y}\\u003cextra\\u003e\\u003c\\u002fextra\\u003e\",\"legendgroup\":\"Albus Dumbledore, 21\",\"marker\":{\"color\":\"#FFA15A\",\"pattern\":{\"shape\":\"\\\\\"}},\"name\":\"Albus Dumbledore, 21\",\"offsetgroup\":\"Albus Dumbledore, 21\",\"orientation\":\"v\",\"showlegend\":true,\"x\":[\"Albus Dumbledore\"],\"xaxis\":\"x\",\"y\":[21],\"yaxis\":\"y\",\"type\":\"histogram\"},{\"alignmentgroup\":\"True\",\"bingroup\":\"x\",\"histfunc\":\"sum\",\"hovertemplate\":\"favourite_character=%{x}\\u003cbr\\u003euser_age=14\\u003cbr\\u003esum of user_age=%{y}\\u003cextra\\u003e\\u003c\\u002fextra\\u003e\",\"legendgroup\":\"Albus Dumbledore, 14\",\"marker\":{\"color\":\"#FFA15A\",\"pattern\":{\"shape\":\"x\"}},\"name\":\"Albus Dumbledore, 14\",\"offsetgroup\":\"Albus Dumbledore, 14\",\"orientation\":\"v\",\"showlegend\":true,\"x\":[\"Albus Dumbledore\"],\"xaxis\":\"x\",\"y\":[14],\"yaxis\":\"y\",\"type\":\"histogram\"},{\"alignmentgroup\":\"True\",\"bingroup\":\"x\",\"histfunc\":\"sum\",\"hovertemplate\":\"favourite_character=%{x}\\u003cbr\\u003euser_age=50\\u003cbr\\u003esum of user_age=%{y}\\u003cextra\\u003e\\u003c\\u002fextra\\u003e\",\"legendgroup\":\"Hermione Granger, 50\",\"marker\":{\"color\":\"#19d3f3\",\"pattern\":{\"shape\":\"\"}},\"name\":\"Hermione Granger, 50\",\"offsetgroup\":\"Hermione Granger, 50\",\"orientation\":\"v\",\"showlegend\":true,\"x\":[\"Hermione Granger\",\"Hermione Granger\"],\"xaxis\":\"x\",\"y\":[50,50],\"yaxis\":\"y\",\"type\":\"histogram\"},{\"alignmentgroup\":\"True\",\"bingroup\":\"x\",\"histfunc\":\"sum\",\"hovertemplate\":\"favourite_character=%{x}\\u003cbr\\u003euser_age=23\\u003cbr\\u003esum of user_age=%{y}\\u003cextra\\u003e\\u003c\\u002fextra\\u003e\",\"legendgroup\":\"Hermione Granger, 23\",\"marker\":{\"color\":\"#19d3f3\",\"pattern\":{\"shape\":\"\\u002f\"}},\"name\":\"Hermione Granger, 23\",\"offsetgroup\":\"Hermione Granger, 23\",\"orientation\":\"v\",\"showlegend\":true,\"x\":[\"Hermione Granger\",\"Hermione Granger\",\"Hermione Granger\",\"Hermione Granger\"],\"xaxis\":\"x\",\"y\":[23,23,23,23],\"yaxis\":\"y\",\"type\":\"histogram\"},{\"alignmentgroup\":\"True\",\"bingroup\":\"x\",\"histfunc\":\"sum\",\"hovertemplate\":\"favourite_character=%{x}\\u003cbr\\u003euser_age=24\\u003cbr\\u003esum of user_age=%{y}\\u003cextra\\u003e\\u003c\\u002fextra\\u003e\",\"legendgroup\":\"Hermione Granger, 24\",\"marker\":{\"color\":\"#19d3f3\",\"pattern\":{\"shape\":\"x\"}},\"name\":\"Hermione Granger, 24\",\"offsetgroup\":\"Hermione Granger, 24\",\"orientation\":\"v\",\"showlegend\":true,\"x\":[\"Hermione Granger\"],\"xaxis\":\"x\",\"y\":[24],\"yaxis\":\"y\",\"type\":\"histogram\"},{\"alignmentgroup\":\"True\",\"bingroup\":\"x\",\"histfunc\":\"sum\",\"hovertemplate\":\"favourite_character=%{x}\\u003cbr\\u003euser_age=40\\u003cbr\\u003esum of user_age=%{y}\\u003cextra\\u003e\\u003c\\u002fextra\\u003e\",\"legendgroup\":\"Hermione Granger, 40\",\"marker\":{\"color\":\"#19d3f3\",\"pattern\":{\"shape\":\"+\"}},\"name\":\"Hermione Granger, 40\",\"offsetgroup\":\"Hermione Granger, 40\",\"orientation\":\"v\",\"showlegend\":true,\"x\":[\"Hermione Granger\"],\"xaxis\":\"x\",\"y\":[40],\"yaxis\":\"y\",\"type\":\"histogram\"},{\"alignmentgroup\":\"True\",\"bingroup\":\"x\",\"histfunc\":\"sum\",\"hovertemplate\":\"favourite_character=%{x}\\u003cbr\\u003euser_age=16\\u003cbr\\u003esum of user_age=%{y}\\u003cextra\\u003e\\u003c\\u002fextra\\u003e\",\"legendgroup\":\"Hermione Granger, 16\",\"marker\":{\"color\":\"#19d3f3\",\"pattern\":{\"shape\":\".\"}},\"name\":\"Hermione Granger, 16\",\"offsetgroup\":\"Hermione Granger, 16\",\"orientation\":\"v\",\"showlegend\":true,\"x\":[\"Hermione Granger\"],\"xaxis\":\"x\",\"y\":[16],\"yaxis\":\"y\",\"type\":\"histogram\"},{\"alignmentgroup\":\"True\",\"bingroup\":\"x\",\"histfunc\":\"sum\",\"hovertemplate\":\"favourite_character=%{x}\\u003cbr\\u003euser_age=26\\u003cbr\\u003esum of user_age=%{y}\\u003cextra\\u003e\\u003c\\u002fextra\\u003e\",\"legendgroup\":\"Hermione Granger, 26\",\"marker\":{\"color\":\"#19d3f3\",\"pattern\":{\"shape\":\"\"}},\"name\":\"Hermione Granger, 26\",\"offsetgroup\":\"Hermione Granger, 26\",\"orientation\":\"v\",\"showlegend\":true,\"x\":[\"Hermione Granger\",\"Hermione Granger\",\"Hermione Granger\"],\"xaxis\":\"x\",\"y\":[26,26,26],\"yaxis\":\"y\",\"type\":\"histogram\"},{\"alignmentgroup\":\"True\",\"bingroup\":\"x\",\"histfunc\":\"sum\",\"hovertemplate\":\"favourite_character=%{x}\\u003cbr\\u003euser_age=28\\u003cbr\\u003esum of user_age=%{y}\\u003cextra\\u003e\\u003c\\u002fextra\\u003e\",\"legendgroup\":\"Hermione Granger, 28\",\"marker\":{\"color\":\"#19d3f3\",\"pattern\":{\"shape\":\"\\u002f\"}},\"name\":\"Hermione Granger, 28\",\"offsetgroup\":\"Hermione Granger, 28\",\"orientation\":\"v\",\"showlegend\":true,\"x\":[\"Hermione Granger\",\"Hermione Granger\"],\"xaxis\":\"x\",\"y\":[28,28],\"yaxis\":\"y\",\"type\":\"histogram\"},{\"alignmentgroup\":\"True\",\"bingroup\":\"x\",\"histfunc\":\"sum\",\"hovertemplate\":\"favourite_character=%{x}\\u003cbr\\u003euser_age=52\\u003cbr\\u003esum of user_age=%{y}\\u003cextra\\u003e\\u003c\\u002fextra\\u003e\",\"legendgroup\":\"Hermione Granger, 52\",\"marker\":{\"color\":\"#19d3f3\",\"pattern\":{\"shape\":\"\\\\\"}},\"name\":\"Hermione Granger, 52\",\"offsetgroup\":\"Hermione Granger, 52\",\"orientation\":\"v\",\"showlegend\":true,\"x\":[\"Hermione Granger\"],\"xaxis\":\"x\",\"y\":[52],\"yaxis\":\"y\",\"type\":\"histogram\"},{\"alignmentgroup\":\"True\",\"bingroup\":\"x\",\"histfunc\":\"sum\",\"hovertemplate\":\"favourite_character=%{x}\\u003cbr\\u003euser_age=46\\u003cbr\\u003esum of user_age=%{y}\\u003cextra\\u003e\\u003c\\u002fextra\\u003e\",\"legendgroup\":\"Hermione Granger, 46\",\"marker\":{\"color\":\"#19d3f3\",\"pattern\":{\"shape\":\"x\"}},\"name\":\"Hermione Granger, 46\",\"offsetgroup\":\"Hermione Granger, 46\",\"orientation\":\"v\",\"showlegend\":true,\"x\":[\"Hermione Granger\",\"Hermione Granger\",\"Hermione Granger\",\"Hermione Granger\",\"Hermione Granger\"],\"xaxis\":\"x\",\"y\":[46,46,46,46,46],\"yaxis\":\"y\",\"type\":\"histogram\"},{\"alignmentgroup\":\"True\",\"bingroup\":\"x\",\"histfunc\":\"sum\",\"hovertemplate\":\"favourite_character=%{x}\\u003cbr\\u003euser_age=34\\u003cbr\\u003esum of user_age=%{y}\\u003cextra\\u003e\\u003c\\u002fextra\\u003e\",\"legendgroup\":\"Hermione Granger, 34\",\"marker\":{\"color\":\"#19d3f3\",\"pattern\":{\"shape\":\"+\"}},\"name\":\"Hermione Granger, 34\",\"offsetgroup\":\"Hermione Granger, 34\",\"orientation\":\"v\",\"showlegend\":true,\"x\":[\"Hermione Granger\",\"Hermione Granger\",\"Hermione Granger\"],\"xaxis\":\"x\",\"y\":[34,34,34],\"yaxis\":\"y\",\"type\":\"histogram\"},{\"alignmentgroup\":\"True\",\"bingroup\":\"x\",\"histfunc\":\"sum\",\"hovertemplate\":\"favourite_character=%{x}\\u003cbr\\u003euser_age=51\\u003cbr\\u003esum of user_age=%{y}\\u003cextra\\u003e\\u003c\\u002fextra\\u003e\",\"legendgroup\":\"Hermione Granger, 51\",\"marker\":{\"color\":\"#19d3f3\",\"pattern\":{\"shape\":\".\"}},\"name\":\"Hermione Granger, 51\",\"offsetgroup\":\"Hermione Granger, 51\",\"orientation\":\"v\",\"showlegend\":true,\"x\":[\"Hermione Granger\",\"Hermione Granger\"],\"xaxis\":\"x\",\"y\":[51,51],\"yaxis\":\"y\",\"type\":\"histogram\"},{\"alignmentgroup\":\"True\",\"bingroup\":\"x\",\"histfunc\":\"sum\",\"hovertemplate\":\"favourite_character=%{x}\\u003cbr\\u003euser_age=38\\u003cbr\\u003esum of user_age=%{y}\\u003cextra\\u003e\\u003c\\u002fextra\\u003e\",\"legendgroup\":\"Hermione Granger, 38\",\"marker\":{\"color\":\"#19d3f3\",\"pattern\":{\"shape\":\"\"}},\"name\":\"Hermione Granger, 38\",\"offsetgroup\":\"Hermione Granger, 38\",\"orientation\":\"v\",\"showlegend\":true,\"x\":[\"Hermione Granger\",\"Hermione Granger\",\"Hermione Granger\",\"Hermione Granger\"],\"xaxis\":\"x\",\"y\":[38,38,38,38],\"yaxis\":\"y\",\"type\":\"histogram\"},{\"alignmentgroup\":\"True\",\"bingroup\":\"x\",\"histfunc\":\"sum\",\"hovertemplate\":\"favourite_character=%{x}\\u003cbr\\u003euser_age=47\\u003cbr\\u003esum of user_age=%{y}\\u003cextra\\u003e\\u003c\\u002fextra\\u003e\",\"legendgroup\":\"Hermione Granger, 47\",\"marker\":{\"color\":\"#19d3f3\",\"pattern\":{\"shape\":\"\\u002f\"}},\"name\":\"Hermione Granger, 47\",\"offsetgroup\":\"Hermione Granger, 47\",\"orientation\":\"v\",\"showlegend\":true,\"x\":[\"Hermione Granger\",\"Hermione Granger\"],\"xaxis\":\"x\",\"y\":[47,47],\"yaxis\":\"y\",\"type\":\"histogram\"},{\"alignmentgroup\":\"True\",\"bingroup\":\"x\",\"histfunc\":\"sum\",\"hovertemplate\":\"favourite_character=%{x}\\u003cbr\\u003euser_age=39\\u003cbr\\u003esum of user_age=%{y}\\u003cextra\\u003e\\u003c\\u002fextra\\u003e\",\"legendgroup\":\"Hermione Granger, 39\",\"marker\":{\"color\":\"#19d3f3\",\"pattern\":{\"shape\":\"\\\\\"}},\"name\":\"Hermione Granger, 39\",\"offsetgroup\":\"Hermione Granger, 39\",\"orientation\":\"v\",\"showlegend\":true,\"x\":[\"Hermione Granger\"],\"xaxis\":\"x\",\"y\":[39],\"yaxis\":\"y\",\"type\":\"histogram\"},{\"alignmentgroup\":\"True\",\"bingroup\":\"x\",\"histfunc\":\"sum\",\"hovertemplate\":\"favourite_character=%{x}\\u003cbr\\u003euser_age=20\\u003cbr\\u003esum of user_age=%{y}\\u003cextra\\u003e\\u003c\\u002fextra\\u003e\",\"legendgroup\":\"Hermione Granger, 20\",\"marker\":{\"color\":\"#19d3f3\",\"pattern\":{\"shape\":\"x\"}},\"name\":\"Hermione Granger, 20\",\"offsetgroup\":\"Hermione Granger, 20\",\"orientation\":\"v\",\"showlegend\":true,\"x\":[\"Hermione Granger\"],\"xaxis\":\"x\",\"y\":[20],\"yaxis\":\"y\",\"type\":\"histogram\"},{\"alignmentgroup\":\"True\",\"bingroup\":\"x\",\"histfunc\":\"sum\",\"hovertemplate\":\"favourite_character=%{x}\\u003cbr\\u003euser_age=31\\u003cbr\\u003esum of user_age=%{y}\\u003cextra\\u003e\\u003c\\u002fextra\\u003e\",\"legendgroup\":\"Hermione Granger, 31\",\"marker\":{\"color\":\"#19d3f3\",\"pattern\":{\"shape\":\"+\"}},\"name\":\"Hermione Granger, 31\",\"offsetgroup\":\"Hermione Granger, 31\",\"orientation\":\"v\",\"showlegend\":true,\"x\":[\"Hermione Granger\",\"Hermione Granger\",\"Hermione Granger\",\"Hermione Granger\"],\"xaxis\":\"x\",\"y\":[31,31,31,31],\"yaxis\":\"y\",\"type\":\"histogram\"},{\"alignmentgroup\":\"True\",\"bingroup\":\"x\",\"histfunc\":\"sum\",\"hovertemplate\":\"favourite_character=%{x}\\u003cbr\\u003euser_age=22\\u003cbr\\u003esum of user_age=%{y}\\u003cextra\\u003e\\u003c\\u002fextra\\u003e\",\"legendgroup\":\"Hermione Granger, 22\",\"marker\":{\"color\":\"#19d3f3\",\"pattern\":{\"shape\":\".\"}},\"name\":\"Hermione Granger, 22\",\"offsetgroup\":\"Hermione Granger, 22\",\"orientation\":\"v\",\"showlegend\":true,\"x\":[\"Hermione Granger\"],\"xaxis\":\"x\",\"y\":[22],\"yaxis\":\"y\",\"type\":\"histogram\"},{\"alignmentgroup\":\"True\",\"bingroup\":\"x\",\"histfunc\":\"sum\",\"hovertemplate\":\"favourite_character=%{x}\\u003cbr\\u003euser_age=30\\u003cbr\\u003esum of user_age=%{y}\\u003cextra\\u003e\\u003c\\u002fextra\\u003e\",\"legendgroup\":\"Hermione Granger, 30\",\"marker\":{\"color\":\"#19d3f3\",\"pattern\":{\"shape\":\"\\u002f\"}},\"name\":\"Hermione Granger, 30\",\"offsetgroup\":\"Hermione Granger, 30\",\"orientation\":\"v\",\"showlegend\":true,\"x\":[\"Hermione Granger\",\"Hermione Granger\",\"Hermione Granger\",\"Hermione Granger\",\"Hermione Granger\"],\"xaxis\":\"x\",\"y\":[30,30,30,30,30],\"yaxis\":\"y\",\"type\":\"histogram\"},{\"alignmentgroup\":\"True\",\"bingroup\":\"x\",\"histfunc\":\"sum\",\"hovertemplate\":\"favourite_character=%{x}\\u003cbr\\u003euser_age=33\\u003cbr\\u003esum of user_age=%{y}\\u003cextra\\u003e\\u003c\\u002fextra\\u003e\",\"legendgroup\":\"Hermione Granger, 33\",\"marker\":{\"color\":\"#19d3f3\",\"pattern\":{\"shape\":\"\\\\\"}},\"name\":\"Hermione Granger, 33\",\"offsetgroup\":\"Hermione Granger, 33\",\"orientation\":\"v\",\"showlegend\":true,\"x\":[\"Hermione Granger\",\"Hermione Granger\",\"Hermione Granger\"],\"xaxis\":\"x\",\"y\":[33,33,33],\"yaxis\":\"y\",\"type\":\"histogram\"},{\"alignmentgroup\":\"True\",\"bingroup\":\"x\",\"histfunc\":\"sum\",\"hovertemplate\":\"favourite_character=%{x}\\u003cbr\\u003euser_age=48\\u003cbr\\u003esum of user_age=%{y}\\u003cextra\\u003e\\u003c\\u002fextra\\u003e\",\"legendgroup\":\"Hermione Granger, 48\",\"marker\":{\"color\":\"#19d3f3\",\"pattern\":{\"shape\":\"x\"}},\"name\":\"Hermione Granger, 48\",\"offsetgroup\":\"Hermione Granger, 48\",\"orientation\":\"v\",\"showlegend\":true,\"x\":[\"Hermione Granger\"],\"xaxis\":\"x\",\"y\":[48],\"yaxis\":\"y\",\"type\":\"histogram\"},{\"alignmentgroup\":\"True\",\"bingroup\":\"x\",\"histfunc\":\"sum\",\"hovertemplate\":\"favourite_character=%{x}\\u003cbr\\u003euser_age=29\\u003cbr\\u003esum of user_age=%{y}\\u003cextra\\u003e\\u003c\\u002fextra\\u003e\",\"legendgroup\":\"Hermione Granger, 29\",\"marker\":{\"color\":\"#19d3f3\",\"pattern\":{\"shape\":\".\"}},\"name\":\"Hermione Granger, 29\",\"offsetgroup\":\"Hermione Granger, 29\",\"orientation\":\"v\",\"showlegend\":true,\"x\":[\"Hermione Granger\",\"Hermione Granger\",\"Hermione Granger\"],\"xaxis\":\"x\",\"y\":[29,29,29],\"yaxis\":\"y\",\"type\":\"histogram\"},{\"alignmentgroup\":\"True\",\"bingroup\":\"x\",\"histfunc\":\"sum\",\"hovertemplate\":\"favourite_character=%{x}\\u003cbr\\u003euser_age=44\\u003cbr\\u003esum of user_age=%{y}\\u003cextra\\u003e\\u003c\\u002fextra\\u003e\",\"legendgroup\":\"Hermione Granger, 44\",\"marker\":{\"color\":\"#19d3f3\",\"pattern\":{\"shape\":\"\"}},\"name\":\"Hermione Granger, 44\",\"offsetgroup\":\"Hermione Granger, 44\",\"orientation\":\"v\",\"showlegend\":true,\"x\":[\"Hermione Granger\"],\"xaxis\":\"x\",\"y\":[44],\"yaxis\":\"y\",\"type\":\"histogram\"},{\"alignmentgroup\":\"True\",\"bingroup\":\"x\",\"histfunc\":\"sum\",\"hovertemplate\":\"favourite_character=%{x}\\u003cbr\\u003euser_age=36\\u003cbr\\u003esum of user_age=%{y}\\u003cextra\\u003e\\u003c\\u002fextra\\u003e\",\"legendgroup\":\"Hermione Granger, 36\",\"marker\":{\"color\":\"#19d3f3\",\"pattern\":{\"shape\":\"\\u002f\"}},\"name\":\"Hermione Granger, 36\",\"offsetgroup\":\"Hermione Granger, 36\",\"orientation\":\"v\",\"showlegend\":true,\"x\":[\"Hermione Granger\",\"Hermione Granger\",\"Hermione Granger\"],\"xaxis\":\"x\",\"y\":[36,36,36],\"yaxis\":\"y\",\"type\":\"histogram\"},{\"alignmentgroup\":\"True\",\"bingroup\":\"x\",\"histfunc\":\"sum\",\"hovertemplate\":\"favourite_character=%{x}\\u003cbr\\u003euser_age=45\\u003cbr\\u003esum of user_age=%{y}\\u003cextra\\u003e\\u003c\\u002fextra\\u003e\",\"legendgroup\":\"Hermione Granger, 45\",\"marker\":{\"color\":\"#19d3f3\",\"pattern\":{\"shape\":\"\\\\\"}},\"name\":\"Hermione Granger, 45\",\"offsetgroup\":\"Hermione Granger, 45\",\"orientation\":\"v\",\"showlegend\":true,\"x\":[\"Hermione Granger\"],\"xaxis\":\"x\",\"y\":[45],\"yaxis\":\"y\",\"type\":\"histogram\"},{\"alignmentgroup\":\"True\",\"bingroup\":\"x\",\"histfunc\":\"sum\",\"hovertemplate\":\"favourite_character=%{x}\\u003cbr\\u003euser_age=25\\u003cbr\\u003esum of user_age=%{y}\\u003cextra\\u003e\\u003c\\u002fextra\\u003e\",\"legendgroup\":\"Hermione Granger, 25\",\"marker\":{\"color\":\"#19d3f3\",\"pattern\":{\"shape\":\"x\"}},\"name\":\"Hermione Granger, 25\",\"offsetgroup\":\"Hermione Granger, 25\",\"orientation\":\"v\",\"showlegend\":true,\"x\":[\"Hermione Granger\",\"Hermione Granger\"],\"xaxis\":\"x\",\"y\":[25,25],\"yaxis\":\"y\",\"type\":\"histogram\"},{\"alignmentgroup\":\"True\",\"bingroup\":\"x\",\"histfunc\":\"sum\",\"hovertemplate\":\"favourite_character=%{x}\\u003cbr\\u003euser_age=53\\u003cbr\\u003esum of user_age=%{y}\\u003cextra\\u003e\\u003c\\u002fextra\\u003e\",\"legendgroup\":\"Hermione Granger, 53\",\"marker\":{\"color\":\"#19d3f3\",\"pattern\":{\"shape\":\"+\"}},\"name\":\"Hermione Granger, 53\",\"offsetgroup\":\"Hermione Granger, 53\",\"orientation\":\"v\",\"showlegend\":true,\"x\":[\"Hermione Granger\"],\"xaxis\":\"x\",\"y\":[53],\"yaxis\":\"y\",\"type\":\"histogram\"},{\"alignmentgroup\":\"True\",\"bingroup\":\"x\",\"histfunc\":\"sum\",\"hovertemplate\":\"favourite_character=%{x}\\u003cbr\\u003euser_age=19\\u003cbr\\u003esum of user_age=%{y}\\u003cextra\\u003e\\u003c\\u002fextra\\u003e\",\"legendgroup\":\"Hermione Granger, 19\",\"marker\":{\"color\":\"#19d3f3\",\"pattern\":{\"shape\":\".\"}},\"name\":\"Hermione Granger, 19\",\"offsetgroup\":\"Hermione Granger, 19\",\"orientation\":\"v\",\"showlegend\":true,\"x\":[\"Hermione Granger\",\"Hermione Granger\"],\"xaxis\":\"x\",\"y\":[19,19],\"yaxis\":\"y\",\"type\":\"histogram\"},{\"alignmentgroup\":\"True\",\"bingroup\":\"x\",\"histfunc\":\"sum\",\"hovertemplate\":\"favourite_character=%{x}\\u003cbr\\u003euser_age=41\\u003cbr\\u003esum of user_age=%{y}\\u003cextra\\u003e\\u003c\\u002fextra\\u003e\",\"legendgroup\":\"Hermione Granger, 41\",\"marker\":{\"color\":\"#19d3f3\",\"pattern\":{\"shape\":\"\"}},\"name\":\"Hermione Granger, 41\",\"offsetgroup\":\"Hermione Granger, 41\",\"orientation\":\"v\",\"showlegend\":true,\"x\":[\"Hermione Granger\",\"Hermione Granger\",\"Hermione Granger\"],\"xaxis\":\"x\",\"y\":[41,41,41],\"yaxis\":\"y\",\"type\":\"histogram\"},{\"alignmentgroup\":\"True\",\"bingroup\":\"x\",\"histfunc\":\"sum\",\"hovertemplate\":\"favourite_character=%{x}\\u003cbr\\u003euser_age=60\\u003cbr\\u003esum of user_age=%{y}\\u003cextra\\u003e\\u003c\\u002fextra\\u003e\",\"legendgroup\":\"Hermione Granger, 60\",\"marker\":{\"color\":\"#19d3f3\",\"pattern\":{\"shape\":\"\\u002f\"}},\"name\":\"Hermione Granger, 60\",\"offsetgroup\":\"Hermione Granger, 60\",\"orientation\":\"v\",\"showlegend\":true,\"x\":[\"Hermione Granger\",\"Hermione Granger\"],\"xaxis\":\"x\",\"y\":[60,60],\"yaxis\":\"y\",\"type\":\"histogram\"},{\"alignmentgroup\":\"True\",\"bingroup\":\"x\",\"histfunc\":\"sum\",\"hovertemplate\":\"favourite_character=%{x}\\u003cbr\\u003euser_age=10\\u003cbr\\u003esum of user_age=%{y}\\u003cextra\\u003e\\u003c\\u002fextra\\u003e\",\"legendgroup\":\"Hermione Granger, 10\",\"marker\":{\"color\":\"#19d3f3\",\"pattern\":{\"shape\":\"\\\\\"}},\"name\":\"Hermione Granger, 10\",\"offsetgroup\":\"Hermione Granger, 10\",\"orientation\":\"v\",\"showlegend\":true,\"x\":[\"Hermione Granger\"],\"xaxis\":\"x\",\"y\":[10],\"yaxis\":\"y\",\"type\":\"histogram\"},{\"alignmentgroup\":\"True\",\"bingroup\":\"x\",\"histfunc\":\"sum\",\"hovertemplate\":\"favourite_character=%{x}\\u003cbr\\u003euser_age=18\\u003cbr\\u003esum of user_age=%{y}\\u003cextra\\u003e\\u003c\\u002fextra\\u003e\",\"legendgroup\":\"Hermione Granger, 18\",\"marker\":{\"color\":\"#19d3f3\",\"pattern\":{\"shape\":\".\"}},\"name\":\"Hermione Granger, 18\",\"offsetgroup\":\"Hermione Granger, 18\",\"orientation\":\"v\",\"showlegend\":true,\"x\":[\"Hermione Granger\"],\"xaxis\":\"x\",\"y\":[18],\"yaxis\":\"y\",\"type\":\"histogram\"},{\"alignmentgroup\":\"True\",\"bingroup\":\"x\",\"histfunc\":\"sum\",\"hovertemplate\":\"favourite_character=%{x}\\u003cbr\\u003euser_age=13\\u003cbr\\u003esum of user_age=%{y}\\u003cextra\\u003e\\u003c\\u002fextra\\u003e\",\"legendgroup\":\"Hermione Granger, 13\",\"marker\":{\"color\":\"#19d3f3\",\"pattern\":{\"shape\":\"\\u002f\"}},\"name\":\"Hermione Granger, 13\",\"offsetgroup\":\"Hermione Granger, 13\",\"orientation\":\"v\",\"showlegend\":true,\"x\":[\"Hermione Granger\"],\"xaxis\":\"x\",\"y\":[13],\"yaxis\":\"y\",\"type\":\"histogram\"},{\"alignmentgroup\":\"True\",\"bingroup\":\"x\",\"histfunc\":\"sum\",\"hovertemplate\":\"favourite_character=%{x}\\u003cbr\\u003euser_age=42\\u003cbr\\u003esum of user_age=%{y}\\u003cextra\\u003e\\u003c\\u002fextra\\u003e\",\"legendgroup\":\"Hermione Granger, 42\",\"marker\":{\"color\":\"#19d3f3\",\"pattern\":{\"shape\":\"\\\\\"}},\"name\":\"Hermione Granger, 42\",\"offsetgroup\":\"Hermione Granger, 42\",\"orientation\":\"v\",\"showlegend\":true,\"x\":[\"Hermione Granger\",\"Hermione Granger\"],\"xaxis\":\"x\",\"y\":[42,42],\"yaxis\":\"y\",\"type\":\"histogram\"},{\"alignmentgroup\":\"True\",\"bingroup\":\"x\",\"histfunc\":\"sum\",\"hovertemplate\":\"favourite_character=%{x}\\u003cbr\\u003euser_age=43\\u003cbr\\u003esum of user_age=%{y}\\u003cextra\\u003e\\u003c\\u002fextra\\u003e\",\"legendgroup\":\"Hermione Granger, 43\",\"marker\":{\"color\":\"#19d3f3\",\"pattern\":{\"shape\":\"x\"}},\"name\":\"Hermione Granger, 43\",\"offsetgroup\":\"Hermione Granger, 43\",\"orientation\":\"v\",\"showlegend\":true,\"x\":[\"Hermione Granger\"],\"xaxis\":\"x\",\"y\":[43],\"yaxis\":\"y\",\"type\":\"histogram\"},{\"alignmentgroup\":\"True\",\"bingroup\":\"x\",\"histfunc\":\"sum\",\"hovertemplate\":\"favourite_character=%{x}\\u003cbr\\u003euser_age=37\\u003cbr\\u003esum of user_age=%{y}\\u003cextra\\u003e\\u003c\\u002fextra\\u003e\",\"legendgroup\":\"Hermione Granger, 37\",\"marker\":{\"color\":\"#19d3f3\",\"pattern\":{\"shape\":\"+\"}},\"name\":\"Hermione Granger, 37\",\"offsetgroup\":\"Hermione Granger, 37\",\"orientation\":\"v\",\"showlegend\":true,\"x\":[\"Hermione Granger\",\"Hermione Granger\",\"Hermione Granger\"],\"xaxis\":\"x\",\"y\":[37,37,37],\"yaxis\":\"y\",\"type\":\"histogram\"},{\"alignmentgroup\":\"True\",\"bingroup\":\"x\",\"histfunc\":\"sum\",\"hovertemplate\":\"favourite_character=%{x}\\u003cbr\\u003euser_age=55\\u003cbr\\u003esum of user_age=%{y}\\u003cextra\\u003e\\u003c\\u002fextra\\u003e\",\"legendgroup\":\"Hermione Granger, 55\",\"marker\":{\"color\":\"#19d3f3\",\"pattern\":{\"shape\":\"\"}},\"name\":\"Hermione Granger, 55\",\"offsetgroup\":\"Hermione Granger, 55\",\"orientation\":\"v\",\"showlegend\":true,\"x\":[\"Hermione Granger\"],\"xaxis\":\"x\",\"y\":[55],\"yaxis\":\"y\",\"type\":\"histogram\"},{\"alignmentgroup\":\"True\",\"bingroup\":\"x\",\"histfunc\":\"sum\",\"hovertemplate\":\"favourite_character=%{x}\\u003cbr\\u003euser_age=21\\u003cbr\\u003esum of user_age=%{y}\\u003cextra\\u003e\\u003c\\u002fextra\\u003e\",\"legendgroup\":\"Hermione Granger, 21\",\"marker\":{\"color\":\"#19d3f3\",\"pattern\":{\"shape\":\"\\\\\"}},\"name\":\"Hermione Granger, 21\",\"offsetgroup\":\"Hermione Granger, 21\",\"orientation\":\"v\",\"showlegend\":true,\"x\":[\"Hermione Granger\"],\"xaxis\":\"x\",\"y\":[21],\"yaxis\":\"y\",\"type\":\"histogram\"},{\"alignmentgroup\":\"True\",\"bingroup\":\"x\",\"histfunc\":\"sum\",\"hovertemplate\":\"favourite_character=%{x}\\u003cbr\\u003euser_age=64\\u003cbr\\u003esum of user_age=%{y}\\u003cextra\\u003e\\u003c\\u002fextra\\u003e\",\"legendgroup\":\"Hermione Granger, 64\",\"marker\":{\"color\":\"#19d3f3\",\"pattern\":{\"shape\":\".\"}},\"name\":\"Hermione Granger, 64\",\"offsetgroup\":\"Hermione Granger, 64\",\"orientation\":\"v\",\"showlegend\":true,\"x\":[\"Hermione Granger\"],\"xaxis\":\"x\",\"y\":[64],\"yaxis\":\"y\",\"type\":\"histogram\"},{\"alignmentgroup\":\"True\",\"bingroup\":\"x\",\"histfunc\":\"sum\",\"hovertemplate\":\"favourite_character=%{x}\\u003cbr\\u003euser_age=63\\u003cbr\\u003esum of user_age=%{y}\\u003cextra\\u003e\\u003c\\u002fextra\\u003e\",\"legendgroup\":\"Hermione Granger, 63\",\"marker\":{\"color\":\"#19d3f3\",\"pattern\":{\"shape\":\"x\"}},\"name\":\"Hermione Granger, 63\",\"offsetgroup\":\"Hermione Granger, 63\",\"orientation\":\"v\",\"showlegend\":true,\"x\":[\"Hermione Granger\"],\"xaxis\":\"x\",\"y\":[63],\"yaxis\":\"y\",\"type\":\"histogram\"},{\"alignmentgroup\":\"True\",\"bingroup\":\"x\",\"histfunc\":\"sum\",\"hovertemplate\":\"favourite_character=%{x}\\u003cbr\\u003euser_age=23\\u003cbr\\u003esum of user_age=%{y}\\u003cextra\\u003e\\u003c\\u002fextra\\u003e\",\"legendgroup\":\"Harry Potter, 23\",\"marker\":{\"color\":\"#FF6692\",\"pattern\":{\"shape\":\"\\u002f\"}},\"name\":\"Harry Potter, 23\",\"offsetgroup\":\"Harry Potter, 23\",\"orientation\":\"v\",\"showlegend\":true,\"x\":[\"Harry Potter\"],\"xaxis\":\"x\",\"y\":[23],\"yaxis\":\"y\",\"type\":\"histogram\"},{\"alignmentgroup\":\"True\",\"bingroup\":\"x\",\"histfunc\":\"sum\",\"hovertemplate\":\"favourite_character=%{x}\\u003cbr\\u003euser_age=32\\u003cbr\\u003esum of user_age=%{y}\\u003cextra\\u003e\\u003c\\u002fextra\\u003e\",\"legendgroup\":\"Harry Potter, 32\",\"marker\":{\"color\":\"#FF6692\",\"pattern\":{\"shape\":\"\\\\\"}},\"name\":\"Harry Potter, 32\",\"offsetgroup\":\"Harry Potter, 32\",\"orientation\":\"v\",\"showlegend\":true,\"x\":[\"Harry Potter\",\"Harry Potter\",\"Harry Potter\"],\"xaxis\":\"x\",\"y\":[32,32,32],\"yaxis\":\"y\",\"type\":\"histogram\"},{\"alignmentgroup\":\"True\",\"bingroup\":\"x\",\"histfunc\":\"sum\",\"hovertemplate\":\"favourite_character=%{x}\\u003cbr\\u003euser_age=24\\u003cbr\\u003esum of user_age=%{y}\\u003cextra\\u003e\\u003c\\u002fextra\\u003e\",\"legendgroup\":\"Harry Potter, 24\",\"marker\":{\"color\":\"#FF6692\",\"pattern\":{\"shape\":\"x\"}},\"name\":\"Harry Potter, 24\",\"offsetgroup\":\"Harry Potter, 24\",\"orientation\":\"v\",\"showlegend\":true,\"x\":[\"Harry Potter\",\"Harry Potter\"],\"xaxis\":\"x\",\"y\":[24,24],\"yaxis\":\"y\",\"type\":\"histogram\"},{\"alignmentgroup\":\"True\",\"bingroup\":\"x\",\"histfunc\":\"sum\",\"hovertemplate\":\"favourite_character=%{x}\\u003cbr\\u003euser_age=40\\u003cbr\\u003esum of user_age=%{y}\\u003cextra\\u003e\\u003c\\u002fextra\\u003e\",\"legendgroup\":\"Harry Potter, 40\",\"marker\":{\"color\":\"#FF6692\",\"pattern\":{\"shape\":\"+\"}},\"name\":\"Harry Potter, 40\",\"offsetgroup\":\"Harry Potter, 40\",\"orientation\":\"v\",\"showlegend\":true,\"x\":[\"Harry Potter\",\"Harry Potter\",\"Harry Potter\"],\"xaxis\":\"x\",\"y\":[40,40,40],\"yaxis\":\"y\",\"type\":\"histogram\"},{\"alignmentgroup\":\"True\",\"bingroup\":\"x\",\"histfunc\":\"sum\",\"hovertemplate\":\"favourite_character=%{x}\\u003cbr\\u003euser_age=16\\u003cbr\\u003esum of user_age=%{y}\\u003cextra\\u003e\\u003c\\u002fextra\\u003e\",\"legendgroup\":\"Harry Potter, 16\",\"marker\":{\"color\":\"#FF6692\",\"pattern\":{\"shape\":\".\"}},\"name\":\"Harry Potter, 16\",\"offsetgroup\":\"Harry Potter, 16\",\"orientation\":\"v\",\"showlegend\":true,\"x\":[\"Harry Potter\"],\"xaxis\":\"x\",\"y\":[16],\"yaxis\":\"y\",\"type\":\"histogram\"},{\"alignmentgroup\":\"True\",\"bingroup\":\"x\",\"histfunc\":\"sum\",\"hovertemplate\":\"favourite_character=%{x}\\u003cbr\\u003euser_age=28\\u003cbr\\u003esum of user_age=%{y}\\u003cextra\\u003e\\u003c\\u002fextra\\u003e\",\"legendgroup\":\"Harry Potter, 28\",\"marker\":{\"color\":\"#FF6692\",\"pattern\":{\"shape\":\"\\u002f\"}},\"name\":\"Harry Potter, 28\",\"offsetgroup\":\"Harry Potter, 28\",\"orientation\":\"v\",\"showlegend\":true,\"x\":[\"Harry Potter\",\"Harry Potter\"],\"xaxis\":\"x\",\"y\":[28,28],\"yaxis\":\"y\",\"type\":\"histogram\"},{\"alignmentgroup\":\"True\",\"bingroup\":\"x\",\"histfunc\":\"sum\",\"hovertemplate\":\"favourite_character=%{x}\\u003cbr\\u003euser_age=52\\u003cbr\\u003esum of user_age=%{y}\\u003cextra\\u003e\\u003c\\u002fextra\\u003e\",\"legendgroup\":\"Harry Potter, 52\",\"marker\":{\"color\":\"#FF6692\",\"pattern\":{\"shape\":\"\\\\\"}},\"name\":\"Harry Potter, 52\",\"offsetgroup\":\"Harry Potter, 52\",\"orientation\":\"v\",\"showlegend\":true,\"x\":[\"Harry Potter\"],\"xaxis\":\"x\",\"y\":[52],\"yaxis\":\"y\",\"type\":\"histogram\"},{\"alignmentgroup\":\"True\",\"bingroup\":\"x\",\"histfunc\":\"sum\",\"hovertemplate\":\"favourite_character=%{x}\\u003cbr\\u003euser_age=46\\u003cbr\\u003esum of user_age=%{y}\\u003cextra\\u003e\\u003c\\u002fextra\\u003e\",\"legendgroup\":\"Harry Potter, 46\",\"marker\":{\"color\":\"#FF6692\",\"pattern\":{\"shape\":\"x\"}},\"name\":\"Harry Potter, 46\",\"offsetgroup\":\"Harry Potter, 46\",\"orientation\":\"v\",\"showlegend\":true,\"x\":[\"Harry Potter\",\"Harry Potter\",\"Harry Potter\",\"Harry Potter\",\"Harry Potter\"],\"xaxis\":\"x\",\"y\":[46,46,46,46,46],\"yaxis\":\"y\",\"type\":\"histogram\"},{\"alignmentgroup\":\"True\",\"bingroup\":\"x\",\"histfunc\":\"sum\",\"hovertemplate\":\"favourite_character=%{x}\\u003cbr\\u003euser_age=34\\u003cbr\\u003esum of user_age=%{y}\\u003cextra\\u003e\\u003c\\u002fextra\\u003e\",\"legendgroup\":\"Harry Potter, 34\",\"marker\":{\"color\":\"#FF6692\",\"pattern\":{\"shape\":\"+\"}},\"name\":\"Harry Potter, 34\",\"offsetgroup\":\"Harry Potter, 34\",\"orientation\":\"v\",\"showlegend\":true,\"x\":[\"Harry Potter\"],\"xaxis\":\"x\",\"y\":[34],\"yaxis\":\"y\",\"type\":\"histogram\"},{\"alignmentgroup\":\"True\",\"bingroup\":\"x\",\"histfunc\":\"sum\",\"hovertemplate\":\"favourite_character=%{x}\\u003cbr\\u003euser_age=51\\u003cbr\\u003esum of user_age=%{y}\\u003cextra\\u003e\\u003c\\u002fextra\\u003e\",\"legendgroup\":\"Harry Potter, 51\",\"marker\":{\"color\":\"#FF6692\",\"pattern\":{\"shape\":\".\"}},\"name\":\"Harry Potter, 51\",\"offsetgroup\":\"Harry Potter, 51\",\"orientation\":\"v\",\"showlegend\":true,\"x\":[\"Harry Potter\",\"Harry Potter\"],\"xaxis\":\"x\",\"y\":[51,51],\"yaxis\":\"y\",\"type\":\"histogram\"},{\"alignmentgroup\":\"True\",\"bingroup\":\"x\",\"histfunc\":\"sum\",\"hovertemplate\":\"favourite_character=%{x}\\u003cbr\\u003euser_age=38\\u003cbr\\u003esum of user_age=%{y}\\u003cextra\\u003e\\u003c\\u002fextra\\u003e\",\"legendgroup\":\"Harry Potter, 38\",\"marker\":{\"color\":\"#FF6692\",\"pattern\":{\"shape\":\"\"}},\"name\":\"Harry Potter, 38\",\"offsetgroup\":\"Harry Potter, 38\",\"orientation\":\"v\",\"showlegend\":true,\"x\":[\"Harry Potter\",\"Harry Potter\",\"Harry Potter\"],\"xaxis\":\"x\",\"y\":[38,38,38],\"yaxis\":\"y\",\"type\":\"histogram\"},{\"alignmentgroup\":\"True\",\"bingroup\":\"x\",\"histfunc\":\"sum\",\"hovertemplate\":\"favourite_character=%{x}\\u003cbr\\u003euser_age=47\\u003cbr\\u003esum of user_age=%{y}\\u003cextra\\u003e\\u003c\\u002fextra\\u003e\",\"legendgroup\":\"Harry Potter, 47\",\"marker\":{\"color\":\"#FF6692\",\"pattern\":{\"shape\":\"\\u002f\"}},\"name\":\"Harry Potter, 47\",\"offsetgroup\":\"Harry Potter, 47\",\"orientation\":\"v\",\"showlegend\":true,\"x\":[\"Harry Potter\"],\"xaxis\":\"x\",\"y\":[47],\"yaxis\":\"y\",\"type\":\"histogram\"},{\"alignmentgroup\":\"True\",\"bingroup\":\"x\",\"histfunc\":\"sum\",\"hovertemplate\":\"favourite_character=%{x}\\u003cbr\\u003euser_age=39\\u003cbr\\u003esum of user_age=%{y}\\u003cextra\\u003e\\u003c\\u002fextra\\u003e\",\"legendgroup\":\"Harry Potter, 39\",\"marker\":{\"color\":\"#FF6692\",\"pattern\":{\"shape\":\"\\\\\"}},\"name\":\"Harry Potter, 39\",\"offsetgroup\":\"Harry Potter, 39\",\"orientation\":\"v\",\"showlegend\":true,\"x\":[\"Harry Potter\",\"Harry Potter\"],\"xaxis\":\"x\",\"y\":[39,39],\"yaxis\":\"y\",\"type\":\"histogram\"},{\"alignmentgroup\":\"True\",\"bingroup\":\"x\",\"histfunc\":\"sum\",\"hovertemplate\":\"favourite_character=%{x}\\u003cbr\\u003euser_age=20\\u003cbr\\u003esum of user_age=%{y}\\u003cextra\\u003e\\u003c\\u002fextra\\u003e\",\"legendgroup\":\"Harry Potter, 20\",\"marker\":{\"color\":\"#FF6692\",\"pattern\":{\"shape\":\"x\"}},\"name\":\"Harry Potter, 20\",\"offsetgroup\":\"Harry Potter, 20\",\"orientation\":\"v\",\"showlegend\":true,\"x\":[\"Harry Potter\",\"Harry Potter\"],\"xaxis\":\"x\",\"y\":[20,20],\"yaxis\":\"y\",\"type\":\"histogram\"},{\"alignmentgroup\":\"True\",\"bingroup\":\"x\",\"histfunc\":\"sum\",\"hovertemplate\":\"favourite_character=%{x}\\u003cbr\\u003euser_age=31\\u003cbr\\u003esum of user_age=%{y}\\u003cextra\\u003e\\u003c\\u002fextra\\u003e\",\"legendgroup\":\"Harry Potter, 31\",\"marker\":{\"color\":\"#FF6692\",\"pattern\":{\"shape\":\"+\"}},\"name\":\"Harry Potter, 31\",\"offsetgroup\":\"Harry Potter, 31\",\"orientation\":\"v\",\"showlegend\":true,\"x\":[\"Harry Potter\",\"Harry Potter\",\"Harry Potter\"],\"xaxis\":\"x\",\"y\":[31,31,31],\"yaxis\":\"y\",\"type\":\"histogram\"},{\"alignmentgroup\":\"True\",\"bingroup\":\"x\",\"histfunc\":\"sum\",\"hovertemplate\":\"favourite_character=%{x}\\u003cbr\\u003euser_age=30\\u003cbr\\u003esum of user_age=%{y}\\u003cextra\\u003e\\u003c\\u002fextra\\u003e\",\"legendgroup\":\"Harry Potter, 30\",\"marker\":{\"color\":\"#FF6692\",\"pattern\":{\"shape\":\"\\u002f\"}},\"name\":\"Harry Potter, 30\",\"offsetgroup\":\"Harry Potter, 30\",\"orientation\":\"v\",\"showlegend\":true,\"x\":[\"Harry Potter\",\"Harry Potter\",\"Harry Potter\"],\"xaxis\":\"x\",\"y\":[30,30,30],\"yaxis\":\"y\",\"type\":\"histogram\"},{\"alignmentgroup\":\"True\",\"bingroup\":\"x\",\"histfunc\":\"sum\",\"hovertemplate\":\"favourite_character=%{x}\\u003cbr\\u003euser_age=33\\u003cbr\\u003esum of user_age=%{y}\\u003cextra\\u003e\\u003c\\u002fextra\\u003e\",\"legendgroup\":\"Harry Potter, 33\",\"marker\":{\"color\":\"#FF6692\",\"pattern\":{\"shape\":\"\\\\\"}},\"name\":\"Harry Potter, 33\",\"offsetgroup\":\"Harry Potter, 33\",\"orientation\":\"v\",\"showlegend\":true,\"x\":[\"Harry Potter\",\"Harry Potter\",\"Harry Potter\",\"Harry Potter\",\"Harry Potter\"],\"xaxis\":\"x\",\"y\":[33,33,33,33,33],\"yaxis\":\"y\",\"type\":\"histogram\"},{\"alignmentgroup\":\"True\",\"bingroup\":\"x\",\"histfunc\":\"sum\",\"hovertemplate\":\"favourite_character=%{x}\\u003cbr\\u003euser_age=48\\u003cbr\\u003esum of user_age=%{y}\\u003cextra\\u003e\\u003c\\u002fextra\\u003e\",\"legendgroup\":\"Harry Potter, 48\",\"marker\":{\"color\":\"#FF6692\",\"pattern\":{\"shape\":\"x\"}},\"name\":\"Harry Potter, 48\",\"offsetgroup\":\"Harry Potter, 48\",\"orientation\":\"v\",\"showlegend\":true,\"x\":[\"Harry Potter\"],\"xaxis\":\"x\",\"y\":[48],\"yaxis\":\"y\",\"type\":\"histogram\"},{\"alignmentgroup\":\"True\",\"bingroup\":\"x\",\"histfunc\":\"sum\",\"hovertemplate\":\"favourite_character=%{x}\\u003cbr\\u003euser_age=35\\u003cbr\\u003esum of user_age=%{y}\\u003cextra\\u003e\\u003c\\u002fextra\\u003e\",\"legendgroup\":\"Harry Potter, 35\",\"marker\":{\"color\":\"#FF6692\",\"pattern\":{\"shape\":\"+\"}},\"name\":\"Harry Potter, 35\",\"offsetgroup\":\"Harry Potter, 35\",\"orientation\":\"v\",\"showlegend\":true,\"x\":[\"Harry Potter\",\"Harry Potter\",\"Harry Potter\",\"Harry Potter\",\"Harry Potter\",\"Harry Potter\"],\"xaxis\":\"x\",\"y\":[35,35,35,35,35,35],\"yaxis\":\"y\",\"type\":\"histogram\"},{\"alignmentgroup\":\"True\",\"bingroup\":\"x\",\"histfunc\":\"sum\",\"hovertemplate\":\"favourite_character=%{x}\\u003cbr\\u003euser_age=29\\u003cbr\\u003esum of user_age=%{y}\\u003cextra\\u003e\\u003c\\u002fextra\\u003e\",\"legendgroup\":\"Harry Potter, 29\",\"marker\":{\"color\":\"#FF6692\",\"pattern\":{\"shape\":\".\"}},\"name\":\"Harry Potter, 29\",\"offsetgroup\":\"Harry Potter, 29\",\"orientation\":\"v\",\"showlegend\":true,\"x\":[\"Harry Potter\",\"Harry Potter\",\"Harry Potter\"],\"xaxis\":\"x\",\"y\":[29,29,29],\"yaxis\":\"y\",\"type\":\"histogram\"},{\"alignmentgroup\":\"True\",\"bingroup\":\"x\",\"histfunc\":\"sum\",\"hovertemplate\":\"favourite_character=%{x}\\u003cbr\\u003euser_age=44\\u003cbr\\u003esum of user_age=%{y}\\u003cextra\\u003e\\u003c\\u002fextra\\u003e\",\"legendgroup\":\"Harry Potter, 44\",\"marker\":{\"color\":\"#FF6692\",\"pattern\":{\"shape\":\"\"}},\"name\":\"Harry Potter, 44\",\"offsetgroup\":\"Harry Potter, 44\",\"orientation\":\"v\",\"showlegend\":true,\"x\":[\"Harry Potter\",\"Harry Potter\"],\"xaxis\":\"x\",\"y\":[44,44],\"yaxis\":\"y\",\"type\":\"histogram\"},{\"alignmentgroup\":\"True\",\"bingroup\":\"x\",\"histfunc\":\"sum\",\"hovertemplate\":\"favourite_character=%{x}\\u003cbr\\u003euser_age=36\\u003cbr\\u003esum of user_age=%{y}\\u003cextra\\u003e\\u003c\\u002fextra\\u003e\",\"legendgroup\":\"Harry Potter, 36\",\"marker\":{\"color\":\"#FF6692\",\"pattern\":{\"shape\":\"\\u002f\"}},\"name\":\"Harry Potter, 36\",\"offsetgroup\":\"Harry Potter, 36\",\"orientation\":\"v\",\"showlegend\":true,\"x\":[\"Harry Potter\"],\"xaxis\":\"x\",\"y\":[36],\"yaxis\":\"y\",\"type\":\"histogram\"},{\"alignmentgroup\":\"True\",\"bingroup\":\"x\",\"histfunc\":\"sum\",\"hovertemplate\":\"favourite_character=%{x}\\u003cbr\\u003euser_age=45\\u003cbr\\u003esum of user_age=%{y}\\u003cextra\\u003e\\u003c\\u002fextra\\u003e\",\"legendgroup\":\"Harry Potter, 45\",\"marker\":{\"color\":\"#FF6692\",\"pattern\":{\"shape\":\"\\\\\"}},\"name\":\"Harry Potter, 45\",\"offsetgroup\":\"Harry Potter, 45\",\"orientation\":\"v\",\"showlegend\":true,\"x\":[\"Harry Potter\",\"Harry Potter\",\"Harry Potter\"],\"xaxis\":\"x\",\"y\":[45,45,45],\"yaxis\":\"y\",\"type\":\"histogram\"},{\"alignmentgroup\":\"True\",\"bingroup\":\"x\",\"histfunc\":\"sum\",\"hovertemplate\":\"favourite_character=%{x}\\u003cbr\\u003euser_age=25\\u003cbr\\u003esum of user_age=%{y}\\u003cextra\\u003e\\u003c\\u002fextra\\u003e\",\"legendgroup\":\"Harry Potter, 25\",\"marker\":{\"color\":\"#FF6692\",\"pattern\":{\"shape\":\"x\"}},\"name\":\"Harry Potter, 25\",\"offsetgroup\":\"Harry Potter, 25\",\"orientation\":\"v\",\"showlegend\":true,\"x\":[\"Harry Potter\",\"Harry Potter\"],\"xaxis\":\"x\",\"y\":[25,25],\"yaxis\":\"y\",\"type\":\"histogram\"},{\"alignmentgroup\":\"True\",\"bingroup\":\"x\",\"histfunc\":\"sum\",\"hovertemplate\":\"favourite_character=%{x}\\u003cbr\\u003euser_age=53\\u003cbr\\u003esum of user_age=%{y}\\u003cextra\\u003e\\u003c\\u002fextra\\u003e\",\"legendgroup\":\"Harry Potter, 53\",\"marker\":{\"color\":\"#FF6692\",\"pattern\":{\"shape\":\"+\"}},\"name\":\"Harry Potter, 53\",\"offsetgroup\":\"Harry Potter, 53\",\"orientation\":\"v\",\"showlegend\":true,\"x\":[\"Harry Potter\"],\"xaxis\":\"x\",\"y\":[53],\"yaxis\":\"y\",\"type\":\"histogram\"},{\"alignmentgroup\":\"True\",\"bingroup\":\"x\",\"histfunc\":\"sum\",\"hovertemplate\":\"favourite_character=%{x}\\u003cbr\\u003euser_age=19\\u003cbr\\u003esum of user_age=%{y}\\u003cextra\\u003e\\u003c\\u002fextra\\u003e\",\"legendgroup\":\"Harry Potter, 19\",\"marker\":{\"color\":\"#FF6692\",\"pattern\":{\"shape\":\".\"}},\"name\":\"Harry Potter, 19\",\"offsetgroup\":\"Harry Potter, 19\",\"orientation\":\"v\",\"showlegend\":true,\"x\":[\"Harry Potter\",\"Harry Potter\"],\"xaxis\":\"x\",\"y\":[19,19],\"yaxis\":\"y\",\"type\":\"histogram\"},{\"alignmentgroup\":\"True\",\"bingroup\":\"x\",\"histfunc\":\"sum\",\"hovertemplate\":\"favourite_character=%{x}\\u003cbr\\u003euser_age=41\\u003cbr\\u003esum of user_age=%{y}\\u003cextra\\u003e\\u003c\\u002fextra\\u003e\",\"legendgroup\":\"Harry Potter, 41\",\"marker\":{\"color\":\"#FF6692\",\"pattern\":{\"shape\":\"\"}},\"name\":\"Harry Potter, 41\",\"offsetgroup\":\"Harry Potter, 41\",\"orientation\":\"v\",\"showlegend\":true,\"x\":[\"Harry Potter\",\"Harry Potter\"],\"xaxis\":\"x\",\"y\":[41,41],\"yaxis\":\"y\",\"type\":\"histogram\"},{\"alignmentgroup\":\"True\",\"bingroup\":\"x\",\"histfunc\":\"sum\",\"hovertemplate\":\"favourite_character=%{x}\\u003cbr\\u003euser_age=60\\u003cbr\\u003esum of user_age=%{y}\\u003cextra\\u003e\\u003c\\u002fextra\\u003e\",\"legendgroup\":\"Harry Potter, 60\",\"marker\":{\"color\":\"#FF6692\",\"pattern\":{\"shape\":\"\\u002f\"}},\"name\":\"Harry Potter, 60\",\"offsetgroup\":\"Harry Potter, 60\",\"orientation\":\"v\",\"showlegend\":true,\"x\":[\"Harry Potter\"],\"xaxis\":\"x\",\"y\":[60],\"yaxis\":\"y\",\"type\":\"histogram\"},{\"alignmentgroup\":\"True\",\"bingroup\":\"x\",\"histfunc\":\"sum\",\"hovertemplate\":\"favourite_character=%{x}\\u003cbr\\u003euser_age=56\\u003cbr\\u003esum of user_age=%{y}\\u003cextra\\u003e\\u003c\\u002fextra\\u003e\",\"legendgroup\":\"Harry Potter, 56\",\"marker\":{\"color\":\"#FF6692\",\"pattern\":{\"shape\":\"+\"}},\"name\":\"Harry Potter, 56\",\"offsetgroup\":\"Harry Potter, 56\",\"orientation\":\"v\",\"showlegend\":true,\"x\":[\"Harry Potter\"],\"xaxis\":\"x\",\"y\":[56],\"yaxis\":\"y\",\"type\":\"histogram\"},{\"alignmentgroup\":\"True\",\"bingroup\":\"x\",\"histfunc\":\"sum\",\"hovertemplate\":\"favourite_character=%{x}\\u003cbr\\u003euser_age=12\\u003cbr\\u003esum of user_age=%{y}\\u003cextra\\u003e\\u003c\\u002fextra\\u003e\",\"legendgroup\":\"Harry Potter, 12\",\"marker\":{\"color\":\"#FF6692\",\"pattern\":{\"shape\":\"\"}},\"name\":\"Harry Potter, 12\",\"offsetgroup\":\"Harry Potter, 12\",\"orientation\":\"v\",\"showlegend\":true,\"x\":[\"Harry Potter\"],\"xaxis\":\"x\",\"y\":[12],\"yaxis\":\"y\",\"type\":\"histogram\"},{\"alignmentgroup\":\"True\",\"bingroup\":\"x\",\"histfunc\":\"sum\",\"hovertemplate\":\"favourite_character=%{x}\\u003cbr\\u003euser_age=13\\u003cbr\\u003esum of user_age=%{y}\\u003cextra\\u003e\\u003c\\u002fextra\\u003e\",\"legendgroup\":\"Harry Potter, 13\",\"marker\":{\"color\":\"#FF6692\",\"pattern\":{\"shape\":\"\\u002f\"}},\"name\":\"Harry Potter, 13\",\"offsetgroup\":\"Harry Potter, 13\",\"orientation\":\"v\",\"showlegend\":true,\"x\":[\"Harry Potter\"],\"xaxis\":\"x\",\"y\":[13],\"yaxis\":\"y\",\"type\":\"histogram\"},{\"alignmentgroup\":\"True\",\"bingroup\":\"x\",\"histfunc\":\"sum\",\"hovertemplate\":\"favourite_character=%{x}\\u003cbr\\u003euser_age=42\\u003cbr\\u003esum of user_age=%{y}\\u003cextra\\u003e\\u003c\\u002fextra\\u003e\",\"legendgroup\":\"Harry Potter, 42\",\"marker\":{\"color\":\"#FF6692\",\"pattern\":{\"shape\":\"\\\\\"}},\"name\":\"Harry Potter, 42\",\"offsetgroup\":\"Harry Potter, 42\",\"orientation\":\"v\",\"showlegend\":true,\"x\":[\"Harry Potter\"],\"xaxis\":\"x\",\"y\":[42],\"yaxis\":\"y\",\"type\":\"histogram\"},{\"alignmentgroup\":\"True\",\"bingroup\":\"x\",\"histfunc\":\"sum\",\"hovertemplate\":\"favourite_character=%{x}\\u003cbr\\u003euser_age=37\\u003cbr\\u003esum of user_age=%{y}\\u003cextra\\u003e\\u003c\\u002fextra\\u003e\",\"legendgroup\":\"Harry Potter, 37\",\"marker\":{\"color\":\"#FF6692\",\"pattern\":{\"shape\":\"+\"}},\"name\":\"Harry Potter, 37\",\"offsetgroup\":\"Harry Potter, 37\",\"orientation\":\"v\",\"showlegend\":true,\"x\":[\"Harry Potter\"],\"xaxis\":\"x\",\"y\":[37],\"yaxis\":\"y\",\"type\":\"histogram\"},{\"alignmentgroup\":\"True\",\"bingroup\":\"x\",\"histfunc\":\"sum\",\"hovertemplate\":\"favourite_character=%{x}\\u003cbr\\u003euser_age=15\\u003cbr\\u003esum of user_age=%{y}\\u003cextra\\u003e\\u003c\\u002fextra\\u003e\",\"legendgroup\":\"Harry Potter, 15\",\"marker\":{\"color\":\"#FF6692\",\"pattern\":{\"shape\":\".\"}},\"name\":\"Harry Potter, 15\",\"offsetgroup\":\"Harry Potter, 15\",\"orientation\":\"v\",\"showlegend\":true,\"x\":[\"Harry Potter\"],\"xaxis\":\"x\",\"y\":[15],\"yaxis\":\"y\",\"type\":\"histogram\"},{\"alignmentgroup\":\"True\",\"bingroup\":\"x\",\"histfunc\":\"sum\",\"hovertemplate\":\"favourite_character=%{x}\\u003cbr\\u003euser_age=17\\u003cbr\\u003esum of user_age=%{y}\\u003cextra\\u003e\\u003c\\u002fextra\\u003e\",\"legendgroup\":\"Harry Potter, 17\",\"marker\":{\"color\":\"#FF6692\",\"pattern\":{\"shape\":\"\\u002f\"}},\"name\":\"Harry Potter, 17\",\"offsetgroup\":\"Harry Potter, 17\",\"orientation\":\"v\",\"showlegend\":true,\"x\":[\"Harry Potter\"],\"xaxis\":\"x\",\"y\":[17],\"yaxis\":\"y\",\"type\":\"histogram\"},{\"alignmentgroup\":\"True\",\"bingroup\":\"x\",\"histfunc\":\"sum\",\"hovertemplate\":\"favourite_character=%{x}\\u003cbr\\u003euser_age=21\\u003cbr\\u003esum of user_age=%{y}\\u003cextra\\u003e\\u003c\\u002fextra\\u003e\",\"legendgroup\":\"Harry Potter, 21\",\"marker\":{\"color\":\"#FF6692\",\"pattern\":{\"shape\":\"\\\\\"}},\"name\":\"Harry Potter, 21\",\"offsetgroup\":\"Harry Potter, 21\",\"orientation\":\"v\",\"showlegend\":true,\"x\":[\"Harry Potter\"],\"xaxis\":\"x\",\"y\":[21],\"yaxis\":\"y\",\"type\":\"histogram\"},{\"alignmentgroup\":\"True\",\"bingroup\":\"x\",\"histfunc\":\"sum\",\"hovertemplate\":\"favourite_character=%{x}\\u003cbr\\u003euser_age=14\\u003cbr\\u003esum of user_age=%{y}\\u003cextra\\u003e\\u003c\\u002fextra\\u003e\",\"legendgroup\":\"Harry Potter, 14\",\"marker\":{\"color\":\"#FF6692\",\"pattern\":{\"shape\":\"x\"}},\"name\":\"Harry Potter, 14\",\"offsetgroup\":\"Harry Potter, 14\",\"orientation\":\"v\",\"showlegend\":true,\"x\":[\"Harry Potter\"],\"xaxis\":\"x\",\"y\":[14],\"yaxis\":\"y\",\"type\":\"histogram\"},{\"alignmentgroup\":\"True\",\"bingroup\":\"x\",\"histfunc\":\"sum\",\"hovertemplate\":\"favourite_character=%{x}\\u003cbr\\u003euser_age=32\\u003cbr\\u003esum of user_age=%{y}\\u003cextra\\u003e\\u003c\\u002fextra\\u003e\",\"legendgroup\":\"Draco Malfoy, 32\",\"marker\":{\"color\":\"#B6E880\",\"pattern\":{\"shape\":\"\\\\\"}},\"name\":\"Draco Malfoy, 32\",\"offsetgroup\":\"Draco Malfoy, 32\",\"orientation\":\"v\",\"showlegend\":true,\"x\":[\"Draco Malfoy\",\"Draco Malfoy\",\"Draco Malfoy\"],\"xaxis\":\"x\",\"y\":[32,32,32],\"yaxis\":\"y\",\"type\":\"histogram\"},{\"alignmentgroup\":\"True\",\"bingroup\":\"x\",\"histfunc\":\"sum\",\"hovertemplate\":\"favourite_character=%{x}\\u003cbr\\u003euser_age=24\\u003cbr\\u003esum of user_age=%{y}\\u003cextra\\u003e\\u003c\\u002fextra\\u003e\",\"legendgroup\":\"Draco Malfoy, 24\",\"marker\":{\"color\":\"#B6E880\",\"pattern\":{\"shape\":\"x\"}},\"name\":\"Draco Malfoy, 24\",\"offsetgroup\":\"Draco Malfoy, 24\",\"orientation\":\"v\",\"showlegend\":true,\"x\":[\"Draco Malfoy\"],\"xaxis\":\"x\",\"y\":[24],\"yaxis\":\"y\",\"type\":\"histogram\"},{\"alignmentgroup\":\"True\",\"bingroup\":\"x\",\"histfunc\":\"sum\",\"hovertemplate\":\"favourite_character=%{x}\\u003cbr\\u003euser_age=40\\u003cbr\\u003esum of user_age=%{y}\\u003cextra\\u003e\\u003c\\u002fextra\\u003e\",\"legendgroup\":\"Draco Malfoy, 40\",\"marker\":{\"color\":\"#B6E880\",\"pattern\":{\"shape\":\"+\"}},\"name\":\"Draco Malfoy, 40\",\"offsetgroup\":\"Draco Malfoy, 40\",\"orientation\":\"v\",\"showlegend\":true,\"x\":[\"Draco Malfoy\",\"Draco Malfoy\"],\"xaxis\":\"x\",\"y\":[40,40],\"yaxis\":\"y\",\"type\":\"histogram\"},{\"alignmentgroup\":\"True\",\"bingroup\":\"x\",\"histfunc\":\"sum\",\"hovertemplate\":\"favourite_character=%{x}\\u003cbr\\u003euser_age=28\\u003cbr\\u003esum of user_age=%{y}\\u003cextra\\u003e\\u003c\\u002fextra\\u003e\",\"legendgroup\":\"Draco Malfoy, 28\",\"marker\":{\"color\":\"#B6E880\",\"pattern\":{\"shape\":\"\\u002f\"}},\"name\":\"Draco Malfoy, 28\",\"offsetgroup\":\"Draco Malfoy, 28\",\"orientation\":\"v\",\"showlegend\":true,\"x\":[\"Draco Malfoy\",\"Draco Malfoy\"],\"xaxis\":\"x\",\"y\":[28,28],\"yaxis\":\"y\",\"type\":\"histogram\"},{\"alignmentgroup\":\"True\",\"bingroup\":\"x\",\"histfunc\":\"sum\",\"hovertemplate\":\"favourite_character=%{x}\\u003cbr\\u003euser_age=52\\u003cbr\\u003esum of user_age=%{y}\\u003cextra\\u003e\\u003c\\u002fextra\\u003e\",\"legendgroup\":\"Draco Malfoy, 52\",\"marker\":{\"color\":\"#B6E880\",\"pattern\":{\"shape\":\"\\\\\"}},\"name\":\"Draco Malfoy, 52\",\"offsetgroup\":\"Draco Malfoy, 52\",\"orientation\":\"v\",\"showlegend\":true,\"x\":[\"Draco Malfoy\"],\"xaxis\":\"x\",\"y\":[52],\"yaxis\":\"y\",\"type\":\"histogram\"},{\"alignmentgroup\":\"True\",\"bingroup\":\"x\",\"histfunc\":\"sum\",\"hovertemplate\":\"favourite_character=%{x}\\u003cbr\\u003euser_age=34\\u003cbr\\u003esum of user_age=%{y}\\u003cextra\\u003e\\u003c\\u002fextra\\u003e\",\"legendgroup\":\"Draco Malfoy, 34\",\"marker\":{\"color\":\"#B6E880\",\"pattern\":{\"shape\":\"+\"}},\"name\":\"Draco Malfoy, 34\",\"offsetgroup\":\"Draco Malfoy, 34\",\"orientation\":\"v\",\"showlegend\":true,\"x\":[\"Draco Malfoy\"],\"xaxis\":\"x\",\"y\":[34],\"yaxis\":\"y\",\"type\":\"histogram\"},{\"alignmentgroup\":\"True\",\"bingroup\":\"x\",\"histfunc\":\"sum\",\"hovertemplate\":\"favourite_character=%{x}\\u003cbr\\u003euser_age=51\\u003cbr\\u003esum of user_age=%{y}\\u003cextra\\u003e\\u003c\\u002fextra\\u003e\",\"legendgroup\":\"Draco Malfoy, 51\",\"marker\":{\"color\":\"#B6E880\",\"pattern\":{\"shape\":\".\"}},\"name\":\"Draco Malfoy, 51\",\"offsetgroup\":\"Draco Malfoy, 51\",\"orientation\":\"v\",\"showlegend\":true,\"x\":[\"Draco Malfoy\"],\"xaxis\":\"x\",\"y\":[51],\"yaxis\":\"y\",\"type\":\"histogram\"},{\"alignmentgroup\":\"True\",\"bingroup\":\"x\",\"histfunc\":\"sum\",\"hovertemplate\":\"favourite_character=%{x}\\u003cbr\\u003euser_age=47\\u003cbr\\u003esum of user_age=%{y}\\u003cextra\\u003e\\u003c\\u002fextra\\u003e\",\"legendgroup\":\"Draco Malfoy, 47\",\"marker\":{\"color\":\"#B6E880\",\"pattern\":{\"shape\":\"\\u002f\"}},\"name\":\"Draco Malfoy, 47\",\"offsetgroup\":\"Draco Malfoy, 47\",\"orientation\":\"v\",\"showlegend\":true,\"x\":[\"Draco Malfoy\",\"Draco Malfoy\",\"Draco Malfoy\"],\"xaxis\":\"x\",\"y\":[47,47,47],\"yaxis\":\"y\",\"type\":\"histogram\"},{\"alignmentgroup\":\"True\",\"bingroup\":\"x\",\"histfunc\":\"sum\",\"hovertemplate\":\"favourite_character=%{x}\\u003cbr\\u003euser_age=39\\u003cbr\\u003esum of user_age=%{y}\\u003cextra\\u003e\\u003c\\u002fextra\\u003e\",\"legendgroup\":\"Draco Malfoy, 39\",\"marker\":{\"color\":\"#B6E880\",\"pattern\":{\"shape\":\"\\\\\"}},\"name\":\"Draco Malfoy, 39\",\"offsetgroup\":\"Draco Malfoy, 39\",\"orientation\":\"v\",\"showlegend\":true,\"x\":[\"Draco Malfoy\"],\"xaxis\":\"x\",\"y\":[39],\"yaxis\":\"y\",\"type\":\"histogram\"},{\"alignmentgroup\":\"True\",\"bingroup\":\"x\",\"histfunc\":\"sum\",\"hovertemplate\":\"favourite_character=%{x}\\u003cbr\\u003euser_age=31\\u003cbr\\u003esum of user_age=%{y}\\u003cextra\\u003e\\u003c\\u002fextra\\u003e\",\"legendgroup\":\"Draco Malfoy, 31\",\"marker\":{\"color\":\"#B6E880\",\"pattern\":{\"shape\":\"+\"}},\"name\":\"Draco Malfoy, 31\",\"offsetgroup\":\"Draco Malfoy, 31\",\"orientation\":\"v\",\"showlegend\":true,\"x\":[\"Draco Malfoy\",\"Draco Malfoy\"],\"xaxis\":\"x\",\"y\":[31,31],\"yaxis\":\"y\",\"type\":\"histogram\"},{\"alignmentgroup\":\"True\",\"bingroup\":\"x\",\"histfunc\":\"sum\",\"hovertemplate\":\"favourite_character=%{x}\\u003cbr\\u003euser_age=22\\u003cbr\\u003esum of user_age=%{y}\\u003cextra\\u003e\\u003c\\u002fextra\\u003e\",\"legendgroup\":\"Draco Malfoy, 22\",\"marker\":{\"color\":\"#B6E880\",\"pattern\":{\"shape\":\".\"}},\"name\":\"Draco Malfoy, 22\",\"offsetgroup\":\"Draco Malfoy, 22\",\"orientation\":\"v\",\"showlegend\":true,\"x\":[\"Draco Malfoy\",\"Draco Malfoy\",\"Draco Malfoy\"],\"xaxis\":\"x\",\"y\":[22,22,22],\"yaxis\":\"y\",\"type\":\"histogram\"},{\"alignmentgroup\":\"True\",\"bingroup\":\"x\",\"histfunc\":\"sum\",\"hovertemplate\":\"favourite_character=%{x}\\u003cbr\\u003euser_age=30\\u003cbr\\u003esum of user_age=%{y}\\u003cextra\\u003e\\u003c\\u002fextra\\u003e\",\"legendgroup\":\"Draco Malfoy, 30\",\"marker\":{\"color\":\"#B6E880\",\"pattern\":{\"shape\":\"\\u002f\"}},\"name\":\"Draco Malfoy, 30\",\"offsetgroup\":\"Draco Malfoy, 30\",\"orientation\":\"v\",\"showlegend\":true,\"x\":[\"Draco Malfoy\"],\"xaxis\":\"x\",\"y\":[30],\"yaxis\":\"y\",\"type\":\"histogram\"},{\"alignmentgroup\":\"True\",\"bingroup\":\"x\",\"histfunc\":\"sum\",\"hovertemplate\":\"favourite_character=%{x}\\u003cbr\\u003euser_age=33\\u003cbr\\u003esum of user_age=%{y}\\u003cextra\\u003e\\u003c\\u002fextra\\u003e\",\"legendgroup\":\"Draco Malfoy, 33\",\"marker\":{\"color\":\"#B6E880\",\"pattern\":{\"shape\":\"\\\\\"}},\"name\":\"Draco Malfoy, 33\",\"offsetgroup\":\"Draco Malfoy, 33\",\"orientation\":\"v\",\"showlegend\":true,\"x\":[\"Draco Malfoy\",\"Draco Malfoy\",\"Draco Malfoy\"],\"xaxis\":\"x\",\"y\":[33,33,33],\"yaxis\":\"y\",\"type\":\"histogram\"},{\"alignmentgroup\":\"True\",\"bingroup\":\"x\",\"histfunc\":\"sum\",\"hovertemplate\":\"favourite_character=%{x}\\u003cbr\\u003euser_age=48\\u003cbr\\u003esum of user_age=%{y}\\u003cextra\\u003e\\u003c\\u002fextra\\u003e\",\"legendgroup\":\"Draco Malfoy, 48\",\"marker\":{\"color\":\"#B6E880\",\"pattern\":{\"shape\":\"x\"}},\"name\":\"Draco Malfoy, 48\",\"offsetgroup\":\"Draco Malfoy, 48\",\"orientation\":\"v\",\"showlegend\":true,\"x\":[\"Draco Malfoy\"],\"xaxis\":\"x\",\"y\":[48],\"yaxis\":\"y\",\"type\":\"histogram\"},{\"alignmentgroup\":\"True\",\"bingroup\":\"x\",\"histfunc\":\"sum\",\"hovertemplate\":\"favourite_character=%{x}\\u003cbr\\u003euser_age=29\\u003cbr\\u003esum of user_age=%{y}\\u003cextra\\u003e\\u003c\\u002fextra\\u003e\",\"legendgroup\":\"Draco Malfoy, 29\",\"marker\":{\"color\":\"#B6E880\",\"pattern\":{\"shape\":\".\"}},\"name\":\"Draco Malfoy, 29\",\"offsetgroup\":\"Draco Malfoy, 29\",\"orientation\":\"v\",\"showlegend\":true,\"x\":[\"Draco Malfoy\",\"Draco Malfoy\"],\"xaxis\":\"x\",\"y\":[29,29],\"yaxis\":\"y\",\"type\":\"histogram\"},{\"alignmentgroup\":\"True\",\"bingroup\":\"x\",\"histfunc\":\"sum\",\"hovertemplate\":\"favourite_character=%{x}\\u003cbr\\u003euser_age=44\\u003cbr\\u003esum of user_age=%{y}\\u003cextra\\u003e\\u003c\\u002fextra\\u003e\",\"legendgroup\":\"Draco Malfoy, 44\",\"marker\":{\"color\":\"#B6E880\",\"pattern\":{\"shape\":\"\"}},\"name\":\"Draco Malfoy, 44\",\"offsetgroup\":\"Draco Malfoy, 44\",\"orientation\":\"v\",\"showlegend\":true,\"x\":[\"Draco Malfoy\"],\"xaxis\":\"x\",\"y\":[44],\"yaxis\":\"y\",\"type\":\"histogram\"},{\"alignmentgroup\":\"True\",\"bingroup\":\"x\",\"histfunc\":\"sum\",\"hovertemplate\":\"favourite_character=%{x}\\u003cbr\\u003euser_age=36\\u003cbr\\u003esum of user_age=%{y}\\u003cextra\\u003e\\u003c\\u002fextra\\u003e\",\"legendgroup\":\"Draco Malfoy, 36\",\"marker\":{\"color\":\"#B6E880\",\"pattern\":{\"shape\":\"\\u002f\"}},\"name\":\"Draco Malfoy, 36\",\"offsetgroup\":\"Draco Malfoy, 36\",\"orientation\":\"v\",\"showlegend\":true,\"x\":[\"Draco Malfoy\",\"Draco Malfoy\"],\"xaxis\":\"x\",\"y\":[36,36],\"yaxis\":\"y\",\"type\":\"histogram\"},{\"alignmentgroup\":\"True\",\"bingroup\":\"x\",\"histfunc\":\"sum\",\"hovertemplate\":\"favourite_character=%{x}\\u003cbr\\u003euser_age=53\\u003cbr\\u003esum of user_age=%{y}\\u003cextra\\u003e\\u003c\\u002fextra\\u003e\",\"legendgroup\":\"Draco Malfoy, 53\",\"marker\":{\"color\":\"#B6E880\",\"pattern\":{\"shape\":\"+\"}},\"name\":\"Draco Malfoy, 53\",\"offsetgroup\":\"Draco Malfoy, 53\",\"orientation\":\"v\",\"showlegend\":true,\"x\":[\"Draco Malfoy\"],\"xaxis\":\"x\",\"y\":[53],\"yaxis\":\"y\",\"type\":\"histogram\"},{\"alignmentgroup\":\"True\",\"bingroup\":\"x\",\"histfunc\":\"sum\",\"hovertemplate\":\"favourite_character=%{x}\\u003cbr\\u003euser_age=19\\u003cbr\\u003esum of user_age=%{y}\\u003cextra\\u003e\\u003c\\u002fextra\\u003e\",\"legendgroup\":\"Draco Malfoy, 19\",\"marker\":{\"color\":\"#B6E880\",\"pattern\":{\"shape\":\".\"}},\"name\":\"Draco Malfoy, 19\",\"offsetgroup\":\"Draco Malfoy, 19\",\"orientation\":\"v\",\"showlegend\":true,\"x\":[\"Draco Malfoy\"],\"xaxis\":\"x\",\"y\":[19],\"yaxis\":\"y\",\"type\":\"histogram\"},{\"alignmentgroup\":\"True\",\"bingroup\":\"x\",\"histfunc\":\"sum\",\"hovertemplate\":\"favourite_character=%{x}\\u003cbr\\u003euser_age=41\\u003cbr\\u003esum of user_age=%{y}\\u003cextra\\u003e\\u003c\\u002fextra\\u003e\",\"legendgroup\":\"Draco Malfoy, 41\",\"marker\":{\"color\":\"#B6E880\",\"pattern\":{\"shape\":\"\"}},\"name\":\"Draco Malfoy, 41\",\"offsetgroup\":\"Draco Malfoy, 41\",\"orientation\":\"v\",\"showlegend\":true,\"x\":[\"Draco Malfoy\",\"Draco Malfoy\"],\"xaxis\":\"x\",\"y\":[41,41],\"yaxis\":\"y\",\"type\":\"histogram\"},{\"alignmentgroup\":\"True\",\"bingroup\":\"x\",\"histfunc\":\"sum\",\"hovertemplate\":\"favourite_character=%{x}\\u003cbr\\u003euser_age=18\\u003cbr\\u003esum of user_age=%{y}\\u003cextra\\u003e\\u003c\\u002fextra\\u003e\",\"legendgroup\":\"Draco Malfoy, 18\",\"marker\":{\"color\":\"#B6E880\",\"pattern\":{\"shape\":\".\"}},\"name\":\"Draco Malfoy, 18\",\"offsetgroup\":\"Draco Malfoy, 18\",\"orientation\":\"v\",\"showlegend\":true,\"x\":[\"Draco Malfoy\"],\"xaxis\":\"x\",\"y\":[18],\"yaxis\":\"y\",\"type\":\"histogram\"},{\"alignmentgroup\":\"True\",\"bingroup\":\"x\",\"histfunc\":\"sum\",\"hovertemplate\":\"favourite_character=%{x}\\u003cbr\\u003euser_age=12\\u003cbr\\u003esum of user_age=%{y}\\u003cextra\\u003e\\u003c\\u002fextra\\u003e\",\"legendgroup\":\"Draco Malfoy, 12\",\"marker\":{\"color\":\"#B6E880\",\"pattern\":{\"shape\":\"\"}},\"name\":\"Draco Malfoy, 12\",\"offsetgroup\":\"Draco Malfoy, 12\",\"orientation\":\"v\",\"showlegend\":true,\"x\":[\"Draco Malfoy\",\"Draco Malfoy\"],\"xaxis\":\"x\",\"y\":[12,12],\"yaxis\":\"y\",\"type\":\"histogram\"},{\"alignmentgroup\":\"True\",\"bingroup\":\"x\",\"histfunc\":\"sum\",\"hovertemplate\":\"favourite_character=%{x}\\u003cbr\\u003euser_age=27\\u003cbr\\u003esum of user_age=%{y}\\u003cextra\\u003e\\u003c\\u002fextra\\u003e\",\"legendgroup\":\"Draco Malfoy, 27\",\"marker\":{\"color\":\"#B6E880\",\"pattern\":{\"shape\":\"+\"}},\"name\":\"Draco Malfoy, 27\",\"offsetgroup\":\"Draco Malfoy, 27\",\"orientation\":\"v\",\"showlegend\":true,\"x\":[\"Draco Malfoy\",\"Draco Malfoy\",\"Draco Malfoy\"],\"xaxis\":\"x\",\"y\":[27,27,27],\"yaxis\":\"y\",\"type\":\"histogram\"},{\"alignmentgroup\":\"True\",\"bingroup\":\"x\",\"histfunc\":\"sum\",\"hovertemplate\":\"favourite_character=%{x}\\u003cbr\\u003euser_age=61\\u003cbr\\u003esum of user_age=%{y}\\u003cextra\\u003e\\u003c\\u002fextra\\u003e\",\"legendgroup\":\"Draco Malfoy, 61\",\"marker\":{\"color\":\"#B6E880\",\"pattern\":{\"shape\":\"\"}},\"name\":\"Draco Malfoy, 61\",\"offsetgroup\":\"Draco Malfoy, 61\",\"orientation\":\"v\",\"showlegend\":true,\"x\":[\"Draco Malfoy\"],\"xaxis\":\"x\",\"y\":[61],\"yaxis\":\"y\",\"type\":\"histogram\"},{\"alignmentgroup\":\"True\",\"bingroup\":\"x\",\"histfunc\":\"sum\",\"hovertemplate\":\"favourite_character=%{x}\\u003cbr\\u003euser_age=49\\u003cbr\\u003esum of user_age=%{y}\\u003cextra\\u003e\\u003c\\u002fextra\\u003e\",\"legendgroup\":\"Draco Malfoy, 49\",\"marker\":{\"color\":\"#B6E880\",\"pattern\":{\"shape\":\"\\u002f\"}},\"name\":\"Draco Malfoy, 49\",\"offsetgroup\":\"Draco Malfoy, 49\",\"orientation\":\"v\",\"showlegend\":true,\"x\":[\"Draco Malfoy\"],\"xaxis\":\"x\",\"y\":[49],\"yaxis\":\"y\",\"type\":\"histogram\"},{\"alignmentgroup\":\"True\",\"bingroup\":\"x\",\"histfunc\":\"sum\",\"hovertemplate\":\"favourite_character=%{x}\\u003cbr\\u003euser_age=8\\u003cbr\\u003esum of user_age=%{y}\\u003cextra\\u003e\\u003c\\u002fextra\\u003e\",\"legendgroup\":\"Draco Malfoy, 8\",\"marker\":{\"color\":\"#B6E880\",\"pattern\":{\"shape\":\"\\\\\"}},\"name\":\"Draco Malfoy, 8\",\"offsetgroup\":\"Draco Malfoy, 8\",\"orientation\":\"v\",\"showlegend\":true,\"x\":[\"Draco Malfoy\"],\"xaxis\":\"x\",\"y\":[8],\"yaxis\":\"y\",\"type\":\"histogram\"},{\"alignmentgroup\":\"True\",\"bingroup\":\"x\",\"histfunc\":\"sum\",\"hovertemplate\":\"favourite_character=%{x}\\u003cbr\\u003euser_age=54\\u003cbr\\u003esum of user_age=%{y}\\u003cextra\\u003e\\u003c\\u002fextra\\u003e\",\"legendgroup\":\"Draco Malfoy, 54\",\"marker\":{\"color\":\"#B6E880\",\"pattern\":{\"shape\":\".\"}},\"name\":\"Draco Malfoy, 54\",\"offsetgroup\":\"Draco Malfoy, 54\",\"orientation\":\"v\",\"showlegend\":true,\"x\":[\"Draco Malfoy\",\"Draco Malfoy\"],\"xaxis\":\"x\",\"y\":[54,54],\"yaxis\":\"y\",\"type\":\"histogram\"},{\"alignmentgroup\":\"True\",\"bingroup\":\"x\",\"histfunc\":\"sum\",\"hovertemplate\":\"favourite_character=%{x}\\u003cbr\\u003euser_age=58\\u003cbr\\u003esum of user_age=%{y}\\u003cextra\\u003e\\u003c\\u002fextra\\u003e\",\"legendgroup\":\"Draco Malfoy, 58\",\"marker\":{\"color\":\"#B6E880\",\"pattern\":{\"shape\":\"\"}},\"name\":\"Draco Malfoy, 58\",\"offsetgroup\":\"Draco Malfoy, 58\",\"orientation\":\"v\",\"showlegend\":true,\"x\":[\"Draco Malfoy\"],\"xaxis\":\"x\",\"y\":[58],\"yaxis\":\"y\",\"type\":\"histogram\"}],                        {\"template\":{\"data\":{\"histogram2dcontour\":[{\"type\":\"histogram2dcontour\",\"colorbar\":{\"outlinewidth\":0,\"ticks\":\"\"},\"colorscale\":[[0.0,\"#0d0887\"],[0.1111111111111111,\"#46039f\"],[0.2222222222222222,\"#7201a8\"],[0.3333333333333333,\"#9c179e\"],[0.4444444444444444,\"#bd3786\"],[0.5555555555555556,\"#d8576b\"],[0.6666666666666666,\"#ed7953\"],[0.7777777777777778,\"#fb9f3a\"],[0.8888888888888888,\"#fdca26\"],[1.0,\"#f0f921\"]]}],\"choropleth\":[{\"type\":\"choropleth\",\"colorbar\":{\"outlinewidth\":0,\"ticks\":\"\"}}],\"histogram2d\":[{\"type\":\"histogram2d\",\"colorbar\":{\"outlinewidth\":0,\"ticks\":\"\"},\"colorscale\":[[0.0,\"#0d0887\"],[0.1111111111111111,\"#46039f\"],[0.2222222222222222,\"#7201a8\"],[0.3333333333333333,\"#9c179e\"],[0.4444444444444444,\"#bd3786\"],[0.5555555555555556,\"#d8576b\"],[0.6666666666666666,\"#ed7953\"],[0.7777777777777778,\"#fb9f3a\"],[0.8888888888888888,\"#fdca26\"],[1.0,\"#f0f921\"]]}],\"heatmap\":[{\"type\":\"heatmap\",\"colorbar\":{\"outlinewidth\":0,\"ticks\":\"\"},\"colorscale\":[[0.0,\"#0d0887\"],[0.1111111111111111,\"#46039f\"],[0.2222222222222222,\"#7201a8\"],[0.3333333333333333,\"#9c179e\"],[0.4444444444444444,\"#bd3786\"],[0.5555555555555556,\"#d8576b\"],[0.6666666666666666,\"#ed7953\"],[0.7777777777777778,\"#fb9f3a\"],[0.8888888888888888,\"#fdca26\"],[1.0,\"#f0f921\"]]}],\"heatmapgl\":[{\"type\":\"heatmapgl\",\"colorbar\":{\"outlinewidth\":0,\"ticks\":\"\"},\"colorscale\":[[0.0,\"#0d0887\"],[0.1111111111111111,\"#46039f\"],[0.2222222222222222,\"#7201a8\"],[0.3333333333333333,\"#9c179e\"],[0.4444444444444444,\"#bd3786\"],[0.5555555555555556,\"#d8576b\"],[0.6666666666666666,\"#ed7953\"],[0.7777777777777778,\"#fb9f3a\"],[0.8888888888888888,\"#fdca26\"],[1.0,\"#f0f921\"]]}],\"contourcarpet\":[{\"type\":\"contourcarpet\",\"colorbar\":{\"outlinewidth\":0,\"ticks\":\"\"}}],\"contour\":[{\"type\":\"contour\",\"colorbar\":{\"outlinewidth\":0,\"ticks\":\"\"},\"colorscale\":[[0.0,\"#0d0887\"],[0.1111111111111111,\"#46039f\"],[0.2222222222222222,\"#7201a8\"],[0.3333333333333333,\"#9c179e\"],[0.4444444444444444,\"#bd3786\"],[0.5555555555555556,\"#d8576b\"],[0.6666666666666666,\"#ed7953\"],[0.7777777777777778,\"#fb9f3a\"],[0.8888888888888888,\"#fdca26\"],[1.0,\"#f0f921\"]]}],\"surface\":[{\"type\":\"surface\",\"colorbar\":{\"outlinewidth\":0,\"ticks\":\"\"},\"colorscale\":[[0.0,\"#0d0887\"],[0.1111111111111111,\"#46039f\"],[0.2222222222222222,\"#7201a8\"],[0.3333333333333333,\"#9c179e\"],[0.4444444444444444,\"#bd3786\"],[0.5555555555555556,\"#d8576b\"],[0.6666666666666666,\"#ed7953\"],[0.7777777777777778,\"#fb9f3a\"],[0.8888888888888888,\"#fdca26\"],[1.0,\"#f0f921\"]]}],\"mesh3d\":[{\"type\":\"mesh3d\",\"colorbar\":{\"outlinewidth\":0,\"ticks\":\"\"}}],\"scatter\":[{\"marker\":{\"line\":{\"color\":\"#283442\"}},\"type\":\"scatter\"}],\"parcoords\":[{\"type\":\"parcoords\",\"line\":{\"colorbar\":{\"outlinewidth\":0,\"ticks\":\"\"}}}],\"scatterpolargl\":[{\"type\":\"scatterpolargl\",\"marker\":{\"colorbar\":{\"outlinewidth\":0,\"ticks\":\"\"}}}],\"bar\":[{\"error_x\":{\"color\":\"#f2f5fa\"},\"error_y\":{\"color\":\"#f2f5fa\"},\"marker\":{\"line\":{\"color\":\"rgb(17,17,17)\",\"width\":0.5},\"pattern\":{\"fillmode\":\"overlay\",\"size\":10,\"solidity\":0.2}},\"type\":\"bar\"}],\"scattergeo\":[{\"type\":\"scattergeo\",\"marker\":{\"colorbar\":{\"outlinewidth\":0,\"ticks\":\"\"}}}],\"scatterpolar\":[{\"type\":\"scatterpolar\",\"marker\":{\"colorbar\":{\"outlinewidth\":0,\"ticks\":\"\"}}}],\"histogram\":[{\"marker\":{\"pattern\":{\"fillmode\":\"overlay\",\"size\":10,\"solidity\":0.2}},\"type\":\"histogram\"}],\"scattergl\":[{\"marker\":{\"line\":{\"color\":\"#283442\"}},\"type\":\"scattergl\"}],\"scatter3d\":[{\"type\":\"scatter3d\",\"line\":{\"colorbar\":{\"outlinewidth\":0,\"ticks\":\"\"}},\"marker\":{\"colorbar\":{\"outlinewidth\":0,\"ticks\":\"\"}}}],\"scattermapbox\":[{\"type\":\"scattermapbox\",\"marker\":{\"colorbar\":{\"outlinewidth\":0,\"ticks\":\"\"}}}],\"scatterternary\":[{\"type\":\"scatterternary\",\"marker\":{\"colorbar\":{\"outlinewidth\":0,\"ticks\":\"\"}}}],\"scattercarpet\":[{\"type\":\"scattercarpet\",\"marker\":{\"colorbar\":{\"outlinewidth\":0,\"ticks\":\"\"}}}],\"carpet\":[{\"aaxis\":{\"endlinecolor\":\"#A2B1C6\",\"gridcolor\":\"#506784\",\"linecolor\":\"#506784\",\"minorgridcolor\":\"#506784\",\"startlinecolor\":\"#A2B1C6\"},\"baxis\":{\"endlinecolor\":\"#A2B1C6\",\"gridcolor\":\"#506784\",\"linecolor\":\"#506784\",\"minorgridcolor\":\"#506784\",\"startlinecolor\":\"#A2B1C6\"},\"type\":\"carpet\"}],\"table\":[{\"cells\":{\"fill\":{\"color\":\"#506784\"},\"line\":{\"color\":\"rgb(17,17,17)\"}},\"header\":{\"fill\":{\"color\":\"#2a3f5f\"},\"line\":{\"color\":\"rgb(17,17,17)\"}},\"type\":\"table\"}],\"barpolar\":[{\"marker\":{\"line\":{\"color\":\"rgb(17,17,17)\",\"width\":0.5},\"pattern\":{\"fillmode\":\"overlay\",\"size\":10,\"solidity\":0.2}},\"type\":\"barpolar\"}],\"pie\":[{\"automargin\":true,\"type\":\"pie\"}]},\"layout\":{\"autotypenumbers\":\"strict\",\"colorway\":[\"#636efa\",\"#EF553B\",\"#00cc96\",\"#ab63fa\",\"#FFA15A\",\"#19d3f3\",\"#FF6692\",\"#B6E880\",\"#FF97FF\",\"#FECB52\"],\"font\":{\"color\":\"#f2f5fa\"},\"hovermode\":\"closest\",\"hoverlabel\":{\"align\":\"left\"},\"paper_bgcolor\":\"rgb(17,17,17)\",\"plot_bgcolor\":\"rgb(17,17,17)\",\"polar\":{\"bgcolor\":\"rgb(17,17,17)\",\"angularaxis\":{\"gridcolor\":\"#506784\",\"linecolor\":\"#506784\",\"ticks\":\"\"},\"radialaxis\":{\"gridcolor\":\"#506784\",\"linecolor\":\"#506784\",\"ticks\":\"\"}},\"ternary\":{\"bgcolor\":\"rgb(17,17,17)\",\"aaxis\":{\"gridcolor\":\"#506784\",\"linecolor\":\"#506784\",\"ticks\":\"\"},\"baxis\":{\"gridcolor\":\"#506784\",\"linecolor\":\"#506784\",\"ticks\":\"\"},\"caxis\":{\"gridcolor\":\"#506784\",\"linecolor\":\"#506784\",\"ticks\":\"\"}},\"coloraxis\":{\"colorbar\":{\"outlinewidth\":0,\"ticks\":\"\"}},\"colorscale\":{\"sequential\":[[0.0,\"#0d0887\"],[0.1111111111111111,\"#46039f\"],[0.2222222222222222,\"#7201a8\"],[0.3333333333333333,\"#9c179e\"],[0.4444444444444444,\"#bd3786\"],[0.5555555555555556,\"#d8576b\"],[0.6666666666666666,\"#ed7953\"],[0.7777777777777778,\"#fb9f3a\"],[0.8888888888888888,\"#fdca26\"],[1.0,\"#f0f921\"]],\"sequentialminus\":[[0.0,\"#0d0887\"],[0.1111111111111111,\"#46039f\"],[0.2222222222222222,\"#7201a8\"],[0.3333333333333333,\"#9c179e\"],[0.4444444444444444,\"#bd3786\"],[0.5555555555555556,\"#d8576b\"],[0.6666666666666666,\"#ed7953\"],[0.7777777777777778,\"#fb9f3a\"],[0.8888888888888888,\"#fdca26\"],[1.0,\"#f0f921\"]],\"diverging\":[[0,\"#8e0152\"],[0.1,\"#c51b7d\"],[0.2,\"#de77ae\"],[0.3,\"#f1b6da\"],[0.4,\"#fde0ef\"],[0.5,\"#f7f7f7\"],[0.6,\"#e6f5d0\"],[0.7,\"#b8e186\"],[0.8,\"#7fbc41\"],[0.9,\"#4d9221\"],[1,\"#276419\"]]},\"xaxis\":{\"gridcolor\":\"#283442\",\"linecolor\":\"#506784\",\"ticks\":\"\",\"title\":{\"standoff\":15},\"zerolinecolor\":\"#283442\",\"automargin\":true,\"zerolinewidth\":2},\"yaxis\":{\"gridcolor\":\"#283442\",\"linecolor\":\"#506784\",\"ticks\":\"\",\"title\":{\"standoff\":15},\"zerolinecolor\":\"#283442\",\"automargin\":true,\"zerolinewidth\":2},\"scene\":{\"xaxis\":{\"backgroundcolor\":\"rgb(17,17,17)\",\"gridcolor\":\"#506784\",\"linecolor\":\"#506784\",\"showbackground\":true,\"ticks\":\"\",\"zerolinecolor\":\"#C8D4E3\",\"gridwidth\":2},\"yaxis\":{\"backgroundcolor\":\"rgb(17,17,17)\",\"gridcolor\":\"#506784\",\"linecolor\":\"#506784\",\"showbackground\":true,\"ticks\":\"\",\"zerolinecolor\":\"#C8D4E3\",\"gridwidth\":2},\"zaxis\":{\"backgroundcolor\":\"rgb(17,17,17)\",\"gridcolor\":\"#506784\",\"linecolor\":\"#506784\",\"showbackground\":true,\"ticks\":\"\",\"zerolinecolor\":\"#C8D4E3\",\"gridwidth\":2}},\"shapedefaults\":{\"line\":{\"color\":\"#f2f5fa\"}},\"annotationdefaults\":{\"arrowcolor\":\"#f2f5fa\",\"arrowhead\":0,\"arrowwidth\":1},\"geo\":{\"bgcolor\":\"rgb(17,17,17)\",\"landcolor\":\"rgb(17,17,17)\",\"subunitcolor\":\"#506784\",\"showland\":true,\"showlakes\":true,\"lakecolor\":\"rgb(17,17,17)\"},\"title\":{\"x\":0.05},\"updatemenudefaults\":{\"bgcolor\":\"#506784\",\"borderwidth\":0},\"sliderdefaults\":{\"bgcolor\":\"#C8D4E3\",\"borderwidth\":1,\"bordercolor\":\"rgb(17,17,17)\",\"tickwidth\":0},\"mapbox\":{\"style\":\"dark\"}}},\"xaxis\":{\"anchor\":\"y\",\"domain\":[0.0,1.0],\"title\":{\"text\":\"favourite_character\"},\"categoryorder\":\"array\",\"categoryarray\":[\"Severus Snape\",\"Ron Weasley\",\"Rubeus Hagrid\",\"Neville Longbottom\",\"Albus Dumbledore\",\"Hermione Granger\",\"Harry Potter\",\"Draco Malfoy\"]},\"yaxis\":{\"anchor\":\"x\",\"domain\":[0.0,1.0],\"title\":{\"text\":\"sum of user_age\"},\"categoryorder\":\"array\",\"categoryarray\":[58,54,62,63,8,49,61,64,27,14,21,17,55,15,37,43,42,13,12,18,56,11,10,60,41,19,53,25,45,36,44,29,35,48,33,30,57,22,31,20,39,47,38,51,34,46,52,28,26,16,40,24,32,23,50]},\"legend\":{\"title\":{\"text\":\"favourite_character, user_age\"},\"tracegroupgap\":0},\"title\":{\"text\":\"Distribution of favourite_character by age\"},\"barmode\":\"relative\"},                        {\"responsive\": true}                    ).then(function(){\n                            \nvar gd = document.getElementById('a56fbfb8-c1fa-456d-9b12-94cb930b3b07');\nvar x = new MutationObserver(function (mutations, observer) {{\n        var display = window.getComputedStyle(gd).display;\n        if (!display || display === 'none') {{\n            console.log([gd, 'removed!']);\n            Plotly.purge(gd);\n            observer.disconnect();\n        }}\n}});\n\n// Listen for the removal of the full notebook cells\nvar notebookContainer = gd.closest('#notebook-container');\nif (notebookContainer) {{\n    x.observe(notebookContainer, {childList: true});\n}}\n\n// Listen for the clearing of the current output cell\nvar outputEl = gd.closest('.output');\nif (outputEl) {{\n    x.observe(outputEl, {childList: true});\n}}\n\n                        })                };                });            </script>        </div>"
     },
     "metadata": {},
     "output_type": "display_data"
    }
   ],
   "source": [
    "fig = px.histogram(df, x='favourite_character', y='user_age', pattern_shape='user_age',color='favourite_character', template='plotly_dark', title='Distribution of favourite_character by age')\n",
    "fig.show()"
   ],
   "metadata": {
    "collapsed": false,
    "ExecuteTime": {
     "end_time": "2024-02-11T19:06:30.756649500Z",
     "start_time": "2024-02-11T19:06:29.618242500Z"
    }
   },
   "id": "7a699a52c781988e",
   "execution_count": 159
  },
  {
   "cell_type": "code",
   "outputs": [
    {
     "data": {
      "application/vnd.plotly.v1+json": {
       "data": [
        {
         "alignmentgroup": "True",
         "bingroup": "x",
         "histfunc": "sum",
         "hovertemplate": "rating=2.5<br>datetime=%{x}<br>sum of rating=%{y}<extra></extra>",
         "legendgroup": "2.5",
         "marker": {
          "color": "#636efa",
          "pattern": {
           "shape": ""
          }
         },
         "name": "2.5",
         "offsetgroup": "2.5",
         "orientation": "v",
         "showlegend": true,
         "x": [
          "2004-12-27T00:00:00",
          "2005-02-10T00:00:00",
          "2004-06-07T00:00:00",
          "2004-02-28T00:00:00",
          "2004-10-25T00:00:00",
          "2004-10-21T00:00:00",
          "2005-04-20T00:00:00",
          "2004-10-13T00:00:00",
          "2002-12-07T00:00:00",
          "2002-02-18T00:00:00",
          "2002-03-25T00:00:00",
          "2005-12-17T00:00:00",
          "2004-12-14T00:00:00",
          "2002-01-04T00:00:00",
          "2005-04-15T00:00:00",
          "2004-04-04T00:00:00",
          "2005-12-24T00:00:00",
          "2004-05-05T00:00:00",
          "2005-08-22T00:00:00",
          "2002-02-05T00:00:00",
          "2002-07-08T00:00:00",
          "2004-12-01T00:00:00",
          "2003-11-27T00:00:00",
          "2002-01-07T00:00:00",
          "2004-03-14T00:00:00",
          "2003-05-04T00:00:00",
          "2004-05-02T00:00:00",
          "2003-04-06T00:00:00",
          "2004-06-10T00:00:00",
          "2004-09-16T00:00:00",
          "2002-04-24T00:00:00",
          "2003-08-31T00:00:00",
          "2004-04-15T00:00:00",
          "2002-03-27T00:00:00",
          "2005-02-28T00:00:00",
          "2004-01-20T00:00:00",
          "2003-10-29T00:00:00",
          "2004-04-25T00:00:00",
          "2004-08-02T00:00:00",
          "2003-12-23T00:00:00",
          "2004-04-21T00:00:00"
         ],
         "xaxis": "x",
         "y": [
          2.5,
          2.5,
          2.5,
          2.5,
          2.5,
          2.5,
          2.5,
          2.5,
          2.5,
          2.5,
          2.5,
          2.5,
          2.5,
          2.5,
          2.5,
          2.5,
          2.5,
          2.5,
          2.5,
          2.5,
          2.5,
          2.5,
          2.5,
          2.5,
          2.5,
          2.5,
          2.5,
          2.5,
          2.5,
          2.5,
          2.5,
          2.5,
          2.5,
          2.5,
          2.5,
          2.5,
          2.5,
          2.5,
          2.5,
          2.5,
          2.5
         ],
         "yaxis": "y",
         "type": "histogram"
        },
        {
         "alignmentgroup": "True",
         "boxpoints": "all",
         "fillcolor": "rgba(255,255,255,0)",
         "hoveron": "points",
         "hovertemplate": "rating=2.5<br>datetime=%{x}<extra></extra>",
         "jitter": 0,
         "legendgroup": "2.5",
         "line": {
          "color": "rgba(255,255,255,0)"
         },
         "marker": {
          "color": "#636efa",
          "symbol": "line-ns-open"
         },
         "name": "2.5",
         "offsetgroup": "2.5",
         "showlegend": false,
         "x": [
          "2004-12-27T00:00:00",
          "2005-02-10T00:00:00",
          "2004-06-07T00:00:00",
          "2004-02-28T00:00:00",
          "2004-10-25T00:00:00",
          "2004-10-21T00:00:00",
          "2005-04-20T00:00:00",
          "2004-10-13T00:00:00",
          "2002-12-07T00:00:00",
          "2002-02-18T00:00:00",
          "2002-03-25T00:00:00",
          "2005-12-17T00:00:00",
          "2004-12-14T00:00:00",
          "2002-01-04T00:00:00",
          "2005-04-15T00:00:00",
          "2004-04-04T00:00:00",
          "2005-12-24T00:00:00",
          "2004-05-05T00:00:00",
          "2005-08-22T00:00:00",
          "2002-02-05T00:00:00",
          "2002-07-08T00:00:00",
          "2004-12-01T00:00:00",
          "2003-11-27T00:00:00",
          "2002-01-07T00:00:00",
          "2004-03-14T00:00:00",
          "2003-05-04T00:00:00",
          "2004-05-02T00:00:00",
          "2003-04-06T00:00:00",
          "2004-06-10T00:00:00",
          "2004-09-16T00:00:00",
          "2002-04-24T00:00:00",
          "2003-08-31T00:00:00",
          "2004-04-15T00:00:00",
          "2002-03-27T00:00:00",
          "2005-02-28T00:00:00",
          "2004-01-20T00:00:00",
          "2003-10-29T00:00:00",
          "2004-04-25T00:00:00",
          "2004-08-02T00:00:00",
          "2003-12-23T00:00:00",
          "2004-04-21T00:00:00"
         ],
         "xaxis": "x2",
         "yaxis": "y2",
         "type": "box"
        },
        {
         "alignmentgroup": "True",
         "bingroup": "x",
         "histfunc": "sum",
         "hovertemplate": "rating=4.0<br>datetime=%{x}<br>sum of rating=%{y}<extra></extra>",
         "legendgroup": "4.0",
         "marker": {
          "color": "#EF553B",
          "pattern": {
           "shape": "/"
          }
         },
         "name": "4.0",
         "offsetgroup": "4.0",
         "orientation": "v",
         "showlegend": true,
         "x": [
          "2003-11-22T00:00:00",
          "2005-11-28T00:00:00",
          "2002-02-02T00:00:00",
          "2002-09-01T00:00:00",
          "2002-08-16T00:00:00",
          "2005-05-22T00:00:00",
          "2005-01-28T00:00:00",
          "2002-10-22T00:00:00",
          "2005-02-11T00:00:00",
          "2005-05-30T00:00:00",
          "2002-04-07T00:00:00",
          "2004-10-24T00:00:00",
          "2002-01-20T00:00:00",
          "2003-08-24T00:00:00",
          "2004-11-30T00:00:00",
          "2005-05-18T00:00:00",
          "2005-12-11T00:00:00",
          "2002-07-01T00:00:00",
          "2004-03-18T00:00:00",
          "2003-10-04T00:00:00",
          "2004-03-11T00:00:00",
          "2003-04-22T00:00:00",
          "2004-11-05T00:00:00",
          "2002-06-07T00:00:00",
          "2003-02-02T00:00:00",
          "2004-11-20T00:00:00",
          "2003-09-26T00:00:00",
          "2003-10-08T00:00:00",
          "2002-05-13T00:00:00",
          "2005-11-10T00:00:00",
          "2005-01-10T00:00:00",
          "2005-02-03T00:00:00",
          "2002-09-28T00:00:00",
          "2004-09-14T00:00:00",
          "2002-08-23T00:00:00",
          "2005-05-21T00:00:00",
          "2003-01-03T00:00:00",
          "2004-07-24T00:00:00",
          "2003-04-25T00:00:00",
          "2002-12-01T00:00:00",
          "2004-11-06T00:00:00",
          "2004-04-08T00:00:00",
          "2002-09-20T00:00:00",
          "2002-08-31T00:00:00",
          "2003-12-07T00:00:00",
          "2005-12-22T00:00:00",
          "2004-05-08T00:00:00",
          "2003-08-29T00:00:00",
          "2002-01-19T00:00:00",
          "2004-12-15T00:00:00",
          "2005-10-30T00:00:00",
          "2005-09-26T00:00:00",
          "2002-05-18T00:00:00",
          "2005-02-05T00:00:00",
          "2002-02-08T00:00:00",
          "2002-03-04T00:00:00",
          "2003-07-13T00:00:00",
          "2002-06-29T00:00:00",
          "2004-08-03T00:00:00",
          "2003-12-06T00:00:00",
          "2004-12-11T00:00:00",
          "2004-10-22T00:00:00",
          "2005-10-08T00:00:00",
          "2005-09-07T00:00:00",
          "2003-07-23T00:00:00",
          "2004-02-23T00:00:00",
          "2005-10-24T00:00:00",
          "2005-07-29T00:00:00",
          "2004-01-21T00:00:00",
          "2005-06-07T00:00:00",
          "2003-03-23T00:00:00",
          "2004-08-31T00:00:00",
          "2005-06-02T00:00:00",
          "2003-01-23T00:00:00",
          "2005-09-22T00:00:00",
          "2004-07-04T00:00:00",
          "2005-08-08T00:00:00",
          "2005-07-30T00:00:00",
          "2004-04-07T00:00:00",
          "2002-03-07T00:00:00",
          "2004-09-11T00:00:00",
          "2004-03-26T00:00:00",
          "2005-09-04T00:00:00",
          "2002-06-18T00:00:00",
          "2005-09-28T00:00:00",
          "2003-01-28T00:00:00",
          "2004-06-09T00:00:00",
          "2005-08-05T00:00:00",
          "2002-12-30T00:00:00",
          "2005-03-16T00:00:00",
          "2002-11-10T00:00:00"
         ],
         "xaxis": "x",
         "y": [
          4.0,
          4.0,
          4.0,
          4.0,
          4.0,
          4.0,
          4.0,
          4.0,
          4.0,
          4.0,
          4.0,
          4.0,
          4.0,
          4.0,
          4.0,
          4.0,
          4.0,
          4.0,
          4.0,
          4.0,
          4.0,
          4.0,
          4.0,
          4.0,
          4.0,
          4.0,
          4.0,
          4.0,
          4.0,
          4.0,
          4.0,
          4.0,
          4.0,
          4.0,
          4.0,
          4.0,
          4.0,
          4.0,
          4.0,
          4.0,
          4.0,
          4.0,
          4.0,
          4.0,
          4.0,
          4.0,
          4.0,
          4.0,
          4.0,
          4.0,
          4.0,
          4.0,
          4.0,
          4.0,
          4.0,
          4.0,
          4.0,
          4.0,
          4.0,
          4.0,
          4.0,
          4.0,
          4.0,
          4.0,
          4.0,
          4.0,
          4.0,
          4.0,
          4.0,
          4.0,
          4.0,
          4.0,
          4.0,
          4.0,
          4.0,
          4.0,
          4.0,
          4.0,
          4.0,
          4.0,
          4.0,
          4.0,
          4.0,
          4.0,
          4.0,
          4.0,
          4.0,
          4.0,
          4.0,
          4.0,
          4.0
         ],
         "yaxis": "y",
         "type": "histogram"
        },
        {
         "alignmentgroup": "True",
         "boxpoints": "all",
         "fillcolor": "rgba(255,255,255,0)",
         "hoveron": "points",
         "hovertemplate": "rating=4.0<br>datetime=%{x}<extra></extra>",
         "jitter": 0,
         "legendgroup": "4.0",
         "line": {
          "color": "rgba(255,255,255,0)"
         },
         "marker": {
          "color": "#EF553B",
          "symbol": "line-ns-open"
         },
         "name": "4.0",
         "offsetgroup": "4.0",
         "showlegend": false,
         "x": [
          "2003-11-22T00:00:00",
          "2005-11-28T00:00:00",
          "2002-02-02T00:00:00",
          "2002-09-01T00:00:00",
          "2002-08-16T00:00:00",
          "2005-05-22T00:00:00",
          "2005-01-28T00:00:00",
          "2002-10-22T00:00:00",
          "2005-02-11T00:00:00",
          "2005-05-30T00:00:00",
          "2002-04-07T00:00:00",
          "2004-10-24T00:00:00",
          "2002-01-20T00:00:00",
          "2003-08-24T00:00:00",
          "2004-11-30T00:00:00",
          "2005-05-18T00:00:00",
          "2005-12-11T00:00:00",
          "2002-07-01T00:00:00",
          "2004-03-18T00:00:00",
          "2003-10-04T00:00:00",
          "2004-03-11T00:00:00",
          "2003-04-22T00:00:00",
          "2004-11-05T00:00:00",
          "2002-06-07T00:00:00",
          "2003-02-02T00:00:00",
          "2004-11-20T00:00:00",
          "2003-09-26T00:00:00",
          "2003-10-08T00:00:00",
          "2002-05-13T00:00:00",
          "2005-11-10T00:00:00",
          "2005-01-10T00:00:00",
          "2005-02-03T00:00:00",
          "2002-09-28T00:00:00",
          "2004-09-14T00:00:00",
          "2002-08-23T00:00:00",
          "2005-05-21T00:00:00",
          "2003-01-03T00:00:00",
          "2004-07-24T00:00:00",
          "2003-04-25T00:00:00",
          "2002-12-01T00:00:00",
          "2004-11-06T00:00:00",
          "2004-04-08T00:00:00",
          "2002-09-20T00:00:00",
          "2002-08-31T00:00:00",
          "2003-12-07T00:00:00",
          "2005-12-22T00:00:00",
          "2004-05-08T00:00:00",
          "2003-08-29T00:00:00",
          "2002-01-19T00:00:00",
          "2004-12-15T00:00:00",
          "2005-10-30T00:00:00",
          "2005-09-26T00:00:00",
          "2002-05-18T00:00:00",
          "2005-02-05T00:00:00",
          "2002-02-08T00:00:00",
          "2002-03-04T00:00:00",
          "2003-07-13T00:00:00",
          "2002-06-29T00:00:00",
          "2004-08-03T00:00:00",
          "2003-12-06T00:00:00",
          "2004-12-11T00:00:00",
          "2004-10-22T00:00:00",
          "2005-10-08T00:00:00",
          "2005-09-07T00:00:00",
          "2003-07-23T00:00:00",
          "2004-02-23T00:00:00",
          "2005-10-24T00:00:00",
          "2005-07-29T00:00:00",
          "2004-01-21T00:00:00",
          "2005-06-07T00:00:00",
          "2003-03-23T00:00:00",
          "2004-08-31T00:00:00",
          "2005-06-02T00:00:00",
          "2003-01-23T00:00:00",
          "2005-09-22T00:00:00",
          "2004-07-04T00:00:00",
          "2005-08-08T00:00:00",
          "2005-07-30T00:00:00",
          "2004-04-07T00:00:00",
          "2002-03-07T00:00:00",
          "2004-09-11T00:00:00",
          "2004-03-26T00:00:00",
          "2005-09-04T00:00:00",
          "2002-06-18T00:00:00",
          "2005-09-28T00:00:00",
          "2003-01-28T00:00:00",
          "2004-06-09T00:00:00",
          "2005-08-05T00:00:00",
          "2002-12-30T00:00:00",
          "2005-03-16T00:00:00",
          "2002-11-10T00:00:00"
         ],
         "xaxis": "x2",
         "yaxis": "y2",
         "type": "box"
        },
        {
         "alignmentgroup": "True",
         "bingroup": "x",
         "histfunc": "sum",
         "hovertemplate": "rating=3.0<br>datetime=%{x}<br>sum of rating=%{y}<extra></extra>",
         "legendgroup": "3.0",
         "marker": {
          "color": "#00cc96",
          "pattern": {
           "shape": "\\"
          }
         },
         "name": "3.0",
         "offsetgroup": "3.0",
         "orientation": "v",
         "showlegend": true,
         "x": [
          "2005-09-16T00:00:00",
          "2004-08-05T00:00:00",
          "2002-08-23T00:00:00",
          "2003-01-15T00:00:00",
          "2002-06-25T00:00:00",
          "2004-11-28T00:00:00",
          "2005-12-27T00:00:00",
          "2003-06-27T00:00:00",
          "2004-04-23T00:00:00",
          "2004-04-14T00:00:00",
          "2003-11-28T00:00:00",
          "2005-08-02T00:00:00",
          "2005-08-14T00:00:00",
          "2003-05-14T00:00:00",
          "2005-08-31T00:00:00",
          "2005-09-28T00:00:00",
          "2004-12-30T00:00:00",
          "2005-03-25T00:00:00",
          "2004-03-05T00:00:00",
          "2004-05-09T00:00:00",
          "2003-12-20T00:00:00",
          "2002-11-23T00:00:00",
          "2005-09-17T00:00:00",
          "2004-05-06T00:00:00",
          "2005-12-08T00:00:00",
          "2005-03-12T00:00:00",
          "2005-05-12T00:00:00",
          "2002-06-05T00:00:00",
          "2003-09-29T00:00:00",
          "2004-12-28T00:00:00",
          "2003-08-01T00:00:00",
          "2002-10-27T00:00:00",
          "2004-03-20T00:00:00",
          "2002-10-21T00:00:00",
          "2004-06-03T00:00:00",
          "2005-05-19T00:00:00",
          "2003-04-30T00:00:00",
          "2005-10-25T00:00:00"
         ],
         "xaxis": "x",
         "y": [
          3.0,
          3.0,
          3.0,
          3.0,
          3.0,
          3.0,
          3.0,
          3.0,
          3.0,
          3.0,
          3.0,
          3.0,
          3.0,
          3.0,
          3.0,
          3.0,
          3.0,
          3.0,
          3.0,
          3.0,
          3.0,
          3.0,
          3.0,
          3.0,
          3.0,
          3.0,
          3.0,
          3.0,
          3.0,
          3.0,
          3.0,
          3.0,
          3.0,
          3.0,
          3.0,
          3.0,
          3.0,
          3.0
         ],
         "yaxis": "y",
         "type": "histogram"
        },
        {
         "alignmentgroup": "True",
         "boxpoints": "all",
         "fillcolor": "rgba(255,255,255,0)",
         "hoveron": "points",
         "hovertemplate": "rating=3.0<br>datetime=%{x}<extra></extra>",
         "jitter": 0,
         "legendgroup": "3.0",
         "line": {
          "color": "rgba(255,255,255,0)"
         },
         "marker": {
          "color": "#00cc96",
          "symbol": "line-ns-open"
         },
         "name": "3.0",
         "offsetgroup": "3.0",
         "showlegend": false,
         "x": [
          "2005-09-16T00:00:00",
          "2004-08-05T00:00:00",
          "2002-08-23T00:00:00",
          "2003-01-15T00:00:00",
          "2002-06-25T00:00:00",
          "2004-11-28T00:00:00",
          "2005-12-27T00:00:00",
          "2003-06-27T00:00:00",
          "2004-04-23T00:00:00",
          "2004-04-14T00:00:00",
          "2003-11-28T00:00:00",
          "2005-08-02T00:00:00",
          "2005-08-14T00:00:00",
          "2003-05-14T00:00:00",
          "2005-08-31T00:00:00",
          "2005-09-28T00:00:00",
          "2004-12-30T00:00:00",
          "2005-03-25T00:00:00",
          "2004-03-05T00:00:00",
          "2004-05-09T00:00:00",
          "2003-12-20T00:00:00",
          "2002-11-23T00:00:00",
          "2005-09-17T00:00:00",
          "2004-05-06T00:00:00",
          "2005-12-08T00:00:00",
          "2005-03-12T00:00:00",
          "2005-05-12T00:00:00",
          "2002-06-05T00:00:00",
          "2003-09-29T00:00:00",
          "2004-12-28T00:00:00",
          "2003-08-01T00:00:00",
          "2002-10-27T00:00:00",
          "2004-03-20T00:00:00",
          "2002-10-21T00:00:00",
          "2004-06-03T00:00:00",
          "2005-05-19T00:00:00",
          "2003-04-30T00:00:00",
          "2005-10-25T00:00:00"
         ],
         "xaxis": "x2",
         "yaxis": "y2",
         "type": "box"
        },
        {
         "alignmentgroup": "True",
         "bingroup": "x",
         "histfunc": "sum",
         "hovertemplate": "rating=4.5<br>datetime=%{x}<br>sum of rating=%{y}<extra></extra>",
         "legendgroup": "4.5",
         "marker": {
          "color": "#ab63fa",
          "pattern": {
           "shape": "x"
          }
         },
         "name": "4.5",
         "offsetgroup": "4.5",
         "orientation": "v",
         "showlegend": true,
         "x": [
          "2002-09-17T00:00:00",
          "2005-12-02T00:00:00",
          "2003-09-16T00:00:00",
          "2003-04-04T00:00:00",
          "2002-05-25T00:00:00",
          "2003-06-29T00:00:00",
          "2003-12-31T00:00:00",
          "2002-11-25T00:00:00",
          "2005-09-07T00:00:00",
          "2002-08-21T00:00:00",
          "2003-03-04T00:00:00",
          "2005-07-01T00:00:00",
          "2004-04-09T00:00:00",
          "2005-11-25T00:00:00",
          "2004-07-11T00:00:00",
          "2002-11-10T00:00:00",
          "2004-09-04T00:00:00",
          "2005-05-20T00:00:00",
          "2003-01-22T00:00:00",
          "2004-03-09T00:00:00",
          "2003-05-25T00:00:00",
          "2002-09-14T00:00:00",
          "2005-08-01T00:00:00",
          "2005-04-25T00:00:00",
          "2002-03-31T00:00:00",
          "2005-04-28T00:00:00",
          "2002-04-22T00:00:00",
          "2004-02-10T00:00:00",
          "2005-03-25T00:00:00",
          "2004-01-11T00:00:00",
          "2004-08-25T00:00:00",
          "2005-11-01T00:00:00",
          "2002-01-10T00:00:00",
          "2002-10-24T00:00:00",
          "2004-05-01T00:00:00",
          "2005-08-10T00:00:00",
          "2005-11-12T00:00:00",
          "2004-04-29T00:00:00",
          "2005-04-26T00:00:00",
          "2003-10-03T00:00:00",
          "2002-05-16T00:00:00",
          "2004-10-12T00:00:00",
          "2005-08-16T00:00:00",
          "2004-11-14T00:00:00",
          "2002-09-17T00:00:00",
          "2004-10-20T00:00:00",
          "2003-06-01T00:00:00",
          "2005-06-27T00:00:00",
          "2002-01-22T00:00:00",
          "2002-10-07T00:00:00",
          "2005-10-18T00:00:00",
          "2004-08-22T00:00:00",
          "2004-11-17T00:00:00",
          "2005-10-09T00:00:00",
          "2003-03-02T00:00:00",
          "2005-02-06T00:00:00",
          "2004-02-17T00:00:00",
          "2004-09-13T00:00:00",
          "2003-01-06T00:00:00",
          "2003-07-20T00:00:00",
          "2004-01-04T00:00:00",
          "2003-12-24T00:00:00",
          "2004-01-14T00:00:00",
          "2003-12-13T00:00:00",
          "2002-07-25T00:00:00",
          "2005-02-07T00:00:00",
          "2002-03-14T00:00:00",
          "2002-03-04T00:00:00",
          "2002-11-17T00:00:00",
          "2004-01-11T00:00:00",
          "2004-09-15T00:00:00",
          "2004-01-07T00:00:00",
          "2004-12-19T00:00:00",
          "2005-07-01T00:00:00",
          "2003-11-27T00:00:00",
          "2002-04-24T00:00:00",
          "2003-11-16T00:00:00",
          "2005-08-23T00:00:00",
          "2005-10-18T00:00:00",
          "2003-07-04T00:00:00",
          "2005-05-30T00:00:00",
          "2004-04-14T00:00:00",
          "2003-07-22T00:00:00",
          "2003-09-24T00:00:00",
          "2002-02-15T00:00:00",
          "2005-11-27T00:00:00",
          "2003-01-12T00:00:00",
          "2003-06-17T00:00:00",
          "2002-09-13T00:00:00",
          "2005-11-06T00:00:00",
          "2003-02-03T00:00:00",
          "2002-01-04T00:00:00",
          "2002-01-28T00:00:00",
          "2005-05-05T00:00:00",
          "2005-09-12T00:00:00",
          "2003-08-27T00:00:00",
          "2003-11-10T00:00:00",
          "2003-06-02T00:00:00",
          "2003-04-30T00:00:00",
          "2005-09-23T00:00:00",
          "2005-05-08T00:00:00",
          "2002-01-25T00:00:00",
          "2002-02-10T00:00:00",
          "2004-10-10T00:00:00",
          "2002-11-10T00:00:00",
          "2002-08-11T00:00:00",
          "2002-12-14T00:00:00",
          "2002-09-23T00:00:00",
          "2005-07-12T00:00:00",
          "2003-02-15T00:00:00",
          "2004-01-08T00:00:00",
          "2002-11-21T00:00:00",
          "2005-03-21T00:00:00",
          "2005-08-19T00:00:00",
          "2004-09-06T00:00:00",
          "2005-07-19T00:00:00",
          "2002-12-11T00:00:00",
          "2002-01-09T00:00:00",
          "2003-06-09T00:00:00",
          "2003-06-26T00:00:00",
          "2002-04-26T00:00:00",
          "2002-08-13T00:00:00",
          "2005-09-08T00:00:00",
          "2002-12-21T00:00:00",
          "2004-12-21T00:00:00",
          "2004-08-07T00:00:00",
          "2002-08-18T00:00:00",
          "2005-09-22T00:00:00",
          "2002-07-31T00:00:00",
          "2005-09-09T00:00:00",
          "2005-10-02T00:00:00",
          "2005-05-03T00:00:00",
          "2003-12-02T00:00:00",
          "2002-08-18T00:00:00",
          "2002-09-05T00:00:00",
          "2005-11-30T00:00:00",
          "2002-01-05T00:00:00",
          "2003-01-14T00:00:00",
          "2002-11-18T00:00:00",
          "2003-07-13T00:00:00",
          "2004-12-10T00:00:00",
          "2003-08-21T00:00:00",
          "2005-08-20T00:00:00",
          "2002-08-15T00:00:00",
          "2005-09-30T00:00:00",
          "2004-11-10T00:00:00",
          "2004-05-26T00:00:00",
          "2002-10-07T00:00:00",
          "2004-07-28T00:00:00",
          "2005-05-17T00:00:00",
          "2003-07-03T00:00:00"
         ],
         "xaxis": "x",
         "y": [
          4.5,
          4.5,
          4.5,
          4.5,
          4.5,
          4.5,
          4.5,
          4.5,
          4.5,
          4.5,
          4.5,
          4.5,
          4.5,
          4.5,
          4.5,
          4.5,
          4.5,
          4.5,
          4.5,
          4.5,
          4.5,
          4.5,
          4.5,
          4.5,
          4.5,
          4.5,
          4.5,
          4.5,
          4.5,
          4.5,
          4.5,
          4.5,
          4.5,
          4.5,
          4.5,
          4.5,
          4.5,
          4.5,
          4.5,
          4.5,
          4.5,
          4.5,
          4.5,
          4.5,
          4.5,
          4.5,
          4.5,
          4.5,
          4.5,
          4.5,
          4.5,
          4.5,
          4.5,
          4.5,
          4.5,
          4.5,
          4.5,
          4.5,
          4.5,
          4.5,
          4.5,
          4.5,
          4.5,
          4.5,
          4.5,
          4.5,
          4.5,
          4.5,
          4.5,
          4.5,
          4.5,
          4.5,
          4.5,
          4.5,
          4.5,
          4.5,
          4.5,
          4.5,
          4.5,
          4.5,
          4.5,
          4.5,
          4.5,
          4.5,
          4.5,
          4.5,
          4.5,
          4.5,
          4.5,
          4.5,
          4.5,
          4.5,
          4.5,
          4.5,
          4.5,
          4.5,
          4.5,
          4.5,
          4.5,
          4.5,
          4.5,
          4.5,
          4.5,
          4.5,
          4.5,
          4.5,
          4.5,
          4.5,
          4.5,
          4.5,
          4.5,
          4.5,
          4.5,
          4.5,
          4.5,
          4.5,
          4.5,
          4.5,
          4.5,
          4.5,
          4.5,
          4.5,
          4.5,
          4.5,
          4.5,
          4.5,
          4.5,
          4.5,
          4.5,
          4.5,
          4.5,
          4.5,
          4.5,
          4.5,
          4.5,
          4.5,
          4.5,
          4.5,
          4.5,
          4.5,
          4.5,
          4.5,
          4.5,
          4.5,
          4.5,
          4.5,
          4.5,
          4.5,
          4.5,
          4.5,
          4.5
         ],
         "yaxis": "y",
         "type": "histogram"
        },
        {
         "alignmentgroup": "True",
         "boxpoints": "all",
         "fillcolor": "rgba(255,255,255,0)",
         "hoveron": "points",
         "hovertemplate": "rating=4.5<br>datetime=%{x}<extra></extra>",
         "jitter": 0,
         "legendgroup": "4.5",
         "line": {
          "color": "rgba(255,255,255,0)"
         },
         "marker": {
          "color": "#ab63fa",
          "symbol": "line-ns-open"
         },
         "name": "4.5",
         "offsetgroup": "4.5",
         "showlegend": false,
         "x": [
          "2002-09-17T00:00:00",
          "2005-12-02T00:00:00",
          "2003-09-16T00:00:00",
          "2003-04-04T00:00:00",
          "2002-05-25T00:00:00",
          "2003-06-29T00:00:00",
          "2003-12-31T00:00:00",
          "2002-11-25T00:00:00",
          "2005-09-07T00:00:00",
          "2002-08-21T00:00:00",
          "2003-03-04T00:00:00",
          "2005-07-01T00:00:00",
          "2004-04-09T00:00:00",
          "2005-11-25T00:00:00",
          "2004-07-11T00:00:00",
          "2002-11-10T00:00:00",
          "2004-09-04T00:00:00",
          "2005-05-20T00:00:00",
          "2003-01-22T00:00:00",
          "2004-03-09T00:00:00",
          "2003-05-25T00:00:00",
          "2002-09-14T00:00:00",
          "2005-08-01T00:00:00",
          "2005-04-25T00:00:00",
          "2002-03-31T00:00:00",
          "2005-04-28T00:00:00",
          "2002-04-22T00:00:00",
          "2004-02-10T00:00:00",
          "2005-03-25T00:00:00",
          "2004-01-11T00:00:00",
          "2004-08-25T00:00:00",
          "2005-11-01T00:00:00",
          "2002-01-10T00:00:00",
          "2002-10-24T00:00:00",
          "2004-05-01T00:00:00",
          "2005-08-10T00:00:00",
          "2005-11-12T00:00:00",
          "2004-04-29T00:00:00",
          "2005-04-26T00:00:00",
          "2003-10-03T00:00:00",
          "2002-05-16T00:00:00",
          "2004-10-12T00:00:00",
          "2005-08-16T00:00:00",
          "2004-11-14T00:00:00",
          "2002-09-17T00:00:00",
          "2004-10-20T00:00:00",
          "2003-06-01T00:00:00",
          "2005-06-27T00:00:00",
          "2002-01-22T00:00:00",
          "2002-10-07T00:00:00",
          "2005-10-18T00:00:00",
          "2004-08-22T00:00:00",
          "2004-11-17T00:00:00",
          "2005-10-09T00:00:00",
          "2003-03-02T00:00:00",
          "2005-02-06T00:00:00",
          "2004-02-17T00:00:00",
          "2004-09-13T00:00:00",
          "2003-01-06T00:00:00",
          "2003-07-20T00:00:00",
          "2004-01-04T00:00:00",
          "2003-12-24T00:00:00",
          "2004-01-14T00:00:00",
          "2003-12-13T00:00:00",
          "2002-07-25T00:00:00",
          "2005-02-07T00:00:00",
          "2002-03-14T00:00:00",
          "2002-03-04T00:00:00",
          "2002-11-17T00:00:00",
          "2004-01-11T00:00:00",
          "2004-09-15T00:00:00",
          "2004-01-07T00:00:00",
          "2004-12-19T00:00:00",
          "2005-07-01T00:00:00",
          "2003-11-27T00:00:00",
          "2002-04-24T00:00:00",
          "2003-11-16T00:00:00",
          "2005-08-23T00:00:00",
          "2005-10-18T00:00:00",
          "2003-07-04T00:00:00",
          "2005-05-30T00:00:00",
          "2004-04-14T00:00:00",
          "2003-07-22T00:00:00",
          "2003-09-24T00:00:00",
          "2002-02-15T00:00:00",
          "2005-11-27T00:00:00",
          "2003-01-12T00:00:00",
          "2003-06-17T00:00:00",
          "2002-09-13T00:00:00",
          "2005-11-06T00:00:00",
          "2003-02-03T00:00:00",
          "2002-01-04T00:00:00",
          "2002-01-28T00:00:00",
          "2005-05-05T00:00:00",
          "2005-09-12T00:00:00",
          "2003-08-27T00:00:00",
          "2003-11-10T00:00:00",
          "2003-06-02T00:00:00",
          "2003-04-30T00:00:00",
          "2005-09-23T00:00:00",
          "2005-05-08T00:00:00",
          "2002-01-25T00:00:00",
          "2002-02-10T00:00:00",
          "2004-10-10T00:00:00",
          "2002-11-10T00:00:00",
          "2002-08-11T00:00:00",
          "2002-12-14T00:00:00",
          "2002-09-23T00:00:00",
          "2005-07-12T00:00:00",
          "2003-02-15T00:00:00",
          "2004-01-08T00:00:00",
          "2002-11-21T00:00:00",
          "2005-03-21T00:00:00",
          "2005-08-19T00:00:00",
          "2004-09-06T00:00:00",
          "2005-07-19T00:00:00",
          "2002-12-11T00:00:00",
          "2002-01-09T00:00:00",
          "2003-06-09T00:00:00",
          "2003-06-26T00:00:00",
          "2002-04-26T00:00:00",
          "2002-08-13T00:00:00",
          "2005-09-08T00:00:00",
          "2002-12-21T00:00:00",
          "2004-12-21T00:00:00",
          "2004-08-07T00:00:00",
          "2002-08-18T00:00:00",
          "2005-09-22T00:00:00",
          "2002-07-31T00:00:00",
          "2005-09-09T00:00:00",
          "2005-10-02T00:00:00",
          "2005-05-03T00:00:00",
          "2003-12-02T00:00:00",
          "2002-08-18T00:00:00",
          "2002-09-05T00:00:00",
          "2005-11-30T00:00:00",
          "2002-01-05T00:00:00",
          "2003-01-14T00:00:00",
          "2002-11-18T00:00:00",
          "2003-07-13T00:00:00",
          "2004-12-10T00:00:00",
          "2003-08-21T00:00:00",
          "2005-08-20T00:00:00",
          "2002-08-15T00:00:00",
          "2005-09-30T00:00:00",
          "2004-11-10T00:00:00",
          "2004-05-26T00:00:00",
          "2002-10-07T00:00:00",
          "2004-07-28T00:00:00",
          "2005-05-17T00:00:00",
          "2003-07-03T00:00:00"
         ],
         "xaxis": "x2",
         "yaxis": "y2",
         "type": "box"
        },
        {
         "alignmentgroup": "True",
         "bingroup": "x",
         "histfunc": "sum",
         "hovertemplate": "rating=5.0<br>datetime=%{x}<br>sum of rating=%{y}<extra></extra>",
         "legendgroup": "5.0",
         "marker": {
          "color": "#FFA15A",
          "pattern": {
           "shape": "+"
          }
         },
         "name": "5.0",
         "offsetgroup": "5.0",
         "orientation": "v",
         "showlegend": true,
         "x": [
          "2004-10-17T00:00:00",
          "2002-12-02T00:00:00",
          "2005-07-23T00:00:00",
          "2005-03-16T00:00:00",
          "2004-01-06T00:00:00",
          "2003-05-20T00:00:00",
          "2002-12-28T00:00:00",
          "2002-11-01T00:00:00",
          "2003-11-25T00:00:00",
          "2003-03-04T00:00:00",
          "2002-07-13T00:00:00",
          "2005-05-01T00:00:00",
          "2002-08-23T00:00:00",
          "2002-03-21T00:00:00",
          "2005-08-08T00:00:00",
          "2003-05-20T00:00:00",
          "2004-04-27T00:00:00",
          "2004-04-10T00:00:00",
          "2005-07-10T00:00:00",
          "2003-08-05T00:00:00",
          "2004-08-19T00:00:00",
          "2002-01-10T00:00:00",
          "2003-06-12T00:00:00",
          "2003-11-09T00:00:00",
          "2005-05-24T00:00:00",
          "2005-03-20T00:00:00",
          "2003-06-30T00:00:00",
          "2004-02-23T00:00:00",
          "2002-10-28T00:00:00",
          "2004-05-24T00:00:00",
          "2005-03-24T00:00:00",
          "2005-10-23T00:00:00",
          "2004-06-12T00:00:00",
          "2005-05-15T00:00:00",
          "2004-10-21T00:00:00",
          "2005-10-29T00:00:00",
          "2002-06-15T00:00:00",
          "2004-10-21T00:00:00",
          "2005-12-29T00:00:00",
          "2002-11-10T00:00:00",
          "2005-08-03T00:00:00",
          "2003-01-09T00:00:00",
          "2002-06-22T00:00:00",
          "2005-04-15T00:00:00",
          "2002-12-21T00:00:00",
          "2004-07-05T00:00:00",
          "2004-09-25T00:00:00",
          "2005-01-26T00:00:00",
          "2004-08-15T00:00:00",
          "2004-04-13T00:00:00",
          "2002-04-21T00:00:00",
          "2002-03-26T00:00:00",
          "2004-03-19T00:00:00",
          "2005-11-27T00:00:00",
          "2005-04-03T00:00:00",
          "2002-03-29T00:00:00",
          "2002-11-20T00:00:00",
          "2002-01-20T00:00:00",
          "2005-04-15T00:00:00",
          "2005-01-07T00:00:00",
          "2003-07-18T00:00:00",
          "2004-10-05T00:00:00",
          "2003-03-05T00:00:00",
          "2004-09-30T00:00:00",
          "2005-05-08T00:00:00",
          "2004-05-09T00:00:00",
          "2003-07-12T00:00:00",
          "2002-05-15T00:00:00",
          "2002-06-13T00:00:00",
          "2003-07-22T00:00:00",
          "2004-10-17T00:00:00",
          "2003-01-16T00:00:00",
          "2004-11-30T00:00:00",
          "2003-11-18T00:00:00",
          "2004-08-07T00:00:00",
          "2002-08-10T00:00:00",
          "2004-03-20T00:00:00",
          "2002-06-28T00:00:00",
          "2004-06-28T00:00:00",
          "2002-10-01T00:00:00",
          "2003-01-29T00:00:00",
          "2005-12-31T00:00:00",
          "2004-11-23T00:00:00",
          "2004-05-09T00:00:00",
          "2002-06-15T00:00:00",
          "2005-10-30T00:00:00",
          "2003-07-29T00:00:00",
          "2002-08-09T00:00:00",
          "2003-05-30T00:00:00",
          "2002-12-29T00:00:00",
          "2005-12-27T00:00:00",
          "2005-12-14T00:00:00",
          "2004-08-23T00:00:00",
          "2004-06-12T00:00:00",
          "2004-08-13T00:00:00",
          "2005-01-05T00:00:00",
          "2003-11-22T00:00:00",
          "2004-09-26T00:00:00",
          "2004-11-01T00:00:00",
          "2002-10-30T00:00:00",
          "2005-06-08T00:00:00",
          "2003-07-13T00:00:00",
          "2005-01-14T00:00:00",
          "2002-01-27T00:00:00",
          "2002-05-18T00:00:00"
         ],
         "xaxis": "x",
         "y": [
          5.0,
          5.0,
          5.0,
          5.0,
          5.0,
          5.0,
          5.0,
          5.0,
          5.0,
          5.0,
          5.0,
          5.0,
          5.0,
          5.0,
          5.0,
          5.0,
          5.0,
          5.0,
          5.0,
          5.0,
          5.0,
          5.0,
          5.0,
          5.0,
          5.0,
          5.0,
          5.0,
          5.0,
          5.0,
          5.0,
          5.0,
          5.0,
          5.0,
          5.0,
          5.0,
          5.0,
          5.0,
          5.0,
          5.0,
          5.0,
          5.0,
          5.0,
          5.0,
          5.0,
          5.0,
          5.0,
          5.0,
          5.0,
          5.0,
          5.0,
          5.0,
          5.0,
          5.0,
          5.0,
          5.0,
          5.0,
          5.0,
          5.0,
          5.0,
          5.0,
          5.0,
          5.0,
          5.0,
          5.0,
          5.0,
          5.0,
          5.0,
          5.0,
          5.0,
          5.0,
          5.0,
          5.0,
          5.0,
          5.0,
          5.0,
          5.0,
          5.0,
          5.0,
          5.0,
          5.0,
          5.0,
          5.0,
          5.0,
          5.0,
          5.0,
          5.0,
          5.0,
          5.0,
          5.0,
          5.0,
          5.0,
          5.0,
          5.0,
          5.0,
          5.0,
          5.0,
          5.0,
          5.0,
          5.0,
          5.0,
          5.0,
          5.0,
          5.0,
          5.0,
          5.0
         ],
         "yaxis": "y",
         "type": "histogram"
        },
        {
         "alignmentgroup": "True",
         "boxpoints": "all",
         "fillcolor": "rgba(255,255,255,0)",
         "hoveron": "points",
         "hovertemplate": "rating=5.0<br>datetime=%{x}<extra></extra>",
         "jitter": 0,
         "legendgroup": "5.0",
         "line": {
          "color": "rgba(255,255,255,0)"
         },
         "marker": {
          "color": "#FFA15A",
          "symbol": "line-ns-open"
         },
         "name": "5.0",
         "offsetgroup": "5.0",
         "showlegend": false,
         "x": [
          "2004-10-17T00:00:00",
          "2002-12-02T00:00:00",
          "2005-07-23T00:00:00",
          "2005-03-16T00:00:00",
          "2004-01-06T00:00:00",
          "2003-05-20T00:00:00",
          "2002-12-28T00:00:00",
          "2002-11-01T00:00:00",
          "2003-11-25T00:00:00",
          "2003-03-04T00:00:00",
          "2002-07-13T00:00:00",
          "2005-05-01T00:00:00",
          "2002-08-23T00:00:00",
          "2002-03-21T00:00:00",
          "2005-08-08T00:00:00",
          "2003-05-20T00:00:00",
          "2004-04-27T00:00:00",
          "2004-04-10T00:00:00",
          "2005-07-10T00:00:00",
          "2003-08-05T00:00:00",
          "2004-08-19T00:00:00",
          "2002-01-10T00:00:00",
          "2003-06-12T00:00:00",
          "2003-11-09T00:00:00",
          "2005-05-24T00:00:00",
          "2005-03-20T00:00:00",
          "2003-06-30T00:00:00",
          "2004-02-23T00:00:00",
          "2002-10-28T00:00:00",
          "2004-05-24T00:00:00",
          "2005-03-24T00:00:00",
          "2005-10-23T00:00:00",
          "2004-06-12T00:00:00",
          "2005-05-15T00:00:00",
          "2004-10-21T00:00:00",
          "2005-10-29T00:00:00",
          "2002-06-15T00:00:00",
          "2004-10-21T00:00:00",
          "2005-12-29T00:00:00",
          "2002-11-10T00:00:00",
          "2005-08-03T00:00:00",
          "2003-01-09T00:00:00",
          "2002-06-22T00:00:00",
          "2005-04-15T00:00:00",
          "2002-12-21T00:00:00",
          "2004-07-05T00:00:00",
          "2004-09-25T00:00:00",
          "2005-01-26T00:00:00",
          "2004-08-15T00:00:00",
          "2004-04-13T00:00:00",
          "2002-04-21T00:00:00",
          "2002-03-26T00:00:00",
          "2004-03-19T00:00:00",
          "2005-11-27T00:00:00",
          "2005-04-03T00:00:00",
          "2002-03-29T00:00:00",
          "2002-11-20T00:00:00",
          "2002-01-20T00:00:00",
          "2005-04-15T00:00:00",
          "2005-01-07T00:00:00",
          "2003-07-18T00:00:00",
          "2004-10-05T00:00:00",
          "2003-03-05T00:00:00",
          "2004-09-30T00:00:00",
          "2005-05-08T00:00:00",
          "2004-05-09T00:00:00",
          "2003-07-12T00:00:00",
          "2002-05-15T00:00:00",
          "2002-06-13T00:00:00",
          "2003-07-22T00:00:00",
          "2004-10-17T00:00:00",
          "2003-01-16T00:00:00",
          "2004-11-30T00:00:00",
          "2003-11-18T00:00:00",
          "2004-08-07T00:00:00",
          "2002-08-10T00:00:00",
          "2004-03-20T00:00:00",
          "2002-06-28T00:00:00",
          "2004-06-28T00:00:00",
          "2002-10-01T00:00:00",
          "2003-01-29T00:00:00",
          "2005-12-31T00:00:00",
          "2004-11-23T00:00:00",
          "2004-05-09T00:00:00",
          "2002-06-15T00:00:00",
          "2005-10-30T00:00:00",
          "2003-07-29T00:00:00",
          "2002-08-09T00:00:00",
          "2003-05-30T00:00:00",
          "2002-12-29T00:00:00",
          "2005-12-27T00:00:00",
          "2005-12-14T00:00:00",
          "2004-08-23T00:00:00",
          "2004-06-12T00:00:00",
          "2004-08-13T00:00:00",
          "2005-01-05T00:00:00",
          "2003-11-22T00:00:00",
          "2004-09-26T00:00:00",
          "2004-11-01T00:00:00",
          "2002-10-30T00:00:00",
          "2005-06-08T00:00:00",
          "2003-07-13T00:00:00",
          "2005-01-14T00:00:00",
          "2002-01-27T00:00:00",
          "2002-05-18T00:00:00"
         ],
         "xaxis": "x2",
         "yaxis": "y2",
         "type": "box"
        },
        {
         "alignmentgroup": "True",
         "bingroup": "x",
         "histfunc": "sum",
         "hovertemplate": "rating=3.5<br>datetime=%{x}<br>sum of rating=%{y}<extra></extra>",
         "legendgroup": "3.5",
         "marker": {
          "color": "#19d3f3",
          "pattern": {
           "shape": "."
          }
         },
         "name": "3.5",
         "offsetgroup": "3.5",
         "orientation": "v",
         "showlegend": true,
         "x": [
          "2005-05-11T00:00:00",
          "2005-01-05T00:00:00",
          "2005-10-26T00:00:00",
          "2005-04-05T00:00:00",
          "2003-08-06T00:00:00",
          "2004-05-30T00:00:00",
          "2003-09-15T00:00:00",
          "2005-11-07T00:00:00",
          "2004-02-13T00:00:00",
          "2004-05-23T00:00:00",
          "2005-09-02T00:00:00",
          "2004-03-09T00:00:00",
          "2004-04-13T00:00:00",
          "2004-06-18T00:00:00",
          "2002-01-27T00:00:00",
          "2003-12-13T00:00:00",
          "2005-11-13T00:00:00",
          "2005-05-19T00:00:00",
          "2004-10-04T00:00:00",
          "2005-12-05T00:00:00",
          "2004-09-18T00:00:00",
          "2004-08-04T00:00:00",
          "2005-12-29T00:00:00",
          "2002-04-02T00:00:00",
          "2004-04-29T00:00:00",
          "2002-12-12T00:00:00",
          "2002-12-22T00:00:00"
         ],
         "xaxis": "x",
         "y": [
          3.5,
          3.5,
          3.5,
          3.5,
          3.5,
          3.5,
          3.5,
          3.5,
          3.5,
          3.5,
          3.5,
          3.5,
          3.5,
          3.5,
          3.5,
          3.5,
          3.5,
          3.5,
          3.5,
          3.5,
          3.5,
          3.5,
          3.5,
          3.5,
          3.5,
          3.5,
          3.5
         ],
         "yaxis": "y",
         "type": "histogram"
        },
        {
         "alignmentgroup": "True",
         "boxpoints": "all",
         "fillcolor": "rgba(255,255,255,0)",
         "hoveron": "points",
         "hovertemplate": "rating=3.5<br>datetime=%{x}<extra></extra>",
         "jitter": 0,
         "legendgroup": "3.5",
         "line": {
          "color": "rgba(255,255,255,0)"
         },
         "marker": {
          "color": "#19d3f3",
          "symbol": "line-ns-open"
         },
         "name": "3.5",
         "offsetgroup": "3.5",
         "showlegend": false,
         "x": [
          "2005-05-11T00:00:00",
          "2005-01-05T00:00:00",
          "2005-10-26T00:00:00",
          "2005-04-05T00:00:00",
          "2003-08-06T00:00:00",
          "2004-05-30T00:00:00",
          "2003-09-15T00:00:00",
          "2005-11-07T00:00:00",
          "2004-02-13T00:00:00",
          "2004-05-23T00:00:00",
          "2005-09-02T00:00:00",
          "2004-03-09T00:00:00",
          "2004-04-13T00:00:00",
          "2004-06-18T00:00:00",
          "2002-01-27T00:00:00",
          "2003-12-13T00:00:00",
          "2005-11-13T00:00:00",
          "2005-05-19T00:00:00",
          "2004-10-04T00:00:00",
          "2005-12-05T00:00:00",
          "2004-09-18T00:00:00",
          "2004-08-04T00:00:00",
          "2005-12-29T00:00:00",
          "2002-04-02T00:00:00",
          "2004-04-29T00:00:00",
          "2002-12-12T00:00:00",
          "2002-12-22T00:00:00"
         ],
         "xaxis": "x2",
         "yaxis": "y2",
         "type": "box"
        },
        {
         "alignmentgroup": "True",
         "bingroup": "x",
         "histfunc": "sum",
         "hovertemplate": "rating=2.0<br>datetime=%{x}<br>sum of rating=%{y}<extra></extra>",
         "legendgroup": "2.0",
         "marker": {
          "color": "#FF6692",
          "pattern": {
           "shape": ""
          }
         },
         "name": "2.0",
         "offsetgroup": "2.0",
         "orientation": "v",
         "showlegend": true,
         "x": [
          "2005-08-19T00:00:00",
          "2004-07-05T00:00:00",
          "2004-06-26T00:00:00",
          "2002-11-25T00:00:00",
          "2002-07-13T00:00:00",
          "2005-11-14T00:00:00",
          "2002-06-11T00:00:00",
          "2002-04-24T00:00:00",
          "2004-07-02T00:00:00",
          "2005-08-02T00:00:00",
          "2005-08-03T00:00:00",
          "2004-03-17T00:00:00",
          "2004-06-18T00:00:00",
          "2004-10-02T00:00:00",
          "2003-09-10T00:00:00",
          "2003-08-11T00:00:00",
          "2002-08-06T00:00:00",
          "2004-03-06T00:00:00",
          "2005-04-29T00:00:00",
          "2004-02-22T00:00:00",
          "2005-06-23T00:00:00",
          "2005-06-11T00:00:00",
          "2004-06-22T00:00:00",
          "2003-06-07T00:00:00",
          "2002-04-29T00:00:00",
          "2004-04-16T00:00:00",
          "2002-01-24T00:00:00",
          "2004-02-21T00:00:00",
          "2005-08-23T00:00:00",
          "2005-12-24T00:00:00",
          "2003-12-18T00:00:00",
          "2003-05-26T00:00:00",
          "2004-05-08T00:00:00",
          "2004-11-06T00:00:00",
          "2003-05-22T00:00:00"
         ],
         "xaxis": "x",
         "y": [
          2.0,
          2.0,
          2.0,
          2.0,
          2.0,
          2.0,
          2.0,
          2.0,
          2.0,
          2.0,
          2.0,
          2.0,
          2.0,
          2.0,
          2.0,
          2.0,
          2.0,
          2.0,
          2.0,
          2.0,
          2.0,
          2.0,
          2.0,
          2.0,
          2.0,
          2.0,
          2.0,
          2.0,
          2.0,
          2.0,
          2.0,
          2.0,
          2.0,
          2.0,
          2.0
         ],
         "yaxis": "y",
         "type": "histogram"
        },
        {
         "alignmentgroup": "True",
         "boxpoints": "all",
         "fillcolor": "rgba(255,255,255,0)",
         "hoveron": "points",
         "hovertemplate": "rating=2.0<br>datetime=%{x}<extra></extra>",
         "jitter": 0,
         "legendgroup": "2.0",
         "line": {
          "color": "rgba(255,255,255,0)"
         },
         "marker": {
          "color": "#FF6692",
          "symbol": "line-ns-open"
         },
         "name": "2.0",
         "offsetgroup": "2.0",
         "showlegend": false,
         "x": [
          "2005-08-19T00:00:00",
          "2004-07-05T00:00:00",
          "2004-06-26T00:00:00",
          "2002-11-25T00:00:00",
          "2002-07-13T00:00:00",
          "2005-11-14T00:00:00",
          "2002-06-11T00:00:00",
          "2002-04-24T00:00:00",
          "2004-07-02T00:00:00",
          "2005-08-02T00:00:00",
          "2005-08-03T00:00:00",
          "2004-03-17T00:00:00",
          "2004-06-18T00:00:00",
          "2004-10-02T00:00:00",
          "2003-09-10T00:00:00",
          "2003-08-11T00:00:00",
          "2002-08-06T00:00:00",
          "2004-03-06T00:00:00",
          "2005-04-29T00:00:00",
          "2004-02-22T00:00:00",
          "2005-06-23T00:00:00",
          "2005-06-11T00:00:00",
          "2004-06-22T00:00:00",
          "2003-06-07T00:00:00",
          "2002-04-29T00:00:00",
          "2004-04-16T00:00:00",
          "2002-01-24T00:00:00",
          "2004-02-21T00:00:00",
          "2005-08-23T00:00:00",
          "2005-12-24T00:00:00",
          "2003-12-18T00:00:00",
          "2003-05-26T00:00:00",
          "2004-05-08T00:00:00",
          "2004-11-06T00:00:00",
          "2003-05-22T00:00:00"
         ],
         "xaxis": "x2",
         "yaxis": "y2",
         "type": "box"
        },
        {
         "alignmentgroup": "True",
         "bingroup": "x",
         "histfunc": "sum",
         "hovertemplate": "rating=1.5<br>datetime=%{x}<br>sum of rating=%{y}<extra></extra>",
         "legendgroup": "1.5",
         "marker": {
          "color": "#B6E880",
          "pattern": {
           "shape": "/"
          }
         },
         "name": "1.5",
         "offsetgroup": "1.5",
         "orientation": "v",
         "showlegend": true,
         "x": [
          "2002-12-14T00:00:00",
          "2005-07-01T00:00:00",
          "2003-06-25T00:00:00"
         ],
         "xaxis": "x",
         "y": [
          1.5,
          1.5,
          1.5
         ],
         "yaxis": "y",
         "type": "histogram"
        },
        {
         "alignmentgroup": "True",
         "boxpoints": "all",
         "fillcolor": "rgba(255,255,255,0)",
         "hoveron": "points",
         "hovertemplate": "rating=1.5<br>datetime=%{x}<extra></extra>",
         "jitter": 0,
         "legendgroup": "1.5",
         "line": {
          "color": "rgba(255,255,255,0)"
         },
         "marker": {
          "color": "#B6E880",
          "symbol": "line-ns-open"
         },
         "name": "1.5",
         "offsetgroup": "1.5",
         "showlegend": false,
         "x": [
          "2002-12-14T00:00:00",
          "2005-07-01T00:00:00",
          "2003-06-25T00:00:00"
         ],
         "xaxis": "x2",
         "yaxis": "y2",
         "type": "box"
        }
       ],
       "layout": {
        "template": {
         "data": {
          "histogram2dcontour": [
           {
            "type": "histogram2dcontour",
            "colorbar": {
             "outlinewidth": 0,
             "ticks": ""
            },
            "colorscale": [
             [
              0.0,
              "#0d0887"
             ],
             [
              0.1111111111111111,
              "#46039f"
             ],
             [
              0.2222222222222222,
              "#7201a8"
             ],
             [
              0.3333333333333333,
              "#9c179e"
             ],
             [
              0.4444444444444444,
              "#bd3786"
             ],
             [
              0.5555555555555556,
              "#d8576b"
             ],
             [
              0.6666666666666666,
              "#ed7953"
             ],
             [
              0.7777777777777778,
              "#fb9f3a"
             ],
             [
              0.8888888888888888,
              "#fdca26"
             ],
             [
              1.0,
              "#f0f921"
             ]
            ]
           }
          ],
          "choropleth": [
           {
            "type": "choropleth",
            "colorbar": {
             "outlinewidth": 0,
             "ticks": ""
            }
           }
          ],
          "histogram2d": [
           {
            "type": "histogram2d",
            "colorbar": {
             "outlinewidth": 0,
             "ticks": ""
            },
            "colorscale": [
             [
              0.0,
              "#0d0887"
             ],
             [
              0.1111111111111111,
              "#46039f"
             ],
             [
              0.2222222222222222,
              "#7201a8"
             ],
             [
              0.3333333333333333,
              "#9c179e"
             ],
             [
              0.4444444444444444,
              "#bd3786"
             ],
             [
              0.5555555555555556,
              "#d8576b"
             ],
             [
              0.6666666666666666,
              "#ed7953"
             ],
             [
              0.7777777777777778,
              "#fb9f3a"
             ],
             [
              0.8888888888888888,
              "#fdca26"
             ],
             [
              1.0,
              "#f0f921"
             ]
            ]
           }
          ],
          "heatmap": [
           {
            "type": "heatmap",
            "colorbar": {
             "outlinewidth": 0,
             "ticks": ""
            },
            "colorscale": [
             [
              0.0,
              "#0d0887"
             ],
             [
              0.1111111111111111,
              "#46039f"
             ],
             [
              0.2222222222222222,
              "#7201a8"
             ],
             [
              0.3333333333333333,
              "#9c179e"
             ],
             [
              0.4444444444444444,
              "#bd3786"
             ],
             [
              0.5555555555555556,
              "#d8576b"
             ],
             [
              0.6666666666666666,
              "#ed7953"
             ],
             [
              0.7777777777777778,
              "#fb9f3a"
             ],
             [
              0.8888888888888888,
              "#fdca26"
             ],
             [
              1.0,
              "#f0f921"
             ]
            ]
           }
          ],
          "heatmapgl": [
           {
            "type": "heatmapgl",
            "colorbar": {
             "outlinewidth": 0,
             "ticks": ""
            },
            "colorscale": [
             [
              0.0,
              "#0d0887"
             ],
             [
              0.1111111111111111,
              "#46039f"
             ],
             [
              0.2222222222222222,
              "#7201a8"
             ],
             [
              0.3333333333333333,
              "#9c179e"
             ],
             [
              0.4444444444444444,
              "#bd3786"
             ],
             [
              0.5555555555555556,
              "#d8576b"
             ],
             [
              0.6666666666666666,
              "#ed7953"
             ],
             [
              0.7777777777777778,
              "#fb9f3a"
             ],
             [
              0.8888888888888888,
              "#fdca26"
             ],
             [
              1.0,
              "#f0f921"
             ]
            ]
           }
          ],
          "contourcarpet": [
           {
            "type": "contourcarpet",
            "colorbar": {
             "outlinewidth": 0,
             "ticks": ""
            }
           }
          ],
          "contour": [
           {
            "type": "contour",
            "colorbar": {
             "outlinewidth": 0,
             "ticks": ""
            },
            "colorscale": [
             [
              0.0,
              "#0d0887"
             ],
             [
              0.1111111111111111,
              "#46039f"
             ],
             [
              0.2222222222222222,
              "#7201a8"
             ],
             [
              0.3333333333333333,
              "#9c179e"
             ],
             [
              0.4444444444444444,
              "#bd3786"
             ],
             [
              0.5555555555555556,
              "#d8576b"
             ],
             [
              0.6666666666666666,
              "#ed7953"
             ],
             [
              0.7777777777777778,
              "#fb9f3a"
             ],
             [
              0.8888888888888888,
              "#fdca26"
             ],
             [
              1.0,
              "#f0f921"
             ]
            ]
           }
          ],
          "surface": [
           {
            "type": "surface",
            "colorbar": {
             "outlinewidth": 0,
             "ticks": ""
            },
            "colorscale": [
             [
              0.0,
              "#0d0887"
             ],
             [
              0.1111111111111111,
              "#46039f"
             ],
             [
              0.2222222222222222,
              "#7201a8"
             ],
             [
              0.3333333333333333,
              "#9c179e"
             ],
             [
              0.4444444444444444,
              "#bd3786"
             ],
             [
              0.5555555555555556,
              "#d8576b"
             ],
             [
              0.6666666666666666,
              "#ed7953"
             ],
             [
              0.7777777777777778,
              "#fb9f3a"
             ],
             [
              0.8888888888888888,
              "#fdca26"
             ],
             [
              1.0,
              "#f0f921"
             ]
            ]
           }
          ],
          "mesh3d": [
           {
            "type": "mesh3d",
            "colorbar": {
             "outlinewidth": 0,
             "ticks": ""
            }
           }
          ],
          "scatter": [
           {
            "marker": {
             "line": {
              "color": "#283442"
             }
            },
            "type": "scatter"
           }
          ],
          "parcoords": [
           {
            "type": "parcoords",
            "line": {
             "colorbar": {
              "outlinewidth": 0,
              "ticks": ""
             }
            }
           }
          ],
          "scatterpolargl": [
           {
            "type": "scatterpolargl",
            "marker": {
             "colorbar": {
              "outlinewidth": 0,
              "ticks": ""
             }
            }
           }
          ],
          "bar": [
           {
            "error_x": {
             "color": "#f2f5fa"
            },
            "error_y": {
             "color": "#f2f5fa"
            },
            "marker": {
             "line": {
              "color": "rgb(17,17,17)",
              "width": 0.5
             },
             "pattern": {
              "fillmode": "overlay",
              "size": 10,
              "solidity": 0.2
             }
            },
            "type": "bar"
           }
          ],
          "scattergeo": [
           {
            "type": "scattergeo",
            "marker": {
             "colorbar": {
              "outlinewidth": 0,
              "ticks": ""
             }
            }
           }
          ],
          "scatterpolar": [
           {
            "type": "scatterpolar",
            "marker": {
             "colorbar": {
              "outlinewidth": 0,
              "ticks": ""
             }
            }
           }
          ],
          "histogram": [
           {
            "marker": {
             "pattern": {
              "fillmode": "overlay",
              "size": 10,
              "solidity": 0.2
             }
            },
            "type": "histogram"
           }
          ],
          "scattergl": [
           {
            "marker": {
             "line": {
              "color": "#283442"
             }
            },
            "type": "scattergl"
           }
          ],
          "scatter3d": [
           {
            "type": "scatter3d",
            "line": {
             "colorbar": {
              "outlinewidth": 0,
              "ticks": ""
             }
            },
            "marker": {
             "colorbar": {
              "outlinewidth": 0,
              "ticks": ""
             }
            }
           }
          ],
          "scattermapbox": [
           {
            "type": "scattermapbox",
            "marker": {
             "colorbar": {
              "outlinewidth": 0,
              "ticks": ""
             }
            }
           }
          ],
          "scatterternary": [
           {
            "type": "scatterternary",
            "marker": {
             "colorbar": {
              "outlinewidth": 0,
              "ticks": ""
             }
            }
           }
          ],
          "scattercarpet": [
           {
            "type": "scattercarpet",
            "marker": {
             "colorbar": {
              "outlinewidth": 0,
              "ticks": ""
             }
            }
           }
          ],
          "carpet": [
           {
            "aaxis": {
             "endlinecolor": "#A2B1C6",
             "gridcolor": "#506784",
             "linecolor": "#506784",
             "minorgridcolor": "#506784",
             "startlinecolor": "#A2B1C6"
            },
            "baxis": {
             "endlinecolor": "#A2B1C6",
             "gridcolor": "#506784",
             "linecolor": "#506784",
             "minorgridcolor": "#506784",
             "startlinecolor": "#A2B1C6"
            },
            "type": "carpet"
           }
          ],
          "table": [
           {
            "cells": {
             "fill": {
              "color": "#506784"
             },
             "line": {
              "color": "rgb(17,17,17)"
             }
            },
            "header": {
             "fill": {
              "color": "#2a3f5f"
             },
             "line": {
              "color": "rgb(17,17,17)"
             }
            },
            "type": "table"
           }
          ],
          "barpolar": [
           {
            "marker": {
             "line": {
              "color": "rgb(17,17,17)",
              "width": 0.5
             },
             "pattern": {
              "fillmode": "overlay",
              "size": 10,
              "solidity": 0.2
             }
            },
            "type": "barpolar"
           }
          ],
          "pie": [
           {
            "automargin": true,
            "type": "pie"
           }
          ]
         },
         "layout": {
          "autotypenumbers": "strict",
          "colorway": [
           "#636efa",
           "#EF553B",
           "#00cc96",
           "#ab63fa",
           "#FFA15A",
           "#19d3f3",
           "#FF6692",
           "#B6E880",
           "#FF97FF",
           "#FECB52"
          ],
          "font": {
           "color": "#f2f5fa"
          },
          "hovermode": "closest",
          "hoverlabel": {
           "align": "left"
          },
          "paper_bgcolor": "rgb(17,17,17)",
          "plot_bgcolor": "rgb(17,17,17)",
          "polar": {
           "bgcolor": "rgb(17,17,17)",
           "angularaxis": {
            "gridcolor": "#506784",
            "linecolor": "#506784",
            "ticks": ""
           },
           "radialaxis": {
            "gridcolor": "#506784",
            "linecolor": "#506784",
            "ticks": ""
           }
          },
          "ternary": {
           "bgcolor": "rgb(17,17,17)",
           "aaxis": {
            "gridcolor": "#506784",
            "linecolor": "#506784",
            "ticks": ""
           },
           "baxis": {
            "gridcolor": "#506784",
            "linecolor": "#506784",
            "ticks": ""
           },
           "caxis": {
            "gridcolor": "#506784",
            "linecolor": "#506784",
            "ticks": ""
           }
          },
          "coloraxis": {
           "colorbar": {
            "outlinewidth": 0,
            "ticks": ""
           }
          },
          "colorscale": {
           "sequential": [
            [
             0.0,
             "#0d0887"
            ],
            [
             0.1111111111111111,
             "#46039f"
            ],
            [
             0.2222222222222222,
             "#7201a8"
            ],
            [
             0.3333333333333333,
             "#9c179e"
            ],
            [
             0.4444444444444444,
             "#bd3786"
            ],
            [
             0.5555555555555556,
             "#d8576b"
            ],
            [
             0.6666666666666666,
             "#ed7953"
            ],
            [
             0.7777777777777778,
             "#fb9f3a"
            ],
            [
             0.8888888888888888,
             "#fdca26"
            ],
            [
             1.0,
             "#f0f921"
            ]
           ],
           "sequentialminus": [
            [
             0.0,
             "#0d0887"
            ],
            [
             0.1111111111111111,
             "#46039f"
            ],
            [
             0.2222222222222222,
             "#7201a8"
            ],
            [
             0.3333333333333333,
             "#9c179e"
            ],
            [
             0.4444444444444444,
             "#bd3786"
            ],
            [
             0.5555555555555556,
             "#d8576b"
            ],
            [
             0.6666666666666666,
             "#ed7953"
            ],
            [
             0.7777777777777778,
             "#fb9f3a"
            ],
            [
             0.8888888888888888,
             "#fdca26"
            ],
            [
             1.0,
             "#f0f921"
            ]
           ],
           "diverging": [
            [
             0,
             "#8e0152"
            ],
            [
             0.1,
             "#c51b7d"
            ],
            [
             0.2,
             "#de77ae"
            ],
            [
             0.3,
             "#f1b6da"
            ],
            [
             0.4,
             "#fde0ef"
            ],
            [
             0.5,
             "#f7f7f7"
            ],
            [
             0.6,
             "#e6f5d0"
            ],
            [
             0.7,
             "#b8e186"
            ],
            [
             0.8,
             "#7fbc41"
            ],
            [
             0.9,
             "#4d9221"
            ],
            [
             1,
             "#276419"
            ]
           ]
          },
          "xaxis": {
           "gridcolor": "#283442",
           "linecolor": "#506784",
           "ticks": "",
           "title": {
            "standoff": 15
           },
           "zerolinecolor": "#283442",
           "automargin": true,
           "zerolinewidth": 2
          },
          "yaxis": {
           "gridcolor": "#283442",
           "linecolor": "#506784",
           "ticks": "",
           "title": {
            "standoff": 15
           },
           "zerolinecolor": "#283442",
           "automargin": true,
           "zerolinewidth": 2
          },
          "scene": {
           "xaxis": {
            "backgroundcolor": "rgb(17,17,17)",
            "gridcolor": "#506784",
            "linecolor": "#506784",
            "showbackground": true,
            "ticks": "",
            "zerolinecolor": "#C8D4E3",
            "gridwidth": 2
           },
           "yaxis": {
            "backgroundcolor": "rgb(17,17,17)",
            "gridcolor": "#506784",
            "linecolor": "#506784",
            "showbackground": true,
            "ticks": "",
            "zerolinecolor": "#C8D4E3",
            "gridwidth": 2
           },
           "zaxis": {
            "backgroundcolor": "rgb(17,17,17)",
            "gridcolor": "#506784",
            "linecolor": "#506784",
            "showbackground": true,
            "ticks": "",
            "zerolinecolor": "#C8D4E3",
            "gridwidth": 2
           }
          },
          "shapedefaults": {
           "line": {
            "color": "#f2f5fa"
           }
          },
          "annotationdefaults": {
           "arrowcolor": "#f2f5fa",
           "arrowhead": 0,
           "arrowwidth": 1
          },
          "geo": {
           "bgcolor": "rgb(17,17,17)",
           "landcolor": "rgb(17,17,17)",
           "subunitcolor": "#506784",
           "showland": true,
           "showlakes": true,
           "lakecolor": "rgb(17,17,17)"
          },
          "title": {
           "x": 0.05
          },
          "updatemenudefaults": {
           "bgcolor": "#506784",
           "borderwidth": 0
          },
          "sliderdefaults": {
           "bgcolor": "#C8D4E3",
           "borderwidth": 1,
           "bordercolor": "rgb(17,17,17)",
           "tickwidth": 0
          },
          "mapbox": {
           "style": "dark"
          }
         }
        },
        "xaxis": {
         "anchor": "y",
         "domain": [
          0.0,
          1.0
         ],
         "title": {
          "text": "datetime"
         }
        },
        "yaxis": {
         "anchor": "x",
         "domain": [
          0.0,
          0.7326
         ],
         "categoryorder": "array",
         "categoryarray": [
          1.5,
          2.0,
          3.5,
          5.0,
          4.5,
          3.0,
          4.0,
          2.5
         ],
         "title": {
          "text": "sum of rating"
         }
        },
        "xaxis2": {
         "anchor": "y2",
         "domain": [
          0.0,
          1.0
         ],
         "matches": "x",
         "showticklabels": false,
         "showgrid": true
        },
        "yaxis2": {
         "anchor": "x2",
         "domain": [
          0.7426,
          1.0
         ],
         "matches": "y2",
         "categoryorder": "array",
         "categoryarray": [
          1.5,
          2.0,
          3.5,
          5.0,
          4.5,
          3.0,
          4.0,
          2.5
         ],
         "showticklabels": false,
         "showline": false,
         "ticks": "",
         "showgrid": false
        },
        "legend": {
         "title": {
          "text": "rating"
         },
         "tracegroupgap": 0
        },
        "title": {
         "text": "Distribution of rating by time"
        },
        "barmode": "relative"
       },
       "config": {
        "plotlyServerURL": "https://plot.ly"
       }
      },
      "text/html": "<div>                            <div id=\"27b1b385-56ca-4259-8cfb-1541ba8c64ac\" class=\"plotly-graph-div\" style=\"height:525px; width:100%;\"></div>            <script type=\"text/javascript\">                require([\"plotly\"], function(Plotly) {                    window.PLOTLYENV=window.PLOTLYENV || {};                                    if (document.getElementById(\"27b1b385-56ca-4259-8cfb-1541ba8c64ac\")) {                    Plotly.newPlot(                        \"27b1b385-56ca-4259-8cfb-1541ba8c64ac\",                        [{\"alignmentgroup\":\"True\",\"bingroup\":\"x\",\"histfunc\":\"sum\",\"hovertemplate\":\"rating=2.5\\u003cbr\\u003edatetime=%{x}\\u003cbr\\u003esum of rating=%{y}\\u003cextra\\u003e\\u003c\\u002fextra\\u003e\",\"legendgroup\":\"2.5\",\"marker\":{\"color\":\"#636efa\",\"pattern\":{\"shape\":\"\"}},\"name\":\"2.5\",\"offsetgroup\":\"2.5\",\"orientation\":\"v\",\"showlegend\":true,\"x\":[\"2004-12-27T00:00:00\",\"2005-02-10T00:00:00\",\"2004-06-07T00:00:00\",\"2004-02-28T00:00:00\",\"2004-10-25T00:00:00\",\"2004-10-21T00:00:00\",\"2005-04-20T00:00:00\",\"2004-10-13T00:00:00\",\"2002-12-07T00:00:00\",\"2002-02-18T00:00:00\",\"2002-03-25T00:00:00\",\"2005-12-17T00:00:00\",\"2004-12-14T00:00:00\",\"2002-01-04T00:00:00\",\"2005-04-15T00:00:00\",\"2004-04-04T00:00:00\",\"2005-12-24T00:00:00\",\"2004-05-05T00:00:00\",\"2005-08-22T00:00:00\",\"2002-02-05T00:00:00\",\"2002-07-08T00:00:00\",\"2004-12-01T00:00:00\",\"2003-11-27T00:00:00\",\"2002-01-07T00:00:00\",\"2004-03-14T00:00:00\",\"2003-05-04T00:00:00\",\"2004-05-02T00:00:00\",\"2003-04-06T00:00:00\",\"2004-06-10T00:00:00\",\"2004-09-16T00:00:00\",\"2002-04-24T00:00:00\",\"2003-08-31T00:00:00\",\"2004-04-15T00:00:00\",\"2002-03-27T00:00:00\",\"2005-02-28T00:00:00\",\"2004-01-20T00:00:00\",\"2003-10-29T00:00:00\",\"2004-04-25T00:00:00\",\"2004-08-02T00:00:00\",\"2003-12-23T00:00:00\",\"2004-04-21T00:00:00\"],\"xaxis\":\"x\",\"y\":[2.5,2.5,2.5,2.5,2.5,2.5,2.5,2.5,2.5,2.5,2.5,2.5,2.5,2.5,2.5,2.5,2.5,2.5,2.5,2.5,2.5,2.5,2.5,2.5,2.5,2.5,2.5,2.5,2.5,2.5,2.5,2.5,2.5,2.5,2.5,2.5,2.5,2.5,2.5,2.5,2.5],\"yaxis\":\"y\",\"type\":\"histogram\"},{\"alignmentgroup\":\"True\",\"boxpoints\":\"all\",\"fillcolor\":\"rgba(255,255,255,0)\",\"hoveron\":\"points\",\"hovertemplate\":\"rating=2.5\\u003cbr\\u003edatetime=%{x}\\u003cextra\\u003e\\u003c\\u002fextra\\u003e\",\"jitter\":0,\"legendgroup\":\"2.5\",\"line\":{\"color\":\"rgba(255,255,255,0)\"},\"marker\":{\"color\":\"#636efa\",\"symbol\":\"line-ns-open\"},\"name\":\"2.5\",\"offsetgroup\":\"2.5\",\"showlegend\":false,\"x\":[\"2004-12-27T00:00:00\",\"2005-02-10T00:00:00\",\"2004-06-07T00:00:00\",\"2004-02-28T00:00:00\",\"2004-10-25T00:00:00\",\"2004-10-21T00:00:00\",\"2005-04-20T00:00:00\",\"2004-10-13T00:00:00\",\"2002-12-07T00:00:00\",\"2002-02-18T00:00:00\",\"2002-03-25T00:00:00\",\"2005-12-17T00:00:00\",\"2004-12-14T00:00:00\",\"2002-01-04T00:00:00\",\"2005-04-15T00:00:00\",\"2004-04-04T00:00:00\",\"2005-12-24T00:00:00\",\"2004-05-05T00:00:00\",\"2005-08-22T00:00:00\",\"2002-02-05T00:00:00\",\"2002-07-08T00:00:00\",\"2004-12-01T00:00:00\",\"2003-11-27T00:00:00\",\"2002-01-07T00:00:00\",\"2004-03-14T00:00:00\",\"2003-05-04T00:00:00\",\"2004-05-02T00:00:00\",\"2003-04-06T00:00:00\",\"2004-06-10T00:00:00\",\"2004-09-16T00:00:00\",\"2002-04-24T00:00:00\",\"2003-08-31T00:00:00\",\"2004-04-15T00:00:00\",\"2002-03-27T00:00:00\",\"2005-02-28T00:00:00\",\"2004-01-20T00:00:00\",\"2003-10-29T00:00:00\",\"2004-04-25T00:00:00\",\"2004-08-02T00:00:00\",\"2003-12-23T00:00:00\",\"2004-04-21T00:00:00\"],\"xaxis\":\"x2\",\"yaxis\":\"y2\",\"type\":\"box\"},{\"alignmentgroup\":\"True\",\"bingroup\":\"x\",\"histfunc\":\"sum\",\"hovertemplate\":\"rating=4.0\\u003cbr\\u003edatetime=%{x}\\u003cbr\\u003esum of rating=%{y}\\u003cextra\\u003e\\u003c\\u002fextra\\u003e\",\"legendgroup\":\"4.0\",\"marker\":{\"color\":\"#EF553B\",\"pattern\":{\"shape\":\"\\u002f\"}},\"name\":\"4.0\",\"offsetgroup\":\"4.0\",\"orientation\":\"v\",\"showlegend\":true,\"x\":[\"2003-11-22T00:00:00\",\"2005-11-28T00:00:00\",\"2002-02-02T00:00:00\",\"2002-09-01T00:00:00\",\"2002-08-16T00:00:00\",\"2005-05-22T00:00:00\",\"2005-01-28T00:00:00\",\"2002-10-22T00:00:00\",\"2005-02-11T00:00:00\",\"2005-05-30T00:00:00\",\"2002-04-07T00:00:00\",\"2004-10-24T00:00:00\",\"2002-01-20T00:00:00\",\"2003-08-24T00:00:00\",\"2004-11-30T00:00:00\",\"2005-05-18T00:00:00\",\"2005-12-11T00:00:00\",\"2002-07-01T00:00:00\",\"2004-03-18T00:00:00\",\"2003-10-04T00:00:00\",\"2004-03-11T00:00:00\",\"2003-04-22T00:00:00\",\"2004-11-05T00:00:00\",\"2002-06-07T00:00:00\",\"2003-02-02T00:00:00\",\"2004-11-20T00:00:00\",\"2003-09-26T00:00:00\",\"2003-10-08T00:00:00\",\"2002-05-13T00:00:00\",\"2005-11-10T00:00:00\",\"2005-01-10T00:00:00\",\"2005-02-03T00:00:00\",\"2002-09-28T00:00:00\",\"2004-09-14T00:00:00\",\"2002-08-23T00:00:00\",\"2005-05-21T00:00:00\",\"2003-01-03T00:00:00\",\"2004-07-24T00:00:00\",\"2003-04-25T00:00:00\",\"2002-12-01T00:00:00\",\"2004-11-06T00:00:00\",\"2004-04-08T00:00:00\",\"2002-09-20T00:00:00\",\"2002-08-31T00:00:00\",\"2003-12-07T00:00:00\",\"2005-12-22T00:00:00\",\"2004-05-08T00:00:00\",\"2003-08-29T00:00:00\",\"2002-01-19T00:00:00\",\"2004-12-15T00:00:00\",\"2005-10-30T00:00:00\",\"2005-09-26T00:00:00\",\"2002-05-18T00:00:00\",\"2005-02-05T00:00:00\",\"2002-02-08T00:00:00\",\"2002-03-04T00:00:00\",\"2003-07-13T00:00:00\",\"2002-06-29T00:00:00\",\"2004-08-03T00:00:00\",\"2003-12-06T00:00:00\",\"2004-12-11T00:00:00\",\"2004-10-22T00:00:00\",\"2005-10-08T00:00:00\",\"2005-09-07T00:00:00\",\"2003-07-23T00:00:00\",\"2004-02-23T00:00:00\",\"2005-10-24T00:00:00\",\"2005-07-29T00:00:00\",\"2004-01-21T00:00:00\",\"2005-06-07T00:00:00\",\"2003-03-23T00:00:00\",\"2004-08-31T00:00:00\",\"2005-06-02T00:00:00\",\"2003-01-23T00:00:00\",\"2005-09-22T00:00:00\",\"2004-07-04T00:00:00\",\"2005-08-08T00:00:00\",\"2005-07-30T00:00:00\",\"2004-04-07T00:00:00\",\"2002-03-07T00:00:00\",\"2004-09-11T00:00:00\",\"2004-03-26T00:00:00\",\"2005-09-04T00:00:00\",\"2002-06-18T00:00:00\",\"2005-09-28T00:00:00\",\"2003-01-28T00:00:00\",\"2004-06-09T00:00:00\",\"2005-08-05T00:00:00\",\"2002-12-30T00:00:00\",\"2005-03-16T00:00:00\",\"2002-11-10T00:00:00\"],\"xaxis\":\"x\",\"y\":[4.0,4.0,4.0,4.0,4.0,4.0,4.0,4.0,4.0,4.0,4.0,4.0,4.0,4.0,4.0,4.0,4.0,4.0,4.0,4.0,4.0,4.0,4.0,4.0,4.0,4.0,4.0,4.0,4.0,4.0,4.0,4.0,4.0,4.0,4.0,4.0,4.0,4.0,4.0,4.0,4.0,4.0,4.0,4.0,4.0,4.0,4.0,4.0,4.0,4.0,4.0,4.0,4.0,4.0,4.0,4.0,4.0,4.0,4.0,4.0,4.0,4.0,4.0,4.0,4.0,4.0,4.0,4.0,4.0,4.0,4.0,4.0,4.0,4.0,4.0,4.0,4.0,4.0,4.0,4.0,4.0,4.0,4.0,4.0,4.0,4.0,4.0,4.0,4.0,4.0,4.0],\"yaxis\":\"y\",\"type\":\"histogram\"},{\"alignmentgroup\":\"True\",\"boxpoints\":\"all\",\"fillcolor\":\"rgba(255,255,255,0)\",\"hoveron\":\"points\",\"hovertemplate\":\"rating=4.0\\u003cbr\\u003edatetime=%{x}\\u003cextra\\u003e\\u003c\\u002fextra\\u003e\",\"jitter\":0,\"legendgroup\":\"4.0\",\"line\":{\"color\":\"rgba(255,255,255,0)\"},\"marker\":{\"color\":\"#EF553B\",\"symbol\":\"line-ns-open\"},\"name\":\"4.0\",\"offsetgroup\":\"4.0\",\"showlegend\":false,\"x\":[\"2003-11-22T00:00:00\",\"2005-11-28T00:00:00\",\"2002-02-02T00:00:00\",\"2002-09-01T00:00:00\",\"2002-08-16T00:00:00\",\"2005-05-22T00:00:00\",\"2005-01-28T00:00:00\",\"2002-10-22T00:00:00\",\"2005-02-11T00:00:00\",\"2005-05-30T00:00:00\",\"2002-04-07T00:00:00\",\"2004-10-24T00:00:00\",\"2002-01-20T00:00:00\",\"2003-08-24T00:00:00\",\"2004-11-30T00:00:00\",\"2005-05-18T00:00:00\",\"2005-12-11T00:00:00\",\"2002-07-01T00:00:00\",\"2004-03-18T00:00:00\",\"2003-10-04T00:00:00\",\"2004-03-11T00:00:00\",\"2003-04-22T00:00:00\",\"2004-11-05T00:00:00\",\"2002-06-07T00:00:00\",\"2003-02-02T00:00:00\",\"2004-11-20T00:00:00\",\"2003-09-26T00:00:00\",\"2003-10-08T00:00:00\",\"2002-05-13T00:00:00\",\"2005-11-10T00:00:00\",\"2005-01-10T00:00:00\",\"2005-02-03T00:00:00\",\"2002-09-28T00:00:00\",\"2004-09-14T00:00:00\",\"2002-08-23T00:00:00\",\"2005-05-21T00:00:00\",\"2003-01-03T00:00:00\",\"2004-07-24T00:00:00\",\"2003-04-25T00:00:00\",\"2002-12-01T00:00:00\",\"2004-11-06T00:00:00\",\"2004-04-08T00:00:00\",\"2002-09-20T00:00:00\",\"2002-08-31T00:00:00\",\"2003-12-07T00:00:00\",\"2005-12-22T00:00:00\",\"2004-05-08T00:00:00\",\"2003-08-29T00:00:00\",\"2002-01-19T00:00:00\",\"2004-12-15T00:00:00\",\"2005-10-30T00:00:00\",\"2005-09-26T00:00:00\",\"2002-05-18T00:00:00\",\"2005-02-05T00:00:00\",\"2002-02-08T00:00:00\",\"2002-03-04T00:00:00\",\"2003-07-13T00:00:00\",\"2002-06-29T00:00:00\",\"2004-08-03T00:00:00\",\"2003-12-06T00:00:00\",\"2004-12-11T00:00:00\",\"2004-10-22T00:00:00\",\"2005-10-08T00:00:00\",\"2005-09-07T00:00:00\",\"2003-07-23T00:00:00\",\"2004-02-23T00:00:00\",\"2005-10-24T00:00:00\",\"2005-07-29T00:00:00\",\"2004-01-21T00:00:00\",\"2005-06-07T00:00:00\",\"2003-03-23T00:00:00\",\"2004-08-31T00:00:00\",\"2005-06-02T00:00:00\",\"2003-01-23T00:00:00\",\"2005-09-22T00:00:00\",\"2004-07-04T00:00:00\",\"2005-08-08T00:00:00\",\"2005-07-30T00:00:00\",\"2004-04-07T00:00:00\",\"2002-03-07T00:00:00\",\"2004-09-11T00:00:00\",\"2004-03-26T00:00:00\",\"2005-09-04T00:00:00\",\"2002-06-18T00:00:00\",\"2005-09-28T00:00:00\",\"2003-01-28T00:00:00\",\"2004-06-09T00:00:00\",\"2005-08-05T00:00:00\",\"2002-12-30T00:00:00\",\"2005-03-16T00:00:00\",\"2002-11-10T00:00:00\"],\"xaxis\":\"x2\",\"yaxis\":\"y2\",\"type\":\"box\"},{\"alignmentgroup\":\"True\",\"bingroup\":\"x\",\"histfunc\":\"sum\",\"hovertemplate\":\"rating=3.0\\u003cbr\\u003edatetime=%{x}\\u003cbr\\u003esum of rating=%{y}\\u003cextra\\u003e\\u003c\\u002fextra\\u003e\",\"legendgroup\":\"3.0\",\"marker\":{\"color\":\"#00cc96\",\"pattern\":{\"shape\":\"\\\\\"}},\"name\":\"3.0\",\"offsetgroup\":\"3.0\",\"orientation\":\"v\",\"showlegend\":true,\"x\":[\"2005-09-16T00:00:00\",\"2004-08-05T00:00:00\",\"2002-08-23T00:00:00\",\"2003-01-15T00:00:00\",\"2002-06-25T00:00:00\",\"2004-11-28T00:00:00\",\"2005-12-27T00:00:00\",\"2003-06-27T00:00:00\",\"2004-04-23T00:00:00\",\"2004-04-14T00:00:00\",\"2003-11-28T00:00:00\",\"2005-08-02T00:00:00\",\"2005-08-14T00:00:00\",\"2003-05-14T00:00:00\",\"2005-08-31T00:00:00\",\"2005-09-28T00:00:00\",\"2004-12-30T00:00:00\",\"2005-03-25T00:00:00\",\"2004-03-05T00:00:00\",\"2004-05-09T00:00:00\",\"2003-12-20T00:00:00\",\"2002-11-23T00:00:00\",\"2005-09-17T00:00:00\",\"2004-05-06T00:00:00\",\"2005-12-08T00:00:00\",\"2005-03-12T00:00:00\",\"2005-05-12T00:00:00\",\"2002-06-05T00:00:00\",\"2003-09-29T00:00:00\",\"2004-12-28T00:00:00\",\"2003-08-01T00:00:00\",\"2002-10-27T00:00:00\",\"2004-03-20T00:00:00\",\"2002-10-21T00:00:00\",\"2004-06-03T00:00:00\",\"2005-05-19T00:00:00\",\"2003-04-30T00:00:00\",\"2005-10-25T00:00:00\"],\"xaxis\":\"x\",\"y\":[3.0,3.0,3.0,3.0,3.0,3.0,3.0,3.0,3.0,3.0,3.0,3.0,3.0,3.0,3.0,3.0,3.0,3.0,3.0,3.0,3.0,3.0,3.0,3.0,3.0,3.0,3.0,3.0,3.0,3.0,3.0,3.0,3.0,3.0,3.0,3.0,3.0,3.0],\"yaxis\":\"y\",\"type\":\"histogram\"},{\"alignmentgroup\":\"True\",\"boxpoints\":\"all\",\"fillcolor\":\"rgba(255,255,255,0)\",\"hoveron\":\"points\",\"hovertemplate\":\"rating=3.0\\u003cbr\\u003edatetime=%{x}\\u003cextra\\u003e\\u003c\\u002fextra\\u003e\",\"jitter\":0,\"legendgroup\":\"3.0\",\"line\":{\"color\":\"rgba(255,255,255,0)\"},\"marker\":{\"color\":\"#00cc96\",\"symbol\":\"line-ns-open\"},\"name\":\"3.0\",\"offsetgroup\":\"3.0\",\"showlegend\":false,\"x\":[\"2005-09-16T00:00:00\",\"2004-08-05T00:00:00\",\"2002-08-23T00:00:00\",\"2003-01-15T00:00:00\",\"2002-06-25T00:00:00\",\"2004-11-28T00:00:00\",\"2005-12-27T00:00:00\",\"2003-06-27T00:00:00\",\"2004-04-23T00:00:00\",\"2004-04-14T00:00:00\",\"2003-11-28T00:00:00\",\"2005-08-02T00:00:00\",\"2005-08-14T00:00:00\",\"2003-05-14T00:00:00\",\"2005-08-31T00:00:00\",\"2005-09-28T00:00:00\",\"2004-12-30T00:00:00\",\"2005-03-25T00:00:00\",\"2004-03-05T00:00:00\",\"2004-05-09T00:00:00\",\"2003-12-20T00:00:00\",\"2002-11-23T00:00:00\",\"2005-09-17T00:00:00\",\"2004-05-06T00:00:00\",\"2005-12-08T00:00:00\",\"2005-03-12T00:00:00\",\"2005-05-12T00:00:00\",\"2002-06-05T00:00:00\",\"2003-09-29T00:00:00\",\"2004-12-28T00:00:00\",\"2003-08-01T00:00:00\",\"2002-10-27T00:00:00\",\"2004-03-20T00:00:00\",\"2002-10-21T00:00:00\",\"2004-06-03T00:00:00\",\"2005-05-19T00:00:00\",\"2003-04-30T00:00:00\",\"2005-10-25T00:00:00\"],\"xaxis\":\"x2\",\"yaxis\":\"y2\",\"type\":\"box\"},{\"alignmentgroup\":\"True\",\"bingroup\":\"x\",\"histfunc\":\"sum\",\"hovertemplate\":\"rating=4.5\\u003cbr\\u003edatetime=%{x}\\u003cbr\\u003esum of rating=%{y}\\u003cextra\\u003e\\u003c\\u002fextra\\u003e\",\"legendgroup\":\"4.5\",\"marker\":{\"color\":\"#ab63fa\",\"pattern\":{\"shape\":\"x\"}},\"name\":\"4.5\",\"offsetgroup\":\"4.5\",\"orientation\":\"v\",\"showlegend\":true,\"x\":[\"2002-09-17T00:00:00\",\"2005-12-02T00:00:00\",\"2003-09-16T00:00:00\",\"2003-04-04T00:00:00\",\"2002-05-25T00:00:00\",\"2003-06-29T00:00:00\",\"2003-12-31T00:00:00\",\"2002-11-25T00:00:00\",\"2005-09-07T00:00:00\",\"2002-08-21T00:00:00\",\"2003-03-04T00:00:00\",\"2005-07-01T00:00:00\",\"2004-04-09T00:00:00\",\"2005-11-25T00:00:00\",\"2004-07-11T00:00:00\",\"2002-11-10T00:00:00\",\"2004-09-04T00:00:00\",\"2005-05-20T00:00:00\",\"2003-01-22T00:00:00\",\"2004-03-09T00:00:00\",\"2003-05-25T00:00:00\",\"2002-09-14T00:00:00\",\"2005-08-01T00:00:00\",\"2005-04-25T00:00:00\",\"2002-03-31T00:00:00\",\"2005-04-28T00:00:00\",\"2002-04-22T00:00:00\",\"2004-02-10T00:00:00\",\"2005-03-25T00:00:00\",\"2004-01-11T00:00:00\",\"2004-08-25T00:00:00\",\"2005-11-01T00:00:00\",\"2002-01-10T00:00:00\",\"2002-10-24T00:00:00\",\"2004-05-01T00:00:00\",\"2005-08-10T00:00:00\",\"2005-11-12T00:00:00\",\"2004-04-29T00:00:00\",\"2005-04-26T00:00:00\",\"2003-10-03T00:00:00\",\"2002-05-16T00:00:00\",\"2004-10-12T00:00:00\",\"2005-08-16T00:00:00\",\"2004-11-14T00:00:00\",\"2002-09-17T00:00:00\",\"2004-10-20T00:00:00\",\"2003-06-01T00:00:00\",\"2005-06-27T00:00:00\",\"2002-01-22T00:00:00\",\"2002-10-07T00:00:00\",\"2005-10-18T00:00:00\",\"2004-08-22T00:00:00\",\"2004-11-17T00:00:00\",\"2005-10-09T00:00:00\",\"2003-03-02T00:00:00\",\"2005-02-06T00:00:00\",\"2004-02-17T00:00:00\",\"2004-09-13T00:00:00\",\"2003-01-06T00:00:00\",\"2003-07-20T00:00:00\",\"2004-01-04T00:00:00\",\"2003-12-24T00:00:00\",\"2004-01-14T00:00:00\",\"2003-12-13T00:00:00\",\"2002-07-25T00:00:00\",\"2005-02-07T00:00:00\",\"2002-03-14T00:00:00\",\"2002-03-04T00:00:00\",\"2002-11-17T00:00:00\",\"2004-01-11T00:00:00\",\"2004-09-15T00:00:00\",\"2004-01-07T00:00:00\",\"2004-12-19T00:00:00\",\"2005-07-01T00:00:00\",\"2003-11-27T00:00:00\",\"2002-04-24T00:00:00\",\"2003-11-16T00:00:00\",\"2005-08-23T00:00:00\",\"2005-10-18T00:00:00\",\"2003-07-04T00:00:00\",\"2005-05-30T00:00:00\",\"2004-04-14T00:00:00\",\"2003-07-22T00:00:00\",\"2003-09-24T00:00:00\",\"2002-02-15T00:00:00\",\"2005-11-27T00:00:00\",\"2003-01-12T00:00:00\",\"2003-06-17T00:00:00\",\"2002-09-13T00:00:00\",\"2005-11-06T00:00:00\",\"2003-02-03T00:00:00\",\"2002-01-04T00:00:00\",\"2002-01-28T00:00:00\",\"2005-05-05T00:00:00\",\"2005-09-12T00:00:00\",\"2003-08-27T00:00:00\",\"2003-11-10T00:00:00\",\"2003-06-02T00:00:00\",\"2003-04-30T00:00:00\",\"2005-09-23T00:00:00\",\"2005-05-08T00:00:00\",\"2002-01-25T00:00:00\",\"2002-02-10T00:00:00\",\"2004-10-10T00:00:00\",\"2002-11-10T00:00:00\",\"2002-08-11T00:00:00\",\"2002-12-14T00:00:00\",\"2002-09-23T00:00:00\",\"2005-07-12T00:00:00\",\"2003-02-15T00:00:00\",\"2004-01-08T00:00:00\",\"2002-11-21T00:00:00\",\"2005-03-21T00:00:00\",\"2005-08-19T00:00:00\",\"2004-09-06T00:00:00\",\"2005-07-19T00:00:00\",\"2002-12-11T00:00:00\",\"2002-01-09T00:00:00\",\"2003-06-09T00:00:00\",\"2003-06-26T00:00:00\",\"2002-04-26T00:00:00\",\"2002-08-13T00:00:00\",\"2005-09-08T00:00:00\",\"2002-12-21T00:00:00\",\"2004-12-21T00:00:00\",\"2004-08-07T00:00:00\",\"2002-08-18T00:00:00\",\"2005-09-22T00:00:00\",\"2002-07-31T00:00:00\",\"2005-09-09T00:00:00\",\"2005-10-02T00:00:00\",\"2005-05-03T00:00:00\",\"2003-12-02T00:00:00\",\"2002-08-18T00:00:00\",\"2002-09-05T00:00:00\",\"2005-11-30T00:00:00\",\"2002-01-05T00:00:00\",\"2003-01-14T00:00:00\",\"2002-11-18T00:00:00\",\"2003-07-13T00:00:00\",\"2004-12-10T00:00:00\",\"2003-08-21T00:00:00\",\"2005-08-20T00:00:00\",\"2002-08-15T00:00:00\",\"2005-09-30T00:00:00\",\"2004-11-10T00:00:00\",\"2004-05-26T00:00:00\",\"2002-10-07T00:00:00\",\"2004-07-28T00:00:00\",\"2005-05-17T00:00:00\",\"2003-07-03T00:00:00\"],\"xaxis\":\"x\",\"y\":[4.5,4.5,4.5,4.5,4.5,4.5,4.5,4.5,4.5,4.5,4.5,4.5,4.5,4.5,4.5,4.5,4.5,4.5,4.5,4.5,4.5,4.5,4.5,4.5,4.5,4.5,4.5,4.5,4.5,4.5,4.5,4.5,4.5,4.5,4.5,4.5,4.5,4.5,4.5,4.5,4.5,4.5,4.5,4.5,4.5,4.5,4.5,4.5,4.5,4.5,4.5,4.5,4.5,4.5,4.5,4.5,4.5,4.5,4.5,4.5,4.5,4.5,4.5,4.5,4.5,4.5,4.5,4.5,4.5,4.5,4.5,4.5,4.5,4.5,4.5,4.5,4.5,4.5,4.5,4.5,4.5,4.5,4.5,4.5,4.5,4.5,4.5,4.5,4.5,4.5,4.5,4.5,4.5,4.5,4.5,4.5,4.5,4.5,4.5,4.5,4.5,4.5,4.5,4.5,4.5,4.5,4.5,4.5,4.5,4.5,4.5,4.5,4.5,4.5,4.5,4.5,4.5,4.5,4.5,4.5,4.5,4.5,4.5,4.5,4.5,4.5,4.5,4.5,4.5,4.5,4.5,4.5,4.5,4.5,4.5,4.5,4.5,4.5,4.5,4.5,4.5,4.5,4.5,4.5,4.5,4.5,4.5,4.5,4.5,4.5,4.5],\"yaxis\":\"y\",\"type\":\"histogram\"},{\"alignmentgroup\":\"True\",\"boxpoints\":\"all\",\"fillcolor\":\"rgba(255,255,255,0)\",\"hoveron\":\"points\",\"hovertemplate\":\"rating=4.5\\u003cbr\\u003edatetime=%{x}\\u003cextra\\u003e\\u003c\\u002fextra\\u003e\",\"jitter\":0,\"legendgroup\":\"4.5\",\"line\":{\"color\":\"rgba(255,255,255,0)\"},\"marker\":{\"color\":\"#ab63fa\",\"symbol\":\"line-ns-open\"},\"name\":\"4.5\",\"offsetgroup\":\"4.5\",\"showlegend\":false,\"x\":[\"2002-09-17T00:00:00\",\"2005-12-02T00:00:00\",\"2003-09-16T00:00:00\",\"2003-04-04T00:00:00\",\"2002-05-25T00:00:00\",\"2003-06-29T00:00:00\",\"2003-12-31T00:00:00\",\"2002-11-25T00:00:00\",\"2005-09-07T00:00:00\",\"2002-08-21T00:00:00\",\"2003-03-04T00:00:00\",\"2005-07-01T00:00:00\",\"2004-04-09T00:00:00\",\"2005-11-25T00:00:00\",\"2004-07-11T00:00:00\",\"2002-11-10T00:00:00\",\"2004-09-04T00:00:00\",\"2005-05-20T00:00:00\",\"2003-01-22T00:00:00\",\"2004-03-09T00:00:00\",\"2003-05-25T00:00:00\",\"2002-09-14T00:00:00\",\"2005-08-01T00:00:00\",\"2005-04-25T00:00:00\",\"2002-03-31T00:00:00\",\"2005-04-28T00:00:00\",\"2002-04-22T00:00:00\",\"2004-02-10T00:00:00\",\"2005-03-25T00:00:00\",\"2004-01-11T00:00:00\",\"2004-08-25T00:00:00\",\"2005-11-01T00:00:00\",\"2002-01-10T00:00:00\",\"2002-10-24T00:00:00\",\"2004-05-01T00:00:00\",\"2005-08-10T00:00:00\",\"2005-11-12T00:00:00\",\"2004-04-29T00:00:00\",\"2005-04-26T00:00:00\",\"2003-10-03T00:00:00\",\"2002-05-16T00:00:00\",\"2004-10-12T00:00:00\",\"2005-08-16T00:00:00\",\"2004-11-14T00:00:00\",\"2002-09-17T00:00:00\",\"2004-10-20T00:00:00\",\"2003-06-01T00:00:00\",\"2005-06-27T00:00:00\",\"2002-01-22T00:00:00\",\"2002-10-07T00:00:00\",\"2005-10-18T00:00:00\",\"2004-08-22T00:00:00\",\"2004-11-17T00:00:00\",\"2005-10-09T00:00:00\",\"2003-03-02T00:00:00\",\"2005-02-06T00:00:00\",\"2004-02-17T00:00:00\",\"2004-09-13T00:00:00\",\"2003-01-06T00:00:00\",\"2003-07-20T00:00:00\",\"2004-01-04T00:00:00\",\"2003-12-24T00:00:00\",\"2004-01-14T00:00:00\",\"2003-12-13T00:00:00\",\"2002-07-25T00:00:00\",\"2005-02-07T00:00:00\",\"2002-03-14T00:00:00\",\"2002-03-04T00:00:00\",\"2002-11-17T00:00:00\",\"2004-01-11T00:00:00\",\"2004-09-15T00:00:00\",\"2004-01-07T00:00:00\",\"2004-12-19T00:00:00\",\"2005-07-01T00:00:00\",\"2003-11-27T00:00:00\",\"2002-04-24T00:00:00\",\"2003-11-16T00:00:00\",\"2005-08-23T00:00:00\",\"2005-10-18T00:00:00\",\"2003-07-04T00:00:00\",\"2005-05-30T00:00:00\",\"2004-04-14T00:00:00\",\"2003-07-22T00:00:00\",\"2003-09-24T00:00:00\",\"2002-02-15T00:00:00\",\"2005-11-27T00:00:00\",\"2003-01-12T00:00:00\",\"2003-06-17T00:00:00\",\"2002-09-13T00:00:00\",\"2005-11-06T00:00:00\",\"2003-02-03T00:00:00\",\"2002-01-04T00:00:00\",\"2002-01-28T00:00:00\",\"2005-05-05T00:00:00\",\"2005-09-12T00:00:00\",\"2003-08-27T00:00:00\",\"2003-11-10T00:00:00\",\"2003-06-02T00:00:00\",\"2003-04-30T00:00:00\",\"2005-09-23T00:00:00\",\"2005-05-08T00:00:00\",\"2002-01-25T00:00:00\",\"2002-02-10T00:00:00\",\"2004-10-10T00:00:00\",\"2002-11-10T00:00:00\",\"2002-08-11T00:00:00\",\"2002-12-14T00:00:00\",\"2002-09-23T00:00:00\",\"2005-07-12T00:00:00\",\"2003-02-15T00:00:00\",\"2004-01-08T00:00:00\",\"2002-11-21T00:00:00\",\"2005-03-21T00:00:00\",\"2005-08-19T00:00:00\",\"2004-09-06T00:00:00\",\"2005-07-19T00:00:00\",\"2002-12-11T00:00:00\",\"2002-01-09T00:00:00\",\"2003-06-09T00:00:00\",\"2003-06-26T00:00:00\",\"2002-04-26T00:00:00\",\"2002-08-13T00:00:00\",\"2005-09-08T00:00:00\",\"2002-12-21T00:00:00\",\"2004-12-21T00:00:00\",\"2004-08-07T00:00:00\",\"2002-08-18T00:00:00\",\"2005-09-22T00:00:00\",\"2002-07-31T00:00:00\",\"2005-09-09T00:00:00\",\"2005-10-02T00:00:00\",\"2005-05-03T00:00:00\",\"2003-12-02T00:00:00\",\"2002-08-18T00:00:00\",\"2002-09-05T00:00:00\",\"2005-11-30T00:00:00\",\"2002-01-05T00:00:00\",\"2003-01-14T00:00:00\",\"2002-11-18T00:00:00\",\"2003-07-13T00:00:00\",\"2004-12-10T00:00:00\",\"2003-08-21T00:00:00\",\"2005-08-20T00:00:00\",\"2002-08-15T00:00:00\",\"2005-09-30T00:00:00\",\"2004-11-10T00:00:00\",\"2004-05-26T00:00:00\",\"2002-10-07T00:00:00\",\"2004-07-28T00:00:00\",\"2005-05-17T00:00:00\",\"2003-07-03T00:00:00\"],\"xaxis\":\"x2\",\"yaxis\":\"y2\",\"type\":\"box\"},{\"alignmentgroup\":\"True\",\"bingroup\":\"x\",\"histfunc\":\"sum\",\"hovertemplate\":\"rating=5.0\\u003cbr\\u003edatetime=%{x}\\u003cbr\\u003esum of rating=%{y}\\u003cextra\\u003e\\u003c\\u002fextra\\u003e\",\"legendgroup\":\"5.0\",\"marker\":{\"color\":\"#FFA15A\",\"pattern\":{\"shape\":\"+\"}},\"name\":\"5.0\",\"offsetgroup\":\"5.0\",\"orientation\":\"v\",\"showlegend\":true,\"x\":[\"2004-10-17T00:00:00\",\"2002-12-02T00:00:00\",\"2005-07-23T00:00:00\",\"2005-03-16T00:00:00\",\"2004-01-06T00:00:00\",\"2003-05-20T00:00:00\",\"2002-12-28T00:00:00\",\"2002-11-01T00:00:00\",\"2003-11-25T00:00:00\",\"2003-03-04T00:00:00\",\"2002-07-13T00:00:00\",\"2005-05-01T00:00:00\",\"2002-08-23T00:00:00\",\"2002-03-21T00:00:00\",\"2005-08-08T00:00:00\",\"2003-05-20T00:00:00\",\"2004-04-27T00:00:00\",\"2004-04-10T00:00:00\",\"2005-07-10T00:00:00\",\"2003-08-05T00:00:00\",\"2004-08-19T00:00:00\",\"2002-01-10T00:00:00\",\"2003-06-12T00:00:00\",\"2003-11-09T00:00:00\",\"2005-05-24T00:00:00\",\"2005-03-20T00:00:00\",\"2003-06-30T00:00:00\",\"2004-02-23T00:00:00\",\"2002-10-28T00:00:00\",\"2004-05-24T00:00:00\",\"2005-03-24T00:00:00\",\"2005-10-23T00:00:00\",\"2004-06-12T00:00:00\",\"2005-05-15T00:00:00\",\"2004-10-21T00:00:00\",\"2005-10-29T00:00:00\",\"2002-06-15T00:00:00\",\"2004-10-21T00:00:00\",\"2005-12-29T00:00:00\",\"2002-11-10T00:00:00\",\"2005-08-03T00:00:00\",\"2003-01-09T00:00:00\",\"2002-06-22T00:00:00\",\"2005-04-15T00:00:00\",\"2002-12-21T00:00:00\",\"2004-07-05T00:00:00\",\"2004-09-25T00:00:00\",\"2005-01-26T00:00:00\",\"2004-08-15T00:00:00\",\"2004-04-13T00:00:00\",\"2002-04-21T00:00:00\",\"2002-03-26T00:00:00\",\"2004-03-19T00:00:00\",\"2005-11-27T00:00:00\",\"2005-04-03T00:00:00\",\"2002-03-29T00:00:00\",\"2002-11-20T00:00:00\",\"2002-01-20T00:00:00\",\"2005-04-15T00:00:00\",\"2005-01-07T00:00:00\",\"2003-07-18T00:00:00\",\"2004-10-05T00:00:00\",\"2003-03-05T00:00:00\",\"2004-09-30T00:00:00\",\"2005-05-08T00:00:00\",\"2004-05-09T00:00:00\",\"2003-07-12T00:00:00\",\"2002-05-15T00:00:00\",\"2002-06-13T00:00:00\",\"2003-07-22T00:00:00\",\"2004-10-17T00:00:00\",\"2003-01-16T00:00:00\",\"2004-11-30T00:00:00\",\"2003-11-18T00:00:00\",\"2004-08-07T00:00:00\",\"2002-08-10T00:00:00\",\"2004-03-20T00:00:00\",\"2002-06-28T00:00:00\",\"2004-06-28T00:00:00\",\"2002-10-01T00:00:00\",\"2003-01-29T00:00:00\",\"2005-12-31T00:00:00\",\"2004-11-23T00:00:00\",\"2004-05-09T00:00:00\",\"2002-06-15T00:00:00\",\"2005-10-30T00:00:00\",\"2003-07-29T00:00:00\",\"2002-08-09T00:00:00\",\"2003-05-30T00:00:00\",\"2002-12-29T00:00:00\",\"2005-12-27T00:00:00\",\"2005-12-14T00:00:00\",\"2004-08-23T00:00:00\",\"2004-06-12T00:00:00\",\"2004-08-13T00:00:00\",\"2005-01-05T00:00:00\",\"2003-11-22T00:00:00\",\"2004-09-26T00:00:00\",\"2004-11-01T00:00:00\",\"2002-10-30T00:00:00\",\"2005-06-08T00:00:00\",\"2003-07-13T00:00:00\",\"2005-01-14T00:00:00\",\"2002-01-27T00:00:00\",\"2002-05-18T00:00:00\"],\"xaxis\":\"x\",\"y\":[5.0,5.0,5.0,5.0,5.0,5.0,5.0,5.0,5.0,5.0,5.0,5.0,5.0,5.0,5.0,5.0,5.0,5.0,5.0,5.0,5.0,5.0,5.0,5.0,5.0,5.0,5.0,5.0,5.0,5.0,5.0,5.0,5.0,5.0,5.0,5.0,5.0,5.0,5.0,5.0,5.0,5.0,5.0,5.0,5.0,5.0,5.0,5.0,5.0,5.0,5.0,5.0,5.0,5.0,5.0,5.0,5.0,5.0,5.0,5.0,5.0,5.0,5.0,5.0,5.0,5.0,5.0,5.0,5.0,5.0,5.0,5.0,5.0,5.0,5.0,5.0,5.0,5.0,5.0,5.0,5.0,5.0,5.0,5.0,5.0,5.0,5.0,5.0,5.0,5.0,5.0,5.0,5.0,5.0,5.0,5.0,5.0,5.0,5.0,5.0,5.0,5.0,5.0,5.0,5.0],\"yaxis\":\"y\",\"type\":\"histogram\"},{\"alignmentgroup\":\"True\",\"boxpoints\":\"all\",\"fillcolor\":\"rgba(255,255,255,0)\",\"hoveron\":\"points\",\"hovertemplate\":\"rating=5.0\\u003cbr\\u003edatetime=%{x}\\u003cextra\\u003e\\u003c\\u002fextra\\u003e\",\"jitter\":0,\"legendgroup\":\"5.0\",\"line\":{\"color\":\"rgba(255,255,255,0)\"},\"marker\":{\"color\":\"#FFA15A\",\"symbol\":\"line-ns-open\"},\"name\":\"5.0\",\"offsetgroup\":\"5.0\",\"showlegend\":false,\"x\":[\"2004-10-17T00:00:00\",\"2002-12-02T00:00:00\",\"2005-07-23T00:00:00\",\"2005-03-16T00:00:00\",\"2004-01-06T00:00:00\",\"2003-05-20T00:00:00\",\"2002-12-28T00:00:00\",\"2002-11-01T00:00:00\",\"2003-11-25T00:00:00\",\"2003-03-04T00:00:00\",\"2002-07-13T00:00:00\",\"2005-05-01T00:00:00\",\"2002-08-23T00:00:00\",\"2002-03-21T00:00:00\",\"2005-08-08T00:00:00\",\"2003-05-20T00:00:00\",\"2004-04-27T00:00:00\",\"2004-04-10T00:00:00\",\"2005-07-10T00:00:00\",\"2003-08-05T00:00:00\",\"2004-08-19T00:00:00\",\"2002-01-10T00:00:00\",\"2003-06-12T00:00:00\",\"2003-11-09T00:00:00\",\"2005-05-24T00:00:00\",\"2005-03-20T00:00:00\",\"2003-06-30T00:00:00\",\"2004-02-23T00:00:00\",\"2002-10-28T00:00:00\",\"2004-05-24T00:00:00\",\"2005-03-24T00:00:00\",\"2005-10-23T00:00:00\",\"2004-06-12T00:00:00\",\"2005-05-15T00:00:00\",\"2004-10-21T00:00:00\",\"2005-10-29T00:00:00\",\"2002-06-15T00:00:00\",\"2004-10-21T00:00:00\",\"2005-12-29T00:00:00\",\"2002-11-10T00:00:00\",\"2005-08-03T00:00:00\",\"2003-01-09T00:00:00\",\"2002-06-22T00:00:00\",\"2005-04-15T00:00:00\",\"2002-12-21T00:00:00\",\"2004-07-05T00:00:00\",\"2004-09-25T00:00:00\",\"2005-01-26T00:00:00\",\"2004-08-15T00:00:00\",\"2004-04-13T00:00:00\",\"2002-04-21T00:00:00\",\"2002-03-26T00:00:00\",\"2004-03-19T00:00:00\",\"2005-11-27T00:00:00\",\"2005-04-03T00:00:00\",\"2002-03-29T00:00:00\",\"2002-11-20T00:00:00\",\"2002-01-20T00:00:00\",\"2005-04-15T00:00:00\",\"2005-01-07T00:00:00\",\"2003-07-18T00:00:00\",\"2004-10-05T00:00:00\",\"2003-03-05T00:00:00\",\"2004-09-30T00:00:00\",\"2005-05-08T00:00:00\",\"2004-05-09T00:00:00\",\"2003-07-12T00:00:00\",\"2002-05-15T00:00:00\",\"2002-06-13T00:00:00\",\"2003-07-22T00:00:00\",\"2004-10-17T00:00:00\",\"2003-01-16T00:00:00\",\"2004-11-30T00:00:00\",\"2003-11-18T00:00:00\",\"2004-08-07T00:00:00\",\"2002-08-10T00:00:00\",\"2004-03-20T00:00:00\",\"2002-06-28T00:00:00\",\"2004-06-28T00:00:00\",\"2002-10-01T00:00:00\",\"2003-01-29T00:00:00\",\"2005-12-31T00:00:00\",\"2004-11-23T00:00:00\",\"2004-05-09T00:00:00\",\"2002-06-15T00:00:00\",\"2005-10-30T00:00:00\",\"2003-07-29T00:00:00\",\"2002-08-09T00:00:00\",\"2003-05-30T00:00:00\",\"2002-12-29T00:00:00\",\"2005-12-27T00:00:00\",\"2005-12-14T00:00:00\",\"2004-08-23T00:00:00\",\"2004-06-12T00:00:00\",\"2004-08-13T00:00:00\",\"2005-01-05T00:00:00\",\"2003-11-22T00:00:00\",\"2004-09-26T00:00:00\",\"2004-11-01T00:00:00\",\"2002-10-30T00:00:00\",\"2005-06-08T00:00:00\",\"2003-07-13T00:00:00\",\"2005-01-14T00:00:00\",\"2002-01-27T00:00:00\",\"2002-05-18T00:00:00\"],\"xaxis\":\"x2\",\"yaxis\":\"y2\",\"type\":\"box\"},{\"alignmentgroup\":\"True\",\"bingroup\":\"x\",\"histfunc\":\"sum\",\"hovertemplate\":\"rating=3.5\\u003cbr\\u003edatetime=%{x}\\u003cbr\\u003esum of rating=%{y}\\u003cextra\\u003e\\u003c\\u002fextra\\u003e\",\"legendgroup\":\"3.5\",\"marker\":{\"color\":\"#19d3f3\",\"pattern\":{\"shape\":\".\"}},\"name\":\"3.5\",\"offsetgroup\":\"3.5\",\"orientation\":\"v\",\"showlegend\":true,\"x\":[\"2005-05-11T00:00:00\",\"2005-01-05T00:00:00\",\"2005-10-26T00:00:00\",\"2005-04-05T00:00:00\",\"2003-08-06T00:00:00\",\"2004-05-30T00:00:00\",\"2003-09-15T00:00:00\",\"2005-11-07T00:00:00\",\"2004-02-13T00:00:00\",\"2004-05-23T00:00:00\",\"2005-09-02T00:00:00\",\"2004-03-09T00:00:00\",\"2004-04-13T00:00:00\",\"2004-06-18T00:00:00\",\"2002-01-27T00:00:00\",\"2003-12-13T00:00:00\",\"2005-11-13T00:00:00\",\"2005-05-19T00:00:00\",\"2004-10-04T00:00:00\",\"2005-12-05T00:00:00\",\"2004-09-18T00:00:00\",\"2004-08-04T00:00:00\",\"2005-12-29T00:00:00\",\"2002-04-02T00:00:00\",\"2004-04-29T00:00:00\",\"2002-12-12T00:00:00\",\"2002-12-22T00:00:00\"],\"xaxis\":\"x\",\"y\":[3.5,3.5,3.5,3.5,3.5,3.5,3.5,3.5,3.5,3.5,3.5,3.5,3.5,3.5,3.5,3.5,3.5,3.5,3.5,3.5,3.5,3.5,3.5,3.5,3.5,3.5,3.5],\"yaxis\":\"y\",\"type\":\"histogram\"},{\"alignmentgroup\":\"True\",\"boxpoints\":\"all\",\"fillcolor\":\"rgba(255,255,255,0)\",\"hoveron\":\"points\",\"hovertemplate\":\"rating=3.5\\u003cbr\\u003edatetime=%{x}\\u003cextra\\u003e\\u003c\\u002fextra\\u003e\",\"jitter\":0,\"legendgroup\":\"3.5\",\"line\":{\"color\":\"rgba(255,255,255,0)\"},\"marker\":{\"color\":\"#19d3f3\",\"symbol\":\"line-ns-open\"},\"name\":\"3.5\",\"offsetgroup\":\"3.5\",\"showlegend\":false,\"x\":[\"2005-05-11T00:00:00\",\"2005-01-05T00:00:00\",\"2005-10-26T00:00:00\",\"2005-04-05T00:00:00\",\"2003-08-06T00:00:00\",\"2004-05-30T00:00:00\",\"2003-09-15T00:00:00\",\"2005-11-07T00:00:00\",\"2004-02-13T00:00:00\",\"2004-05-23T00:00:00\",\"2005-09-02T00:00:00\",\"2004-03-09T00:00:00\",\"2004-04-13T00:00:00\",\"2004-06-18T00:00:00\",\"2002-01-27T00:00:00\",\"2003-12-13T00:00:00\",\"2005-11-13T00:00:00\",\"2005-05-19T00:00:00\",\"2004-10-04T00:00:00\",\"2005-12-05T00:00:00\",\"2004-09-18T00:00:00\",\"2004-08-04T00:00:00\",\"2005-12-29T00:00:00\",\"2002-04-02T00:00:00\",\"2004-04-29T00:00:00\",\"2002-12-12T00:00:00\",\"2002-12-22T00:00:00\"],\"xaxis\":\"x2\",\"yaxis\":\"y2\",\"type\":\"box\"},{\"alignmentgroup\":\"True\",\"bingroup\":\"x\",\"histfunc\":\"sum\",\"hovertemplate\":\"rating=2.0\\u003cbr\\u003edatetime=%{x}\\u003cbr\\u003esum of rating=%{y}\\u003cextra\\u003e\\u003c\\u002fextra\\u003e\",\"legendgroup\":\"2.0\",\"marker\":{\"color\":\"#FF6692\",\"pattern\":{\"shape\":\"\"}},\"name\":\"2.0\",\"offsetgroup\":\"2.0\",\"orientation\":\"v\",\"showlegend\":true,\"x\":[\"2005-08-19T00:00:00\",\"2004-07-05T00:00:00\",\"2004-06-26T00:00:00\",\"2002-11-25T00:00:00\",\"2002-07-13T00:00:00\",\"2005-11-14T00:00:00\",\"2002-06-11T00:00:00\",\"2002-04-24T00:00:00\",\"2004-07-02T00:00:00\",\"2005-08-02T00:00:00\",\"2005-08-03T00:00:00\",\"2004-03-17T00:00:00\",\"2004-06-18T00:00:00\",\"2004-10-02T00:00:00\",\"2003-09-10T00:00:00\",\"2003-08-11T00:00:00\",\"2002-08-06T00:00:00\",\"2004-03-06T00:00:00\",\"2005-04-29T00:00:00\",\"2004-02-22T00:00:00\",\"2005-06-23T00:00:00\",\"2005-06-11T00:00:00\",\"2004-06-22T00:00:00\",\"2003-06-07T00:00:00\",\"2002-04-29T00:00:00\",\"2004-04-16T00:00:00\",\"2002-01-24T00:00:00\",\"2004-02-21T00:00:00\",\"2005-08-23T00:00:00\",\"2005-12-24T00:00:00\",\"2003-12-18T00:00:00\",\"2003-05-26T00:00:00\",\"2004-05-08T00:00:00\",\"2004-11-06T00:00:00\",\"2003-05-22T00:00:00\"],\"xaxis\":\"x\",\"y\":[2.0,2.0,2.0,2.0,2.0,2.0,2.0,2.0,2.0,2.0,2.0,2.0,2.0,2.0,2.0,2.0,2.0,2.0,2.0,2.0,2.0,2.0,2.0,2.0,2.0,2.0,2.0,2.0,2.0,2.0,2.0,2.0,2.0,2.0,2.0],\"yaxis\":\"y\",\"type\":\"histogram\"},{\"alignmentgroup\":\"True\",\"boxpoints\":\"all\",\"fillcolor\":\"rgba(255,255,255,0)\",\"hoveron\":\"points\",\"hovertemplate\":\"rating=2.0\\u003cbr\\u003edatetime=%{x}\\u003cextra\\u003e\\u003c\\u002fextra\\u003e\",\"jitter\":0,\"legendgroup\":\"2.0\",\"line\":{\"color\":\"rgba(255,255,255,0)\"},\"marker\":{\"color\":\"#FF6692\",\"symbol\":\"line-ns-open\"},\"name\":\"2.0\",\"offsetgroup\":\"2.0\",\"showlegend\":false,\"x\":[\"2005-08-19T00:00:00\",\"2004-07-05T00:00:00\",\"2004-06-26T00:00:00\",\"2002-11-25T00:00:00\",\"2002-07-13T00:00:00\",\"2005-11-14T00:00:00\",\"2002-06-11T00:00:00\",\"2002-04-24T00:00:00\",\"2004-07-02T00:00:00\",\"2005-08-02T00:00:00\",\"2005-08-03T00:00:00\",\"2004-03-17T00:00:00\",\"2004-06-18T00:00:00\",\"2004-10-02T00:00:00\",\"2003-09-10T00:00:00\",\"2003-08-11T00:00:00\",\"2002-08-06T00:00:00\",\"2004-03-06T00:00:00\",\"2005-04-29T00:00:00\",\"2004-02-22T00:00:00\",\"2005-06-23T00:00:00\",\"2005-06-11T00:00:00\",\"2004-06-22T00:00:00\",\"2003-06-07T00:00:00\",\"2002-04-29T00:00:00\",\"2004-04-16T00:00:00\",\"2002-01-24T00:00:00\",\"2004-02-21T00:00:00\",\"2005-08-23T00:00:00\",\"2005-12-24T00:00:00\",\"2003-12-18T00:00:00\",\"2003-05-26T00:00:00\",\"2004-05-08T00:00:00\",\"2004-11-06T00:00:00\",\"2003-05-22T00:00:00\"],\"xaxis\":\"x2\",\"yaxis\":\"y2\",\"type\":\"box\"},{\"alignmentgroup\":\"True\",\"bingroup\":\"x\",\"histfunc\":\"sum\",\"hovertemplate\":\"rating=1.5\\u003cbr\\u003edatetime=%{x}\\u003cbr\\u003esum of rating=%{y}\\u003cextra\\u003e\\u003c\\u002fextra\\u003e\",\"legendgroup\":\"1.5\",\"marker\":{\"color\":\"#B6E880\",\"pattern\":{\"shape\":\"\\u002f\"}},\"name\":\"1.5\",\"offsetgroup\":\"1.5\",\"orientation\":\"v\",\"showlegend\":true,\"x\":[\"2002-12-14T00:00:00\",\"2005-07-01T00:00:00\",\"2003-06-25T00:00:00\"],\"xaxis\":\"x\",\"y\":[1.5,1.5,1.5],\"yaxis\":\"y\",\"type\":\"histogram\"},{\"alignmentgroup\":\"True\",\"boxpoints\":\"all\",\"fillcolor\":\"rgba(255,255,255,0)\",\"hoveron\":\"points\",\"hovertemplate\":\"rating=1.5\\u003cbr\\u003edatetime=%{x}\\u003cextra\\u003e\\u003c\\u002fextra\\u003e\",\"jitter\":0,\"legendgroup\":\"1.5\",\"line\":{\"color\":\"rgba(255,255,255,0)\"},\"marker\":{\"color\":\"#B6E880\",\"symbol\":\"line-ns-open\"},\"name\":\"1.5\",\"offsetgroup\":\"1.5\",\"showlegend\":false,\"x\":[\"2002-12-14T00:00:00\",\"2005-07-01T00:00:00\",\"2003-06-25T00:00:00\"],\"xaxis\":\"x2\",\"yaxis\":\"y2\",\"type\":\"box\"}],                        {\"template\":{\"data\":{\"histogram2dcontour\":[{\"type\":\"histogram2dcontour\",\"colorbar\":{\"outlinewidth\":0,\"ticks\":\"\"},\"colorscale\":[[0.0,\"#0d0887\"],[0.1111111111111111,\"#46039f\"],[0.2222222222222222,\"#7201a8\"],[0.3333333333333333,\"#9c179e\"],[0.4444444444444444,\"#bd3786\"],[0.5555555555555556,\"#d8576b\"],[0.6666666666666666,\"#ed7953\"],[0.7777777777777778,\"#fb9f3a\"],[0.8888888888888888,\"#fdca26\"],[1.0,\"#f0f921\"]]}],\"choropleth\":[{\"type\":\"choropleth\",\"colorbar\":{\"outlinewidth\":0,\"ticks\":\"\"}}],\"histogram2d\":[{\"type\":\"histogram2d\",\"colorbar\":{\"outlinewidth\":0,\"ticks\":\"\"},\"colorscale\":[[0.0,\"#0d0887\"],[0.1111111111111111,\"#46039f\"],[0.2222222222222222,\"#7201a8\"],[0.3333333333333333,\"#9c179e\"],[0.4444444444444444,\"#bd3786\"],[0.5555555555555556,\"#d8576b\"],[0.6666666666666666,\"#ed7953\"],[0.7777777777777778,\"#fb9f3a\"],[0.8888888888888888,\"#fdca26\"],[1.0,\"#f0f921\"]]}],\"heatmap\":[{\"type\":\"heatmap\",\"colorbar\":{\"outlinewidth\":0,\"ticks\":\"\"},\"colorscale\":[[0.0,\"#0d0887\"],[0.1111111111111111,\"#46039f\"],[0.2222222222222222,\"#7201a8\"],[0.3333333333333333,\"#9c179e\"],[0.4444444444444444,\"#bd3786\"],[0.5555555555555556,\"#d8576b\"],[0.6666666666666666,\"#ed7953\"],[0.7777777777777778,\"#fb9f3a\"],[0.8888888888888888,\"#fdca26\"],[1.0,\"#f0f921\"]]}],\"heatmapgl\":[{\"type\":\"heatmapgl\",\"colorbar\":{\"outlinewidth\":0,\"ticks\":\"\"},\"colorscale\":[[0.0,\"#0d0887\"],[0.1111111111111111,\"#46039f\"],[0.2222222222222222,\"#7201a8\"],[0.3333333333333333,\"#9c179e\"],[0.4444444444444444,\"#bd3786\"],[0.5555555555555556,\"#d8576b\"],[0.6666666666666666,\"#ed7953\"],[0.7777777777777778,\"#fb9f3a\"],[0.8888888888888888,\"#fdca26\"],[1.0,\"#f0f921\"]]}],\"contourcarpet\":[{\"type\":\"contourcarpet\",\"colorbar\":{\"outlinewidth\":0,\"ticks\":\"\"}}],\"contour\":[{\"type\":\"contour\",\"colorbar\":{\"outlinewidth\":0,\"ticks\":\"\"},\"colorscale\":[[0.0,\"#0d0887\"],[0.1111111111111111,\"#46039f\"],[0.2222222222222222,\"#7201a8\"],[0.3333333333333333,\"#9c179e\"],[0.4444444444444444,\"#bd3786\"],[0.5555555555555556,\"#d8576b\"],[0.6666666666666666,\"#ed7953\"],[0.7777777777777778,\"#fb9f3a\"],[0.8888888888888888,\"#fdca26\"],[1.0,\"#f0f921\"]]}],\"surface\":[{\"type\":\"surface\",\"colorbar\":{\"outlinewidth\":0,\"ticks\":\"\"},\"colorscale\":[[0.0,\"#0d0887\"],[0.1111111111111111,\"#46039f\"],[0.2222222222222222,\"#7201a8\"],[0.3333333333333333,\"#9c179e\"],[0.4444444444444444,\"#bd3786\"],[0.5555555555555556,\"#d8576b\"],[0.6666666666666666,\"#ed7953\"],[0.7777777777777778,\"#fb9f3a\"],[0.8888888888888888,\"#fdca26\"],[1.0,\"#f0f921\"]]}],\"mesh3d\":[{\"type\":\"mesh3d\",\"colorbar\":{\"outlinewidth\":0,\"ticks\":\"\"}}],\"scatter\":[{\"marker\":{\"line\":{\"color\":\"#283442\"}},\"type\":\"scatter\"}],\"parcoords\":[{\"type\":\"parcoords\",\"line\":{\"colorbar\":{\"outlinewidth\":0,\"ticks\":\"\"}}}],\"scatterpolargl\":[{\"type\":\"scatterpolargl\",\"marker\":{\"colorbar\":{\"outlinewidth\":0,\"ticks\":\"\"}}}],\"bar\":[{\"error_x\":{\"color\":\"#f2f5fa\"},\"error_y\":{\"color\":\"#f2f5fa\"},\"marker\":{\"line\":{\"color\":\"rgb(17,17,17)\",\"width\":0.5},\"pattern\":{\"fillmode\":\"overlay\",\"size\":10,\"solidity\":0.2}},\"type\":\"bar\"}],\"scattergeo\":[{\"type\":\"scattergeo\",\"marker\":{\"colorbar\":{\"outlinewidth\":0,\"ticks\":\"\"}}}],\"scatterpolar\":[{\"type\":\"scatterpolar\",\"marker\":{\"colorbar\":{\"outlinewidth\":0,\"ticks\":\"\"}}}],\"histogram\":[{\"marker\":{\"pattern\":{\"fillmode\":\"overlay\",\"size\":10,\"solidity\":0.2}},\"type\":\"histogram\"}],\"scattergl\":[{\"marker\":{\"line\":{\"color\":\"#283442\"}},\"type\":\"scattergl\"}],\"scatter3d\":[{\"type\":\"scatter3d\",\"line\":{\"colorbar\":{\"outlinewidth\":0,\"ticks\":\"\"}},\"marker\":{\"colorbar\":{\"outlinewidth\":0,\"ticks\":\"\"}}}],\"scattermapbox\":[{\"type\":\"scattermapbox\",\"marker\":{\"colorbar\":{\"outlinewidth\":0,\"ticks\":\"\"}}}],\"scatterternary\":[{\"type\":\"scatterternary\",\"marker\":{\"colorbar\":{\"outlinewidth\":0,\"ticks\":\"\"}}}],\"scattercarpet\":[{\"type\":\"scattercarpet\",\"marker\":{\"colorbar\":{\"outlinewidth\":0,\"ticks\":\"\"}}}],\"carpet\":[{\"aaxis\":{\"endlinecolor\":\"#A2B1C6\",\"gridcolor\":\"#506784\",\"linecolor\":\"#506784\",\"minorgridcolor\":\"#506784\",\"startlinecolor\":\"#A2B1C6\"},\"baxis\":{\"endlinecolor\":\"#A2B1C6\",\"gridcolor\":\"#506784\",\"linecolor\":\"#506784\",\"minorgridcolor\":\"#506784\",\"startlinecolor\":\"#A2B1C6\"},\"type\":\"carpet\"}],\"table\":[{\"cells\":{\"fill\":{\"color\":\"#506784\"},\"line\":{\"color\":\"rgb(17,17,17)\"}},\"header\":{\"fill\":{\"color\":\"#2a3f5f\"},\"line\":{\"color\":\"rgb(17,17,17)\"}},\"type\":\"table\"}],\"barpolar\":[{\"marker\":{\"line\":{\"color\":\"rgb(17,17,17)\",\"width\":0.5},\"pattern\":{\"fillmode\":\"overlay\",\"size\":10,\"solidity\":0.2}},\"type\":\"barpolar\"}],\"pie\":[{\"automargin\":true,\"type\":\"pie\"}]},\"layout\":{\"autotypenumbers\":\"strict\",\"colorway\":[\"#636efa\",\"#EF553B\",\"#00cc96\",\"#ab63fa\",\"#FFA15A\",\"#19d3f3\",\"#FF6692\",\"#B6E880\",\"#FF97FF\",\"#FECB52\"],\"font\":{\"color\":\"#f2f5fa\"},\"hovermode\":\"closest\",\"hoverlabel\":{\"align\":\"left\"},\"paper_bgcolor\":\"rgb(17,17,17)\",\"plot_bgcolor\":\"rgb(17,17,17)\",\"polar\":{\"bgcolor\":\"rgb(17,17,17)\",\"angularaxis\":{\"gridcolor\":\"#506784\",\"linecolor\":\"#506784\",\"ticks\":\"\"},\"radialaxis\":{\"gridcolor\":\"#506784\",\"linecolor\":\"#506784\",\"ticks\":\"\"}},\"ternary\":{\"bgcolor\":\"rgb(17,17,17)\",\"aaxis\":{\"gridcolor\":\"#506784\",\"linecolor\":\"#506784\",\"ticks\":\"\"},\"baxis\":{\"gridcolor\":\"#506784\",\"linecolor\":\"#506784\",\"ticks\":\"\"},\"caxis\":{\"gridcolor\":\"#506784\",\"linecolor\":\"#506784\",\"ticks\":\"\"}},\"coloraxis\":{\"colorbar\":{\"outlinewidth\":0,\"ticks\":\"\"}},\"colorscale\":{\"sequential\":[[0.0,\"#0d0887\"],[0.1111111111111111,\"#46039f\"],[0.2222222222222222,\"#7201a8\"],[0.3333333333333333,\"#9c179e\"],[0.4444444444444444,\"#bd3786\"],[0.5555555555555556,\"#d8576b\"],[0.6666666666666666,\"#ed7953\"],[0.7777777777777778,\"#fb9f3a\"],[0.8888888888888888,\"#fdca26\"],[1.0,\"#f0f921\"]],\"sequentialminus\":[[0.0,\"#0d0887\"],[0.1111111111111111,\"#46039f\"],[0.2222222222222222,\"#7201a8\"],[0.3333333333333333,\"#9c179e\"],[0.4444444444444444,\"#bd3786\"],[0.5555555555555556,\"#d8576b\"],[0.6666666666666666,\"#ed7953\"],[0.7777777777777778,\"#fb9f3a\"],[0.8888888888888888,\"#fdca26\"],[1.0,\"#f0f921\"]],\"diverging\":[[0,\"#8e0152\"],[0.1,\"#c51b7d\"],[0.2,\"#de77ae\"],[0.3,\"#f1b6da\"],[0.4,\"#fde0ef\"],[0.5,\"#f7f7f7\"],[0.6,\"#e6f5d0\"],[0.7,\"#b8e186\"],[0.8,\"#7fbc41\"],[0.9,\"#4d9221\"],[1,\"#276419\"]]},\"xaxis\":{\"gridcolor\":\"#283442\",\"linecolor\":\"#506784\",\"ticks\":\"\",\"title\":{\"standoff\":15},\"zerolinecolor\":\"#283442\",\"automargin\":true,\"zerolinewidth\":2},\"yaxis\":{\"gridcolor\":\"#283442\",\"linecolor\":\"#506784\",\"ticks\":\"\",\"title\":{\"standoff\":15},\"zerolinecolor\":\"#283442\",\"automargin\":true,\"zerolinewidth\":2},\"scene\":{\"xaxis\":{\"backgroundcolor\":\"rgb(17,17,17)\",\"gridcolor\":\"#506784\",\"linecolor\":\"#506784\",\"showbackground\":true,\"ticks\":\"\",\"zerolinecolor\":\"#C8D4E3\",\"gridwidth\":2},\"yaxis\":{\"backgroundcolor\":\"rgb(17,17,17)\",\"gridcolor\":\"#506784\",\"linecolor\":\"#506784\",\"showbackground\":true,\"ticks\":\"\",\"zerolinecolor\":\"#C8D4E3\",\"gridwidth\":2},\"zaxis\":{\"backgroundcolor\":\"rgb(17,17,17)\",\"gridcolor\":\"#506784\",\"linecolor\":\"#506784\",\"showbackground\":true,\"ticks\":\"\",\"zerolinecolor\":\"#C8D4E3\",\"gridwidth\":2}},\"shapedefaults\":{\"line\":{\"color\":\"#f2f5fa\"}},\"annotationdefaults\":{\"arrowcolor\":\"#f2f5fa\",\"arrowhead\":0,\"arrowwidth\":1},\"geo\":{\"bgcolor\":\"rgb(17,17,17)\",\"landcolor\":\"rgb(17,17,17)\",\"subunitcolor\":\"#506784\",\"showland\":true,\"showlakes\":true,\"lakecolor\":\"rgb(17,17,17)\"},\"title\":{\"x\":0.05},\"updatemenudefaults\":{\"bgcolor\":\"#506784\",\"borderwidth\":0},\"sliderdefaults\":{\"bgcolor\":\"#C8D4E3\",\"borderwidth\":1,\"bordercolor\":\"rgb(17,17,17)\",\"tickwidth\":0},\"mapbox\":{\"style\":\"dark\"}}},\"xaxis\":{\"anchor\":\"y\",\"domain\":[0.0,1.0],\"title\":{\"text\":\"datetime\"}},\"yaxis\":{\"anchor\":\"x\",\"domain\":[0.0,0.7326],\"categoryorder\":\"array\",\"categoryarray\":[1.5,2.0,3.5,5.0,4.5,3.0,4.0,2.5],\"title\":{\"text\":\"sum of rating\"}},\"xaxis2\":{\"anchor\":\"y2\",\"domain\":[0.0,1.0],\"matches\":\"x\",\"showticklabels\":false,\"showgrid\":true},\"yaxis2\":{\"anchor\":\"x2\",\"domain\":[0.7426,1.0],\"matches\":\"y2\",\"categoryorder\":\"array\",\"categoryarray\":[1.5,2.0,3.5,5.0,4.5,3.0,4.0,2.5],\"showticklabels\":false,\"showline\":false,\"ticks\":\"\",\"showgrid\":false},\"legend\":{\"title\":{\"text\":\"rating\"},\"tracegroupgap\":0},\"title\":{\"text\":\"Distribution of rating by time\"},\"barmode\":\"relative\"},                        {\"responsive\": true}                    ).then(function(){\n                            \nvar gd = document.getElementById('27b1b385-56ca-4259-8cfb-1541ba8c64ac');\nvar x = new MutationObserver(function (mutations, observer) {{\n        var display = window.getComputedStyle(gd).display;\n        if (!display || display === 'none') {{\n            console.log([gd, 'removed!']);\n            Plotly.purge(gd);\n            observer.disconnect();\n        }}\n}});\n\n// Listen for the removal of the full notebook cells\nvar notebookContainer = gd.closest('#notebook-container');\nif (notebookContainer) {{\n    x.observe(notebookContainer, {childList: true});\n}}\n\n// Listen for the clearing of the current output cell\nvar outputEl = gd.closest('.output');\nif (outputEl) {{\n    x.observe(outputEl, {childList: true});\n}}\n\n                        })                };                });            </script>        </div>"
     },
     "metadata": {},
     "output_type": "display_data"
    }
   ],
   "source": [
    "fig = px.histogram(df, x=df.index, y='rating', pattern_shape='rating', color='rating', template='plotly_dark', marginal='rug', title='Distribution of rating by time')\n",
    "fig.show()"
   ],
   "metadata": {
    "collapsed": false,
    "ExecuteTime": {
     "end_time": "2024-02-11T19:06:30.871157200Z",
     "start_time": "2024-02-11T19:06:30.755431Z"
    }
   },
   "id": "7f8d53fd0ead909f",
   "execution_count": 160
  },
  {
   "cell_type": "code",
   "outputs": [
    {
     "data": {
      "text/plain": "            user_id user_sex  user_age user_country  rating  \\\ndatetime                                                      \n2004-12-27        0   female        50      Germany     2.5   \n2003-11-22        1   female        23        Spain     4.0   \n2005-09-16        2     male        32       France     3.0   \n2002-09-17        3   female        24       Turkey     4.5   \n2004-10-17        4   female        40        Spain     5.0   \n...             ...      ...       ...          ...     ...   \n2003-05-22      486   female        41      Belgium     2.0   \n2005-03-16      487   female        30       Turkey     4.0   \n2003-07-03      488   female        33       Greece     4.5   \n2002-11-10      489     male        28        Spain     4.0   \n2002-05-18      490   female        34      Austria     5.0   \n\n                                                      comment  \\\ndatetime                                                        \n2004-12-27  the transitions between scenes were awkward an...   \n2003-11-22       severus snapes role adds an intriguing layer   \n2005-09-16  the pacing was a bit slow but the characters w...   \n2002-09-17  hagrids love for magical creatures is heartwar...   \n2004-10-17        neville longbottoms courage is aweinspiring   \n...                                                       ...   \n2003-05-22  the soundtrack failed to enhance the emotional...   \n2005-03-16  i enjoyed the soundtrack and the magical feel ...   \n2003-07-03  albus dumbledores wisdom resonates with the au...   \n2002-11-10              the characters growth is heartwarming   \n2002-05-18  the films exploration of themes like friendshi...   \n\n           favourite_character  \ndatetime                        \n2004-12-27       Severus Snape  \n2003-11-22       Severus Snape  \n2005-09-16         Ron Weasley  \n2002-09-17       Rubeus Hagrid  \n2004-10-17  Neville Longbottom  \n...                        ...  \n2003-05-22    Hermione Granger  \n2005-03-16    Hermione Granger  \n2003-07-03    Albus Dumbledore  \n2002-11-10    Hermione Granger  \n2002-05-18    Albus Dumbledore  \n\n[491 rows x 7 columns]",
      "text/html": "<div>\n<style scoped>\n    .dataframe tbody tr th:only-of-type {\n        vertical-align: middle;\n    }\n\n    .dataframe tbody tr th {\n        vertical-align: top;\n    }\n\n    .dataframe thead th {\n        text-align: right;\n    }\n</style>\n<table border=\"1\" class=\"dataframe\">\n  <thead>\n    <tr style=\"text-align: right;\">\n      <th></th>\n      <th>user_id</th>\n      <th>user_sex</th>\n      <th>user_age</th>\n      <th>user_country</th>\n      <th>rating</th>\n      <th>comment</th>\n      <th>favourite_character</th>\n    </tr>\n    <tr>\n      <th>datetime</th>\n      <th></th>\n      <th></th>\n      <th></th>\n      <th></th>\n      <th></th>\n      <th></th>\n      <th></th>\n    </tr>\n  </thead>\n  <tbody>\n    <tr>\n      <th>2004-12-27</th>\n      <td>0</td>\n      <td>female</td>\n      <td>50</td>\n      <td>Germany</td>\n      <td>2.5</td>\n      <td>the transitions between scenes were awkward an...</td>\n      <td>Severus Snape</td>\n    </tr>\n    <tr>\n      <th>2003-11-22</th>\n      <td>1</td>\n      <td>female</td>\n      <td>23</td>\n      <td>Spain</td>\n      <td>4.0</td>\n      <td>severus snapes role adds an intriguing layer</td>\n      <td>Severus Snape</td>\n    </tr>\n    <tr>\n      <th>2005-09-16</th>\n      <td>2</td>\n      <td>male</td>\n      <td>32</td>\n      <td>France</td>\n      <td>3.0</td>\n      <td>the pacing was a bit slow but the characters w...</td>\n      <td>Ron Weasley</td>\n    </tr>\n    <tr>\n      <th>2002-09-17</th>\n      <td>3</td>\n      <td>female</td>\n      <td>24</td>\n      <td>Turkey</td>\n      <td>4.5</td>\n      <td>hagrids love for magical creatures is heartwar...</td>\n      <td>Rubeus Hagrid</td>\n    </tr>\n    <tr>\n      <th>2004-10-17</th>\n      <td>4</td>\n      <td>female</td>\n      <td>40</td>\n      <td>Spain</td>\n      <td>5.0</td>\n      <td>neville longbottoms courage is aweinspiring</td>\n      <td>Neville Longbottom</td>\n    </tr>\n    <tr>\n      <th>...</th>\n      <td>...</td>\n      <td>...</td>\n      <td>...</td>\n      <td>...</td>\n      <td>...</td>\n      <td>...</td>\n      <td>...</td>\n    </tr>\n    <tr>\n      <th>2003-05-22</th>\n      <td>486</td>\n      <td>female</td>\n      <td>41</td>\n      <td>Belgium</td>\n      <td>2.0</td>\n      <td>the soundtrack failed to enhance the emotional...</td>\n      <td>Hermione Granger</td>\n    </tr>\n    <tr>\n      <th>2005-03-16</th>\n      <td>487</td>\n      <td>female</td>\n      <td>30</td>\n      <td>Turkey</td>\n      <td>4.0</td>\n      <td>i enjoyed the soundtrack and the magical feel ...</td>\n      <td>Hermione Granger</td>\n    </tr>\n    <tr>\n      <th>2003-07-03</th>\n      <td>488</td>\n      <td>female</td>\n      <td>33</td>\n      <td>Greece</td>\n      <td>4.5</td>\n      <td>albus dumbledores wisdom resonates with the au...</td>\n      <td>Albus Dumbledore</td>\n    </tr>\n    <tr>\n      <th>2002-11-10</th>\n      <td>489</td>\n      <td>male</td>\n      <td>28</td>\n      <td>Spain</td>\n      <td>4.0</td>\n      <td>the characters growth is heartwarming</td>\n      <td>Hermione Granger</td>\n    </tr>\n    <tr>\n      <th>2002-05-18</th>\n      <td>490</td>\n      <td>female</td>\n      <td>34</td>\n      <td>Austria</td>\n      <td>5.0</td>\n      <td>the films exploration of themes like friendshi...</td>\n      <td>Albus Dumbledore</td>\n    </tr>\n  </tbody>\n</table>\n<p>491 rows × 7 columns</p>\n</div>"
     },
     "execution_count": 197,
     "metadata": {},
     "output_type": "execute_result"
    }
   ],
   "source": [
    "df"
   ],
   "metadata": {
    "collapsed": false,
    "ExecuteTime": {
     "end_time": "2024-02-11T19:27:42.065764100Z",
     "start_time": "2024-02-11T19:27:41.977654200Z"
    }
   },
   "id": "a5d728fbb5522511",
   "execution_count": 197
  },
  {
   "cell_type": "code",
   "outputs": [],
   "source": [
    "# plt.figure(figsize=(9, 3))\n",
    "# sns.histplot(df, x='rating', hue='datetime', kde=True)\n",
    "# plt.xlabel(df.rating)\n",
    "# plt.ylabel(\"Datetime\")\n",
    "# plt.title(f\"Test\")\n",
    "# plt.show()"
   ],
   "metadata": {
    "collapsed": false,
    "ExecuteTime": {
     "end_time": "2024-02-11T19:28:46.870637300Z",
     "start_time": "2024-02-11T19:28:46.777912Z"
    }
   },
   "id": "98734e92530929d",
   "execution_count": 199
  },
  {
   "cell_type": "code",
   "outputs": [
    {
     "data": {
      "text/plain": "datetime\n2004-12-27    \"The transitions between scenes were awkward, ...\n2003-11-22     \"Severus Snape's role adds an intriguing layer.\"\n2005-09-16    \"The pacing was a bit slow, but the characters...\n2002-09-17    \"Hagrid's love for magical creatures is heartw...\n2004-10-17     \"Neville Longbottom's courage is awe-inspiring.\"\n                                    ...                        \n2003-05-22    \"The soundtrack failed to enhance the emotiona...\n2005-03-16    \"I enjoyed the soundtrack and the magical feel...\n2003-07-03    \"Albus Dumbledore's wisdom resonates with the ...\n2002-11-10            \"The characters' growth is heartwarming.\"\n2002-05-18    \"The film's exploration of themes like friends...\nName: comment, Length: 491, dtype: object"
     },
     "execution_count": 162,
     "metadata": {},
     "output_type": "execute_result"
    }
   ],
   "source": [
    "df.comment"
   ],
   "metadata": {
    "collapsed": false,
    "ExecuteTime": {
     "end_time": "2024-02-11T19:06:30.899433100Z",
     "start_time": "2024-02-11T19:06:30.878755500Z"
    }
   },
   "id": "ff05be4260f4f3e3",
   "execution_count": 162
  },
  {
   "cell_type": "code",
   "outputs": [
    {
     "data": {
      "text/plain": "array(['female', 'male', 'other'], dtype=object)"
     },
     "execution_count": 163,
     "metadata": {},
     "output_type": "execute_result"
    }
   ],
   "source": [
    "df.user_sex.unique()"
   ],
   "metadata": {
    "collapsed": false,
    "ExecuteTime": {
     "end_time": "2024-02-11T19:06:30.902436600Z",
     "start_time": "2024-02-11T19:06:30.890369900Z"
    }
   },
   "id": "9465c6ad38446453",
   "execution_count": 163
  },
  {
   "cell_type": "code",
   "outputs": [],
   "source": [
    "import re\n",
    "\n",
    "def clean_text(text):\n",
    "    text = tf.strings.lower(text).numpy().decode('utf-8')\n",
    "    text = re.sub(r'[^ \\nA-Za-z0-9À-ÖØ-öø-ÿ/]+', '', text)\n",
    "    return text\n",
    "\n",
    "df.comment = df.comment.apply(clean_text)"
   ],
   "metadata": {
    "collapsed": false,
    "ExecuteTime": {
     "end_time": "2024-02-11T19:06:31.046138200Z",
     "start_time": "2024-02-11T19:06:30.907940900Z"
    }
   },
   "id": "dcad618dfa08fcc7",
   "execution_count": 164
  },
  {
   "cell_type": "code",
   "outputs": [
    {
     "data": {
      "text/plain": "datetime\n2004-10-05    the films tone perfectly balances adventure an...\n2002-06-28    the films length allows for a thorough explora...\n2004-07-24    the special effects transport you to a magical...\n2003-05-26    the cultural references feel out of touch and ...\n2005-01-07       albus dumbledores wisdom guides the characters\n2002-12-21             neville longbottoms bravery is inspiring\n2002-04-24    the cultural references feel forced and out of...\n2002-11-25              a timeless classic in the fantasy genre\n2005-11-30    the visual effects transported me to a world o...\n2005-10-08                draco malfoys arrogance adds conflict\nName: comment, dtype: object"
     },
     "execution_count": 165,
     "metadata": {},
     "output_type": "execute_result"
    }
   ],
   "source": [
    "df.comment.sample(10)"
   ],
   "metadata": {
    "collapsed": false,
    "ExecuteTime": {
     "end_time": "2024-02-11T19:06:31.057379700Z",
     "start_time": "2024-02-11T19:06:31.048149300Z"
    }
   },
   "id": "4817a597a5bfac62",
   "execution_count": 165
  },
  {
   "cell_type": "code",
   "outputs": [],
   "source": [
    "df2 = df.copy()"
   ],
   "metadata": {
    "collapsed": false,
    "ExecuteTime": {
     "end_time": "2024-02-11T19:06:31.069174600Z",
     "start_time": "2024-02-11T19:06:31.058379600Z"
    }
   },
   "id": "d741b44a40d8deb6",
   "execution_count": 166
  },
  {
   "cell_type": "code",
   "outputs": [
    {
     "data": {
      "text/plain": "            user_id  user_sex  user_age user_country  rating  \\\ndatetime                                                       \n2004-12-27        0         0        50      Germany     2.5   \n2003-11-22        1         0        23        Spain     4.0   \n2005-09-16        2         1        32       France     3.0   \n2002-09-17        3         0        24       Turkey     4.5   \n2004-10-17        4         0        40        Spain     5.0   \n...             ...       ...       ...          ...     ...   \n2003-05-22      486         0        41      Belgium     2.0   \n2005-03-16      487         0        30       Turkey     4.0   \n2003-07-03      488         0        33       Greece     4.5   \n2002-11-10      489         1        28        Spain     4.0   \n2002-05-18      490         0        34      Austria     5.0   \n\n                                                      comment  \\\ndatetime                                                        \n2004-12-27  the transitions between scenes were awkward an...   \n2003-11-22       severus snapes role adds an intriguing layer   \n2005-09-16  the pacing was a bit slow but the characters w...   \n2002-09-17  hagrids love for magical creatures is heartwar...   \n2004-10-17        neville longbottoms courage is aweinspiring   \n...                                                       ...   \n2003-05-22  the soundtrack failed to enhance the emotional...   \n2005-03-16  i enjoyed the soundtrack and the magical feel ...   \n2003-07-03  albus dumbledores wisdom resonates with the au...   \n2002-11-10              the characters growth is heartwarming   \n2002-05-18  the films exploration of themes like friendshi...   \n\n           favourite_character  \ndatetime                        \n2004-12-27       Severus Snape  \n2003-11-22       Severus Snape  \n2005-09-16         Ron Weasley  \n2002-09-17       Rubeus Hagrid  \n2004-10-17  Neville Longbottom  \n...                        ...  \n2003-05-22    Hermione Granger  \n2005-03-16    Hermione Granger  \n2003-07-03    Albus Dumbledore  \n2002-11-10    Hermione Granger  \n2002-05-18    Albus Dumbledore  \n\n[491 rows x 7 columns]",
      "text/html": "<div>\n<style scoped>\n    .dataframe tbody tr th:only-of-type {\n        vertical-align: middle;\n    }\n\n    .dataframe tbody tr th {\n        vertical-align: top;\n    }\n\n    .dataframe thead th {\n        text-align: right;\n    }\n</style>\n<table border=\"1\" class=\"dataframe\">\n  <thead>\n    <tr style=\"text-align: right;\">\n      <th></th>\n      <th>user_id</th>\n      <th>user_sex</th>\n      <th>user_age</th>\n      <th>user_country</th>\n      <th>rating</th>\n      <th>comment</th>\n      <th>favourite_character</th>\n    </tr>\n    <tr>\n      <th>datetime</th>\n      <th></th>\n      <th></th>\n      <th></th>\n      <th></th>\n      <th></th>\n      <th></th>\n      <th></th>\n    </tr>\n  </thead>\n  <tbody>\n    <tr>\n      <th>2004-12-27</th>\n      <td>0</td>\n      <td>0</td>\n      <td>50</td>\n      <td>Germany</td>\n      <td>2.5</td>\n      <td>the transitions between scenes were awkward an...</td>\n      <td>Severus Snape</td>\n    </tr>\n    <tr>\n      <th>2003-11-22</th>\n      <td>1</td>\n      <td>0</td>\n      <td>23</td>\n      <td>Spain</td>\n      <td>4.0</td>\n      <td>severus snapes role adds an intriguing layer</td>\n      <td>Severus Snape</td>\n    </tr>\n    <tr>\n      <th>2005-09-16</th>\n      <td>2</td>\n      <td>1</td>\n      <td>32</td>\n      <td>France</td>\n      <td>3.0</td>\n      <td>the pacing was a bit slow but the characters w...</td>\n      <td>Ron Weasley</td>\n    </tr>\n    <tr>\n      <th>2002-09-17</th>\n      <td>3</td>\n      <td>0</td>\n      <td>24</td>\n      <td>Turkey</td>\n      <td>4.5</td>\n      <td>hagrids love for magical creatures is heartwar...</td>\n      <td>Rubeus Hagrid</td>\n    </tr>\n    <tr>\n      <th>2004-10-17</th>\n      <td>4</td>\n      <td>0</td>\n      <td>40</td>\n      <td>Spain</td>\n      <td>5.0</td>\n      <td>neville longbottoms courage is aweinspiring</td>\n      <td>Neville Longbottom</td>\n    </tr>\n    <tr>\n      <th>...</th>\n      <td>...</td>\n      <td>...</td>\n      <td>...</td>\n      <td>...</td>\n      <td>...</td>\n      <td>...</td>\n      <td>...</td>\n    </tr>\n    <tr>\n      <th>2003-05-22</th>\n      <td>486</td>\n      <td>0</td>\n      <td>41</td>\n      <td>Belgium</td>\n      <td>2.0</td>\n      <td>the soundtrack failed to enhance the emotional...</td>\n      <td>Hermione Granger</td>\n    </tr>\n    <tr>\n      <th>2005-03-16</th>\n      <td>487</td>\n      <td>0</td>\n      <td>30</td>\n      <td>Turkey</td>\n      <td>4.0</td>\n      <td>i enjoyed the soundtrack and the magical feel ...</td>\n      <td>Hermione Granger</td>\n    </tr>\n    <tr>\n      <th>2003-07-03</th>\n      <td>488</td>\n      <td>0</td>\n      <td>33</td>\n      <td>Greece</td>\n      <td>4.5</td>\n      <td>albus dumbledores wisdom resonates with the au...</td>\n      <td>Albus Dumbledore</td>\n    </tr>\n    <tr>\n      <th>2002-11-10</th>\n      <td>489</td>\n      <td>1</td>\n      <td>28</td>\n      <td>Spain</td>\n      <td>4.0</td>\n      <td>the characters growth is heartwarming</td>\n      <td>Hermione Granger</td>\n    </tr>\n    <tr>\n      <th>2002-05-18</th>\n      <td>490</td>\n      <td>0</td>\n      <td>34</td>\n      <td>Austria</td>\n      <td>5.0</td>\n      <td>the films exploration of themes like friendshi...</td>\n      <td>Albus Dumbledore</td>\n    </tr>\n  </tbody>\n</table>\n<p>491 rows × 7 columns</p>\n</div>"
     },
     "execution_count": 167,
     "metadata": {},
     "output_type": "execute_result"
    }
   ],
   "source": [
    "df2.user_sex = [1 if i == 'male' else 0 if i == 'female' else 2 for i in df2.user_sex]\n",
    "df2"
   ],
   "metadata": {
    "collapsed": false,
    "ExecuteTime": {
     "end_time": "2024-02-11T19:06:31.091957300Z",
     "start_time": "2024-02-11T19:06:31.065203700Z"
    }
   },
   "id": "ea137b981640f1a7",
   "execution_count": 167
  },
  {
   "cell_type": "code",
   "outputs": [],
   "source": [
    "df2 = pd.get_dummies(df2, columns=['favourite_character', 'user_country'])"
   ],
   "metadata": {
    "collapsed": false,
    "ExecuteTime": {
     "end_time": "2024-02-11T19:06:31.093956500Z",
     "start_time": "2024-02-11T19:06:31.084246400Z"
    }
   },
   "id": "e3939f4dde2627c2",
   "execution_count": 168
  },
  {
   "cell_type": "code",
   "outputs": [],
   "source": [
    "from vaderSentiment.vaderSentiment import SentimentIntensityAnalyzer\n",
    "\n",
    "def sentiment_label(score):\n",
    "    if score >= 0.05:\n",
    "        return \"positive\"\n",
    "    else:\n",
    "        return \"negative\"\n",
    "\n",
    "def analyze_sentiment(sentence):\n",
    "    sid_obj = SentimentIntensityAnalyzer()\n",
    "    sentiment_dict = sid_obj.polarity_scores(sentence)\n",
    "    return sentiment_label(sentiment_dict['compound'])\n",
    "\n",
    "data = {'comment': ['positive', 'negative']}\n",
    "\n",
    "df2['sentiment'] = df2['comment'].apply(analyze_sentiment)"
   ],
   "metadata": {
    "collapsed": false,
    "ExecuteTime": {
     "end_time": "2024-02-11T19:06:36.674434200Z",
     "start_time": "2024-02-11T19:06:31.095470400Z"
    }
   },
   "id": "31e3d895e8ad1408",
   "execution_count": 169
  },
  {
   "cell_type": "code",
   "outputs": [
    {
     "data": {
      "text/plain": "            user_id  user_sex  user_age  rating  \\\ndatetime                                          \n2004-12-27        0         0        50     2.5   \n2003-11-22        1         0        23     4.0   \n2005-09-16        2         1        32     3.0   \n2002-09-17        3         0        24     4.5   \n2004-10-17        4         0        40     5.0   \n...             ...       ...       ...     ...   \n2003-05-22      486         0        41     2.0   \n2005-03-16      487         0        30     4.0   \n2003-07-03      488         0        33     4.5   \n2002-11-10      489         1        28     4.0   \n2002-05-18      490         0        34     5.0   \n\n                                                      comment  \\\ndatetime                                                        \n2004-12-27  the transitions between scenes were awkward an...   \n2003-11-22       severus snapes role adds an intriguing layer   \n2005-09-16  the pacing was a bit slow but the characters w...   \n2002-09-17  hagrids love for magical creatures is heartwar...   \n2004-10-17        neville longbottoms courage is aweinspiring   \n...                                                       ...   \n2003-05-22  the soundtrack failed to enhance the emotional...   \n2005-03-16  i enjoyed the soundtrack and the magical feel ...   \n2003-07-03  albus dumbledores wisdom resonates with the au...   \n2002-11-10              the characters growth is heartwarming   \n2002-05-18  the films exploration of themes like friendshi...   \n\n            favourite_character_Albus Dumbledore  \\\ndatetime                                           \n2004-12-27                                 False   \n2003-11-22                                 False   \n2005-09-16                                 False   \n2002-09-17                                 False   \n2004-10-17                                 False   \n...                                          ...   \n2003-05-22                                 False   \n2005-03-16                                 False   \n2003-07-03                                  True   \n2002-11-10                                 False   \n2002-05-18                                  True   \n\n            favourite_character_Draco Malfoy  \\\ndatetime                                       \n2004-12-27                             False   \n2003-11-22                             False   \n2005-09-16                             False   \n2002-09-17                             False   \n2004-10-17                             False   \n...                                      ...   \n2003-05-22                             False   \n2005-03-16                             False   \n2003-07-03                             False   \n2002-11-10                             False   \n2002-05-18                             False   \n\n            favourite_character_Harry Potter  \\\ndatetime                                       \n2004-12-27                             False   \n2003-11-22                             False   \n2005-09-16                             False   \n2002-09-17                             False   \n2004-10-17                             False   \n...                                      ...   \n2003-05-22                             False   \n2005-03-16                             False   \n2003-07-03                             False   \n2002-11-10                             False   \n2002-05-18                             False   \n\n            favourite_character_Hermione Granger  \\\ndatetime                                           \n2004-12-27                                 False   \n2003-11-22                                 False   \n2005-09-16                                 False   \n2002-09-17                                 False   \n2004-10-17                                 False   \n...                                          ...   \n2003-05-22                                  True   \n2005-03-16                                  True   \n2003-07-03                                 False   \n2002-11-10                                  True   \n2002-05-18                                 False   \n\n            favourite_character_Neville Longbottom  ...  user_country_France  \\\ndatetime                                            ...                        \n2004-12-27                                   False  ...                False   \n2003-11-22                                   False  ...                False   \n2005-09-16                                   False  ...                 True   \n2002-09-17                                   False  ...                False   \n2004-10-17                                    True  ...                False   \n...                                            ...  ...                  ...   \n2003-05-22                                   False  ...                False   \n2005-03-16                                   False  ...                False   \n2003-07-03                                   False  ...                False   \n2002-11-10                                   False  ...                False   \n2002-05-18                                   False  ...                False   \n\n            user_country_Germany  user_country_Greece  \\\ndatetime                                                \n2004-12-27                  True                False   \n2003-11-22                 False                False   \n2005-09-16                 False                False   \n2002-09-17                 False                False   \n2004-10-17                 False                False   \n...                          ...                  ...   \n2003-05-22                 False                False   \n2005-03-16                 False                False   \n2003-07-03                 False                 True   \n2002-11-10                 False                False   \n2002-05-18                 False                False   \n\n            user_country_Netherlands  user_country_Spain  user_country_Sweden  \\\ndatetime                                                                        \n2004-12-27                     False               False                False   \n2003-11-22                     False                True                False   \n2005-09-16                     False               False                False   \n2002-09-17                     False               False                False   \n2004-10-17                     False                True                False   \n...                              ...                 ...                  ...   \n2003-05-22                     False               False                False   \n2005-03-16                     False               False                False   \n2003-07-03                     False               False                False   \n2002-11-10                     False                True                False   \n2002-05-18                     False               False                False   \n\n            user_country_Switzerland  user_country_Turkey  \\\ndatetime                                                    \n2004-12-27                     False                False   \n2003-11-22                     False                False   \n2005-09-16                     False                False   \n2002-09-17                     False                 True   \n2004-10-17                     False                False   \n...                              ...                  ...   \n2003-05-22                     False                False   \n2005-03-16                     False                 True   \n2003-07-03                     False                False   \n2002-11-10                     False                False   \n2002-05-18                     False                False   \n\n            user_country_United Kingdom  sentiment  \ndatetime                                            \n2004-12-27                        False   negative  \n2003-11-22                        False   negative  \n2005-09-16                        False   positive  \n2002-09-17                        False   positive  \n2004-10-17                        False   positive  \n...                                 ...        ...  \n2003-05-22                        False   negative  \n2005-03-16                        False   positive  \n2003-07-03                        False   positive  \n2002-11-10                        False   positive  \n2002-05-18                        False   positive  \n\n[491 rows x 27 columns]",
      "text/html": "<div>\n<style scoped>\n    .dataframe tbody tr th:only-of-type {\n        vertical-align: middle;\n    }\n\n    .dataframe tbody tr th {\n        vertical-align: top;\n    }\n\n    .dataframe thead th {\n        text-align: right;\n    }\n</style>\n<table border=\"1\" class=\"dataframe\">\n  <thead>\n    <tr style=\"text-align: right;\">\n      <th></th>\n      <th>user_id</th>\n      <th>user_sex</th>\n      <th>user_age</th>\n      <th>rating</th>\n      <th>comment</th>\n      <th>favourite_character_Albus Dumbledore</th>\n      <th>favourite_character_Draco Malfoy</th>\n      <th>favourite_character_Harry Potter</th>\n      <th>favourite_character_Hermione Granger</th>\n      <th>favourite_character_Neville Longbottom</th>\n      <th>...</th>\n      <th>user_country_France</th>\n      <th>user_country_Germany</th>\n      <th>user_country_Greece</th>\n      <th>user_country_Netherlands</th>\n      <th>user_country_Spain</th>\n      <th>user_country_Sweden</th>\n      <th>user_country_Switzerland</th>\n      <th>user_country_Turkey</th>\n      <th>user_country_United Kingdom</th>\n      <th>sentiment</th>\n    </tr>\n    <tr>\n      <th>datetime</th>\n      <th></th>\n      <th></th>\n      <th></th>\n      <th></th>\n      <th></th>\n      <th></th>\n      <th></th>\n      <th></th>\n      <th></th>\n      <th></th>\n      <th></th>\n      <th></th>\n      <th></th>\n      <th></th>\n      <th></th>\n      <th></th>\n      <th></th>\n      <th></th>\n      <th></th>\n      <th></th>\n      <th></th>\n    </tr>\n  </thead>\n  <tbody>\n    <tr>\n      <th>2004-12-27</th>\n      <td>0</td>\n      <td>0</td>\n      <td>50</td>\n      <td>2.5</td>\n      <td>the transitions between scenes were awkward an...</td>\n      <td>False</td>\n      <td>False</td>\n      <td>False</td>\n      <td>False</td>\n      <td>False</td>\n      <td>...</td>\n      <td>False</td>\n      <td>True</td>\n      <td>False</td>\n      <td>False</td>\n      <td>False</td>\n      <td>False</td>\n      <td>False</td>\n      <td>False</td>\n      <td>False</td>\n      <td>negative</td>\n    </tr>\n    <tr>\n      <th>2003-11-22</th>\n      <td>1</td>\n      <td>0</td>\n      <td>23</td>\n      <td>4.0</td>\n      <td>severus snapes role adds an intriguing layer</td>\n      <td>False</td>\n      <td>False</td>\n      <td>False</td>\n      <td>False</td>\n      <td>False</td>\n      <td>...</td>\n      <td>False</td>\n      <td>False</td>\n      <td>False</td>\n      <td>False</td>\n      <td>True</td>\n      <td>False</td>\n      <td>False</td>\n      <td>False</td>\n      <td>False</td>\n      <td>negative</td>\n    </tr>\n    <tr>\n      <th>2005-09-16</th>\n      <td>2</td>\n      <td>1</td>\n      <td>32</td>\n      <td>3.0</td>\n      <td>the pacing was a bit slow but the characters w...</td>\n      <td>False</td>\n      <td>False</td>\n      <td>False</td>\n      <td>False</td>\n      <td>False</td>\n      <td>...</td>\n      <td>True</td>\n      <td>False</td>\n      <td>False</td>\n      <td>False</td>\n      <td>False</td>\n      <td>False</td>\n      <td>False</td>\n      <td>False</td>\n      <td>False</td>\n      <td>positive</td>\n    </tr>\n    <tr>\n      <th>2002-09-17</th>\n      <td>3</td>\n      <td>0</td>\n      <td>24</td>\n      <td>4.5</td>\n      <td>hagrids love for magical creatures is heartwar...</td>\n      <td>False</td>\n      <td>False</td>\n      <td>False</td>\n      <td>False</td>\n      <td>False</td>\n      <td>...</td>\n      <td>False</td>\n      <td>False</td>\n      <td>False</td>\n      <td>False</td>\n      <td>False</td>\n      <td>False</td>\n      <td>False</td>\n      <td>True</td>\n      <td>False</td>\n      <td>positive</td>\n    </tr>\n    <tr>\n      <th>2004-10-17</th>\n      <td>4</td>\n      <td>0</td>\n      <td>40</td>\n      <td>5.0</td>\n      <td>neville longbottoms courage is aweinspiring</td>\n      <td>False</td>\n      <td>False</td>\n      <td>False</td>\n      <td>False</td>\n      <td>True</td>\n      <td>...</td>\n      <td>False</td>\n      <td>False</td>\n      <td>False</td>\n      <td>False</td>\n      <td>True</td>\n      <td>False</td>\n      <td>False</td>\n      <td>False</td>\n      <td>False</td>\n      <td>positive</td>\n    </tr>\n    <tr>\n      <th>...</th>\n      <td>...</td>\n      <td>...</td>\n      <td>...</td>\n      <td>...</td>\n      <td>...</td>\n      <td>...</td>\n      <td>...</td>\n      <td>...</td>\n      <td>...</td>\n      <td>...</td>\n      <td>...</td>\n      <td>...</td>\n      <td>...</td>\n      <td>...</td>\n      <td>...</td>\n      <td>...</td>\n      <td>...</td>\n      <td>...</td>\n      <td>...</td>\n      <td>...</td>\n      <td>...</td>\n    </tr>\n    <tr>\n      <th>2003-05-22</th>\n      <td>486</td>\n      <td>0</td>\n      <td>41</td>\n      <td>2.0</td>\n      <td>the soundtrack failed to enhance the emotional...</td>\n      <td>False</td>\n      <td>False</td>\n      <td>False</td>\n      <td>True</td>\n      <td>False</td>\n      <td>...</td>\n      <td>False</td>\n      <td>False</td>\n      <td>False</td>\n      <td>False</td>\n      <td>False</td>\n      <td>False</td>\n      <td>False</td>\n      <td>False</td>\n      <td>False</td>\n      <td>negative</td>\n    </tr>\n    <tr>\n      <th>2005-03-16</th>\n      <td>487</td>\n      <td>0</td>\n      <td>30</td>\n      <td>4.0</td>\n      <td>i enjoyed the soundtrack and the magical feel ...</td>\n      <td>False</td>\n      <td>False</td>\n      <td>False</td>\n      <td>True</td>\n      <td>False</td>\n      <td>...</td>\n      <td>False</td>\n      <td>False</td>\n      <td>False</td>\n      <td>False</td>\n      <td>False</td>\n      <td>False</td>\n      <td>False</td>\n      <td>True</td>\n      <td>False</td>\n      <td>positive</td>\n    </tr>\n    <tr>\n      <th>2003-07-03</th>\n      <td>488</td>\n      <td>0</td>\n      <td>33</td>\n      <td>4.5</td>\n      <td>albus dumbledores wisdom resonates with the au...</td>\n      <td>True</td>\n      <td>False</td>\n      <td>False</td>\n      <td>False</td>\n      <td>False</td>\n      <td>...</td>\n      <td>False</td>\n      <td>False</td>\n      <td>True</td>\n      <td>False</td>\n      <td>False</td>\n      <td>False</td>\n      <td>False</td>\n      <td>False</td>\n      <td>False</td>\n      <td>positive</td>\n    </tr>\n    <tr>\n      <th>2002-11-10</th>\n      <td>489</td>\n      <td>1</td>\n      <td>28</td>\n      <td>4.0</td>\n      <td>the characters growth is heartwarming</td>\n      <td>False</td>\n      <td>False</td>\n      <td>False</td>\n      <td>True</td>\n      <td>False</td>\n      <td>...</td>\n      <td>False</td>\n      <td>False</td>\n      <td>False</td>\n      <td>False</td>\n      <td>True</td>\n      <td>False</td>\n      <td>False</td>\n      <td>False</td>\n      <td>False</td>\n      <td>positive</td>\n    </tr>\n    <tr>\n      <th>2002-05-18</th>\n      <td>490</td>\n      <td>0</td>\n      <td>34</td>\n      <td>5.0</td>\n      <td>the films exploration of themes like friendshi...</td>\n      <td>True</td>\n      <td>False</td>\n      <td>False</td>\n      <td>False</td>\n      <td>False</td>\n      <td>...</td>\n      <td>False</td>\n      <td>False</td>\n      <td>False</td>\n      <td>False</td>\n      <td>False</td>\n      <td>False</td>\n      <td>False</td>\n      <td>False</td>\n      <td>False</td>\n      <td>positive</td>\n    </tr>\n  </tbody>\n</table>\n<p>491 rows × 27 columns</p>\n</div>"
     },
     "execution_count": 170,
     "metadata": {},
     "output_type": "execute_result"
    }
   ],
   "source": [
    "df2"
   ],
   "metadata": {
    "collapsed": false,
    "ExecuteTime": {
     "end_time": "2024-02-11T19:06:36.708061800Z",
     "start_time": "2024-02-11T19:06:36.675431600Z"
    }
   },
   "id": "aba49094b554497f",
   "execution_count": 170
  },
  {
   "cell_type": "code",
   "outputs": [
    {
     "name": "stderr",
     "output_type": "stream",
     "text": [
      "[I 2024-02-11 22:26:27,320] A new study created in memory with name: no-name-2d859dd7-48d9-43f8-a333-4780ca2ae11d\n",
      "[I 2024-02-11 22:26:27,340] Trial 0 finished with value: 0.8080808080808081 and parameters: {'alpha': 0.7525652019100256, 'force_alpha': True, 'fit_prior': True}. Best is trial 0 with value: 0.8080808080808081.\n",
      "[I 2024-02-11 22:26:27,358] Trial 1 finished with value: 0.8080808080808081 and parameters: {'alpha': 0.7081930936806546, 'force_alpha': True, 'fit_prior': True}. Best is trial 0 with value: 0.8080808080808081.\n",
      "[I 2024-02-11 22:26:27,373] Trial 2 finished with value: 0.8383838383838383 and parameters: {'alpha': 0.23058225189407558, 'force_alpha': False, 'fit_prior': False}. Best is trial 0 with value: 0.8080808080808081.\n",
      "[I 2024-02-11 22:26:27,388] Trial 3 finished with value: 0.8080808080808081 and parameters: {'alpha': 0.740085421807056, 'force_alpha': True, 'fit_prior': False}. Best is trial 0 with value: 0.8080808080808081.\n",
      "[I 2024-02-11 22:26:27,405] Trial 4 finished with value: 0.8383838383838383 and parameters: {'alpha': 0.020065743270373054, 'force_alpha': True, 'fit_prior': True}. Best is trial 0 with value: 0.8080808080808081.\n",
      "[I 2024-02-11 22:26:27,419] Trial 5 finished with value: 0.8484848484848485 and parameters: {'alpha': 0.1648379089115564, 'force_alpha': False, 'fit_prior': False}. Best is trial 0 with value: 0.8080808080808081.\n",
      "[I 2024-02-11 22:26:27,431] Trial 6 finished with value: 0.8080808080808081 and parameters: {'alpha': 0.7636358244045558, 'force_alpha': True, 'fit_prior': True}. Best is trial 0 with value: 0.8080808080808081.\n",
      "[I 2024-02-11 22:26:27,447] Trial 7 finished with value: 0.8383838383838383 and parameters: {'alpha': 0.36131744531785287, 'force_alpha': False, 'fit_prior': True}. Best is trial 0 with value: 0.8080808080808081.\n",
      "[I 2024-02-11 22:26:27,465] Trial 8 finished with value: 0.8383838383838383 and parameters: {'alpha': 0.3064448043797969, 'force_alpha': False, 'fit_prior': False}. Best is trial 0 with value: 0.8080808080808081.\n",
      "[I 2024-02-11 22:26:27,479] Trial 9 finished with value: 0.8383838383838383 and parameters: {'alpha': 0.3962361526817044, 'force_alpha': False, 'fit_prior': True}. Best is trial 0 with value: 0.8080808080808081.\n",
      "[I 2024-02-11 22:26:27,499] Trial 10 finished with value: 0.8080808080808081 and parameters: {'alpha': 0.9953459317833979, 'force_alpha': True, 'fit_prior': True}. Best is trial 0 with value: 0.8080808080808081.\n",
      "[I 2024-02-11 22:26:27,524] Trial 11 finished with value: 0.8181818181818182 and parameters: {'alpha': 0.6233780749403177, 'force_alpha': True, 'fit_prior': True}. Best is trial 0 with value: 0.8080808080808081.\n",
      "[I 2024-02-11 22:26:27,543] Trial 12 finished with value: 0.8080808080808081 and parameters: {'alpha': 0.9222273849081757, 'force_alpha': True, 'fit_prior': True}. Best is trial 0 with value: 0.8080808080808081.\n",
      "[I 2024-02-11 22:26:27,562] Trial 13 finished with value: 0.8383838383838383 and parameters: {'alpha': 0.5486349955714604, 'force_alpha': True, 'fit_prior': True}. Best is trial 0 with value: 0.8080808080808081.\n",
      "[I 2024-02-11 22:26:27,580] Trial 14 finished with value: 0.8080808080808081 and parameters: {'alpha': 0.8204880739463057, 'force_alpha': True, 'fit_prior': True}. Best is trial 0 with value: 0.8080808080808081.\n",
      "[I 2024-02-11 22:26:27,601] Trial 15 finished with value: 0.8080808080808081 and parameters: {'alpha': 0.6697711826913798, 'force_alpha': True, 'fit_prior': True}. Best is trial 0 with value: 0.8080808080808081.\n",
      "[I 2024-02-11 22:26:27,625] Trial 16 finished with value: 0.8383838383838383 and parameters: {'alpha': 0.4914210390499187, 'force_alpha': True, 'fit_prior': True}. Best is trial 0 with value: 0.8080808080808081.\n",
      "[I 2024-02-11 22:26:27,650] Trial 17 finished with value: 0.8080808080808081 and parameters: {'alpha': 0.8679255460174724, 'force_alpha': True, 'fit_prior': True}. Best is trial 0 with value: 0.8080808080808081.\n",
      "[I 2024-02-11 22:26:27,673] Trial 18 finished with value: 0.8080808080808081 and parameters: {'alpha': 0.6346525378969909, 'force_alpha': True, 'fit_prior': False}. Best is trial 0 with value: 0.8080808080808081.\n",
      "[I 2024-02-11 22:26:27,695] Trial 19 finished with value: 0.8080808080808081 and parameters: {'alpha': 0.7234065565308208, 'force_alpha': True, 'fit_prior': True}. Best is trial 0 with value: 0.8080808080808081.\n",
      "[I 2024-02-11 22:26:27,720] Trial 20 finished with value: 0.8383838383838383 and parameters: {'alpha': 0.5117254102227249, 'force_alpha': True, 'fit_prior': True}. Best is trial 0 with value: 0.8080808080808081.\n",
      "[I 2024-02-11 22:26:27,745] Trial 21 finished with value: 0.8080808080808081 and parameters: {'alpha': 0.7796774410490961, 'force_alpha': True, 'fit_prior': False}. Best is trial 0 with value: 0.8080808080808081.\n",
      "[I 2024-02-11 22:26:27,768] Trial 22 finished with value: 0.8080808080808081 and parameters: {'alpha': 0.8877194764272598, 'force_alpha': True, 'fit_prior': False}. Best is trial 0 with value: 0.8080808080808081.\n",
      "[I 2024-02-11 22:26:27,794] Trial 23 finished with value: 0.8080808080808081 and parameters: {'alpha': 0.7070579785291764, 'force_alpha': True, 'fit_prior': False}. Best is trial 0 with value: 0.8080808080808081.\n",
      "[I 2024-02-11 22:26:27,820] Trial 24 finished with value: 0.8282828282828283 and parameters: {'alpha': 0.5538735440590162, 'force_alpha': True, 'fit_prior': False}. Best is trial 0 with value: 0.8080808080808081.\n",
      "[I 2024-02-11 22:26:27,840] Trial 25 finished with value: 0.8080808080808081 and parameters: {'alpha': 0.988942711722334, 'force_alpha': True, 'fit_prior': False}. Best is trial 0 with value: 0.8080808080808081.\n",
      "[I 2024-02-11 22:26:27,860] Trial 26 finished with value: 0.8080808080808081 and parameters: {'alpha': 0.848770538625651, 'force_alpha': False, 'fit_prior': False}. Best is trial 0 with value: 0.8080808080808081.\n",
      "[I 2024-02-11 22:26:27,882] Trial 27 finished with value: 0.8181818181818182 and parameters: {'alpha': 0.599298787687295, 'force_alpha': True, 'fit_prior': True}. Best is trial 0 with value: 0.8080808080808081.\n",
      "[I 2024-02-11 22:26:27,905] Trial 28 finished with value: 0.8080808080808081 and parameters: {'alpha': 0.7660866528545791, 'force_alpha': True, 'fit_prior': False}. Best is trial 0 with value: 0.8080808080808081.\n",
      "[I 2024-02-11 22:26:27,926] Trial 29 finished with value: 0.8383838383838383 and parameters: {'alpha': 0.42569144974892215, 'force_alpha': False, 'fit_prior': False}. Best is trial 0 with value: 0.8080808080808081.\n",
      "[I 2024-02-11 22:26:27,948] Trial 30 finished with value: 0.8080808080808081 and parameters: {'alpha': 0.7153279026751002, 'force_alpha': True, 'fit_prior': True}. Best is trial 0 with value: 0.8080808080808081.\n",
      "[I 2024-02-11 22:26:27,973] Trial 31 finished with value: 0.8080808080808081 and parameters: {'alpha': 0.7831585568121682, 'force_alpha': True, 'fit_prior': True}. Best is trial 0 with value: 0.8080808080808081.\n",
      "[I 2024-02-11 22:26:27,993] Trial 32 finished with value: 0.8080808080808081 and parameters: {'alpha': 0.6665807197377454, 'force_alpha': True, 'fit_prior': True}. Best is trial 0 with value: 0.8080808080808081.\n",
      "[I 2024-02-11 22:26:28,013] Trial 33 finished with value: 0.8080808080808081 and parameters: {'alpha': 0.9305207090438737, 'force_alpha': True, 'fit_prior': True}. Best is trial 0 with value: 0.8080808080808081.\n",
      "[I 2024-02-11 22:26:28,033] Trial 34 finished with value: 0.8080808080808081 and parameters: {'alpha': 0.816099713968879, 'force_alpha': True, 'fit_prior': True}. Best is trial 0 with value: 0.8080808080808081.\n",
      "[I 2024-02-11 22:26:28,056] Trial 35 finished with value: 0.8383838383838383 and parameters: {'alpha': 0.10703618299455342, 'force_alpha': False, 'fit_prior': True}. Best is trial 0 with value: 0.8080808080808081.\n",
      "[I 2024-02-11 22:26:28,076] Trial 36 finished with value: 0.8080808080808081 and parameters: {'alpha': 0.7407568114117975, 'force_alpha': True, 'fit_prior': True}. Best is trial 0 with value: 0.8080808080808081.\n",
      "[I 2024-02-11 22:26:28,096] Trial 37 finished with value: 0.8181818181818182 and parameters: {'alpha': 0.5820433180313187, 'force_alpha': False, 'fit_prior': False}. Best is trial 0 with value: 0.8080808080808081.\n",
      "[I 2024-02-11 22:26:28,115] Trial 38 finished with value: 0.8080808080808081 and parameters: {'alpha': 0.6581515857795497, 'force_alpha': True, 'fit_prior': True}. Best is trial 0 with value: 0.8080808080808081.\n",
      "[I 2024-02-11 22:26:28,137] Trial 39 finished with value: 0.8383838383838383 and parameters: {'alpha': 0.2957392945229216, 'force_alpha': False, 'fit_prior': True}. Best is trial 0 with value: 0.8080808080808081.\n",
      "[I 2024-02-11 22:26:28,156] Trial 40 finished with value: 0.8080808080808081 and parameters: {'alpha': 0.9416836810319048, 'force_alpha': True, 'fit_prior': True}. Best is trial 0 with value: 0.8080808080808081.\n",
      "[I 2024-02-11 22:26:28,179] Trial 41 finished with value: 0.8080808080808081 and parameters: {'alpha': 0.9671571605428398, 'force_alpha': True, 'fit_prior': True}. Best is trial 0 with value: 0.8080808080808081.\n",
      "[I 2024-02-11 22:26:28,198] Trial 42 finished with value: 0.8080808080808081 and parameters: {'alpha': 0.8961947199248439, 'force_alpha': True, 'fit_prior': True}. Best is trial 0 with value: 0.8080808080808081.\n",
      "[I 2024-02-11 22:26:28,218] Trial 43 finished with value: 0.8080808080808081 and parameters: {'alpha': 0.8022728123925466, 'force_alpha': True, 'fit_prior': True}. Best is trial 0 with value: 0.8080808080808081.\n",
      "[I 2024-02-11 22:26:28,238] Trial 44 finished with value: 0.8080808080808081 and parameters: {'alpha': 0.836776175246686, 'force_alpha': True, 'fit_prior': True}. Best is trial 0 with value: 0.8080808080808081.\n",
      "[I 2024-02-11 22:26:28,259] Trial 45 finished with value: 0.8383838383838383 and parameters: {'alpha': 0.45491550491690297, 'force_alpha': True, 'fit_prior': True}. Best is trial 0 with value: 0.8080808080808081.\n",
      "[I 2024-02-11 22:26:28,279] Trial 46 finished with value: 0.8080808080808081 and parameters: {'alpha': 0.6749669288737443, 'force_alpha': True, 'fit_prior': True}. Best is trial 0 with value: 0.8080808080808081.\n",
      "[I 2024-02-11 22:26:28,298] Trial 47 finished with value: 0.8080808080808081 and parameters: {'alpha': 0.7433270585230256, 'force_alpha': True, 'fit_prior': True}. Best is trial 0 with value: 0.8080808080808081.\n",
      "[I 2024-02-11 22:26:28,319] Trial 48 finished with value: 0.8080808080808081 and parameters: {'alpha': 0.8681632558137911, 'force_alpha': True, 'fit_prior': False}. Best is trial 0 with value: 0.8080808080808081.\n",
      "[I 2024-02-11 22:26:28,337] Trial 49 finished with value: 0.8181818181818182 and parameters: {'alpha': 0.6116490466436759, 'force_alpha': True, 'fit_prior': True}. Best is trial 0 with value: 0.8080808080808081.\n",
      "[I 2024-02-11 22:26:28,357] Trial 50 finished with value: 0.8383838383838383 and parameters: {'alpha': 0.36281526813559517, 'force_alpha': True, 'fit_prior': True}. Best is trial 0 with value: 0.8080808080808081.\n",
      "[I 2024-02-11 22:26:28,382] Trial 51 finished with value: 0.8080808080808081 and parameters: {'alpha': 0.9284291574774496, 'force_alpha': True, 'fit_prior': True}. Best is trial 0 with value: 0.8080808080808081.\n",
      "[I 2024-02-11 22:26:28,402] Trial 52 finished with value: 0.8080808080808081 and parameters: {'alpha': 0.9950233546564129, 'force_alpha': True, 'fit_prior': True}. Best is trial 0 with value: 0.8080808080808081.\n",
      "[I 2024-02-11 22:26:28,423] Trial 53 finished with value: 0.8080808080808081 and parameters: {'alpha': 0.9273177340314283, 'force_alpha': True, 'fit_prior': True}. Best is trial 0 with value: 0.8080808080808081.\n",
      "[I 2024-02-11 22:26:28,443] Trial 54 finished with value: 0.8080808080808081 and parameters: {'alpha': 0.8888236225956723, 'force_alpha': True, 'fit_prior': True}. Best is trial 0 with value: 0.8080808080808081.\n",
      "[I 2024-02-11 22:26:28,463] Trial 55 finished with value: 0.8080808080808081 and parameters: {'alpha': 0.6978306212091036, 'force_alpha': True, 'fit_prior': False}. Best is trial 0 with value: 0.8080808080808081.\n",
      "[I 2024-02-11 22:26:28,484] Trial 56 finished with value: 0.8080808080808081 and parameters: {'alpha': 0.8175046410884301, 'force_alpha': True, 'fit_prior': True}. Best is trial 0 with value: 0.8080808080808081.\n",
      "[I 2024-02-11 22:26:28,504] Trial 57 finished with value: 0.8080808080808081 and parameters: {'alpha': 0.7724775033360294, 'force_alpha': False, 'fit_prior': False}. Best is trial 0 with value: 0.8080808080808081.\n",
      "[I 2024-02-11 22:26:28,525] Trial 58 finished with value: 0.8080808080808081 and parameters: {'alpha': 0.9644437331460272, 'force_alpha': True, 'fit_prior': True}. Best is trial 0 with value: 0.8080808080808081.\n",
      "[I 2024-02-11 22:26:28,545] Trial 59 finished with value: 0.8282828282828283 and parameters: {'alpha': 0.5472744830657381, 'force_alpha': True, 'fit_prior': False}. Best is trial 0 with value: 0.8080808080808081.\n",
      "[I 2024-02-11 22:26:28,565] Trial 60 finished with value: 0.8080808080808081 and parameters: {'alpha': 0.855757357926526, 'force_alpha': True, 'fit_prior': True}. Best is trial 0 with value: 0.8080808080808081.\n",
      "[I 2024-02-11 22:26:28,585] Trial 61 finished with value: 0.8080808080808081 and parameters: {'alpha': 0.8999156442430041, 'force_alpha': True, 'fit_prior': True}. Best is trial 0 with value: 0.8080808080808081.\n",
      "[I 2024-02-11 22:26:28,605] Trial 62 finished with value: 0.8080808080808081 and parameters: {'alpha': 0.7467993877397807, 'force_alpha': True, 'fit_prior': True}. Best is trial 0 with value: 0.8080808080808081.\n",
      "[I 2024-02-11 22:26:28,626] Trial 63 finished with value: 0.8080808080808081 and parameters: {'alpha': 0.7972698487033398, 'force_alpha': True, 'fit_prior': True}. Best is trial 0 with value: 0.8080808080808081.\n",
      "[I 2024-02-11 22:26:28,646] Trial 64 finished with value: 0.8080808080808081 and parameters: {'alpha': 0.6949415557728668, 'force_alpha': True, 'fit_prior': True}. Best is trial 0 with value: 0.8080808080808081.\n",
      "[I 2024-02-11 22:26:28,665] Trial 65 finished with value: 0.8181818181818182 and parameters: {'alpha': 0.6401474901754339, 'force_alpha': True, 'fit_prior': True}. Best is trial 0 with value: 0.8080808080808081.\n",
      "[I 2024-02-11 22:26:28,687] Trial 66 finished with value: 0.8080808080808081 and parameters: {'alpha': 0.826776229735912, 'force_alpha': True, 'fit_prior': False}. Best is trial 0 with value: 0.8080808080808081.\n",
      "[I 2024-02-11 22:26:28,707] Trial 67 finished with value: 0.8080808080808081 and parameters: {'alpha': 0.8700126797174828, 'force_alpha': False, 'fit_prior': True}. Best is trial 0 with value: 0.8080808080808081.\n",
      "[I 2024-02-11 22:26:28,727] Trial 68 finished with value: 0.8080808080808081 and parameters: {'alpha': 0.9556145702470048, 'force_alpha': True, 'fit_prior': True}. Best is trial 0 with value: 0.8080808080808081.\n",
      "[I 2024-02-11 22:26:28,747] Trial 69 finished with value: 0.8080808080808081 and parameters: {'alpha': 0.7599485682806748, 'force_alpha': True, 'fit_prior': True}. Best is trial 0 with value: 0.8080808080808081.\n",
      "[I 2024-02-11 22:26:28,769] Trial 70 finished with value: 0.8080808080808081 and parameters: {'alpha': 0.8400806570380193, 'force_alpha': True, 'fit_prior': False}. Best is trial 0 with value: 0.8080808080808081.\n",
      "[I 2024-02-11 22:26:28,789] Trial 71 finished with value: 0.8080808080808081 and parameters: {'alpha': 0.7266688170061574, 'force_alpha': True, 'fit_prior': True}. Best is trial 0 with value: 0.8080808080808081.\n",
      "[I 2024-02-11 22:26:28,810] Trial 72 finished with value: 0.8080808080808081 and parameters: {'alpha': 0.7918431388807228, 'force_alpha': True, 'fit_prior': True}. Best is trial 0 with value: 0.8080808080808081.\n",
      "[I 2024-02-11 22:26:28,830] Trial 73 finished with value: 0.8080808080808081 and parameters: {'alpha': 0.7168091359183099, 'force_alpha': True, 'fit_prior': True}. Best is trial 0 with value: 0.8080808080808081.\n",
      "[I 2024-02-11 22:26:28,850] Trial 74 finished with value: 0.8181818181818182 and parameters: {'alpha': 0.6460939208374944, 'force_alpha': True, 'fit_prior': True}. Best is trial 0 with value: 0.8080808080808081.\n",
      "[I 2024-02-11 22:26:28,872] Trial 75 finished with value: 0.8080808080808081 and parameters: {'alpha': 0.6814408483997059, 'force_alpha': True, 'fit_prior': True}. Best is trial 0 with value: 0.8080808080808081.\n",
      "[I 2024-02-11 22:26:28,896] Trial 76 finished with value: 0.8282828282828283 and parameters: {'alpha': 0.5702128762006456, 'force_alpha': False, 'fit_prior': True}. Best is trial 0 with value: 0.8080808080808081.\n",
      "[I 2024-02-11 22:26:28,917] Trial 77 finished with value: 0.8080808080808081 and parameters: {'alpha': 0.9036753624472519, 'force_alpha': True, 'fit_prior': True}. Best is trial 0 with value: 0.8080808080808081.\n",
      "[I 2024-02-11 22:26:28,938] Trial 78 finished with value: 0.8080808080808081 and parameters: {'alpha': 0.9985774314254837, 'force_alpha': True, 'fit_prior': False}. Best is trial 0 with value: 0.8080808080808081.\n",
      "[I 2024-02-11 22:26:28,961] Trial 79 finished with value: 0.8181818181818182 and parameters: {'alpha': 0.6179240200254854, 'force_alpha': True, 'fit_prior': True}. Best is trial 0 with value: 0.8080808080808081.\n",
      "[I 2024-02-11 22:26:28,996] Trial 80 finished with value: 0.8383838383838383 and parameters: {'alpha': 0.20065090468815566, 'force_alpha': True, 'fit_prior': True}. Best is trial 0 with value: 0.8080808080808081.\n",
      "[I 2024-02-11 22:26:29,017] Trial 81 finished with value: 0.8080808080808081 and parameters: {'alpha': 0.7744445043247792, 'force_alpha': True, 'fit_prior': True}. Best is trial 0 with value: 0.8080808080808081.\n",
      "[I 2024-02-11 22:26:29,038] Trial 82 finished with value: 0.8080808080808081 and parameters: {'alpha': 0.9118764224234891, 'force_alpha': True, 'fit_prior': True}. Best is trial 0 with value: 0.8080808080808081.\n",
      "[I 2024-02-11 22:26:29,059] Trial 83 finished with value: 0.8080808080808081 and parameters: {'alpha': 0.8790257255666855, 'force_alpha': True, 'fit_prior': True}. Best is trial 0 with value: 0.8080808080808081.\n",
      "[I 2024-02-11 22:26:29,080] Trial 84 finished with value: 0.8080808080808081 and parameters: {'alpha': 0.8093736744205666, 'force_alpha': True, 'fit_prior': True}. Best is trial 0 with value: 0.8080808080808081.\n",
      "[I 2024-02-11 22:26:29,106] Trial 85 finished with value: 0.8383838383838383 and parameters: {'alpha': 0.033048014666435976, 'force_alpha': True, 'fit_prior': True}. Best is trial 0 with value: 0.8080808080808081.\n",
      "[I 2024-02-11 22:26:29,127] Trial 86 finished with value: 0.8080808080808081 and parameters: {'alpha': 0.8465613721909514, 'force_alpha': True, 'fit_prior': True}. Best is trial 0 with value: 0.8080808080808081.\n",
      "[I 2024-02-11 22:26:29,148] Trial 87 finished with value: 0.8080808080808081 and parameters: {'alpha': 0.9712519389331061, 'force_alpha': True, 'fit_prior': False}. Best is trial 0 with value: 0.8080808080808081.\n",
      "[I 2024-02-11 22:26:29,168] Trial 88 finished with value: 0.8080808080808081 and parameters: {'alpha': 0.7358782337239046, 'force_alpha': False, 'fit_prior': True}. Best is trial 0 with value: 0.8080808080808081.\n",
      "[I 2024-02-11 22:26:29,189] Trial 89 finished with value: 0.8080808080808081 and parameters: {'alpha': 0.9369997021770866, 'force_alpha': True, 'fit_prior': True}. Best is trial 0 with value: 0.8080808080808081.\n",
      "[I 2024-02-11 22:26:29,210] Trial 90 finished with value: 0.8080808080808081 and parameters: {'alpha': 0.7582786439464284, 'force_alpha': True, 'fit_prior': True}. Best is trial 0 with value: 0.8080808080808081.\n",
      "[I 2024-02-11 22:26:29,231] Trial 91 finished with value: 0.8383838383838383 and parameters: {'alpha': 0.5260981894458027, 'force_alpha': True, 'fit_prior': False}. Best is trial 0 with value: 0.8080808080808081.\n",
      "[I 2024-02-11 22:26:29,253] Trial 92 finished with value: 0.8080808080808081 and parameters: {'alpha': 0.6666177976961345, 'force_alpha': True, 'fit_prior': False}. Best is trial 0 with value: 0.8080808080808081.\n",
      "[I 2024-02-11 22:26:29,273] Trial 93 finished with value: 0.8080808080808081 and parameters: {'alpha': 0.712213206873712, 'force_alpha': True, 'fit_prior': False}. Best is trial 0 with value: 0.8080808080808081.\n",
      "[I 2024-02-11 22:26:29,294] Trial 94 finished with value: 0.8080808080808081 and parameters: {'alpha': 0.6469772056628214, 'force_alpha': True, 'fit_prior': False}. Best is trial 0 with value: 0.8080808080808081.\n",
      "[I 2024-02-11 22:26:29,320] Trial 95 finished with value: 0.8080808080808081 and parameters: {'alpha': 0.6841732876213558, 'force_alpha': True, 'fit_prior': False}. Best is trial 0 with value: 0.8080808080808081.\n",
      "[I 2024-02-11 22:26:29,341] Trial 96 finished with value: 0.8080808080808081 and parameters: {'alpha': 0.8246797979557737, 'force_alpha': True, 'fit_prior': True}. Best is trial 0 with value: 0.8080808080808081.\n",
      "[I 2024-02-11 22:26:29,364] Trial 97 finished with value: 0.8080808080808081 and parameters: {'alpha': 0.6003522273994351, 'force_alpha': True, 'fit_prior': False}. Best is trial 0 with value: 0.8080808080808081.\n",
      "[I 2024-02-11 22:26:29,389] Trial 98 finished with value: 0.8383838383838383 and parameters: {'alpha': 0.4879804277200759, 'force_alpha': True, 'fit_prior': True}. Best is trial 0 with value: 0.8080808080808081.\n",
      "[I 2024-02-11 22:26:29,411] Trial 99 finished with value: 0.8080808080808081 and parameters: {'alpha': 0.7861622034327618, 'force_alpha': True, 'fit_prior': True}. Best is trial 0 with value: 0.8080808080808081.\n"
     ]
    },
    {
     "name": "stdout",
     "output_type": "stream",
     "text": [
      "Best Score: 0.8080808080808081\n",
      "______________________________\n",
      "Best Params: {'alpha': 0.7525652019100256, 'force_alpha': True, 'fit_prior': True}\n",
      "______________________________\n",
      "classification report:\n",
      "               precision    recall  f1-score   support\n",
      "\n",
      "           0       0.84      0.76      0.80        50\n",
      "           1       0.78      0.86      0.82        49\n",
      "\n",
      "    accuracy                           0.81        99\n",
      "   macro avg       0.81      0.81      0.81        99\n",
      "weighted avg       0.81      0.81      0.81        99\n",
      "\n",
      "______________________________\n"
     ]
    }
   ],
   "source": [
    "from sklearn.model_selection import train_test_split\n",
    "from sklearn.preprocessing import LabelEncoder\n",
    "from sklearn.metrics import classification_report, confusion_matrix, ConfusionMatrixDisplay\n",
    "from sklearn.naive_bayes import BernoulliNB\n",
    "from sklearn.feature_extraction.text import CountVectorizer\n",
    "import optuna\n",
    "from optuna.visualization import plot_intermediate_values\n",
    "\n",
    "# Split reviews and labels\n",
    "reviews = df2['comment'].values\n",
    "labels = df2['sentiment'].values\n",
    "\n",
    "# Consider label encoding if `labels` are text-based\n",
    "le = LabelEncoder()\n",
    "encoded_y = le.fit_transform(labels)\n",
    "\n",
    "# Splitting train, test\n",
    "train_sentences, test_sentences, train_labels, test_labels = train_test_split(reviews, encoded_y, test_size=0.2, random_state=42)\n",
    "\n",
    "def vectorize_text(train_input, test_input):\n",
    "    vct = CountVectorizer()  # Move fitting inside for each trial to prevent leakage\n",
    "    train_sentences_counts = vct.fit_transform(train_input)\n",
    "    test_sentences_counts = vct.transform(test_input)\n",
    "    train_sentences_dense = train_sentences_counts.toarray()\n",
    "    test_sentences_dense = test_sentences_counts.toarray()\n",
    "    return train_sentences_dense, test_sentences_dense\n",
    "\n",
    "def objective_function(trial):\n",
    "    params = {\n",
    "        'alpha': trial.suggest_float(\"alpha\", 1e-5, 1.0),\n",
    "        'force_alpha': trial.suggest_categorical(\"force_alpha\", [True, False]),\n",
    "        'fit_prior': trial.suggest_categorical(\"fit_prior\", [True, False])\n",
    "    }\n",
    "\n",
    "    # Move vectorization inside here\n",
    "    train_sentences_dense, test_sentences_dense = vectorize_text(train_sentences, test_sentences)\n",
    "\n",
    "    model = BernoulliNB(**params)\n",
    "    model.fit(train_sentences_dense, train_labels)\n",
    "    score = model.score(test_sentences_dense, test_labels)\n",
    "    return score\n",
    "\n",
    "train_sentences_dense, test_sentences_dense = vectorize_text(train_sentences, test_sentences)\n",
    "\n",
    "study = optuna.create_study()\n",
    "study.optimize(objective_function, n_trials=100)\n",
    "best_value = study.best_value\n",
    "best_params = study.best_params\n",
    "print('Best Score:', best_value)\n",
    "print('_' * 30)\n",
    "print('Best Params:', best_params)\n",
    "\n",
    "# Evaluate the best model with comprehensive metrics\n",
    "best_model = BernoulliNB(**best_params)  # Create model with best params\n",
    "best_model.fit(train_sentences_dense, train_labels)\n",
    "predictions = best_model.predict(test_sentences_dense)\n",
    "\n",
    "print('_' * 30)\n",
    "print(\"classification report:\\n\", classification_report(test_labels, predictions))\n",
    "print('_' * 30)\n"
   ],
   "metadata": {
    "collapsed": false,
    "ExecuteTime": {
     "end_time": "2024-02-11T19:26:29.449985Z",
     "start_time": "2024-02-11T19:26:27.347870800Z"
    }
   },
   "id": "16d91206f5fb460a",
   "execution_count": 196
  },
  {
   "cell_type": "code",
   "outputs": [],
   "source": [
    "best_model = BernoulliNB(**best_params)\n",
    "best_model.fit(train_sentences_dense, train_labels)\n",
    "predictions = best_model.predict(train_sentences_dense)"
   ],
   "metadata": {
    "collapsed": false,
    "ExecuteTime": {
     "end_time": "2024-02-11T19:16:53.973929700Z",
     "start_time": "2024-02-11T19:16:53.941988100Z"
    }
   },
   "id": "ba6c3d1834eb3354",
   "execution_count": 182
  },
  {
   "cell_type": "code",
   "outputs": [
    {
     "name": "stdout",
     "output_type": "stream",
     "text": [
      "0.8040540540540541\n"
     ]
    }
   ],
   "source": [
    "print(best_model.score(test_sentences_dense, test_labels))"
   ],
   "metadata": {
    "collapsed": false,
    "ExecuteTime": {
     "end_time": "2024-02-11T19:16:54.771151400Z",
     "start_time": "2024-02-11T19:16:54.761932Z"
    }
   },
   "id": "8bb03221240d3fed",
   "execution_count": 183
  }
 ],
 "metadata": {
  "kernelspec": {
   "display_name": "Python 3",
   "language": "python",
   "name": "python3"
  },
  "language_info": {
   "codemirror_mode": {
    "name": "ipython",
    "version": 2
   },
   "file_extension": ".py",
   "mimetype": "text/x-python",
   "name": "python",
   "nbconvert_exporter": "python",
   "pygments_lexer": "ipython2",
   "version": "2.7.6"
  }
 },
 "nbformat": 4,
 "nbformat_minor": 5
}
