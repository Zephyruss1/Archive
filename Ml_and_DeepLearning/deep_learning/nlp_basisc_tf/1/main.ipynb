{
 "cells": [
  {
   "cell_type": "code",
   "execution_count": 116,
   "metadata": {},
   "outputs": [
    {
     "name": "stderr",
     "output_type": "stream",
     "text": [
      "[nltk_data] Downloading package wordnet to\n",
      "[nltk_data]     C:\\Users\\ekber\\AppData\\Roaming\\nltk_data...\n",
      "[nltk_data]   Package wordnet is already up-to-date!\n",
      "[nltk_data] Downloading package stopwords to\n",
      "[nltk_data]     C:\\Users\\ekber\\AppData\\Roaming\\nltk_data...\n",
      "[nltk_data]   Package stopwords is already up-to-date!\n",
      "[nltk_data] Downloading package punkt to\n",
      "[nltk_data]     C:\\Users\\ekber\\AppData\\Roaming\\nltk_data...\n",
      "[nltk_data]   Package punkt is already up-to-date!\n"
     ]
    },
    {
     "data": {
      "text/plain": [
       "True"
      ]
     },
     "execution_count": 116,
     "metadata": {},
     "output_type": "execute_result"
    }
   ],
   "source": [
    "import json\n",
    "import numpy as np\n",
    "import tensorflow as tf \n",
    "import string\n",
    "import re\n",
    "from tensorflow.keras.preprocessing.text import Tokenizer\n",
    "from tensorflow.keras.preprocessing.sequence import pad_sequences\n",
    "import warnings\n",
    "import nlpaug.augmenter.word as naw\n",
    "import nltk\n",
    "from nltk.corpus import stopwords\n",
    "from nltk.tokenize import word_tokenize\n",
    "import nlpaug.flow as naf\n",
    "warnings.filterwarnings('ignore')\n",
    "nltk.download('wordnet')\n",
    "nltk.download('stopwords')\n",
    "nltk.download('punkt')"
   ]
  },
  {
   "cell_type": "code",
   "execution_count": 117,
   "metadata": {},
   "outputs": [],
   "source": [
    "vocab_size    = 10000\n",
    "embedding_dim = 16\n",
    "max_length    = 100\n",
    "trunc_type    = 'post'\n",
    "padding_type  = 'post'\n",
    "oov_tok       = '<OOV>'\n",
    "training_size = 20000"
   ]
  },
  {
   "cell_type": "code",
   "execution_count": 118,
   "metadata": {},
   "outputs": [],
   "source": [
    "sentences = []\n",
    "labels    = []\n",
    "\n",
    "with open('Sarcasm_Headlines_Dataset_v2.json', 'r') as f:\n",
    "    for line in f:\n",
    "        item = json.loads(line)\n",
    "        sentences.append(item['headline'])\n",
    "        labels.append(item['is_sarcastic'])"
   ]
  },
  {
   "cell_type": "code",
   "execution_count": 119,
   "metadata": {},
   "outputs": [],
   "source": [
    "stop_words = set(stopwords.words('english'))\n",
    "\n",
    "cleaned_sentences = []\n",
    "for sentence in sentences:\n",
    "\n",
    "    sentence = sentence.lower()\n",
    "\n",
    "    sentence = sentence.translate(str.maketrans('', '', string.punctuation))\n",
    "\n",
    "    word_tokens = word_tokenize(sentence)\n",
    "    filtered_sentence = [word for word in word_tokens if word not in stop_words]\n",
    "\n",
    "    cleaned_sentence = ' '.join(filtered_sentence)\n",
    "    cleaned_sentences.append(cleaned_sentence)"
   ]
  },
  {
   "cell_type": "code",
   "execution_count": 145,
   "metadata": {},
   "outputs": [],
   "source": [
    "cleaned_sentences_v2 = []\n",
    "for sentence in cleaned_sentences:\n",
    "    sentence = re.sub(r'\\d+', '', sentence)\n",
    "    cleaned_sentences_v2.append(sentence)"
   ]
  },
  {
   "cell_type": "code",
   "execution_count": 146,
   "metadata": {},
   "outputs": [],
   "source": [
    "training_sentences = cleaned_sentences_v2[0:training_size]\n",
    "testing_sentences  = cleaned_sentences_v2[training_size:]\n",
    "training_labels    = labels[0:training_size]\n",
    "testing_labels     = labels[training_size:]"
   ]
  },
  {
   "cell_type": "code",
   "execution_count": 147,
   "metadata": {},
   "outputs": [],
   "source": [
    "# aug_synonym = naw.SynonymAug(aug_src='wordnet')\n",
    "\n",
    "# aug_swap = naw.RandomWordAug(action='swap')\n",
    "\n",
    "# aug_deletion = naw.RandomWordAug()\n",
    "\n",
    "\n",
    "# aug_contextual = naw.ContextualWordEmbsAug(\n",
    "#     model_path='distilbert-base-uncased', action='insert'\n",
    "# )\n",
    "\n",
    "# aug_pipeline = naf.Sequential([\n",
    "#     aug_synonym,\n",
    "#     # print(\"Executed aug_synonym\"),\n",
    "#     aug_swap,\n",
    "#     # print(\"Executed aug_swap\"),\n",
    "#     aug_deletion,\n",
    "#     # print(\"Executed aug_deletion\"),\n",
    "#     aug_contextual,\n",
    "#     # print(\"Executed aug_contextual\"),\n",
    "# ])\n",
    "# augmented_sentences = aug_pipeline.augment(training_sentences)\n",
    "# print(training_sentences)\n",
    "# print(augmented_sentences)"
   ]
  },
  {
   "cell_type": "markdown",
   "metadata": {},
   "source": [
    "### WORD2VEC"
   ]
  },
  {
   "cell_type": "code",
   "execution_count": 148,
   "metadata": {},
   "outputs": [],
   "source": [
    "tokenizer = Tokenizer(num_words=vocab_size, oov_token=oov_tok)\n",
    "tokenizer.fit_on_texts(training_sentences)\n",
    "\n",
    "word_index = tokenizer.word_index\n",
    "\n",
    "training_sequences = tokenizer.texts_to_sequences(training_sentences)\n",
    "training_padded = pad_sequences(training_sequences, maxlen=max_length, padding=padding_type, truncating=trunc_type)\n",
    "\n",
    "testing_sequences = tokenizer.texts_to_sequences(testing_sentences)\n",
    "testing_padded = pad_sequences(testing_sequences, maxlen=max_length, padding=padding_type, truncating=trunc_type)"
   ]
  },
  {
   "cell_type": "code",
   "execution_count": 149,
   "metadata": {},
   "outputs": [],
   "source": [
    "training_padded = np.array(training_padded)\n",
    "training_labels = np.array(training_labels)\n",
    "testing_padded = np.array(testing_padded)\n",
    "testing_labels = np.array(testing_labels)"
   ]
  },
  {
   "cell_type": "code",
   "execution_count": 150,
   "metadata": {},
   "outputs": [
    {
     "name": "stdout",
     "output_type": "stream",
     "text": [
      "(20000, 100)\n",
      "(20000,)\n"
     ]
    }
   ],
   "source": [
    "print(training_padded.shape)\n",
    "print(training_labels.shape)"
   ]
  },
  {
   "cell_type": "code",
   "execution_count": 151,
   "metadata": {},
   "outputs": [],
   "source": [
    "from tensorflow.keras.callbacks import EarlyStopping, CSVLogger, ReduceLROnPlateau # type: ignore"
   ]
  },
  {
   "cell_type": "code",
   "execution_count": 152,
   "metadata": {},
   "outputs": [],
   "source": [
    "lstm_units=32\n",
    "model = tf.keras.Sequential([\n",
    "    tf.keras.layers.Embedding(vocab_size, embedding_dim, input_length=max_length),\n",
    "    tf.keras.layers.LSTM(lstm_units, return_sequences=True),\n",
    "    tf.keras.layers.GlobalAveragePooling1D(),\n",
    "    tf.keras.layers.Dropout(0.2),\n",
    "    tf.keras.layers.Dense(24, activation='relu'),\n",
    "    tf.keras.layers.Dense(1, activation='sigmoid')\n",
    "])\n",
    "model.compile(loss='binary_crossentropy', optimizer='RMSprop', metrics=['accuracy'])\n",
    "early_stopping = EarlyStopping(monitor='val_loss', patience=10)\n",
    "reduce_lr = ReduceLROnPlateau(\n",
    "    monitor='val_loss',\n",
    "    factor=0.1,\n",
    "    patience=10,\n",
    "    mode='auto',\n",
    "    min_delta=0.0001,\n",
    "    cooldown=0,\n",
    "    min_lr=0,\n",
    "\n",
    ")\n"
   ]
  },
  {
   "cell_type": "code",
   "execution_count": 153,
   "metadata": {},
   "outputs": [
    {
     "name": "stdout",
     "output_type": "stream",
     "text": [
      "Model: \"sequential_5\"\n",
      "_________________________________________________________________\n",
      " Layer (type)                Output Shape              Param #   \n",
      "=================================================================\n",
      " embedding_5 (Embedding)     (None, 100, 16)           160000    \n",
      "                                                                 \n",
      " lstm_5 (LSTM)               (None, 100, 32)           6272      \n",
      "                                                                 \n",
      " global_average_pooling1d_5  (None, 32)                0         \n",
      "  (GlobalAveragePooling1D)                                       \n",
      "                                                                 \n",
      " dropout_5 (Dropout)         (None, 32)                0         \n",
      "                                                                 \n",
      " dense_10 (Dense)            (None, 24)                792       \n",
      "                                                                 \n",
      " dense_11 (Dense)            (None, 1)                 25        \n",
      "                                                                 \n",
      "=================================================================\n",
      "Total params: 167089 (652.69 KB)\n",
      "Trainable params: 167089 (652.69 KB)\n",
      "Non-trainable params: 0 (0.00 Byte)\n",
      "_________________________________________________________________\n"
     ]
    }
   ],
   "source": [
    "model.summary()"
   ]
  },
  {
   "cell_type": "code",
   "execution_count": 154,
   "metadata": {},
   "outputs": [],
   "source": [
    "tf.keras.callbacks.CSVLogger(\n",
    "    filename='Logger.csv', append=True, separator=','\n",
    ")\n",
    "\n",
    "csv_logger = CSVLogger(\"Logger.csv\", append=True)"
   ]
  },
  {
   "cell_type": "code",
   "execution_count": 155,
   "metadata": {},
   "outputs": [
    {
     "name": "stdout",
     "output_type": "stream",
     "text": [
      "Epoch 1/30\n",
      "625/625 [==============================] - 20s 28ms/step - loss: 0.6923 - accuracy: 0.5214 - val_loss: 0.6912 - val_accuracy: 0.5249 - lr: 0.0010\n",
      "Epoch 2/30\n",
      "625/625 [==============================] - 17s 28ms/step - loss: 0.6695 - accuracy: 0.5738 - val_loss: 0.6380 - val_accuracy: 0.6094 - lr: 0.0010\n",
      "Epoch 3/30\n",
      "625/625 [==============================] - 17s 27ms/step - loss: 0.5616 - accuracy: 0.7141 - val_loss: 0.6439 - val_accuracy: 0.6821 - lr: 0.0010\n",
      "Epoch 4/30\n",
      "625/625 [==============================] - 17s 27ms/step - loss: 0.4708 - accuracy: 0.7986 - val_loss: 0.4829 - val_accuracy: 0.7890 - lr: 0.0010\n",
      "Epoch 5/30\n",
      "625/625 [==============================] - 18s 28ms/step - loss: 0.3982 - accuracy: 0.8354 - val_loss: 0.4519 - val_accuracy: 0.7786 - lr: 0.0010\n",
      "Epoch 6/30\n",
      "625/625 [==============================] - 16s 26ms/step - loss: 0.3524 - accuracy: 0.8482 - val_loss: 0.4908 - val_accuracy: 0.7957 - lr: 0.0010\n",
      "Epoch 7/30\n",
      "625/625 [==============================] - 17s 28ms/step - loss: 0.3326 - accuracy: 0.8565 - val_loss: 0.4684 - val_accuracy: 0.7945 - lr: 0.0010\n",
      "Epoch 8/30\n",
      "625/625 [==============================] - 19s 31ms/step - loss: 0.3188 - accuracy: 0.8630 - val_loss: 0.4531 - val_accuracy: 0.7793 - lr: 0.0010\n",
      "Epoch 9/30\n",
      "625/625 [==============================] - 17s 28ms/step - loss: 0.3042 - accuracy: 0.8652 - val_loss: 0.4584 - val_accuracy: 0.8018 - lr: 0.0010\n",
      "Epoch 10/30\n",
      "625/625 [==============================] - 17s 27ms/step - loss: 0.2944 - accuracy: 0.8713 - val_loss: 0.4483 - val_accuracy: 0.7845 - lr: 0.0010\n",
      "Epoch 11/30\n",
      "625/625 [==============================] - 16s 26ms/step - loss: 0.2852 - accuracy: 0.8741 - val_loss: 0.4652 - val_accuracy: 0.8029 - lr: 0.0010\n",
      "Epoch 12/30\n",
      "625/625 [==============================] - 16s 25ms/step - loss: 0.2776 - accuracy: 0.8812 - val_loss: 0.4650 - val_accuracy: 0.7753 - lr: 0.0010\n",
      "Epoch 13/30\n",
      "625/625 [==============================] - 16s 25ms/step - loss: 0.2713 - accuracy: 0.8825 - val_loss: 0.4807 - val_accuracy: 0.7987 - lr: 0.0010\n",
      "Epoch 14/30\n",
      "625/625 [==============================] - 16s 26ms/step - loss: 0.2664 - accuracy: 0.8842 - val_loss: 0.4654 - val_accuracy: 0.8000 - lr: 0.0010\n",
      "Epoch 15/30\n",
      "625/625 [==============================] - 17s 27ms/step - loss: 0.2594 - accuracy: 0.8857 - val_loss: 0.4674 - val_accuracy: 0.7967 - lr: 0.0010\n",
      "Epoch 16/30\n",
      "625/625 [==============================] - 17s 26ms/step - loss: 0.2565 - accuracy: 0.8863 - val_loss: 0.4694 - val_accuracy: 0.7913 - lr: 0.0010\n",
      "Epoch 17/30\n",
      "625/625 [==============================] - 17s 27ms/step - loss: 0.2498 - accuracy: 0.8892 - val_loss: 0.4650 - val_accuracy: 0.7628 - lr: 0.0010\n",
      "Epoch 18/30\n",
      "625/625 [==============================] - 17s 27ms/step - loss: 0.2456 - accuracy: 0.8885 - val_loss: 0.4588 - val_accuracy: 0.7880 - lr: 0.0010\n",
      "Epoch 19/30\n",
      "625/625 [==============================] - 16s 25ms/step - loss: 0.2429 - accuracy: 0.8914 - val_loss: 0.4664 - val_accuracy: 0.7977 - lr: 0.0010\n",
      "Epoch 20/30\n",
      "625/625 [==============================] - 16s 26ms/step - loss: 0.2336 - accuracy: 0.8965 - val_loss: 0.5005 - val_accuracy: 0.7914 - lr: 0.0010\n"
     ]
    }
   ],
   "source": [
    "num_epochs = 30\n",
    "history = model.fit(training_padded, training_labels, epochs=num_epochs, validation_data=(testing_padded, testing_labels), callbacks=[early_stopping, csv_logger, reduce_lr])"
   ]
  },
  {
   "cell_type": "code",
   "execution_count": 156,
   "metadata": {},
   "outputs": [],
   "source": [
    "with open('Logger.csv', 'a') as f:\n",
    "    f.write('End Of The Trainning\\n')"
   ]
  },
  {
   "cell_type": "code",
   "execution_count": 157,
   "metadata": {},
   "outputs": [],
   "source": [
    "model.save('checkpoint_1.h5')"
   ]
  },
  {
   "cell_type": "code",
   "execution_count": 158,
   "metadata": {},
   "outputs": [],
   "source": [
    "from sklearn.metrics import confusion_matrix, ConfusionMatrixDisplay"
   ]
  },
  {
   "cell_type": "code",
   "execution_count": 159,
   "metadata": {},
   "outputs": [],
   "source": [
    "import matplotlib.pyplot as plt\n",
    "import os"
   ]
  },
  {
   "cell_type": "code",
   "execution_count": 160,
   "metadata": {},
   "outputs": [
    {
     "name": "stdout",
     "output_type": "stream",
     "text": [
      "270/270 [==============================] - 3s 10ms/step\n"
     ]
    },
    {
     "data": {
      "image/png": "[encoded data removed]",
      "text/plain": [
       "<Figure size 640x480 with 2 Axes>"
      ]
     },
     "metadata": {},
     "output_type": "display_data"
    }
   ],
   "source": [
    "predictions = model.predict(testing_padded)\n",
    "binary_predictions = [1 if x > 0.5 else 0 for x in predictions]\n",
    "cm = confusion_matrix(testing_labels, binary_predictions)\n",
    "disp = ConfusionMatrixDisplay(confusion_matrix=cm)\n",
    "disp.plot(cmap=plt.cm.Blues)\n",
    "\n",
    "num_iter = 1 \n",
    "f_name = f'file_{num_iter}.png'\n",
    "while os.path.exists(f_name):\n",
    "    num_iter += 1\n",
    "    f_name = f'file_{num_iter}.png'\n",
    "    \n",
    "plt.savefig(f_name)\n",
    "plt.show()"
   ]
  },
  {
   "cell_type": "code",
   "execution_count": 182,
   "metadata": {},
   "outputs": [
    {
     "name": "stdout",
     "output_type": "stream",
     "text": [
      "1/1 [==============================] - 0s 29ms/step\n",
      "The text 'The weather is really nice today.' is not sarcastic.\n",
      "1/1 [==============================] - 0s 33ms/step\n",
      "The text 'I love spending time with my family.' is not sarcastic.\n",
      "1/1 [==============================] - 0s 27ms/step\n",
      "The text 'This chocolate cake is delicious.' is not sarcastic.\n",
      "1/1 [==============================] - 0s 27ms/step\n",
      "The text 'She is a very talented musician.' is not sarcastic.\n",
      "1/1 [==============================] - 0s 26ms/step\n",
      "The text 'The book I read was very interesting.' is not sarcastic.\n",
      "1/1 [==============================] - 0s 33ms/step\n",
      "The text 'I'm looking forward to the weekend.' is not sarcastic.\n",
      "1/1 [==============================] - 0s 26ms/step\n",
      "The text 'He is very knowledgeable about history.' is not sarcastic.\n",
      "1/1 [==============================] - 0s 26ms/step\n",
      "The text 'The movie was incredibly entertaining.' is not sarcastic.\n",
      "1/1 [==============================] - 0s 44ms/step\n",
      "The text 'She runs faster than anyone I know.' is not sarcastic.\n",
      "1/1 [==============================] - 0s 28ms/step\n",
      "The text 'This painting is absolutely beautiful.' is not sarcastic.\n",
      "1/1 [==============================] - 0s 26ms/step\n",
      "The text 'I had a great time at the party.' is not sarcastic.\n",
      "1/1 [==============================] - 0s 31ms/step\n",
      "The text 'The lecture was very informative.' is not sarcastic.\n",
      "1/1 [==============================] - 0s 28ms/step\n",
      "The text 'I enjoy hiking in the mountains.' is not sarcastic.\n",
      "1/1 [==============================] - 0s 28ms/step\n",
      "The text 'The sunset was breathtaking last night.' is not sarcastic.\n",
      "1/1 [==============================] - 0s 27ms/step\n",
      "The text 'He's been very helpful with the project.' is not sarcastic.\n",
      "1/1 [==============================] - 0s 27ms/step\n",
      "The text 'I'm so happy to see you.' is not sarcastic.\n",
      "1/1 [==============================] - 0s 26ms/step\n",
      "The text 'The garden looks lovely this spring.' is not sarcastic.\n",
      "1/1 [==============================] - 0s 27ms/step\n",
      "The text 'This new phone model is very efficient.' is not sarcastic.\n",
      "1/1 [==============================] - 0s 29ms/step\n",
      "The text 'She plays the piano beautifully.' is not sarcastic.\n",
      "1/1 [==============================] - 0s 27ms/step\n",
      "The text 'The restaurant served an amazing meal.' is not sarcastic.\n",
      "1/1 [==============================] - 0s 29ms/step\n",
      "The text 'I had a good night's sleep.' is not sarcastic.\n",
      "1/1 [==============================] - 0s 28ms/step\n",
      "The text 'The children played happily in the park.' is not sarcastic.\n",
      "1/1 [==============================] - 0s 32ms/step\n",
      "The text 'Your new haircut looks great.' is not sarcastic.\n",
      "1/1 [==============================] - 0s 26ms/step\n",
      "The text 'That was a really good joke.' is not sarcastic.\n",
      "1/1 [==============================] - 0s 30ms/step\n",
      "The text 'I appreciate your hard work.' is not sarcastic.\n",
      "1/1 [==============================] - 0s 29ms/step\n",
      "The text 'The stars are bright tonight.' is not sarcastic.\n",
      "1/1 [==============================] - 0s 30ms/step\n",
      "The text 'Your advice was very helpful.' is not sarcastic.\n",
      "1/1 [==============================] - 0s 27ms/step\n",
      "The text 'I'm proud of my achievements.' is not sarcastic.\n",
      "1/1 [==============================] - 0s 30ms/step\n",
      "The text 'The concert was an incredible experience.' is not sarcastic.\n",
      "1/1 [==============================] - 0s 29ms/step\n",
      "The text 'He's a very kind and generous person.' is not sarcastic.\n",
      "1/1 [==============================] - 0s 28ms/step\n",
      "The text 'The coffee smells wonderful.' is not sarcastic.\n",
      "1/1 [==============================] - 0s 30ms/step\n",
      "The text 'I've always wanted to visit Paris.' is not sarcastic.\n",
      "1/1 [==============================] - 0s 28ms/step\n",
      "The text 'The new library is very impressive.' is not sarcastic.\n",
      "1/1 [==============================] - 0s 27ms/step\n",
      "The text 'I find yoga very relaxing.' is not sarcastic.\n",
      "1/1 [==============================] - 0s 27ms/step\n",
      "The text 'The baby's laughter is so joyful.' is not sarcastic.\n",
      "1/1 [==============================] - 0s 28ms/step\n",
      "The text 'That's a very cute puppy.' is not sarcastic.\n",
      "1/1 [==============================] - 0s 27ms/step\n",
      "The text 'I enjoy cooking for my family.' is not sarcastic.\n",
      "1/1 [==============================] - 0s 25ms/step\n",
      "The text 'It's a pleasure working with you.' is not sarcastic.\n",
      "1/1 [==============================] - 0s 28ms/step\n",
      "The text 'The beach is my favorite place.' is not sarcastic.\n",
      "1/1 [==============================] - 0s 37ms/step\n",
      "The text 'Your presentation was very persuasive.' is not sarcastic.\n",
      "1/1 [==============================] - 0s 33ms/step\n",
      "The text 'I always enjoy our conversations.' is not sarcastic.\n",
      "1/1 [==============================] - 0s 29ms/step\n",
      "The text 'She has a great sense of humor.' is not sarcastic.\n",
      "1/1 [==============================] - 0s 27ms/step\n",
      "The text 'This hotel is very comfortable and clean.' is not sarcastic.\n",
      "1/1 [==============================] - 0s 36ms/step\n",
      "The text 'The countryside is so peaceful.' is not sarcastic.\n",
      "1/1 [==============================] - 0s 29ms/step\n",
      "The text 'I'm excited about learning new things.' is not sarcastic.\n",
      "1/1 [==============================] - 0s 25ms/step\n",
      "The text 'He fixed the car perfectly.' is not sarcastic.\n",
      "1/1 [==============================] - 0s 27ms/step\n",
      "The text 'The city lights at night are stunning.' is not sarcastic.\n",
      "1/1 [==============================] - 0s 27ms/step\n",
      "The text 'I've learned so much from this course.' is not sarcastic.\n",
      "1/1 [==============================] - 0s 27ms/step\n",
      "The text 'Your kindness is very much appreciated.' is not sarcastic.\n",
      "1/1 [==============================] - 0s 30ms/step\n",
      "The text 'This is exactly what I wanted.' is not sarcastic.\n"
     ]
    }
   ],
   "source": [
    "with open('non_sarcastic.txt', 'r') as non_sarcastic:\n",
    "    non_sarcastic_sentences = non_sarcastic.readlines()\n",
    "\n",
    "for non_sarcastic_sentence in non_sarcastic_sentences:\n",
    "    token_list = tokenizer.texts_to_sequences([non_sarcastic_sentence])[0]\n",
    "    token_list = pad_sequences([token_list], maxlen=max_length, padding='pre')\n",
    "\n",
    "    prediction = model.predict(token_list)\n",
    "    is_sarcastic = prediction[0][0] > 0.5\n",
    "\n",
    "    if is_sarcastic:\n",
    "        print(f\"The text '{non_sarcastic_sentence.strip()}' is sarcastic.\")\n",
    "    else:\n",
    "        print(f\"The text '{non_sarcastic_sentence.strip()}' is not sarcastic.\")"
   ]
  },
  {
   "cell_type": "code",
   "execution_count": 183,
   "metadata": {},
   "outputs": [
    {
     "name": "stdout",
     "output_type": "stream",
     "text": [
      "1/1 [==============================] - 0s 33ms/step\n",
      "The text 'Oh great, another Monday.' is not sarcastic.\n",
      "1/1 [==============================] - 0s 43ms/step\n",
      "The text 'I just love sitting in traffic.' is not sarcastic.\n",
      "1/1 [==============================] - 0s 28ms/step\n",
      "The text 'Yeah, like I really need more work.' is not sarcastic.\n",
      "1/1 [==============================] - 0s 27ms/step\n",
      "The text 'Sure, the weather is \"fantastic\" for a picnic.' is not sarcastic.\n",
      "1/1 [==============================] - 0s 25ms/step\n",
      "The text 'I can't wait to hear more of your advice.' is not sarcastic.\n",
      "1/1 [==============================] - 0s 27ms/step\n",
      "The text 'Oh, another meeting, how exciting!' is not sarcastic.\n",
      "1/1 [==============================] - 0s 25ms/step\n",
      "The text 'What a surprise, my train is late again.' is not sarcastic.\n",
      "1/1 [==============================] - 0s 28ms/step\n",
      "The text 'Just what I wanted, more rain.' is not sarcastic.\n",
      "1/1 [==============================] - 0s 28ms/step\n",
      "The text 'Of course, your singing is just like a professional.' is not sarcastic.\n",
      "1/1 [==============================] - 0s 27ms/step\n",
      "The text 'Great, another diet that won't work.' is not sarcastic.\n",
      "1/1 [==============================] - 0s 27ms/step\n",
      "The text 'Wow, I've never heard that joke before.' is not sarcastic.\n",
      "1/1 [==============================] - 0s 27ms/step\n",
      "The text 'Yeah, I just love doing overtime.' is not sarcastic.\n",
      "1/1 [==============================] - 0s 28ms/step\n",
      "The text 'Oh, I can't believe how fast the internet is today.' is not sarcastic.\n",
      "1/1 [==============================] - 0s 26ms/step\n",
      "The text 'Sure, I absolutely love getting up early.' is not sarcastic.\n",
      "1/1 [==============================] - 0s 27ms/step\n",
      "The text 'Wow, this is the cleanest city I've ever seen.' is not sarcastic.\n",
      "1/1 [==============================] - 0s 28ms/step\n",
      "The text 'I'm thrilled to be stuck in this elevator.' is not sarcastic.\n",
      "1/1 [==============================] - 0s 27ms/step\n",
      "The text 'Can't wait to spend my weekend doing nothing.' is not sarcastic.\n",
      "1/1 [==============================] - 0s 26ms/step\n",
      "The text 'Oh look, another email from my boss.' is not sarcastic.\n",
      "1/1 [==============================] - 0s 28ms/step\n",
      "The text 'Wow, your baby's crying is so melodious.' is not sarcastic.\n",
      "1/1 [==============================] - 0s 28ms/step\n",
      "The text 'Yes, please tell me more about your dream vacation.' is not sarcastic.\n",
      "1/1 [==============================] - 0s 26ms/step\n",
      "The text 'Another day of blissful peace and quiet in the city.' is not sarcastic.\n",
      "1/1 [==============================] - 0s 28ms/step\n",
      "The text 'Oh, I just love when my computer crashes.' is not sarcastic.\n",
      "1/1 [==============================] - 0s 28ms/step\n",
      "The text 'Fantastic, I forgot my umbrella on a rainy day.' is not sarcastic.\n",
      "1/1 [==============================] - 0s 27ms/step\n",
      "The text 'Oh, I'm so excited for another dentist appointment.' is not sarcastic.\n",
      "1/1 [==============================] - 0s 28ms/step\n",
      "The text 'Yeah, team-building exercises are my favorite.' is not sarcastic.\n",
      "1/1 [==============================] - 0s 29ms/step\n",
      "The text 'Oh boy, leftovers for dinner again.' is not sarcastic.\n",
      "1/1 [==============================] - 0s 28ms/step\n",
      "The text 'I can't believe how affordable these prices are.' is not sarcastic.\n",
      "1/1 [==============================] - 0s 28ms/step\n",
      "The text 'Great, my phone's battery died again.' is not sarcastic.\n",
      "1/1 [==============================] - 0s 27ms/step\n",
      "The text 'I'm so glad to be waiting in this long line.' is not sarcastic.\n",
      "1/1 [==============================] - 0s 28ms/step\n",
      "The text 'Yes, your opinions on politics are really changing my mind.' is not sarcastic.\n",
      "1/1 [==============================] - 0s 27ms/step\n",
      "The text 'Of course, I love it when my neighbors play loud music.' is not sarcastic.\n",
      "1/1 [==============================] - 0s 29ms/step\n",
      "The text 'Wow, I can't believe how fast this line is moving.' is not sarcastic.\n",
      "1/1 [==============================] - 0s 26ms/step\n",
      "The text 'I'm so happy to hear about your gym routine again.' is not sarcastic.\n",
      "1/1 [==============================] - 0s 27ms/step\n",
      "The text 'Oh, I just adore cleaning up messes.' is not sarcastic.\n",
      "1/1 [==============================] - 0s 27ms/step\n",
      "The text 'Sure, I have all the time in the world to wait.' is not sarcastic.\n",
      "1/1 [==============================] - 0s 26ms/step\n",
      "The text 'I'm so grateful for this extra work.' is not sarcastic.\n",
      "1/1 [==============================] - 0s 29ms/step\n",
      "The text 'Yes, I love hearing about your cat all the time.' is not sarcastic.\n",
      "1/1 [==============================] - 0s 30ms/step\n",
      "The text 'Oh, how I've missed these traffic jams.' is not sarcastic.\n",
      "1/1 [==============================] - 0s 27ms/step\n",
      "The text 'Absolutely, I enjoy being ignored.' is not sarcastic.\n",
      "1/1 [==============================] - 0s 26ms/step\n",
      "The text 'Can't think of anything better than unpaid overtime.' is not sarcastic.\n",
      "1/1 [==============================] - 0s 26ms/step\n",
      "The text 'Oh, your unsolicited advice is so helpful.' is not sarcastic.\n",
      "1/1 [==============================] - 0s 29ms/step\n",
      "The text 'I'm ecstatic to be working on the weekend.' is not sarcastic.\n",
      "1/1 [==============================] - 0s 28ms/step\n",
      "The text 'Yay, another sleepless night.' is not sarcastic.\n",
      "1/1 [==============================] - 0s 26ms/step\n",
      "The text 'Sure, I love it when my flight gets delayed.' is not sarcastic.\n",
      "1/1 [==============================] - 0s 26ms/step\n",
      "The text 'Yeah, I just love unexpected bills.' is not sarcastic.\n",
      "1/1 [==============================] - 0s 29ms/step\n",
      "The text 'Great, another day of freezing weather.' is not sarcastic.\n",
      "1/1 [==============================] - 0s 25ms/step\n",
      "The text 'I'm thrilled to be the third wheel again.' is not sarcastic.\n",
      "1/1 [==============================] - 0s 27ms/step\n",
      "The text 'Oh, I'm so excited to be doing laundry.' is not sarcastic.\n",
      "1/1 [==============================] - 0s 43ms/step\n",
      "The text 'Of course, I enjoy being stuck in the middle seat.' is not sarcastic.\n",
      "1/1 [==============================] - 0s 27ms/step\n",
      "The text 'Yes, I just love it when people are late.' is not sarcastic.\n"
     ]
    }
   ],
   "source": [
    "with open('sarcastic.txt', 'r') as sarcastic:\n",
    "    sarcastic_sentences = sarcastic.readlines()\n",
    "\n",
    "for sarcastic_sentence in sarcastic_sentences:\n",
    "    token_list = tokenizer.texts_to_sequences([sarcastic_sentence])[0]\n",
    "    token_list = pad_sequences([token_list], maxlen=max_length, padding='pre')\n",
    "\n",
    "    prediction = model.predict(token_list)\n",
    "    is_sarcastic = prediction[0][0] > 0.5\n",
    "\n",
    "    if is_sarcastic:\n",
    "        print(f\"The text '{sarcastic_sentence.strip()}' is sarcastic.\")\n",
    "    else:\n",
    "        print(f\"The text '{sarcastic_sentence.strip()}' is not sarcastic.\")"
   ]
  },
  {
   "cell_type": "code",
   "execution_count": null,
   "metadata": {},
   "outputs": [],
   "source": []
  }
 ],
 "metadata": {
  "kernelspec": {
   "display_name": "Python 3",
   "language": "python",
   "name": "python3"
  },
  "language_info": {
   "codemirror_mode": {
    "name": "ipython",
    "version": 3
   },
   "file_extension": ".py",
   "mimetype": "text/x-python",
   "name": "python",
   "nbconvert_exporter": "python",
   "pygments_lexer": "ipython3",
   "version": "3.11.7"
  }
 },
 "nbformat": 4,
 "nbformat_minor": 2
}
