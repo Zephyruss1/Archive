{
 "cells": [
  {
   "cell_type": "code",
   "execution_count": 2,
   "outputs": [],
   "source": [
    "\n",
    "import pandas as pd\n",
    "import matplotlib.pyplot as plt\n",
    "import seaborn as sns\n",
    "from sklearn.preprocessing import StandardScaler\n",
    "from sklearn.impute import SimpleImputer\n",
    "from sklearn.model_selection import train_test_split\n",
    "import warnings\n",
    "warnings.filterwarnings('ignore')"
   ],
   "metadata": {
    "collapsed": false,
    "ExecuteTime": {
     "end_time": "2023-10-07T16:56:28.246340600Z",
     "start_time": "2023-10-07T16:56:27.776264Z"
    }
   },
   "id": "f8e9d1a3d5c34040"
  },
  {
   "cell_type": "code",
   "execution_count": 3,
   "outputs": [
    {
     "data": {
      "text/plain": "    species     island  culmen_length_mm  culmen_depth_mm  flipper_length_mm  \\\n0    Adelie  Torgersen              39.1             18.7              181.0   \n1    Adelie  Torgersen              39.5             17.4              186.0   \n2    Adelie  Torgersen              40.3             18.0              195.0   \n3    Adelie  Torgersen               NaN              NaN                NaN   \n4    Adelie  Torgersen              36.7             19.3              193.0   \n..      ...        ...               ...              ...                ...   \n339  Gentoo     Biscoe               NaN              NaN                NaN   \n340  Gentoo     Biscoe              46.8             14.3              215.0   \n341  Gentoo     Biscoe              50.4             15.7              222.0   \n342  Gentoo     Biscoe              45.2             14.8              212.0   \n343  Gentoo     Biscoe              49.9             16.1              213.0   \n\n     body_mass_g     sex  \n0         3750.0    MALE  \n1         3800.0  FEMALE  \n2         3250.0  FEMALE  \n3            NaN     NaN  \n4         3450.0  FEMALE  \n..           ...     ...  \n339          NaN     NaN  \n340       4850.0  FEMALE  \n341       5750.0    MALE  \n342       5200.0  FEMALE  \n343       5400.0    MALE  \n\n[344 rows x 7 columns]",
      "text/html": "<div>\n<style scoped>\n    .dataframe tbody tr th:only-of-type {\n        vertical-align: middle;\n    }\n\n    .dataframe tbody tr th {\n        vertical-align: top;\n    }\n\n    .dataframe thead th {\n        text-align: right;\n    }\n</style>\n<table border=\"1\" class=\"dataframe\">\n  <thead>\n    <tr style=\"text-align: right;\">\n      <th></th>\n      <th>species</th>\n      <th>island</th>\n      <th>culmen_length_mm</th>\n      <th>culmen_depth_mm</th>\n      <th>flipper_length_mm</th>\n      <th>body_mass_g</th>\n      <th>sex</th>\n    </tr>\n  </thead>\n  <tbody>\n    <tr>\n      <th>0</th>\n      <td>Adelie</td>\n      <td>Torgersen</td>\n      <td>39.1</td>\n      <td>18.7</td>\n      <td>181.0</td>\n      <td>3750.0</td>\n      <td>MALE</td>\n    </tr>\n    <tr>\n      <th>1</th>\n      <td>Adelie</td>\n      <td>Torgersen</td>\n      <td>39.5</td>\n      <td>17.4</td>\n      <td>186.0</td>\n      <td>3800.0</td>\n      <td>FEMALE</td>\n    </tr>\n    <tr>\n      <th>2</th>\n      <td>Adelie</td>\n      <td>Torgersen</td>\n      <td>40.3</td>\n      <td>18.0</td>\n      <td>195.0</td>\n      <td>3250.0</td>\n      <td>FEMALE</td>\n    </tr>\n    <tr>\n      <th>3</th>\n      <td>Adelie</td>\n      <td>Torgersen</td>\n      <td>NaN</td>\n      <td>NaN</td>\n      <td>NaN</td>\n      <td>NaN</td>\n      <td>NaN</td>\n    </tr>\n    <tr>\n      <th>4</th>\n      <td>Adelie</td>\n      <td>Torgersen</td>\n      <td>36.7</td>\n      <td>19.3</td>\n      <td>193.0</td>\n      <td>3450.0</td>\n      <td>FEMALE</td>\n    </tr>\n    <tr>\n      <th>...</th>\n      <td>...</td>\n      <td>...</td>\n      <td>...</td>\n      <td>...</td>\n      <td>...</td>\n      <td>...</td>\n      <td>...</td>\n    </tr>\n    <tr>\n      <th>339</th>\n      <td>Gentoo</td>\n      <td>Biscoe</td>\n      <td>NaN</td>\n      <td>NaN</td>\n      <td>NaN</td>\n      <td>NaN</td>\n      <td>NaN</td>\n    </tr>\n    <tr>\n      <th>340</th>\n      <td>Gentoo</td>\n      <td>Biscoe</td>\n      <td>46.8</td>\n      <td>14.3</td>\n      <td>215.0</td>\n      <td>4850.0</td>\n      <td>FEMALE</td>\n    </tr>\n    <tr>\n      <th>341</th>\n      <td>Gentoo</td>\n      <td>Biscoe</td>\n      <td>50.4</td>\n      <td>15.7</td>\n      <td>222.0</td>\n      <td>5750.0</td>\n      <td>MALE</td>\n    </tr>\n    <tr>\n      <th>342</th>\n      <td>Gentoo</td>\n      <td>Biscoe</td>\n      <td>45.2</td>\n      <td>14.8</td>\n      <td>212.0</td>\n      <td>5200.0</td>\n      <td>FEMALE</td>\n    </tr>\n    <tr>\n      <th>343</th>\n      <td>Gentoo</td>\n      <td>Biscoe</td>\n      <td>49.9</td>\n      <td>16.1</td>\n      <td>213.0</td>\n      <td>5400.0</td>\n      <td>MALE</td>\n    </tr>\n  </tbody>\n</table>\n<p>344 rows × 7 columns</p>\n</div>"
     },
     "execution_count": 3,
     "metadata": {},
     "output_type": "execute_result"
    }
   ],
   "source": [
    "df = pd.read_csv('penguins_size.csv')\n",
    "df"
   ],
   "metadata": {
    "collapsed": false,
    "ExecuteTime": {
     "end_time": "2023-10-07T16:56:28.274944Z",
     "start_time": "2023-10-07T16:56:28.046157800Z"
    }
   },
   "id": "e3ca3e1a8793615"
  },
  {
   "cell_type": "code",
   "execution_count": 4,
   "outputs": [
    {
     "name": "stdout",
     "output_type": "stream",
     "text": [
      "<class 'pandas.core.frame.DataFrame'>\n",
      "RangeIndex: 344 entries, 0 to 343\n",
      "Data columns (total 7 columns):\n",
      " #   Column             Non-Null Count  Dtype  \n",
      "---  ------             --------------  -----  \n",
      " 0   species            344 non-null    object \n",
      " 1   island             344 non-null    object \n",
      " 2   culmen_length_mm   342 non-null    float64\n",
      " 3   culmen_depth_mm    342 non-null    float64\n",
      " 4   flipper_length_mm  342 non-null    float64\n",
      " 5   body_mass_g        342 non-null    float64\n",
      " 6   sex                334 non-null    object \n",
      "dtypes: float64(4), object(3)\n",
      "memory usage: 18.9+ KB\n"
     ]
    }
   ],
   "source": [
    "df.info()"
   ],
   "metadata": {
    "collapsed": false,
    "ExecuteTime": {
     "end_time": "2023-10-07T16:56:28.275946600Z",
     "start_time": "2023-10-07T16:56:28.076187200Z"
    }
   },
   "id": "4d93e414dbcaa2ed"
  },
  {
   "cell_type": "code",
   "execution_count": 5,
   "outputs": [
    {
     "data": {
      "text/plain": "                   count         mean         std     min       25%      50%  \\\nculmen_length_mm   342.0    43.921930    5.459584    32.1    39.225    44.45   \nculmen_depth_mm    342.0    17.151170    1.974793    13.1    15.600    17.30   \nflipper_length_mm  342.0   200.915205   14.061714   172.0   190.000   197.00   \nbody_mass_g        342.0  4201.754386  801.954536  2700.0  3550.000  4050.00   \n\n                      75%     max  \nculmen_length_mm     48.5    59.6  \nculmen_depth_mm      18.7    21.5  \nflipper_length_mm   213.0   231.0  \nbody_mass_g        4750.0  6300.0  ",
      "text/html": "<div>\n<style scoped>\n    .dataframe tbody tr th:only-of-type {\n        vertical-align: middle;\n    }\n\n    .dataframe tbody tr th {\n        vertical-align: top;\n    }\n\n    .dataframe thead th {\n        text-align: right;\n    }\n</style>\n<table border=\"1\" class=\"dataframe\">\n  <thead>\n    <tr style=\"text-align: right;\">\n      <th></th>\n      <th>count</th>\n      <th>mean</th>\n      <th>std</th>\n      <th>min</th>\n      <th>25%</th>\n      <th>50%</th>\n      <th>75%</th>\n      <th>max</th>\n    </tr>\n  </thead>\n  <tbody>\n    <tr>\n      <th>culmen_length_mm</th>\n      <td>342.0</td>\n      <td>43.921930</td>\n      <td>5.459584</td>\n      <td>32.1</td>\n      <td>39.225</td>\n      <td>44.45</td>\n      <td>48.5</td>\n      <td>59.6</td>\n    </tr>\n    <tr>\n      <th>culmen_depth_mm</th>\n      <td>342.0</td>\n      <td>17.151170</td>\n      <td>1.974793</td>\n      <td>13.1</td>\n      <td>15.600</td>\n      <td>17.30</td>\n      <td>18.7</td>\n      <td>21.5</td>\n    </tr>\n    <tr>\n      <th>flipper_length_mm</th>\n      <td>342.0</td>\n      <td>200.915205</td>\n      <td>14.061714</td>\n      <td>172.0</td>\n      <td>190.000</td>\n      <td>197.00</td>\n      <td>213.0</td>\n      <td>231.0</td>\n    </tr>\n    <tr>\n      <th>body_mass_g</th>\n      <td>342.0</td>\n      <td>4201.754386</td>\n      <td>801.954536</td>\n      <td>2700.0</td>\n      <td>3550.000</td>\n      <td>4050.00</td>\n      <td>4750.0</td>\n      <td>6300.0</td>\n    </tr>\n  </tbody>\n</table>\n</div>"
     },
     "execution_count": 5,
     "metadata": {},
     "output_type": "execute_result"
    }
   ],
   "source": [
    "df.describe().T"
   ],
   "metadata": {
    "collapsed": false,
    "ExecuteTime": {
     "end_time": "2023-10-07T16:56:28.275946600Z",
     "start_time": "2023-10-07T16:56:28.091199400Z"
    }
   },
   "id": "e21344351792bcbd"
  },
  {
   "cell_type": "code",
   "execution_count": 6,
   "outputs": [
    {
     "data": {
      "text/plain": "species              0.0%\nisland               0.0%\nculmen_length_mm     0.6%\nculmen_depth_mm      0.6%\nflipper_length_mm    0.6%\nbody_mass_g          0.6%\nsex                  2.9%\ndtype: object"
     },
     "execution_count": 6,
     "metadata": {},
     "output_type": "execute_result"
    }
   ],
   "source": [
    "def print_null_percent(data):\n",
    "    null_data = data.isna().sum() / len(data)\n",
    "    return null_data.apply(lambda x: f'{x:.1%}')\n",
    "\n",
    "\n",
    "print_null_percent(df)"
   ],
   "metadata": {
    "collapsed": false,
    "ExecuteTime": {
     "end_time": "2023-10-07T16:56:28.276946300Z",
     "start_time": "2023-10-07T16:56:28.124229100Z"
    }
   },
   "id": "53b968f94d8b5404"
  },
  {
   "cell_type": "code",
   "execution_count": 7,
   "outputs": [
    {
     "data": {
      "text/plain": "sex\nMALE      168\nFEMALE    165\n.           1\nName: count, dtype: int64"
     },
     "execution_count": 7,
     "metadata": {},
     "output_type": "execute_result"
    }
   ],
   "source": [
    "df['sex'].value_counts()"
   ],
   "metadata": {
    "collapsed": false,
    "ExecuteTime": {
     "end_time": "2023-10-07T16:56:28.276946300Z",
     "start_time": "2023-10-07T16:56:28.138241900Z"
    }
   },
   "id": "4f37590f29ba8c3b"
  },
  {
   "cell_type": "code",
   "execution_count": 8,
   "outputs": [
    {
     "data": {
      "text/plain": "    species  island  culmen_length_mm  culmen_depth_mm  flipper_length_mm  \\\n336  Gentoo  Biscoe              44.5             15.7              217.0   \n\n     body_mass_g sex  \n336       4875.0   .  ",
      "text/html": "<div>\n<style scoped>\n    .dataframe tbody tr th:only-of-type {\n        vertical-align: middle;\n    }\n\n    .dataframe tbody tr th {\n        vertical-align: top;\n    }\n\n    .dataframe thead th {\n        text-align: right;\n    }\n</style>\n<table border=\"1\" class=\"dataframe\">\n  <thead>\n    <tr style=\"text-align: right;\">\n      <th></th>\n      <th>species</th>\n      <th>island</th>\n      <th>culmen_length_mm</th>\n      <th>culmen_depth_mm</th>\n      <th>flipper_length_mm</th>\n      <th>body_mass_g</th>\n      <th>sex</th>\n    </tr>\n  </thead>\n  <tbody>\n    <tr>\n      <th>336</th>\n      <td>Gentoo</td>\n      <td>Biscoe</td>\n      <td>44.5</td>\n      <td>15.7</td>\n      <td>217.0</td>\n      <td>4875.0</td>\n      <td>.</td>\n    </tr>\n  </tbody>\n</table>\n</div>"
     },
     "execution_count": 8,
     "metadata": {},
     "output_type": "execute_result"
    }
   ],
   "source": [
    "df[df['sex'] == '.']"
   ],
   "metadata": {
    "collapsed": false,
    "ExecuteTime": {
     "end_time": "2023-10-07T16:56:28.277948Z",
     "start_time": "2023-10-07T16:56:28.152256800Z"
    }
   },
   "id": "da14c135de7d9f5d"
  },
  {
   "cell_type": "code",
   "execution_count": 9,
   "outputs": [
    {
     "data": {
      "text/plain": "    species     island  culmen_length_mm  culmen_depth_mm  flipper_length_mm  \\\n0    Adelie  Torgersen              39.1             18.7              181.0   \n1    Adelie  Torgersen              39.5             17.4              186.0   \n2    Adelie  Torgersen              40.3             18.0              195.0   \n3    Adelie  Torgersen               NaN              NaN                NaN   \n4    Adelie  Torgersen              36.7             19.3              193.0   \n..      ...        ...               ...              ...                ...   \n339  Gentoo     Biscoe               NaN              NaN                NaN   \n340  Gentoo     Biscoe              46.8             14.3              215.0   \n341  Gentoo     Biscoe              50.4             15.7              222.0   \n342  Gentoo     Biscoe              45.2             14.8              212.0   \n343  Gentoo     Biscoe              49.9             16.1              213.0   \n\n     body_mass_g     sex  \n0         3750.0    MALE  \n1         3800.0  FEMALE  \n2         3250.0  FEMALE  \n3            NaN     NaN  \n4         3450.0  FEMALE  \n..           ...     ...  \n339          NaN     NaN  \n340       4850.0  FEMALE  \n341       5750.0    MALE  \n342       5200.0  FEMALE  \n343       5400.0    MALE  \n\n[343 rows x 7 columns]",
      "text/html": "<div>\n<style scoped>\n    .dataframe tbody tr th:only-of-type {\n        vertical-align: middle;\n    }\n\n    .dataframe tbody tr th {\n        vertical-align: top;\n    }\n\n    .dataframe thead th {\n        text-align: right;\n    }\n</style>\n<table border=\"1\" class=\"dataframe\">\n  <thead>\n    <tr style=\"text-align: right;\">\n      <th></th>\n      <th>species</th>\n      <th>island</th>\n      <th>culmen_length_mm</th>\n      <th>culmen_depth_mm</th>\n      <th>flipper_length_mm</th>\n      <th>body_mass_g</th>\n      <th>sex</th>\n    </tr>\n  </thead>\n  <tbody>\n    <tr>\n      <th>0</th>\n      <td>Adelie</td>\n      <td>Torgersen</td>\n      <td>39.1</td>\n      <td>18.7</td>\n      <td>181.0</td>\n      <td>3750.0</td>\n      <td>MALE</td>\n    </tr>\n    <tr>\n      <th>1</th>\n      <td>Adelie</td>\n      <td>Torgersen</td>\n      <td>39.5</td>\n      <td>17.4</td>\n      <td>186.0</td>\n      <td>3800.0</td>\n      <td>FEMALE</td>\n    </tr>\n    <tr>\n      <th>2</th>\n      <td>Adelie</td>\n      <td>Torgersen</td>\n      <td>40.3</td>\n      <td>18.0</td>\n      <td>195.0</td>\n      <td>3250.0</td>\n      <td>FEMALE</td>\n    </tr>\n    <tr>\n      <th>3</th>\n      <td>Adelie</td>\n      <td>Torgersen</td>\n      <td>NaN</td>\n      <td>NaN</td>\n      <td>NaN</td>\n      <td>NaN</td>\n      <td>NaN</td>\n    </tr>\n    <tr>\n      <th>4</th>\n      <td>Adelie</td>\n      <td>Torgersen</td>\n      <td>36.7</td>\n      <td>19.3</td>\n      <td>193.0</td>\n      <td>3450.0</td>\n      <td>FEMALE</td>\n    </tr>\n    <tr>\n      <th>...</th>\n      <td>...</td>\n      <td>...</td>\n      <td>...</td>\n      <td>...</td>\n      <td>...</td>\n      <td>...</td>\n      <td>...</td>\n    </tr>\n    <tr>\n      <th>339</th>\n      <td>Gentoo</td>\n      <td>Biscoe</td>\n      <td>NaN</td>\n      <td>NaN</td>\n      <td>NaN</td>\n      <td>NaN</td>\n      <td>NaN</td>\n    </tr>\n    <tr>\n      <th>340</th>\n      <td>Gentoo</td>\n      <td>Biscoe</td>\n      <td>46.8</td>\n      <td>14.3</td>\n      <td>215.0</td>\n      <td>4850.0</td>\n      <td>FEMALE</td>\n    </tr>\n    <tr>\n      <th>341</th>\n      <td>Gentoo</td>\n      <td>Biscoe</td>\n      <td>50.4</td>\n      <td>15.7</td>\n      <td>222.0</td>\n      <td>5750.0</td>\n      <td>MALE</td>\n    </tr>\n    <tr>\n      <th>342</th>\n      <td>Gentoo</td>\n      <td>Biscoe</td>\n      <td>45.2</td>\n      <td>14.8</td>\n      <td>212.0</td>\n      <td>5200.0</td>\n      <td>FEMALE</td>\n    </tr>\n    <tr>\n      <th>343</th>\n      <td>Gentoo</td>\n      <td>Biscoe</td>\n      <td>49.9</td>\n      <td>16.1</td>\n      <td>213.0</td>\n      <td>5400.0</td>\n      <td>MALE</td>\n    </tr>\n  </tbody>\n</table>\n<p>343 rows × 7 columns</p>\n</div>"
     },
     "execution_count": 9,
     "metadata": {},
     "output_type": "execute_result"
    }
   ],
   "source": [
    "df.drop(336)"
   ],
   "metadata": {
    "collapsed": false,
    "ExecuteTime": {
     "end_time": "2023-10-07T16:56:28.277948Z",
     "start_time": "2023-10-07T16:56:28.168269500Z"
    }
   },
   "id": "2ca6820d3de18fe7"
  },
  {
   "cell_type": "code",
   "execution_count": 10,
   "outputs": [],
   "source": [
    "from sklearn.preprocessing import LabelEncoder"
   ],
   "metadata": {
    "collapsed": false,
    "ExecuteTime": {
     "end_time": "2023-10-07T16:56:28.277948Z",
     "start_time": "2023-10-07T16:56:28.185284800Z"
    }
   },
   "id": "b405ded0ce128be5"
  },
  {
   "cell_type": "code",
   "execution_count": 11,
   "outputs": [
    {
     "data": {
      "text/plain": "    species     island  culmen_length_mm  culmen_depth_mm  flipper_length_mm  \\\n0    Adelie  Torgersen              39.1             18.7              181.0   \n1    Adelie  Torgersen              39.5             17.4              186.0   \n2    Adelie  Torgersen              40.3             18.0              195.0   \n3    Adelie  Torgersen               NaN              NaN                NaN   \n4    Adelie  Torgersen              36.7             19.3              193.0   \n..      ...        ...               ...              ...                ...   \n339  Gentoo     Biscoe               NaN              NaN                NaN   \n340  Gentoo     Biscoe              46.8             14.3              215.0   \n341  Gentoo     Biscoe              50.4             15.7              222.0   \n342  Gentoo     Biscoe              45.2             14.8              212.0   \n343  Gentoo     Biscoe              49.9             16.1              213.0   \n\n     body_mass_g     sex  gender  \n0         3750.0    MALE       2  \n1         3800.0  FEMALE       1  \n2         3250.0  FEMALE       1  \n3            NaN     NaN       3  \n4         3450.0  FEMALE       1  \n..           ...     ...     ...  \n339          NaN     NaN       3  \n340       4850.0  FEMALE       1  \n341       5750.0    MALE       2  \n342       5200.0  FEMALE       1  \n343       5400.0    MALE       2  \n\n[344 rows x 8 columns]",
      "text/html": "<div>\n<style scoped>\n    .dataframe tbody tr th:only-of-type {\n        vertical-align: middle;\n    }\n\n    .dataframe tbody tr th {\n        vertical-align: top;\n    }\n\n    .dataframe thead th {\n        text-align: right;\n    }\n</style>\n<table border=\"1\" class=\"dataframe\">\n  <thead>\n    <tr style=\"text-align: right;\">\n      <th></th>\n      <th>species</th>\n      <th>island</th>\n      <th>culmen_length_mm</th>\n      <th>culmen_depth_mm</th>\n      <th>flipper_length_mm</th>\n      <th>body_mass_g</th>\n      <th>sex</th>\n      <th>gender</th>\n    </tr>\n  </thead>\n  <tbody>\n    <tr>\n      <th>0</th>\n      <td>Adelie</td>\n      <td>Torgersen</td>\n      <td>39.1</td>\n      <td>18.7</td>\n      <td>181.0</td>\n      <td>3750.0</td>\n      <td>MALE</td>\n      <td>2</td>\n    </tr>\n    <tr>\n      <th>1</th>\n      <td>Adelie</td>\n      <td>Torgersen</td>\n      <td>39.5</td>\n      <td>17.4</td>\n      <td>186.0</td>\n      <td>3800.0</td>\n      <td>FEMALE</td>\n      <td>1</td>\n    </tr>\n    <tr>\n      <th>2</th>\n      <td>Adelie</td>\n      <td>Torgersen</td>\n      <td>40.3</td>\n      <td>18.0</td>\n      <td>195.0</td>\n      <td>3250.0</td>\n      <td>FEMALE</td>\n      <td>1</td>\n    </tr>\n    <tr>\n      <th>3</th>\n      <td>Adelie</td>\n      <td>Torgersen</td>\n      <td>NaN</td>\n      <td>NaN</td>\n      <td>NaN</td>\n      <td>NaN</td>\n      <td>NaN</td>\n      <td>3</td>\n    </tr>\n    <tr>\n      <th>4</th>\n      <td>Adelie</td>\n      <td>Torgersen</td>\n      <td>36.7</td>\n      <td>19.3</td>\n      <td>193.0</td>\n      <td>3450.0</td>\n      <td>FEMALE</td>\n      <td>1</td>\n    </tr>\n    <tr>\n      <th>...</th>\n      <td>...</td>\n      <td>...</td>\n      <td>...</td>\n      <td>...</td>\n      <td>...</td>\n      <td>...</td>\n      <td>...</td>\n      <td>...</td>\n    </tr>\n    <tr>\n      <th>339</th>\n      <td>Gentoo</td>\n      <td>Biscoe</td>\n      <td>NaN</td>\n      <td>NaN</td>\n      <td>NaN</td>\n      <td>NaN</td>\n      <td>NaN</td>\n      <td>3</td>\n    </tr>\n    <tr>\n      <th>340</th>\n      <td>Gentoo</td>\n      <td>Biscoe</td>\n      <td>46.8</td>\n      <td>14.3</td>\n      <td>215.0</td>\n      <td>4850.0</td>\n      <td>FEMALE</td>\n      <td>1</td>\n    </tr>\n    <tr>\n      <th>341</th>\n      <td>Gentoo</td>\n      <td>Biscoe</td>\n      <td>50.4</td>\n      <td>15.7</td>\n      <td>222.0</td>\n      <td>5750.0</td>\n      <td>MALE</td>\n      <td>2</td>\n    </tr>\n    <tr>\n      <th>342</th>\n      <td>Gentoo</td>\n      <td>Biscoe</td>\n      <td>45.2</td>\n      <td>14.8</td>\n      <td>212.0</td>\n      <td>5200.0</td>\n      <td>FEMALE</td>\n      <td>1</td>\n    </tr>\n    <tr>\n      <th>343</th>\n      <td>Gentoo</td>\n      <td>Biscoe</td>\n      <td>49.9</td>\n      <td>16.1</td>\n      <td>213.0</td>\n      <td>5400.0</td>\n      <td>MALE</td>\n      <td>2</td>\n    </tr>\n  </tbody>\n</table>\n<p>344 rows × 8 columns</p>\n</div>"
     },
     "execution_count": 11,
     "metadata": {},
     "output_type": "execute_result"
    }
   ],
   "source": [
    "le = LabelEncoder()\n",
    "df['gender'] = le.fit_transform(df['sex'])\n",
    "df"
   ],
   "metadata": {
    "collapsed": false,
    "ExecuteTime": {
     "end_time": "2023-10-07T16:56:28.278948300Z",
     "start_time": "2023-10-07T16:56:28.200300100Z"
    }
   },
   "id": "9478035ef093e627"
  },
  {
   "cell_type": "code",
   "execution_count": 12,
   "outputs": [],
   "source": [
    "df.drop('sex', axis=1, inplace=True)"
   ],
   "metadata": {
    "collapsed": false,
    "ExecuteTime": {
     "end_time": "2023-10-07T16:56:28.291960200Z",
     "start_time": "2023-10-07T16:56:28.231327100Z"
    }
   },
   "id": "dc39ffc802772462"
  },
  {
   "cell_type": "code",
   "execution_count": 13,
   "outputs": [
    {
     "data": {
      "text/plain": "    species     island  culmen_length_mm  culmen_depth_mm  flipper_length_mm  \\\n0    Adelie  Torgersen              39.1             18.7              181.0   \n1    Adelie  Torgersen              39.5             17.4              186.0   \n2    Adelie  Torgersen              40.3             18.0              195.0   \n3    Adelie  Torgersen               NaN              NaN                NaN   \n4    Adelie  Torgersen              36.7             19.3              193.0   \n..      ...        ...               ...              ...                ...   \n339  Gentoo     Biscoe               NaN              NaN                NaN   \n340  Gentoo     Biscoe              46.8             14.3              215.0   \n341  Gentoo     Biscoe              50.4             15.7              222.0   \n342  Gentoo     Biscoe              45.2             14.8              212.0   \n343  Gentoo     Biscoe              49.9             16.1              213.0   \n\n     body_mass_g  gender  \n0         3750.0       2  \n1         3800.0       1  \n2         3250.0       1  \n3            NaN       3  \n4         3450.0       1  \n..           ...     ...  \n339          NaN       3  \n340       4850.0       1  \n341       5750.0       2  \n342       5200.0       1  \n343       5400.0       2  \n\n[344 rows x 7 columns]",
      "text/html": "<div>\n<style scoped>\n    .dataframe tbody tr th:only-of-type {\n        vertical-align: middle;\n    }\n\n    .dataframe tbody tr th {\n        vertical-align: top;\n    }\n\n    .dataframe thead th {\n        text-align: right;\n    }\n</style>\n<table border=\"1\" class=\"dataframe\">\n  <thead>\n    <tr style=\"text-align: right;\">\n      <th></th>\n      <th>species</th>\n      <th>island</th>\n      <th>culmen_length_mm</th>\n      <th>culmen_depth_mm</th>\n      <th>flipper_length_mm</th>\n      <th>body_mass_g</th>\n      <th>gender</th>\n    </tr>\n  </thead>\n  <tbody>\n    <tr>\n      <th>0</th>\n      <td>Adelie</td>\n      <td>Torgersen</td>\n      <td>39.1</td>\n      <td>18.7</td>\n      <td>181.0</td>\n      <td>3750.0</td>\n      <td>2</td>\n    </tr>\n    <tr>\n      <th>1</th>\n      <td>Adelie</td>\n      <td>Torgersen</td>\n      <td>39.5</td>\n      <td>17.4</td>\n      <td>186.0</td>\n      <td>3800.0</td>\n      <td>1</td>\n    </tr>\n    <tr>\n      <th>2</th>\n      <td>Adelie</td>\n      <td>Torgersen</td>\n      <td>40.3</td>\n      <td>18.0</td>\n      <td>195.0</td>\n      <td>3250.0</td>\n      <td>1</td>\n    </tr>\n    <tr>\n      <th>3</th>\n      <td>Adelie</td>\n      <td>Torgersen</td>\n      <td>NaN</td>\n      <td>NaN</td>\n      <td>NaN</td>\n      <td>NaN</td>\n      <td>3</td>\n    </tr>\n    <tr>\n      <th>4</th>\n      <td>Adelie</td>\n      <td>Torgersen</td>\n      <td>36.7</td>\n      <td>19.3</td>\n      <td>193.0</td>\n      <td>3450.0</td>\n      <td>1</td>\n    </tr>\n    <tr>\n      <th>...</th>\n      <td>...</td>\n      <td>...</td>\n      <td>...</td>\n      <td>...</td>\n      <td>...</td>\n      <td>...</td>\n      <td>...</td>\n    </tr>\n    <tr>\n      <th>339</th>\n      <td>Gentoo</td>\n      <td>Biscoe</td>\n      <td>NaN</td>\n      <td>NaN</td>\n      <td>NaN</td>\n      <td>NaN</td>\n      <td>3</td>\n    </tr>\n    <tr>\n      <th>340</th>\n      <td>Gentoo</td>\n      <td>Biscoe</td>\n      <td>46.8</td>\n      <td>14.3</td>\n      <td>215.0</td>\n      <td>4850.0</td>\n      <td>1</td>\n    </tr>\n    <tr>\n      <th>341</th>\n      <td>Gentoo</td>\n      <td>Biscoe</td>\n      <td>50.4</td>\n      <td>15.7</td>\n      <td>222.0</td>\n      <td>5750.0</td>\n      <td>2</td>\n    </tr>\n    <tr>\n      <th>342</th>\n      <td>Gentoo</td>\n      <td>Biscoe</td>\n      <td>45.2</td>\n      <td>14.8</td>\n      <td>212.0</td>\n      <td>5200.0</td>\n      <td>1</td>\n    </tr>\n    <tr>\n      <th>343</th>\n      <td>Gentoo</td>\n      <td>Biscoe</td>\n      <td>49.9</td>\n      <td>16.1</td>\n      <td>213.0</td>\n      <td>5400.0</td>\n      <td>2</td>\n    </tr>\n  </tbody>\n</table>\n<p>344 rows × 7 columns</p>\n</div>"
     },
     "execution_count": 13,
     "metadata": {},
     "output_type": "execute_result"
    }
   ],
   "source": [
    "df"
   ],
   "metadata": {
    "collapsed": false,
    "ExecuteTime": {
     "end_time": "2023-10-07T16:56:28.385661Z",
     "start_time": "2023-10-07T16:56:28.249343700Z"
    }
   },
   "id": "5571f8d7d5a2eedc"
  },
  {
   "cell_type": "markdown",
   "source": [
    "**Fill empty data with SimpleImputer**"
   ],
   "metadata": {
    "collapsed": false
   },
   "id": "6f782dde9ed3def0"
  },
  {
   "cell_type": "code",
   "execution_count": 14,
   "outputs": [],
   "source": [
    "imputer = SimpleImputer(strategy='most_frequent')\n",
    "df.iloc[:, :] = imputer.fit_transform(df)"
   ],
   "metadata": {
    "collapsed": false,
    "ExecuteTime": {
     "end_time": "2023-10-07T16:56:28.403678500Z",
     "start_time": "2023-10-07T16:56:28.277948Z"
    }
   },
   "id": "a9d07b61a6008c16"
  },
  {
   "cell_type": "code",
   "execution_count": 15,
   "outputs": [
    {
     "data": {
      "text/plain": "                   Null Count Null Percentage\nspecies                     0            0.0%\nisland                      0            0.0%\nculmen_length_mm            0            0.0%\nculmen_depth_mm             0            0.0%\nflipper_length_mm           0            0.0%\nbody_mass_g                 0            0.0%\ngender                      0            0.0%",
      "text/html": "<div>\n<style scoped>\n    .dataframe tbody tr th:only-of-type {\n        vertical-align: middle;\n    }\n\n    .dataframe tbody tr th {\n        vertical-align: top;\n    }\n\n    .dataframe thead th {\n        text-align: right;\n    }\n</style>\n<table border=\"1\" class=\"dataframe\">\n  <thead>\n    <tr style=\"text-align: right;\">\n      <th></th>\n      <th>Null Count</th>\n      <th>Null Percentage</th>\n    </tr>\n  </thead>\n  <tbody>\n    <tr>\n      <th>species</th>\n      <td>0</td>\n      <td>0.0%</td>\n    </tr>\n    <tr>\n      <th>island</th>\n      <td>0</td>\n      <td>0.0%</td>\n    </tr>\n    <tr>\n      <th>culmen_length_mm</th>\n      <td>0</td>\n      <td>0.0%</td>\n    </tr>\n    <tr>\n      <th>culmen_depth_mm</th>\n      <td>0</td>\n      <td>0.0%</td>\n    </tr>\n    <tr>\n      <th>flipper_length_mm</th>\n      <td>0</td>\n      <td>0.0%</td>\n    </tr>\n    <tr>\n      <th>body_mass_g</th>\n      <td>0</td>\n      <td>0.0%</td>\n    </tr>\n    <tr>\n      <th>gender</th>\n      <td>0</td>\n      <td>0.0%</td>\n    </tr>\n  </tbody>\n</table>\n</div>"
     },
     "execution_count": 15,
     "metadata": {},
     "output_type": "execute_result"
    }
   ],
   "source": [
    "def print_percent_and_count_null(data):\n",
    "    data_null = data.isna().sum()\n",
    "    percent_null = data.isna().sum() / len(data)\n",
    "    percent_null = percent_null.apply(lambda x: f\"{x:.1%}\")\n",
    "    result = pd.concat([data_null, percent_null], axis=1)\n",
    "    result.columns = ['Null Count', 'Null Percentage']\n",
    "    return result\n",
    "print_percent_and_count_null(df)"
   ],
   "metadata": {
    "collapsed": false,
    "ExecuteTime": {
     "end_time": "2023-10-07T16:56:28.555815700Z",
     "start_time": "2023-10-07T16:56:28.298967Z"
    }
   },
   "id": "c9231b17ef0f68a0"
  },
  {
   "cell_type": "code",
   "execution_count": 16,
   "outputs": [],
   "source": [
    "species_counting = df['species'].value_counts().reset_index()"
   ],
   "metadata": {
    "collapsed": false,
    "ExecuteTime": {
     "end_time": "2023-10-07T16:56:28.647899900Z",
     "start_time": "2023-10-07T16:56:28.324605Z"
    }
   },
   "id": "ee5dc3db9c850dff"
  },
  {
   "cell_type": "code",
   "execution_count": 17,
   "outputs": [
    {
     "data": {
      "text/plain": "     species  count\n0     Adelie    152\n1     Gentoo    124\n2  Chinstrap     68",
      "text/html": "<div>\n<style scoped>\n    .dataframe tbody tr th:only-of-type {\n        vertical-align: middle;\n    }\n\n    .dataframe tbody tr th {\n        vertical-align: top;\n    }\n\n    .dataframe thead th {\n        text-align: right;\n    }\n</style>\n<table border=\"1\" class=\"dataframe\">\n  <thead>\n    <tr style=\"text-align: right;\">\n      <th></th>\n      <th>species</th>\n      <th>count</th>\n    </tr>\n  </thead>\n  <tbody>\n    <tr>\n      <th>0</th>\n      <td>Adelie</td>\n      <td>152</td>\n    </tr>\n    <tr>\n      <th>1</th>\n      <td>Gentoo</td>\n      <td>124</td>\n    </tr>\n    <tr>\n      <th>2</th>\n      <td>Chinstrap</td>\n      <td>68</td>\n    </tr>\n  </tbody>\n</table>\n</div>"
     },
     "execution_count": 17,
     "metadata": {},
     "output_type": "execute_result"
    }
   ],
   "source": [
    "species_counting"
   ],
   "metadata": {
    "collapsed": false,
    "ExecuteTime": {
     "end_time": "2023-10-07T16:56:28.693940900Z",
     "start_time": "2023-10-07T16:56:28.340620200Z"
    }
   },
   "id": "e84e0e01d2b0819b"
  },
  {
   "cell_type": "code",
   "execution_count": 18,
   "outputs": [
    {
     "data": {
      "text/plain": "<Axes: xlabel='species', ylabel='count'>"
     },
     "execution_count": 18,
     "metadata": {},
     "output_type": "execute_result"
    },
    {
     "data": {
      "text/plain": "<Figure size 640x480 with 1 Axes>",
      "image/png": "[encoded data removed]"
     },
     "metadata": {},
     "output_type": "display_data"
    }
   ],
   "source": [
    "sns.barplot(data=species_counting, x='species', y='count')"
   ],
   "metadata": {
    "collapsed": false,
    "ExecuteTime": {
     "end_time": "2023-10-07T16:56:28.883113Z",
     "start_time": "2023-10-07T16:56:28.353634Z"
    }
   },
   "id": "f71533afb2222b53"
  },
  {
   "cell_type": "code",
   "execution_count": 19,
   "outputs": [
    {
     "data": {
      "text/plain": "<seaborn.axisgrid.FacetGrid at 0x2090438bc10>"
     },
     "execution_count": 19,
     "metadata": {},
     "output_type": "execute_result"
    },
    {
     "data": {
      "text/plain": "<Figure size 500x500 with 1 Axes>",
      "image/png": "[encoded data removed]"
     },
     "metadata": {},
     "output_type": "display_data"
    }
   ],
   "source": [
    "sns.catplot(data=species_counting, x='species', y='count')"
   ],
   "metadata": {
    "collapsed": false,
    "ExecuteTime": {
     "end_time": "2023-10-07T16:56:29.023527800Z",
     "start_time": "2023-10-07T16:56:28.560822600Z"
    }
   },
   "id": "bed7d254cafb7624"
  },
  {
   "cell_type": "code",
   "execution_count": 20,
   "outputs": [],
   "source": [
    "island = pd.get_dummies(df[['island']], drop_first=True)"
   ],
   "metadata": {
    "collapsed": false,
    "ExecuteTime": {
     "end_time": "2023-10-07T16:56:29.025531700Z",
     "start_time": "2023-10-07T16:56:28.886116500Z"
    }
   },
   "id": "1381bc53379a35e3"
  },
  {
   "cell_type": "code",
   "execution_count": 21,
   "outputs": [],
   "source": [
    "df2 = pd.concat([df, island], axis=1)"
   ],
   "metadata": {
    "collapsed": false,
    "ExecuteTime": {
     "end_time": "2023-10-07T16:56:29.169574400Z",
     "start_time": "2023-10-07T16:56:28.902132Z"
    }
   },
   "id": "889b31d5094fecc5"
  },
  {
   "cell_type": "code",
   "execution_count": 22,
   "outputs": [],
   "source": [
    "df2.drop('island', axis=1, inplace=True)"
   ],
   "metadata": {
    "collapsed": false,
    "ExecuteTime": {
     "end_time": "2023-10-07T16:56:29.169574400Z",
     "start_time": "2023-10-07T16:56:28.915497900Z"
    }
   },
   "id": "6972a838134977f2"
  },
  {
   "cell_type": "code",
   "execution_count": 23,
   "outputs": [
    {
     "data": {
      "text/plain": "    species  culmen_length_mm  culmen_depth_mm  flipper_length_mm  \\\n0    Adelie              39.1             18.7              181.0   \n1    Adelie              39.5             17.4              186.0   \n2    Adelie              40.3             18.0              195.0   \n3    Adelie              41.1             17.0              190.0   \n4    Adelie              36.7             19.3              193.0   \n..      ...               ...              ...                ...   \n339  Gentoo              41.1             17.0              190.0   \n340  Gentoo              46.8             14.3              215.0   \n341  Gentoo              50.4             15.7              222.0   \n342  Gentoo              45.2             14.8              212.0   \n343  Gentoo              49.9             16.1              213.0   \n\n     body_mass_g  gender  island_Dream  island_Torgersen  \n0         3750.0       2         False              True  \n1         3800.0       1         False              True  \n2         3250.0       1         False              True  \n3         3800.0       3         False              True  \n4         3450.0       1         False              True  \n..           ...     ...           ...               ...  \n339       3800.0       3         False             False  \n340       4850.0       1         False             False  \n341       5750.0       2         False             False  \n342       5200.0       1         False             False  \n343       5400.0       2         False             False  \n\n[344 rows x 8 columns]",
      "text/html": "<div>\n<style scoped>\n    .dataframe tbody tr th:only-of-type {\n        vertical-align: middle;\n    }\n\n    .dataframe tbody tr th {\n        vertical-align: top;\n    }\n\n    .dataframe thead th {\n        text-align: right;\n    }\n</style>\n<table border=\"1\" class=\"dataframe\">\n  <thead>\n    <tr style=\"text-align: right;\">\n      <th></th>\n      <th>species</th>\n      <th>culmen_length_mm</th>\n      <th>culmen_depth_mm</th>\n      <th>flipper_length_mm</th>\n      <th>body_mass_g</th>\n      <th>gender</th>\n      <th>island_Dream</th>\n      <th>island_Torgersen</th>\n    </tr>\n  </thead>\n  <tbody>\n    <tr>\n      <th>0</th>\n      <td>Adelie</td>\n      <td>39.1</td>\n      <td>18.7</td>\n      <td>181.0</td>\n      <td>3750.0</td>\n      <td>2</td>\n      <td>False</td>\n      <td>True</td>\n    </tr>\n    <tr>\n      <th>1</th>\n      <td>Adelie</td>\n      <td>39.5</td>\n      <td>17.4</td>\n      <td>186.0</td>\n      <td>3800.0</td>\n      <td>1</td>\n      <td>False</td>\n      <td>True</td>\n    </tr>\n    <tr>\n      <th>2</th>\n      <td>Adelie</td>\n      <td>40.3</td>\n      <td>18.0</td>\n      <td>195.0</td>\n      <td>3250.0</td>\n      <td>1</td>\n      <td>False</td>\n      <td>True</td>\n    </tr>\n    <tr>\n      <th>3</th>\n      <td>Adelie</td>\n      <td>41.1</td>\n      <td>17.0</td>\n      <td>190.0</td>\n      <td>3800.0</td>\n      <td>3</td>\n      <td>False</td>\n      <td>True</td>\n    </tr>\n    <tr>\n      <th>4</th>\n      <td>Adelie</td>\n      <td>36.7</td>\n      <td>19.3</td>\n      <td>193.0</td>\n      <td>3450.0</td>\n      <td>1</td>\n      <td>False</td>\n      <td>True</td>\n    </tr>\n    <tr>\n      <th>...</th>\n      <td>...</td>\n      <td>...</td>\n      <td>...</td>\n      <td>...</td>\n      <td>...</td>\n      <td>...</td>\n      <td>...</td>\n      <td>...</td>\n    </tr>\n    <tr>\n      <th>339</th>\n      <td>Gentoo</td>\n      <td>41.1</td>\n      <td>17.0</td>\n      <td>190.0</td>\n      <td>3800.0</td>\n      <td>3</td>\n      <td>False</td>\n      <td>False</td>\n    </tr>\n    <tr>\n      <th>340</th>\n      <td>Gentoo</td>\n      <td>46.8</td>\n      <td>14.3</td>\n      <td>215.0</td>\n      <td>4850.0</td>\n      <td>1</td>\n      <td>False</td>\n      <td>False</td>\n    </tr>\n    <tr>\n      <th>341</th>\n      <td>Gentoo</td>\n      <td>50.4</td>\n      <td>15.7</td>\n      <td>222.0</td>\n      <td>5750.0</td>\n      <td>2</td>\n      <td>False</td>\n      <td>False</td>\n    </tr>\n    <tr>\n      <th>342</th>\n      <td>Gentoo</td>\n      <td>45.2</td>\n      <td>14.8</td>\n      <td>212.0</td>\n      <td>5200.0</td>\n      <td>1</td>\n      <td>False</td>\n      <td>False</td>\n    </tr>\n    <tr>\n      <th>343</th>\n      <td>Gentoo</td>\n      <td>49.9</td>\n      <td>16.1</td>\n      <td>213.0</td>\n      <td>5400.0</td>\n      <td>2</td>\n      <td>False</td>\n      <td>False</td>\n    </tr>\n  </tbody>\n</table>\n<p>344 rows × 8 columns</p>\n</div>"
     },
     "execution_count": 23,
     "metadata": {},
     "output_type": "execute_result"
    }
   ],
   "source": [
    "df2"
   ],
   "metadata": {
    "collapsed": false,
    "ExecuteTime": {
     "end_time": "2023-10-07T16:56:29.170575600Z",
     "start_time": "2023-10-07T16:56:28.933513300Z"
    }
   },
   "id": "da40b4fa71859fbb"
  },
  {
   "cell_type": "code",
   "execution_count": 24,
   "outputs": [],
   "source": [
    "target_ = df.species\n",
    "features_ = df.drop('species', axis=1)"
   ],
   "metadata": {
    "collapsed": false,
    "ExecuteTime": {
     "end_time": "2023-10-07T16:56:29.228656100Z",
     "start_time": "2023-10-07T16:56:28.962540300Z"
    }
   },
   "id": "d7c4574a5e8a0406"
  },
  {
   "cell_type": "code",
   "execution_count": 25,
   "outputs": [],
   "source": [
    "features_.drop('island', axis=1, inplace=True)"
   ],
   "metadata": {
    "collapsed": false,
    "ExecuteTime": {
     "end_time": "2023-10-07T16:56:29.243670500Z",
     "start_time": "2023-10-07T16:56:28.980557600Z"
    }
   },
   "id": "d8cc78c918dfe0a1"
  },
  {
   "cell_type": "code",
   "execution_count": 26,
   "outputs": [
    {
     "data": {
      "text/plain": "     culmen_length_mm  culmen_depth_mm  flipper_length_mm  body_mass_g  gender\n0                39.1             18.7              181.0       3750.0       2\n1                39.5             17.4              186.0       3800.0       1\n2                40.3             18.0              195.0       3250.0       1\n3                41.1             17.0              190.0       3800.0       3\n4                36.7             19.3              193.0       3450.0       1\n..                ...              ...                ...          ...     ...\n339              41.1             17.0              190.0       3800.0       3\n340              46.8             14.3              215.0       4850.0       1\n341              50.4             15.7              222.0       5750.0       2\n342              45.2             14.8              212.0       5200.0       1\n343              49.9             16.1              213.0       5400.0       2\n\n[344 rows x 5 columns]",
      "text/html": "<div>\n<style scoped>\n    .dataframe tbody tr th:only-of-type {\n        vertical-align: middle;\n    }\n\n    .dataframe tbody tr th {\n        vertical-align: top;\n    }\n\n    .dataframe thead th {\n        text-align: right;\n    }\n</style>\n<table border=\"1\" class=\"dataframe\">\n  <thead>\n    <tr style=\"text-align: right;\">\n      <th></th>\n      <th>culmen_length_mm</th>\n      <th>culmen_depth_mm</th>\n      <th>flipper_length_mm</th>\n      <th>body_mass_g</th>\n      <th>gender</th>\n    </tr>\n  </thead>\n  <tbody>\n    <tr>\n      <th>0</th>\n      <td>39.1</td>\n      <td>18.7</td>\n      <td>181.0</td>\n      <td>3750.0</td>\n      <td>2</td>\n    </tr>\n    <tr>\n      <th>1</th>\n      <td>39.5</td>\n      <td>17.4</td>\n      <td>186.0</td>\n      <td>3800.0</td>\n      <td>1</td>\n    </tr>\n    <tr>\n      <th>2</th>\n      <td>40.3</td>\n      <td>18.0</td>\n      <td>195.0</td>\n      <td>3250.0</td>\n      <td>1</td>\n    </tr>\n    <tr>\n      <th>3</th>\n      <td>41.1</td>\n      <td>17.0</td>\n      <td>190.0</td>\n      <td>3800.0</td>\n      <td>3</td>\n    </tr>\n    <tr>\n      <th>4</th>\n      <td>36.7</td>\n      <td>19.3</td>\n      <td>193.0</td>\n      <td>3450.0</td>\n      <td>1</td>\n    </tr>\n    <tr>\n      <th>...</th>\n      <td>...</td>\n      <td>...</td>\n      <td>...</td>\n      <td>...</td>\n      <td>...</td>\n    </tr>\n    <tr>\n      <th>339</th>\n      <td>41.1</td>\n      <td>17.0</td>\n      <td>190.0</td>\n      <td>3800.0</td>\n      <td>3</td>\n    </tr>\n    <tr>\n      <th>340</th>\n      <td>46.8</td>\n      <td>14.3</td>\n      <td>215.0</td>\n      <td>4850.0</td>\n      <td>1</td>\n    </tr>\n    <tr>\n      <th>341</th>\n      <td>50.4</td>\n      <td>15.7</td>\n      <td>222.0</td>\n      <td>5750.0</td>\n      <td>2</td>\n    </tr>\n    <tr>\n      <th>342</th>\n      <td>45.2</td>\n      <td>14.8</td>\n      <td>212.0</td>\n      <td>5200.0</td>\n      <td>1</td>\n    </tr>\n    <tr>\n      <th>343</th>\n      <td>49.9</td>\n      <td>16.1</td>\n      <td>213.0</td>\n      <td>5400.0</td>\n      <td>2</td>\n    </tr>\n  </tbody>\n</table>\n<p>344 rows × 5 columns</p>\n</div>"
     },
     "execution_count": 26,
     "metadata": {},
     "output_type": "execute_result"
    }
   ],
   "source": [
    "features_"
   ],
   "metadata": {
    "collapsed": false,
    "ExecuteTime": {
     "end_time": "2023-10-07T16:56:29.286709900Z",
     "start_time": "2023-10-07T16:56:28.996569900Z"
    }
   },
   "id": "2fdc2ac4268a1b18"
  },
  {
   "cell_type": "code",
   "execution_count": 27,
   "outputs": [
    {
     "data": {
      "text/plain": "array([[-0.88337514,  0.78817606, -1.41547062, -0.56245242],\n       [-0.80984515,  0.12700117, -1.05896022, -0.49987686],\n       [-0.66278518,  0.43215881, -0.41724152, -1.18820802],\n       ...,\n       [ 1.19384695, -0.73761215,  1.50791459,  1.94056999],\n       [ 0.23795714, -1.19534861,  0.79489381,  1.25223883],\n       [ 1.10193447, -0.53417372,  0.86619589,  1.50254107]])"
     },
     "execution_count": 27,
     "metadata": {},
     "output_type": "execute_result"
    }
   ],
   "source": [
    "sc = StandardScaler()\n",
    "sc.fit(features_.iloc[:,:4])\n",
    "sc.transform(features_.iloc[:, :4])"
   ],
   "metadata": {
    "collapsed": false,
    "ExecuteTime": {
     "end_time": "2023-10-07T16:56:29.296726200Z",
     "start_time": "2023-10-07T16:56:29.011519500Z"
    }
   },
   "id": "9ac7eee2a743ae91"
  },
  {
   "cell_type": "code",
   "execution_count": 28,
   "outputs": [
    {
     "data": {
      "text/plain": "0      Adelie\n1      Adelie\n2      Adelie\n3      Adelie\n4      Adelie\n        ...  \n339    Gentoo\n340    Gentoo\n341    Gentoo\n342    Gentoo\n343    Gentoo\nName: species, Length: 344, dtype: object"
     },
     "execution_count": 28,
     "metadata": {},
     "output_type": "execute_result"
    }
   ],
   "source": [
    "target_"
   ],
   "metadata": {
    "collapsed": false,
    "ExecuteTime": {
     "end_time": "2023-10-07T16:56:29.296726200Z",
     "start_time": "2023-10-07T16:56:29.027533900Z"
    }
   },
   "id": "c85f793ab0b2d974"
  },
  {
   "cell_type": "code",
   "execution_count": 29,
   "outputs": [],
   "source": [
    "target_encoded = le.fit_transform(target_)"
   ],
   "metadata": {
    "collapsed": false,
    "ExecuteTime": {
     "end_time": "2023-10-07T16:56:29.296726200Z",
     "start_time": "2023-10-07T16:56:29.042545800Z"
    }
   },
   "id": "f6757fe841477483"
  },
  {
   "cell_type": "code",
   "execution_count": 30,
   "outputs": [],
   "source": [
    "x_train, x_test, y_train, y_test = train_test_split(features_, target_encoded)"
   ],
   "metadata": {
    "collapsed": false,
    "ExecuteTime": {
     "end_time": "2023-10-07T16:56:29.296726200Z",
     "start_time": "2023-10-07T16:56:29.058560200Z"
    }
   },
   "id": "d3cb798cf30a316e"
  },
  {
   "cell_type": "code",
   "execution_count": 31,
   "outputs": [
    {
     "data": {
      "text/plain": "(258, 5)"
     },
     "execution_count": 31,
     "metadata": {},
     "output_type": "execute_result"
    }
   ],
   "source": [
    "x_train.shape"
   ],
   "metadata": {
    "collapsed": false,
    "ExecuteTime": {
     "end_time": "2023-10-07T16:56:29.297726700Z",
     "start_time": "2023-10-07T16:56:29.076576600Z"
    }
   },
   "id": "c4a128bb7063fd29"
  },
  {
   "cell_type": "code",
   "execution_count": 32,
   "outputs": [
    {
     "data": {
      "text/plain": "(86, 5)"
     },
     "execution_count": 32,
     "metadata": {},
     "output_type": "execute_result"
    }
   ],
   "source": [
    "x_test.shape"
   ],
   "metadata": {
    "collapsed": false,
    "ExecuteTime": {
     "end_time": "2023-10-07T16:56:29.297726700Z",
     "start_time": "2023-10-07T16:56:29.092591600Z"
    }
   },
   "id": "92b90faa72eac533"
  },
  {
   "cell_type": "code",
   "execution_count": 33,
   "outputs": [],
   "source": [
    "from sklearn.tree import DecisionTreeClassifier\n",
    "from sklearn.metrics import classification_report, confusion_matrix, accuracy_score"
   ],
   "metadata": {
    "collapsed": false,
    "ExecuteTime": {
     "end_time": "2023-10-07T16:56:29.461699100Z",
     "start_time": "2023-10-07T16:56:29.106604Z"
    }
   },
   "id": "77802f0617dfaa9a"
  },
  {
   "cell_type": "code",
   "execution_count": 34,
   "outputs": [
    {
     "data": {
      "text/plain": "DecisionTreeClassifier()",
      "text/html": "<style>#sk-container-id-1 {color: black;}#sk-container-id-1 pre{padding: 0;}#sk-container-id-1 div.sk-toggleable {background-color: white;}#sk-container-id-1 label.sk-toggleable__label {cursor: pointer;display: block;width: 100%;margin-bottom: 0;padding: 0.3em;box-sizing: border-box;text-align: center;}#sk-container-id-1 label.sk-toggleable__label-arrow:before {content: \"▸\";float: left;margin-right: 0.25em;color: #696969;}#sk-container-id-1 label.sk-toggleable__label-arrow:hover:before {color: black;}#sk-container-id-1 div.sk-estimator:hover label.sk-toggleable__label-arrow:before {color: black;}#sk-container-id-1 div.sk-toggleable__content {max-height: 0;max-width: 0;overflow: hidden;text-align: left;background-color: #f0f8ff;}#sk-container-id-1 div.sk-toggleable__content pre {margin: 0.2em;color: black;border-radius: 0.25em;background-color: #f0f8ff;}#sk-container-id-1 input.sk-toggleable__control:checked~div.sk-toggleable__content {max-height: 200px;max-width: 100%;overflow: auto;}#sk-container-id-1 input.sk-toggleable__control:checked~label.sk-toggleable__label-arrow:before {content: \"▾\";}#sk-container-id-1 div.sk-estimator input.sk-toggleable__control:checked~label.sk-toggleable__label {background-color: #d4ebff;}#sk-container-id-1 div.sk-label input.sk-toggleable__control:checked~label.sk-toggleable__label {background-color: #d4ebff;}#sk-container-id-1 input.sk-hidden--visually {border: 0;clip: rect(1px 1px 1px 1px);clip: rect(1px, 1px, 1px, 1px);height: 1px;margin: -1px;overflow: hidden;padding: 0;position: absolute;width: 1px;}#sk-container-id-1 div.sk-estimator {font-family: monospace;background-color: #f0f8ff;border: 1px dotted black;border-radius: 0.25em;box-sizing: border-box;margin-bottom: 0.5em;}#sk-container-id-1 div.sk-estimator:hover {background-color: #d4ebff;}#sk-container-id-1 div.sk-parallel-item::after {content: \"\";width: 100%;border-bottom: 1px solid gray;flex-grow: 1;}#sk-container-id-1 div.sk-label:hover label.sk-toggleable__label {background-color: #d4ebff;}#sk-container-id-1 div.sk-serial::before {content: \"\";position: absolute;border-left: 1px solid gray;box-sizing: border-box;top: 0;bottom: 0;left: 50%;z-index: 0;}#sk-container-id-1 div.sk-serial {display: flex;flex-direction: column;align-items: center;background-color: white;padding-right: 0.2em;padding-left: 0.2em;position: relative;}#sk-container-id-1 div.sk-item {position: relative;z-index: 1;}#sk-container-id-1 div.sk-parallel {display: flex;align-items: stretch;justify-content: center;background-color: white;position: relative;}#sk-container-id-1 div.sk-item::before, #sk-container-id-1 div.sk-parallel-item::before {content: \"\";position: absolute;border-left: 1px solid gray;box-sizing: border-box;top: 0;bottom: 0;left: 50%;z-index: -1;}#sk-container-id-1 div.sk-parallel-item {display: flex;flex-direction: column;z-index: 1;position: relative;background-color: white;}#sk-container-id-1 div.sk-parallel-item:first-child::after {align-self: flex-end;width: 50%;}#sk-container-id-1 div.sk-parallel-item:last-child::after {align-self: flex-start;width: 50%;}#sk-container-id-1 div.sk-parallel-item:only-child::after {width: 0;}#sk-container-id-1 div.sk-dashed-wrapped {border: 1px dashed gray;margin: 0 0.4em 0.5em 0.4em;box-sizing: border-box;padding-bottom: 0.4em;background-color: white;}#sk-container-id-1 div.sk-label label {font-family: monospace;font-weight: bold;display: inline-block;line-height: 1.2em;}#sk-container-id-1 div.sk-label-container {text-align: center;}#sk-container-id-1 div.sk-container {/* jupyter's `normalize.less` sets `[hidden] { display: none; }` but bootstrap.min.css set `[hidden] { display: none !important; }` so we also need the `!important` here to be able to override the default hidden behavior on the sphinx rendered scikit-learn.org. See: https://github.com/scikit-learn/scikit-learn/issues/21755 */display: inline-block !important;position: relative;}#sk-container-id-1 div.sk-text-repr-fallback {display: none;}</style><div id=\"sk-container-id-1\" class=\"sk-top-container\"><div class=\"sk-text-repr-fallback\"><pre>DecisionTreeClassifier()</pre><b>In a Jupyter environment, please rerun this cell to show the HTML representation or trust the notebook. <br />On GitHub, the HTML representation is unable to render, please try loading this page with nbviewer.org.</b></div><div class=\"sk-container\" hidden><div class=\"sk-item\"><div class=\"sk-estimator sk-toggleable\"><input class=\"sk-toggleable__control sk-hidden--visually\" id=\"sk-estimator-id-1\" type=\"checkbox\" checked><label for=\"sk-estimator-id-1\" class=\"sk-toggleable__label sk-toggleable__label-arrow\">DecisionTreeClassifier</label><div class=\"sk-toggleable__content\"><pre>DecisionTreeClassifier()</pre></div></div></div></div></div>"
     },
     "execution_count": 34,
     "metadata": {},
     "output_type": "execute_result"
    }
   ],
   "source": [
    "tree = DecisionTreeClassifier()\n",
    "tree.fit(x_train, y_train)"
   ],
   "metadata": {
    "collapsed": false,
    "ExecuteTime": {
     "end_time": "2023-10-07T16:56:29.462699600Z",
     "start_time": "2023-10-07T16:56:29.263689100Z"
    }
   },
   "id": "183d1cc3e27284a5"
  },
  {
   "cell_type": "code",
   "execution_count": 35,
   "outputs": [],
   "source": [
    "predicted = tree.predict(x_test)"
   ],
   "metadata": {
    "collapsed": false,
    "ExecuteTime": {
     "end_time": "2023-10-07T16:56:29.482717400Z",
     "start_time": "2023-10-07T16:56:29.279703900Z"
    }
   },
   "id": "717eb47b6090b37d"
  },
  {
   "cell_type": "code",
   "execution_count": 36,
   "outputs": [
    {
     "data": {
      "text/plain": "Text(50.722222222222214, 0.5, 'y_true')"
     },
     "execution_count": 36,
     "metadata": {},
     "output_type": "execute_result"
    },
    {
     "data": {
      "text/plain": "<Figure size 640x480 with 1 Axes>",
      "image/png": "[encoded data removed]"
     },
     "metadata": {},
     "output_type": "display_data"
    }
   ],
   "source": [
    "sns.heatmap(confusion_matrix(y_test, predicted), annot=True, cbar=False)\n",
    "plt.xlabel('y_pred')\n",
    "plt.ylabel('y_true')"
   ],
   "metadata": {
    "collapsed": false,
    "ExecuteTime": {
     "end_time": "2023-10-07T16:56:29.680800900Z",
     "start_time": "2023-10-07T16:56:29.295724900Z"
    }
   },
   "id": "1e09aaf7e34452c2"
  },
  {
   "cell_type": "code",
   "execution_count": 37,
   "outputs": [
    {
     "name": "stdout",
     "output_type": "stream",
     "text": [
      "              precision    recall  f1-score   support\n",
      "\n",
      "           0       0.94      0.97      0.96        35\n",
      "           1       0.95      0.90      0.92        20\n",
      "           2       0.97      0.97      0.97        31\n",
      "\n",
      "    accuracy                           0.95        86\n",
      "   macro avg       0.95      0.95      0.95        86\n",
      "weighted avg       0.95      0.95      0.95        86\n"
     ]
    }
   ],
   "source": [
    "print(classification_report(y_test, predicted))"
   ],
   "metadata": {
    "collapsed": false,
    "ExecuteTime": {
     "end_time": "2023-10-07T16:56:29.681803Z",
     "start_time": "2023-10-07T16:56:29.494730500Z"
    }
   },
   "id": "f1d3dbf32d0c3d2a"
  },
  {
   "cell_type": "code",
   "execution_count": 38,
   "outputs": [
    {
     "data": {
      "text/plain": "0.9534883720930233"
     },
     "execution_count": 38,
     "metadata": {},
     "output_type": "execute_result"
    }
   ],
   "source": [
    "tree.score(x_test, y_test)"
   ],
   "metadata": {
    "collapsed": false,
    "ExecuteTime": {
     "end_time": "2023-10-07T16:56:29.683804Z",
     "start_time": "2023-10-07T16:56:29.511745Z"
    }
   },
   "id": "30f3c6b61014d87a"
  },
  {
   "cell_type": "code",
   "execution_count": 39,
   "outputs": [
    {
     "data": {
      "text/plain": "0.9534883720930233"
     },
     "execution_count": 39,
     "metadata": {},
     "output_type": "execute_result"
    }
   ],
   "source": [
    "accuracy_score(y_test, predicted)"
   ],
   "metadata": {
    "collapsed": false,
    "ExecuteTime": {
     "end_time": "2023-10-07T16:56:29.735852400Z",
     "start_time": "2023-10-07T16:56:29.525758200Z"
    }
   },
   "id": "30e8434424fe2eb8"
  },
  {
   "cell_type": "code",
   "execution_count": 40,
   "outputs": [],
   "source": [
    "final_df = pd.concat([features_, pd.Series(target_encoded, name=\"Target\")], axis=1)"
   ],
   "metadata": {
    "collapsed": false,
    "ExecuteTime": {
     "end_time": "2023-10-07T16:56:29.763876200Z",
     "start_time": "2023-10-07T16:56:29.544850600Z"
    }
   },
   "id": "f1a8f8535c8fab51"
  },
  {
   "cell_type": "code",
   "execution_count": 41,
   "outputs": [],
   "source": [
    "final_df.to_csv('final_penguins_df.csv', index=False,encoding='utf-8')"
   ],
   "metadata": {
    "collapsed": false,
    "ExecuteTime": {
     "end_time": "2023-10-07T16:56:29.763876200Z",
     "start_time": "2023-10-07T16:56:29.559865900Z"
    }
   },
   "id": "80ab7a8917417bf4"
  }
 ],
 "metadata": {
  "kernelspec": {
   "display_name": "Python 3",
   "language": "python",
   "name": "python3"
  },
  "language_info": {
   "codemirror_mode": {
    "name": "ipython",
    "version": 2
   },
   "file_extension": ".py",
   "mimetype": "text/x-python",
   "name": "python",
   "nbconvert_exporter": "python",
   "pygments_lexer": "ipython2",
   "version": "2.7.6"
  }
 },
 "nbformat": 4,
 "nbformat_minor": 5
}
