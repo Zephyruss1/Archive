{
 "cells": [
  {
   "cell_type": "code",
   "execution_count": 350,
   "id": "initial_id",
   "metadata": {
    "collapsed": true,
    "ExecuteTime": {
     "end_time": "2023-10-09T15:58:26.296945700Z",
     "start_time": "2023-10-09T15:58:25.938618100Z"
    }
   },
   "outputs": [],
   "source": [
    "import pandas as pd\n",
    "import numpy as np"
   ]
  },
  {
   "cell_type": "code",
   "execution_count": 351,
   "outputs": [
    {
     "data": {
      "text/plain": "        _unit_id  _golden _unit_state  _trusted_judgments _last_judgment_at  \\\n0      815719226    False   finalized                   3    10/26/15 23:24   \n1      815719227    False   finalized                   3    10/26/15 23:30   \n2      815719228    False   finalized                   3    10/26/15 23:33   \n3      815719229    False   finalized                   3    10/26/15 23:10   \n4      815719230    False   finalized                   3     10/27/15 1:15   \n...          ...      ...         ...                 ...               ...   \n20045  815757572     True      golden                 259               NaN   \n20046  815757681     True      golden                 248               NaN   \n20047  815757830     True      golden                 264               NaN   \n20048  815757921     True      golden                 250               NaN   \n20049  815757985     True      golden                 249               NaN   \n\n       gender  gender:confidence profile_yn  profile_yn:confidence  \\\n0        male             1.0000        yes                    1.0   \n1        male             1.0000        yes                    1.0   \n2        male             0.6625        yes                    1.0   \n3        male             1.0000        yes                    1.0   \n4      female             1.0000        yes                    1.0   \n...       ...                ...        ...                    ...   \n20045  female             1.0000        yes                    1.0   \n20046    male             1.0000        yes                    1.0   \n20047    male             1.0000        yes                    1.0   \n20048  female             0.8489        yes                    1.0   \n20049  female             1.0000        yes                    1.0   \n\n              created  ...                                       profileimage  \\\n0        12/5/13 1:48  ...  https://pbs.twimg.com/profile_images/414342229...   \n1       10/1/12 13:51  ...  https://pbs.twimg.com/profile_images/539604221...   \n2      11/28/14 11:30  ...  https://pbs.twimg.com/profile_images/657330418...   \n3       6/11/09 22:39  ...  https://pbs.twimg.com/profile_images/259703936...   \n4       4/16/14 13:23  ...  https://pbs.twimg.com/profile_images/564094871...   \n...               ...  ...                                                ...   \n20045    8/5/15 21:16  ...  https://pbs.twimg.com/profile_images/656793310...   \n20046   8/15/12 21:17  ...  https://pbs.twimg.com/profile_images/639815429...   \n20047     9/3/12 1:17  ...  https://pbs.twimg.com/profile_images/655473271...   \n20048   11/6/12 23:46  ...  https://pbs.twimg.com/profile_images/657716093...   \n20049   4/14/14 17:22  ...  https://pbs.twimg.com/profile_images/655134724...   \n\n       retweet_count sidebar_color  \\\n0                  0        FFFFFF   \n1                  0        C0DEED   \n2                  1        C0DEED   \n3                  0        C0DEED   \n4                  0             0   \n...              ...           ...   \n20045              0        C0DEED   \n20046              0             0   \n20047              0        C0DEED   \n20048              0             0   \n20049              0        C0DEED   \n\n                                                    text tweet_coord  \\\n0      Robbie E Responds To Critics After Win Against...         NaN   \n1      ÛÏIt felt like they were my friends and I was...         NaN   \n2      i absolutely adore when louis starts the songs...         NaN   \n3      Hi @JordanSpieth - Looking at the url - do you...         NaN   \n4      Watching Neighbours on Sky+ catching up with t...         NaN   \n...                                                  ...         ...   \n20045  @lookupondeath ...Fine, and I'll drink tea too...         NaN   \n20046  Greg Hardy you a good player and all but don't...         NaN   \n20047  You can miss people and still never want to se...         NaN   \n20048  @bitemyapp i had noticed your tendency to pee ...         NaN   \n20049  I think for my APUSH creative project I'm goin...         NaN   \n\n      tweet_count   tweet_created      tweet_id      tweet_location  \\\n0          110964  10/26/15 12:40  6.587300e+17     main; @Kan1shk3   \n1            7471  10/26/15 12:40  6.587300e+17                 NaN   \n2            5617  10/26/15 12:40  6.587300e+17              clcncl   \n3            1693  10/26/15 12:40  6.587300e+17       Palo Alto, CA   \n4           31462  10/26/15 12:40  6.587300e+17                 NaN   \n...           ...             ...           ...                 ...   \n20045         783  10/26/15 13:20  6.587400e+17          Verona ªÁ   \n20046       13523  10/26/15 12:40  6.587300e+17     Kansas City, MO   \n20047       26419  10/26/15 13:20  6.587400e+17      Lagos Nigeria    \n20048       56073  10/26/15 12:40  6.587300e+17  Texas Hill Country   \n20049        2922  10/26/15 13:19  6.587400e+17                 NaN   \n\n                    user_timezone  \n0                         Chennai  \n1      Eastern Time (US & Canada)  \n2                        Belgrade  \n3      Pacific Time (US & Canada)  \n4                             NaN  \n...                           ...  \n20045                         NaN  \n20046                         NaN  \n20047                         NaN  \n20048                         NaN  \n20049                         NaN  \n\n[20050 rows x 26 columns]",
      "text/html": "<div>\n<style scoped>\n    .dataframe tbody tr th:only-of-type {\n        vertical-align: middle;\n    }\n\n    .dataframe tbody tr th {\n        vertical-align: top;\n    }\n\n    .dataframe thead th {\n        text-align: right;\n    }\n</style>\n<table border=\"1\" class=\"dataframe\">\n  <thead>\n    <tr style=\"text-align: right;\">\n      <th></th>\n      <th>_unit_id</th>\n      <th>_golden</th>\n      <th>_unit_state</th>\n      <th>_trusted_judgments</th>\n      <th>_last_judgment_at</th>\n      <th>gender</th>\n      <th>gender:confidence</th>\n      <th>profile_yn</th>\n      <th>profile_yn:confidence</th>\n      <th>created</th>\n      <th>...</th>\n      <th>profileimage</th>\n      <th>retweet_count</th>\n      <th>sidebar_color</th>\n      <th>text</th>\n      <th>tweet_coord</th>\n      <th>tweet_count</th>\n      <th>tweet_created</th>\n      <th>tweet_id</th>\n      <th>tweet_location</th>\n      <th>user_timezone</th>\n    </tr>\n  </thead>\n  <tbody>\n    <tr>\n      <th>0</th>\n      <td>815719226</td>\n      <td>False</td>\n      <td>finalized</td>\n      <td>3</td>\n      <td>10/26/15 23:24</td>\n      <td>male</td>\n      <td>1.0000</td>\n      <td>yes</td>\n      <td>1.0</td>\n      <td>12/5/13 1:48</td>\n      <td>...</td>\n      <td>https://pbs.twimg.com/profile_images/414342229...</td>\n      <td>0</td>\n      <td>FFFFFF</td>\n      <td>Robbie E Responds To Critics After Win Against...</td>\n      <td>NaN</td>\n      <td>110964</td>\n      <td>10/26/15 12:40</td>\n      <td>6.587300e+17</td>\n      <td>main; @Kan1shk3</td>\n      <td>Chennai</td>\n    </tr>\n    <tr>\n      <th>1</th>\n      <td>815719227</td>\n      <td>False</td>\n      <td>finalized</td>\n      <td>3</td>\n      <td>10/26/15 23:30</td>\n      <td>male</td>\n      <td>1.0000</td>\n      <td>yes</td>\n      <td>1.0</td>\n      <td>10/1/12 13:51</td>\n      <td>...</td>\n      <td>https://pbs.twimg.com/profile_images/539604221...</td>\n      <td>0</td>\n      <td>C0DEED</td>\n      <td>ÛÏIt felt like they were my friends and I was...</td>\n      <td>NaN</td>\n      <td>7471</td>\n      <td>10/26/15 12:40</td>\n      <td>6.587300e+17</td>\n      <td>NaN</td>\n      <td>Eastern Time (US &amp; Canada)</td>\n    </tr>\n    <tr>\n      <th>2</th>\n      <td>815719228</td>\n      <td>False</td>\n      <td>finalized</td>\n      <td>3</td>\n      <td>10/26/15 23:33</td>\n      <td>male</td>\n      <td>0.6625</td>\n      <td>yes</td>\n      <td>1.0</td>\n      <td>11/28/14 11:30</td>\n      <td>...</td>\n      <td>https://pbs.twimg.com/profile_images/657330418...</td>\n      <td>1</td>\n      <td>C0DEED</td>\n      <td>i absolutely adore when louis starts the songs...</td>\n      <td>NaN</td>\n      <td>5617</td>\n      <td>10/26/15 12:40</td>\n      <td>6.587300e+17</td>\n      <td>clcncl</td>\n      <td>Belgrade</td>\n    </tr>\n    <tr>\n      <th>3</th>\n      <td>815719229</td>\n      <td>False</td>\n      <td>finalized</td>\n      <td>3</td>\n      <td>10/26/15 23:10</td>\n      <td>male</td>\n      <td>1.0000</td>\n      <td>yes</td>\n      <td>1.0</td>\n      <td>6/11/09 22:39</td>\n      <td>...</td>\n      <td>https://pbs.twimg.com/profile_images/259703936...</td>\n      <td>0</td>\n      <td>C0DEED</td>\n      <td>Hi @JordanSpieth - Looking at the url - do you...</td>\n      <td>NaN</td>\n      <td>1693</td>\n      <td>10/26/15 12:40</td>\n      <td>6.587300e+17</td>\n      <td>Palo Alto, CA</td>\n      <td>Pacific Time (US &amp; Canada)</td>\n    </tr>\n    <tr>\n      <th>4</th>\n      <td>815719230</td>\n      <td>False</td>\n      <td>finalized</td>\n      <td>3</td>\n      <td>10/27/15 1:15</td>\n      <td>female</td>\n      <td>1.0000</td>\n      <td>yes</td>\n      <td>1.0</td>\n      <td>4/16/14 13:23</td>\n      <td>...</td>\n      <td>https://pbs.twimg.com/profile_images/564094871...</td>\n      <td>0</td>\n      <td>0</td>\n      <td>Watching Neighbours on Sky+ catching up with t...</td>\n      <td>NaN</td>\n      <td>31462</td>\n      <td>10/26/15 12:40</td>\n      <td>6.587300e+17</td>\n      <td>NaN</td>\n      <td>NaN</td>\n    </tr>\n    <tr>\n      <th>...</th>\n      <td>...</td>\n      <td>...</td>\n      <td>...</td>\n      <td>...</td>\n      <td>...</td>\n      <td>...</td>\n      <td>...</td>\n      <td>...</td>\n      <td>...</td>\n      <td>...</td>\n      <td>...</td>\n      <td>...</td>\n      <td>...</td>\n      <td>...</td>\n      <td>...</td>\n      <td>...</td>\n      <td>...</td>\n      <td>...</td>\n      <td>...</td>\n      <td>...</td>\n      <td>...</td>\n    </tr>\n    <tr>\n      <th>20045</th>\n      <td>815757572</td>\n      <td>True</td>\n      <td>golden</td>\n      <td>259</td>\n      <td>NaN</td>\n      <td>female</td>\n      <td>1.0000</td>\n      <td>yes</td>\n      <td>1.0</td>\n      <td>8/5/15 21:16</td>\n      <td>...</td>\n      <td>https://pbs.twimg.com/profile_images/656793310...</td>\n      <td>0</td>\n      <td>C0DEED</td>\n      <td>@lookupondeath ...Fine, and I'll drink tea too...</td>\n      <td>NaN</td>\n      <td>783</td>\n      <td>10/26/15 13:20</td>\n      <td>6.587400e+17</td>\n      <td>Verona ªÁ</td>\n      <td>NaN</td>\n    </tr>\n    <tr>\n      <th>20046</th>\n      <td>815757681</td>\n      <td>True</td>\n      <td>golden</td>\n      <td>248</td>\n      <td>NaN</td>\n      <td>male</td>\n      <td>1.0000</td>\n      <td>yes</td>\n      <td>1.0</td>\n      <td>8/15/12 21:17</td>\n      <td>...</td>\n      <td>https://pbs.twimg.com/profile_images/639815429...</td>\n      <td>0</td>\n      <td>0</td>\n      <td>Greg Hardy you a good player and all but don't...</td>\n      <td>NaN</td>\n      <td>13523</td>\n      <td>10/26/15 12:40</td>\n      <td>6.587300e+17</td>\n      <td>Kansas City, MO</td>\n      <td>NaN</td>\n    </tr>\n    <tr>\n      <th>20047</th>\n      <td>815757830</td>\n      <td>True</td>\n      <td>golden</td>\n      <td>264</td>\n      <td>NaN</td>\n      <td>male</td>\n      <td>1.0000</td>\n      <td>yes</td>\n      <td>1.0</td>\n      <td>9/3/12 1:17</td>\n      <td>...</td>\n      <td>https://pbs.twimg.com/profile_images/655473271...</td>\n      <td>0</td>\n      <td>C0DEED</td>\n      <td>You can miss people and still never want to se...</td>\n      <td>NaN</td>\n      <td>26419</td>\n      <td>10/26/15 13:20</td>\n      <td>6.587400e+17</td>\n      <td>Lagos Nigeria</td>\n      <td>NaN</td>\n    </tr>\n    <tr>\n      <th>20048</th>\n      <td>815757921</td>\n      <td>True</td>\n      <td>golden</td>\n      <td>250</td>\n      <td>NaN</td>\n      <td>female</td>\n      <td>0.8489</td>\n      <td>yes</td>\n      <td>1.0</td>\n      <td>11/6/12 23:46</td>\n      <td>...</td>\n      <td>https://pbs.twimg.com/profile_images/657716093...</td>\n      <td>0</td>\n      <td>0</td>\n      <td>@bitemyapp i had noticed your tendency to pee ...</td>\n      <td>NaN</td>\n      <td>56073</td>\n      <td>10/26/15 12:40</td>\n      <td>6.587300e+17</td>\n      <td>Texas Hill Country</td>\n      <td>NaN</td>\n    </tr>\n    <tr>\n      <th>20049</th>\n      <td>815757985</td>\n      <td>True</td>\n      <td>golden</td>\n      <td>249</td>\n      <td>NaN</td>\n      <td>female</td>\n      <td>1.0000</td>\n      <td>yes</td>\n      <td>1.0</td>\n      <td>4/14/14 17:22</td>\n      <td>...</td>\n      <td>https://pbs.twimg.com/profile_images/655134724...</td>\n      <td>0</td>\n      <td>C0DEED</td>\n      <td>I think for my APUSH creative project I'm goin...</td>\n      <td>NaN</td>\n      <td>2922</td>\n      <td>10/26/15 13:19</td>\n      <td>6.587400e+17</td>\n      <td>NaN</td>\n      <td>NaN</td>\n    </tr>\n  </tbody>\n</table>\n<p>20050 rows × 26 columns</p>\n</div>"
     },
     "execution_count": 351,
     "metadata": {},
     "output_type": "execute_result"
    }
   ],
   "source": [
    "df = pd.read_csv(r'gender_classifier.csv', encoding='latin1')\n",
    "df"
   ],
   "metadata": {
    "collapsed": false,
    "ExecuteTime": {
     "end_time": "2023-10-09T15:58:26.298946900Z",
     "start_time": "2023-10-09T15:58:25.955634300Z"
    }
   },
   "id": "b32de5461da808ad"
  },
  {
   "cell_type": "code",
   "execution_count": 352,
   "outputs": [],
   "source": [
    "df = pd.concat([df.gender, df.description], axis=1)"
   ],
   "metadata": {
    "collapsed": false,
    "ExecuteTime": {
     "end_time": "2023-10-09T15:58:26.298946900Z",
     "start_time": "2023-10-09T15:58:26.156818Z"
    }
   },
   "id": "946f41a78f11f1b9"
  },
  {
   "cell_type": "code",
   "execution_count": 353,
   "outputs": [
    {
     "data": {
      "text/plain": "       gender                                        description\n0        male                              i sing my own rhythm.\n1        male  I'm the author of novels filled with family dr...\n2        male                louis whining and squealing and all\n3        male  Mobile guy.  49ers, Shazam, Google, Kleiner Pe...\n4      female  Ricky Wilson The Best FRONTMAN/Kaiser Chiefs T...\n...       ...                                                ...\n20045  female                                               (rp)\n20046    male  Whatever you like, it's not a problem at all. ...\n20047    male  #TeamBarcelona ..You look lost so you should f...\n20048  female  Anti-statist; I homeschool my kids. Aspiring t...\n20049  female                     Teamwork makes the dream work.\n\n[20050 rows x 2 columns]",
      "text/html": "<div>\n<style scoped>\n    .dataframe tbody tr th:only-of-type {\n        vertical-align: middle;\n    }\n\n    .dataframe tbody tr th {\n        vertical-align: top;\n    }\n\n    .dataframe thead th {\n        text-align: right;\n    }\n</style>\n<table border=\"1\" class=\"dataframe\">\n  <thead>\n    <tr style=\"text-align: right;\">\n      <th></th>\n      <th>gender</th>\n      <th>description</th>\n    </tr>\n  </thead>\n  <tbody>\n    <tr>\n      <th>0</th>\n      <td>male</td>\n      <td>i sing my own rhythm.</td>\n    </tr>\n    <tr>\n      <th>1</th>\n      <td>male</td>\n      <td>I'm the author of novels filled with family dr...</td>\n    </tr>\n    <tr>\n      <th>2</th>\n      <td>male</td>\n      <td>louis whining and squealing and all</td>\n    </tr>\n    <tr>\n      <th>3</th>\n      <td>male</td>\n      <td>Mobile guy.  49ers, Shazam, Google, Kleiner Pe...</td>\n    </tr>\n    <tr>\n      <th>4</th>\n      <td>female</td>\n      <td>Ricky Wilson The Best FRONTMAN/Kaiser Chiefs T...</td>\n    </tr>\n    <tr>\n      <th>...</th>\n      <td>...</td>\n      <td>...</td>\n    </tr>\n    <tr>\n      <th>20045</th>\n      <td>female</td>\n      <td>(rp)</td>\n    </tr>\n    <tr>\n      <th>20046</th>\n      <td>male</td>\n      <td>Whatever you like, it's not a problem at all. ...</td>\n    </tr>\n    <tr>\n      <th>20047</th>\n      <td>male</td>\n      <td>#TeamBarcelona ..You look lost so you should f...</td>\n    </tr>\n    <tr>\n      <th>20048</th>\n      <td>female</td>\n      <td>Anti-statist; I homeschool my kids. Aspiring t...</td>\n    </tr>\n    <tr>\n      <th>20049</th>\n      <td>female</td>\n      <td>Teamwork makes the dream work.</td>\n    </tr>\n  </tbody>\n</table>\n<p>20050 rows × 2 columns</p>\n</div>"
     },
     "execution_count": 353,
     "metadata": {},
     "output_type": "execute_result"
    }
   ],
   "source": [
    "df"
   ],
   "metadata": {
    "collapsed": false,
    "ExecuteTime": {
     "end_time": "2023-10-09T15:58:26.299947Z",
     "start_time": "2023-10-09T15:58:26.172831100Z"
    }
   },
   "id": "299af1f5b646f9d2"
  },
  {
   "cell_type": "code",
   "execution_count": 354,
   "outputs": [
    {
     "data": {
      "text/plain": "             null_count null_percent\ngender               97         0.5%\ndescription        3744        18.7%",
      "text/html": "<div>\n<style scoped>\n    .dataframe tbody tr th:only-of-type {\n        vertical-align: middle;\n    }\n\n    .dataframe tbody tr th {\n        vertical-align: top;\n    }\n\n    .dataframe thead th {\n        text-align: right;\n    }\n</style>\n<table border=\"1\" class=\"dataframe\">\n  <thead>\n    <tr style=\"text-align: right;\">\n      <th></th>\n      <th>null_count</th>\n      <th>null_percent</th>\n    </tr>\n  </thead>\n  <tbody>\n    <tr>\n      <th>gender</th>\n      <td>97</td>\n      <td>0.5%</td>\n    </tr>\n    <tr>\n      <th>description</th>\n      <td>3744</td>\n      <td>18.7%</td>\n    </tr>\n  </tbody>\n</table>\n</div>"
     },
     "execution_count": 354,
     "metadata": {},
     "output_type": "execute_result"
    }
   ],
   "source": [
    "def print_percent_null(data):\n",
    "    null_count = data.isna().sum()\n",
    "    null_percent = data.isna().sum() / len(data)\n",
    "    null_percent = null_percent.apply(lambda x: f\"{x:.1%}\")\n",
    "    result = pd.concat([null_count, null_percent], axis=1)\n",
    "    result.columns = ['null_count', 'null_percent']\n",
    "    return result\n",
    "print_percent_null(df)"
   ],
   "metadata": {
    "collapsed": false,
    "ExecuteTime": {
     "end_time": "2023-10-09T15:58:26.299947Z",
     "start_time": "2023-10-09T15:58:26.189846100Z"
    }
   },
   "id": "104fdc9fac80e44a"
  },
  {
   "cell_type": "code",
   "execution_count": 355,
   "outputs": [
    {
     "data": {
      "text/plain": "gender\nfemale     6700\nmale       6194\nbrand      5942\nunknown    1117\nName: count, dtype: int64"
     },
     "execution_count": 355,
     "metadata": {},
     "output_type": "execute_result"
    }
   ],
   "source": [
    "df['gender'].value_counts()"
   ],
   "metadata": {
    "collapsed": false,
    "ExecuteTime": {
     "end_time": "2023-10-09T15:58:26.299947Z",
     "start_time": "2023-10-09T15:58:26.204862Z"
    }
   },
   "id": "f2c1267fbd58698b"
  },
  {
   "cell_type": "code",
   "execution_count": 356,
   "outputs": [],
   "source": [
    "df.dropna(axis = 0, inplace=True)\n",
    "df = df.drop(df[df['gender'] == 'unknown'].index)\n",
    "df = df.drop(df[df['gender'] == 'brand'].index)"
   ],
   "metadata": {
    "collapsed": false,
    "ExecuteTime": {
     "end_time": "2023-10-09T15:58:26.300948800Z",
     "start_time": "2023-10-09T15:58:26.221876900Z"
    }
   },
   "id": "84cefa9fe9fa3b1b"
  },
  {
   "cell_type": "code",
   "execution_count": 357,
   "outputs": [
    {
     "data": {
      "text/plain": "             null_count null_percent\ngender                0         0.0%\ndescription           0         0.0%",
      "text/html": "<div>\n<style scoped>\n    .dataframe tbody tr th:only-of-type {\n        vertical-align: middle;\n    }\n\n    .dataframe tbody tr th {\n        vertical-align: top;\n    }\n\n    .dataframe thead th {\n        text-align: right;\n    }\n</style>\n<table border=\"1\" class=\"dataframe\">\n  <thead>\n    <tr style=\"text-align: right;\">\n      <th></th>\n      <th>null_count</th>\n      <th>null_percent</th>\n    </tr>\n  </thead>\n  <tbody>\n    <tr>\n      <th>gender</th>\n      <td>0</td>\n      <td>0.0%</td>\n    </tr>\n    <tr>\n      <th>description</th>\n      <td>0</td>\n      <td>0.0%</td>\n    </tr>\n  </tbody>\n</table>\n</div>"
     },
     "execution_count": 357,
     "metadata": {},
     "output_type": "execute_result"
    }
   ],
   "source": [
    "print_percent_null(df)"
   ],
   "metadata": {
    "collapsed": false,
    "ExecuteTime": {
     "end_time": "2023-10-09T15:58:26.300948800Z",
     "start_time": "2023-10-09T15:58:26.237890800Z"
    }
   },
   "id": "96e2643f24d1d639"
  },
  {
   "cell_type": "code",
   "execution_count": 358,
   "outputs": [],
   "source": [
    "from sklearn.preprocessing import LabelEncoder"
   ],
   "metadata": {
    "collapsed": false,
    "ExecuteTime": {
     "end_time": "2023-10-09T15:58:26.300948800Z",
     "start_time": "2023-10-09T15:58:26.253906800Z"
    }
   },
   "id": "e120ea88b14661a3"
  },
  {
   "cell_type": "code",
   "execution_count": 359,
   "outputs": [],
   "source": [
    "le = LabelEncoder()\n",
    "df['gender'] = le.fit_transform(df['gender'])"
   ],
   "metadata": {
    "collapsed": false,
    "ExecuteTime": {
     "end_time": "2023-10-09T15:58:26.301949900Z",
     "start_time": "2023-10-09T15:58:26.270919700Z"
    }
   },
   "id": "2a46357a5f63c315"
  },
  {
   "cell_type": "code",
   "execution_count": 360,
   "outputs": [
    {
     "data": {
      "text/plain": "gender\n0    5725\n1    5469\nName: count, dtype: int64"
     },
     "execution_count": 360,
     "metadata": {},
     "output_type": "execute_result"
    }
   ],
   "source": [
    "df.gender.value_counts()"
   ],
   "metadata": {
    "collapsed": false,
    "ExecuteTime": {
     "end_time": "2023-10-09T15:58:26.338983900Z",
     "start_time": "2023-10-09T15:58:26.284933500Z"
    }
   },
   "id": "ae9d067aad97e039"
  },
  {
   "cell_type": "code",
   "execution_count": 361,
   "outputs": [],
   "source": [
    "import re"
   ],
   "metadata": {
    "collapsed": false,
    "ExecuteTime": {
     "end_time": "2023-10-09T15:58:26.344987900Z",
     "start_time": "2023-10-09T15:58:26.301949900Z"
    }
   },
   "id": "624327ee66e32871"
  },
  {
   "cell_type": "code",
   "execution_count": 362,
   "outputs": [
    {
     "data": {
      "text/plain": "'ricky wilson the best frontman kaiser chiefs the best band xxxx thank you kaiser chiefs for an incredible year of gigs and memories to cherish always    xxxxxxx'"
     },
     "execution_count": 362,
     "metadata": {},
     "output_type": "execute_result"
    }
   ],
   "source": [
    "first_description = df.description[4]\n",
    "description = re.sub(\"[^a-zA-Z]\", \" \", first_description)\n",
    "description = description.lower()\n",
    "description"
   ],
   "metadata": {
    "collapsed": false,
    "ExecuteTime": {
     "end_time": "2023-10-09T15:58:26.397034900Z",
     "start_time": "2023-10-09T15:58:26.317964Z"
    }
   },
   "id": "9f391e84e4834b1a"
  },
  {
   "cell_type": "code",
   "execution_count": 363,
   "outputs": [
    {
     "name": "stdout",
     "output_type": "stream",
     "text": [
      "Requirement already satisfied: nltk in c:\\users\\ekber\\appdata\\local\\programs\\python\\python310\\lib\\site-packages (3.8.1)\n",
      "Requirement already satisfied: click in c:\\users\\ekber\\appdata\\local\\programs\\python\\python310\\lib\\site-packages (from nltk) (8.1.7)\n",
      "Requirement already satisfied: joblib in c:\\users\\ekber\\appdata\\local\\programs\\python\\python310\\lib\\site-packages (from nltk) (1.3.2)\n",
      "Requirement already satisfied: regex>=2021.8.3 in c:\\users\\ekber\\appdata\\local\\programs\\python\\python310\\lib\\site-packages (from nltk) (2023.10.3)\n",
      "Requirement already satisfied: tqdm in c:\\users\\ekber\\appdata\\local\\programs\\python\\python310\\lib\\site-packages (from nltk) (4.66.1)\n",
      "Requirement already satisfied: colorama in c:\\users\\ekber\\appdata\\local\\programs\\python\\python310\\lib\\site-packages (from click->nltk) (0.4.6)\n"
     ]
    }
   ],
   "source": [
    "!pip install nltk"
   ],
   "metadata": {
    "collapsed": false,
    "ExecuteTime": {
     "end_time": "2023-10-09T15:58:29.056993700Z",
     "start_time": "2023-10-09T15:58:26.336982100Z"
    }
   },
   "id": "ce5215c86f26c858"
  },
  {
   "cell_type": "code",
   "execution_count": 364,
   "outputs": [],
   "source": [
    "import nltk"
   ],
   "metadata": {
    "collapsed": false,
    "ExecuteTime": {
     "end_time": "2023-10-09T15:58:29.100975400Z",
     "start_time": "2023-10-09T15:58:29.056993700Z"
    }
   },
   "id": "ae9297a97209852e"
  },
  {
   "cell_type": "code",
   "execution_count": 365,
   "outputs": [
    {
     "name": "stderr",
     "output_type": "stream",
     "text": [
      "[nltk_data] Downloading package stopwords to\n",
      "[nltk_data]     C:\\Users\\ekber\\AppData\\Roaming\\nltk_data...\n",
      "[nltk_data]   Package stopwords is already up-to-date!\n"
     ]
    },
    {
     "data": {
      "text/plain": "True"
     },
     "execution_count": 365,
     "metadata": {},
     "output_type": "execute_result"
    }
   ],
   "source": [
    "nltk.download('stopwords')"
   ],
   "metadata": {
    "collapsed": false,
    "ExecuteTime": {
     "end_time": "2023-10-09T15:58:29.114988700Z",
     "start_time": "2023-10-09T15:58:29.072190200Z"
    }
   },
   "id": "e6d8a11ba6a491dd"
  },
  {
   "cell_type": "code",
   "execution_count": 366,
   "outputs": [],
   "source": [
    "from nltk.corpus import stopwords"
   ],
   "metadata": {
    "collapsed": false,
    "ExecuteTime": {
     "end_time": "2023-10-09T15:58:29.115989200Z",
     "start_time": "2023-10-09T15:58:29.090207100Z"
    }
   },
   "id": "3bea710a065e9645"
  },
  {
   "cell_type": "code",
   "execution_count": 367,
   "outputs": [],
   "source": [
    "description = nltk.wordpunct_tokenize(description)"
   ],
   "metadata": {
    "collapsed": false,
    "ExecuteTime": {
     "end_time": "2023-10-09T15:58:29.131003400Z",
     "start_time": "2023-10-09T15:58:29.103979800Z"
    }
   },
   "id": "3ccfcf788bc88fea"
  },
  {
   "cell_type": "code",
   "execution_count": 368,
   "outputs": [],
   "source": [
    "description = [word for word in description if not word in set(stopwords.words('english'))]"
   ],
   "metadata": {
    "collapsed": false,
    "ExecuteTime": {
     "end_time": "2023-10-09T15:58:29.181036Z",
     "start_time": "2023-10-09T15:58:29.119993800Z"
    }
   },
   "id": "bdb5dd3eac405771"
  },
  {
   "cell_type": "code",
   "execution_count": 369,
   "outputs": [
    {
     "name": "stderr",
     "output_type": "stream",
     "text": [
      "[nltk_data] Downloading package wordnet to\n",
      "[nltk_data]     C:\\Users\\ekber\\AppData\\Roaming\\nltk_data...\n",
      "[nltk_data]   Package wordnet is already up-to-date!\n"
     ]
    },
    {
     "data": {
      "text/plain": "True"
     },
     "execution_count": 369,
     "metadata": {},
     "output_type": "execute_result"
    }
   ],
   "source": [
    "nltk.download('wordnet')"
   ],
   "metadata": {
    "collapsed": false,
    "ExecuteTime": {
     "end_time": "2023-10-09T15:58:29.195051400Z",
     "start_time": "2023-10-09T15:58:29.136009600Z"
    }
   },
   "id": "96c282a334b1dab"
  },
  {
   "cell_type": "code",
   "execution_count": 370,
   "outputs": [],
   "source": [
    "lemma = nltk.WordNetLemmatizer()\n",
    "description = [lemma.lemmatize(word) for word in description]"
   ],
   "metadata": {
    "collapsed": false,
    "ExecuteTime": {
     "end_time": "2023-10-09T15:58:29.195051400Z",
     "start_time": "2023-10-09T15:58:29.152023500Z"
    }
   },
   "id": "129d3c5f7e73b504"
  },
  {
   "cell_type": "code",
   "execution_count": 371,
   "outputs": [
    {
     "data": {
      "text/plain": "['ricky',\n 'wilson',\n 'best',\n 'frontman',\n 'kaiser',\n 'chief',\n 'best',\n 'band',\n 'xxxx',\n 'thank',\n 'kaiser',\n 'chief',\n 'incredible',\n 'year',\n 'gig',\n 'memory',\n 'cherish',\n 'always',\n 'xxxxxxx']"
     },
     "execution_count": 371,
     "metadata": {},
     "output_type": "execute_result"
    }
   ],
   "source": [
    "description"
   ],
   "metadata": {
    "collapsed": false,
    "ExecuteTime": {
     "end_time": "2023-10-09T15:58:29.197052200Z",
     "start_time": "2023-10-09T15:58:29.168039200Z"
    }
   },
   "id": "60feb4b9b1de71bc"
  },
  {
   "cell_type": "code",
   "execution_count": 372,
   "outputs": [],
   "source": [
    "description = \" \".join(description)"
   ],
   "metadata": {
    "collapsed": false,
    "ExecuteTime": {
     "end_time": "2023-10-09T15:58:29.216070400Z",
     "start_time": "2023-10-09T15:58:29.184041300Z"
    }
   },
   "id": "216e4741f0fbb086"
  },
  {
   "cell_type": "code",
   "execution_count": 373,
   "outputs": [
    {
     "data": {
      "text/plain": "'ricky wilson best frontman kaiser chief best band xxxx thank kaiser chief incredible year gig memory cherish always xxxxxxx'"
     },
     "execution_count": 373,
     "metadata": {},
     "output_type": "execute_result"
    }
   ],
   "source": [
    "description"
   ],
   "metadata": {
    "collapsed": false,
    "ExecuteTime": {
     "end_time": "2023-10-09T15:58:29.276124100Z",
     "start_time": "2023-10-09T15:58:29.199054600Z"
    }
   },
   "id": "69542a153696d1c"
  },
  {
   "cell_type": "code",
   "execution_count": 374,
   "outputs": [
    {
     "name": "stderr",
     "output_type": "stream",
     "text": [
      "[nltk_data] Downloading package punkt to\n",
      "[nltk_data]     C:\\Users\\ekber\\AppData\\Roaming\\nltk_data...\n",
      "[nltk_data]   Package punkt is already up-to-date!\n"
     ]
    },
    {
     "data": {
      "text/plain": "True"
     },
     "execution_count": 374,
     "metadata": {},
     "output_type": "execute_result"
    }
   ],
   "source": [
    "nltk.download('punkt')"
   ],
   "metadata": {
    "collapsed": false,
    "ExecuteTime": {
     "end_time": "2023-10-09T15:58:29.292139500Z",
     "start_time": "2023-10-09T15:58:29.215068Z"
    }
   },
   "id": "2ede5b3a589fe545"
  },
  {
   "cell_type": "code",
   "execution_count": 375,
   "outputs": [],
   "source": [
    "description_list = []\n",
    "for description in df.description:\n",
    "    description = re.sub(\"[^a-zA-Z]\", \" \", first_description)\n",
    "    description = description.lower()\n",
    "    description = nltk.word_tokenize(description)\n",
    "    #description = [word for word in description if not word in set(stopwords.words('english'))]\n",
    "    lemma = nltk.WordNetLemmatizer()\n",
    "    description = [lemma.lemmatize(word) for word in description]\n",
    "    description = ' '.join(description)\n",
    "    description_list.append(description)"
   ],
   "metadata": {
    "collapsed": false,
    "ExecuteTime": {
     "end_time": "2023-10-09T15:58:32.180576800Z",
     "start_time": "2023-10-09T15:58:29.231084100Z"
    }
   },
   "id": "76f499c08c9f4919"
  },
  {
   "cell_type": "code",
   "execution_count": 376,
   "outputs": [],
   "source": [
    "from sklearn.feature_extraction.text import CountVectorizer"
   ],
   "metadata": {
    "collapsed": false,
    "ExecuteTime": {
     "end_time": "2023-10-09T15:58:32.196396900Z",
     "start_time": "2023-10-09T15:58:32.182579600Z"
    }
   },
   "id": "5dcd9491d250b8c2"
  },
  {
   "cell_type": "code",
   "execution_count": 377,
   "outputs": [],
   "source": [
    "max_features = 5000"
   ],
   "metadata": {
    "collapsed": false,
    "ExecuteTime": {
     "end_time": "2023-10-09T15:58:32.220345500Z",
     "start_time": "2023-10-09T15:58:32.196396900Z"
    }
   },
   "id": "35631c4865fa96bc"
  },
  {
   "cell_type": "code",
   "execution_count": 378,
   "outputs": [],
   "source": [
    "count_vectorizer = CountVectorizer(max_features=max_features, stop_words='english')"
   ],
   "metadata": {
    "collapsed": false,
    "ExecuteTime": {
     "end_time": "2023-10-09T15:58:32.234358200Z",
     "start_time": "2023-10-09T15:58:32.212341Z"
    }
   },
   "id": "79f7985c20b37cc7"
  },
  {
   "cell_type": "code",
   "execution_count": 379,
   "outputs": [],
   "source": [
    "sparce_matrix = count_vectorizer.fit_transform(description_list).toarray()"
   ],
   "metadata": {
    "collapsed": false,
    "ExecuteTime": {
     "end_time": "2023-10-09T15:58:32.451001900Z",
     "start_time": "2023-10-09T15:58:32.229354200Z"
    }
   },
   "id": "29c2f774fc032eae"
  },
  {
   "cell_type": "code",
   "execution_count": 380,
   "outputs": [
    {
     "data": {
      "text/plain": "array([[1, 2, 1, ..., 1, 1, 1],\n       [1, 2, 1, ..., 1, 1, 1],\n       [1, 2, 1, ..., 1, 1, 1],\n       ...,\n       [1, 2, 1, ..., 1, 1, 1],\n       [1, 2, 1, ..., 1, 1, 1],\n       [1, 2, 1, ..., 1, 1, 1]], dtype=int64)"
     },
     "execution_count": 380,
     "metadata": {},
     "output_type": "execute_result"
    }
   ],
   "source": [
    "sparce_matrix"
   ],
   "metadata": {
    "collapsed": false,
    "ExecuteTime": {
     "end_time": "2023-10-09T15:58:32.466016600Z",
     "start_time": "2023-10-09T15:58:32.451001900Z"
    }
   },
   "id": "9b27f4ac27db5ea4"
  },
  {
   "cell_type": "code",
   "execution_count": 381,
   "outputs": [
    {
     "name": "stdout",
     "output_type": "stream",
     "text": [
      "Most used words 5000 ['band' 'best' 'cherish' 'chief' 'frontman' 'gig' 'incredible' 'kaiser'\n",
      " 'memory' 'ricky' 'thank' 'wilson' 'xxxx' 'xxxxxxx' 'year']\n"
     ]
    }
   ],
   "source": [
    "print(\"Most used words\", max_features, count_vectorizer.get_feature_names_out())"
   ],
   "metadata": {
    "collapsed": false,
    "ExecuteTime": {
     "end_time": "2023-10-09T15:58:32.502047900Z",
     "start_time": "2023-10-09T15:58:32.466016600Z"
    }
   },
   "id": "3cb8cd2c0a4bfefb"
  },
  {
   "cell_type": "code",
   "execution_count": 382,
   "outputs": [],
   "source": [
    "y = df.iloc[:, 0].values"
   ],
   "metadata": {
    "collapsed": false,
    "ExecuteTime": {
     "end_time": "2023-10-09T15:58:32.524052300Z",
     "start_time": "2023-10-09T15:58:32.481028200Z"
    }
   },
   "id": "3bb1da3043e433d0"
  },
  {
   "cell_type": "code",
   "execution_count": 383,
   "outputs": [],
   "source": [
    "from sklearn.model_selection import train_test_split"
   ],
   "metadata": {
    "collapsed": false,
    "ExecuteTime": {
     "end_time": "2023-10-09T15:58:32.538065300Z",
     "start_time": "2023-10-09T15:58:32.496041400Z"
    }
   },
   "id": "ac177505dd230e5c"
  },
  {
   "cell_type": "code",
   "execution_count": 384,
   "outputs": [],
   "source": [
    "x_train, x_test, y_train, y_test = train_test_split(sparce_matrix, y, test_size=0.3, random_state=42 )"
   ],
   "metadata": {
    "collapsed": false,
    "ExecuteTime": {
     "end_time": "2023-10-09T15:58:32.552077800Z",
     "start_time": "2023-10-09T15:58:32.511229100Z"
    }
   },
   "id": "ec428c91ad81ae8e"
  },
  {
   "cell_type": "code",
   "execution_count": 385,
   "outputs": [],
   "source": [
    "y_train = y_train.astype(np.int64)\n",
    "y_test = y_test.astype(np.int64)"
   ],
   "metadata": {
    "collapsed": false,
    "ExecuteTime": {
     "end_time": "2023-10-09T15:58:32.555080200Z",
     "start_time": "2023-10-09T15:58:32.528057600Z"
    }
   },
   "id": "233c0fec674f7cda"
  },
  {
   "cell_type": "code",
   "execution_count": 386,
   "outputs": [],
   "source": [
    "from sklearn.naive_bayes import GaussianNB"
   ],
   "metadata": {
    "collapsed": false,
    "ExecuteTime": {
     "end_time": "2023-10-09T15:58:32.569094500Z",
     "start_time": "2023-10-09T15:58:32.543071400Z"
    }
   },
   "id": "5a781d25b68d6809"
  },
  {
   "cell_type": "code",
   "execution_count": 387,
   "outputs": [
    {
     "data": {
      "text/plain": "GaussianNB()",
      "text/html": "<style>#sk-container-id-6 {color: black;}#sk-container-id-6 pre{padding: 0;}#sk-container-id-6 div.sk-toggleable {background-color: white;}#sk-container-id-6 label.sk-toggleable__label {cursor: pointer;display: block;width: 100%;margin-bottom: 0;padding: 0.3em;box-sizing: border-box;text-align: center;}#sk-container-id-6 label.sk-toggleable__label-arrow:before {content: \"▸\";float: left;margin-right: 0.25em;color: #696969;}#sk-container-id-6 label.sk-toggleable__label-arrow:hover:before {color: black;}#sk-container-id-6 div.sk-estimator:hover label.sk-toggleable__label-arrow:before {color: black;}#sk-container-id-6 div.sk-toggleable__content {max-height: 0;max-width: 0;overflow: hidden;text-align: left;background-color: #f0f8ff;}#sk-container-id-6 div.sk-toggleable__content pre {margin: 0.2em;color: black;border-radius: 0.25em;background-color: #f0f8ff;}#sk-container-id-6 input.sk-toggleable__control:checked~div.sk-toggleable__content {max-height: 200px;max-width: 100%;overflow: auto;}#sk-container-id-6 input.sk-toggleable__control:checked~label.sk-toggleable__label-arrow:before {content: \"▾\";}#sk-container-id-6 div.sk-estimator input.sk-toggleable__control:checked~label.sk-toggleable__label {background-color: #d4ebff;}#sk-container-id-6 div.sk-label input.sk-toggleable__control:checked~label.sk-toggleable__label {background-color: #d4ebff;}#sk-container-id-6 input.sk-hidden--visually {border: 0;clip: rect(1px 1px 1px 1px);clip: rect(1px, 1px, 1px, 1px);height: 1px;margin: -1px;overflow: hidden;padding: 0;position: absolute;width: 1px;}#sk-container-id-6 div.sk-estimator {font-family: monospace;background-color: #f0f8ff;border: 1px dotted black;border-radius: 0.25em;box-sizing: border-box;margin-bottom: 0.5em;}#sk-container-id-6 div.sk-estimator:hover {background-color: #d4ebff;}#sk-container-id-6 div.sk-parallel-item::after {content: \"\";width: 100%;border-bottom: 1px solid gray;flex-grow: 1;}#sk-container-id-6 div.sk-label:hover label.sk-toggleable__label {background-color: #d4ebff;}#sk-container-id-6 div.sk-serial::before {content: \"\";position: absolute;border-left: 1px solid gray;box-sizing: border-box;top: 0;bottom: 0;left: 50%;z-index: 0;}#sk-container-id-6 div.sk-serial {display: flex;flex-direction: column;align-items: center;background-color: white;padding-right: 0.2em;padding-left: 0.2em;position: relative;}#sk-container-id-6 div.sk-item {position: relative;z-index: 1;}#sk-container-id-6 div.sk-parallel {display: flex;align-items: stretch;justify-content: center;background-color: white;position: relative;}#sk-container-id-6 div.sk-item::before, #sk-container-id-6 div.sk-parallel-item::before {content: \"\";position: absolute;border-left: 1px solid gray;box-sizing: border-box;top: 0;bottom: 0;left: 50%;z-index: -1;}#sk-container-id-6 div.sk-parallel-item {display: flex;flex-direction: column;z-index: 1;position: relative;background-color: white;}#sk-container-id-6 div.sk-parallel-item:first-child::after {align-self: flex-end;width: 50%;}#sk-container-id-6 div.sk-parallel-item:last-child::after {align-self: flex-start;width: 50%;}#sk-container-id-6 div.sk-parallel-item:only-child::after {width: 0;}#sk-container-id-6 div.sk-dashed-wrapped {border: 1px dashed gray;margin: 0 0.4em 0.5em 0.4em;box-sizing: border-box;padding-bottom: 0.4em;background-color: white;}#sk-container-id-6 div.sk-label label {font-family: monospace;font-weight: bold;display: inline-block;line-height: 1.2em;}#sk-container-id-6 div.sk-label-container {text-align: center;}#sk-container-id-6 div.sk-container {/* jupyter's `normalize.less` sets `[hidden] { display: none; }` but bootstrap.min.css set `[hidden] { display: none !important; }` so we also need the `!important` here to be able to override the default hidden behavior on the sphinx rendered scikit-learn.org. See: https://github.com/scikit-learn/scikit-learn/issues/21755 */display: inline-block !important;position: relative;}#sk-container-id-6 div.sk-text-repr-fallback {display: none;}</style><div id=\"sk-container-id-6\" class=\"sk-top-container\"><div class=\"sk-text-repr-fallback\"><pre>GaussianNB()</pre><b>In a Jupyter environment, please rerun this cell to show the HTML representation or trust the notebook. <br />On GitHub, the HTML representation is unable to render, please try loading this page with nbviewer.org.</b></div><div class=\"sk-container\" hidden><div class=\"sk-item\"><div class=\"sk-estimator sk-toggleable\"><input class=\"sk-toggleable__control sk-hidden--visually\" id=\"sk-estimator-id-6\" type=\"checkbox\" checked><label for=\"sk-estimator-id-6\" class=\"sk-toggleable__label sk-toggleable__label-arrow\">GaussianNB</label><div class=\"sk-toggleable__content\"><pre>GaussianNB()</pre></div></div></div></div></div>"
     },
     "execution_count": 387,
     "metadata": {},
     "output_type": "execute_result"
    }
   ],
   "source": [
    "nb = GaussianNB()\n",
    "nb.fit(x_train, y_train)"
   ],
   "metadata": {
    "collapsed": false,
    "ExecuteTime": {
     "end_time": "2023-10-09T15:58:32.581105900Z",
     "start_time": "2023-10-09T15:58:32.558083400Z"
    }
   },
   "id": "73b2090ab745e548"
  },
  {
   "cell_type": "code",
   "execution_count": 388,
   "outputs": [
    {
     "name": "stderr",
     "output_type": "stream",
     "text": [
      "C:\\Users\\ekber\\AppData\\Local\\Programs\\Python\\Python310\\lib\\site-packages\\sklearn\\naive_bayes.py:510: RuntimeWarning: divide by zero encountered in log\n",
      "  n_ij = -0.5 * np.sum(np.log(2.0 * np.pi * self.var_[i, :]))\n",
      "C:\\Users\\ekber\\AppData\\Local\\Programs\\Python\\Python310\\lib\\site-packages\\sklearn\\naive_bayes.py:511: RuntimeWarning: invalid value encountered in divide\n",
      "  n_ij -= 0.5 * np.sum(((X - self.theta_[i, :]) ** 2) / (self.var_[i, :]), 1)\n"
     ]
    }
   ],
   "source": [
    "y_pred = nb.predict(x_test)\n",
    "y_pred = y_pred.reshape(-1, 1)"
   ],
   "metadata": {
    "collapsed": false,
    "ExecuteTime": {
     "end_time": "2023-10-09T15:58:32.611131400Z",
     "start_time": "2023-10-09T15:58:32.574098400Z"
    }
   },
   "id": "195fca8367e8dafd"
  },
  {
   "cell_type": "code",
   "execution_count": 389,
   "outputs": [
    {
     "ename": "ValueError",
     "evalue": "X has 1 features, but GaussianNB is expecting 15 features as input.",
     "output_type": "error",
     "traceback": [
      "\u001B[1;31m---------------------------------------------------------------------------\u001B[0m",
      "\u001B[1;31mValueError\u001B[0m                                Traceback (most recent call last)",
      "Cell \u001B[1;32mIn[389], line 1\u001B[0m\n\u001B[1;32m----> 1\u001B[0m \u001B[38;5;28mprint\u001B[39m(\u001B[38;5;124m\"\u001B[39m\u001B[38;5;124mAccuracy:\u001B[39m\u001B[38;5;124m\"\u001B[39m, \u001B[43mnb\u001B[49m\u001B[38;5;241;43m.\u001B[39;49m\u001B[43mscore\u001B[49m\u001B[43m(\u001B[49m\u001B[43my_pred\u001B[49m\u001B[43m,\u001B[49m\u001B[43m \u001B[49m\u001B[43my_test\u001B[49m\u001B[43m)\u001B[49m)\n",
      "File \u001B[1;32m~\\AppData\\Local\\Programs\\Python\\Python310\\lib\\site-packages\\sklearn\\base.py:706\u001B[0m, in \u001B[0;36mClassifierMixin.score\u001B[1;34m(self, X, y, sample_weight)\u001B[0m\n\u001B[0;32m    681\u001B[0m \u001B[38;5;250m\u001B[39m\u001B[38;5;124;03m\"\"\"\u001B[39;00m\n\u001B[0;32m    682\u001B[0m \u001B[38;5;124;03mReturn the mean accuracy on the given test data and labels.\u001B[39;00m\n\u001B[0;32m    683\u001B[0m \n\u001B[1;32m   (...)\u001B[0m\n\u001B[0;32m    702\u001B[0m \u001B[38;5;124;03m    Mean accuracy of ``self.predict(X)`` w.r.t. `y`.\u001B[39;00m\n\u001B[0;32m    703\u001B[0m \u001B[38;5;124;03m\"\"\"\u001B[39;00m\n\u001B[0;32m    704\u001B[0m \u001B[38;5;28;01mfrom\u001B[39;00m \u001B[38;5;21;01m.\u001B[39;00m\u001B[38;5;21;01mmetrics\u001B[39;00m \u001B[38;5;28;01mimport\u001B[39;00m accuracy_score\n\u001B[1;32m--> 706\u001B[0m \u001B[38;5;28;01mreturn\u001B[39;00m accuracy_score(y, \u001B[38;5;28;43mself\u001B[39;49m\u001B[38;5;241;43m.\u001B[39;49m\u001B[43mpredict\u001B[49m\u001B[43m(\u001B[49m\u001B[43mX\u001B[49m\u001B[43m)\u001B[49m, sample_weight\u001B[38;5;241m=\u001B[39msample_weight)\n",
      "File \u001B[1;32m~\\AppData\\Local\\Programs\\Python\\Python310\\lib\\site-packages\\sklearn\\naive_bayes.py:101\u001B[0m, in \u001B[0;36m_BaseNB.predict\u001B[1;34m(self, X)\u001B[0m\n\u001B[0;32m     87\u001B[0m \u001B[38;5;250m\u001B[39m\u001B[38;5;124;03m\"\"\"\u001B[39;00m\n\u001B[0;32m     88\u001B[0m \u001B[38;5;124;03mPerform classification on an array of test vectors X.\u001B[39;00m\n\u001B[0;32m     89\u001B[0m \n\u001B[1;32m   (...)\u001B[0m\n\u001B[0;32m     98\u001B[0m \u001B[38;5;124;03m    Predicted target values for X.\u001B[39;00m\n\u001B[0;32m     99\u001B[0m \u001B[38;5;124;03m\"\"\"\u001B[39;00m\n\u001B[0;32m    100\u001B[0m check_is_fitted(\u001B[38;5;28mself\u001B[39m)\n\u001B[1;32m--> 101\u001B[0m X \u001B[38;5;241m=\u001B[39m \u001B[38;5;28;43mself\u001B[39;49m\u001B[38;5;241;43m.\u001B[39;49m\u001B[43m_check_X\u001B[49m\u001B[43m(\u001B[49m\u001B[43mX\u001B[49m\u001B[43m)\u001B[49m\n\u001B[0;32m    102\u001B[0m jll \u001B[38;5;241m=\u001B[39m \u001B[38;5;28mself\u001B[39m\u001B[38;5;241m.\u001B[39m_joint_log_likelihood(X)\n\u001B[0;32m    103\u001B[0m \u001B[38;5;28;01mreturn\u001B[39;00m \u001B[38;5;28mself\u001B[39m\u001B[38;5;241m.\u001B[39mclasses_[np\u001B[38;5;241m.\u001B[39margmax(jll, axis\u001B[38;5;241m=\u001B[39m\u001B[38;5;241m1\u001B[39m)]\n",
      "File \u001B[1;32m~\\AppData\\Local\\Programs\\Python\\Python310\\lib\\site-packages\\sklearn\\naive_bayes.py:269\u001B[0m, in \u001B[0;36mGaussianNB._check_X\u001B[1;34m(self, X)\u001B[0m\n\u001B[0;32m    267\u001B[0m \u001B[38;5;28;01mdef\u001B[39;00m \u001B[38;5;21m_check_X\u001B[39m(\u001B[38;5;28mself\u001B[39m, X):\n\u001B[0;32m    268\u001B[0m \u001B[38;5;250m    \u001B[39m\u001B[38;5;124;03m\"\"\"Validate X, used only in predict* methods.\"\"\"\u001B[39;00m\n\u001B[1;32m--> 269\u001B[0m     \u001B[38;5;28;01mreturn\u001B[39;00m \u001B[38;5;28;43mself\u001B[39;49m\u001B[38;5;241;43m.\u001B[39;49m\u001B[43m_validate_data\u001B[49m\u001B[43m(\u001B[49m\u001B[43mX\u001B[49m\u001B[43m,\u001B[49m\u001B[43m \u001B[49m\u001B[43mreset\u001B[49m\u001B[38;5;241;43m=\u001B[39;49m\u001B[38;5;28;43;01mFalse\u001B[39;49;00m\u001B[43m)\u001B[49m\n",
      "File \u001B[1;32m~\\AppData\\Local\\Programs\\Python\\Python310\\lib\\site-packages\\sklearn\\base.py:626\u001B[0m, in \u001B[0;36mBaseEstimator._validate_data\u001B[1;34m(self, X, y, reset, validate_separately, cast_to_ndarray, **check_params)\u001B[0m\n\u001B[0;32m    623\u001B[0m     out \u001B[38;5;241m=\u001B[39m X, y\n\u001B[0;32m    625\u001B[0m \u001B[38;5;28;01mif\u001B[39;00m \u001B[38;5;129;01mnot\u001B[39;00m no_val_X \u001B[38;5;129;01mand\u001B[39;00m check_params\u001B[38;5;241m.\u001B[39mget(\u001B[38;5;124m\"\u001B[39m\u001B[38;5;124mensure_2d\u001B[39m\u001B[38;5;124m\"\u001B[39m, \u001B[38;5;28;01mTrue\u001B[39;00m):\n\u001B[1;32m--> 626\u001B[0m     \u001B[38;5;28;43mself\u001B[39;49m\u001B[38;5;241;43m.\u001B[39;49m\u001B[43m_check_n_features\u001B[49m\u001B[43m(\u001B[49m\u001B[43mX\u001B[49m\u001B[43m,\u001B[49m\u001B[43m \u001B[49m\u001B[43mreset\u001B[49m\u001B[38;5;241;43m=\u001B[39;49m\u001B[43mreset\u001B[49m\u001B[43m)\u001B[49m\n\u001B[0;32m    628\u001B[0m \u001B[38;5;28;01mreturn\u001B[39;00m out\n",
      "File \u001B[1;32m~\\AppData\\Local\\Programs\\Python\\Python310\\lib\\site-packages\\sklearn\\base.py:415\u001B[0m, in \u001B[0;36mBaseEstimator._check_n_features\u001B[1;34m(self, X, reset)\u001B[0m\n\u001B[0;32m    412\u001B[0m     \u001B[38;5;28;01mreturn\u001B[39;00m\n\u001B[0;32m    414\u001B[0m \u001B[38;5;28;01mif\u001B[39;00m n_features \u001B[38;5;241m!=\u001B[39m \u001B[38;5;28mself\u001B[39m\u001B[38;5;241m.\u001B[39mn_features_in_:\n\u001B[1;32m--> 415\u001B[0m     \u001B[38;5;28;01mraise\u001B[39;00m \u001B[38;5;167;01mValueError\u001B[39;00m(\n\u001B[0;32m    416\u001B[0m         \u001B[38;5;124mf\u001B[39m\u001B[38;5;124m\"\u001B[39m\u001B[38;5;124mX has \u001B[39m\u001B[38;5;132;01m{\u001B[39;00mn_features\u001B[38;5;132;01m}\u001B[39;00m\u001B[38;5;124m features, but \u001B[39m\u001B[38;5;132;01m{\u001B[39;00m\u001B[38;5;28mself\u001B[39m\u001B[38;5;241m.\u001B[39m\u001B[38;5;18m__class__\u001B[39m\u001B[38;5;241m.\u001B[39m\u001B[38;5;18m__name__\u001B[39m\u001B[38;5;132;01m}\u001B[39;00m\u001B[38;5;124m \u001B[39m\u001B[38;5;124m\"\u001B[39m\n\u001B[0;32m    417\u001B[0m         \u001B[38;5;124mf\u001B[39m\u001B[38;5;124m\"\u001B[39m\u001B[38;5;124mis expecting \u001B[39m\u001B[38;5;132;01m{\u001B[39;00m\u001B[38;5;28mself\u001B[39m\u001B[38;5;241m.\u001B[39mn_features_in_\u001B[38;5;132;01m}\u001B[39;00m\u001B[38;5;124m features as input.\u001B[39m\u001B[38;5;124m\"\u001B[39m\n\u001B[0;32m    418\u001B[0m     )\n",
      "\u001B[1;31mValueError\u001B[0m: X has 1 features, but GaussianNB is expecting 15 features as input."
     ]
    }
   ],
   "source": [
    "print(\"Accuracy:\", nb.score(y_pred, y_test))"
   ],
   "metadata": {
    "collapsed": false,
    "ExecuteTime": {
     "end_time": "2023-10-09T15:58:32.665180700Z",
     "start_time": "2023-10-09T15:58:32.589113800Z"
    }
   },
   "id": "64fe7d6fe3a9eec8"
  }
 ],
 "metadata": {
  "kernelspec": {
   "display_name": "Python 3",
   "language": "python",
   "name": "python3"
  },
  "language_info": {
   "codemirror_mode": {
    "name": "ipython",
    "version": 2
   },
   "file_extension": ".py",
   "mimetype": "text/x-python",
   "name": "python",
   "nbconvert_exporter": "python",
   "pygments_lexer": "ipython2",
   "version": "2.7.6"
  }
 },
 "nbformat": 4,
 "nbformat_minor": 5
}
